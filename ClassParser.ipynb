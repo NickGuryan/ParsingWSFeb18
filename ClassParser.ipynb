{
 "cells": [
  {
   "cell_type": "code",
   "execution_count": 1,
   "metadata": {
    "collapsed": true
   },
   "outputs": [],
   "source": [
    "import pandas as pd\n",
    "import requests\n",
    "from lxml import html\n",
    "from fake_useragent import UserAgent\n",
    "from time import sleep\n",
    "from random import randint\n",
    "from tqdm import tqdm, trange"
   ]
  },
  {
   "cell_type": "markdown",
   "metadata": {},
   "source": [
    "<b>Постановка задачи</b><br>\n",
    "Спарсить все рестораны Москвы(данные, отзывы, изображения) с сайта restoran.ru"
   ]
  },
  {
   "cell_type": "markdown",
   "metadata": {},
   "source": [
    "<i>Тест 1</i> - проверка на чувствительность к парсингу"
   ]
  },
  {
   "cell_type": "code",
   "execution_count": 11,
   "metadata": {
    "collapsed": true
   },
   "outputs": [],
   "source": [
    "page = requests.get('https://www.restoran.ru/msk/catalog/restaurants/all/') #первая страница каталога ресторанов"
   ]
  },
  {
   "cell_type": "code",
   "execution_count": 17,
   "metadata": {},
   "outputs": [
    {
     "data": {
      "text/plain": [
       "200"
      ]
     },
     "execution_count": 17,
     "metadata": {},
     "output_type": "execute_result"
    }
   ],
   "source": [
    "page.status_code"
   ]
  },
  {
   "cell_type": "code",
   "execution_count": 12,
   "metadata": {
    "collapsed": true
   },
   "outputs": [],
   "source": [
    "data = html.fromstring(page.text)"
   ]
  },
  {
   "cell_type": "code",
   "execution_count": 13,
   "metadata": {
    "collapsed": true
   },
   "outputs": [],
   "source": [
    "#Из кода сайта мы знаем, что все рестораны хранятся в блоке <div class=\"priority-list\">\n",
    "#отдельный ресторан хранится в блоке <div class=\"item\">\n",
    "#отсюда получаем список ресторанов rest_list\n",
    "rest_list = data.xpath('//div[@class=\"priority-list\"]/div[@class=\"item\"]') "
   ]
  },
  {
   "cell_type": "code",
   "execution_count": 39,
   "metadata": {},
   "outputs": [
    {
     "name": "stdout",
     "output_type": "stream",
     "text": [
      "КМ\n",
      "Ресторан\n",
      "Sixty / Сиксти\n",
      "Забронировать столик\n",
      "Смотреть на карте\n",
      "4.5\n",
      "262 отзыва\n",
      "В избранное\n",
      "Реклама\n",
      "Кухня:\n",
      "Средиземноморская, Итальянская, Русская\n",
      "Средний счет :\n",
      "3000-4000р\n",
      "Время работы:\n",
      "пн-вс с 12:00 до последнего гостя\n",
      "Телефон:\n",
      "+7 (495) 988-26-56\n",
      "Адрес:\n",
      "Москва, Пресненская наб., д. 12\n",
      "M\n",
      "Международная (331 м)\n",
      "Охраняемая платная\n"
     ]
    }
   ],
   "source": [
    "#На примере первого ресторана в списке, узнаем какие данные мы получили в явном виде\n",
    "for item in rest_list[0].text_content().split('\\n'):\n",
    "    if item != '':\n",
    "        print(item.strip())"
   ]
  },
  {
   "cell_type": "markdown",
   "metadata": {},
   "source": [
    "Очевидно, что в явном виде получили поля:\n",
    "<ul>\n",
    "<li>Название ресторан</li>\n",
    "<li>Рейтинг</li>\n",
    "<li>Количество отзывов</li>\n",
    "<li>Премиумность ресторана(готов ли владельцы платить нам за потенциальных клиентов)</li>\n",
    "<li>Типы кухни</li>\n",
    "<li>Средний счет</li>\n",
    "<li>Время работы</li>\n",
    "<li>Номер телефона</li>\n",
    "<li>Адрес</li>\n",
    "<li>Тип парковки</li>\n",
    "</ul>\n",
    "Неплохо конечно, но хотелось бы и линк на ресторан, и фотографии, и отзывы, да и данных побольше. Как с этим быть?\n",
    "Помимо явных данных, мы можем вытащить и неявные данные. Вот здесь начинается магия!!!<br>\n",
    "<i>Неявные данные</i> - данные, передаваемые непосредственно в коде сайта и не предназначенные для отображения конечному пользователю, но видимые для поисковых роботов<s> и программистов</s>.<br>\n",
    "Чтобы получить неявные данные необходимо взглянуть на код сайта, а конкретно в нашем случае, на код внутри элемента div с class=\"item\""
   ]
  },
  {
   "cell_type": "markdown",
   "metadata": {},
   "source": [
    "<i>Номер 1</i>\n",
    "Сразу получаем Широту, Долготу(lon,lat) и ID ресторана на сайте\n",
    "![T_start](ws1.png)"
   ]
  },
  {
   "cell_type": "markdown",
   "metadata": {},
   "source": [
    "<i>Номер 2</i> Получаем ссылку на ресторан внутри сайта restoran.ru и, о боги, полный список изображений ресторана(правда, с не очень подходящим для нас размером)\n",
    "![T_start](ws2.png)"
   ]
  },
  {
   "cell_type": "markdown",
   "metadata": {},
   "source": [
    "<i>Номер 3</i> Еще немного потусили в коде и уже получили ссылку на отзывы для ресторана\n",
    "![T_start](ws3.png)"
   ]
  },
  {
   "cell_type": "markdown",
   "metadata": {},
   "source": [
    "<i>Номер 4</i> Вот и еще данные - рубрикатор по кухне и метро(здесь важна и транслитная часть названий)\n",
    "![T_start](ws4.png)"
   ]
  },
  {
   "cell_type": "markdown",
   "metadata": {},
   "source": [
    "Таким образом, мы получили общую картину происходящего и начальный плацдарм для парсинга. Следующий шаг - определение стратегии парсинга"
   ]
  },
  {
   "cell_type": "markdown",
   "metadata": {},
   "source": [
    "## Стратегия парсинга"
   ]
  },
  {
   "cell_type": "markdown",
   "metadata": {},
   "source": [
    "Стратегия парсинга определяется из начальных условий задачи:\n",
    "<ol>\n",
    "<li>Время на парсинг</li>\n",
    "<li>Полнота данных</li>\n",
    "<li>Качество данных</li>\n",
    "</ol>\n",
    "Для данного проекта следующие начальные условия: быстрый парсинг(1-3 дня), самые полные данные, очень чистые и красивые данные."
   ]
  },
  {
   "cell_type": "markdown",
   "metadata": {},
   "source": [
    "Взглянув на полученную нами картину, мы можем выбрать оптимальную стратегию парсинга.\n",
    "### 1. Наивный вариант\n",
    "Пробегаем все страницы каталога и забираем явные не явные данные, получаем: <i>N страниц каталогов* время на одну страницы (1)</i><br>\n",
    "Стоп, но ведь нам нужны описания и отзывы о ресторанах?\n",
    "То есть, нам надо зайти на каждую страницу сайта, забрать с нее описание, а затем зайти на каждую страницу отзывов и забрать все отзывы. Как-то не очень эффективно <i>[(формула 1) + (M страниц ресторанов * время на одну страницу) + (K страниц отзывов * время на одну страниц)]</i>, мягко говоря, да и по времени просядем, а еще и IP поблочат за частые обращения к серверу(DDoS не пройдет).<br> \n",
    "К сожалению, в рамках данного проекта лайфхаки и фишечки, ускоряющие процесс парсинга не работают и наивный вариант является единственным верным(стохастический варианты и случайные блуждания мы рассматривать не будем, эти концепции не подходят по начальным условиям нашего проекта)."
   ]
  },
  {
   "cell_type": "markdown",
   "metadata": {},
   "source": [
    "Очевидно, что парсинг разбивается на 3 этапа:\n",
    "<ol><li>Парсинг каталога</li><li>Парсинг описаний(+можем допарсить какие-нибудь свистелки/перделки)</li><li>Парсинг отзывов</li></ol>\n",
    "Опять же, очевидно, что это три разных класса. Причем, классы 2 и 3 зависят только от класса 1, а друг от друга не зависят. Таким образом, первым делом мы будем писать класс-парсер 1, т.е. парсинг каталога."
   ]
  },
  {
   "cell_type": "code",
   "execution_count": 145,
   "metadata": {
    "collapsed": true
   },
   "outputs": [],
   "source": [
    "class Catalog():\n",
    "    def __init__(self):\n",
    "        self.res_data = pd.DataFrame()\n",
    "        #self.t_page = 0\n",
    "        \n",
    "    def __getRestList(self, page_num):\n",
    "        t = randint(2, 6)\n",
    "        print('Delay %s s.' % (t))\n",
    "        sleep(t)\n",
    "        page = requests.get('https://www.restoran.ru/msk/catalog/restaurants/all/?page={}'.format(page_num))\n",
    "        data = html.fromstring(page.text)\n",
    "        rest_list = data.xpath('//div[@class=\"priority-list\"]/div[@class=\"item\"]') \n",
    "        print('-------------CODE %s-------------' % (page.status_code))\n",
    "        print('-------------%s rests on page %s-------------' % (len(rest_list), page_num))\n",
    "        return (rest_list, page.status_code)\n",
    "    \n",
    "    def __getProp(self, item, prop_name):\n",
    "        try:\n",
    "            props = item.cssselect('div.props div.prop')\n",
    "        except:\n",
    "            return '-'\n",
    "\n",
    "        for prop in props:\n",
    "            try:#проверка наличия свойств у элемента\n",
    "                #print(prop.cssselect('div.name')[0].text_content().lower())\n",
    "                if prop_name.lower() in prop.cssselect('div.name')[0].text_content().lower():\n",
    "                    return prop.cssselect('div.value')[0].text_content().replace('\\n','').strip()\n",
    "            except:\n",
    "                return '-'\n",
    "        else:\n",
    "            return '-'\n",
    "    \n",
    "    def __getMetro(self, item):\n",
    "        try:\n",
    "            prop = item.cssselect('div.props div.wsubway')[0]\n",
    "        except:\n",
    "            return '-'\n",
    "        try:\n",
    "            return prop.cssselect('div.value')[0].text_content().replace('\\n','').strip()\n",
    "        except:\n",
    "            return '-'\n",
    "    \n",
    "    def __getDataFromHTML(self, html_data):\n",
    "        res = {}\n",
    "        for item in html_data: #changet to html_data\n",
    "            ID = item.xpath('div')[0].attrib.get('this-rest-id')\n",
    "            lon = item.xpath('div')[0].attrib.get('lon')\n",
    "            lat = item.xpath('div')[0].attrib.get('lat')\n",
    "\n",
    "            ##########.names-start############\n",
    "            try:\n",
    "                rest_type = item.cssselect('div.names div.type')[0].text_content().replace('\\n','').strip()\n",
    "            except:\n",
    "                rest_type = '-'\n",
    "\n",
    "            try:\n",
    "                title = item.cssselect('div.names h2 a')[0].text_content().replace('\\n','').strip()\n",
    "                link = item.cssselect('div.names h2 a')[0].attrib.get('href')\n",
    "            except:\n",
    "                title = '-'\n",
    "                link = '-'\n",
    "\n",
    "            try:\n",
    "                rating = item.cssselect('div.names div.list-rating-wrap span')[0].text_content().replace('\\n','').strip()\n",
    "            except:\n",
    "                rating = 0\n",
    "\n",
    "            try:\n",
    "                review_count = item.cssselect('div.names div.list-ration-favorite-wrap div')[1].xpath('a')[0].text_content().replace('\\n','').strip()\n",
    "                review_link = item.cssselect('div.names div.list-ration-favorite-wrap div')[1].xpath('a')[0].attrib.get('href')\n",
    "            except:\n",
    "                review_count = 0\n",
    "                review_link = '-'\n",
    "            ##########.names-end############\n",
    "\n",
    "            ##########.props-start############\n",
    "            try:\n",
    "                if item.cssselect('div.props div.re')[0].text_content() != '':\n",
    "                    premium = True\n",
    "                else:\n",
    "                    premium = False\n",
    "            except:\n",
    "                premium = False\n",
    "            ##########.props-end############\n",
    "            \n",
    "            res[ID] = {\n",
    "                            'title':title,\n",
    "                            'link':link,\n",
    "                            'rating':rating,\n",
    "                            'review_count':review_count,\n",
    "                            'review_link':review_link,\n",
    "                            'lon':lon,\n",
    "                            'lat':lat,\n",
    "                            'type':rest_type,\n",
    "                            'premium':premium,\n",
    "                            'kitchen':self.__getProp(item, 'кухня'),\n",
    "                            'avrCheck':self.__getProp(item, 'средний счет'),\n",
    "                            'timing':self.__getProp(item, 'время работы'),\n",
    "                            'address':self.__getProp(item, 'адрес'),\n",
    "                            'phone':self.__getProp(item, 'телефон'),\n",
    "                            'metro':self.__getMetro(item)\n",
    "                            }\n",
    "\n",
    "        return pd.DataFrame.from_dict(res, orient='index')\n",
    "\n",
    "    def run(self, start_page = 0):\n",
    "        page = start_page\n",
    "        status_code = 200\n",
    "        while status_code == 200 and page < 68:\n",
    "            print('-------------PAGE %s PARSING-------------' % (page))\n",
    "            data, status_code = self.__getRestList(page)\n",
    "            parse_data = self.__getDataFromHTML(data)\n",
    "            self.res_data = self.res_data.append(parse_data)\n",
    "            print('-------------%s rests append to frame. Shape of frame: %s @ %s-------------' % (parse_data.shape[0], self.res_data.shape[0], self.res_data.shape[1]))\n",
    "            page += 1"
   ]
  },
  {
   "cell_type": "code",
   "execution_count": 146,
   "metadata": {
    "collapsed": true
   },
   "outputs": [],
   "source": [
    "a = Catalog()"
   ]
  },
  {
   "cell_type": "code",
   "execution_count": 148,
   "metadata": {
    "scrolled": true
   },
   "outputs": [
    {
     "name": "stdout",
     "output_type": "stream",
     "text": [
      "-------------PAGE 0 PARSING-------------\n",
      "Delay 5 s.\n",
      "-------------CODE 200-------------\n",
      "-------------20 rests on page 0-------------\n",
      "-------------20 rests append to frame. Shape of frame: 20 @ 15-------------\n",
      "-------------PAGE 1 PARSING-------------\n",
      "Delay 2 s.\n",
      "-------------CODE 200-------------\n",
      "-------------20 rests on page 1-------------\n",
      "-------------20 rests append to frame. Shape of frame: 40 @ 15-------------\n",
      "-------------PAGE 2 PARSING-------------\n",
      "Delay 2 s.\n",
      "-------------CODE 200-------------\n",
      "-------------20 rests on page 2-------------\n",
      "-------------20 rests append to frame. Shape of frame: 60 @ 15-------------\n",
      "-------------PAGE 3 PARSING-------------\n",
      "Delay 5 s.\n",
      "-------------CODE 200-------------\n",
      "-------------20 rests on page 3-------------\n",
      "-------------20 rests append to frame. Shape of frame: 80 @ 15-------------\n",
      "-------------PAGE 4 PARSING-------------\n",
      "Delay 4 s.\n",
      "-------------CODE 200-------------\n",
      "-------------20 rests on page 4-------------\n",
      "-------------20 rests append to frame. Shape of frame: 100 @ 15-------------\n",
      "-------------PAGE 5 PARSING-------------\n",
      "Delay 2 s.\n",
      "-------------CODE 200-------------\n",
      "-------------20 rests on page 5-------------\n",
      "-------------20 rests append to frame. Shape of frame: 120 @ 15-------------\n",
      "-------------PAGE 6 PARSING-------------\n",
      "Delay 2 s.\n",
      "-------------CODE 200-------------\n",
      "-------------20 rests on page 6-------------\n",
      "-------------20 rests append to frame. Shape of frame: 140 @ 15-------------\n",
      "-------------PAGE 7 PARSING-------------\n",
      "Delay 3 s.\n",
      "-------------CODE 200-------------\n",
      "-------------20 rests on page 7-------------\n",
      "-------------20 rests append to frame. Shape of frame: 160 @ 15-------------\n",
      "-------------PAGE 8 PARSING-------------\n",
      "Delay 3 s.\n",
      "-------------CODE 200-------------\n",
      "-------------20 rests on page 8-------------\n",
      "-------------20 rests append to frame. Shape of frame: 180 @ 15-------------\n",
      "-------------PAGE 9 PARSING-------------\n",
      "Delay 5 s.\n",
      "-------------CODE 200-------------\n",
      "-------------20 rests on page 9-------------\n",
      "-------------20 rests append to frame. Shape of frame: 200 @ 15-------------\n",
      "-------------PAGE 10 PARSING-------------\n",
      "Delay 3 s.\n",
      "-------------CODE 200-------------\n",
      "-------------20 rests on page 10-------------\n",
      "-------------20 rests append to frame. Shape of frame: 220 @ 15-------------\n",
      "-------------PAGE 11 PARSING-------------\n",
      "Delay 5 s.\n",
      "-------------CODE 200-------------\n",
      "-------------20 rests on page 11-------------\n",
      "-------------20 rests append to frame. Shape of frame: 240 @ 15-------------\n",
      "-------------PAGE 12 PARSING-------------\n",
      "Delay 2 s.\n",
      "-------------CODE 200-------------\n",
      "-------------20 rests on page 12-------------\n",
      "-------------20 rests append to frame. Shape of frame: 260 @ 15-------------\n",
      "-------------PAGE 13 PARSING-------------\n",
      "Delay 2 s.\n",
      "-------------CODE 200-------------\n",
      "-------------20 rests on page 13-------------\n",
      "-------------20 rests append to frame. Shape of frame: 280 @ 15-------------\n",
      "-------------PAGE 14 PARSING-------------\n",
      "Delay 4 s.\n",
      "-------------CODE 200-------------\n",
      "-------------20 rests on page 14-------------\n",
      "-------------20 rests append to frame. Shape of frame: 300 @ 15-------------\n",
      "-------------PAGE 15 PARSING-------------\n",
      "Delay 2 s.\n",
      "-------------CODE 200-------------\n",
      "-------------20 rests on page 15-------------\n",
      "-------------20 rests append to frame. Shape of frame: 320 @ 15-------------\n",
      "-------------PAGE 16 PARSING-------------\n",
      "Delay 2 s.\n",
      "-------------CODE 200-------------\n",
      "-------------20 rests on page 16-------------\n",
      "-------------20 rests append to frame. Shape of frame: 340 @ 15-------------\n",
      "-------------PAGE 17 PARSING-------------\n",
      "Delay 6 s.\n",
      "-------------CODE 200-------------\n",
      "-------------20 rests on page 17-------------\n",
      "-------------20 rests append to frame. Shape of frame: 360 @ 15-------------\n",
      "-------------PAGE 18 PARSING-------------\n",
      "Delay 3 s.\n",
      "-------------CODE 200-------------\n",
      "-------------20 rests on page 18-------------\n",
      "-------------20 rests append to frame. Shape of frame: 380 @ 15-------------\n",
      "-------------PAGE 19 PARSING-------------\n",
      "Delay 6 s.\n",
      "-------------CODE 200-------------\n",
      "-------------20 rests on page 19-------------\n",
      "-------------20 rests append to frame. Shape of frame: 400 @ 15-------------\n",
      "-------------PAGE 20 PARSING-------------\n",
      "Delay 4 s.\n",
      "-------------CODE 200-------------\n",
      "-------------20 rests on page 20-------------\n",
      "-------------20 rests append to frame. Shape of frame: 420 @ 15-------------\n",
      "-------------PAGE 21 PARSING-------------\n",
      "Delay 3 s.\n",
      "-------------CODE 200-------------\n",
      "-------------20 rests on page 21-------------\n",
      "-------------20 rests append to frame. Shape of frame: 440 @ 15-------------\n",
      "-------------PAGE 22 PARSING-------------\n",
      "Delay 2 s.\n",
      "-------------CODE 200-------------\n",
      "-------------20 rests on page 22-------------\n",
      "-------------20 rests append to frame. Shape of frame: 460 @ 15-------------\n",
      "-------------PAGE 23 PARSING-------------\n",
      "Delay 6 s.\n",
      "-------------CODE 200-------------\n",
      "-------------20 rests on page 23-------------\n",
      "-------------20 rests append to frame. Shape of frame: 480 @ 15-------------\n",
      "-------------PAGE 24 PARSING-------------\n",
      "Delay 3 s.\n",
      "-------------CODE 200-------------\n",
      "-------------20 rests on page 24-------------\n",
      "-------------20 rests append to frame. Shape of frame: 500 @ 15-------------\n",
      "-------------PAGE 25 PARSING-------------\n",
      "Delay 4 s.\n",
      "-------------CODE 200-------------\n",
      "-------------20 rests on page 25-------------\n",
      "-------------20 rests append to frame. Shape of frame: 520 @ 15-------------\n",
      "-------------PAGE 26 PARSING-------------\n",
      "Delay 4 s.\n",
      "-------------CODE 200-------------\n",
      "-------------20 rests on page 26-------------\n",
      "-------------20 rests append to frame. Shape of frame: 540 @ 15-------------\n",
      "-------------PAGE 27 PARSING-------------\n",
      "Delay 4 s.\n",
      "-------------CODE 200-------------\n",
      "-------------20 rests on page 27-------------\n",
      "-------------20 rests append to frame. Shape of frame: 560 @ 15-------------\n",
      "-------------PAGE 28 PARSING-------------\n",
      "Delay 6 s.\n",
      "-------------CODE 200-------------\n",
      "-------------20 rests on page 28-------------\n",
      "-------------20 rests append to frame. Shape of frame: 580 @ 15-------------\n",
      "-------------PAGE 29 PARSING-------------\n",
      "Delay 3 s.\n",
      "-------------CODE 200-------------\n",
      "-------------20 rests on page 29-------------\n",
      "-------------20 rests append to frame. Shape of frame: 600 @ 15-------------\n",
      "-------------PAGE 30 PARSING-------------\n",
      "Delay 3 s.\n",
      "-------------CODE 200-------------\n",
      "-------------20 rests on page 30-------------\n",
      "-------------20 rests append to frame. Shape of frame: 620 @ 15-------------\n",
      "-------------PAGE 31 PARSING-------------\n",
      "Delay 2 s.\n",
      "-------------CODE 200-------------\n",
      "-------------20 rests on page 31-------------\n",
      "-------------20 rests append to frame. Shape of frame: 640 @ 15-------------\n",
      "-------------PAGE 32 PARSING-------------\n",
      "Delay 5 s.\n",
      "-------------CODE 200-------------\n",
      "-------------20 rests on page 32-------------\n",
      "-------------20 rests append to frame. Shape of frame: 660 @ 15-------------\n",
      "-------------PAGE 33 PARSING-------------\n",
      "Delay 3 s.\n",
      "-------------CODE 200-------------\n",
      "-------------20 rests on page 33-------------\n",
      "-------------20 rests append to frame. Shape of frame: 680 @ 15-------------\n",
      "-------------PAGE 34 PARSING-------------\n",
      "Delay 6 s.\n",
      "-------------CODE 200-------------\n",
      "-------------20 rests on page 34-------------\n",
      "-------------20 rests append to frame. Shape of frame: 700 @ 15-------------\n",
      "-------------PAGE 35 PARSING-------------\n",
      "Delay 2 s.\n",
      "-------------CODE 200-------------\n",
      "-------------20 rests on page 35-------------\n",
      "-------------20 rests append to frame. Shape of frame: 720 @ 15-------------\n",
      "-------------PAGE 36 PARSING-------------\n",
      "Delay 4 s.\n",
      "-------------CODE 200-------------\n",
      "-------------20 rests on page 36-------------\n",
      "-------------20 rests append to frame. Shape of frame: 740 @ 15-------------\n",
      "-------------PAGE 37 PARSING-------------\n",
      "Delay 6 s.\n",
      "-------------CODE 200-------------\n",
      "-------------20 rests on page 37-------------\n",
      "-------------20 rests append to frame. Shape of frame: 760 @ 15-------------\n",
      "-------------PAGE 38 PARSING-------------\n",
      "Delay 3 s.\n",
      "-------------CODE 200-------------\n",
      "-------------20 rests on page 38-------------\n",
      "-------------20 rests append to frame. Shape of frame: 780 @ 15-------------\n",
      "-------------PAGE 39 PARSING-------------\n",
      "Delay 3 s.\n"
     ]
    },
    {
     "name": "stdout",
     "output_type": "stream",
     "text": [
      "-------------CODE 200-------------\n",
      "-------------20 rests on page 39-------------\n",
      "-------------20 rests append to frame. Shape of frame: 800 @ 15-------------\n",
      "-------------PAGE 40 PARSING-------------\n",
      "Delay 5 s.\n",
      "-------------CODE 200-------------\n",
      "-------------20 rests on page 40-------------\n",
      "-------------20 rests append to frame. Shape of frame: 820 @ 15-------------\n",
      "-------------PAGE 41 PARSING-------------\n",
      "Delay 6 s.\n",
      "-------------CODE 200-------------\n",
      "-------------20 rests on page 41-------------\n",
      "-------------20 rests append to frame. Shape of frame: 840 @ 15-------------\n",
      "-------------PAGE 42 PARSING-------------\n",
      "Delay 4 s.\n",
      "-------------CODE 200-------------\n",
      "-------------20 rests on page 42-------------\n",
      "-------------20 rests append to frame. Shape of frame: 860 @ 15-------------\n",
      "-------------PAGE 43 PARSING-------------\n",
      "Delay 6 s.\n",
      "-------------CODE 200-------------\n",
      "-------------20 rests on page 43-------------\n",
      "-------------20 rests append to frame. Shape of frame: 880 @ 15-------------\n",
      "-------------PAGE 44 PARSING-------------\n",
      "Delay 2 s.\n",
      "-------------CODE 200-------------\n",
      "-------------20 rests on page 44-------------\n",
      "-------------20 rests append to frame. Shape of frame: 900 @ 15-------------\n",
      "-------------PAGE 45 PARSING-------------\n",
      "Delay 2 s.\n",
      "-------------CODE 200-------------\n",
      "-------------20 rests on page 45-------------\n",
      "-------------20 rests append to frame. Shape of frame: 920 @ 15-------------\n",
      "-------------PAGE 46 PARSING-------------\n",
      "Delay 5 s.\n",
      "-------------CODE 200-------------\n",
      "-------------20 rests on page 46-------------\n",
      "-------------20 rests append to frame. Shape of frame: 940 @ 15-------------\n",
      "-------------PAGE 47 PARSING-------------\n",
      "Delay 2 s.\n",
      "-------------CODE 200-------------\n",
      "-------------20 rests on page 47-------------\n",
      "-------------20 rests append to frame. Shape of frame: 960 @ 15-------------\n",
      "-------------PAGE 48 PARSING-------------\n",
      "Delay 6 s.\n",
      "-------------CODE 200-------------\n",
      "-------------20 rests on page 48-------------\n",
      "-------------20 rests append to frame. Shape of frame: 980 @ 15-------------\n",
      "-------------PAGE 49 PARSING-------------\n",
      "Delay 4 s.\n",
      "-------------CODE 200-------------\n",
      "-------------20 rests on page 49-------------\n",
      "-------------20 rests append to frame. Shape of frame: 1000 @ 15-------------\n",
      "-------------PAGE 50 PARSING-------------\n",
      "Delay 5 s.\n",
      "-------------CODE 200-------------\n",
      "-------------20 rests on page 50-------------\n",
      "-------------20 rests append to frame. Shape of frame: 1020 @ 15-------------\n",
      "-------------PAGE 51 PARSING-------------\n",
      "Delay 5 s.\n",
      "-------------CODE 200-------------\n",
      "-------------20 rests on page 51-------------\n",
      "-------------20 rests append to frame. Shape of frame: 1040 @ 15-------------\n",
      "-------------PAGE 52 PARSING-------------\n",
      "Delay 5 s.\n",
      "-------------CODE 200-------------\n",
      "-------------20 rests on page 52-------------\n",
      "-------------20 rests append to frame. Shape of frame: 1060 @ 15-------------\n",
      "-------------PAGE 53 PARSING-------------\n",
      "Delay 3 s.\n",
      "-------------CODE 200-------------\n",
      "-------------20 rests on page 53-------------\n",
      "-------------20 rests append to frame. Shape of frame: 1080 @ 15-------------\n",
      "-------------PAGE 54 PARSING-------------\n",
      "Delay 2 s.\n",
      "-------------CODE 200-------------\n",
      "-------------20 rests on page 54-------------\n",
      "-------------20 rests append to frame. Shape of frame: 1100 @ 15-------------\n",
      "-------------PAGE 55 PARSING-------------\n",
      "Delay 3 s.\n",
      "-------------CODE 200-------------\n",
      "-------------20 rests on page 55-------------\n",
      "-------------20 rests append to frame. Shape of frame: 1120 @ 15-------------\n",
      "-------------PAGE 56 PARSING-------------\n",
      "Delay 5 s.\n",
      "-------------CODE 200-------------\n",
      "-------------20 rests on page 56-------------\n",
      "-------------20 rests append to frame. Shape of frame: 1140 @ 15-------------\n",
      "-------------PAGE 57 PARSING-------------\n",
      "Delay 2 s.\n",
      "-------------CODE 200-------------\n",
      "-------------20 rests on page 57-------------\n",
      "-------------20 rests append to frame. Shape of frame: 1160 @ 15-------------\n",
      "-------------PAGE 58 PARSING-------------\n",
      "Delay 5 s.\n",
      "-------------CODE 200-------------\n",
      "-------------20 rests on page 58-------------\n",
      "-------------20 rests append to frame. Shape of frame: 1180 @ 15-------------\n",
      "-------------PAGE 59 PARSING-------------\n",
      "Delay 3 s.\n",
      "-------------CODE 200-------------\n",
      "-------------20 rests on page 59-------------\n",
      "-------------20 rests append to frame. Shape of frame: 1200 @ 15-------------\n",
      "-------------PAGE 60 PARSING-------------\n",
      "Delay 3 s.\n",
      "-------------CODE 200-------------\n",
      "-------------20 rests on page 60-------------\n",
      "-------------20 rests append to frame. Shape of frame: 1220 @ 15-------------\n",
      "-------------PAGE 61 PARSING-------------\n",
      "Delay 4 s.\n",
      "-------------CODE 200-------------\n",
      "-------------20 rests on page 61-------------\n",
      "-------------20 rests append to frame. Shape of frame: 1240 @ 15-------------\n",
      "-------------PAGE 62 PARSING-------------\n",
      "Delay 6 s.\n",
      "-------------CODE 200-------------\n",
      "-------------20 rests on page 62-------------\n",
      "-------------20 rests append to frame. Shape of frame: 1260 @ 15-------------\n",
      "-------------PAGE 63 PARSING-------------\n",
      "Delay 2 s.\n",
      "-------------CODE 200-------------\n",
      "-------------20 rests on page 63-------------\n",
      "-------------20 rests append to frame. Shape of frame: 1280 @ 15-------------\n",
      "-------------PAGE 64 PARSING-------------\n",
      "Delay 6 s.\n",
      "-------------CODE 200-------------\n",
      "-------------20 rests on page 64-------------\n",
      "-------------20 rests append to frame. Shape of frame: 1300 @ 15-------------\n",
      "-------------PAGE 65 PARSING-------------\n",
      "Delay 3 s.\n",
      "-------------CODE 200-------------\n",
      "-------------20 rests on page 65-------------\n",
      "-------------20 rests append to frame. Shape of frame: 1320 @ 15-------------\n",
      "-------------PAGE 66 PARSING-------------\n",
      "Delay 5 s.\n",
      "-------------CODE 200-------------\n",
      "-------------20 rests on page 66-------------\n",
      "-------------20 rests append to frame. Shape of frame: 1340 @ 15-------------\n",
      "-------------PAGE 67 PARSING-------------\n",
      "Delay 2 s.\n",
      "-------------CODE 200-------------\n",
      "-------------20 rests on page 67-------------\n",
      "-------------20 rests append to frame. Shape of frame: 1360 @ 15-------------\n",
      "CPU times: user 26.8 s, sys: 247 ms, total: 27.1 s\n",
      "Wall time: 5min 21s\n"
     ]
    }
   ],
   "source": [
    "%time a.run()"
   ]
  },
  {
   "cell_type": "code",
   "execution_count": 149,
   "metadata": {
    "collapsed": true
   },
   "outputs": [],
   "source": [
    "catalog = a.res_data.drop_duplicates()"
   ]
  },
  {
   "cell_type": "code",
   "execution_count": 150,
   "metadata": {},
   "outputs": [
    {
     "data": {
      "text/html": [
       "<div>\n",
       "<style>\n",
       "    .dataframe thead tr:only-child th {\n",
       "        text-align: right;\n",
       "    }\n",
       "\n",
       "    .dataframe thead th {\n",
       "        text-align: left;\n",
       "    }\n",
       "\n",
       "    .dataframe tbody tr th {\n",
       "        vertical-align: top;\n",
       "    }\n",
       "</style>\n",
       "<table border=\"1\" class=\"dataframe\">\n",
       "  <thead>\n",
       "    <tr style=\"text-align: right;\">\n",
       "      <th></th>\n",
       "      <th>phone</th>\n",
       "      <th>lon</th>\n",
       "      <th>rating</th>\n",
       "      <th>timing</th>\n",
       "      <th>lat</th>\n",
       "      <th>title</th>\n",
       "      <th>review_link</th>\n",
       "      <th>address</th>\n",
       "      <th>review_count</th>\n",
       "      <th>link</th>\n",
       "      <th>premium</th>\n",
       "      <th>type</th>\n",
       "      <th>kitchen</th>\n",
       "      <th>metro</th>\n",
       "      <th>avrCheck</th>\n",
       "    </tr>\n",
       "  </thead>\n",
       "  <tbody>\n",
       "    <tr>\n",
       "      <th>1049250</th>\n",
       "      <td>+7 (495) 988-26-56</td>\n",
       "      <td>37.59573242574</td>\n",
       "      <td>4.5</td>\n",
       "      <td>12:00-00:00</td>\n",
       "      <td>55.744328498233</td>\n",
       "      <td>Эларджи</td>\n",
       "      <td>/msk/opinions/restaurants/elardzhi/</td>\n",
       "      <td>Москва, Гагаринский переулок, д. 15а</td>\n",
       "      <td>40 отзывов</td>\n",
       "      <td>/msk/detailed/restaurants/elardzhi/</td>\n",
       "      <td>True</td>\n",
       "      <td>Ресторан</td>\n",
       "      <td>Домашняя, Грузинская</td>\n",
       "      <td>Кропоткинская (490 м)</td>\n",
       "      <td>1500-2000р</td>\n",
       "    </tr>\n",
       "    <tr>\n",
       "      <th>1216052</th>\n",
       "      <td>+7 (495) 988-26-56</td>\n",
       "      <td>37.62332425168423</td>\n",
       "      <td>0.0</td>\n",
       "      <td>12:00–00:00</td>\n",
       "      <td>55.76196428280367</td>\n",
       "      <td>Mr. Lee / Мистер Ли</td>\n",
       "      <td>/bitrix/components/restoran/favorite.add/ajax.php</td>\n",
       "      <td>Москва, ул. Кузнецкий Мост, д. 7</td>\n",
       "      <td>В избранное</td>\n",
       "      <td>/msk/detailed/restaurants/mr_lee/</td>\n",
       "      <td>True</td>\n",
       "      <td>Ресторан, Суши-бар</td>\n",
       "      <td>Авторская, Паназиатская, Японская</td>\n",
       "      <td>Кузнецкий мост (72 м), Лубянка (364 м), Театра...</td>\n",
       "      <td>3000-4000р</td>\n",
       "    </tr>\n",
       "    <tr>\n",
       "      <th>1232207</th>\n",
       "      <td>+7 (495) 778-89-94</td>\n",
       "      <td>37.545842860372</td>\n",
       "      <td>4.0</td>\n",
       "      <td>12:00-00:00</td>\n",
       "      <td>55.726364613119</td>\n",
       "      <td>Ласточка</td>\n",
       "      <td>/msk/opinions/restaurants/lastochka/</td>\n",
       "      <td>Москва, Лужнецкая наб., причал «Лужники  ...</td>\n",
       "      <td>16 отзывов</td>\n",
       "      <td>/msk/detailed/restaurants/lastochka/</td>\n",
       "      <td>True</td>\n",
       "      <td>Ресторан, Банкетный зал, Теплоход</td>\n",
       "      <td>Японская, Итальянская, Русская</td>\n",
       "      <td>Воробьевы горы (1.98 км)</td>\n",
       "      <td>2000-3000р</td>\n",
       "    </tr>\n",
       "    <tr>\n",
       "      <th>1430018</th>\n",
       "      <td>+7 (495) 988-26-56</td>\n",
       "      <td>0</td>\n",
       "      <td>0.0</td>\n",
       "      <td>-</td>\n",
       "      <td>0</td>\n",
       "      <td>La Marée / Ла Маре</td>\n",
       "      <td>/bitrix/components/restoran/favorite.add/ajax.php</td>\n",
       "      <td>-</td>\n",
       "      <td>В избранное</td>\n",
       "      <td>/msk/detailed/restaurants/la_maree/</td>\n",
       "      <td>True</td>\n",
       "      <td>Ресторан</td>\n",
       "      <td>Рыбная, Средиземноморская</td>\n",
       "      <td>Чеховская, Улица 1905 года, Смоленская (Арбатс...</td>\n",
       "      <td>3000-4000р</td>\n",
       "    </tr>\n",
       "    <tr>\n",
       "      <th>1699769</th>\n",
       "      <td>+7 (495) 988-26-56</td>\n",
       "      <td>37.583187628311</td>\n",
       "      <td>4.0</td>\n",
       "      <td>12:00-00:00 (до последнего гостя)</td>\n",
       "      <td>55.757730600603</td>\n",
       "      <td>SELFIE / Селфи</td>\n",
       "      <td>/msk/opinions/restaurants/selfie/</td>\n",
       "      <td>Москва, Новинский бульвар, 31, второй эт ...</td>\n",
       "      <td>20 отзывов</td>\n",
       "      <td>/msk/detailed/restaurants/selfie/</td>\n",
       "      <td>True</td>\n",
       "      <td>Ресторан</td>\n",
       "      <td>Авторская, Европейская</td>\n",
       "      <td>Баррикадная (355 м), Краснопресненская (466 м)</td>\n",
       "      <td>1500-2000р</td>\n",
       "    </tr>\n",
       "  </tbody>\n",
       "</table>\n",
       "</div>"
      ],
      "text/plain": [
       "                      phone                lon rating  \\\n",
       "1049250  +7 (495) 988-26-56     37.59573242574    4.5   \n",
       "1216052  +7 (495) 988-26-56  37.62332425168423    0.0   \n",
       "1232207  +7 (495) 778-89-94    37.545842860372    4.0   \n",
       "1430018  +7 (495) 988-26-56                  0    0.0   \n",
       "1699769  +7 (495) 988-26-56    37.583187628311    4.0   \n",
       "\n",
       "                                    timing                lat  \\\n",
       "1049250                        12:00-00:00    55.744328498233   \n",
       "1216052                        12:00–00:00  55.76196428280367   \n",
       "1232207                        12:00-00:00    55.726364613119   \n",
       "1430018                                  -                  0   \n",
       "1699769  12:00-00:00 (до последнего гостя)    55.757730600603   \n",
       "\n",
       "                       title  \\\n",
       "1049250              Эларджи   \n",
       "1216052  Mr. Lee / Мистер Ли   \n",
       "1232207             Ласточка   \n",
       "1430018   La Marée / Ла Маре   \n",
       "1699769       SELFIE / Селфи   \n",
       "\n",
       "                                               review_link  \\\n",
       "1049250                /msk/opinions/restaurants/elardzhi/   \n",
       "1216052  /bitrix/components/restoran/favorite.add/ajax.php   \n",
       "1232207               /msk/opinions/restaurants/lastochka/   \n",
       "1430018  /bitrix/components/restoran/favorite.add/ajax.php   \n",
       "1699769                  /msk/opinions/restaurants/selfie/   \n",
       "\n",
       "                                              address review_count  \\\n",
       "1049250          Москва, Гагаринский переулок, д. 15а   40 отзывов   \n",
       "1216052              Москва, ул. Кузнецкий Мост, д. 7  В избранное   \n",
       "1232207  Москва, Лужнецкая наб., причал «Лужники  ...   16 отзывов   \n",
       "1430018                                             -  В избранное   \n",
       "1699769  Москва, Новинский бульвар, 31, второй эт ...   20 отзывов   \n",
       "\n",
       "                                         link  premium  \\\n",
       "1049250   /msk/detailed/restaurants/elardzhi/     True   \n",
       "1216052     /msk/detailed/restaurants/mr_lee/     True   \n",
       "1232207  /msk/detailed/restaurants/lastochka/     True   \n",
       "1430018   /msk/detailed/restaurants/la_maree/     True   \n",
       "1699769     /msk/detailed/restaurants/selfie/     True   \n",
       "\n",
       "                                      type                            kitchen  \\\n",
       "1049250                           Ресторан               Домашняя, Грузинская   \n",
       "1216052                 Ресторан, Суши-бар  Авторская, Паназиатская, Японская   \n",
       "1232207  Ресторан, Банкетный зал, Теплоход     Японская, Итальянская, Русская   \n",
       "1430018                           Ресторан          Рыбная, Средиземноморская   \n",
       "1699769                           Ресторан             Авторская, Европейская   \n",
       "\n",
       "                                                     metro    avrCheck  \n",
       "1049250                              Кропоткинская (490 м)  1500-2000р  \n",
       "1216052  Кузнецкий мост (72 м), Лубянка (364 м), Театра...  3000-4000р  \n",
       "1232207                           Воробьевы горы (1.98 км)  2000-3000р  \n",
       "1430018  Чеховская, Улица 1905 года, Смоленская (Арбатс...  3000-4000р  \n",
       "1699769     Баррикадная (355 м), Краснопресненская (466 м)  1500-2000р  "
      ]
     },
     "execution_count": 150,
     "metadata": {},
     "output_type": "execute_result"
    }
   ],
   "source": [
    "catalog.head()"
   ]
  },
  {
   "cell_type": "markdown",
   "metadata": {},
   "source": [
    "Парсинг страниц-каталогов(на слэнге - парсинг листингов) завершен. Теперь необходимо обработать данные, почистить от мусора и палева и привести данные в красивый вид.<br>\n",
    "Основной методологией определения мусора являются стат. показатели данных. Определяем стат показатели и чистим от них фрейм. Все очень просто!"
   ]
  },
  {
   "cell_type": "code",
   "execution_count": 153,
   "metadata": {},
   "outputs": [
    {
     "data": {
      "text/plain": [
       "False    1300\n",
       "True       20\n",
       "Name: premium, dtype: int64"
      ]
     },
     "execution_count": 153,
     "metadata": {},
     "output_type": "execute_result"
    }
   ],
   "source": [
    "catalog.premium.value_counts()"
   ]
  },
  {
   "cell_type": "code",
   "execution_count": 154,
   "metadata": {
    "scrolled": true
   },
   "outputs": [
    {
     "data": {
      "text/plain": [
       "В избранное    499\n",
       "1 отзыв        211\n",
       "2 отзыва        80\n",
       "3 отзыва        60\n",
       "4 отзыва        50\n",
       "5 отзывов       39\n",
       "6 отзывов       31\n",
       "7 отзывов       25\n",
       "8 отзывов       18\n",
       "13 отзывов      18\n",
       "9 отзывов       17\n",
       "12 отзывов      16\n",
       "15 отзывов      15\n",
       "16 отзывов      14\n",
       "20 отзывов      13\n",
       "14 отзывов      13\n",
       "10 отзывов      11\n",
       "33 отзыва        9\n",
       "24 отзыва        9\n",
       "11 отзывов       8\n",
       "41 отзыв         7\n",
       "22 отзыва        7\n",
       "18 отзывов       7\n",
       "36 отзывов       6\n",
       "25 отзывов       6\n",
       "23 отзыва        5\n",
       "35 отзывов       5\n",
       "21 отзыв         5\n",
       "50 отзывов       5\n",
       "29 отзывов       5\n",
       "              ... \n",
       "63 отзыва        1\n",
       "188 отзывов      1\n",
       "93 отзыва        1\n",
       "44 отзыва        1\n",
       "34 отзыва        1\n",
       "88 отзывов       1\n",
       "131 отзыв        1\n",
       "53 отзыва        1\n",
       "101 отзыв        1\n",
       "79 отзывов       1\n",
       "64 отзыва        1\n",
       "60 отзывов       1\n",
       "116 отзывов      1\n",
       "179 отзывов      1\n",
       "92 отзыва        1\n",
       "83 отзыва        1\n",
       "126 отзывов      1\n",
       "130 отзывов      1\n",
       "76 отзывов       1\n",
       "49 отзывов       1\n",
       "107 отзывов      1\n",
       "139 отзывов      1\n",
       "26 отзывов       1\n",
       "45 отзывов       1\n",
       "134 отзыва       1\n",
       "87 отзывов       1\n",
       "61 отзыв         1\n",
       "98 отзывов       1\n",
       "152 отзыва       1\n",
       "86 отзывов       1\n",
       "Name: review_count, Length: 92, dtype: int64"
      ]
     },
     "execution_count": 154,
     "metadata": {},
     "output_type": "execute_result"
    }
   ],
   "source": [
    "catalog.review_count.value_counts()"
   ]
  },
  {
   "cell_type": "code",
   "execution_count": 155,
   "metadata": {
    "collapsed": true
   },
   "outputs": [
    {
     "name": "stderr",
     "output_type": "stream",
     "text": [
      "/usr/local/lib/python3.5/dist-packages/ipykernel_launcher.py:1: SettingWithCopyWarning: \n",
      "A value is trying to be set on a copy of a slice from a DataFrame.\n",
      "Try using .loc[row_indexer,col_indexer] = value instead\n",
      "\n",
      "See the caveats in the documentation: http://pandas.pydata.org/pandas-docs/stable/indexing.html#indexing-view-versus-copy\n",
      "  \"\"\"Entry point for launching an IPython kernel.\n"
     ]
    }
   ],
   "source": [
    "catalog['review_count'] = catalog.review_count.apply(lambda x: 0 if x.lower() == 'в избранное' else int(x.split(' ')[0])).astype(int)"
   ]
  },
  {
   "cell_type": "code",
   "execution_count": 156,
   "metadata": {
    "scrolled": true
   },
   "outputs": [
    {
     "data": {
      "text/plain": [
       "0      499\n",
       "1      211\n",
       "2       80\n",
       "3       60\n",
       "4       50\n",
       "5       39\n",
       "6       31\n",
       "7       25\n",
       "8       18\n",
       "13      18\n",
       "9       17\n",
       "12      16\n",
       "15      15\n",
       "16      14\n",
       "14      13\n",
       "20      13\n",
       "10      11\n",
       "33       9\n",
       "24       9\n",
       "11       8\n",
       "41       7\n",
       "18       7\n",
       "22       7\n",
       "25       6\n",
       "36       6\n",
       "35       5\n",
       "29       5\n",
       "23       5\n",
       "21       5\n",
       "50       5\n",
       "      ... \n",
       "131      1\n",
       "130      1\n",
       "134      1\n",
       "203      1\n",
       "93       1\n",
       "188      1\n",
       "145      1\n",
       "152      1\n",
       "139      1\n",
       "49       1\n",
       "92       1\n",
       "88       1\n",
       "247      1\n",
       "45       1\n",
       "44       1\n",
       "60       1\n",
       "61       1\n",
       "63       1\n",
       "64       1\n",
       "34       1\n",
       "76       1\n",
       "77       1\n",
       "79       1\n",
       "81       1\n",
       "83       1\n",
       "26       1\n",
       "85       1\n",
       "53       1\n",
       "87       1\n",
       "86       1\n",
       "Name: review_count, Length: 92, dtype: int64"
      ]
     },
     "execution_count": 156,
     "metadata": {},
     "output_type": "execute_result"
    }
   ],
   "source": [
    "catalog.review_count.value_counts()"
   ]
  },
  {
   "cell_type": "code",
   "execution_count": 157,
   "metadata": {
    "scrolled": true
   },
   "outputs": [
    {
     "data": {
      "text/plain": [
       "/bitrix/components/restoran/favorite.add/ajax.php             499\n",
       "/msk/opinions/restaurants/beluga/                               2\n",
       "/msk/opinions/restaurants/sixty/                                2\n",
       "/msk/opinions/restaurants/elardzhi/                             2\n",
       "/msk/opinions/restaurants/chayka_restoran_yakhta/               2\n",
       "/msk/opinions/restaurants/azerbaydjan/                          2\n",
       "/msk/opinions/restaurants/lastochka/                            2\n",
       "/msk/opinions/restaurants/voronezh/                             2\n",
       "/msk/opinions/restaurants/oblomov/                              2\n",
       "/msk/opinions/restaurants/whiterabbit/                          2\n",
       "/msk/opinions/restaurants/selfie/                               2\n",
       "/msk/opinions/restaurants/the_mad_cook/                         2\n",
       "/msk/opinions/restaurants/moregril/                             2\n",
       "/msk/opinions/restaurants/the-waiters/                          2\n",
       "/msk/opinions/restaurants/black_thai/                           2\n",
       "/msk/opinions/restaurants/nofar/                                2\n",
       "/msk/opinions/restaurants/akademicheskiy/                       1\n",
       "/msk/opinions/restaurants/starina_myuller_ul_bakuninskaya/      1\n",
       "/msk/opinions/restaurants/white-cafe/                           1\n",
       "/msk/opinions/restaurants/zagorodny/                            1\n",
       "/msk/opinions/restaurants/repin/                                1\n",
       "/msk/opinions/restaurants/zolotaya-vobla-pokrovka/              1\n",
       "/msk/opinions/restaurants/tiflis/                               1\n",
       "/msk/opinions/restaurants/montecristo/                          1\n",
       "/msk/opinions/restaurants/uyutnoe-mesto/                        1\n",
       "/msk/opinions/restaurants/le_restaurant/                        1\n",
       "/msk/opinions/restaurants/krab_pab/                             1\n",
       "/msk/opinions/restaurants/odonoghues/                           1\n",
       "/msk/opinions/restaurants/kuraga/                               1\n",
       "/msk/opinions/restaurants/baby_cafe/                            1\n",
       "                                                             ... \n",
       "/msk/opinions/restaurants/dyatel/                               1\n",
       "/msk/opinions/restaurants/matsoni_rest/                         1\n",
       "/msk/opinions/restaurants/GrangeCafe/                           1\n",
       "/msk/opinions/restaurants/bericoni/                             1\n",
       "/msk/opinions/restaurants/sharmanka_kuzminki/                   1\n",
       "/msk/opinions/restaurants/tuttalavita/                          1\n",
       "/msk/opinions/restaurants/subbotitsa/                           1\n",
       "/msk/opinions/restaurants/mamoonia/                             1\n",
       "/msk/opinions/restaurants/ultra/                                1\n",
       "/msk/opinions/restaurants/aurarest/                             1\n",
       "/msk/opinions/restaurants/karaokeduets/                         1\n",
       "/msk/opinions/restaurants/grafflounge/                          1\n",
       "/msk/opinions/restaurants/shokoladnyy-krolik/                   1\n",
       "/msk/opinions/restaurants/seasons_vernadskogo/                  1\n",
       "/msk/opinions/restaurants/rassolnikov/                          1\n",
       "/msk/opinions/restaurants/barton-1816/                          1\n",
       "/msk/opinions/restaurants/artichoke/                            1\n",
       "/msk/opinions/restaurants/salhino3/                             1\n",
       "/msk/opinions/restaurants/bul_var/                              1\n",
       "/msk/opinions/restaurants/olioli/                               1\n",
       "/msk/opinions/restaurants/art-kafe-royal/                       1\n",
       "/msk/opinions/restaurants/ceretto/                              1\n",
       "/msk/opinions/restaurants/iveriya/                              1\n",
       "/msk/opinions/restaurants/razgulyay/                            1\n",
       "/msk/opinions/restaurants/robin-bo/                             1\n",
       "/msk/opinions/restaurants/sindbad-cafe/                         1\n",
       "/msk/opinions/restaurants/shakti_terrace/                       1\n",
       "/msk/opinions/restaurants/bocconcino-novoslobodskaya/           1\n",
       "/msk/opinions/restaurants/sikvaruli/                            1\n",
       "/msk/opinions/restaurants/khazuraho/                            1\n",
       "Name: review_link, Length: 807, dtype: int64"
      ]
     },
     "execution_count": 157,
     "metadata": {},
     "output_type": "execute_result"
    }
   ],
   "source": [
    "catalog.review_link.value_counts()"
   ]
  },
  {
   "cell_type": "code",
   "execution_count": 158,
   "metadata": {
    "collapsed": true
   },
   "outputs": [
    {
     "name": "stderr",
     "output_type": "stream",
     "text": [
      "/usr/local/lib/python3.5/dist-packages/ipykernel_launcher.py:1: SettingWithCopyWarning: \n",
      "A value is trying to be set on a copy of a slice from a DataFrame.\n",
      "Try using .loc[row_indexer,col_indexer] = value instead\n",
      "\n",
      "See the caveats in the documentation: http://pandas.pydata.org/pandas-docs/stable/indexing.html#indexing-view-versus-copy\n",
      "  \"\"\"Entry point for launching an IPython kernel.\n"
     ]
    }
   ],
   "source": [
    "catalog['review_link'] = catalog.review_link.apply(lambda x: '-' if 'bitrix' in x else x)"
   ]
  },
  {
   "cell_type": "code",
   "execution_count": 159,
   "metadata": {
    "scrolled": true
   },
   "outputs": [
    {
     "data": {
      "text/plain": [
       "-                                                                      499\n",
       "/msk/opinions/restaurants/nofar/                                         2\n",
       "/msk/opinions/restaurants/the_mad_cook/                                  2\n",
       "/msk/opinions/restaurants/sixty/                                         2\n",
       "/msk/opinions/restaurants/lastochka/                                     2\n",
       "/msk/opinions/restaurants/selfie/                                        2\n",
       "/msk/opinions/restaurants/whiterabbit/                                   2\n",
       "/msk/opinions/restaurants/elardzhi/                                      2\n",
       "/msk/opinions/restaurants/beluga/                                        2\n",
       "/msk/opinions/restaurants/azerbaydjan/                                   2\n",
       "/msk/opinions/restaurants/voronezh/                                      2\n",
       "/msk/opinions/restaurants/chayka_restoran_yakhta/                        2\n",
       "/msk/opinions/restaurants/oblomov/                                       2\n",
       "/msk/opinions/restaurants/moregril/                                      2\n",
       "/msk/opinions/restaurants/black_thai/                                    2\n",
       "/msk/opinions/restaurants/the-waiters/                                   2\n",
       "/msk/opinions/restaurants/baby_cafe/                                     1\n",
       "/msk/opinions/restaurants/repin/                                         1\n",
       "/msk/opinions/restaurants/akademicheskiy/                                1\n",
       "/msk/opinions/restaurants/zolotaya-vobla-pokrovka/                       1\n",
       "/msk/opinions/restaurants/jam_club/                                      1\n",
       "/msk/opinions/restaurants/imperator-holl/                                1\n",
       "/msk/opinions/restaurants/starina_myuller_ul_bakuninskaya/               1\n",
       "/msk/opinions/restaurants/white-cafe/                                    1\n",
       "/msk/opinions/restaurants/montecristo/                                   1\n",
       "/msk/opinions/restaurants/pervaya_khinkalnaya_mimino_profsoyuznaya/      1\n",
       "/msk/opinions/restaurants/kuraga/                                        1\n",
       "/msk/opinions/restaurants/uyutnoe-mesto/                                 1\n",
       "/msk/opinions/restaurants/le_restaurant/                                 1\n",
       "/msk/opinions/restaurants/odonoghues/                                    1\n",
       "                                                                      ... \n",
       "/msk/opinions/restaurants/dyatel/                                        1\n",
       "/msk/opinions/restaurants/matsoni_rest/                                  1\n",
       "/msk/opinions/restaurants/GrangeCafe/                                    1\n",
       "/msk/opinions/restaurants/bericoni/                                      1\n",
       "/msk/opinions/restaurants/sharmanka_kuzminki/                            1\n",
       "/msk/opinions/restaurants/tuttalavita/                                   1\n",
       "/msk/opinions/restaurants/subbotitsa/                                    1\n",
       "/msk/opinions/restaurants/mamoonia/                                      1\n",
       "/msk/opinions/restaurants/ultra/                                         1\n",
       "/msk/opinions/restaurants/aurarest/                                      1\n",
       "/msk/opinions/restaurants/karaokeduets/                                  1\n",
       "/msk/opinions/restaurants/grafflounge/                                   1\n",
       "/msk/opinions/restaurants/shokoladnyy-krolik/                            1\n",
       "/msk/opinions/restaurants/seasons_vernadskogo/                           1\n",
       "/msk/opinions/restaurants/rassolnikov/                                   1\n",
       "/msk/opinions/restaurants/barton-1816/                                   1\n",
       "/msk/opinions/restaurants/artichoke/                                     1\n",
       "/msk/opinions/restaurants/salhino3/                                      1\n",
       "/msk/opinions/restaurants/bul_var/                                       1\n",
       "/msk/opinions/restaurants/olioli/                                        1\n",
       "/msk/opinions/restaurants/art-kafe-royal/                                1\n",
       "/msk/opinions/restaurants/ceretto/                                       1\n",
       "/msk/opinions/restaurants/iveriya/                                       1\n",
       "/msk/opinions/restaurants/razgulyay/                                     1\n",
       "/msk/opinions/restaurants/robin-bo/                                      1\n",
       "/msk/opinions/restaurants/sindbad-cafe/                                  1\n",
       "/msk/opinions/restaurants/shakti_terrace/                                1\n",
       "/msk/opinions/restaurants/bocconcino-novoslobodskaya/                    1\n",
       "/msk/opinions/restaurants/sikvaruli/                                     1\n",
       "/msk/opinions/restaurants/khazuraho/                                     1\n",
       "Name: review_link, Length: 807, dtype: int64"
      ]
     },
     "execution_count": 159,
     "metadata": {},
     "output_type": "execute_result"
    }
   ],
   "source": [
    "catalog.review_link.value_counts()"
   ]
  },
  {
   "cell_type": "code",
   "execution_count": 160,
   "metadata": {
    "collapsed": true
   },
   "outputs": [],
   "source": [
    "catalog = catalog.reset_index()\n",
    "catalog['ID'] = catalog['index']\n",
    "del catalog['index']"
   ]
  },
  {
   "cell_type": "code",
   "execution_count": 164,
   "metadata": {
    "collapsed": true
   },
   "outputs": [],
   "source": [
    "catalog['premium'] = False"
   ]
  },
  {
   "cell_type": "code",
   "execution_count": null,
   "metadata": {
    "collapsed": true
   },
   "outputs": [],
   "source": [
    "catalog['']"
   ]
  },
  {
   "cell_type": "code",
   "execution_count": 165,
   "metadata": {
    "collapsed": true
   },
   "outputs": [],
   "source": [
    "catalog = catalog.filter(items=['ID', 'title','premium','type', 'kitchen', 'link', 'metro', 'lon','lat','address','phone','rating','timing','review_count','review_link', 'avrCheck'])"
   ]
  },
  {
   "cell_type": "code",
   "execution_count": 166,
   "metadata": {
    "collapsed": true
   },
   "outputs": [],
   "source": [
    "catalog = catalog.drop_duplicates()"
   ]
  },
  {
   "cell_type": "code",
   "execution_count": 169,
   "metadata": {},
   "outputs": [
    {
     "data": {
      "text/html": [
       "<div>\n",
       "<style>\n",
       "    .dataframe thead tr:only-child th {\n",
       "        text-align: right;\n",
       "    }\n",
       "\n",
       "    .dataframe thead th {\n",
       "        text-align: left;\n",
       "    }\n",
       "\n",
       "    .dataframe tbody tr th {\n",
       "        vertical-align: top;\n",
       "    }\n",
       "</style>\n",
       "<table border=\"1\" class=\"dataframe\">\n",
       "  <thead>\n",
       "    <tr style=\"text-align: right;\">\n",
       "      <th></th>\n",
       "      <th>ID</th>\n",
       "      <th>title</th>\n",
       "      <th>premium</th>\n",
       "      <th>type</th>\n",
       "      <th>kitchen</th>\n",
       "      <th>link</th>\n",
       "      <th>metro</th>\n",
       "      <th>lon</th>\n",
       "      <th>lat</th>\n",
       "      <th>address</th>\n",
       "      <th>phone</th>\n",
       "      <th>rating</th>\n",
       "      <th>timing</th>\n",
       "      <th>review_count</th>\n",
       "      <th>review_link</th>\n",
       "      <th>avrCheck</th>\n",
       "    </tr>\n",
       "  </thead>\n",
       "  <tbody>\n",
       "    <tr>\n",
       "      <th>616</th>\n",
       "      <td>386364</td>\n",
       "      <td>Бавариус</td>\n",
       "      <td>False</td>\n",
       "      <td>Ресторан, Пивной ресторан</td>\n",
       "      <td>Немецкая, Европейская</td>\n",
       "      <td>/msk/detailed/restaurants/bav/</td>\n",
       "      <td>Маяковская (110 м), Тверская (676 м)</td>\n",
       "      <td>37.59748347138</td>\n",
       "      <td>55.769382848115</td>\n",
       "      <td>Москва, ул. Тверская 30/2, стр. 1</td>\n",
       "      <td>+7 (495) 699-42-11</td>\n",
       "      <td>3.3</td>\n",
       "      <td>12:00-24:00</td>\n",
       "      <td>12</td>\n",
       "      <td>/msk/opinions/restaurants/bav/</td>\n",
       "      <td>1500-2000р</td>\n",
       "    </tr>\n",
       "    <tr>\n",
       "      <th>617</th>\n",
       "      <td>386365</td>\n",
       "      <td>Бавариус</td>\n",
       "      <td>False</td>\n",
       "      <td>Ресторан, Пивной ресторан</td>\n",
       "      <td>Немецкая, Европейская</td>\n",
       "      <td>/msk/detailed/restaurants/ba/</td>\n",
       "      <td>Фрунзенская (259 м)</td>\n",
       "      <td>37.584410349273</td>\n",
       "      <td>55.728107368533</td>\n",
       "      <td>Москва, Комсомольский пр., д. 21/10</td>\n",
       "      <td>+7 (499) 245-23-95</td>\n",
       "      <td>3.7</td>\n",
       "      <td>12:00-24:00</td>\n",
       "      <td>16</td>\n",
       "      <td>/msk/opinions/restaurants/ba/</td>\n",
       "      <td>1500-2000р</td>\n",
       "    </tr>\n",
       "  </tbody>\n",
       "</table>\n",
       "</div>"
      ],
      "text/plain": [
       "         ID     title  premium                       type  \\\n",
       "616  386364  Бавариус    False  Ресторан, Пивной ресторан   \n",
       "617  386365  Бавариус    False  Ресторан, Пивной ресторан   \n",
       "\n",
       "                   kitchen                            link  \\\n",
       "616  Немецкая, Европейская  /msk/detailed/restaurants/bav/   \n",
       "617  Немецкая, Европейская   /msk/detailed/restaurants/ba/   \n",
       "\n",
       "                                    metro              lon              lat  \\\n",
       "616  Маяковская (110 м), Тверская (676 м)   37.59748347138  55.769382848115   \n",
       "617                   Фрунзенская (259 м)  37.584410349273  55.728107368533   \n",
       "\n",
       "                                 address               phone rating  \\\n",
       "616    Москва, ул. Тверская 30/2, стр. 1  +7 (495) 699-42-11    3.3   \n",
       "617  Москва, Комсомольский пр., д. 21/10  +7 (499) 245-23-95    3.7   \n",
       "\n",
       "          timing  review_count                     review_link    avrCheck  \n",
       "616  12:00-24:00            12  /msk/opinions/restaurants/bav/  1500-2000р  \n",
       "617  12:00-24:00            16   /msk/opinions/restaurants/ba/  1500-2000р  "
      ]
     },
     "execution_count": 169,
     "metadata": {},
     "output_type": "execute_result"
    }
   ],
   "source": [
    "catalog[catalog.title == 'Бавариус']"
   ]
  },
  {
   "cell_type": "code",
   "execution_count": 170,
   "metadata": {},
   "outputs": [
    {
     "data": {
      "text/html": [
       "<div>\n",
       "<style>\n",
       "    .dataframe thead tr:only-child th {\n",
       "        text-align: right;\n",
       "    }\n",
       "\n",
       "    .dataframe thead th {\n",
       "        text-align: left;\n",
       "    }\n",
       "\n",
       "    .dataframe tbody tr th {\n",
       "        vertical-align: top;\n",
       "    }\n",
       "</style>\n",
       "<table border=\"1\" class=\"dataframe\">\n",
       "  <thead>\n",
       "    <tr style=\"text-align: right;\">\n",
       "      <th></th>\n",
       "      <th>ID</th>\n",
       "      <th>title</th>\n",
       "      <th>premium</th>\n",
       "      <th>type</th>\n",
       "      <th>kitchen</th>\n",
       "      <th>link</th>\n",
       "      <th>metro</th>\n",
       "      <th>lon</th>\n",
       "      <th>lat</th>\n",
       "      <th>address</th>\n",
       "      <th>phone</th>\n",
       "      <th>rating</th>\n",
       "      <th>timing</th>\n",
       "      <th>review_count</th>\n",
       "      <th>review_link</th>\n",
       "      <th>avrCheck</th>\n",
       "    </tr>\n",
       "  </thead>\n",
       "  <tbody>\n",
       "    <tr>\n",
       "      <th>0</th>\n",
       "      <td>1049250</td>\n",
       "      <td>Эларджи</td>\n",
       "      <td>False</td>\n",
       "      <td>Ресторан</td>\n",
       "      <td>Домашняя, Грузинская</td>\n",
       "      <td>/msk/detailed/restaurants/elardzhi/</td>\n",
       "      <td>Кропоткинская (490 м)</td>\n",
       "      <td>37.59573242574</td>\n",
       "      <td>55.744328498233</td>\n",
       "      <td>Москва, Гагаринский переулок, д. 15а</td>\n",
       "      <td>+7 (495) 988-26-56</td>\n",
       "      <td>4.5</td>\n",
       "      <td>12:00-00:00</td>\n",
       "      <td>40</td>\n",
       "      <td>/msk/opinions/restaurants/elardzhi/</td>\n",
       "      <td>1500-2000р</td>\n",
       "    </tr>\n",
       "    <tr>\n",
       "      <th>1</th>\n",
       "      <td>1216052</td>\n",
       "      <td>Mr. Lee / Мистер Ли</td>\n",
       "      <td>False</td>\n",
       "      <td>Ресторан, Суши-бар</td>\n",
       "      <td>Авторская, Паназиатская, Японская</td>\n",
       "      <td>/msk/detailed/restaurants/mr_lee/</td>\n",
       "      <td>Кузнецкий мост (72 м), Лубянка (364 м), Театра...</td>\n",
       "      <td>37.62332425168423</td>\n",
       "      <td>55.76196428280367</td>\n",
       "      <td>Москва, ул. Кузнецкий Мост, д. 7</td>\n",
       "      <td>+7 (495) 988-26-56</td>\n",
       "      <td>0.0</td>\n",
       "      <td>12:00–00:00</td>\n",
       "      <td>0</td>\n",
       "      <td>-</td>\n",
       "      <td>3000-4000р</td>\n",
       "    </tr>\n",
       "    <tr>\n",
       "      <th>2</th>\n",
       "      <td>1232207</td>\n",
       "      <td>Ласточка</td>\n",
       "      <td>False</td>\n",
       "      <td>Ресторан, Банкетный зал, Теплоход</td>\n",
       "      <td>Японская, Итальянская, Русская</td>\n",
       "      <td>/msk/detailed/restaurants/lastochka/</td>\n",
       "      <td>Воробьевы горы (1.98 км)</td>\n",
       "      <td>37.545842860372</td>\n",
       "      <td>55.726364613119</td>\n",
       "      <td>Москва, Лужнецкая наб., причал «Лужники  ...</td>\n",
       "      <td>+7 (495) 778-89-94</td>\n",
       "      <td>4.0</td>\n",
       "      <td>12:00-00:00</td>\n",
       "      <td>16</td>\n",
       "      <td>/msk/opinions/restaurants/lastochka/</td>\n",
       "      <td>2000-3000р</td>\n",
       "    </tr>\n",
       "    <tr>\n",
       "      <th>3</th>\n",
       "      <td>1430018</td>\n",
       "      <td>La Marée / Ла Маре</td>\n",
       "      <td>False</td>\n",
       "      <td>Ресторан</td>\n",
       "      <td>Рыбная, Средиземноморская</td>\n",
       "      <td>/msk/detailed/restaurants/la_maree/</td>\n",
       "      <td>Чеховская, Улица 1905 года, Смоленская (Арбатс...</td>\n",
       "      <td>0</td>\n",
       "      <td>0</td>\n",
       "      <td>-</td>\n",
       "      <td>+7 (495) 988-26-56</td>\n",
       "      <td>0.0</td>\n",
       "      <td>-</td>\n",
       "      <td>0</td>\n",
       "      <td>-</td>\n",
       "      <td>3000-4000р</td>\n",
       "    </tr>\n",
       "    <tr>\n",
       "      <th>4</th>\n",
       "      <td>1699769</td>\n",
       "      <td>SELFIE / Селфи</td>\n",
       "      <td>False</td>\n",
       "      <td>Ресторан</td>\n",
       "      <td>Авторская, Европейская</td>\n",
       "      <td>/msk/detailed/restaurants/selfie/</td>\n",
       "      <td>Баррикадная (355 м), Краснопресненская (466 м)</td>\n",
       "      <td>37.583187628311</td>\n",
       "      <td>55.757730600603</td>\n",
       "      <td>Москва, Новинский бульвар, 31, второй эт ...</td>\n",
       "      <td>+7 (495) 988-26-56</td>\n",
       "      <td>4.0</td>\n",
       "      <td>12:00-00:00 (до последнего гостя)</td>\n",
       "      <td>20</td>\n",
       "      <td>/msk/opinions/restaurants/selfie/</td>\n",
       "      <td>1500-2000р</td>\n",
       "    </tr>\n",
       "  </tbody>\n",
       "</table>\n",
       "</div>"
      ],
      "text/plain": [
       "        ID                title  premium                               type  \\\n",
       "0  1049250              Эларджи    False                           Ресторан   \n",
       "1  1216052  Mr. Lee / Мистер Ли    False                 Ресторан, Суши-бар   \n",
       "2  1232207             Ласточка    False  Ресторан, Банкетный зал, Теплоход   \n",
       "3  1430018   La Marée / Ла Маре    False                           Ресторан   \n",
       "4  1699769       SELFIE / Селфи    False                           Ресторан   \n",
       "\n",
       "                             kitchen                                  link  \\\n",
       "0               Домашняя, Грузинская   /msk/detailed/restaurants/elardzhi/   \n",
       "1  Авторская, Паназиатская, Японская     /msk/detailed/restaurants/mr_lee/   \n",
       "2     Японская, Итальянская, Русская  /msk/detailed/restaurants/lastochka/   \n",
       "3          Рыбная, Средиземноморская   /msk/detailed/restaurants/la_maree/   \n",
       "4             Авторская, Европейская     /msk/detailed/restaurants/selfie/   \n",
       "\n",
       "                                               metro                lon  \\\n",
       "0                              Кропоткинская (490 м)     37.59573242574   \n",
       "1  Кузнецкий мост (72 м), Лубянка (364 м), Театра...  37.62332425168423   \n",
       "2                           Воробьевы горы (1.98 км)    37.545842860372   \n",
       "3  Чеховская, Улица 1905 года, Смоленская (Арбатс...                  0   \n",
       "4     Баррикадная (355 м), Краснопресненская (466 м)    37.583187628311   \n",
       "\n",
       "                 lat                                       address  \\\n",
       "0    55.744328498233          Москва, Гагаринский переулок, д. 15а   \n",
       "1  55.76196428280367              Москва, ул. Кузнецкий Мост, д. 7   \n",
       "2    55.726364613119  Москва, Лужнецкая наб., причал «Лужники  ...   \n",
       "3                  0                                             -   \n",
       "4    55.757730600603  Москва, Новинский бульвар, 31, второй эт ...   \n",
       "\n",
       "                phone rating                             timing  review_count  \\\n",
       "0  +7 (495) 988-26-56    4.5                        12:00-00:00            40   \n",
       "1  +7 (495) 988-26-56    0.0                        12:00–00:00             0   \n",
       "2  +7 (495) 778-89-94    4.0                        12:00-00:00            16   \n",
       "3  +7 (495) 988-26-56    0.0                                  -             0   \n",
       "4  +7 (495) 988-26-56    4.0  12:00-00:00 (до последнего гостя)            20   \n",
       "\n",
       "                            review_link    avrCheck  \n",
       "0   /msk/opinions/restaurants/elardzhi/  1500-2000р  \n",
       "1                                     -  3000-4000р  \n",
       "2  /msk/opinions/restaurants/lastochka/  2000-3000р  \n",
       "3                                     -  3000-4000р  \n",
       "4     /msk/opinions/restaurants/selfie/  1500-2000р  "
      ]
     },
     "execution_count": 170,
     "metadata": {},
     "output_type": "execute_result"
    }
   ],
   "source": [
    "catalog.head()"
   ]
  },
  {
   "cell_type": "code",
   "execution_count": 171,
   "metadata": {
    "collapsed": true
   },
   "outputs": [],
   "source": [
    "catalog.to_csv('MskRestCat.csv', index=False, encoding='UTF-8')"
   ]
  },
  {
   "cell_type": "markdown",
   "metadata": {},
   "source": [
    "Чего не хватает? Описаний и изображений!<br>\n",
    "Для выгрузки этих данных мы напишем отдельный класс, который пробежит по всем ресторанам и соберет эти данные."
   ]
  },
  {
   "cell_type": "markdown",
   "metadata": {
    "collapsed": true
   },
   "source": [
    "## Часть 2"
   ]
  },
  {
   "cell_type": "code",
   "execution_count": 2,
   "metadata": {
    "collapsed": true
   },
   "outputs": [],
   "source": [
    "catalog = pd.read_csv('MskRestCat.csv')"
   ]
  },
  {
   "cell_type": "code",
   "execution_count": 32,
   "metadata": {
    "collapsed": true
   },
   "outputs": [],
   "source": [
    "class Page():\n",
    "    def __init__(self, data):\n",
    "        self.catalog = data\n",
    "        self.res_data = pd.DataFrame()\n",
    "        self.base_url = 'https://www.restoran.ru'\n",
    "        \n",
    "    def __getPage(self, link):\n",
    "        t = randint(2, 4)\n",
    "        print('Delay %s s.' % (t))\n",
    "        sleep(t)\n",
    "        page = requests.get(self.base_url + link)\n",
    "        data = html.fromstring(page.text)\n",
    "        return data\n",
    "    \n",
    "    def __getImage(self, page):\n",
    "        try:\n",
    "            img = page.cssselect('div.carousel-inner div.item')[0].cssselect('div.inline-wrapper a img')[0].attrib.get('src')\n",
    "            return self.base_url+img\n",
    "        except:\n",
    "            return '-'\n",
    "    \n",
    "    def __getDescription(self, page):\n",
    "        try:\n",
    "            text = page.cssselect('div.description')[0].text_content()\n",
    "            return text.replace('\\xa0',' ').replace('\\n','').replace('.','. ').replace('  ',' ').strip()\n",
    "        except:\n",
    "            return '-'\n",
    "    \n",
    "    def run(self):\n",
    "        for link in self.catalog.link:\n",
    "            if link != '-':\n",
    "                print('-------------PAGE <%s> PARSING-------------' % (link))\n",
    "                page = self.__getPage(link)\n",
    "                dscr = self.__getDescription(page)\n",
    "                img = self.__getImage(page)\n",
    "                print('-------------|%s|-------------' % (dscr[:15]))\n",
    "                print('-------------|%s|-------------' % (img[20:]))\n",
    "                self.res_data = self.res_data.append(pd.DataFrame({\n",
    "                    'link':[link], \n",
    "                    'description':[dscr],\n",
    "                    'image':[img]\n",
    "                }))"
   ]
  },
  {
   "cell_type": "code",
   "execution_count": 33,
   "metadata": {
    "collapsed": true
   },
   "outputs": [],
   "source": [
    "data = Page(catalog)"
   ]
  },
  {
   "cell_type": "code",
   "execution_count": 34,
   "metadata": {
    "scrolled": true
   },
   "outputs": [
    {
     "name": "stdout",
     "output_type": "stream",
     "text": [
      "-------------PAGE </msk/detailed/restaurants/elardzhi/> PARSING-------------\n",
      "Delay 2 s.\n",
      "-------------Ресторан «Элард-------------\n",
      "-------------.ru/upload/resize_cache/iblock/c09/728_400_2/1355315988.jpg-------------\n",
      "-------------PAGE </msk/detailed/restaurants/mr_lee/> PARSING-------------\n",
      "Delay 3 s.\n",
      "-------------Ресторан Mr. Le-------------\n",
      "-------------.ru/upload/resize_cache/iblock/08f/728_400_2/002fc3.jpg-------------\n",
      "-------------PAGE </msk/detailed/restaurants/lastochka/> PARSING-------------\n",
      "Delay 3 s.\n",
      "-------------Двухпалубный те-------------\n",
      "-------------.ru/upload/resize_cache/iblock/f62/728_400_2/lastochka_001bb3.jpg-------------\n",
      "-------------PAGE </msk/detailed/restaurants/la_maree/> PARSING-------------\n",
      "Delay 2 s.\n",
      "-------------«Ла Маре» - изв-------------\n",
      "--------------------------\n",
      "-------------PAGE </msk/detailed/restaurants/selfie/> PARSING-------------\n",
      "Delay 2 s.\n",
      "-------------Панорамный рест-------------\n",
      "-------------.ru/upload/resize_cache/iblock/b22/728_400_2/mg_9648_1a0b.jpg-------------\n",
      "-------------PAGE </msk/detailed/restaurants/chayka_restoran_yakhta/> PARSING-------------\n",
      "Delay 2 s.\n",
      "-------------Причал ресторан-------------\n",
      "-------------.ru/upload/resize_cache/iblock/d59/728_400_2/img_33193b5.jpg-------------\n",
      "-------------PAGE </msk/detailed/restaurants/black_thai/> PARSING-------------\n",
      "Delay 2 s.\n",
      "-------------Ресторан Black -------------\n",
      "-------------.ru/upload/resize_cache/iblock/512/728_400_2/zal_002e75.jpg-------------\n",
      "-------------PAGE </msk/detailed/restaurants/sixty/> PARSING-------------\n",
      "Delay 2 s.\n",
      "-------------Ресторан Sixty -------------\n",
      "-------------.ru/upload/resize_cache/iblock/3a0/728_400_2/3v7a87119ec.jpg-------------\n",
      "-------------PAGE </msk/detailed/restaurants/whiterabbit/> PARSING-------------\n",
      "Delay 3 s.\n",
      "-------------РесторанWhite R-------------\n",
      "-------------.ru/upload/resize_cache/iblock/65f/728_400_2/10842_preview756c.jpg-------------\n",
      "-------------PAGE </msk/detailed/restaurants/voronezh/> PARSING-------------\n",
      "Delay 4 s.\n",
      "-------------В Москве, по ад-------------\n",
      "-------------.ru/upload/resize_cache/iblock/804/728_400_2/img_4763_panorama_262e.jpg-------------\n",
      "-------------PAGE </msk/detailed/restaurants/taras_bulba_set/> PARSING-------------\n",
      "Delay 2 s.\n",
      "-------------Сеть ресторанов-------------\n",
      "--------------------------\n",
      "-------------PAGE </msk/detailed/restaurants/the_mad_cook/> PARSING-------------\n",
      "Delay 4 s.\n",
      "-------------Ресторан The Ma-------------\n",
      "-------------.ru/upload/resize_cache/iblock/7ef/728_400_2/bd_0517_2784.jpg-------------\n",
      "-------------PAGE </msk/detailed/restaurants/the-waiters/> PARSING-------------\n",
      "Delay 2 s.\n",
      "-------------Если вы думаете-------------\n",
      "-------------.ru/upload/resize_cache/iblock/371/728_400_2/untitled2eb9.jpg-------------\n",
      "-------------PAGE </msk/detailed/restaurants/moregril/> PARSING-------------\n",
      "Delay 3 s.\n",
      "-------------«Moregrill» – б-------------\n",
      "-------------.ru/upload/resize_cache/iblock/3e9/728_400_2/moregrill_design_4_2cae.jpg-------------\n",
      "-------------PAGE </msk/detailed/restaurants/nofar/> PARSING-------------\n",
      "Delay 4 s.\n",
      "-------------Аркадий Новиков-------------\n",
      "-------------.ru/upload/resize_cache/iblock/0fa/728_400_2/3v7a9807_25f0.jpg-------------\n",
      "-------------PAGE </msk/detailed/restaurants/beluga/> PARSING-------------\n",
      "Delay 3 s.\n",
      "-------------Лучший ресторан-------------\n",
      "-------------.ru/upload/resize_cache/iblock/a75/728_400_2/beluga_interior_24f8.jpg-------------\n",
      "-------------PAGE </msk/detailed/restaurants/butler/> PARSING-------------\n",
      "Delay 4 s.\n",
      "---------------------------\n",
      "-------------.ru/upload/resize_cache/iblock/b80/728_400_2/6_2_438066.jpg-------------\n",
      "-------------PAGE </msk/detailed/restaurants/nabatpalace-resto/> PARSING-------------\n",
      "Delay 4 s.\n",
      "---------------------------\n",
      "-------------.ru/upload/resize_cache/iblock/2e0/728_400_2/img_3151_2_3fe7.jpg-------------\n",
      "-------------PAGE </msk/detailed/restaurants/azerbaydjan/> PARSING-------------\n",
      "Delay 2 s.\n",
      "-------------Путешествие в н-------------\n",
      "-------------.ru/upload/resize_cache/iblock/c7e/728_400_2/zal5_004965.jpg-------------\n",
      "-------------PAGE </msk/detailed/restaurants/oblomov/> PARSING-------------\n",
      "Delay 3 s.\n",
      "-------------Ресторан со зву-------------\n",
      "-------------.ru/upload/resize_cache/iblock/2b5/728_400_2/151d.jpg-------------\n",
      "-------------PAGE </msk/detailed/restaurants/radiocity/> PARSING-------------\n",
      "Delay 4 s.\n",
      "---------------------------\n",
      "-------------.ru/upload/resize_cache/iblock/3da/728_400_2/25_4511277.jpg-------------\n",
      "-------------PAGE </msk/detailed/restaurants/19_bar_atmospher/> PARSING-------------\n",
      "Delay 3 s.\n",
      "-------------Ресторан 19 Bar-------------\n",
      "-------------.ru/upload/iblock/496/img_4010ddd.jpg-------------\n",
      "-------------PAGE </msk/detailed/restaurants/andyscafe/> PARSING-------------\n",
      "Delay 4 s.\n",
      "-------------Ресторан Andy’s-------------\n",
      "-------------.ru/upload/resize_cache/iblock/26b/728_400_2/img_0006_2c2e.jpg-------------\n",
      "-------------PAGE </msk/detailed/restaurants/apple_bar/> PARSING-------------\n",
      "Delay 2 s.\n",
      "-------------Ресторан Apple -------------\n",
      "-------------.ru/upload/resize_cache/iblock/e46/728_400_2/0q2a7829_2ed6.jpg-------------\n",
      "-------------PAGE </msk/detailed/restaurants/andiamo_rest/> PARSING-------------\n",
      "Delay 4 s.\n",
      "-------------Ресторан Andiam-------------\n",
      "-------------.ru/upload/resize_cache/iblock/aab/728_400_2/811229_2b51.jpg-------------\n",
      "-------------PAGE </msk/detailed/restaurants/agio/> PARSING-------------\n",
      "Delay 2 s.\n",
      "-------------Кафе Agio в Мос-------------\n",
      "-------------.ru/upload/resize_cache/iblock/d5a/728_400_2/image2a7.jpeg-------------\n",
      "-------------PAGE </msk/detailed/restaurants/skazka-vostoka/> PARSING-------------\n",
      "Delay 4 s.\n",
      "-------------Ресторан «1001 -------------\n",
      "-------------.ru/upload/resize_cache/iblock/504/728_400_2/k97a3218_panorama_smalled7.jpg-------------\n",
      "-------------PAGE </msk/detailed/restaurants/antica_italia/> PARSING-------------\n",
      "Delay 4 s.\n",
      "-------------Ресторан Antica-------------\n",
      "-------------.ru/upload/resize_cache/iblock/65e/728_400_2/9d9a2306_2ffb.jpg-------------\n",
      "-------------PAGE </msk/detailed/restaurants/accenti-aktsenti/> PARSING-------------\n",
      "Delay 2 s.\n",
      "-------------Ресторан Accent-------------\n",
      "-------------.ru/upload/resize_cache/iblock/be8/728_400_2/accenti_07743.jpg-------------\n",
      "-------------PAGE </msk/detailed/restaurants/maslovka-cafe-andiamo/> PARSING-------------\n",
      "Delay 2 s.\n",
      "-------------«Андиамо» на Ни-------------\n",
      "-------------.ru/upload/resize_cache/iblock/672/728_400_2/img_7219f87.jpg-------------\n",
      "-------------PAGE </msk/detailed/restaurants/9-etazh/> PARSING-------------\n",
      "Delay 3 s.\n",
      "-------------Кафе«9 этаж» в -------------\n",
      "-------------.ru/upload/resize_cache/iblock/34e/728_400_2/dsc_003499d.jpg-------------\n",
      "-------------PAGE </msk/detailed/restaurants/aozora-lounge-leninskiy/> PARSING-------------\n",
      "Delay 4 s.\n",
      "-------------РесторанAozora -------------\n",
      "-------------.ru/upload/resize_cache/iblock/644/728_400_2/dsc7118bec.jpg-------------\n",
      "-------------PAGE </msk/detailed/restaurants/archie/> PARSING-------------\n",
      "Delay 2 s.\n",
      "---------------------------\n",
      "-------------.ru/upload/resize_cache/iblock/84b/728_400_2/grb_012_min_2e23.jpg-------------\n",
      "-------------PAGE </msk/detailed/restaurants/12-wine-bar/> PARSING-------------\n",
      "Delay 4 s.\n",
      "-------------12 WINE BAR - о-------------\n",
      "-------------.ru/upload/resize_cache/iblock/c11/728_400_2/img_5095_268a.jpg-------------\n",
      "-------------PAGE </msk/detailed/restaurants/abal/> PARSING-------------\n",
      "Delay 3 s.\n",
      "---------------------------\n",
      "-------------.ru/upload/resize_cache/iblock/ef1/728_400_2/y9ugifuadb8_2638.jpg-------------\n",
      "-------------PAGE </msk/detailed/restaurants/alma-bar/> PARSING-------------\n",
      "Delay 2 s.\n",
      "-------------Тема Крыма, кры-------------\n",
      "-------------.ru/upload/resize_cache/iblock/835/728_400_2/bar_0044dcd.jpg-------------\n",
      "-------------PAGE </msk/detailed/restaurants/art-palazzo/> PARSING-------------\n",
      "Delay 2 s.\n",
      "-------------Гостинично-рест-------------\n",
      "-------------.ru/upload/resize_cache/iblock/043/728_400_2/img_20171024_wa0019_2afa.jpg-------------\n",
      "-------------PAGE </msk/detailed/restaurants/800-s-contemporary-steak/> PARSING-------------\n",
      "Delay 2 s.\n",
      "-------------800°С Contempor-------------\n",
      "-------------.ru/upload/resize_cache/iblock/bb3/728_400_2/6k6a9047_2719.jpg-------------\n",
      "-------------PAGE </msk/detailed/restaurants/of_sobranie/> PARSING-------------\n",
      "Delay 2 s.\n"
     ]
    },
    {
     "name": "stdout",
     "output_type": "stream",
     "text": [
      "-------------Вы уже были в г-------------\n",
      "-------------.ru/upload/resize_cache/iblock/00f/728_400_2/1ofitserskoesobranie_akvarium_0011cf.jpg-------------\n",
      "-------------PAGE </msk/detailed/restaurants/01cafe/> PARSING-------------\n",
      "Delay 4 s.\n",
      "-------------Проходя мимо \"0-------------\n",
      "-------------.ru/upload/resize_cache/iblock/e89/728_400_2/a45ap_zal_foto3.jpg-------------\n",
      "-------------PAGE </msk/detailed/restaurants/barbara_bar/> PARSING-------------\n",
      "Delay 4 s.\n",
      "-------------«Барбара бар» —-------------\n",
      "-------------.ru/upload/resize_cache/iblock/c1d/728_400_2/zal_002_2479d9.jpg-------------\n",
      "-------------PAGE </msk/detailed/restaurants/backstagerest/> PARSING-------------\n",
      "Delay 2 s.\n",
      "-------------Ресторан Backst-------------\n",
      "-------------.ru/upload/resize_cache/iblock/6ea/728_400_2/backstage_vip_002ab3.jpg-------------\n",
      "-------------PAGE </msk/detailed/restaurants/bamboobar/> PARSING-------------\n",
      "Delay 2 s.\n",
      "-------------Ресторан Bamboo-------------\n",
      "-------------.ru/upload/resize_cache/iblock/651/728_400_2/dsc3214e98.jpg-------------\n",
      "-------------PAGE </msk/detailed/restaurants/barbqcafemanezh/> PARSING-------------\n",
      "Delay 3 s.\n",
      "-------------Известная в сто-------------\n",
      "-------------.ru/upload/resize_cache/iblock/c3c/728_400_2/barbq_zal_002a59.jpg-------------\n",
      "-------------PAGE </msk/detailed/restaurants/baby_cafe/> PARSING-------------\n",
      "Delay 3 s.\n",
      "-------------Ресторан «Baby -------------\n",
      "-------------.ru/upload/resize_cache/iblock/d1a/728_400_2/mg_7060_20e9.jpg-------------\n",
      "-------------PAGE </msk/detailed/restaurants/balzi_rossi/> PARSING-------------\n",
      "Delay 2 s.\n",
      "-------------Это довольно ст-------------\n",
      "-------------.ru/upload/resize_cache/iblock/ad1/728_400_2/1_27ee.jpg-------------\n",
      "-------------PAGE </msk/detailed/restaurants/aurarest/> PARSING-------------\n",
      "Delay 4 s.\n",
      "-------------Новый ресторан -------------\n",
      "-------------.ru/upload/resize_cache/iblock/307/728_400_2/071215aura_inerier_003_min0ba.png-------------\n",
      "-------------PAGE </msk/detailed/restaurants/aviator/> PARSING-------------\n",
      "Delay 3 s.\n",
      "-------------Ресторан «Авиат-------------\n",
      "-------------.ru/upload/resize_cache/iblock/efb/728_400_2/stsena8da.jpg-------------\n",
      "-------------PAGE </msk/detailed/restaurants/asaki/> PARSING-------------\n",
      "Delay 4 s.\n",
      "-------------Банкетный зал и-------------\n",
      "-------------.ru/upload/resize_cache/iblock/832/728_400_2/img_14475f5.jpg-------------\n",
      "-------------PAGE </msk/detailed/restaurants/artichoke/> PARSING-------------\n",
      "Delay 3 s.\n",
      "-------------Ресторан Artich-------------\n",
      "-------------.ru/upload/resize_cache/iblock/276/728_400_2/b49493.jpg-------------\n",
      "-------------PAGE </msk/detailed/restaurants/aviator-rest/> PARSING-------------\n",
      "Delay 2 s.\n",
      "-------------Приглашаем вас -------------\n",
      "-------------.ru/upload/resize_cache/iblock/ed6/728_400_2/aviator_06_2f24.jpg-------------\n",
      "-------------PAGE </msk/detailed/restaurants/aziya/> PARSING-------------\n",
      "Delay 3 s.\n",
      "-------------РесторанAsia в -------------\n",
      "-------------.ru/upload/resize_cache/iblock/39e/728_400_2/img_5889_24d5.jpg-------------\n",
      "-------------PAGE </msk/detailed/restaurants/atmosphere/> PARSING-------------\n",
      "Delay 4 s.\n",
      "-------------Ресторан «Атмос-------------\n",
      "-------------.ru/upload/resize_cache/iblock/534/728_400_2/8_int_224f.jpg-------------\n",
      "-------------PAGE </msk/detailed/restaurants/barabar/> PARSING-------------\n",
      "Delay 3 s.\n",
      "---------------------------\n",
      "-------------.ru/upload/resize_cache/iblock/4ca/728_400_2/zal_4_7074b4.jpg-------------\n",
      "-------------PAGE </msk/detailed/restaurants/avshar-club/> PARSING-------------\n",
      "Delay 2 s.\n",
      "---------------------------\n",
      "-------------.ru/upload/resize_cache/iblock/ab6/728_400_2/dm39999_20c5.jpg-------------\n",
      "-------------PAGE </msk/detailed/restaurants/baron-de-makaron/> PARSING-------------\n",
      "Delay 3 s.\n",
      "-------------«Барон де Макар-------------\n",
      "-------------.ru/upload/resize_cache/iblock/52e/728_400_2/interior2_2783.jpg-------------\n",
      "-------------PAGE </msk/detailed/restaurants/barton-1816/> PARSING-------------\n",
      "Delay 4 s.\n",
      "-------------Ресторан-усадьб-------------\n",
      "-------------.ru/upload/resize_cache/iblock/6ab/728_400_2/alekseev3b3.jpg-------------\n",
      "-------------PAGE </msk/detailed/restaurants/barrique/> PARSING-------------\n",
      "Delay 2 s.\n",
      "---------------------------\n",
      "-------------.ru/upload/resize_cache/iblock/375/728_400_2/img_0805601.jpg-------------\n",
      "-------------PAGE </msk/detailed/restaurants/artspalace/> PARSING-------------\n",
      "Delay 3 s.\n",
      "-------------В самом сердце -------------\n",
      "-------------.ru/upload/resize_cache/iblock/b04/728_400_2/img_7267474.jpg-------------\n",
      "-------------PAGE </msk/detailed/restaurants/barbqcafe/> PARSING-------------\n",
      "Delay 3 s.\n",
      "-------------Bar BQCafe изве-------------\n",
      "-------------.ru/upload/resize_cache/iblock/a2b/728_400_2/k97a5917_webd8e.jpg-------------\n",
      "-------------PAGE </msk/detailed/restaurants/black_thai/> PARSING-------------\n",
      "Delay 2 s.\n",
      "-------------Ресторан Black -------------\n",
      "-------------.ru/upload/resize_cache/iblock/512/728_400_2/zal_002e75.jpg-------------\n",
      "-------------PAGE </msk/detailed/restaurants/beeftime/> PARSING-------------\n",
      "Delay 4 s.\n",
      "-------------Ресторан Beef T-------------\n",
      "-------------.ru/upload/resize_cache/iblock/b66/728_400_2/1_3_2_208f.jpg-------------\n",
      "-------------PAGE </msk/detailed/restaurants/big_ben/> PARSING-------------\n",
      "Delay 2 s.\n",
      "---------------------------\n",
      "-------------.ru/upload/resize_cache/iblock/ea8/728_400_2/385a9872431.jpg-------------\n",
      "-------------PAGE </msk/detailed/restaurants/belissimo/> PARSING-------------\n",
      "Delay 3 s.\n",
      "-------------Ресторан Beliss-------------\n",
      "-------------.ru/upload/resize_cache/iblock/991/728_400_2/k97a1110_small971.jpg-------------\n",
      "-------------PAGE </msk/detailed/restaurants/balzam_nagatinskaya/> PARSING-------------\n",
      "Delay 2 s.\n",
      "---------------------------\n",
      "-------------.ru/upload/resize_cache/iblock/292/728_400_2/zal_8_2_956a42.jpg-------------\n",
      "-------------PAGE </msk/detailed/restaurants/bellapasta/> PARSING-------------\n",
      "Delay 3 s.\n",
      "-------------Перенестись с К-------------\n",
      "-------------.ru/upload/resize_cache/iblock/849/728_400_2/zal1_004_123841.jpg-------------\n",
      "-------------PAGE </msk/detailed/restaurants/bellapasta_solyanka/> PARSING-------------\n",
      "Delay 2 s.\n",
      "-------------РГ «GOURMET ALL-------------\n",
      "-------------.ru/upload/resize_cache/iblock/f4f/728_400_2/k97a1678_small40f.jpg-------------\n",
      "-------------PAGE </msk/detailed/restaurants/black_cat_izmaylovskiy/> PARSING-------------\n",
      "Delay 4 s.\n",
      "---------------------------\n",
      "-------------.ru/upload/resize_cache/iblock/9ba/728_400_2/dsc_0442_2f3a.jpg-------------\n",
      "-------------PAGE </msk/detailed/restaurants/bella_napoli/> PARSING-------------\n",
      "Delay 2 s.\n",
      "---------------------------\n",
      "-------------.ru/upload/resize_cache/iblock/251/728_400_2/48101572_8gmznjwq_8iopwnyvhljx_yboimksohb35pjcsvq5kub65.jpg-------------\n",
      "-------------PAGE </msk/detailed/restaurants/bavaria_wald_dorf/> PARSING-------------\n",
      "Delay 4 s.\n",
      "---------------------------\n",
      "-------------.ru/upload/resize_cache/iblock/b4b/728_400_2/mg_681535d.jpg-------------\n",
      "-------------PAGE </msk/detailed/restaurants/kot-begemot/> PARSING-------------\n",
      "Delay 2 s.\n",
      "-------------«За мной, читат-------------\n",
      "-------------.ru/upload/resize_cache/iblock/3ee/728_400_2/_zal_004d58.jpg-------------\n",
      "-------------PAGE </msk/detailed/restaurants/bericoni/> PARSING-------------\n",
      "Delay 2 s.\n",
      "-------------Ресторан Berico-------------\n",
      "-------------.ru/upload/resize_cache/iblock/aa7/728_400_2/dsc_0114_24ed.jpg-------------\n",
      "-------------PAGE </msk/detailed/restaurants/beerness/> PARSING-------------\n",
      "Delay 4 s.\n",
      "-------------Если вы любите -------------\n",
      "-------------.ru/upload/resize_cache/iblock/18f/728_400_2/fuj_5780351.jpg-------------\n",
      "-------------PAGE </msk/detailed/restaurants/beer-loft/> PARSING-------------\n",
      "Delay 2 s.\n",
      "-------------Пивной ресторан-------------\n",
      "-------------.ru/upload/resize_cache/iblock/b61/728_400_2/2a6a9db52e549d4282feaa1278fef.jpg-------------\n",
      "-------------PAGE </msk/detailed/restaurants/berlin-bar/> PARSING-------------\n",
      "Delay 2 s.\n",
      "-------------Если вы хотите -------------\n",
      "-------------.ru/upload/resize_cache/iblock/916/728_400_2/photo_52_2053.jpg-------------\n",
      "-------------PAGE </msk/detailed/restaurants/blacksmith-irishpub/> PARSING-------------\n",
      "Delay 2 s.\n",
      "---------------------------\n",
      "-------------.ru/upload/resize_cache/iblock/397/728_400_2/2016_06_25_2343a.jpg-------------\n",
      "-------------PAGE </msk/detailed/restaurants/birds-and-bees/> PARSING-------------\n",
      "Delay 3 s.\n"
     ]
    },
    {
     "name": "stdout",
     "output_type": "stream",
     "text": [
      "-------------Это ресторан… н-------------\n",
      "-------------.ru/upload/resize_cache/iblock/85d/728_400_2/1_glavnaya_2485.jpg-------------\n",
      "-------------PAGE </msk/detailed/restaurants/beermarket/> PARSING-------------\n",
      "Delay 4 s.\n",
      "-------------Визитными карто-------------\n",
      "-------------.ru/upload/resize_cache/iblock/2e5/728_400_2/vipzal_00169c.jpg-------------\n",
      "-------------PAGE </msk/detailed/restaurants/bistrot/> PARSING-------------\n",
      "Delay 4 s.\n",
      "-------------Это тот самый б-------------\n",
      "-------------.ru/upload/resize_cache/iblock/605/728_400_2/e9b9bistrot_1.jpg-------------\n",
      "-------------PAGE </msk/detailed/restaurants/brasseriemost/> PARSING-------------\n",
      "Delay 4 s.\n",
      "-------------Ресторан «Brass-------------\n",
      "-------------.ru/upload/resize_cache/iblock/21a/728_400_2/img_2014_1d32.jpg-------------\n",
      "-------------PAGE </msk/detailed/restaurants/stkrolik/> PARSING-------------\n",
      "Delay 4 s.\n",
      "---------------------------\n",
      "-------------.ru/upload/resize_cache/iblock/976/728_400_2/2017_09_26_212523_247e.jpg-------------\n",
      "-------------PAGE </msk/detailed/restaurants/brighton2/> PARSING-------------\n",
      "Delay 2 s.\n",
      "---------------------------\n",
      "-------------.ru/upload/resize_cache/iblock/b72/728_400_2/8s0b2708_105_28f8.jpg-------------\n",
      "-------------PAGE </msk/detailed/restaurants/brasseriya_lambik/> PARSING-------------\n",
      "Delay 2 s.\n",
      "-------------«БрассерияЛамби-------------\n",
      "--------------------------\n",
      "-------------PAGE </msk/detailed/restaurants/boroda/> PARSING-------------\n",
      "Delay 3 s.\n",
      "---------------------------\n",
      "-------------.ru/upload/resize_cache/iblock/b98/728_400_2/rthkkxr6w5e_2bb6.jpg-------------\n",
      "-------------PAGE </msk/detailed/restaurants/boston_sergiya_radonezhskogo/> PARSING-------------\n",
      "Delay 4 s.\n",
      "---------------------------\n",
      "-------------.ru/upload/resize_cache/iblock/0d8/728_400_2/dsc_0535_2015.jpg-------------\n",
      "-------------PAGE </msk/detailed/restaurants/brawler-s/> PARSING-------------\n",
      "Delay 3 s.\n",
      "-------------Пивной ресторан-------------\n",
      "-------------.ru/upload/resize_cache/iblock/27f/728_400_2/dscf9801486.jpg-------------\n",
      "-------------PAGE </msk/detailed/restaurants/brix-na-pyatnitskoy/> PARSING-------------\n",
      "Delay 2 s.\n",
      "-------------Винотека Brix в-------------\n",
      "-------------.ru/upload/resize_cache/iblock/a95/728_400_2/827775_2088.jpg-------------\n",
      "-------------PAGE </msk/detailed/restaurants/brix-bar/> PARSING-------------\n",
      "Delay 4 s.\n",
      "-------------Винотека Brix B-------------\n",
      "-------------.ru/upload/resize_cache/iblock/29b/728_400_2/619a.jpg-------------\n",
      "-------------PAGE </msk/detailed/restaurants/brix-na-pokrovke/> PARSING-------------\n",
      "Delay 4 s.\n",
      "-------------Винотека Brix в-------------\n",
      "-------------.ru/upload/resize_cache/iblock/191/728_400_2/landing_7709.jpg-------------\n",
      "-------------PAGE </msk/detailed/restaurants/bocconcino-kutuzovskiy/> PARSING-------------\n",
      "Delay 3 s.\n",
      "-------------Если вы привыкл-------------\n",
      "-------------.ru/upload/resize_cache/iblock/dab/728_400_2/5d3_8594_medium_2864.jpg-------------\n",
      "-------------PAGE </msk/detailed/restaurants/brb/> PARSING-------------\n",
      "Delay 4 s.\n",
      "-------------Совсем недавно -------------\n",
      "-------------.ru/upload/resize_cache/iblock/f03/728_400_2/rg3a6997_20db.jpg-------------\n",
      "-------------PAGE </msk/detailed/restaurants/bocconcino-leningradskoe/> PARSING-------------\n",
      "Delay 3 s.\n",
      "-------------Пиццерий Boccon-------------\n",
      "-------------.ru/upload/resize_cache/iblock/48b/728_400_2/bocconcino_metropolis_3_800h6006da.jpg-------------\n",
      "-------------PAGE </msk/detailed/restaurants/bolomut/> PARSING-------------\n",
      "Delay 4 s.\n",
      "---------------------------\n",
      "-------------.ru/upload/resize_cache/iblock/52b/728_400_2/dsc07921_2c26.jpg-------------\n",
      "-------------PAGE </msk/detailed/restaurants/born-to-burn/> PARSING-------------\n",
      "Delay 3 s.\n",
      "---------------------------\n",
      "-------------.ru/upload/resize_cache/iblock/03e/728_400_2/amo_6937_2d43.jpg-------------\n",
      "-------------PAGE </msk/detailed/restaurants/bon-app/> PARSING-------------\n",
      "Delay 4 s.\n",
      "-------------Кафе Bon App ра-------------\n",
      "-------------.ru/upload/resize_cache/iblock/265/728_400_2/nik_1056_2bea.jpg-------------\n",
      "-------------PAGE </msk/detailed/restaurants/bocconcino-strastnoy/> PARSING-------------\n",
      "Delay 3 s.\n",
      "-------------Ресторан Boccon-------------\n",
      "-------------.ru/upload/resize_cache/iblock/2fe/728_400_2/img_3114_2ea7.jpg-------------\n",
      "-------------PAGE </msk/detailed/restaurants/bocconcino-novoslobodskaya/> PARSING-------------\n",
      "Delay 2 s.\n",
      "-------------Ресторан Boccon-------------\n",
      "-------------.ru/upload/resize_cache/iblock/a49/728_400_2/img_0729_as_smart_object_1_27d5.jpg-------------\n",
      "-------------PAGE </msk/detailed/restaurants/bottoms-up/> PARSING-------------\n",
      "Delay 4 s.\n",
      "-------------Гастробар Botto-------------\n",
      "-------------.ru/upload/resize_cache/iblock/689/728_400_2/bottoms_up_000251d.jpg-------------\n",
      "-------------PAGE </msk/detailed/restaurants/bocconcino-set/> PARSING-------------\n",
      "Delay 3 s.\n",
      "---------------------------\n",
      "--------------------------\n",
      "-------------PAGE </msk/detailed/restaurants/maskafili/> PARSING-------------\n",
      "Delay 2 s.\n",
      "-------------Вкусно, качеств-------------\n",
      "-------------.ru/upload/resize_cache/iblock/f54/728_400_2/k97a5628_smalldfb.jpg-------------\n",
      "-------------PAGE </msk/detailed/restaurants/cafedearts/> PARSING-------------\n",
      "Delay 3 s.\n",
      "-------------Cafe de Arts («-------------\n",
      "-------------.ru/upload/resize_cache/iblock/f8f/728_400_2/zal1_006889.jpg-------------\n",
      "-------------PAGE </msk/detailed/restaurants/cafe21/> PARSING-------------\n",
      "Delay 2 s.\n",
      "-------------Ресторан Cafe X-------------\n",
      "-------------.ru/upload/resize_cache/iblock/227/728_400_2/12254.jpg-------------\n",
      "-------------PAGE </msk/detailed/restaurants/ceretto_tsvetnoy_bulvar/> PARSING-------------\n",
      "Delay 2 s.\n",
      "-------------Ресторан Cerett-------------\n",
      "-------------.ru/upload/resize_cache/iblock/f64/728_400_2/1_21d1.jpg-------------\n",
      "-------------PAGE </msk/detailed/restaurants/carpe-diem/> PARSING-------------\n",
      "Delay 4 s.\n",
      "-------------Ресторан Carpe -------------\n",
      "-------------.ru/upload/resize_cache/iblock/411/728_400_2/img_7023_iil_wrce9.jpg-------------\n",
      "-------------PAGE </msk/detailed/restaurants/bb/> PARSING-------------\n",
      "Delay 4 s.\n",
      "-------------Ресторан-бар-кл-------------\n",
      "-------------.ru/upload/resize_cache/iblock/9f8/728_400_2/189b7.jpg-------------\n",
      "-------------PAGE </msk/detailed/restaurants/burgers_crabs/> PARSING-------------\n",
      "Delay 4 s.\n",
      "-------------Ресторан Burger-------------\n",
      "-------------.ru/upload/resize_cache/iblock/b96/728_400_2/1914365_1980537285505692_1757934562655036409_nb23.jpg-------------\n",
      "-------------PAGE </msk/detailed/restaurants/carne-vino/> PARSING-------------\n",
      "Delay 3 s.\n",
      "-------------Пятиметровые по-------------\n",
      "-------------.ru/upload/resize_cache/iblock/e11/728_400_2/carne_vino_int_1_2c7e.jpg-------------\n",
      "-------------PAGE </msk/detailed/restaurants/cashflow/> PARSING-------------\n",
      "Delay 4 s.\n",
      "-------------Умеете считать -------------\n",
      "-------------.ru/upload/resize_cache/iblock/df5/728_400_2/balkon_009bee.jpg-------------\n",
      "-------------PAGE </msk/detailed/restaurants/brusoff_bryusoff/> PARSING-------------\n",
      "Delay 3 s.\n",
      "-------------Ресторан Brusof-------------\n",
      "-------------.ru/upload/resize_cache/iblock/741/728_400_2/0_c9bea_af723c8f_xxxl2bc.jpg-------------\n",
      "-------------PAGE </msk/detailed/restaurants/bromley_brothers/> PARSING-------------\n",
      "Delay 2 s.\n",
      "---------------------------\n",
      "-------------.ru/upload/resize_cache/iblock/b70/728_400_2/img_3530_fotor_803x535864.jpg-------------\n",
      "-------------PAGE </msk/detailed/restaurants/burger-pizzetta/> PARSING-------------\n",
      "Delay 4 s.\n",
      "-------------Ресторан Burger-------------\n",
      "-------------.ru/upload/resize_cache/iblock/069/728_400_2/burgerpizzetta_zal_00792d.jpg-------------\n",
      "-------------PAGE </msk/detailed/restaurants/casa-bella/> PARSING-------------\n",
      "Delay 3 s.\n",
      "-------------Ресторан Casa B-------------\n",
      "-------------.ru/upload/resize_cache/iblock/ca2/728_400_2/dsc_0434f58.jpg-------------\n",
      "-------------PAGE </msk/detailed/restaurants/casa-mia/> PARSING-------------\n",
      "Delay 2 s.\n",
      "-------------РесторанCasa Mi-------------\n",
      "-------------.ru/upload/resize_cache/iblock/8d5/728_400_2/img_6761_enfuse_2d86.jpg-------------\n",
      "-------------PAGE </msk/detailed/restaurants/bronco/> PARSING-------------\n",
      "Delay 3 s.\n",
      "-------------НаМалой Бронной-------------\n",
      "-------------.ru/upload/resize_cache/iblock/28a/728_400_2/bronco_int_2bc7.jpg-------------\n",
      "-------------PAGE </msk/detailed/restaurants/central/> PARSING-------------\n",
      "Delay 4 s.\n"
     ]
    },
    {
     "name": "stdout",
     "output_type": "stream",
     "text": [
      "-------------Ресторан Centra-------------\n",
      "-------------.ru/upload/resize_cache/iblock/f85/728_400_2/k97a8490_23df.jpg-------------\n",
      "-------------PAGE </msk/detailed/restaurants/casadimosca/> PARSING-------------\n",
      "Delay 2 s.\n",
      "-------------Ресторан Casa d-------------\n",
      "-------------.ru/upload/resize_cache/iblock/edc/728_400_2/casaaef.jpg-------------\n",
      "-------------PAGE </msk/detailed/restaurants/catch-bistro/> PARSING-------------\n",
      "Delay 3 s.\n",
      "-------------Catch Human fri-------------\n",
      "-------------.ru/upload/resize_cache/iblock/1f9/728_400_2/img_7431_27ee.jpg-------------\n",
      "-------------PAGE </msk/detailed/restaurants/cantinetta_antinori/> PARSING-------------\n",
      "Delay 4 s.\n",
      "-------------Ресторан Cantin-------------\n",
      "-------------.ru/upload/resize_cache/iblock/4f3/728_400_2/04791e.jpg-------------\n",
      "-------------PAGE </msk/detailed/restaurants/chelsea-pub/> PARSING-------------\n",
      "Delay 4 s.\n",
      "-------------Если вы до сих -------------\n",
      "-------------.ru/upload/resize_cache/iblock/1b2/728_400_2/1360672650.jpg-------------\n",
      "-------------PAGE </msk/detailed/restaurants/china_club/> PARSING-------------\n",
      "Delay 4 s.\n",
      "-------------Ресторан China -------------\n",
      "-------------.ru/upload/resize_cache/iblock/981/728_400_2/4_63926f.jpg-------------\n",
      "-------------PAGE </msk/detailed/restaurants/chateaubobroff/> PARSING-------------\n",
      "Delay 2 s.\n",
      "-------------РесторанChateau-------------\n",
      "-------------.ru/upload/resize_cache/iblock/698/728_400_2/k97a9016_small1d3.jpg-------------\n",
      "-------------PAGE </msk/detailed/restaurants/ceretto/> PARSING-------------\n",
      "Delay 3 s.\n",
      "-------------Ресторан Cerett-------------\n",
      "-------------.ru/upload/resize_cache/iblock/d96/728_400_2/img_7529_04_11_17_01_06204.jpg-------------\n",
      "-------------PAGE </msk/detailed/restaurants/chinchin_verkhnyaya_maslovka/> PARSING-------------\n",
      "Delay 3 s.\n",
      "---------------------------\n",
      "-------------.ru/upload/iblock/89e/7755c57.jpg-------------\n",
      "-------------PAGE </msk/detailed/restaurants/chinchin_ul_nagatinskaya/> PARSING-------------\n",
      "Delay 3 s.\n",
      "---------------------------\n",
      "-------------.ru/upload/iblock/0e9/775492d.jpg-------------\n",
      "-------------PAGE </msk/detailed/restaurants/chalet/> PARSING-------------\n",
      "Delay 2 s.\n",
      "-------------Ресторан Chalet-------------\n",
      "-------------.ru/upload/resize_cache/iblock/1b6/728_400_2/115_29de.jpg-------------\n",
      "-------------PAGE </msk/detailed/restaurants/ciao_bella/> PARSING-------------\n",
      "Delay 3 s.\n",
      "---------------------------\n",
      "-------------.ru/upload/resize_cache/iblock/12d/728_400_2/dsc_3232_20dd.jpg-------------\n",
      "-------------PAGE </msk/detailed/restaurants/china_club_zhulebino/> PARSING-------------\n",
      "Delay 3 s.\n",
      "-------------Ресторан China -------------\n",
      "-------------.ru/upload/resize_cache/iblock/d6d/728_400_2/ab7a76bff6f65008b5cced03770a13f9bb6.jpg-------------\n",
      "-------------PAGE </msk/detailed/restaurants/china_club_na_michurinskom/> PARSING-------------\n",
      "Delay 2 s.\n",
      "-------------Ресторан China -------------\n",
      "-------------.ru/upload/resize_cache/iblock/14f/728_400_2/065d502837a6bb2a44119cf999d5805f61b.jpg-------------\n",
      "-------------PAGE </msk/detailed/restaurants/china_club_na_sormovskom/> PARSING-------------\n",
      "Delay 3 s.\n",
      "-------------Ресторан China -------------\n",
      "-------------.ru/upload/resize_cache/iblock/0b1/728_400_2/fd774ab57f40be2eeb8364a289b60510478.jpg-------------\n",
      "-------------PAGE </msk/detailed/restaurants/kraft_kafe_cheers_chirs_/> PARSING-------------\n",
      "Delay 2 s.\n",
      "---------------------------\n",
      "-------------.ru/upload/resize_cache/iblock/007/728_400_2/dsc_07981f0.jpg-------------\n",
      "-------------PAGE </msk/detailed/restaurants/churchills_pub/> PARSING-------------\n",
      "Delay 4 s.\n",
      "---------------------------\n",
      "-------------.ru/upload/resize_cache/iblock/0ef/728_400_2/3959fde026ddb7a2ad0c8d2ea9099.jpg-------------\n",
      "-------------PAGE </msk/detailed/restaurants/chasovaya/> PARSING-------------\n",
      "Delay 2 s.\n",
      "-------------Кофейня «Часова-------------\n",
      "-------------.ru/upload/resize_cache/iblock/bb6/728_400_2/4n7a3249_285b.jpg-------------\n",
      "-------------PAGE </msk/detailed/restaurants/chicken-run/> PARSING-------------\n",
      "Delay 3 s.\n",
      "-------------Ресторан Chicke-------------\n",
      "-------------.ru/upload/resize_cache/iblock/4cf/728_400_2/3v7a7234f4f.jpg-------------\n",
      "-------------PAGE </msk/detailed/restaurants/che-argentino/> PARSING-------------\n",
      "Delay 2 s.\n",
      "-------------Уютный ресторан-------------\n",
      "-------------.ru/upload/resize_cache/iblock/c3c/728_400_2/img_9212008.jpg-------------\n",
      "-------------PAGE </msk/detailed/restaurants/chandelier/> PARSING-------------\n",
      "Delay 2 s.\n",
      "-------------Ресторан «Шанде-------------\n",
      "-------------.ru/upload/resize_cache/iblock/d0d/728_400_2/zal_003_243028.jpg-------------\n",
      "-------------PAGE </msk/detailed/restaurants/chacha/> PARSING-------------\n",
      "Delay 2 s.\n",
      "-------------Если спросить у-------------\n",
      "-------------.ru/upload/resize_cache/iblock/514/728_400_2/nik_9778_24bc.jpg-------------\n",
      "-------------PAGE </msk/detailed/restaurants/china-bistro/> PARSING-------------\n",
      "Delay 4 s.\n",
      "-------------Кафе China bist-------------\n",
      "-------------.ru/upload/resize_cache/iblock/1e8/728_400_2/img_7911_2cd8.jpg-------------\n",
      "-------------PAGE </msk/detailed/restaurants/chicagoprime/> PARSING-------------\n",
      "Delay 3 s.\n",
      "-------------Этот ресторан н-------------\n",
      "-------------.ru/upload/resize_cache/iblock/86c/728_400_2/zal1_004_10737b.jpg-------------\n",
      "-------------PAGE </msk/detailed/restaurants/cicco-club/> PARSING-------------\n",
      "Delay 2 s.\n",
      "-------------Ресторан Cicco -------------\n",
      "-------------.ru/upload/resize_cache/iblock/bbb/728_400_2/cicco_20100502_103233a72.jpg-------------\n",
      "-------------PAGE </msk/detailed/restaurants/cuba_libre/> PARSING-------------\n",
      "Delay 3 s.\n",
      "-------------Если вы любите -------------\n",
      "-------------.ru/upload/resize_cache/iblock/627/728_400_2/6r4c9559_panorama11_1c1d.jpg-------------\n",
      "-------------PAGE </msk/detailed/restaurants/cuba_libre_kuznetskiy_most/> PARSING-------------\n",
      "Delay 2 s.\n",
      "-------------Ресторан «Cuba -------------\n",
      "-------------.ru/upload/resize_cache/iblock/a25/728_400_2/img_9102dda.jpg-------------\n",
      "-------------PAGE </msk/detailed/restaurants/croydon/> PARSING-------------\n",
      "Delay 2 s.\n",
      "-------------Ресторан Croydo-------------\n",
      "-------------.ru/upload/resize_cache/iblock/2a0/728_400_2/r_901838_37jxnexie7nkoj6vcr8d8aa.jpg-------------\n",
      "-------------PAGE </msk/detailed/restaurants/nochnoy_klub_strekoza/> PARSING-------------\n",
      "Delay 3 s.\n",
      "---------------------------\n",
      "-------------.ru/upload/resize_cache/iblock/0c2/728_400_2/dsc_0448_2426.jpg-------------\n",
      "-------------PAGE </msk/detailed/restaurants/crazyhunter/> PARSING-------------\n",
      "Delay 3 s.\n",
      "-------------Ресторан Crazy -------------\n",
      "-------------.ru/upload/resize_cache/iblock/a9a/728_400_2/44b1.jpg-------------\n",
      "-------------PAGE </msk/detailed/restaurants/cork_wine_bar/> PARSING-------------\n",
      "Delay 2 s.\n",
      "---------------------------\n",
      "-------------.ru/upload/resize_cache/iblock/a3f/728_400_2/img_6909_2feb.jpg-------------\n",
      "-------------PAGE </msk/detailed/restaurants/craft_station/> PARSING-------------\n",
      "Delay 2 s.\n",
      "-------------Крафт-бары в са-------------\n",
      "-------------.ru/upload/resize_cache/iblock/96b/728_400_2/craft_station_08_25e0.jpg-------------\n",
      "-------------PAGE </msk/detailed/restaurants/cibo-e-vino/> PARSING-------------\n",
      "Delay 2 s.\n",
      "-------------Ресторан Cibo E-------------\n",
      "-------------.ru/upload/resize_cache/iblock/1e2/728_400_2/k97a8545_small5c9.jpg-------------\n",
      "-------------PAGE </msk/detailed/restaurants/cure-bar/> PARSING-------------\n",
      "Delay 2 s.\n",
      "-------------ГастропабCURE b-------------\n",
      "-------------.ru/upload/resize_cache/iblock/c2b/728_400_2/dsc_0002_2af0.jpg-------------\n",
      "-------------PAGE </msk/detailed/restaurants/coccinelle/> PARSING-------------\n",
      "Delay 2 s.\n",
      "---------------------------\n",
      "-------------.ru/upload/resize_cache/iblock/54b/728_400_2/bcb9208_243b.jpg-------------\n",
      "-------------PAGE </msk/detailed/restaurants/creperie-de-paris/> PARSING-------------\n",
      "Delay 2 s.\n",
      "---------------------------\n",
      "-------------.ru/upload/resize_cache/iblock/869/728_400_2/14563459_1146653562067830_8389289217416120783_nfda.jpg-------------\n",
      "-------------PAGE </msk/detailed/restaurants/cinematograph/> PARSING-------------\n",
      "Delay 3 s.\n",
      "-------------Караоке–рестора-------------\n",
      "-------------.ru/upload/resize_cache/iblock/335/728_400_2/zal1_014298.jpg-------------\n",
      "-------------PAGE </msk/detailed/restaurants/kinoklub/> PARSING-------------\n",
      "Delay 4 s.\n"
     ]
    },
    {
     "name": "stdout",
     "output_type": "stream",
     "text": [
      "---------------------------\n",
      "-------------.ru/upload/resize_cache/iblock/88b/728_400_2/2a1a_mg_3547.jpg-------------\n",
      "-------------PAGE </msk/detailed/restaurants/city-space/> PARSING-------------\n",
      "Delay 3 s.\n",
      "-------------Бар-ресторан «С-------------\n",
      "-------------.ru/upload/resize_cache/iblock/db3/728_400_2/img_2652_23e9.jpg-------------\n",
      "-------------PAGE </msk/detailed/restaurants/craft-kitchen/> PARSING-------------\n",
      "Delay 2 s.\n",
      "---------------------------\n",
      "-------------.ru/upload/resize_cache/iblock/7d8/728_400_2/craftkitchen_zal_013b65.jpg-------------\n",
      "-------------PAGE </msk/detailed/restaurants/crystal/> PARSING-------------\n",
      "Delay 4 s.\n",
      "-------------Караоке Crystal-------------\n",
      "-------------.ru/upload/resize_cache/iblock/0ff/728_400_2/a02d7878_2fda.jpg-------------\n",
      "-------------PAGE </msk/detailed/restaurants/corner/> PARSING-------------\n",
      "Delay 2 s.\n",
      "-------------Кафе Corner в М-------------\n",
      "-------------.ru/upload/resize_cache/iblock/0ae/728_400_2/cornercafekitchen_36_of_152_2060.jpg-------------\n",
      "-------------PAGE </msk/detailed/restaurants/community/> PARSING-------------\n",
      "Delay 3 s.\n",
      "-------------На Космодамианс-------------\n",
      "-------------.ru/upload/resize_cache/iblock/3f2/728_400_2/3v7a2616644.jpg-------------\n",
      "-------------PAGE </msk/detailed/restaurants/ic_club/> PARSING-------------\n",
      "Delay 2 s.\n",
      "-------------Престижный, сов-------------\n",
      "-------------.ru/upload/resize_cache/iblock/0ab/728_400_2/img_85362f4.jpg-------------\n",
      "-------------PAGE </msk/detailed/restaurants/dreambar/> PARSING-------------\n",
      "Delay 4 s.\n",
      "-------------Ресторан «Дрим -------------\n",
      "-------------.ru/upload/resize_cache/iblock/6f4/728_400_2/y_0a8b5c75fac.jpg-------------\n",
      "-------------PAGE </msk/detailed/restaurants/donpeperoncino/> PARSING-------------\n",
      "Delay 3 s.\n",
      "---------------------------\n",
      "--------------------------\n",
      "-------------PAGE </msk/detailed/restaurants/dark_patrick_s_pub/> PARSING-------------\n",
      "Delay 4 s.\n",
      "-------------Ресторан Dark P-------------\n",
      "-------------.ru/upload/resize_cache/iblock/4da/728_400_2/mg_9586f24.jpg-------------\n",
      "-------------PAGE </msk/detailed/restaurants/dorffman/> PARSING-------------\n",
      "Delay 4 s.\n",
      "-------------Викторианская р-------------\n",
      "-------------.ru/upload/resize_cache/iblock/b64/728_400_2/k97a0566_smallf64.jpg-------------\n",
      "-------------PAGE </msk/detailed/restaurants/darbars/> PARSING-------------\n",
      "Delay 4 s.\n",
      "---------------------------\n",
      "-------------.ru/upload/resize_cache/iblock/feb/728_400_2/1782309_690661064362486_743833714751325871_o_2795.jpg-------------\n",
      "-------------PAGE </msk/detailed/restaurants/darbars_pokrovka/> PARSING-------------\n",
      "Delay 4 s.\n",
      "---------------------------\n",
      "-------------.ru/upload/resize_cache/iblock/799/728_400_2/11076749_628981277246392_6396517145937739805_o_22fe.jpg-------------\n",
      "-------------PAGE </msk/detailed/restaurants/double_bourbon_street_bar/> PARSING-------------\n",
      "Delay 4 s.\n",
      "-------------Бар Double Bour-------------\n",
      "-------------.ru/upload/resize_cache/iblock/87b/728_400_2/dsc_0195_2fc0.jpg-------------\n",
      "-------------PAGE </msk/detailed/restaurants/danny_boy/> PARSING-------------\n",
      "Delay 2 s.\n",
      "---------------------------\n",
      "-------------.ru/upload/resize_cache/iblock/7ef/728_400_2/dsc_0599_20d1.jpg-------------\n",
      "-------------PAGE </msk/detailed/restaurants/dolina_solnca/> PARSING-------------\n",
      "Delay 2 s.\n",
      "-------------Ресторан «Долин-------------\n",
      "-------------.ru/upload/resize_cache/iblock/bd4/728_400_2/2016_06_06_photo_00000664d6e.jpg-------------\n",
      "-------------PAGE </msk/detailed/restaurants/dolma-sretenka/> PARSING-------------\n",
      "Delay 2 s.\n",
      "-------------Всем любителям -------------\n",
      "-------------.ru/upload/resize_cache/iblock/190/728_400_2/427a31546e7.jpg-------------\n",
      "-------------PAGE </msk/detailed/restaurants/dakstars/> PARSING-------------\n",
      "Delay 2 s.\n",
      "---------------------------\n",
      "-------------.ru/upload/resize_cache/iblock/806/728_400_2/luv_5187_28de.jpg-------------\n",
      "-------------PAGE </msk/detailed/restaurants/doctor-watson/> PARSING-------------\n",
      "Delay 2 s.\n",
      "---------------------------\n",
      "-------------.ru/upload/resize_cache/iblock/0b9/728_400_2/zal_2_102836.jpg-------------\n",
      "-------------PAGE </msk/detailed/restaurants/duckstars-set/> PARSING-------------\n",
      "Delay 4 s.\n",
      "---------------------------\n",
      "--------------------------\n",
      "-------------PAGE </msk/detailed/restaurants/don-giulio-pasticceria/> PARSING-------------\n",
      "Delay 4 s.\n",
      "-------------Итальянец Джули-------------\n",
      "-------------.ru/upload/resize_cache/iblock/5de/728_400_2/dsc_1569_2225.jpg-------------\n",
      "-------------PAGE </msk/detailed/restaurants/dancafe/> PARSING-------------\n",
      "Delay 2 s.\n",
      "-------------Наше кафе заним-------------\n",
      "-------------.ru/upload/resize_cache/iblock/c69/728_400_2/1ce3.jpg-------------\n",
      "-------------PAGE </msk/detailed/restaurants/darvin/> PARSING-------------\n",
      "Delay 2 s.\n",
      "---------------------------\n",
      "-------------.ru/upload/resize_cache/iblock/047/728_400_2/img_8016_20_10_17_14_02_24d9.jpg-------------\n",
      "-------------PAGE </msk/detailed/restaurants/drake-kitchen-bar/> PARSING-------------\n",
      "Delay 3 s.\n",
      "---------------------------\n",
      "-------------.ru/upload/resize_cache/iblock/430/728_400_2/img_6399_204f.jpg-------------\n",
      "-------------PAGE </msk/detailed/restaurants/dream-fish/> PARSING-------------\n",
      "Delay 3 s.\n",
      "-------------Ресторан РЫБА М-------------\n",
      "-------------.ru/upload/resize_cache/iblock/587/728_400_2/dscf2865_1_2b83.jpg-------------\n",
      "-------------PAGE </msk/detailed/restaurants/delonix/> PARSING-------------\n",
      "Delay 4 s.\n",
      "-------------Ресторан \"Делон-------------\n",
      "-------------.ru/upload/resize_cache/iblock/a3b/728_400_2/img_2333_copy08e.jpg-------------\n",
      "-------------PAGE </msk/detailed/restaurants/dapino/> PARSING-------------\n",
      "Delay 3 s.\n",
      "---------------------------\n",
      "-------------.ru/upload/resize_cache/iblock/c50/728_400_2/imgl7936_c0f.jpg-------------\n",
      "-------------PAGE </msk/detailed/restaurants/el_gauchito/> PARSING-------------\n",
      "Delay 2 s.\n",
      "-------------Изысканный стей-------------\n",
      "-------------.ru/upload/resize_cache/iblock/c90/728_400_2/vhod_00148c.jpg-------------\n",
      "-------------PAGE </msk/detailed/restaurants/easypub/> PARSING-------------\n",
      "Delay 3 s.\n",
      "-------------Ресторан Easy P-------------\n",
      "-------------.ru/upload/resize_cache/iblock/09f/728_400_2/k97a55842_small42f.jpg-------------\n",
      "-------------PAGE </msk/detailed/restaurants/elpaso/> PARSING-------------\n",
      "Delay 2 s.\n",
      "-------------Ресторан «Стейк-------------\n",
      "-------------.ru/upload/resize_cache/iblock/245/728_400_2/politica_elpaso_1_20e7.jpg-------------\n",
      "-------------PAGE </msk/detailed/restaurants/easypub_butovo/> PARSING-------------\n",
      "Delay 3 s.\n",
      "-------------Ресторан Easy P-------------\n",
      "-------------.ru/upload/resize_cache/iblock/ecf/728_400_2/k97a6430_small9d7.jpg-------------\n",
      "-------------PAGE </msk/detailed/restaurants/easypub_kashirska/> PARSING-------------\n",
      "Delay 4 s.\n",
      "-------------Ресторан Easy P-------------\n",
      "-------------.ru/upload/resize_cache/iblock/163/728_400_2/k97a6374_smallde4.jpg-------------\n",
      "-------------PAGE </msk/detailed/restaurants/easy_pub_izi_pab_/> PARSING-------------\n",
      "Delay 2 s.\n",
      "-------------Сеть ресторанов-------------\n",
      "--------------------------\n",
      "-------------PAGE </msk/detailed/restaurants/ecle_rest/> PARSING-------------\n",
      "Delay 2 s.\n",
      "---------------------------\n",
      "-------------.ru/upload/resize_cache/iblock/ef6/728_400_2/dsc_0459_2c8a.jpg-------------\n",
      "-------------PAGE </msk/detailed/restaurants/karaokeduets/> PARSING-------------\n",
      "Delay 3 s.\n",
      "---------------------------\n",
      "-------------.ru/upload/resize_cache/iblock/4ce/728_400_2/img_1969_smalla25.jpg-------------\n",
      "-------------PAGE </msk/detailed/restaurants/elleon-bz/> PARSING-------------\n",
      "Delay 4 s.\n",
      "-------------Банкетный зал «-------------\n",
      "-------------.ru/upload/resize_cache/iblock/8b9/728_400_2/0002_w_2f77.jpg-------------\n",
      "-------------PAGE </msk/detailed/restaurants/edge/> PARSING-------------\n",
      "Delay 4 s.\n",
      "-------------ГастробарEdge в-------------\n",
      "-------------.ru/upload/resize_cache/iblock/21d/728_400_2/k97a7148_28a1.jpg-------------\n",
      "-------------PAGE </msk/detailed/restaurants/duckstars-marino/> PARSING-------------\n",
      "Delay 2 s.\n",
      "---------------------------\n",
      "-------------.ru/upload/resize_cache/iblock/dc4/728_400_2/duck_7063_2d62.jpg-------------\n",
      "-------------PAGE </msk/detailed/restaurants/duckstars-varshavka/> PARSING-------------\n",
      "Delay 3 s.\n"
     ]
    },
    {
     "name": "stdout",
     "output_type": "stream",
     "text": [
      "---------------------------\n",
      "-------------.ru/upload/resize_cache/iblock/851/728_400_2/dsc_6287_hdr_22aa.jpg-------------\n",
      "-------------PAGE </msk/detailed/restaurants/duckstars-preobrazhenskaya/> PARSING-------------\n",
      "Delay 4 s.\n",
      "---------------------------\n",
      "-------------.ru/upload/resize_cache/iblock/5a1/728_400_2/img_2145_28ea.jpg-------------\n",
      "-------------PAGE </msk/detailed/restaurants/duckstars-trubnaya/> PARSING-------------\n",
      "Delay 2 s.\n",
      "---------------------------\n",
      "-------------.ru/upload/resize_cache/iblock/7bb/728_400_2/mg_0030_kopiya6f7.jpg-------------\n",
      "-------------PAGE </msk/detailed/restaurants/ellada-club/> PARSING-------------\n",
      "Delay 4 s.\n",
      "---------------------------\n",
      "-------------.ru/upload/resize_cache/iblock/6d0/728_400_2/img_0499_2d63.jpg-------------\n",
      "-------------PAGE </msk/detailed/restaurants/dakstars-mayakovskaya/> PARSING-------------\n",
      "Delay 3 s.\n",
      "---------------------------\n",
      "-------------.ru/upload/resize_cache/iblock/a6b/728_400_2/luv_6987b5f.jpg-------------\n",
      "-------------PAGE </msk/detailed/restaurants/duckstars-kantemirovskaya/> PARSING-------------\n",
      "Delay 4 s.\n",
      "-------------Клуб DuckStar’s-------------\n",
      "-------------.ru/upload/resize_cache/iblock/5fa/728_400_2/img_9142_228e.jpg-------------\n",
      "-------------PAGE </msk/detailed/restaurants/zinc/> PARSING-------------\n",
      "Delay 3 s.\n",
      "-------------ELEMENT(«Элемен-------------\n",
      "-------------.ru/upload/resize_cache/iblock/d0a/728_400_2/zal1_014e4d.jpg-------------\n",
      "-------------PAGE </msk/detailed/restaurants/elgauchito/> PARSING-------------\n",
      "Delay 2 s.\n",
      "-------------Ресторан «Эль Г-------------\n",
      "-------------.ru/upload/resize_cache/iblock/97d/728_400_2/01.jpg-------------\n",
      "-------------PAGE </msk/detailed/restaurants/elgaucho/> PARSING-------------\n",
      "Delay 4 s.\n",
      "-------------Ресторан «Эль Г-------------\n",
      "-------------.ru/upload/resize_cache/iblock/968/728_400_2/8.jpg-------------\n",
      "-------------PAGE </msk/detailed/restaurants/fassbinder/> PARSING-------------\n",
      "Delay 4 s.\n",
      "-------------Новый проект уп-------------\n",
      "-------------.ru/upload/resize_cache/iblock/8fa/728_400_2/mg_1347364.jpg-------------\n",
      "-------------PAGE </msk/detailed/restaurants/eventmoskva/> PARSING-------------\n",
      "Delay 4 s.\n",
      "-------------Как«Звездные во-------------\n",
      "-------------.ru/upload/resize_cache/iblock/19e/728_400_2/em_logo_on_white2c40.jpg-------------\n",
      "-------------PAGE </msk/detailed/restaurants/fornetto_bar_pizza_fornetto_ul_timura_frunze/> PARSING-------------\n",
      "Delay 3 s.\n",
      "-------------Ресторан «Forne-------------\n",
      "-------------.ru/upload/resize_cache/iblock/572/728_400_2/frun_46f3.jpg-------------\n",
      "-------------PAGE </msk/detailed/restaurants/fornetto_bar_pizza_fornetto_presnenskaya_nab_/> PARSING-------------\n",
      "Delay 2 s.\n",
      "-------------Ресторан «Forne-------------\n",
      "-------------.ru/upload/resize_cache/iblock/9d4/728_400_2/4fornettobar_zal_0049bf.jpg-------------\n",
      "-------------PAGE </msk/detailed/restaurants/food_embassy/> PARSING-------------\n",
      "Delay 4 s.\n",
      "-------------Посольствовкусн-------------\n",
      "-------------.ru/upload/resize_cache/iblock/a21/728_400_2/food_embassy_part2_6645afc.jpg-------------\n",
      "-------------PAGE </msk/detailed/restaurants/raihona/> PARSING-------------\n",
      "Delay 2 s.\n",
      "-------------Ресторан «Райхо-------------\n",
      "-------------.ru/upload/resize_cache/iblock/660/728_400_2/6_pozitsiya_1_277b.jpg-------------\n",
      "-------------PAGE </msk/detailed/restaurants/forestbar/> PARSING-------------\n",
      "Delay 3 s.\n",
      "-------------ФОРЕСТ Restaura-------------\n",
      "-------------.ru/upload/resize_cache/iblock/558/728_400_2/k97a6758_small0d4.jpg-------------\n",
      "-------------PAGE </msk/detailed/restaurants/est_kafe/> PARSING-------------\n",
      "Delay 4 s.\n",
      "---------------------------\n",
      "-------------.ru/upload/resize_cache/iblock/e03/728_400_2/est_13.jpg-------------\n",
      "-------------PAGE </msk/detailed/restaurants/enjoylife/> PARSING-------------\n",
      "Delay 2 s.\n",
      "---------------------------\n",
      "-------------.ru/upload/resize_cache/iblock/616/728_400_2/love_536_217d.jpg-------------\n",
      "-------------PAGE </msk/detailed/restaurants/fresco/> PARSING-------------\n",
      "Delay 3 s.\n",
      "---------------------------\n",
      "-------------.ru/upload/resize_cache/iblock/76f/728_400_2/2013_05_27_18_41_02_2bd1.jpg-------------\n",
      "-------------PAGE </msk/detailed/restaurants/forza/> PARSING-------------\n",
      "Delay 3 s.\n",
      "---------------------------\n",
      "-------------.ru/upload/resize_cache/iblock/d1d/728_400_2/dsc30760dd.jpg-------------\n",
      "-------------PAGE </msk/detailed/restaurants/florentini-m/> PARSING-------------\n",
      "Delay 2 s.\n",
      "-------------Если вы хотите -------------\n",
      "-------------.ru/upload/resize_cache/iblock/6b8/728_400_2/kantri_kafe_florentini_img_0518361.jpg-------------\n",
      "-------------PAGE </msk/detailed/restaurants/fazenda/> PARSING-------------\n",
      "Delay 4 s.\n",
      "-------------Если вы хотите -------------\n",
      "-------------.ru/upload/resize_cache/iblock/4a6/728_400_2/img_034721c.jpg-------------\n",
      "-------------PAGE </msk/detailed/restaurants/fantasy-rooms/> PARSING-------------\n",
      "Delay 3 s.\n",
      "-------------Если вы любите -------------\n",
      "-------------.ru/upload/resize_cache/iblock/f4b/728_400_2/dsc_0129_2c2c.jpg-------------\n",
      "-------------PAGE </msk/detailed/restaurants/fornetto-kafe-pitstseriya-fornetto-kuntsevo/> PARSING-------------\n",
      "Delay 2 s.\n",
      "---------------------------\n",
      "-------------.ru/upload/resize_cache/iblock/0d9/728_400_2/kun_2ee4.jpg-------------\n",
      "-------------PAGE </msk/detailed/restaurants/fornetto-kafe-pitstseriya-metropolis/> PARSING-------------\n",
      "Delay 4 s.\n",
      "---------------------------\n",
      "-------------.ru/upload/resize_cache/iblock/bee/728_400_2/met_34b0.jpg-------------\n",
      "-------------PAGE </msk/detailed/restaurants/friends-family/> PARSING-------------\n",
      "Delay 4 s.\n",
      "---------------------------\n",
      "-------------.ru/upload/resize_cache/iblock/58e/728_400_2/exterieravt1_2_2d19.jpg-------------\n",
      "-------------PAGE </msk/detailed/restaurants/fishmarket/> PARSING-------------\n",
      "Delay 2 s.\n",
      "---------------------------\n",
      "-------------.ru/upload/resize_cache/iblock/af9/728_400_2/dsc_4500_2e3b.jpg-------------\n",
      "-------------PAGE </msk/detailed/restaurants/empresshall/> PARSING-------------\n",
      "Delay 3 s.\n",
      "-------------Ресторан-бар и -------------\n",
      "-------------.ru/upload/resize_cache/iblock/bf7/728_400_2/zal12_00966f.jpg-------------\n",
      "-------------PAGE </msk/detailed/restaurants/lfornetto/> PARSING-------------\n",
      "Delay 4 s.\n",
      "-------------Сеть ресторанов-------------\n",
      "-------------.ru/upload/resize_cache/iblock/848/728_400_2/1.jpg-------------\n",
      "-------------PAGE </msk/detailed/restaurants/fannycabany/> PARSING-------------\n",
      "Delay 2 s.\n",
      "-------------В гриль-рестора-------------\n",
      "-------------.ru/upload/resize_cache/iblock/92f/728_400_2/1efe.jpg-------------\n",
      "-------------PAGE </msk/detailed/restaurants/fumisawa_sushi/> PARSING-------------\n",
      "Delay 3 s.\n",
      "-------------Fumisawa Sushi -------------\n",
      "-------------.ru/upload/resize_cache/iblock/5da/728_400_2/k97a1445_smalla70.jpg-------------\n",
      "-------------PAGE </msk/detailed/restaurants/gogieli/> PARSING-------------\n",
      "Delay 2 s.\n",
      "-------------Ресторан «Гогие-------------\n",
      "-------------.ru/upload/resize_cache/iblock/4e2/728_400_2/47c88de5160bfbb3be0177fd82312cfeda7.jpg-------------\n",
      "-------------PAGE </msk/detailed/restaurants/grace_bar/> PARSING-------------\n",
      "Delay 2 s.\n",
      "---------------------------\n",
      "-------------.ru/upload/resize_cache/iblock/d4e/728_400_2/mg_2989_22ee.jpg-------------\n",
      "-------------PAGE </msk/detailed/restaurants/geotoriya/> PARSING-------------\n",
      "Delay 3 s.\n",
      "---------------------------\n",
      "-------------.ru/upload/resize_cache/iblock/fd8/728_400_2/image1b4c.jpeg-------------\n",
      "-------------PAGE </msk/detailed/restaurants/golden_ring/> PARSING-------------\n",
      "Delay 3 s.\n",
      "---------------------------\n",
      "-------------.ru/upload/resize_cache/iblock/b9d/728_400_2/dsc_0010_1_c37.png-------------\n",
      "-------------PAGE </msk/detailed/restaurants/gipsy/> PARSING-------------\n",
      "Delay 3 s.\n",
      "-------------Ресторан Gipsy -------------\n",
      "-------------.ru/upload/resize_cache/iblock/700/728_400_2/img_02888e8.jpg-------------\n",
      "-------------PAGE </msk/detailed/restaurants/good_beer_bar/> PARSING-------------\n",
      "Delay 2 s.\n",
      "-------------Ресторан Good B-------------\n",
      "-------------.ru/upload/resize_cache/iblock/cc8/728_400_2/0tgiu1uf0ie755.jpg-------------\n",
      "-------------PAGE </msk/detailed/restaurants/good_beer_bar_dinamo/> PARSING-------------\n",
      "Delay 4 s.\n",
      "-------------Ресторан Good B-------------\n",
      "-------------.ru/upload/resize_cache/iblock/593/728_400_2/mg_422905e.jpg-------------\n",
      "-------------PAGE </msk/detailed/restaurants/glastonberry_pub/> PARSING-------------\n",
      "Delay 3 s.\n"
     ]
    },
    {
     "name": "stdout",
     "output_type": "stream",
     "text": [
      "---------------------------\n",
      "-------------.ru/upload/resize_cache/iblock/7bf/728_400_2/dsc_0386_2c6d.jpg-------------\n",
      "-------------PAGE </msk/detailed/restaurants/gandara_gandara/> PARSING-------------\n",
      "Delay 3 s.\n",
      "-------------Ресторан «Ганда-------------\n",
      "-------------.ru/upload/resize_cache/iblock/9cd/728_400_2/1f5c.jpg-------------\n",
      "-------------PAGE </msk/detailed/restaurants/fusion-plaza/> PARSING-------------\n",
      "Delay 3 s.\n",
      "-------------Ресторан Fusion-------------\n",
      "-------------.ru/upload/resize_cache/iblock/b46/728_400_2/15451ed.jpg-------------\n",
      "-------------PAGE </msk/detailed/restaurants/fusion/> PARSING-------------\n",
      "Delay 2 s.\n",
      "-------------Ресторан Fusion-------------\n",
      "-------------.ru/upload/resize_cache/iblock/6c3/728_400_2/dsc1911_edit_1_2c7f.jpg-------------\n",
      "-------------PAGE </msk/detailed/restaurants/gallery/> PARSING-------------\n",
      "Delay 2 s.\n",
      "-------------Москва – одиниз-------------\n",
      "-------------.ru/upload/resize_cache/iblock/87c/728_400_2/img_0766d0c.jpg-------------\n",
      "-------------PAGE </msk/detailed/restaurants/georgian-kitchen/> PARSING-------------\n",
      "Delay 4 s.\n",
      "-------------Cоздатели проек-------------\n",
      "-------------.ru/upload/resize_cache/iblock/fb6/728_400_2/amo_2959b69.jpg-------------\n",
      "-------------PAGE </msk/detailed/restaurants/geraldine/> PARSING-------------\n",
      "Delay 2 s.\n",
      "-------------Если вы ищете у-------------\n",
      "-------------.ru/upload/resize_cache/iblock/6c4/728_400_2/interior_geraldine_8aa7.jpg-------------\n",
      "-------------PAGE </msk/detailed/restaurants/gadget-studio/> PARSING-------------\n",
      "Delay 3 s.\n",
      "---------------------------\n",
      "-------------.ru/upload/resize_cache/iblock/ea3/728_400_2/gs_27_223b.jpg-------------\n",
      "-------------PAGE </msk/detailed/restaurants/fuxiang/> PARSING-------------\n",
      "Delay 3 s.\n",
      "---------------------------\n",
      "-------------.ru/upload/resize_cache/iblock/53c/728_400_2/28_227b.jpg-------------\n",
      "-------------PAGE </msk/detailed/restaurants/giovedicafe/> PARSING-------------\n",
      "Delay 3 s.\n",
      "-------------Ресторан от соз-------------\n",
      "-------------.ru/upload/resize_cache/iblock/aa4/728_400_2/ec9f5aa4b8be267aa721020af7943290d81.jpg-------------\n",
      "-------------PAGE </msk/detailed/restaurants/gayanes/> PARSING-------------\n",
      "Delay 2 s.\n",
      "-------------Ресторан «Gayan-------------\n",
      "-------------.ru/upload/resize_cache/iblock/d33/728_400_2/interer_77660c.jpg-------------\n",
      "-------------PAGE </msk/detailed/restaurants/il_barolo/> PARSING-------------\n",
      "Delay 4 s.\n",
      "---------------------------\n",
      "-------------.ru/upload/resize_cache/iblock/adf/728_400_2/dsc_2195f1f.jpg-------------\n",
      "-------------PAGE </msk/detailed/restaurants/o_zhanna/> PARSING-------------\n",
      "Delay 4 s.\n",
      "-------------Восхитительные -------------\n",
      "-------------.ru/upload/resize_cache/iblock/222/728_400_2/26f7.jpg-------------\n",
      "-------------PAGE </msk/detailed/restaurants/haggis_pub_kitchen/> PARSING-------------\n",
      "Delay 3 s.\n",
      "-------------Группа единомыш-------------\n",
      "-------------.ru/upload/resize_cache/iblock/a7a/728_400_2/img_84352d3c24.jpg-------------\n",
      "-------------PAGE </msk/detailed/restaurants/GrangeCafe/> PARSING-------------\n",
      "Delay 2 s.\n",
      "---------------------------\n",
      "-------------.ru/upload/resize_cache/iblock/76d/728_400_2/img_4547_6_109da.jpg-------------\n",
      "-------------PAGE </msk/detailed/restaurants/Hgd/> PARSING-------------\n",
      "Delay 4 s.\n",
      "-------------Бар «Хон Гиль Д-------------\n",
      "-------------.ru/upload/resize_cache/iblock/4ce/728_400_2/69ed.jpg-------------\n",
      "-------------PAGE </msk/detailed/restaurants/grafflounge/> PARSING-------------\n",
      "Delay 4 s.\n",
      "-------------Ресторан GRAFF -------------\n",
      "-------------.ru/upload/resize_cache/iblock/84e/728_400_2/graff2002.jpg-------------\n",
      "-------------PAGE </msk/detailed/restaurants/ilikebar/> PARSING-------------\n",
      "Delay 3 s.\n",
      "-------------Уютное, в меру -------------\n",
      "-------------.ru/upload/resize_cache/iblock/288/728_400_2/mansarda_24ba.jpg-------------\n",
      "-------------PAGE </msk/detailed/restaurants/hot_rod_bar/> PARSING-------------\n",
      "Delay 2 s.\n",
      "-------------Ресторан Hot Ro-------------\n",
      "-------------.ru/upload/resize_cache/iblock/0fc/728_400_2/f088784085767650_picture923.jpg-------------\n",
      "-------------PAGE </msk/detailed/restaurants/gustatore/> PARSING-------------\n",
      "Delay 2 s.\n",
      "-------------Кафе-бар Gustat-------------\n",
      "-------------.ru/upload/resize_cache/iblock/340/728_400_2/20121023_123806_21e2.jpg-------------\n",
      "-------------PAGE </msk/detailed/restaurants/i_club/> PARSING-------------\n",
      "Delay 2 s.\n",
      "---------------------------\n",
      "-------------.ru/upload/resize_cache/iblock/464/728_400_2/dsc_672588a.jpg-------------\n",
      "-------------PAGE </msk/detailed/restaurants/hand/> PARSING-------------\n",
      "Delay 3 s.\n",
      "-------------Кафе здоровой е-------------\n",
      "-------------.ru/upload/resize_cache/iblock/31c/728_400_2/hand_zal_02726a.jpg-------------\n",
      "-------------PAGE </msk/detailed/restaurants/grape/> PARSING-------------\n",
      "Delay 2 s.\n",
      "-------------В винотеке Grap-------------\n",
      "-------------.ru/upload/resize_cache/iblock/21b/728_400_2/5641baad03d8e_20de.jpg-------------\n",
      "-------------PAGE </msk/detailed/restaurants/khayyam/> PARSING-------------\n",
      "Delay 2 s.\n",
      "-------------Если вы мечтает-------------\n",
      "-------------.ru/upload/resize_cache/iblock/bbd/728_400_2/img_5243b49.jpg-------------\n",
      "-------------PAGE </msk/detailed/restaurants/zelenyy-pomidor/> PARSING-------------\n",
      "Delay 3 s.\n",
      "---------------------------\n",
      "-------------.ru/upload/resize_cache/iblock/236/728_400_2/302a1162092f4cef9da0e04c66c3e8f0_24ee.jpg-------------\n",
      "-------------PAGE </msk/detailed/restaurants/grut/> PARSING-------------\n",
      "Delay 3 s.\n",
      "-------------РесторанGrut в -------------\n",
      "-------------.ru/upload/resize_cache/iblock/5b1/728_400_2/interer_fotosessiya_noch_573a.jpg-------------\n",
      "-------------PAGE </msk/detailed/restaurants/hong-kong/> PARSING-------------\n",
      "Delay 2 s.\n",
      "-------------Вгостинице Holi-------------\n",
      "-------------.ru/upload/resize_cache/iblock/ce1/728_400_2/hongkong_interior_12_2794.jpg-------------\n",
      "-------------PAGE </msk/detailed/restaurants/hikka-bar/> PARSING-------------\n",
      "Delay 4 s.\n",
      "---------------------------\n",
      "-------------.ru/upload/resize_cache/iblock/422/728_400_2/fad_1187_2aa3.jpg-------------\n",
      "-------------PAGE </msk/detailed/restaurants/icon-club-moscow/> PARSING-------------\n",
      "Delay 2 s.\n",
      "-------------ICON Moscow (ex-------------\n",
      "-------------.ru/upload/iblock/2e1/img_5571_18_01_18_05_38305.jpg-------------\n",
      "-------------PAGE </msk/detailed/restaurants/hungry-fox/> PARSING-------------\n",
      "Delay 3 s.\n",
      "---------------------------\n",
      "-------------.ru/upload/resize_cache/iblock/5c6/728_400_2/img_2856b12.jpg-------------\n",
      "-------------PAGE </msk/detailed/restaurants/guavabar/> PARSING-------------\n",
      "Delay 4 s.\n",
      "-------------Где отдохнуть с-------------\n",
      "-------------.ru/upload/resize_cache/iblock/f3a/728_400_2/mg_9257285.jpg-------------\n",
      "-------------PAGE </msk/detailed/restaurants/ilcanto/> PARSING-------------\n",
      "Delay 2 s.\n",
      "-------------На Измайловском-------------\n",
      "-------------.ru/upload/resize_cache/iblock/23b/728_400_2/img_69468b0.jpg-------------\n",
      "-------------PAGE </msk/detailed/restaurants/il_forno_il_forno_neglinnaya_ul_/> PARSING-------------\n",
      "Delay 2 s.\n",
      "-------------Вы хотели бы уз-------------\n",
      "-------------.ru/upload/resize_cache/iblock/261/728_400_2/img_0684b78.jpg-------------\n",
      "-------------PAGE </msk/detailed/restaurants/il_forno_il_forno_ul_ostozhenka/> PARSING-------------\n",
      "Delay 4 s.\n",
      "-------------Всемпоклонникам-------------\n",
      "-------------.ru/upload/resize_cache/iblock/b51/728_400_2/19ce.jpg-------------\n",
      "-------------PAGE </msk/detailed/restaurants/il_forno_il_forno_kutuzovskiy_pr_/> PARSING-------------\n",
      "Delay 3 s.\n",
      "-------------Итальянские рес-------------\n",
      "-------------.ru/upload/resize_cache/iblock/857/728_400_2/img_2393494.jpg-------------\n",
      "-------------PAGE </msk/detailed/restaurants/iskra_bar/> PARSING-------------\n",
      "Delay 2 s.\n",
      "-------------На северо-восто-------------\n",
      "-------------.ru/upload/resize_cache/iblock/959/728_400_2/bez_imeni_00274f1e.jpg-------------\n",
      "-------------PAGE </msk/detailed/restaurants/jamiesitalian/> PARSING-------------\n",
      "Delay 3 s.\n",
      "-------------Московский рест-------------\n",
      "-------------.ru/upload/resize_cache/iblock/2c2/728_400_2/jamiesitalian_zal_001433.jpg-------------\n",
      "-------------PAGE </msk/detailed/restaurants/il_borgo/> PARSING-------------\n",
      "Delay 4 s.\n",
      "-------------«Иль Борго» - н-------------\n",
      "-------------.ru/upload/resize_cache/iblock/922/728_400_2/k97a6607_smallbb1.jpg-------------\n",
      "-------------PAGE </msk/detailed/restaurants/mw/> PARSING-------------\n",
      "Delay 2 s.\n"
     ]
    },
    {
     "name": "stdout",
     "output_type": "stream",
     "text": [
      "-------------Karaoke & loung-------------\n",
      "-------------.ru/upload/iblock/a20/2f7a6324b27.jpg-------------\n",
      "-------------PAGE </msk/detailed/restaurants/kenzo/> PARSING-------------\n",
      "Delay 4 s.\n",
      "---------------------------\n",
      "-------------.ru/upload/resize_cache/iblock/b17/728_400_2/95yumw6l6w9ac.jpg-------------\n",
      "-------------PAGE </msk/detailed/restaurants/il_mio/> PARSING-------------\n",
      "Delay 3 s.\n",
      "---------------------------\n",
      "-------------.ru/upload/resize_cache/iblock/2e7/728_400_2/4_256ff1.jpg-------------\n",
      "-------------PAGE </msk/detailed/restaurants/jam_club/> PARSING-------------\n",
      "Delay 3 s.\n",
      "-------------Слово «jam» мож-------------\n",
      "-------------.ru/upload/resize_cache/iblock/bcf/728_400_2/k97a5015_small46a.jpg-------------\n",
      "-------------PAGE </msk/detailed/restaurants/incense_club/> PARSING-------------\n",
      "Delay 4 s.\n",
      "-------------Кафе-бар Incens-------------\n",
      "-------------.ru/upload/resize_cache/iblock/87e/728_400_2/img_8558_fotor_23e8.jpg-------------\n",
      "-------------PAGE </msk/detailed/restaurants/kamchatka-pivbar/> PARSING-------------\n",
      "Delay 3 s.\n",
      "-------------«Камчатка» откр-------------\n",
      "-------------.ru/upload/resize_cache/iblock/c0a/728_400_2/dsc470924b.jpg-------------\n",
      "-------------PAGE </msk/detailed/restaurants/italoniya/> PARSING-------------\n",
      "Delay 4 s.\n",
      "-------------Ресторан Italon-------------\n",
      "-------------.ru/upload/resize_cache/iblock/4ba/728_400_2/1_27ee.jpg-------------\n",
      "-------------PAGE </msk/detailed/restaurants/in-rocky/> PARSING-------------\n",
      "Delay 2 s.\n",
      "-------------Кабачок «Ин Рок-------------\n",
      "-------------.ru/upload/resize_cache/iblock/6d3/728_400_2/holl_2032.jpg-------------\n",
      "-------------PAGE </msk/detailed/restaurants/johny-josper-pub/> PARSING-------------\n",
      "Delay 3 s.\n",
      "---------------------------\n",
      "-------------.ru/upload/resize_cache/iblock/487/728_400_2/img_9668_2892.jpg-------------\n",
      "-------------PAGE </msk/detailed/restaurants/jimmy-li/> PARSING-------------\n",
      "Delay 4 s.\n",
      "-------------«Джимми Ли» – н-------------\n",
      "-------------.ru/upload/resize_cache/iblock/4d6/728_400_2/jimmy_li_2f6f.jpg-------------\n",
      "-------------PAGE </msk/detailed/restaurants/keanu/> PARSING-------------\n",
      "Delay 3 s.\n",
      "---------------------------\n",
      "-------------.ru/upload/resize_cache/iblock/378/728_400_2/0_5_2755.jpg-------------\n",
      "-------------PAGE </msk/detailed/restaurants/john_silver/> PARSING-------------\n",
      "Delay 3 s.\n",
      "-------------На оживленном К-------------\n",
      "-------------.ru/upload/resize_cache/iblock/d23/728_400_2/silver_0087fb5.jpg-------------\n",
      "-------------PAGE </msk/detailed/restaurants/ilforno/> PARSING-------------\n",
      "Delay 4 s.\n",
      "-------------Кухня Италии ни-------------\n",
      "--------------------------\n",
      "-------------PAGE </msk/detailed/restaurants/la_mare/> PARSING-------------\n",
      "Delay 4 s.\n",
      "-------------Небольшой двухэ-------------\n",
      "-------------.ru/upload/resize_cache/iblock/a3a/728_400_2/1_etaj_1_2476.jpg-------------\n",
      "-------------PAGE </msk/detailed/restaurants/laprima/> PARSING-------------\n",
      "Delay 3 s.\n",
      "-------------Ресторан La Pri-------------\n",
      "-------------.ru/upload/resize_cache/iblock/c91/728_400_2/zal1_006e2a.jpg-------------\n",
      "-------------PAGE </msk/detailed/restaurants/la_maree_petrovka/> PARSING-------------\n",
      "Delay 3 s.\n",
      "-------------История рестора-------------\n",
      "-------------.ru/upload/resize_cache/iblock/476/728_400_2/003_cw4a929120a.jpg-------------\n",
      "-------------PAGE </msk/detailed/restaurants/la_taverna/> PARSING-------------\n",
      "Delay 3 s.\n",
      "-------------Теплый день в с-------------\n",
      "-------------.ru/upload/resize_cache/iblock/448/728_400_2/lataverna_zal2_0038c0.jpg-------------\n",
      "-------------PAGE </msk/detailed/restaurants/lamaree_smolenka/> PARSING-------------\n",
      "Delay 2 s.\n",
      "-------------Ресторан «Ла Ма-------------\n",
      "-------------.ru/upload/resize_cache/iblock/5d9/728_400_2/img_2186_2414.jpg-------------\n",
      "-------------PAGE </msk/detailed/restaurants/lamaree_zhukovka/> PARSING-------------\n",
      "Delay 2 s.\n",
      "-------------Ресторан «Ла Ма-------------\n",
      "-------------.ru/upload/resize_cache/iblock/413/728_400_2/img_7275855.jpg-------------\n",
      "-------------PAGE </msk/detailed/restaurants/Laprovincia/> PARSING-------------\n",
      "Delay 3 s.\n",
      "-------------Что такое Итали-------------\n",
      "-------------.ru/upload/resize_cache/iblock/f4c/728_400_2/csc_3623857.jpg-------------\n",
      "-------------PAGE </msk/detailed/restaurants/la-delizia/> PARSING-------------\n",
      "Delay 3 s.\n",
      "-------------Этот ресторан н-------------\n",
      "-------------.ru/upload/resize_cache/iblock/506/728_400_2/1b6b.jpg-------------\n",
      "-------------PAGE </msk/detailed/restaurants/kot_shryedingera/> PARSING-------------\n",
      "Delay 2 s.\n",
      "-------------Бар «Кот Шрёдин-------------\n",
      "-------------.ru/upload/resize_cache/iblock/171/728_400_2/img_9463f51_25ae.jpg-------------\n",
      "-------------PAGE </msk/detailed/restaurants/koryo/> PARSING-------------\n",
      "Delay 3 s.\n",
      "-------------Ресторан Koryo -------------\n",
      "-------------.ru/upload/resize_cache/iblock/8f1/728_400_2/img_20160721_131329ab1.jpg-------------\n",
      "-------------PAGE </msk/detailed/restaurants/la_princesse_choco/> PARSING-------------\n",
      "Delay 2 s.\n",
      "---------------------------\n",
      "-------------.ru/upload/resize_cache/iblock/07d/728_400_2/img3884resize1_569956f55e717_620_4160af.jpeg-------------\n",
      "-------------PAGE </msk/detailed/restaurants/kinki/> PARSING-------------\n",
      "Delay 3 s.\n",
      "-------------Ресторан Kinki -------------\n",
      "-------------.ru/upload/resize_cache/iblock/809/728_400_2/night_01_dsc_3918_2805.jpg-------------\n",
      "-------------PAGE </msk/detailed/restaurants/verona/> PARSING-------------\n",
      "Delay 2 s.\n",
      "---------------------------\n",
      "-------------.ru/upload/resize_cache/iblock/b56/728_400_2/img_3043f4a.jpg-------------\n",
      "-------------PAGE </msk/detailed/restaurants/krasnodar/> PARSING-------------\n",
      "Delay 4 s.\n",
      "-------------Новая русская к-------------\n",
      "-------------.ru/upload/resize_cache/iblock/de6/728_400_2/zal1_004_5607a3.jpg-------------\n",
      "-------------PAGE </msk/detailed/restaurants/la-muzon/> PARSING-------------\n",
      "Delay 2 s.\n",
      "-------------Караоке-бар La -------------\n",
      "-------------.ru/upload/resize_cache/iblock/4f2/728_400_2/dsc6435_2236.jpg-------------\n",
      "-------------PAGE </msk/detailed/restaurants/koster/> PARSING-------------\n",
      "Delay 4 s.\n",
      "-------------В мае этого год-------------\n",
      "-------------.ru/upload/resize_cache/iblock/562/728_400_2/img_5653578.jpg-------------\n",
      "-------------PAGE </msk/detailed/restaurants/kirin/> PARSING-------------\n",
      "Delay 2 s.\n",
      "-------------Кухня – важная -------------\n",
      "-------------.ru/upload/resize_cache/iblock/3a0/728_400_2/img_539884b.jpg-------------\n",
      "-------------PAGE </msk/detailed/restaurants/la-scarpetta/> PARSING-------------\n",
      "Delay 4 s.\n",
      "-------------Если вы хотите -------------\n",
      "-------------.ru/upload/resize_cache/iblock/ff1/728_400_2/4_26_21b3.jpg-------------\n",
      "-------------PAGE </msk/detailed/restaurants/la-mela-verde/> PARSING-------------\n",
      "Delay 2 s.\n",
      "---------------------------\n",
      "-------------.ru/upload/resize_cache/iblock/836/728_400_2/img_5029_29_01_18_01_55302.jpg-------------\n",
      "-------------PAGE </msk/detailed/restaurants/largo/> PARSING-------------\n",
      "Delay 2 s.\n",
      "---------------------------\n",
      "-------------.ru/upload/resize_cache/iblock/c3b/728_400_2/k97a3124_small0f9.jpg-------------\n",
      "-------------PAGE </msk/detailed/restaurants/langust/> PARSING-------------\n",
      "Delay 4 s.\n",
      "-------------Уютныйресторан -------------\n",
      "-------------.ru/upload/resize_cache/iblock/bc0/728_400_2/img_881768d.jpg-------------\n",
      "-------------PAGE </msk/detailed/restaurants/lawsons_bar/> PARSING-------------\n",
      "Delay 4 s.\n",
      "---------------------------\n",
      "-------------.ru/upload/resize_cache/iblock/003/728_400_2/img_53302b3.jpg-------------\n",
      "-------------PAGE </msk/detailed/restaurants/let_s_rock_bar/> PARSING-------------\n",
      "Delay 2 s.\n",
      "---------------------------\n",
      "-------------.ru/upload/resize_cache/iblock/187/728_400_2/6r4c1577_panorama_89e.jpg-------------\n",
      "-------------PAGE </msk/detailed/restaurants/lion/> PARSING-------------\n",
      "Delay 3 s.\n",
      "---------------------------\n",
      "-------------.ru/upload/resize_cache/iblock/01f/728_400_2/a3c57a1703c78b7601.jpg-------------\n",
      "-------------PAGE </msk/detailed/restaurants/le_restaurant/> PARSING-------------\n",
      "Delay 2 s.\n",
      "-------------Название говори-------------\n",
      "-------------.ru/upload/resize_cache/iblock/fec/728_400_2/1_le_restaurant_interior_2188.jpg-------------\n",
      "-------------PAGE </msk/detailed/restaurants/loft_karaoke/> PARSING-------------\n",
      "Delay 3 s.\n"
     ]
    },
    {
     "name": "stdout",
     "output_type": "stream",
     "text": [
      "---------------------------\n",
      "-------------.ru/upload/resize_cache/iblock/85e/728_400_2/dsc_0513_2214.jpg-------------\n",
      "-------------PAGE </msk/detailed/restaurants/limassol/> PARSING-------------\n",
      "Delay 2 s.\n",
      "-------------Ресторан Limass-------------\n",
      "-------------.ru/upload/resize_cache/iblock/c0e/728_400_2/img_0275_272d.jpg-------------\n",
      "-------------PAGE </msk/detailed/restaurants/lions_head/> PARSING-------------\n",
      "Delay 2 s.\n",
      "-------------Ирландский паб -------------\n",
      "-------------.ru/upload/resize_cache/iblock/5f7/728_400_2/lsl8896_2da2.jpg-------------\n",
      "-------------PAGE </msk/detailed/restaurants/lock_stock/> PARSING-------------\n",
      "Delay 4 s.\n",
      "---------------------------\n",
      "-------------.ru/upload/resize_cache/iblock/63f/728_400_2/dsc_0478_252c.jpg-------------\n",
      "-------------PAGE </msk/detailed/restaurants/lima_fusion/> PARSING-------------\n",
      "Delay 4 s.\n",
      "---------------------------\n",
      "-------------.ru/upload/resize_cache/iblock/111/728_400_2/464e.jpg-------------\n",
      "-------------PAGE </msk/detailed/restaurants/lake_house/> PARSING-------------\n",
      "Delay 3 s.\n",
      "-------------Если вы ищете м-------------\n",
      "-------------.ru/upload/resize_cache/iblock/b15/728_400_2/23dbc.jpg-------------\n",
      "-------------PAGE </msk/detailed/restaurants/leningrad_club/> PARSING-------------\n",
      "Delay 4 s.\n",
      "-------------Клуб Leningrad -------------\n",
      "-------------.ru/upload/resize_cache/iblock/710/728_400_2/dsc_9290827.jpg-------------\n",
      "-------------PAGE </msk/detailed/restaurants/live-stars/> PARSING-------------\n",
      "Delay 3 s.\n",
      "-------------Клуб Live Stars-------------\n",
      "-------------.ru/upload/resize_cache/iblock/011/728_400_2/img_8558_1_2640.jpg-------------\n",
      "-------------PAGE </msk/detailed/restaurants/lampa/> PARSING-------------\n",
      "Delay 4 s.\n",
      "---------------------------\n",
      "-------------.ru/upload/resize_cache/iblock/c04/728_400_2/img_3083_03_02_17_01_1333a.jpg-------------\n",
      "-------------PAGE </msk/detailed/restaurants/le-melange/> PARSING-------------\n",
      "Delay 3 s.\n",
      "---------------------------\n",
      "-------------.ru/upload/resize_cache/iblock/fe2/728_400_2/dsc05280_2287.jpg-------------\n",
      "-------------PAGE </msk/detailed/restaurants/loft17/> PARSING-------------\n",
      "Delay 3 s.\n",
      "-------------Ресторан Loft17-------------\n",
      "-------------.ru/upload/resize_cache/iblock/173/728_400_2/016_2a8f.jpg-------------\n",
      "-------------PAGE </msk/detailed/restaurants/larionov-grill-bar/> PARSING-------------\n",
      "Delay 4 s.\n",
      "-------------Ресторан Larion-------------\n",
      "-------------.ru/upload/resize_cache/iblock/26e/728_400_2/img_8201_21fc.jpg-------------\n",
      "-------------PAGE </msk/detailed/restaurants/lilia/> PARSING-------------\n",
      "Delay 3 s.\n",
      "-------------В будничной суе-------------\n",
      "-------------.ru/upload/resize_cache/iblock/4db/728_400_2/zal_004928.jpg-------------\n",
      "-------------PAGE </msk/detailed/restaurants/locals/> PARSING-------------\n",
      "Delay 3 s.\n",
      "-------------Симпатичное мяс-------------\n",
      "-------------.ru/upload/resize_cache/iblock/c9b/728_400_2/img_4652_29dd.jpg-------------\n",
      "-------------PAGE </msk/detailed/restaurants/followmecafe/> PARSING-------------\n",
      "Delay 4 s.\n",
      "-------------M U L T I LO V -------------\n",
      "-------------.ru/upload/resize_cache/iblock/495/728_400_2/6oiucij_ly1fa.jpg-------------\n",
      "-------------PAGE </msk/detailed/restaurants/makoto/> PARSING-------------\n",
      "Delay 3 s.\n",
      "---------------------------\n",
      "-------------.ru/upload/resize_cache/iblock/31d/728_400_2/foto_002ad2.jpg-------------\n",
      "-------------PAGE </msk/detailed/restaurants/lucecafe/> PARSING-------------\n",
      "Delay 4 s.\n",
      "-------------Ресторан «Люче»-------------\n",
      "-------------.ru/upload/resize_cache/iblock/3ab/728_400_2/img_76085f3.jpg-------------\n",
      "-------------PAGE </msk/detailed/restaurants/florian_cafe/> PARSING-------------\n",
      "Delay 3 s.\n",
      "---------------------------\n",
      "-------------.ru/upload/resize_cache/iblock/a20/728_400_2/k97a0924_smallb57.jpg-------------\n",
      "-------------PAGE </msk/detailed/restaurants/malibu/> PARSING-------------\n",
      "Delay 4 s.\n",
      "---------------------------\n",
      "-------------.ru/upload/resize_cache/iblock/11a/728_400_2/malibu_vnutric1b.jpg-------------\n",
      "-------------PAGE </msk/detailed/restaurants/loft_sport_bar/> PARSING-------------\n",
      "Delay 4 s.\n",
      "-------------БарLoftSportBar-------------\n",
      "-------------.ru/upload/resize_cache/iblock/7d8/728_400_2/8m_2fc8.jpg-------------\n",
      "-------------PAGE </msk/detailed/restaurants/marian_hall/> PARSING-------------\n",
      "Delay 3 s.\n",
      "-------------Дорогие гости, -------------\n",
      "-------------.ru/upload/resize_cache/iblock/ddd/728_400_2/img_080196b.jpg-------------\n",
      "-------------PAGE </msk/detailed/restaurants/look_in_rooms/> PARSING-------------\n",
      "Delay 3 s.\n",
      "-------------Ресторан Look i-------------\n",
      "-------------.ru/upload/resize_cache/iblock/dc2/728_400_2/000054f0.jpg-------------\n",
      "-------------PAGE </msk/detailed/restaurants/lusun-profsoyuznaya/> PARSING-------------\n",
      "Delay 2 s.\n",
      "-------------Ресторан LuSun -------------\n",
      "-------------.ru/upload/resize_cache/iblock/544/728_400_2/zal_na_50_70_chelovek1607.jpg-------------\n",
      "-------------PAGE </msk/detailed/restaurants/louis/> PARSING-------------\n",
      "Delay 2 s.\n",
      "-------------Караоке-бар Lou-------------\n",
      "-------------.ru/upload/resize_cache/iblock/0b0/728_400_2/023e7f.jpg-------------\n",
      "-------------PAGE </msk/detailed/restaurants/lora-kraft-pub/> PARSING-------------\n",
      "Delay 2 s.\n",
      "-------------ПабLora Kraft в-------------\n",
      "-------------.ru/upload/resize_cache/iblock/35f/728_400_2/dsc_0002652.jpg-------------\n",
      "-------------PAGE </msk/detailed/restaurants/lubeer/> PARSING-------------\n",
      "Delay 2 s.\n",
      "---------------------------\n",
      "-------------.ru/upload/resize_cache/iblock/d6f/728_400_2/original_554b089bd12e55f1238b45a8_562940566e3fb_2143.jpg-------------\n",
      "-------------PAGE </msk/detailed/restaurants/lyustra-bar/> PARSING-------------\n",
      "Delay 2 s.\n",
      "---------------------------\n",
      "-------------.ru/upload/resize_cache/iblock/486/728_400_2/img_3951_2263.jpg-------------\n",
      "-------------PAGE </msk/detailed/restaurants/m-10/> PARSING-------------\n",
      "Delay 3 s.\n",
      "---------------------------\n",
      "-------------.ru/upload/resize_cache/iblock/9f3/728_400_2/img_0150_2386.jpg-------------\n",
      "-------------PAGE </msk/detailed/restaurants/market-monopol/> PARSING-------------\n",
      "Delay 2 s.\n",
      "-------------Хорошее вино — -------------\n",
      "-------------.ru/upload/resize_cache/iblock/b64/728_400_2/sls_3331_2_3_4_5f4d.jpg-------------\n",
      "-------------PAGE </msk/detailed/restaurants/marani/> PARSING-------------\n",
      "Delay 3 s.\n",
      "-------------Хинкальная Мара-------------\n",
      "-------------.ru/upload/resize_cache/iblock/22b/728_400_2/022250.jpg-------------\n",
      "-------------PAGE </msk/detailed/restaurants/madman/> PARSING-------------\n",
      "Delay 2 s.\n",
      "-------------Ресторан Madman-------------\n",
      "-------------.ru/upload/resize_cache/iblock/850/728_400_2/i808b.jpg-------------\n",
      "-------------PAGE </msk/detailed/restaurants/lyabikhauz/> PARSING-------------\n",
      "Delay 2 s.\n",
      "---------------------------\n",
      "-------------.ru/upload/resize_cache/iblock/8fb/728_400_2/dsc_5535_2700.jpg-------------\n",
      "-------------PAGE </msk/detailed/restaurants/margarita/> PARSING-------------\n",
      "Delay 3 s.\n",
      "-------------Margarita Bistr-------------\n",
      "-------------.ru/upload/resize_cache/iblock/f87/728_400_2/0r1a0446_ok1_27b7.jpg-------------\n",
      "-------------PAGE </msk/detailed/restaurants/ncafe/> PARSING-------------\n",
      "Delay 4 s.\n",
      "-------------«Мармелад» — от-------------\n",
      "-------------.ru/upload/resize_cache/iblock/e98/728_400_2/3a63.jpg-------------\n",
      "-------------PAGE </msk/detailed/restaurants/pokrovka_16/> PARSING-------------\n",
      "Delay 4 s.\n",
      "-------------Всем меломанам -------------\n",
      "-------------.ru/upload/resize_cache/iblock/e9e/728_400_2/p16int2_35_of_67c49.jpg-------------\n",
      "-------------PAGE </msk/detailed/restaurants/molon_lave/> PARSING-------------\n",
      "Delay 3 s.\n",
      "-------------Ресторан «Молон-------------\n",
      "-------------.ru/upload/resize_cache/iblock/f6e/728_400_2/malon_lave_interier_6838.jpg-------------\n",
      "-------------PAGE </msk/detailed/restaurants/montis/> PARSING-------------\n",
      "Delay 3 s.\n",
      "-------------MONTIS’Friends -------------\n",
      "-------------.ru/upload/resize_cache/iblock/be0/728_400_2/montis_3aad.jpg-------------\n",
      "-------------PAGE </msk/detailed/restaurants/mc-traders/> PARSING-------------\n",
      "Delay 4 s.\n",
      "-------------Ресторан и бар -------------\n",
      "-------------.ru/upload/resize_cache/iblock/0ac/728_400_2/2906_23a1c.jpg-------------\n",
      "-------------PAGE </msk/detailed/restaurants/maximus/> PARSING-------------\n",
      "Delay 4 s.\n"
     ]
    },
    {
     "name": "stdout",
     "output_type": "stream",
     "text": [
      "-------------Ресторан Maximu-------------\n",
      "-------------.ru/upload/resize_cache/iblock/a9f/728_400_2/image_10_2a16.jpg-------------\n",
      "-------------PAGE </msk/detailed/restaurants/cafemavi/> PARSING-------------\n",
      "Delay 3 s.\n",
      "---------------------------\n",
      "-------------.ru/upload/resize_cache/iblock/e54/728_400_2/55_2520.jpg-------------\n",
      "-------------PAGE </msk/detailed/restaurants/monster_hills/> PARSING-------------\n",
      "Delay 2 s.\n",
      "-------------Страшно вкусно,-------------\n",
      "-------------.ru/upload/resize_cache/iblock/cb4/728_400_2/monsterhill_zal_02325e.jpg-------------\n",
      "-------------PAGE </msk/detailed/restaurants/maxpower_bar/> PARSING-------------\n",
      "Delay 3 s.\n",
      "---------------------------\n",
      "-------------.ru/upload/resize_cache/iblock/466/728_400_2/ay7vqyafhngd6d.jpg-------------\n",
      "-------------PAGE </msk/detailed/restaurants/myaso_pasta/> PARSING-------------\n",
      "Delay 3 s.\n",
      "-------------Предельно понят-------------\n",
      "-------------.ru/upload/resize_cache/iblock/d98/728_400_2/img_377009d.jpg-------------\n",
      "-------------PAGE </msk/detailed/restaurants/milana/> PARSING-------------\n",
      "Delay 3 s.\n",
      "---------------------------\n",
      "-------------.ru/upload/resize_cache/iblock/b32/728_400_2/img_6023_09_03_17_12_4308f.jpeg-------------\n",
      "-------------PAGE </msk/detailed/restaurants/miraclub/> PARSING-------------\n",
      "Delay 4 s.\n",
      "-------------Загородный рест-------------\n",
      "-------------.ru/upload/resize_cache/iblock/e86/728_400_2/44p2398_result16b75.jpg-------------\n",
      "-------------PAGE </msk/detailed/restaurants/maxima-pizza/> PARSING-------------\n",
      "Delay 2 s.\n",
      "---------------------------\n",
      "-------------.ru/upload/resize_cache/iblock/ef2/728_400_2/dsc_0161_2431.jpg-------------\n",
      "-------------PAGE </msk/detailed/restaurants/marmolada/> PARSING-------------\n",
      "Delay 4 s.\n",
      "-------------Ресторан Marmol-------------\n",
      "-------------.ru/upload/resize_cache/iblock/ae3/728_400_2/dsc_0885_2e7b.jpg-------------\n",
      "-------------PAGE </msk/detailed/restaurants/maxs-beef-for-money/> PARSING-------------\n",
      "Delay 4 s.\n",
      "---------------------------\n",
      "-------------.ru/upload/resize_cache/iblock/c02/728_400_2/maxsbeefformoney_zal_005121.jpg-------------\n",
      "-------------PAGE </msk/detailed/restaurants/meat-more/> PARSING-------------\n",
      "Delay 4 s.\n",
      "-------------Главная тайна р-------------\n",
      "-------------.ru/upload/resize_cache/iblock/073/728_400_2/k97a8634_webfab.jpg-------------\n",
      "-------------PAGE </msk/detailed/restaurants/mondriaan-bar/> PARSING-------------\n",
      "Delay 4 s.\n",
      "---------------------------\n",
      "-------------.ru/upload/resize_cache/iblock/7a6/728_400_2/unspecifiecd4_kopiyad5c.jpg-------------\n",
      "-------------PAGE </msk/detailed/restaurants/marrakesh-lounge/> PARSING-------------\n",
      "Delay 3 s.\n",
      "-------------Кафе Marrakesh -------------\n",
      "-------------.ru/upload/resize_cache/iblock/404/728_400_2/0005592.jpg-------------\n",
      "-------------PAGE </msk/detailed/restaurants/maska/> PARSING-------------\n",
      "Delay 2 s.\n",
      "---------------------------\n",
      "-------------.ru/upload/resize_cache/iblock/782/728_400_2/img_0080_2bb6.jpg-------------\n",
      "-------------PAGE </msk/detailed/restaurants/monterosso/> PARSING-------------\n",
      "Delay 2 s.\n",
      "-------------Monterosso на Т-------------\n",
      "-------------.ru/upload/resize_cache/iblock/36d/728_400_2/10153637_759547297415430_2816134415466293312_nc2a.jpg-------------\n",
      "-------------PAGE </msk/detailed/restaurants/moscow_club/> PARSING-------------\n",
      "Delay 2 s.\n",
      "-------------Ресторан Moscow-------------\n",
      "-------------.ru/upload/resize_cache/iblock/64e/728_400_2/image_04_06_15_05_57_6020.jpeg-------------\n",
      "-------------PAGE </msk/detailed/restaurants/nagasaki/> PARSING-------------\n",
      "Delay 2 s.\n",
      "-------------Ресторан Nagasa-------------\n",
      "-------------.ru/upload/resize_cache/iblock/d88/728_400_2/1cd1.jpg-------------\n",
      "-------------PAGE </msk/detailed/restaurants/n-nbistro/> PARSING-------------\n",
      "Delay 4 s.\n",
      "-------------Ресторан Norman-------------\n",
      "-------------.ru/upload/resize_cache/iblock/bb0/728_400_2/img_8147_novyiy_razmer5f7.jpg-------------\n",
      "-------------PAGE </msk/detailed/restaurants/MrLivanets/> PARSING-------------\n",
      "Delay 2 s.\n",
      "-------------Ресторан «Mr. Л-------------\n",
      "-------------.ru/upload/resize_cache/iblock/404/728_400_2/11822557_883574728356271_1088609634812863106_n65f.jpg-------------\n",
      "-------------PAGE </msk/detailed/restaurants/mr_sushini/> PARSING-------------\n",
      "Delay 3 s.\n",
      "---------------------------\n",
      "-------------.ru/upload/resize_cache/iblock/48d/728_400_2/mg_7053_1_2f9e.jpg-------------\n",
      "-------------PAGE </msk/detailed/restaurants/Helpbar/> PARSING-------------\n",
      "Delay 3 s.\n",
      "---------------------------\n",
      "-------------.ru/upload/resize_cache/iblock/630/728_400_2/k97a5800_smallcac.jpg-------------\n",
      "-------------PAGE </msk/detailed/restaurants/niokki/> PARSING-------------\n",
      "Delay 2 s.\n",
      "-------------Ресторан Niokki-------------\n",
      "-------------.ru/upload/resize_cache/iblock/dc9/728_400_2/20150930_175304_2987.jpg-------------\n",
      "-------------PAGE </msk/detailed/restaurants/mushrooms/> PARSING-------------\n",
      "Delay 4 s.\n",
      "-------------Ресторан Mushro-------------\n",
      "-------------.ru/upload/resize_cache/iblock/77a/728_400_2/mg_8208_2_262e.jpg-------------\n",
      "-------------PAGE </msk/detailed/restaurants/night_office/> PARSING-------------\n",
      "Delay 4 s.\n",
      "---------------------------\n",
      "-------------.ru/upload/resize_cache/iblock/bf4/728_400_2/img_2162966.jpg-------------\n",
      "-------------PAGE </msk/detailed/restaurants/newplacemoscow/> PARSING-------------\n",
      "Delay 3 s.\n",
      "-------------Недалеко от ста-------------\n",
      "-------------.ru/upload/resize_cache/iblock/8c6/728_400_2/img_5585072.jpg-------------\n",
      "-------------PAGE </msk/detailed/restaurants/mti-eli/> PARSING-------------\n",
      "Delay 2 s.\n",
      "-------------Ресторан-хинкал-------------\n",
      "-------------.ru/upload/resize_cache/iblock/d50/728_400_2/img_6252514.jpg-------------\n",
      "-------------PAGE </msk/detailed/restaurants/native-speakers-cafe/> PARSING-------------\n",
      "Delay 4 s.\n",
      "---------------------------\n",
      "-------------.ru/upload/resize_cache/iblock/920/728_400_2/ns_cafe_1ed6.jpg-------------\n",
      "-------------PAGE </msk/detailed/restaurants/navarros-bar-and-grill/> PARSING-------------\n",
      "Delay 3 s.\n",
      "---------------------------\n",
      "-------------.ru/upload/resize_cache/iblock/e9c/728_400_2/101_2726.jpg-------------\n",
      "-------------PAGE </msk/detailed/restaurants/khoroshie-lyudi/> PARSING-------------\n",
      "Delay 3 s.\n",
      "-------------Бар Nice People-------------\n",
      "-------------.ru/upload/resize_cache/iblock/5af/728_400_2/1_pervaya_fotografiya05a.jpg-------------\n",
      "-------------PAGE </msk/detailed/restaurants/my-cousine/> PARSING-------------\n",
      "Delay 2 s.\n",
      "-------------Кафе-ресторан «-------------\n",
      "-------------.ru/upload/resize_cache/iblock/b39/728_400_2/hall216f1.jpeg-------------\n",
      "-------------PAGE </msk/detailed/restaurants/new-york-steakhouse/> PARSING-------------\n",
      "Delay 4 s.\n",
      "-------------Окунуться внепе-------------\n",
      "-------------.ru/upload/resize_cache/iblock/3d1/728_400_2/york_steykhaus949.jpg-------------\n",
      "-------------PAGE </msk/detailed/restaurants/nabatpalace-resto/> PARSING-------------\n",
      "Delay 2 s.\n",
      "---------------------------\n",
      "-------------.ru/upload/resize_cache/iblock/2e0/728_400_2/img_3151_2_3fe7.jpg-------------\n",
      "-------------PAGE </msk/detailed/restaurants/muzey/> PARSING-------------\n",
      "Delay 4 s.\n",
      "-------------Viva Италия! Vi-------------\n",
      "-------------.ru/upload/resize_cache/iblock/2bd/728_400_2/muzey_vipzal_001.jpg-------------\n",
      "-------------PAGE </msk/detailed/restaurants/novikov/> PARSING-------------\n",
      "Delay 2 s.\n",
      "-------------Novikov – ресто-------------\n",
      "-------------.ru/upload/resize_cache/iblock/9c2/728_400_2/20131006_slava_pozdnyakov_689733e.jpg-------------\n",
      "-------------PAGE </msk/detailed/restaurants/offer/> PARSING-------------\n",
      "Delay 3 s.\n",
      "-------------OFFER(«Оффер») -------------\n",
      "-------------.ru/upload/resize_cache/iblock/031/728_400_2/zal1_002_271219.jpg-------------\n",
      "-------------PAGE </msk/detailed/restaurants/noyan_tun/> PARSING-------------\n",
      "Delay 2 s.\n",
      "-------------Ресторан Noyan -------------\n",
      "-------------.ru/upload/resize_cache/iblock/23b/728_400_2/lum_1549805.jpg-------------\n",
      "-------------PAGE </msk/detailed/restaurants/nu_art/> PARSING-------------\n",
      "Delay 2 s.\n",
      "---------------------------\n",
      "-------------.ru/upload/resize_cache/iblock/5cc/728_400_2/mg_7047_2658.jpg-------------\n",
      "-------------PAGE </msk/detailed/restaurants/olioli/> PARSING-------------\n",
      "Delay 4 s.\n",
      "---------------------------\n",
      "-------------.ru/upload/resize_cache/iblock/6db/728_400_2/img_707150c.jpg-------------\n",
      "-------------PAGE </msk/detailed/restaurants/pacha_bar/> PARSING-------------\n",
      "Delay 3 s.\n"
     ]
    },
    {
     "name": "stdout",
     "output_type": "stream",
     "text": [
      "-------------Почувствовать с-------------\n",
      "-------------.ru/upload/resize_cache/iblock/39b/728_400_2/1354697306.jpg-------------\n",
      "-------------PAGE </msk/detailed/restaurants/osteria_mario/> PARSING-------------\n",
      "Delay 4 s.\n",
      "-------------Ресторан Osteri-------------\n",
      "-------------.ru/upload/resize_cache/iblock/1bd/728_400_2/photo_by_worldpodiumru_8224aa3.jpg-------------\n",
      "-------------PAGE </msk/detailed/restaurants/osteria_mario_ohotnyy_ryad/> PARSING-------------\n",
      "Delay 3 s.\n",
      "-------------Ресторан Osteri-------------\n",
      "-------------.ru/upload/resize_cache/iblock/edd/728_400_2/unspecified_47f3.jpg-------------\n",
      "-------------PAGE </msk/detailed/restaurants/onyx-bar/> PARSING-------------\n",
      "Delay 2 s.\n",
      "-------------Элегантный и ую-------------\n",
      "-------------.ru/upload/resize_cache/iblock/e32/728_400_2/img_7550_iil97d.jpg-------------\n",
      "-------------PAGE </msk/detailed/restaurants/palma_de_sochi/> PARSING-------------\n",
      "Delay 2 s.\n",
      "---------------------------\n",
      "-------------.ru/upload/resize_cache/iblock/7c3/728_400_2/1_paluba_so_storonyi_kuhnie4e.jpg-------------\n",
      "-------------PAGE </msk/detailed/restaurants/osteria-toscana/> PARSING-------------\n",
      "Delay 3 s.\n",
      "-------------Osteria Toscana-------------\n",
      "-------------.ru/upload/resize_cache/iblock/222/728_400_2/img_95727d1.jpg-------------\n",
      "-------------PAGE </msk/detailed/restaurants/odonoghues/> PARSING-------------\n",
      "Delay 4 s.\n",
      "---------------------------\n",
      "-------------.ru/upload/resize_cache/iblock/727/728_400_2/odonoghues_pub_zal1_009913.jpg-------------\n",
      "-------------PAGE </msk/detailed/restaurants/panda-hookan/> PARSING-------------\n",
      "Delay 4 s.\n",
      "---------------------------\n",
      "-------------.ru/upload/resize_cache/iblock/48b/728_400_2/dsc_01290a6.jpg-------------\n",
      "-------------PAGE </msk/detailed/restaurants/pa-paella/> PARSING-------------\n",
      "Delay 2 s.\n",
      "-------------Ресторан Pa Pae-------------\n",
      "-------------.ru/upload/resize_cache/iblock/52a/728_400_2/dsc_21938a6.jpg-------------\n",
      "-------------PAGE </msk/detailed/restaurants/osteria-alberobello/> PARSING-------------\n",
      "Delay 4 s.\n",
      "-------------Ресторан Osteri-------------\n",
      "-------------.ru/upload/resize_cache/iblock/a6c/728_400_2/1179.jpg-------------\n",
      "-------------PAGE </msk/detailed/restaurants/onstage/> PARSING-------------\n",
      "Delay 3 s.\n",
      "-------------Как обновляется-------------\n",
      "-------------.ru/upload/resize_cache/iblock/56a/728_400_2/img_3397_panorama_200a.jpg-------------\n",
      "-------------PAGE </msk/detailed/restaurants/oxus/> PARSING-------------\n",
      "Delay 2 s.\n",
      "-------------Традиционная уз-------------\n",
      "-------------.ru/upload/resize_cache/iblock/d43/728_400_2/oxus_zal2_003d99.jpg-------------\n",
      "-------------PAGE </msk/detailed/restaurants/palazzo_ducale/> PARSING-------------\n",
      "Delay 3 s.\n",
      "-------------Часто, устав от-------------\n",
      "-------------.ru/upload/resize_cache/iblock/f75/728_400_2/1350458723.jpg-------------\n",
      "-------------PAGE </msk/detailed/restaurants/palati/> PARSING-------------\n",
      "Delay 3 s.\n",
      "-------------Согласитесь, чт-------------\n",
      "-------------.ru/upload/resize_cache/iblock/16a/728_400_2/dsc3284c0f.jpg-------------\n",
      "-------------PAGE </msk/detailed/restaurants/di_campagna/> PARSING-------------\n",
      "Delay 2 s.\n",
      "-------------На волне успеха-------------\n",
      "-------------.ru/upload/resize_cache/iblock/3c2/728_400_2/1f8y004485f.jpg-------------\n",
      "-------------PAGE </msk/detailed/restaurants/portomalteze/> PARSING-------------\n",
      "Delay 4 s.\n",
      "-------------Рестораны «Порт-------------\n",
      "--------------------------\n",
      "-------------PAGE </msk/detailed/restaurants/pinzeria/> PARSING-------------\n",
      "Delay 3 s.\n",
      "-------------На Большом Знам-------------\n",
      "-------------.ru/upload/resize_cache/iblock/eff/728_400_2/242e.jpg-------------\n",
      "-------------PAGE </msk/detailed/restaurants/ilpomodoro/> PARSING-------------\n",
      "Delay 3 s.\n",
      "-------------Pizzeria il Pom-------------\n",
      "-------------.ru/upload/resize_cache/iblock/4e7/728_400_2/img_5362_2ef7.jpg-------------\n",
      "-------------PAGE </msk/detailed/restaurants/parkplace/> PARSING-------------\n",
      "Delay 3 s.\n",
      "---------------------------\n",
      "-------------.ru/upload/resize_cache/iblock/883/728_400_2/img_5771_20b5.jpg-------------\n",
      "-------------PAGE </msk/detailed/restaurants/pitstop/> PARSING-------------\n",
      "Delay 2 s.\n",
      "-------------Пора сделать пе-------------\n",
      "-------------.ru/upload/resize_cache/iblock/38e/728_400_2/k97a1912_smalle4f.jpg-------------\n",
      "-------------PAGE </msk/detailed/restaurants/plum/> PARSING-------------\n",
      "Delay 3 s.\n",
      "-------------Стильный рестор-------------\n",
      "-------------.ru/upload/resize_cache/iblock/caa/728_400_2/mg_2993_hdr_editfac.jpg-------------\n",
      "-------------PAGE </msk/detailed/restaurants/point_rouge/> PARSING-------------\n",
      "Delay 4 s.\n",
      "-------------Караоке-бар Poi-------------\n",
      "-------------.ru/upload/resize_cache/iblock/f62/728_400_2/img_20904d9.jpg-------------\n",
      "-------------PAGE </msk/detailed/restaurants/polybones/> PARSING-------------\n",
      "Delay 3 s.\n",
      "-------------«Поли Бонс» — и-------------\n",
      "-------------.ru/upload/resize_cache/iblock/64f/728_400_2/k97a8421_small791.jpg-------------\n",
      "-------------PAGE </msk/detailed/restaurants/petit_pierre/> PARSING-------------\n",
      "Delay 4 s.\n",
      "-------------Новый Petitcafe-------------\n",
      "-------------.ru/upload/resize_cache/iblock/2c3/728_400_2/k97a7632eb6.jpg-------------\n",
      "-------------PAGE </msk/detailed/restaurants/pizza_city_rona/> PARSING-------------\n",
      "Delay 3 s.\n",
      "---------------------------\n",
      "-------------.ru/upload/resize_cache/iblock/a1f/728_400_2/dsc_0738_23bb.jpg-------------\n",
      "-------------PAGE </msk/detailed/restaurants/pizza_romanaa/> PARSING-------------\n",
      "Delay 2 s.\n",
      "---------------------------\n",
      "-------------.ru/upload/resize_cache/iblock/246/728_400_2/mg_6658_259c.jpg-------------\n",
      "-------------PAGE </msk/detailed/restaurants/pescatore/> PARSING-------------\n",
      "Delay 3 s.\n",
      "-------------Ресторан Pescat-------------\n",
      "-------------.ru/upload/resize_cache/iblock/885/728_400_2/pescatore_180ec.jpg-------------\n",
      "-------------PAGE </msk/detailed/restaurants/pauwel-kwak-pub/> PARSING-------------\n",
      "Delay 4 s.\n",
      "-------------Пивной ресторан-------------\n",
      "-------------.ru/upload/resize_cache/iblock/0e7/728_400_2/dsc_03313ec.jpg-------------\n",
      "-------------PAGE </msk/detailed/restaurants/peshirestoran/> PARSING-------------\n",
      "Delay 3 s.\n",
      "-------------Легендарный мос-------------\n",
      "-------------.ru/upload/resize_cache/iblock/4b3/728_400_2/236d.jpg-------------\n",
      "-------------PAGE </msk/detailed/restaurants/pesto-novoslobodskaya/> PARSING-------------\n",
      "Delay 4 s.\n",
      "---------------------------\n",
      "-------------.ru/upload/resize_cache/iblock/b1b/728_400_2/mg_4304_1_29e3.jpg-------------\n",
      "-------------PAGE </msk/detailed/restaurants/pesto-skhodnenskaya/> PARSING-------------\n",
      "Delay 2 s.\n",
      "---------------------------\n",
      "-------------.ru/upload/resize_cache/iblock/5eb/728_400_2/8_2380.jpg-------------\n",
      "-------------PAGE </msk/detailed/restaurants/pivzavod-77/> PARSING-------------\n",
      "Delay 3 s.\n",
      "-------------Авторская европ-------------\n",
      "-------------.ru/upload/resize_cache/iblock/8c1/728_400_2/img_1205_01ef8.jpg-------------\n",
      "-------------PAGE </msk/detailed/restaurants/pioppo-albero/> PARSING-------------\n",
      "Delay 2 s.\n",
      "-------------В ноябре в Стро-------------\n",
      "-------------.ru/upload/resize_cache/iblock/cd1/728_400_2/img_5288_2537.jpg-------------\n",
      "-------------PAGE </msk/detailed/restaurants/pizzamento/> PARSING-------------\n",
      "Delay 4 s.\n",
      "-------------В конце ноября -------------\n",
      "-------------.ru/upload/resize_cache/iblock/d66/728_400_2/img_4296_2f83.jpg-------------\n",
      "-------------PAGE </msk/detailed/restaurants/parkhouse/> PARSING-------------\n",
      "Delay 3 s.\n",
      "-------------Ресторан открыв-------------\n",
      "-------------.ru/upload/resize_cache/iblock/e5a/728_400_2/271ee8.jpg-------------\n",
      "-------------PAGE </msk/detailed/restaurants/primitivo/> PARSING-------------\n",
      "Delay 2 s.\n",
      "-------------Ресторан «Primi-------------\n",
      "-------------.ru/upload/resize_cache/iblock/0a7/728_400_2/vhod_001d95.jpg-------------\n",
      "-------------PAGE </msk/detailed/restaurants/pubdaddy/> PARSING-------------\n",
      "Delay 2 s.\n",
      "-------------РесторанPub Dad-------------\n",
      "-------------.ru/upload/resize_cache/iblock/61c/728_400_2/foto_001331.jpg-------------\n",
      "-------------PAGE </msk/detailed/restaurants/portomaltese-vip/> PARSING-------------\n",
      "Delay 2 s.\n",
      "-------------Ресторан «Порто-------------\n",
      "-------------.ru/upload/resize_cache/iblock/c98/728_400_2/restorana_220af.jpg-------------\n",
      "-------------PAGE </msk/detailed/restaurants/porto_malteze/> PARSING-------------\n",
      "Delay 2 s.\n"
     ]
    },
    {
     "name": "stdout",
     "output_type": "stream",
     "text": [
      "-------------Расположившийся-------------\n",
      "-------------.ru/upload/resize_cache/iblock/d1a/728_400_2/4_2042de.jpg-------------\n",
      "-------------PAGE </msk/detailed/restaurants/porto_malteze_pravdy/> PARSING-------------\n",
      "Delay 3 s.\n",
      "-------------Ресторан «Порто-------------\n",
      "-------------.ru/upload/resize_cache/iblock/a0f/728_400_2/dsc_0536_gotovobb0.jpg-------------\n",
      "-------------PAGE </msk/detailed/restaurants/porto_maltese/> PARSING-------------\n",
      "Delay 3 s.\n",
      "-------------Ресторан «Порто-------------\n",
      "-------------.ru/upload/resize_cache/iblock/d62/728_400_2/dsc_0030d241.jpg-------------\n",
      "-------------PAGE </msk/detailed/restaurants/rendezvous-di-valuevo/> PARSING-------------\n",
      "Delay 4 s.\n",
      "-------------Rendez-vous di -------------\n",
      "-------------.ru/upload/resize_cache/iblock/d49/728_400_2/img_2626c5b0.jpg-------------\n",
      "-------------PAGE </msk/detailed/restaurants/pab_lo_pikasso/> PARSING-------------\n",
      "Delay 2 s.\n",
      "-------------«Паб Ло Пикассо-------------\n",
      "-------------.ru/upload/resize_cache/iblock/333/728_400_2/picasso_02e7d.jpg-------------\n",
      "-------------PAGE </msk/detailed/restaurants/pub_red_fox/> PARSING-------------\n",
      "Delay 2 s.\n",
      "-------------Гастрономически-------------\n",
      "-------------.ru/upload/resize_cache/iblock/937/728_400_2/4edac82b78c31c427aa683e.jpg-------------\n",
      "-------------PAGE </msk/detailed/restaurants/rcbar/> PARSING-------------\n",
      "Delay 3 s.\n",
      "-------------«Рэд код бар» --------------\n",
      "-------------.ru/upload/resize_cache/iblock/f1e/728_400_2/redcodbar_zal_001131.jpg-------------\n",
      "-------------PAGE </msk/detailed/restaurants/quadri/> PARSING-------------\n",
      "Delay 4 s.\n",
      "---------------------------\n",
      "-------------.ru/upload/resize_cache/iblock/e7c/728_400_2/dsc_7314_2381.jpg-------------\n",
      "-------------PAGE </msk/detailed/restaurants/purmarili_purmarili/> PARSING-------------\n",
      "Delay 4 s.\n",
      "---------------------------\n",
      "-------------.ru/upload/resize_cache/iblock/5ed/728_400_2/phpthumb_generated_thumbnail688.jpeg-------------\n",
      "-------------PAGE </msk/detailed/restaurants/pushkin-tavern/> PARSING-------------\n",
      "Delay 2 s.\n",
      "-------------Трактир «Пушкин-------------\n",
      "-------------.ru/upload/resize_cache/iblock/b1c/728_400_2/k97a8234_small488.jpg-------------\n",
      "-------------PAGE </msk/detailed/restaurants/proviant/> PARSING-------------\n",
      "Delay 3 s.\n",
      "-------------Современная кух-------------\n",
      "-------------.ru/upload/resize_cache/iblock/9a5/728_400_2/17f25.jpg-------------\n",
      "-------------PAGE </msk/detailed/restaurants/punch-and-judy/> PARSING-------------\n",
      "Delay 4 s.\n",
      "-------------Возрождатьтради-------------\n",
      "-------------.ru/upload/resize_cache/iblock/951/728_400_2/zal2_0103c1.jpg-------------\n",
      "-------------PAGE </msk/detailed/restaurants/red-cat-pub/> PARSING-------------\n",
      "Delay 3 s.\n",
      "-------------Ресторан Red Ca-------------\n",
      "-------------.ru/upload/resize_cache/iblock/34b/728_400_2/dsc_0014d5f.jpg-------------\n",
      "-------------PAGE </msk/detailed/restaurants/procafe/> PARSING-------------\n",
      "Delay 4 s.\n",
      "-------------Ресторан ProCaf-------------\n",
      "-------------.ru/upload/resize_cache/iblock/b6e/728_400_2/1176536_1500_2cd0.jpg-------------\n",
      "-------------PAGE </msk/detailed/restaurants/ramen-club/> PARSING-------------\n",
      "Delay 2 s.\n",
      "-------------Если вамнужно о-------------\n",
      "-------------.ru/upload/resize_cache/iblock/ca1/728_400_2/img_8383c53.jpg-------------\n",
      "-------------PAGE </msk/detailed/restaurants/restobar/> PARSING-------------\n",
      "Delay 4 s.\n",
      "-------------Moscow City – д-------------\n",
      "-------------.ru/upload/resize_cache/iblock/039/728_400_2/img_9352ae0.jpg-------------\n",
      "-------------PAGE </msk/detailed/restaurants/crowneplaza/> PARSING-------------\n",
      "Delay 4 s.\n",
      "-------------Real Food Resta-------------\n",
      "-------------.ru/upload/resize_cache/iblock/39c/728_400_2/40c1.jpg-------------\n",
      "-------------PAGE </msk/detailed/restaurants/rosebar/> PARSING-------------\n",
      "Delay 3 s.\n",
      "-------------В одном из самы-------------\n",
      "-------------.ru/upload/resize_cache/iblock/034/728_400_2/rose_zal_005.jpg-------------\n",
      "-------------PAGE </msk/detailed/restaurants/sabordelavida/> PARSING-------------\n",
      "Delay 4 s.\n",
      "-------------Sabor de la Vid-------------\n",
      "-------------.ru/upload/resize_cache/iblock/29b/728_400_2/sabordelavitadepatric_zal1_001888.jpg-------------\n",
      "-------------PAGE </msk/detailed/restaurants/roofbar/> PARSING-------------\n",
      "Delay 2 s.\n",
      "-------------Ресторан «Крыша-------------\n",
      "-------------.ru/upload/resize_cache/iblock/f1f/728_400_2/01_42e93.jpg-------------\n",
      "-------------PAGE </msk/detailed/restaurants/river_lounge1/> PARSING-------------\n",
      "Delay 3 s.\n",
      "---------------------------\n",
      "-------------.ru/upload/resize_cache/iblock/d01/728_400_2/img_1047_291f.jpg-------------\n",
      "-------------PAGE </msk/detailed/restaurants/rose_bar_krokus_siti_moll/> PARSING-------------\n",
      "Delay 2 s.\n",
      "---------------------------\n",
      "-------------.ru/upload/resize_cache/iblock/b1d/728_400_2/rosebar_krokusmoll_veranda_002840.jpg-------------\n",
      "-------------PAGE </msk/detailed/restaurants/rotisserie/> PARSING-------------\n",
      "Delay 4 s.\n",
      "-------------НаЛомоносовском-------------\n",
      "-------------.ru/upload/resize_cache/iblock/075/728_400_2/20150630_kos6175_2f80.jpg-------------\n",
      "-------------PAGE </msk/detailed/restaurants/saamo_na_pervomayskoy/> PARSING-------------\n",
      "Delay 2 s.\n",
      "---------------------------\n",
      "-------------.ru/upload/resize_cache/iblock/8fc/728_400_2/img_29930d6.jpg-------------\n",
      "-------------PAGE </msk/detailed/restaurants/roni_makaroni/> PARSING-------------\n",
      "Delay 3 s.\n",
      "-------------Ресторан Roni M-------------\n",
      "-------------.ru/upload/resize_cache/iblock/225/728_400_2/foto_2_322164.jpg-------------\n",
      "-------------PAGE </msk/detailed/restaurants/rosso_bianco/> PARSING-------------\n",
      "Delay 3 s.\n",
      "-------------Кафе Rosso&Bian-------------\n",
      "-------------.ru/upload/resize_cache/iblock/405/728_400_2/img_1188ebd.jpg-------------\n",
      "-------------PAGE </msk/detailed/restaurants/rock_house/> PARSING-------------\n",
      "Delay 3 s.\n",
      "---------------------------\n",
      "-------------.ru/upload/resize_cache/iblock/c74/728_400_2/dsc_0128_29c5.jpg-------------\n",
      "-------------PAGE </msk/detailed/restaurants/ribambelle-vremena-goda/> PARSING-------------\n",
      "Delay 4 s.\n",
      "---------------------------\n",
      "-------------.ru/upload/resize_cache/iblock/fdd/728_400_2/122400da.jpg-------------\n",
      "-------------PAGE </msk/detailed/restaurants/ribambelle-botanicheskiy/> PARSING-------------\n",
      "Delay 4 s.\n",
      "---------------------------\n",
      "-------------.ru/upload/resize_cache/iblock/d19/728_400_2/33873ca9.jpg-------------\n",
      "-------------PAGE </msk/detailed/restaurants/rimskie-kanikulyi/> PARSING-------------\n",
      "Delay 2 s.\n",
      "-------------Ресторан «Римск-------------\n",
      "-------------.ru/upload/resize_cache/iblock/956/728_400_2/information_items_property_8255d7.jpg-------------\n",
      "-------------PAGE </msk/detailed/restaurants/rombus-cafe-bar/> PARSING-------------\n",
      "Delay 3 s.\n",
      "-------------Легкость, но с -------------\n",
      "-------------.ru/upload/resize_cache/iblock/fa2/728_400_2/rombus_zal1_01587d.jpg-------------\n",
      "-------------PAGE </msk/detailed/restaurants/ruski/> PARSING-------------\n",
      "Delay 2 s.\n",
      "-------------RUSKI –это звуч-------------\n",
      "-------------.ru/upload/resize_cache/iblock/502/728_400_2/ruski_zal1_011128.jpg-------------\n",
      "-------------PAGE </msk/detailed/restaurants/robin-bo/> PARSING-------------\n",
      "Delay 2 s.\n",
      "-------------Семейное кафе «-------------\n",
      "-------------.ru/upload/resize_cache/iblock/e74/728_400_2/foto_2303c.jpg-------------\n",
      "-------------PAGE </msk/detailed/restaurants/royal-ilyinka/> PARSING-------------\n",
      "Delay 3 s.\n",
      "-------------РесторанRoyal в-------------\n",
      "-------------.ru/upload/resize_cache/iblock/e56/728_400_2/img_9946_2abf.jpg-------------\n",
      "-------------PAGE </msk/detailed/restaurants/room-cafe/> PARSING-------------\n",
      "Delay 2 s.\n",
      "-------------Кафе ROOM café&-------------\n",
      "-------------.ru/upload/resize_cache/iblock/595/728_400_2/1_yiy_etaj_2c10.jpg-------------\n",
      "-------------PAGE </msk/detailed/restaurants/rice-is-nice/> PARSING-------------\n",
      "Delay 3 s.\n",
      "-------------Ресторан Rice i-------------\n",
      "-------------.ru/upload/resize_cache/iblock/b8e/728_400_2/ng3a5681_pano_21aa.jpg-------------\n",
      "-------------PAGE </msk/detailed/restaurants/riviere/> PARSING-------------\n",
      "Delay 4 s.\n",
      "-------------Ресторан «Ривье-------------\n",
      "-------------.ru/upload/resize_cache/iblock/43d/728_400_2/zal_0123cc.jpg-------------\n",
      "-------------PAGE </msk/detailed/restaurants/shakti_terrace/> PARSING-------------\n",
      "Delay 2 s.\n"
     ]
    },
    {
     "name": "stdout",
     "output_type": "stream",
     "text": [
      "-------------Shakti Terrace -------------\n",
      "-------------.ru/upload/resize_cache/iblock/e35/728_400_2/005673.jpg-------------\n",
      "-------------PAGE </msk/detailed/restaurants/selfie/> PARSING-------------\n",
      "Delay 4 s.\n",
      "-------------Панорамный рест-------------\n",
      "-------------.ru/upload/resize_cache/iblock/b22/728_400_2/mg_9648_1a0b.jpg-------------\n",
      "-------------PAGE </msk/detailed/restaurants/seasons/> PARSING-------------\n",
      "Delay 2 s.\n",
      "-------------Ресторан «Seaso-------------\n",
      "-------------.ru/upload/resize_cache/iblock/f5d/728_400_2/int_1bbb.jpg-------------\n",
      "-------------PAGE </msk/detailed/restaurants/savva/> PARSING-------------\n",
      "Delay 4 s.\n",
      "---------------------------\n",
      "-------------.ru/upload/resize_cache/iblock/45a/728_400_2/zal1_0051eb.jpg-------------\n",
      "-------------PAGE </msk/detailed/restaurants/santini/> PARSING-------------\n",
      "Delay 3 s.\n",
      "---------------------------\n",
      "-------------.ru/upload/resize_cache/iblock/1ef/728_400_2/17c1.jpg-------------\n",
      "-------------PAGE </msk/detailed/restaurants/scenario_cafe/> PARSING-------------\n",
      "Delay 4 s.\n",
      "---------------------------\n",
      "-------------.ru/upload/resize_cache/iblock/3b8/728_400_2/mg_0088_1_2ae2.jpg-------------\n",
      "-------------PAGE </msk/detailed/restaurants/shaggy_dog/> PARSING-------------\n",
      "Delay 3 s.\n",
      "-------------Ресторан Shaggy-------------\n",
      "-------------.ru/upload/resize_cache/iblock/52f/728_400_2/1_596599.jpg-------------\n",
      "-------------PAGE </msk/detailed/restaurants/seasons_vernadskogo/> PARSING-------------\n",
      "Delay 2 s.\n",
      "---------------------------\n",
      "-------------.ru/upload/resize_cache/iblock/dcd/728_400_2/vrpk0599_280e.jpg-------------\n",
      "-------------PAGE </msk/detailed/restaurants/satrapezo/> PARSING-------------\n",
      "Delay 2 s.\n",
      "-------------Если вы ищете м-------------\n",
      "-------------.ru/upload/resize_cache/iblock/eab/728_400_2/foto_21c09.jpg-------------\n",
      "-------------PAGE </msk/detailed/restaurants/se_xiang_wei/> PARSING-------------\n",
      "Delay 4 s.\n",
      "---------------------------\n",
      "-------------.ru/upload/resize_cache/iblock/48b/728_400_2/image_20_09_16_11_4998d.jpeg-------------\n",
      "-------------PAGE </msk/detailed/restaurants/shantimele-shantimel/> PARSING-------------\n",
      "Delay 2 s.\n",
      "-------------Кафе Shantimele-------------\n",
      "-------------.ru/upload/resize_cache/iblock/256/728_400_2/img_3631ffc.jpg-------------\n",
      "-------------PAGE </msk/detailed/restaurants/saratov/> PARSING-------------\n",
      "Delay 3 s.\n",
      "-------------Добропожаловать-------------\n",
      "-------------.ru/upload/resize_cache/iblock/2a4/728_400_2/3v7a89785be.jpg-------------\n",
      "-------------PAGE </msk/detailed/restaurants/semenov/> PARSING-------------\n",
      "Delay 3 s.\n",
      "-------------SEMENOV — терри-------------\n",
      "-------------.ru/upload/resize_cache/iblock/9da/728_400_2/zal2_002191.jpg-------------\n",
      "-------------PAGE </msk/detailed/restaurants/seven/> PARSING-------------\n",
      "Delay 4 s.\n",
      "-------------РесторанSeven в-------------\n",
      "-------------.ru/upload/resize_cache/iblock/3f4/728_400_2/14fdbbda.jpg-------------\n",
      "-------------PAGE </msk/detailed/restaurants/shisha-bakuninskaya/> PARSING-------------\n",
      "Delay 4 s.\n",
      "-------------Караоке ШИША - -------------\n",
      "-------------.ru/upload/resize_cache/iblock/4db/728_400_2/shisha_14_2059.jpg-------------\n",
      "-------------PAGE </msk/detailed/restaurants/sayat-nova/> PARSING-------------\n",
      "Delay 2 s.\n",
      "-------------Мы рады приглас-------------\n",
      "-------------.ru/upload/resize_cache/iblock/a2f/728_400_2/75379e.jpg-------------\n",
      "-------------PAGE </msk/detailed/restaurants/samarkandrest/> PARSING-------------\n",
      "Delay 4 s.\n",
      "---------------------------\n",
      "-------------.ru/upload/resize_cache/iblock/fc8/728_400_2/img_0534_2a52.jpg-------------\n",
      "-------------PAGE </msk/detailed/restaurants/sanctuary/> PARSING-------------\n",
      "Delay 2 s.\n",
      "-------------Ресторан Sanctu-------------\n",
      "-------------.ru/upload/resize_cache/iblock/7cc/728_400_2/sanctuary_zal2_003219.jpg-------------\n",
      "-------------PAGE </msk/detailed/restaurants/shell-yes/> PARSING-------------\n",
      "Delay 3 s.\n",
      "-------------SHELL, YES seaf-------------\n",
      "-------------.ru/upload/resize_cache/iblock/3c8/728_400_2/shell_yes_zal1_001066.jpg-------------\n",
      "-------------PAGE </msk/detailed/restaurants/semplice/> PARSING-------------\n",
      "Delay 3 s.\n",
      "-------------Каждый, кто хот-------------\n",
      "-------------.ru/upload/resize_cache/iblock/3e2/728_400_2/1.jpg-------------\n",
      "-------------PAGE </msk/detailed/restaurants/soluxeclub/> PARSING-------------\n",
      "Delay 3 s.\n",
      "-------------Феерия вкуса, ц-------------\n",
      "-------------.ru/upload/resize_cache/iblock/b8d/728_400_2/5_kopiyad96.jpg-------------\n",
      "-------------PAGE </msk/detailed/restaurants/simplepleasures/> PARSING-------------\n",
      "Delay 4 s.\n",
      "---------------------------\n",
      "-------------.ru/upload/resize_cache/iblock/6a7/728_400_2/big1_2311.jpg-------------\n",
      "-------------PAGE </msk/detailed/restaurants/shooga_cafe/> PARSING-------------\n",
      "Delay 3 s.\n",
      "---------------------------\n",
      "-------------.ru/upload/resize_cache/iblock/ad4/728_400_2/dsc0740_20f4.jpg-------------\n",
      "-------------PAGE </msk/detailed/restaurants/sillycat_siliket/> PARSING-------------\n",
      "Delay 4 s.\n",
      "-------------Ресторан SillyC-------------\n",
      "-------------.ru/upload/resize_cache/iblock/b19/728_400_2/ksv766758a.jpg-------------\n",
      "-------------PAGE </msk/detailed/restaurants/steak-pint/> PARSING-------------\n",
      "Delay 2 s.\n",
      "-------------Паб Steak & Pin-------------\n",
      "-------------.ru/upload/resize_cache/iblock/7ce/728_400_2/2_04772.jpg-------------\n",
      "-------------PAGE </msk/detailed/restaurants/sixties/> PARSING-------------\n",
      "Delay 3 s.\n",
      "-------------Кафе Sixties в -------------\n",
      "-------------.ru/upload/resize_cache/iblock/e71/728_400_2/26358775_1md_kt_8_36bbw_djgrljjtcwfw6xiwsfbndjvvjiria1b.jpg-------------\n",
      "-------------PAGE </msk/detailed/restaurants/steakhouse-45-60/> PARSING-------------\n",
      "Delay 2 s.\n",
      "-------------В конце 2016 го-------------\n",
      "-------------.ru/upload/resize_cache/iblock/4ed/728_400_2/4560_1c02.jpg-------------\n",
      "-------------PAGE </msk/detailed/restaurants/smile/> PARSING-------------\n",
      "Delay 3 s.\n",
      "---------------------------\n",
      "-------------.ru/upload/resize_cache/iblock/467/728_400_2/gallery_abc_3924_2a06.jpg-------------\n",
      "-------------PAGE </msk/detailed/restaurants/stage/> PARSING-------------\n",
      "Delay 4 s.\n",
      "-------------Концептуальный -------------\n",
      "-------------.ru/upload/resize_cache/iblock/9b0/728_400_2/uk_9490_2870.jpg-------------\n",
      "-------------PAGE </msk/detailed/restaurants/so-svoim/> PARSING-------------\n",
      "Delay 3 s.\n",
      "-------------«Со Своим» - эт-------------\n",
      "-------------.ru/upload/resize_cache/iblock/488/728_400_2/zal_galllll_2_5d0c.jpg-------------\n",
      "-------------PAGE </msk/detailed/restaurants/shut-up/> PARSING-------------\n",
      "Delay 3 s.\n",
      "---------------------------\n",
      "-------------.ru/upload/resize_cache/iblock/cd0/728_400_2/img_1358_59_60_2569.jpg-------------\n",
      "-------------PAGE </msk/detailed/restaurants/smakunoff/> PARSING-------------\n",
      "Delay 3 s.\n",
      "---------------------------\n",
      "-------------.ru/upload/resize_cache/iblock/f52/728_400_2/img_7961_22_04_17_16_2678c.jpg-------------\n",
      "-------------PAGE </msk/detailed/restaurants/solo-sushchevskaya/> PARSING-------------\n",
      "Delay 3 s.\n",
      "---------------------------\n",
      "-------------.ru/upload/resize_cache/iblock/d4a/728_400_2/4_vip_318f.jpg-------------\n",
      "-------------PAGE </msk/detailed/restaurants/shooga-bolshaya-polyanka/> PARSING-------------\n",
      "Delay 2 s.\n",
      "---------------------------\n",
      "-------------.ru/upload/resize_cache/iblock/5a8/728_400_2/shooga_0015_2576.jpg-------------\n",
      "-------------PAGE </msk/detailed/restaurants/solo-karaoke/> PARSING-------------\n",
      "Delay 3 s.\n",
      "---------------------------\n",
      "-------------.ru/upload/resize_cache/iblock/f27/728_400_2/15e0b8eb96b714569541a82f46b352d0a72.jpg-------------\n",
      "-------------PAGE </msk/detailed/restaurants/sk-royal/> PARSING-------------\n",
      "Delay 3 s.\n",
      "---------------------------\n",
      "-------------.ru/upload/resize_cache/iblock/cae/728_400_2/03_2e62.jpg-------------\n",
      "-------------PAGE </msk/detailed/restaurants/sky_lounge/> PARSING-------------\n",
      "Delay 3 s.\n",
      "-------------Ресторан «Sky l-------------\n",
      "-------------.ru/upload/resize_cache/iblock/5ce/728_400_2/restaurant_terrace_5.jpg-------------\n",
      "-------------PAGE </msk/detailed/restaurants/starlite/> PARSING-------------\n",
      "Delay 3 s.\n",
      "-------------Starlite Diner -------------\n",
      "-------------.ru/upload/resize_cache/iblock/411/728_400_2/zal1_011963.jpg-------------\n",
      "-------------PAGE </msk/detailed/restaurants/shore_house/> PARSING-------------\n",
      "Delay 3 s.\n"
     ]
    },
    {
     "name": "stdout",
     "output_type": "stream",
     "text": [
      "-------------Уникальный рест-------------\n",
      "-------------.ru/upload/resize_cache/iblock/706/728_400_2/1350374192.jpg-------------\n",
      "-------------PAGE </msk/detailed/restaurants/talkofthetown/> PARSING-------------\n",
      "Delay 4 s.\n",
      "-------------Стильный соврем-------------\n",
      "-------------.ru/upload/resize_cache/iblock/bbc/728_400_2/2b95d4128f03d72dd63350f83de2a8eda4b.jpg-------------\n",
      "-------------PAGE </msk/detailed/restaurants/Tatlerclub/> PARSING-------------\n",
      "Delay 2 s.\n",
      "-------------Ресторан Tatler-------------\n",
      "-------------.ru/upload/resize_cache/iblock/93b/728_400_2/img_35855cd.jpg-------------\n",
      "-------------PAGE </msk/detailed/restaurants/tajjmahal/> PARSING-------------\n",
      "Delay 4 s.\n",
      "-------------В сердце столиц-------------\n",
      "-------------.ru/upload/resize_cache/iblock/5f6/728_400_2/zal2_002f5c.jpg-------------\n",
      "-------------PAGE </msk/detailed/restaurants/tbpub/> PARSING-------------\n",
      "Delay 2 s.\n",
      "-------------Паб Tap & Barre-------------\n",
      "-------------.ru/upload/resize_cache/iblock/edf/728_400_2/1r5c7118d37.jpg-------------\n",
      "-------------PAGE </msk/detailed/restaurants/studio_46/> PARSING-------------\n",
      "Delay 2 s.\n",
      "-------------«Studio 46» в М-------------\n",
      "-------------.ru/upload/resize_cache/iblock/e2f/728_400_2/st3_2161.jpg-------------\n",
      "-------------PAGE </msk/detailed/restaurants/the_kings/> PARSING-------------\n",
      "Delay 2 s.\n",
      "---------------------------\n",
      "-------------.ru/upload/resize_cache/iblock/d51/728_400_2/7c7eff73ca04e5f8729c_2df7.jpg-------------\n",
      "-------------PAGE </msk/detailed/restaurants/tajjmahal-kislovsky/> PARSING-------------\n",
      "Delay 2 s.\n",
      "---------------------------\n",
      "-------------.ru/upload/resize_cache/iblock/04f/728_400_2/kislovskiy_zal_00163c.jpg-------------\n",
      "-------------PAGE </msk/detailed/restaurants/tadzh_makhal/> PARSING-------------\n",
      "Delay 2 s.\n",
      "-------------Ресторан TAJJ M-------------\n",
      "-------------.ru/upload/resize_cache/iblock/0c1/728_400_2/prof_zal2_001e08.jpg-------------\n",
      "-------------PAGE </msk/detailed/restaurants/strip_andgo/> PARSING-------------\n",
      "Delay 2 s.\n",
      "-------------Ресторан Strip -------------\n",
      "-------------.ru/upload/resize_cache/iblock/4e0/728_400_2/kir_4994_2722.jpg-------------\n",
      "-------------PAGE </msk/detailed/restaurants/tipsy/> PARSING-------------\n",
      "Delay 4 s.\n",
      "-------------«Жизнь слишком -------------\n",
      "-------------.ru/upload/resize_cache/iblock/c07/728_400_2/lsl5385_result4fc.jpg-------------\n",
      "-------------PAGE </msk/detailed/restaurants/therooms/> PARSING-------------\n",
      "Delay 4 s.\n",
      "---------------------------\n",
      "-------------.ru/upload/resize_cache/iblock/eeb/728_400_2/k97a1030_small9c7.jpg-------------\n",
      "-------------PAGE </msk/detailed/restaurants/swiss_yard/> PARSING-------------\n",
      "Delay 3 s.\n",
      "---------------------------\n",
      "-------------.ru/upload/resize_cache/iblock/752/728_400_2/86d92a1176d10fdc0babaa2e76e7fd3b4de.jpg-------------\n",
      "-------------PAGE </msk/detailed/restaurants/svoy/> PARSING-------------\n",
      "Delay 4 s.\n",
      "-------------Ресторан Svoy в-------------\n",
      "-------------.ru/upload/resize_cache/iblock/563/728_400_2/fai_0171d55.jpg-------------\n",
      "-------------PAGE </msk/detailed/restaurants/thevillage/> PARSING-------------\n",
      "Delay 4 s.\n",
      "-------------Ресторан «The V-------------\n",
      "-------------.ru/upload/resize_cache/iblock/27a/728_400_2/img_3690_09_12_16_07_55a43.jpeg-------------\n",
      "-------------PAGE </msk/detailed/restaurants/the-left-bank/> PARSING-------------\n",
      "Delay 2 s.\n",
      "-------------Publife Group о-------------\n",
      "-------------.ru/upload/resize_cache/iblock/930/728_400_2/p6020119_247d.jpg-------------\n",
      "-------------PAGE </msk/detailed/restaurants/tamani/> PARSING-------------\n",
      "Delay 2 s.\n",
      "-------------Ресторан Tamani-------------\n",
      "-------------.ru/upload/resize_cache/iblock/06e/728_400_2/img_7789_2161.jpg-------------\n",
      "-------------PAGE </msk/detailed/restaurants/the-flying-inn/> PARSING-------------\n",
      "Delay 4 s.\n",
      "-------------«Перелетный каб-------------\n",
      "-------------.ru/upload/resize_cache/iblock/728/728_400_2/dsc9485_23e1.jpg-------------\n",
      "-------------PAGE </msk/detailed/restaurants/stone-crab/> PARSING-------------\n",
      "Delay 4 s.\n",
      "-------------В одном из леге-------------\n",
      "-------------.ru/upload/resize_cache/iblock/3c6/728_400_2/vrpk1780_2150.jpg-------------\n",
      "-------------PAGE </msk/detailed/restaurants/valesko/> PARSING-------------\n",
      "Delay 3 s.\n",
      "-------------У жителей Москв-------------\n",
      "-------------.ru/upload/resize_cache/iblock/028/728_400_2/img_5096a84721.jpg-------------\n",
      "-------------PAGE </msk/detailed/restaurants/ti_bon_steyk_khaus/> PARSING-------------\n",
      "Delay 2 s.\n",
      "-------------Ресторан «Ти-Бо-------------\n",
      "-------------.ru/upload/resize_cache/iblock/e62/728_400_2/01_713b8d.jpg-------------\n",
      "-------------PAGE </msk/detailed/restaurants/villagusto/> PARSING-------------\n",
      "Delay 3 s.\n",
      "-------------Летним воздушны-------------\n",
      "-------------.ru/upload/resize_cache/iblock/c5b/728_400_2/dsc_198115f.jpg-------------\n",
      "-------------PAGE </msk/detailed/restaurants/touche/> PARSING-------------\n",
      "Delay 4 s.\n",
      "-------------Ресторан Touche-------------\n",
      "-------------.ru/upload/resize_cache/iblock/96d/728_400_2/427a7332_2c8e.jpg-------------\n",
      "-------------PAGE </msk/detailed/restaurants/valenok/> PARSING-------------\n",
      "Delay 4 s.\n",
      "---------------------------\n",
      "-------------.ru/upload/resize_cache/iblock/a1e/728_400_2/valenok_interior_1ebe.jpg-------------\n",
      "-------------PAGE </msk/detailed/restaurants/tuttalavita/> PARSING-------------\n",
      "Delay 2 s.\n",
      "-------------Новый ресторан -------------\n",
      "-------------.ru/upload/resize_cache/iblock/a2f/728_400_2/veranda_0012af.jpg-------------\n",
      "-------------PAGE </msk/detailed/restaurants/ti-bon_wine/> PARSING-------------\n",
      "Delay 4 s.\n",
      "-------------Ресторан «Ti-Bo-------------\n",
      "-------------.ru/upload/resize_cache/iblock/c64/728_400_2/tibon44504.jpg-------------\n",
      "-------------PAGE </msk/detailed/restaurants/union_jack_yunion_dzhek/> PARSING-------------\n",
      "Delay 3 s.\n",
      "-------------Паб Union Jack -------------\n",
      "-------------.ru/upload/resize_cache/iblock/ec3/728_400_2/unionjack_9af6.jpg-------------\n",
      "-------------PAGE </msk/detailed/restaurants/t-bone_mira/> PARSING-------------\n",
      "Delay 2 s.\n",
      "---------------------------\n",
      "-------------.ru/upload/resize_cache/iblock/210/728_400_2/4_2efa.jpg-------------\n",
      "-------------PAGE </msk/detailed/restaurants/vibe_bar/> PARSING-------------\n",
      "Delay 4 s.\n",
      "---------------------------\n",
      "-------------.ru/upload/resize_cache/iblock/d14/728_400_2/dsc_06907f8.jpg-------------\n",
      "-------------PAGE </msk/detailed/restaurants/too-much/> PARSING-------------\n",
      "Delay 4 s.\n",
      "-------------Если вы ищете м-------------\n",
      "-------------.ru/upload/resize_cache/iblock/b48/728_400_2/dsc067550d9.jpg-------------\n",
      "-------------PAGE </msk/detailed/restaurants/tuscany-courtyard/> PARSING-------------\n",
      "Delay 2 s.\n",
      "-------------Ресторан «Tusca-------------\n",
      "-------------.ru/upload/resize_cache/iblock/08d/728_400_2/tuscanycourtyard_zal_0036fc.jpg-------------\n",
      "-------------PAGE </msk/detailed/restaurants/tsubaki/> PARSING-------------\n",
      "Delay 2 s.\n",
      "---------------------------\n",
      "-------------.ru/upload/resize_cache/iblock/57f/728_400_2/16_2ee5.jpg-------------\n",
      "-------------PAGE </msk/detailed/restaurants/varvara/> PARSING-------------\n",
      "Delay 4 s.\n",
      "-------------VARVARA — русск-------------\n",
      "-------------.ru/upload/resize_cache/iblock/f22/728_400_2/img_0013_2a45.jpg-------------\n",
      "-------------PAGE </msk/detailed/restaurants/trattoria-italiana/> PARSING-------------\n",
      "Delay 2 s.\n",
      "-------------Если вы хотите -------------\n",
      "-------------.ru/upload/resize_cache/iblock/ad0/728_400_2/image004_283f.jpg-------------\n",
      "-------------PAGE </msk/detailed/restaurants/veranda-parkovaya/> PARSING-------------\n",
      "Delay 2 s.\n",
      "-------------Какие ассоциаци-------------\n",
      "-------------.ru/upload/resize_cache/iblock/5d6/728_400_2/img_849051e.jpg-------------\n",
      "-------------PAGE </msk/detailed/restaurants/trapeza-moskovskaya/> PARSING-------------\n",
      "Delay 3 s.\n",
      "-------------17 декабря 2017-------------\n",
      "-------------.ru/upload/resize_cache/iblock/a00/728_400_2/a02d2280_21e0.jpg-------------\n",
      "-------------PAGE </msk/detailed/restaurants/tiflis/> PARSING-------------\n",
      "Delay 3 s.\n",
      "-------------Ресторан «Тифли-------------\n",
      "-------------.ru/upload/resize_cache/iblock/1be/728_400_2/zal1_001131.jpg-------------\n",
      "-------------PAGE </msk/detailed/restaurants/the_sad/> PARSING-------------\n",
      "Delay 3 s.\n",
      "-------------Ресторан «The С-------------\n",
      "-------------.ru/upload/resize_cache/iblock/a91/728_400_2/img_7629cd1.jpg-------------\n",
      "-------------PAGE </msk/detailed/restaurants/tuttobene/> PARSING-------------\n",
      "Delay 3 s.\n"
     ]
    },
    {
     "name": "stdout",
     "output_type": "stream",
     "text": [
      "-------------Ресторан «Тутто-------------\n",
      "-------------.ru/upload/resize_cache/iblock/a92/728_400_2/restorana_26e8.jpg-------------\n",
      "-------------PAGE </msk/detailed/restaurants/villaggio/> PARSING-------------\n",
      "Delay 3 s.\n",
      "-------------Итальянский рес-------------\n",
      "-------------.ru/upload/resize_cache/iblock/da7/728_400_2/villagio_zal3_004698.jpg-------------\n",
      "-------------PAGE </msk/detailed/restaurants/villa-pasta/> PARSING-------------\n",
      "Delay 2 s.\n",
      "-------------Ресторан Villa -------------\n",
      "-------------.ru/upload/resize_cache/iblock/6c4/728_400_2/7_20150116_16460588813ec.jpg-------------\n",
      "-------------PAGE </msk/detailed/restaurants/wafflestory/> PARSING-------------\n",
      "Delay 2 s.\n",
      "-------------Ресторан Waffle-------------\n",
      "-------------.ru/upload/resize_cache/iblock/d03/728_400_2/image001_200d.jpg-------------\n",
      "-------------PAGE </msk/detailed/restaurants/white-cafe/> PARSING-------------\n",
      "Delay 2 s.\n",
      "-------------Ресторан White -------------\n",
      "-------------.ru/upload/resize_cache/iblock/48f/728_400_2/1_1_2_2105.jpg-------------\n",
      "-------------PAGE </msk/detailed/restaurants/wellscafe/> PARSING-------------\n",
      "Delay 3 s.\n",
      "---------------------------\n",
      "-------------.ru/upload/resize_cache/iblock/610/728_400_2/img_0084_2cd1.jpg-------------\n",
      "-------------PAGE </msk/detailed/restaurants/we-pub/> PARSING-------------\n",
      "Delay 2 s.\n",
      "---------------------------\n",
      "-------------.ru/upload/resize_cache/iblock/5ff/728_400_2/11_22aa.jpg-------------\n",
      "-------------PAGE </msk/detailed/restaurants/vinci_cafe_dinamo/> PARSING-------------\n",
      "Delay 3 s.\n",
      "-------------Ресторан Vinci -------------\n",
      "-------------.ru/upload/resize_cache/iblock/041/728_400_2/dsc_0829_1_2cd5.jpg-------------\n",
      "-------------PAGE </msk/detailed/restaurants/voyazh/> PARSING-------------\n",
      "Delay 4 s.\n",
      "---------------------------\n",
      "-------------.ru/upload/resize_cache/iblock/b79/728_400_2/dsc_0112_2ece.jpg-------------\n",
      "-------------PAGE </msk/detailed/restaurants/whisky-rooms/> PARSING-------------\n",
      "Delay 3 s.\n",
      "---------------------------\n",
      "-------------.ru/upload/resize_cache/iblock/304/728_400_2/2_25cc.jpg-------------\n",
      "-------------PAGE </msk/detailed/restaurants/villa_toscana/> PARSING-------------\n",
      "Delay 4 s.\n",
      "---------------------------\n",
      "-------------.ru/upload/resize_cache/iblock/086/728_400_2/img_9817b99.jpg-------------\n",
      "-------------PAGE </msk/detailed/restaurants/vitello/> PARSING-------------\n",
      "Delay 4 s.\n",
      "-------------Ресторан Vitell-------------\n",
      "-------------.ru/upload/resize_cache/iblock/902/728_400_2/aa3585624ccc460d1c5d88548707cf7ddc6726062a8.jpeg-------------\n",
      "-------------PAGE </msk/detailed/restaurants/winil/> PARSING-------------\n",
      "Delay 4 s.\n",
      "-------------Если вы любите -------------\n",
      "-------------.ru/upload/resize_cache/iblock/1cd/728_400_2/winil_wine_bar_restaurant140b.jpg-------------\n",
      "-------------PAGE </msk/detailed/restaurants/food-house/> PARSING-------------\n",
      "Delay 4 s.\n",
      "-------------Villa Pasta – н-------------\n",
      "-------------.ru/upload/resize_cache/iblock/444/728_400_2/dsc_9592_2_2684.jpg-------------\n",
      "-------------PAGE </msk/detailed/restaurants/vintage-77/> PARSING-------------\n",
      "Delay 2 s.\n",
      "-------------Люди всегдавозв-------------\n",
      "-------------.ru/upload/resize_cache/iblock/91f/728_400_2/vintage77_zal_003b90.jpg-------------\n",
      "-------------PAGE </msk/detailed/restaurants/yan-primus/> PARSING-------------\n",
      "Delay 3 s.\n",
      "-------------Бар «Ян Примус»-------------\n",
      "-------------.ru/upload/resize_cache/iblock/0de/728_400_2/doc11351758_446347979_2e5d.jpg-------------\n",
      "-------------PAGE </msk/detailed/restaurants/why-not-wine/> PARSING-------------\n",
      "Delay 3 s.\n",
      "---------------------------\n",
      "-------------.ru/upload/resize_cache/iblock/27e/728_400_2/img_4572_2553.jpg-------------\n",
      "-------------PAGE </msk/detailed/restaurants/wine-time/> PARSING-------------\n",
      "Delay 3 s.\n",
      "---------------------------\n",
      "-------------.ru/upload/resize_cache/iblock/d88/728_400_2/34714880991_92d4466ced_o0bc.jpg-------------\n",
      "-------------PAGE </msk/detailed/restaurants/park-otel-vnukovo-village/> PARSING-------------\n",
      "Delay 4 s.\n",
      "-------------Загородный рест-------------\n",
      "-------------.ru/upload/resize_cache/iblock/143/728_400_2/img_0038_enf_213b.jpg-------------\n",
      "-------------PAGE </msk/detailed/restaurants/vanil/> PARSING-------------\n",
      "Delay 2 s.\n",
      "-------------Ресторан «Ванил-------------\n",
      "-------------.ru/upload/resize_cache/iblock/6a2/728_400_2/e3d2rior_047_sm.jpg-------------\n",
      "-------------PAGE </msk/detailed/restaurants/avlabar/> PARSING-------------\n",
      "Delay 3 s.\n",
      "-------------Ресторан «Авлаб-------------\n",
      "-------------.ru/upload/resize_cache/iblock/dff/728_400_2/a_1.jpg-------------\n",
      "-------------PAGE </msk/detailed/restaurants/yoko/> PARSING-------------\n",
      "Delay 3 s.\n",
      "-------------Ресторан Yoko в-------------\n",
      "-------------.ru/upload/resize_cache/iblock/63f/728_400_2/zal1_001968.jpg-------------\n",
      "-------------PAGE </msk/detailed/restaurants/zodiac/> PARSING-------------\n",
      "Delay 3 s.\n",
      "-------------Ресторан Zodiac-------------\n",
      "-------------.ru/upload/resize_cache/iblock/aa5/728_400_2/zal1_001_779b85.jpg-------------\n",
      "-------------PAGE </msk/detailed/restaurants/aist/> PARSING-------------\n",
      "Delay 2 s.\n",
      "-------------Ресторан «Аист»-------------\n",
      "-------------.ru/upload/resize_cache/iblock/d5a/728_400_2/img_5689305.jpg-------------\n",
      "-------------PAGE </msk/detailed/restaurants/aurora_restaurant/> PARSING-------------\n",
      "Delay 2 s.\n",
      "-------------Ресторан «Аврор-------------\n",
      "-------------.ru/upload/resize_cache/iblock/149/728_400_2/k97a8811_small232.jpg-------------\n",
      "-------------PAGE </msk/detailed/restaurants/zotman_pizza_pie/> PARSING-------------\n",
      "Delay 2 s.\n",
      "-------------Ресторан «Зотма-------------\n",
      "-------------.ru/upload/resize_cache/iblock/d92/728_400_2/img_0336_2_9ca.jpg-------------\n",
      "-------------PAGE </msk/detailed/restaurants/avtograf/> PARSING-------------\n",
      "Delay 4 s.\n",
      "-------------18 лет ресторан-------------\n",
      "-------------.ru/upload/resize_cache/iblock/b2e/728_400_2/main_175a.jpg-------------\n",
      "-------------PAGE </msk/detailed/restaurants/Aquarium/> PARSING-------------\n",
      "Delay 3 s.\n",
      "-------------«Аквариум» в Мо-------------\n",
      "-------------.ru/upload/resize_cache/iblock/979/728_400_2/k97a5678_smallecb.jpg-------------\n",
      "-------------PAGE </msk/detailed/restaurants/aydabaran_butyrskaya/> PARSING-------------\n",
      "Delay 4 s.\n",
      "-------------Ресторан «АйДаБ-------------\n",
      "-------------.ru/upload/resize_cache/iblock/585/728_400_2/butyrskaya_2_etazhbbf.jpg-------------\n",
      "-------------PAGE </msk/detailed/restaurants/akvarel/> PARSING-------------\n",
      "Delay 3 s.\n",
      "-------------Ресторан «Аквар-------------\n",
      "-------------.ru/upload/resize_cache/iblock/5af/728_400_2/img_2899691.jpg-------------\n",
      "-------------PAGE </msk/detailed/restaurants/yourlove/> PARSING-------------\n",
      "Delay 4 s.\n",
      "---------------------------\n",
      "-------------.ru/upload/resize_cache/iblock/3b9/728_400_2/382fcb78_5ffd_4a84_ba44_aeb54eef483b_2d96.jpg-------------\n",
      "-------------PAGE </msk/detailed/restaurants/yoko_arbat/> PARSING-------------\n",
      "Delay 2 s.\n",
      "-------------Ресторан Yoko н-------------\n",
      "-------------.ru/upload/resize_cache/iblock/b3c/728_400_2/6def.jpg-------------\n",
      "-------------PAGE </msk/detailed/restaurants/zotman/> PARSING-------------\n",
      "Delay 3 s.\n",
      "-------------Кафе Zotman Piz-------------\n",
      "-------------.ru/upload/resize_cache/iblock/c3a/728_400_2/zotman_tukhachevskogo_3bc1.jpg-------------\n",
      "-------------PAGE </msk/detailed/restaurants/abagur/> PARSING-------------\n",
      "Delay 3 s.\n",
      "---------------------------\n",
      "-------------.ru/upload/resize_cache/iblock/69f/728_400_2/cafe2_19b51.jpg-------------\n",
      "-------------PAGE </msk/detailed/restaurants/zorro/> PARSING-------------\n",
      "Delay 2 s.\n",
      "---------------------------\n",
      "-------------.ru/upload/resize_cache/iblock/f6b/728_400_2/dsc_0053_2851.jpg-------------\n",
      "-------------PAGE </msk/detailed/restaurants/zinger-grill/> PARSING-------------\n",
      "Delay 2 s.\n",
      "-------------РесторанZinger -------------\n",
      "-------------.ru/upload/resize_cache/iblock/3a0/728_400_2/img_5518_2d7a.jpg-------------\n",
      "-------------PAGE </msk/detailed/restaurants/yota-arena/> PARSING-------------\n",
      "Delay 4 s.\n",
      "-------------В Москве открыл-------------\n",
      "-------------.ru/upload/resize_cache/iblock/d27/728_400_2/0156_2975.jpg-------------\n",
      "-------------PAGE </msk/detailed/restaurants/karavaytseff/> PARSING-------------\n",
      "Delay 3 s.\n",
      "-------------Дорогие гости, -------------\n",
      "-------------.ru/upload/resize_cache/iblock/130/728_400_2/dsc_001712b.jpg-------------\n",
      "-------------PAGE </msk/detailed/restaurants/akademicheskiy/> PARSING-------------\n",
      "Delay 4 s.\n"
     ]
    },
    {
     "name": "stdout",
     "output_type": "stream",
     "text": [
      "-------------Бар-ресторан \"А-------------\n",
      "-------------.ru/upload/resize_cache/iblock/9b7/728_400_2/zal_002_273a6f.jpg-------------\n",
      "-------------PAGE </msk/detailed/restaurants/azerbaydjan/> PARSING-------------\n",
      "Delay 3 s.\n",
      "-------------Путешествие в н-------------\n",
      "-------------.ru/upload/resize_cache/iblock/c7e/728_400_2/zal5_004965.jpg-------------\n",
      "-------------PAGE </msk/detailed/restaurants/alkov/> PARSING-------------\n",
      "Delay 4 s.\n",
      "-------------Нет лучшего уго-------------\n",
      "-------------.ru/upload/resize_cache/iblock/5f7/728_400_2/1.jpg-------------\n",
      "-------------PAGE </msk/detailed/restaurants/armenia/> PARSING-------------\n",
      "Delay 3 s.\n",
      "-------------Ресторан «Армен-------------\n",
      "-------------.ru/upload/resize_cache/iblock/551/728_400_2/img_8210_small5ab.jpg-------------\n",
      "-------------PAGE </msk/detailed/restaurants/cafebaralbom/> PARSING-------------\n",
      "Delay 3 s.\n",
      "---------------------------\n",
      "-------------.ru/upload/resize_cache/iblock/6d5/728_400_2/1small502.jpg-------------\n",
      "-------------PAGE </msk/detailed/restaurants/aromass/> PARSING-------------\n",
      "Delay 3 s.\n",
      "---------------------------\n",
      "-------------.ru/upload/resize_cache/iblock/b2f/728_400_2/8822000f.jpg-------------\n",
      "-------------PAGE </msk/detailed/restaurants/aprilcafe/> PARSING-------------\n",
      "Delay 4 s.\n",
      "-------------В марте еще быв-------------\n",
      "-------------.ru/upload/iblock/6bc/622e20x30_3.jpg-------------\n",
      "-------------PAGE </msk/detailed/restaurants/argo/> PARSING-------------\n",
      "Delay 3 s.\n",
      "---------------------------\n",
      "-------------.ru/upload/resize_cache/iblock/023/728_400_2/1e13.jpg-------------\n",
      "-------------PAGE </msk/detailed/restaurants/arenazil/> PARSING-------------\n",
      "Delay 2 s.\n",
      "---------------------------\n",
      "-------------.ru/upload/resize_cache/iblock/d36/728_400_2/1_1big_2879.jpg-------------\n",
      "-------------PAGE </msk/detailed/restaurants/aleksandrovskiy_zal/> PARSING-------------\n",
      "Delay 3 s.\n",
      "---------------------------\n",
      "-------------.ru/upload/resize_cache/iblock/089/728_400_2/dsc_0009_2c2c.jpg-------------\n",
      "-------------PAGE </msk/detailed/restaurants/amoret/> PARSING-------------\n",
      "Delay 3 s.\n",
      "-------------Ресторан «Аморе-------------\n",
      "-------------.ru/upload/resize_cache/iblock/0e7/728_400_2/12_284c.jpg-------------\n",
      "-------------PAGE </msk/detailed/restaurants/aromatnaya_reka/> PARSING-------------\n",
      "Delay 3 s.\n",
      "---------------------------\n",
      "-------------.ru/upload/resize_cache/iblock/d2f/728_400_2/dsc_0038_279d.jpg-------------\n",
      "-------------PAGE </msk/detailed/restaurants/apsheron/> PARSING-------------\n",
      "Delay 2 s.\n",
      "-------------В небольшом каф-------------\n",
      "-------------.ru/upload/resize_cache/iblock/052/728_400_2/apcheron_300a.jpg-------------\n",
      "-------------PAGE </msk/detailed/restaurants/art-kafe-goncharov/> PARSING-------------\n",
      "Delay 2 s.\n",
      "-------------Арт-кафе «Гонча-------------\n",
      "-------------.ru/upload/resize_cache/iblock/4ea/728_400_2/dsc_0312d21.jpg-------------\n",
      "-------------PAGE </msk/detailed/restaurants/goncharov-art-kafe/> PARSING-------------\n",
      "Delay 4 s.\n",
      "-------------Арт-кафе «Гонча-------------\n",
      "-------------.ru/upload/resize_cache/iblock/6f4/728_400_2/dsc_0038_2ce7.jpg-------------\n",
      "-------------PAGE </msk/detailed/restaurants/alyaska/> PARSING-------------\n",
      "Delay 2 s.\n",
      "---------------------------\n",
      "-------------.ru/upload/resize_cache/iblock/2cf/728_400_2/dsc_0167_2c03.jpg-------------\n",
      "-------------PAGE </msk/detailed/restaurants/alyaska-bar/> PARSING-------------\n",
      "Delay 2 s.\n",
      "---------------------------\n",
      "-------------.ru/upload/resize_cache/iblock/bbb/728_400_2/dsc03490_1_28b8.jpg-------------\n",
      "-------------PAGE </msk/detailed/restaurants/araratdog/> PARSING-------------\n",
      "Delay 4 s.\n",
      "-------------Есть в столице -------------\n",
      "-------------.ru/upload/resize_cache/iblock/bbc/728_400_2/mg_8839bec.jpg-------------\n",
      "-------------PAGE </msk/detailed/restaurants/angelo/> PARSING-------------\n",
      "Delay 3 s.\n",
      "-------------«Анджело» – рес-------------\n",
      "-------------.ru/upload/resize_cache/iblock/43c/728_400_2/17587.jpg-------------\n",
      "-------------PAGE </msk/detailed/restaurants/ariana/> PARSING-------------\n",
      "Delay 2 s.\n",
      "-------------Сочно-зеленая в-------------\n",
      "-------------.ru/upload/resize_cache/iblock/d9f/728_400_2/ae3eiana_zal1_1.jpg-------------\n",
      "-------------PAGE </msk/detailed/restaurants/nikola/> PARSING-------------\n",
      "Delay 2 s.\n",
      "-------------Этот ресторан —-------------\n",
      "-------------.ru/upload/resize_cache/iblock/e6f/728_400_2/img_6126d88.jpg-------------\n",
      "-------------PAGE </msk/detailed/restaurants/annenfeld/> PARSING-------------\n",
      "Delay 4 s.\n",
      "-------------Обновленный рес-------------\n",
      "-------------.ru/upload/resize_cache/iblock/283/728_400_2/img_19272b5.jpg-------------\n",
      "-------------PAGE </msk/detailed/restaurants/babamarta/> PARSING-------------\n",
      "Delay 2 s.\n",
      "-------------Радушная, прекр-------------\n",
      "-------------.ru/upload/resize_cache/iblock/6a6/728_400_2/1martenitsa.jpg-------------\n",
      "-------------PAGE </msk/detailed/restaurants/balkon/> PARSING-------------\n",
      "Delay 4 s.\n",
      "-------------«Балкон» на Нов-------------\n",
      "-------------.ru/upload/resize_cache/iblock/247/728_400_2/mg_406520a.jpg-------------\n",
      "-------------PAGE </msk/detailed/restaurants/babel/> PARSING-------------\n",
      "Delay 3 s.\n",
      "-------------Исаак Бабель пи-------------\n",
      "-------------.ru/upload/resize_cache/iblock/811/728_400_2/img_0129fa0.jpg-------------\n",
      "-------------PAGE </msk/detailed/restaurants/baloven-c/> PARSING-------------\n",
      "Delay 4 s.\n",
      "---------------------------\n",
      "-------------.ru/upload/resize_cache/iblock/ada/728_400_2/c07513_276a.jpg-------------\n",
      "-------------PAGE </msk/detailed/restaurants/baku-city/> PARSING-------------\n",
      "Delay 2 s.\n",
      "---------------------------\n",
      "-------------.ru/upload/resize_cache/iblock/fba/728_400_2/img_7304849.jpg-------------\n",
      "-------------PAGE </msk/detailed/restaurants/staryy_skver/> PARSING-------------\n",
      "Delay 3 s.\n",
      "---------------------------\n",
      "-------------.ru/upload/resize_cache/iblock/3d4/728_400_2/img_9060_small752.jpg-------------\n",
      "-------------PAGE </msk/detailed/restaurants/bakinskaya_zhemchuzhina/> PARSING-------------\n",
      "Delay 4 s.\n",
      "-------------Ресторан «Бакин-------------\n",
      "-------------.ru/upload/resize_cache/iblock/d43/728_400_2/dsc_0004_2163.jpg-------------\n",
      "-------------PAGE </msk/detailed/restaurants/acha_chacha/> PARSING-------------\n",
      "Delay 3 s.\n",
      "-------------Вряд ли можно н-------------\n",
      "-------------.ru/upload/resize_cache/iblock/5d4/728_400_2/zal_002_740958.jpg-------------\n",
      "-------------PAGE </msk/detailed/restaurants/ashkym/> PARSING-------------\n",
      "Delay 2 s.\n",
      "---------------------------\n",
      "-------------.ru/upload/resize_cache/iblock/1a7/728_400_2/dsc_0483_2248.jpg-------------\n",
      "-------------PAGE </msk/detailed/restaurants/architector/> PARSING-------------\n",
      "Delay 2 s.\n",
      "-------------Ресторан «Архит-------------\n",
      "-------------.ru/upload/resize_cache/iblock/fc2/728_400_2/135b21.jpg-------------\n",
      "-------------PAGE </msk/detailed/restaurants/arshin_gruzinskiy_per_/> PARSING-------------\n",
      "Delay 3 s.\n",
      "---------------------------\n",
      "-------------.ru/upload/resize_cache/iblock/ac1/728_400_2/dsc_0834575.jpg-------------\n",
      "-------------PAGE </msk/detailed/restaurants/bazilik-cafe/> PARSING-------------\n",
      "Delay 3 s.\n",
      "---------------------------\n",
      "-------------.ru/upload/resize_cache/iblock/0af/728_400_2/03_233f.jpg-------------\n",
      "-------------PAGE </msk/detailed/restaurants/baklazhan/> PARSING-------------\n",
      "Delay 4 s.\n",
      "-------------Ресторан «Бакла-------------\n",
      "-------------.ru/upload/resize_cache/iblock/e04/728_400_2/nik_6917_2eb5.jpg-------------\n",
      "-------------PAGE </msk/detailed/restaurants/art-kafe-royal/> PARSING-------------\n",
      "Delay 4 s.\n",
      "-------------Арт-кафе «Рояль-------------\n",
      "-------------.ru/upload/resize_cache/iblock/b5e/728_400_2/img_6370_edit_24a7.jpg-------------\n",
      "-------------PAGE </msk/detailed/restaurants/akhtuba/> PARSING-------------\n",
      "Delay 3 s.\n",
      "-------------Ресторан «Ахтуб-------------\n",
      "-------------.ru/upload/resize_cache/iblock/932/728_400_2/8dgytpofktu_2748.jpg-------------\n",
      "-------------PAGE </msk/detailed/restaurants/babay-club/> PARSING-------------\n",
      "Delay 2 s.\n",
      "-------------Ресторан «Бабай-------------\n",
      "-------------.ru/upload/resize_cache/iblock/0de/728_400_2/4_2cf4.jpg-------------\n",
      "-------------PAGE </msk/detailed/restaurants/bav/> PARSING-------------\n",
      "Delay 2 s.\n",
      "-------------Ресторан «Бавар-------------\n",
      "-------------.ru/upload/resize_cache/iblock/384/728_400_2/img_9382c11.jpg-------------\n",
      "-------------PAGE </msk/detailed/restaurants/ba/> PARSING-------------\n",
      "Delay 2 s.\n"
     ]
    },
    {
     "name": "stdout",
     "output_type": "stream",
     "text": [
      "-------------Уютный немецкий-------------\n",
      "-------------.ru/upload/resize_cache/iblock/00a/728_400_2/k97a2730_small1f1.jpg-------------\n",
      "-------------PAGE </msk/detailed/restaurants/bakudvor/> PARSING-------------\n",
      "Delay 2 s.\n",
      "-------------Нашумной Русако-------------\n",
      "-------------.ru/upload/resize_cache/iblock/b65/728_400_2/img_4780cb4.jpg-------------\n",
      "-------------PAGE </msk/detailed/restaurants/b12/> PARSING-------------\n",
      "Delay 2 s.\n",
      "-------------Караоке-зал рес-------------\n",
      "-------------.ru/upload/resize_cache/iblock/9db/728_400_2/4b73a_zona_3776.jpg-------------\n",
      "-------------PAGE </msk/detailed/restaurants/beloe_zoloto/> PARSING-------------\n",
      "Delay 2 s.\n",
      "-------------«Белое золото» -------------\n",
      "-------------.ru/upload/resize_cache/iblock/ba5/728_400_2/zal2_003a03.jpg-------------\n",
      "-------------PAGE </msk/detailed/restaurants/baxtrioni/> PARSING-------------\n",
      "Delay 4 s.\n",
      "---------------------------\n",
      "-------------.ru/upload/resize_cache/iblock/61f/728_400_2/i_1vdd3zr5q8fd.jpg-------------\n",
      "-------------PAGE </msk/detailed/restaurants/belochka_bar/> PARSING-------------\n",
      "Delay 4 s.\n",
      "---------------------------\n",
      "-------------.ru/upload/resize_cache/iblock/a27/728_400_2/1_16be.jpg-------------\n",
      "-------------PAGE </msk/detailed/restaurants/bebijoli/> PARSING-------------\n",
      "Delay 4 s.\n",
      "---------------------------\n",
      "-------------.ru/upload/resize_cache/iblock/0fe/728_400_2/1c56.jpg-------------\n",
      "-------------PAGE </msk/detailed/restaurants/belyy_naliv/> PARSING-------------\n",
      "Delay 2 s.\n",
      "-------------Стейк-хаус «Бел-------------\n",
      "-------------.ru/upload/resize_cache/iblock/480/728_400_2/98a1917_2961.jpg-------------\n",
      "-------------PAGE </msk/detailed/restaurants/imperiya_banketholl/> PARSING-------------\n",
      "Delay 4 s.\n",
      "-------------БанкетХолл «Дом-------------\n",
      "-------------.ru/upload/resize_cache/iblock/da1/728_400_2/5142ac.jpg-------------\n",
      "-------------PAGE </msk/detailed/restaurants/balzam_rest/> PARSING-------------\n",
      "Delay 4 s.\n",
      "-------------Ресторан «Бальз-------------\n",
      "-------------.ru/upload/resize_cache/iblock/536/728_400_2/img_2207b94.jpg-------------\n",
      "-------------PAGE </msk/detailed/restaurants/biblioteka/> PARSING-------------\n",
      "Delay 4 s.\n",
      "-------------Ресторан «Библи-------------\n",
      "-------------.ru/upload/resize_cache/iblock/3ee/728_400_2/img_2098f28.jpg-------------\n",
      "-------------PAGE </msk/detailed/restaurants/bidzho/> PARSING-------------\n",
      "Delay 3 s.\n",
      "---------------------------\n",
      "-------------.ru/upload/resize_cache/iblock/83d/728_400_2/deco1971_2425.jpg-------------\n",
      "-------------PAGE </msk/detailed/restaurants/shtab/> PARSING-------------\n",
      "Delay 3 s.\n",
      "-------------Бар«Штаб» в Мос-------------\n",
      "-------------.ru/upload/resize_cache/iblock/a10/728_400_2/dsc_1026120.jpg-------------\n",
      "-------------PAGE </msk/detailed/restaurants/belaya-noch/> PARSING-------------\n",
      "Delay 3 s.\n",
      "-------------Кафе «Белая ноч-------------\n",
      "-------------.ru/upload/resize_cache/iblock/ccd/728_400_2/dsc_0219_2982.jpg-------------\n",
      "-------------PAGE </msk/detailed/restaurants/berlinskiy-dvorik/> PARSING-------------\n",
      "Delay 2 s.\n",
      "-------------Ресторан «Берли-------------\n",
      "-------------.ru/upload/resize_cache/iblock/539/728_400_2/ys_ymnzhfpoeb9.jpg-------------\n",
      "-------------PAGE </msk/detailed/restaurants/baskyul/> PARSING-------------\n",
      "Delay 2 s.\n",
      "---------------------------\n",
      "-------------.ru/upload/resize_cache/iblock/5a1/728_400_2/2vppvzh9bva_2945.jpg-------------\n",
      "-------------PAGE </msk/detailed/restaurants/white/> PARSING-------------\n",
      "Delay 2 s.\n",
      "-------------Ресторан «Белый-------------\n",
      "-------------.ru/upload/resize_cache/iblock/e01/728_400_2/img_8130_26fe.jpg-------------\n",
      "-------------PAGE </msk/detailed/restaurants/baranyes/> PARSING-------------\n",
      "Delay 3 s.\n",
      "---------------------------\n",
      "-------------.ru/upload/resize_cache/iblock/434/728_400_2/2a7a8540_2527.jpg-------------\n",
      "-------------PAGE </msk/detailed/restaurants/bsp/> PARSING-------------\n",
      "Delay 4 s.\n",
      "-------------«Белое солнце п-------------\n",
      "-------------.ru/upload/resize_cache/iblock/0dc/728_400_2/bar_0024ea.jpg-------------\n",
      "-------------PAGE </msk/detailed/restaurants/br/> PARSING-------------\n",
      "Delay 3 s.\n",
      "-------------Ресторан недаро-------------\n",
      "-------------.ru/upload/resize_cache/iblock/e3f/728_400_2/8f51csha_zal1_3.jpg-------------\n",
      "-------------PAGE </msk/detailed/restaurants/bayazet/> PARSING-------------\n",
      "Delay 4 s.\n",
      "-------------\"Баязет\" - так -------------\n",
      "-------------.ru/upload/iblock/3a2/4bbazal_vid_2.jpg-------------\n",
      "-------------PAGE </msk/detailed/restaurants/birodromm/> PARSING-------------\n",
      "Delay 2 s.\n",
      "-------------50 сортов разли-------------\n",
      "-------------.ru/upload/resize_cache/iblock/3dc/728_400_2/k97a3561_small9f4.jpg-------------\n",
      "-------------PAGE </msk/detailed/restaurants/cafebutterfly/> PARSING-------------\n",
      "Delay 4 s.\n",
      "-------------Первое впечатле-------------\n",
      "-------------.ru/upload/resize_cache/iblock/d2b/728_400_2/33d1rflay_fasad.jpg-------------\n",
      "-------------PAGE </msk/detailed/restaurants/beerstrasse/> PARSING-------------\n",
      "Delay 2 s.\n",
      "---------------------------\n",
      "-------------.ru/upload/resize_cache/iblock/433/728_400_2/mg_9622d04.jpg-------------\n",
      "-------------PAGE </msk/detailed/restaurants/borgo/> PARSING-------------\n",
      "Delay 4 s.\n",
      "-------------Ресторан «Борго-------------\n",
      "-------------.ru/upload/resize_cache/iblock/f6b/728_400_2/2_2fa1.jpg-------------\n",
      "-------------PAGE </msk/detailed/restaurants/blan_de_blan/> PARSING-------------\n",
      "Delay 2 s.\n",
      "---------------------------\n",
      "-------------.ru/upload/resize_cache/iblock/6c8/728_400_2/k97a7765_web7ca.jpg-------------\n",
      "-------------PAGE </msk/detailed/restaurants/borisovskiy/> PARSING-------------\n",
      "Delay 4 s.\n",
      "-------------Ресторан «Борис-------------\n",
      "-------------.ru/upload/resize_cache/iblock/cb3/728_400_2/dsc_0135_1_201a.jpg-------------\n",
      "-------------PAGE </msk/detailed/restaurants/lambicbar_vorontsovo_pole/> PARSING-------------\n",
      "Delay 3 s.\n",
      "-------------Трепетное отнош-------------\n",
      "-------------.ru/upload/resize_cache/iblock/de4/728_400_2/k97a9087_small0fa.jpg-------------\n",
      "-------------PAGE </msk/detailed/restaurants/lambicbar_pr_mira/> PARSING-------------\n",
      "Delay 3 s.\n",
      "-------------Трепетное отнош-------------\n",
      "-------------.ru/upload/resize_cache/iblock/715/728_400_2/k97a8957_panorama_small4dd.jpg-------------\n",
      "-------------PAGE </msk/detailed/restaurants/lambicbar_dolgorukovskaya/> PARSING-------------\n",
      "Delay 2 s.\n",
      "-------------Трепетное отнош-------------\n",
      "-------------.ru/upload/resize_cache/iblock/b02/728_400_2/k97a9179_smallb31.jpg-------------\n",
      "-------------PAGE </msk/detailed/restaurants/lambicbar_myasnitskaya/> PARSING-------------\n",
      "Delay 2 s.\n",
      "-------------Трепетное отнош-------------\n",
      "-------------.ru/upload/resize_cache/iblock/a09/728_400_2/k97a9255_smallde2.jpg-------------\n",
      "-------------PAGE </msk/detailed/restaurants/bokas_del_toro/> PARSING-------------\n",
      "Delay 3 s.\n",
      "-------------Ресторан «Бокас-------------\n",
      "-------------.ru/upload/resize_cache/iblock/738/728_400_2/20160331_dsc_1187_248d.jpg-------------\n",
      "-------------PAGE </msk/detailed/restaurants/lambicbar_neverovskogo/> PARSING-------------\n",
      "Delay 4 s.\n",
      "-------------Трепетное отнош-------------\n",
      "-------------.ru/upload/resize_cache/iblock/b60/728_400_2/k97a9341_small89a.jpg-------------\n",
      "-------------PAGE </msk/detailed/restaurants/anti-cafe_time/> PARSING-------------\n",
      "Delay 4 s.\n",
      "-------------Ресторан «Бона -------------\n",
      "-------------.ru/upload/resize_cache/iblock/4a2/728_400_2/ekrana_2016_06_29_v_141555_386a7b.png-------------\n",
      "-------------PAGE </msk/detailed/restaurants/bosfor/> PARSING-------------\n",
      "Delay 4 s.\n",
      "---------------------------\n",
      "-------------.ru/upload/resize_cache/iblock/613/728_400_2/dsc02681_26ed.jpg-------------\n",
      "-------------PAGE </msk/detailed/restaurants/birkhen/> PARSING-------------\n",
      "Delay 2 s.\n",
      "-------------Пивной ресторан-------------\n",
      "-------------.ru/upload/resize_cache/iblock/0ee/728_400_2/dsc_0002_266b.jpg-------------\n",
      "-------------PAGE </msk/detailed/restaurants/braziliya/> PARSING-------------\n",
      "Delay 3 s.\n",
      "-------------Если вы любите -------------\n",
      "-------------.ru/upload/resize_cache/iblock/11e/728_400_2/160727_05_2d14.jpg-------------\n",
      "-------------PAGE </msk/detailed/restaurants/bratya-blyuz/> PARSING-------------\n",
      "Delay 3 s.\n",
      "-------------Если вы любите -------------\n",
      "-------------.ru/upload/resize_cache/iblock/153/728_400_2/img_4278579.jpg-------------\n",
      "-------------PAGE </msk/detailed/restaurants/brasserie-lambic/> PARSING-------------\n",
      "Delay 3 s.\n"
     ]
    },
    {
     "name": "stdout",
     "output_type": "stream",
     "text": [
      "---------------------------\n",
      "-------------.ru/upload/resize_cache/iblock/baf/728_400_2/img_7913_219f.jpg-------------\n",
      "-------------PAGE </msk/detailed/restaurants/botik-petra2/> PARSING-------------\n",
      "Delay 2 s.\n",
      "-------------Деликатесы Сред-------------\n",
      "-------------.ru/upload/resize_cache/iblock/56b/728_400_2/botik_interior_113ff.jpg-------------\n",
      "-------------PAGE </msk/detailed/restaurants/botchka/> PARSING-------------\n",
      "Delay 2 s.\n",
      "-------------Ресторан «Бочка-------------\n",
      "-------------.ru/upload/resize_cache/iblock/6fe/728_400_2/vip_2e87.jpg-------------\n",
      "-------------PAGE </msk/detailed/restaurants/boyarski/> PARSING-------------\n",
      "Delay 2 s.\n",
      "-------------На Руси всегда -------------\n",
      "-------------.ru/upload/resize_cache/iblock/953/728_400_2/dsc_2210273.jpg-------------\n",
      "-------------PAGE </msk/detailed/restaurants/boemi/> PARSING-------------\n",
      "Delay 4 s.\n",
      "-------------Любители сербск-------------\n",
      "-------------.ru/upload/resize_cache/iblock/460/728_400_2/mg_0111_hdr_edit159.jpg-------------\n",
      "-------------PAGE </msk/detailed/restaurants/Buffalo/> PARSING-------------\n",
      "Delay 4 s.\n",
      "-------------Гриль-бар «Буфф-------------\n",
      "-------------.ru/upload/resize_cache/iblock/5bd/728_400_2/k97a0654_web1e7.jpg-------------\n",
      "-------------PAGE </msk/detailed/restaurants/buyabes/> PARSING-------------\n",
      "Delay 3 s.\n",
      "-------------«Буйабес» - эле-------------\n",
      "-------------.ru/upload/resize_cache/iblock/14b/728_400_2/864b.jpg-------------\n",
      "-------------PAGE </msk/detailed/restaurants/bumagabar/> PARSING-------------\n",
      "Delay 4 s.\n",
      "-------------Стильный гастро-------------\n",
      "-------------.ru/upload/resize_cache/iblock/92b/728_400_2/11068c.jpg-------------\n",
      "-------------PAGE </msk/detailed/restaurants/buterbrodus/> PARSING-------------\n",
      "Delay 4 s.\n",
      "-------------Визитнаякарточк-------------\n",
      "-------------.ru/upload/resize_cache/iblock/238/728_400_2/img_7300e17.jpg-------------\n",
      "-------------PAGE </msk/detailed/restaurants/tretyakovs/> PARSING-------------\n",
      "Delay 3 s.\n",
      "-------------Ресторан «Брать-------------\n",
      "-------------.ru/upload/resize_cache/iblock/d98/728_400_2/k97a0454_small13e.jpg-------------\n",
      "-------------PAGE </msk/detailed/restaurants/vechera/> PARSING-------------\n",
      "Delay 2 s.\n",
      "---------------------------\n",
      "-------------.ru/upload/resize_cache/iblock/a5a/728_400_2/1_2f4b.jpg-------------\n",
      "-------------PAGE </msk/detailed/restaurants/bukingempub/> PARSING-------------\n",
      "Delay 2 s.\n",
      "-------------Паб «Букингем» -------------\n",
      "-------------.ru/upload/resize_cache/iblock/7fb/728_400_2/pc061169_2031.jpg-------------\n",
      "-------------PAGE </msk/detailed/restaurants/byuro_vkusa/> PARSING-------------\n",
      "Delay 2 s.\n",
      "-------------Ресторан «Бюро -------------\n",
      "-------------.ru/upload/resize_cache/iblock/d87/728_400_2/2016_03_18_11_12_14_2714.jpg-------------\n",
      "-------------PAGE </msk/detailed/restaurants/valentina-cafe/> PARSING-------------\n",
      "Delay 2 s.\n",
      "---------------------------\n",
      "-------------.ru/upload/resize_cache/iblock/42b/728_400_2/dsc_0228_22ca.jpg-------------\n",
      "-------------PAGE </msk/detailed/restaurants/buloshnaya_rest/> PARSING-------------\n",
      "Delay 2 s.\n",
      "-------------Рестораны «Було-------------\n",
      "-------------.ru/upload/resize_cache/iblock/f30/728_400_2/img_0509_5_2335.jpg-------------\n",
      "-------------PAGE </msk/detailed/restaurants/brodvey/> PARSING-------------\n",
      "Delay 4 s.\n",
      "---------------------------\n",
      "-------------.ru/upload/resize_cache/iblock/6a6/728_400_2/ottbtbummom1a0.jpg-------------\n",
      "-------------PAGE </msk/detailed/restaurants/v-gostyakh-u-anuka/> PARSING-------------\n",
      "Delay 2 s.\n",
      "---------------------------\n",
      "-------------.ru/upload/resize_cache/iblock/5c2/728_400_2/dsc_1849_222a.jpg-------------\n",
      "-------------PAGE </msk/detailed/restaurants/butik-otel-mona/> PARSING-------------\n",
      "Delay 2 s.\n",
      "-------------Банкетный залБу-------------\n",
      "-------------.ru/upload/resize_cache/iblock/1ac/728_400_2/4_27fd.jpg-------------\n",
      "-------------PAGE </msk/detailed/restaurants/bryanskiy-byk/> PARSING-------------\n",
      "Delay 4 s.\n",
      "-------------Ресторан «Брянс-------------\n",
      "-------------.ru/upload/resize_cache/iblock/e67/728_400_2/img_9563_2b5f.jpg-------------\n",
      "-------------PAGE </msk/detailed/restaurants/bulvar-shashlyk-siti/> PARSING-------------\n",
      "Delay 4 s.\n",
      "-------------Что нужно обяза-------------\n",
      "-------------.ru/upload/resize_cache/iblock/4ae/728_400_2/img_877677f.jpg-------------\n",
      "-------------PAGE </msk/detailed/restaurants/budapesht/> PARSING-------------\n",
      "Delay 3 s.\n",
      "---------------------------\n",
      "-------------.ru/upload/resize_cache/iblock/5e9/728_400_2/image015_21df.jpg-------------\n",
      "-------------PAGE </msk/detailed/restaurants/burger/> PARSING-------------\n",
      "Delay 2 s.\n",
      "---------------------------\n",
      "-------------.ru/upload/resize_cache/iblock/c97/728_400_2/137b.jpg-------------\n",
      "-------------PAGE </msk/detailed/restaurants/budweiser_budvar/> PARSING-------------\n",
      "Delay 3 s.\n",
      "-------------Ресторан «Будва-------------\n",
      "-------------.ru/upload/iblock/833/cb92zal_vid1.jpg-------------\n",
      "-------------PAGE </msk/detailed/restaurants/bul_var/> PARSING-------------\n",
      "Delay 3 s.\n",
      "---------------------------\n",
      "-------------.ru/upload/resize_cache/iblock/76a/728_400_2/mg_7102370.jpg-------------\n",
      "-------------PAGE </msk/detailed/restaurants/bruder/> PARSING-------------\n",
      "Delay 2 s.\n",
      "---------------------------\n",
      "-------------.ru/upload/resize_cache/iblock/2f8/728_400_2/1cf9.jpg-------------\n",
      "-------------PAGE </msk/detailed/restaurants/veranda_3205/> PARSING-------------\n",
      "Delay 3 s.\n",
      "-------------Ресторан «Веран-------------\n",
      "-------------.ru/upload/resize_cache/iblock/2fa/728_400_2/13.jpg-------------\n",
      "-------------PAGE </msk/detailed/restaurants/arbat38/> PARSING-------------\n",
      "Delay 3 s.\n",
      "-------------В самом сердце -------------\n",
      "-------------.ru/upload/resize_cache/iblock/f99/728_400_2/mg_9877.jpg-------------\n",
      "-------------PAGE </msk/detailed/restaurants/cervetti/> PARSING-------------\n",
      "Delay 4 s.\n",
      "-------------Открывая первый-------------\n",
      "-------------.ru/upload/resize_cache/iblock/e16/728_400_2/zal_0019b6.jpg-------------\n",
      "-------------PAGE </msk/detailed/restaurants/vkys-vostoka/> PARSING-------------\n",
      "Delay 3 s.\n",
      "---------------------------\n",
      "-------------.ru/upload/resize_cache/iblock/89d/728_400_2/vostoka_16c6.jpg-------------\n",
      "-------------PAGE </msk/detailed/restaurants/restoranvinograd/> PARSING-------------\n",
      "Delay 2 s.\n",
      "-------------Ресторан«Виногр-------------\n",
      "-------------.ru/upload/resize_cache/iblock/1d0/728_400_2/img_7214c40.jpg-------------\n",
      "-------------PAGE </msk/detailed/restaurants/verandarest/> PARSING-------------\n",
      "Delay 3 s.\n",
      "---------------------------\n",
      "-------------.ru/upload/resize_cache/iblock/627/728_400_2/3284702adc.jpg-------------\n",
      "-------------PAGE </msk/detailed/restaurants/venecia/> PARSING-------------\n",
      "Delay 3 s.\n",
      "-------------Классическая ит-------------\n",
      "-------------.ru/upload/resize_cache/iblock/718/728_400_2/1945.jpg-------------\n",
      "-------------PAGE </msk/detailed/restaurants/vechera_na_khutore_korchma/> PARSING-------------\n",
      "Delay 3 s.\n",
      "-------------Ресторан «Вечер-------------\n",
      "-------------.ru/upload/resize_cache/iblock/ab0/728_400_2/1e72.jpg-------------\n",
      "-------------PAGE </msk/detailed/restaurants/vechernie_ogni/> PARSING-------------\n",
      "Delay 4 s.\n",
      "---------------------------\n",
      "-------------.ru/upload/resize_cache/iblock/39b/728_400_2/dsc_0291_1_a33.png-------------\n",
      "-------------PAGE </msk/detailed/restaurants/vinnyy_bufet/> PARSING-------------\n",
      "Delay 4 s.\n",
      "-------------Ресторан «Винны-------------\n",
      "-------------.ru/upload/resize_cache/iblock/0b4/728_400_2/img_4046_2d2d.jpg-------------\n",
      "-------------PAGE </msk/detailed/restaurants/wineburger/> PARSING-------------\n",
      "Delay 3 s.\n",
      "-------------«Вино и бургер»-------------\n",
      "-------------.ru/upload/resize_cache/iblock/d43/728_400_2/k97a7547_smallfbd.jpg-------------\n",
      "-------------PAGE </msk/detailed/restaurants/vishnevaya_metel/> PARSING-------------\n",
      "Delay 4 s.\n",
      "---------------------------\n",
      "-------------.ru/upload/resize_cache/iblock/7e8/728_400_2/img_2185_23a3.jpg-------------\n",
      "-------------PAGE </msk/detailed/restaurants/vermel_club/> PARSING-------------\n",
      "Delay 3 s.\n",
      "-------------Клуб «Вермель» -------------\n",
      "-------------.ru/upload/resize_cache/iblock/70a/728_400_2/dsc_3109_1_1_1_2f0b.jpg-------------\n",
      "-------------PAGE </msk/detailed/restaurants/veranda-obrucheva/> PARSING-------------\n",
      "Delay 4 s.\n",
      "-------------Ресторан «Веран-------------\n",
      "-------------.ru/upload/resize_cache/iblock/6fe/728_400_2/y_8b42cb80c54.jpg-------------\n",
      "-------------PAGE </msk/detailed/restaurants/vanilnoenebo/> PARSING-------------\n",
      "Delay 3 s.\n"
     ]
    },
    {
     "name": "stdout",
     "output_type": "stream",
     "text": [
      "-------------Специально для -------------\n",
      "-------------.ru/upload/resize_cache/iblock/efd/728_400_2/img_6313c70.jpg-------------\n",
      "-------------PAGE </msk/detailed/restaurants/vizantiy/> PARSING-------------\n",
      "Delay 4 s.\n",
      "-------------Имеем честь отк-------------\n",
      "-------------.ru/upload/resize_cache/iblock/0f8/728_400_2/k97a2586_web198.jpg-------------\n",
      "-------------PAGE </msk/detailed/restaurants/victory/> PARSING-------------\n",
      "Delay 4 s.\n",
      "-------------Невиданная щедр-------------\n",
      "-------------.ru/upload/resize_cache/iblock/649/728_400_2/15af.jpg-------------\n",
      "-------------PAGE </msk/detailed/restaurants/vegas/> PARSING-------------\n",
      "Delay 3 s.\n",
      "-------------В первую очеред-------------\n",
      "-------------.ru/upload/resize_cache/iblock/e74/728_400_2/k97a3843_panorama_small9e5.jpg-------------\n",
      "-------------PAGE </msk/detailed/restaurants/vesta/> PARSING-------------\n",
      "Delay 3 s.\n",
      "-------------Вестой в Древне-------------\n",
      "-------------.ru/upload/resize_cache/iblock/0d1/728_400_2/dsc01140fcb.jpg-------------\n",
      "-------------PAGE </msk/detailed/restaurants/veterok/> PARSING-------------\n",
      "Delay 4 s.\n",
      "-------------Ресторан \"Ветер-------------\n",
      "-------------.ru/upload/resize_cache/iblock/d5b/728_400_2/img_8484ec7.jpg-------------\n",
      "-------------PAGE </msk/detailed/restaurants/genatsvale-vip/> PARSING-------------\n",
      "Delay 4 s.\n",
      "-------------Ресторан «Генац-------------\n",
      "-------------.ru/upload/resize_cache/iblock/b9d/728_400_2/img_2444bad.jpg-------------\n",
      "-------------PAGE </msk/detailed/restaurants/vysota_5642/> PARSING-------------\n",
      "Delay 2 s.\n",
      "-------------Ресторан «Высот-------------\n",
      "-------------.ru/upload/resize_cache/iblock/b05/728_400_2/img_4831d30.jpg-------------\n",
      "-------------PAGE </msk/detailed/restaurants/voyagerest/> PARSING-------------\n",
      "Delay 3 s.\n",
      "-------------Интерьеры этого-------------\n",
      "-------------.ru/upload/resize_cache/iblock/050/728_400_2/a02d1783_24e5.jpg-------------\n",
      "-------------PAGE </msk/detailed/restaurants/gastronavt/> PARSING-------------\n",
      "Delay 3 s.\n",
      "---------------------------\n",
      "-------------.ru/upload/resize_cache/iblock/2d6/728_400_2/img_1613_204d.jpg-------------\n",
      "-------------PAGE </msk/detailed/restaurants/vympel/> PARSING-------------\n",
      "Delay 3 s.\n",
      "---------------------------\n",
      "-------------.ru/upload/resize_cache/iblock/b5c/728_400_2/img_4352_2270.jpg-------------\n",
      "-------------PAGE </msk/detailed/restaurants/vostochnyy_kvartal/> PARSING-------------\n",
      "Delay 3 s.\n",
      "---------------------------\n",
      "-------------.ru/upload/resize_cache/iblock/6fb/728_400_2/dsc_0020_2e33.jpg-------------\n",
      "-------------PAGE </msk/detailed/restaurants/vremena-goda/> PARSING-------------\n",
      "Delay 4 s.\n",
      "-------------25 лет ресторан-------------\n",
      "-------------.ru/upload/resize_cache/iblock/047/728_400_2/bolshoi_zal_1ae0.jpg-------------\n",
      "-------------PAGE </msk/detailed/restaurants/vostochnaya_noch/> PARSING-------------\n",
      "Delay 3 s.\n",
      "---------------------------\n",
      "-------------.ru/upload/resize_cache/iblock/7e9/728_400_2/dsc_0096_20dc.jpg-------------\n",
      "-------------PAGE </msk/detailed/restaurants/vodopad_ul_sudakova/> PARSING-------------\n",
      "Delay 4 s.\n",
      "---------------------------\n",
      "-------------.ru/upload/resize_cache/iblock/ea8/728_400_2/dsc_0707ffa.jpg-------------\n",
      "-------------PAGE </msk/detailed/restaurants/galio_rest/> PARSING-------------\n",
      "Delay 4 s.\n",
      "---------------------------\n",
      "-------------.ru/upload/resize_cache/iblock/cc7/728_400_2/dsc_0601_225c.jpg-------------\n",
      "-------------PAGE </msk/detailed/restaurants/gagra/> PARSING-------------\n",
      "Delay 3 s.\n",
      "---------------------------\n",
      "-------------.ru/upload/resize_cache/iblock/921/728_400_2/dsc_0586_2f21.jpg-------------\n",
      "-------------PAGE </msk/detailed/restaurants/ganga/> PARSING-------------\n",
      "Delay 4 s.\n",
      "-------------Ресторан «Ганга-------------\n",
      "-------------.ru/upload/resize_cache/iblock/020/728_400_2/dsc_05501c8.jpg-------------\n",
      "-------------PAGE </msk/detailed/restaurants/volna/> PARSING-------------\n",
      "Delay 2 s.\n",
      "-------------Рыбный ресторан-------------\n",
      "-------------.ru/upload/resize_cache/iblock/56e/728_400_2/zal_0052ab.jpg-------------\n",
      "-------------PAGE </msk/detailed/restaurants/galaktika-2-0/> PARSING-------------\n",
      "Delay 2 s.\n",
      "-------------Ресторан «Галак-------------\n",
      "-------------.ru/upload/resize_cache/iblock/f2e/728_400_2/ksv7774_233c.jpg-------------\n",
      "-------------PAGE </msk/detailed/restaurants/vladivostok-3000/> PARSING-------------\n",
      "Delay 2 s.\n",
      "---------------------------\n",
      "-------------.ru/upload/resize_cache/iblock/dfa/728_400_2/4_mumiy_troll_music_bar_moscow_2250.jpg-------------\n",
      "-------------PAGE </msk/detailed/restaurants/vostochnyy-uyut/> PARSING-------------\n",
      "Delay 3 s.\n",
      "-------------Если вы хотите -------------\n",
      "-------------.ru/upload/resize_cache/iblock/9c2/728_400_2/uyut_zal1_0044c9.jpg-------------\n",
      "-------------PAGE </msk/detailed/restaurants/genatsvale_arbat/> PARSING-------------\n",
      "Delay 2 s.\n",
      "-------------По залам рестор-------------\n",
      "-------------.ru/upload/resize_cache/iblock/a6a/728_400_2/1.jpg-------------\n",
      "-------------PAGE </msk/detailed/restaurants/genatsvale/> PARSING-------------\n",
      "Delay 3 s.\n",
      "-------------Легендарный гру-------------\n",
      "-------------.ru/upload/resize_cache/iblock/951/728_400_2/3.jpg-------------\n",
      "-------------PAGE </msk/detailed/restaurants/vkusnaya_zhizn/> PARSING-------------\n",
      "Delay 4 s.\n",
      "---------------------------\n",
      "-------------.ru/upload/resize_cache/iblock/d5b/728_400_2/jizn_28fd.jpg-------------\n",
      "-------------PAGE </msk/detailed/restaurants/gorod-cafe/> PARSING-------------\n",
      "Delay 3 s.\n",
      "-------------«Город Social c-------------\n",
      "-------------.ru/upload/resize_cache/iblock/e33/728_400_2/mg_3313971.jpg-------------\n",
      "-------------PAGE </msk/detailed/restaurants/granatovyy_sad/> PARSING-------------\n",
      "Delay 2 s.\n",
      "-------------Ресторан «Грана-------------\n",
      "-------------.ru/upload/resize_cache/iblock/0d7/728_400_2/mg_6322a0c.jpg-------------\n",
      "-------------PAGE </msk/detailed/restaurants/grandvictoria/> PARSING-------------\n",
      "Delay 2 s.\n",
      "-------------Ресторан «Гранд-------------\n",
      "-------------.ru/upload/resize_cache/iblock/ed9/728_400_2/zal_restorana_grand_viktoriya_158c.jpg-------------\n",
      "-------------PAGE </msk/detailed/restaurants/gremi/> PARSING-------------\n",
      "Delay 3 s.\n",
      "-------------Ресторан «Греми-------------\n",
      "-------------.ru/upload/resize_cache/iblock/cb7/728_400_2/dsc_0411_279e.jpg-------------\n",
      "-------------PAGE </msk/detailed/restaurants/golf/> PARSING-------------\n",
      "Delay 4 s.\n",
      "---------------------------\n",
      "-------------.ru/upload/resize_cache/iblock/824/728_400_2/a630cdd011164ec7c8214d804b871803db6feb204a0.jpeg-------------\n",
      "-------------PAGE </msk/detailed/restaurants/gladiator/> PARSING-------------\n",
      "Delay 2 s.\n",
      "-------------Ресторан «Глади-------------\n",
      "-------------.ru/upload/resize_cache/iblock/009/728_400_2/dsc_0024_2b50.jpg-------------\n",
      "-------------PAGE </msk/detailed/restaurants/grand/> PARSING-------------\n",
      "Delay 4 s.\n",
      "---------------------------\n",
      "-------------.ru/upload/resize_cache/iblock/e87/728_400_2/dsc_0604384.jpg-------------\n",
      "-------------PAGE </msk/detailed/restaurants/roll-hall-rest/> PARSING-------------\n",
      "Delay 2 s.\n",
      "-------------В центре Москвы-------------\n",
      "-------------.ru/upload/resize_cache/iblock/433/728_400_2/gril_holl_5994_186ce6.jpg-------------\n",
      "-------------PAGE </msk/detailed/restaurants/grenka/> PARSING-------------\n",
      "Delay 4 s.\n",
      "---------------------------\n",
      "-------------.ru/upload/resize_cache/iblock/6e2/728_400_2/dsc_0869591.jpg-------------\n",
      "-------------PAGE </msk/detailed/restaurants/gorodok-b/> PARSING-------------\n",
      "Delay 2 s.\n",
      "---------------------------\n",
      "-------------.ru/upload/resize_cache/iblock/6f2/728_400_2/dsc_1553_2fa1.jpg-------------\n",
      "-------------PAGE </msk/detailed/restaurants/gorod-vetrov/> PARSING-------------\n",
      "Delay 4 s.\n",
      "-------------Кафе «Город Вет-------------\n",
      "-------------.ru/upload/resize_cache/iblock/397/728_400_2/dsc_0276866.jpg-------------\n",
      "-------------PAGE </msk/detailed/restaurants/gruzinskiy-dvorik/> PARSING-------------\n",
      "Delay 2 s.\n",
      "---------------------------\n",
      "-------------.ru/upload/resize_cache/iblock/aac/728_400_2/dsc_010827e.jpg-------------\n",
      "-------------PAGE </msk/detailed/restaurants/gotika-na-festivalnoy/> PARSING-------------\n",
      "Delay 4 s.\n",
      "-------------Кафе «Готика» н-------------\n",
      "-------------.ru/upload/resize_cache/iblock/09f/728_400_2/dsc_0123_2087.jpg-------------\n",
      "-------------PAGE </msk/detailed/restaurants/gotika-na-angarskoy/> PARSING-------------\n",
      "Delay 4 s.\n"
     ]
    },
    {
     "name": "stdout",
     "output_type": "stream",
     "text": [
      "-------------Если вы всегда -------------\n",
      "-------------.ru/upload/resize_cache/iblock/089/728_400_2/dsc_0012_2d73.jpg-------------\n",
      "-------------PAGE </msk/detailed/restaurants/guriya-gotinaza/> PARSING-------------\n",
      "Delay 4 s.\n",
      "-------------Ресторан «Гурия-------------\n",
      "-------------.ru/upload/resize_cache/iblock/341/728_400_2/dvorik_2_828ffa.jpg-------------\n",
      "-------------PAGE </msk/detailed/restaurants/d-kafe/> PARSING-------------\n",
      "Delay 3 s.\n",
      "-------------Ресторан «Д'Каф-------------\n",
      "-------------.ru/upload/resize_cache/iblock/e2c/728_400_2/mg_02250a4.jpg-------------\n",
      "-------------PAGE </msk/detailed/restaurants/bar-geroi/> PARSING-------------\n",
      "Delay 3 s.\n",
      "-------------Бар «Герои» – б-------------\n",
      "-------------.ru/upload/resize_cache/iblock/4ca/728_400_2/img_425005b.jpg-------------\n",
      "-------------PAGE </msk/detailed/restaurants/gril-bar-terrasa-vorobi/> PARSING-------------\n",
      "Delay 2 s.\n",
      "---------------------------\n",
      "-------------.ru/upload/resize_cache/iblock/6b9/728_400_2/vrpk0236_2dbd.jpg-------------\n",
      "-------------PAGE </msk/detailed/restaurants/gusyatnikoff/> PARSING-------------\n",
      "Delay 3 s.\n",
      "-------------Проект Аркадия -------------\n",
      "-------------.ru/upload/resize_cache/iblock/5b5/728_400_2/zal1_001_723e7f.jpg-------------\n",
      "-------------PAGE </msk/detailed/restaurants/grand_alex/> PARSING-------------\n",
      "Delay 4 s.\n",
      "-------------Ресторан \"Гранд-------------\n",
      "-------------.ru/upload/resize_cache/iblock/3f2/728_400_2/a811ndr_Zal_001.jpg-------------\n",
      "-------------PAGE </msk/detailed/restaurants/dzhon_dzholi/> PARSING-------------\n",
      "Delay 2 s.\n",
      "---------------------------\n",
      "--------------------------\n",
      "-------------PAGE </msk/detailed/restaurants/de_marco/> PARSING-------------\n",
      "Delay 2 s.\n",
      "-------------Рестораны «Де М-------------\n",
      "--------------------------\n",
      "-------------PAGE </msk/detailed/restaurants/de_marko_krasnopresnenskaya_nab/> PARSING-------------\n",
      "Delay 2 s.\n",
      "-------------Ресторан «Де Ма-------------\n",
      "-------------.ru/upload/resize_cache/iblock/f07/728_400_2/dsc_027084e.jpg-------------\n",
      "-------------PAGE </msk/detailed/restaurants/de_marko_petrovka/> PARSING-------------\n",
      "Delay 3 s.\n",
      "-------------Входящий в груп-------------\n",
      "-------------.ru/upload/resize_cache/iblock/577/728_400_2/img_5360_207d.jpg-------------\n",
      "-------------PAGE </msk/detailed/restaurants/de_marko_pr_mira/> PARSING-------------\n",
      "Delay 3 s.\n",
      "-------------Ресторан «Де Ма-------------\n",
      "-------------.ru/upload/resize_cache/iblock/1b9/728_400_2/dsc_12628a1.jpg-------------\n",
      "-------------PAGE </msk/detailed/restaurants/de_marko_smolenskaya_sennaya_pl_/> PARSING-------------\n",
      "Delay 4 s.\n",
      "-------------Ресторан «Де Ма-------------\n",
      "-------------.ru/upload/resize_cache/iblock/9d6/728_400_2/img_6872_247a.jpg-------------\n",
      "-------------PAGE </msk/detailed/restaurants/de_marko_pushechnaya/> PARSING-------------\n",
      "Delay 4 s.\n",
      "-------------Ресторан «Де Ма-------------\n",
      "-------------.ru/upload/resize_cache/iblock/30c/728_400_2/p341f.jpg-------------\n",
      "-------------PAGE </msk/detailed/restaurants/de_marko_profsoyuznaya/> PARSING-------------\n",
      "Delay 2 s.\n",
      "-------------Ресторан «Де Ма-------------\n",
      "-------------.ru/upload/resize_cache/iblock/82d/728_400_2/img_6932_2de6.jpg-------------\n",
      "-------------PAGE </msk/detailed/restaurants/de_marco_leninskiy/> PARSING-------------\n",
      "Delay 3 s.\n",
      "---------------------------\n",
      "-------------.ru/upload/resize_cache/iblock/147/728_400_2/1_re_2_s_srr_novyiy_razmer0df.jpg-------------\n",
      "-------------PAGE </msk/detailed/restaurants/delovaya_kolbasa/> PARSING-------------\n",
      "Delay 3 s.\n",
      "---------------------------\n",
      "-------------.ru/upload/resize_cache/iblock/c91/728_400_2/gallery2605.jpg-------------\n",
      "-------------PAGE </msk/detailed/restaurants/de_marco2/> PARSING-------------\n",
      "Delay 4 s.\n",
      "---------------------------\n",
      "-------------.ru/upload/resize_cache/iblock/8c1/728_400_2/img_1727_2325.jpg-------------\n",
      "-------------PAGE </msk/detailed/restaurants/de_marco_solntsevo/> PARSING-------------\n",
      "Delay 3 s.\n",
      "---------------------------\n",
      "-------------.ru/upload/resize_cache/iblock/9fa/728_400_2/08943.jpg-------------\n",
      "-------------PAGE </msk/detailed/restaurants/daisi/> PARSING-------------\n",
      "Delay 3 s.\n",
      "---------------------------\n",
      "-------------.ru/upload/resize_cache/iblock/ccc/728_400_2/brmwf7xpiao_2889.jpg-------------\n",
      "-------------PAGE </msk/detailed/restaurants/kalinka_jam/> PARSING-------------\n",
      "Delay 4 s.\n",
      "---------------------------\n",
      "-------------.ru/upload/resize_cache/iblock/b6c/728_400_2/inter3e01.jpg-------------\n",
      "-------------PAGE </msk/detailed/restaurants/dvorets_sultana/> PARSING-------------\n",
      "Delay 2 s.\n",
      "---------------------------\n",
      "-------------.ru/upload/resize_cache/iblock/e14/728_400_2/zal1_003_905e9b.jpg-------------\n",
      "-------------PAGE </msk/detailed/restaurants/dzholi-dog-pab/> PARSING-------------\n",
      "Delay 2 s.\n",
      "-------------Есть такие рест-------------\n",
      "-------------.ru/upload/resize_cache/iblock/116/728_400_2/dsc_036055c.jpg-------------\n",
      "-------------PAGE </msk/detailed/restaurants/dzhondzholi-babushkinskaya/> PARSING-------------\n",
      "Delay 3 s.\n",
      "-------------«Джонджоли» (та-------------\n",
      "-------------.ru/upload/resize_cache/iblock/3ab/728_400_2/mg_1332_1_2b2a.jpg-------------\n",
      "-------------PAGE </msk/detailed/restaurants/dzhondzholi-krylatskoe/> PARSING-------------\n",
      "Delay 4 s.\n",
      "-------------«Джонджоли» (та-------------\n",
      "-------------.ru/upload/resize_cache/iblock/193/728_400_2/10_2_953609.jpg-------------\n",
      "-------------PAGE </msk/detailed/restaurants/deja_vu/> PARSING-------------\n",
      "Delay 2 s.\n",
      "-------------Тихая гавань зе-------------\n",
      "-------------.ru/upload/resize_cache/iblock/367/728_400_2/zal_02368b.jpg-------------\n",
      "-------------PAGE </msk/detailed/restaurants/dv_sultana/> PARSING-------------\n",
      "Delay 3 s.\n",
      "-------------В новом рестора-------------\n",
      "-------------.ru/upload/resize_cache/iblock/799/728_400_2/k97a1957_web603.jpg-------------\n",
      "-------------PAGE </msk/detailed/restaurants/dom8a/> PARSING-------------\n",
      "Delay 4 s.\n",
      "-------------Отдохнуть от го-------------\n",
      "-------------.ru/upload/resize_cache/iblock/9ab/728_400_2/k97a8617_small30f.jpg-------------\n",
      "-------------PAGE </msk/detailed/restaurants/dobrynya/> PARSING-------------\n",
      "Delay 4 s.\n",
      "-------------Ресторан «Добры-------------\n",
      "-------------.ru/upload/resize_cache/iblock/ec1/728_400_2/zal_8_80782b.jpg-------------\n",
      "-------------PAGE </msk/detailed/restaurants/dolmama/> PARSING-------------\n",
      "Delay 4 s.\n",
      "-------------Ресторан «Долма-------------\n",
      "-------------.ru/upload/resize_cache/iblock/dde/728_400_2/zal_7_742b6.jpg-------------\n",
      "-------------PAGE </msk/detailed/restaurants/domogilov/> PARSING-------------\n",
      "Delay 4 s.\n",
      "-------------Городское кафе -------------\n",
      "-------------.ru/upload/resize_cache/iblock/613/728_400_2/dsc_5664_29ba.jpg-------------\n",
      "-------------PAGE </msk/detailed/restaurants/domogilov2/> PARSING-------------\n",
      "Delay 4 s.\n",
      "-------------Кафе «Доможилов-------------\n",
      "-------------.ru/upload/resize_cache/iblock/9b0/728_400_2/9z6b6886_2957.jpg-------------\n",
      "-------------PAGE </msk/detailed/restaurants/dobrye_traditsii/> PARSING-------------\n",
      "Delay 3 s.\n",
      "---------------------------\n",
      "-------------.ru/upload/resize_cache/iblock/aea/728_400_2/dt_4d24.jpg-------------\n",
      "-------------PAGE </msk/detailed/restaurants/dom_makaron/> PARSING-------------\n",
      "Delay 2 s.\n",
      "---------------------------\n",
      "-------------.ru/upload/resize_cache/iblock/49c/728_400_2/5zcg4ygik4k_2026.jpg-------------\n",
      "-------------PAGE </msk/detailed/restaurants/doping_rest/> PARSING-------------\n",
      "Delay 4 s.\n",
      "---------------------------\n",
      "-------------.ru/upload/resize_cache/iblock/ec2/728_400_2/dsc_1137_250d.jpg-------------\n",
      "-------------PAGE </msk/detailed/restaurants/dzhondzholi-shodnya/> PARSING-------------\n",
      "Delay 3 s.\n",
      "-------------«Джонджоли»(так-------------\n",
      "-------------.ru/upload/resize_cache/iblock/9f1/728_400_2/1_2ab6.jpg-------------\n",
      "-------------PAGE </msk/detailed/restaurants/dzhondzholi-mozhayskoe/> PARSING-------------\n",
      "Delay 4 s.\n",
      "-------------«Джонджоли»(так-------------\n",
      "-------------.ru/upload/resize_cache/iblock/5f4/728_400_2/john_mogaika_189f.jpg-------------\n",
      "-------------PAGE </msk/detailed/restaurants/dzhondzholi-novoslobodskaya/> PARSING-------------\n",
      "Delay 2 s.\n",
      "-------------«Джонджоли»(так-------------\n",
      "-------------.ru/upload/resize_cache/iblock/190/728_400_2/mg_4297_1_24b6.jpg-------------\n",
      "-------------PAGE </msk/detailed/restaurants/dzhondzholi-tverskaya/> PARSING-------------\n",
      "Delay 2 s.\n"
     ]
    },
    {
     "name": "stdout",
     "output_type": "stream",
     "text": [
      "-------------«Джонджоли»(так-------------\n",
      "-------------.ru/upload/resize_cache/iblock/e96/728_400_2/pervyiy_zal_20fa.jpg-------------\n",
      "-------------PAGE </msk/detailed/restaurants/dzhondzholi-pyatnitskaya/> PARSING-------------\n",
      "Delay 4 s.\n",
      "-------------«Джонджоли»(так-------------\n",
      "-------------.ru/upload/resize_cache/iblock/dd8/728_400_2/1_2fa9.jpg-------------\n",
      "-------------PAGE </msk/detailed/restaurants/dzhondzholi-myasnitskaya/> PARSING-------------\n",
      "Delay 3 s.\n",
      "-------------«Джонджоли»(так-------------\n",
      "-------------.ru/upload/resize_cache/iblock/d79/728_400_2/mg_0303_2_1_2d48.jpg-------------\n",
      "-------------PAGE </msk/detailed/restaurants/dzhondzholi-marino/> PARSING-------------\n",
      "Delay 4 s.\n",
      "-------------«Джонджоли» (та-------------\n",
      "-------------.ru/upload/resize_cache/iblock/e78/728_400_2/mg_8735_1_22ac.jpg-------------\n",
      "-------------PAGE </msk/detailed/restaurants/dzhondzholi-taganka/> PARSING-------------\n",
      "Delay 2 s.\n",
      "-------------«Джонджоли» (та-------------\n",
      "-------------.ru/upload/resize_cache/iblock/c1d/728_400_2/mg_1204_1_2cb1.jpg-------------\n",
      "-------------PAGE </msk/detailed/restaurants/dom_aktera/> PARSING-------------\n",
      "Delay 3 s.\n",
      "-------------Хотите поужинат-------------\n",
      "-------------.ru/upload/resize_cache/iblock/82c/728_400_2/img_8414756.jpg-------------\n",
      "-------------PAGE </msk/detailed/restaurants/giotto/> PARSING-------------\n",
      "Delay 2 s.\n",
      "-------------Ресторан «Джотт-------------\n",
      "-------------.ru/upload/resize_cache/iblock/524/728_400_2/1.jpg-------------\n",
      "-------------PAGE </msk/detailed/restaurants/belajo/> PARSING-------------\n",
      "Delay 2 s.\n",
      "-------------Ресторан «Джорд-------------\n",
      "-------------.ru/upload/resize_cache/iblock/e62/728_400_2/img_5996bb6.jpg-------------\n",
      "-------------PAGE </msk/detailed/restaurants/donna_margo/> PARSING-------------\n",
      "Delay 4 s.\n",
      "-------------Если москвичу з-------------\n",
      "-------------.ru/upload/resize_cache/iblock/a8b/728_400_2/4951zx0r2249.jpg-------------\n",
      "-------------PAGE </msk/detailed/restaurants/jestokiyromans/> PARSING-------------\n",
      "Delay 2 s.\n",
      "-------------«Жестокий роман-------------\n",
      "-------------.ru/upload/resize_cache/iblock/a54/728_400_2/3034g.romans_15.jpg-------------\n",
      "-------------PAGE </msk/detailed/restaurants/teplokhody_elizaveta_mikhail_sespel_organizator/> PARSING-------------\n",
      "Delay 2 s.\n",
      "---------------------------\n",
      "-------------.ru/upload/resize_cache/iblock/1c4/728_400_2/resrohod_03f08.png-------------\n",
      "-------------PAGE </msk/detailed/restaurants/duduk/> PARSING-------------\n",
      "Delay 4 s.\n",
      "-------------Смотрите также:-------------\n",
      "-------------.ru/upload/resize_cache/iblock/b1a/728_400_2/22b8.jpg-------------\n",
      "-------------PAGE </msk/detailed/restaurants/dubrava/> PARSING-------------\n",
      "Delay 2 s.\n",
      "-------------Ресторан «Дубра-------------\n",
      "-------------.ru/upload/resize_cache/iblock/c8a/728_400_2/dsc_8679_245b.jpg-------------\n",
      "-------------PAGE </msk/detailed/restaurants/esenin/> PARSING-------------\n",
      "Delay 3 s.\n",
      "-------------«Я люблю этот г-------------\n",
      "-------------.ru/upload/resize_cache/iblock/b24/728_400_2/k97a0320_smallfaa.jpg-------------\n",
      "-------------PAGE </msk/detailed/restaurants/jasmin/> PARSING-------------\n",
      "Delay 3 s.\n",
      "---------------------------\n",
      "-------------.ru/upload/resize_cache/iblock/48d/728_400_2/p1012313_2b06.jpg-------------\n",
      "-------------PAGE </msk/detailed/restaurants/alaverdy/> PARSING-------------\n",
      "Delay 4 s.\n",
      "-------------Если появляется-------------\n",
      "-------------.ru/upload/resize_cache/iblock/466/728_400_2/htmlimage_195e8.jpg-------------\n",
      "-------------PAGE </msk/detailed/restaurants/eli_sumeli/> PARSING-------------\n",
      "Delay 2 s.\n",
      "-------------Ресторан «Ели-С-------------\n",
      "-------------.ru/upload/resize_cache/iblock/8e2/728_400_2/fullsizerender2_2e30.jpg-------------\n",
      "-------------PAGE </msk/detailed/restaurants/dushevnaya_madam/> PARSING-------------\n",
      "Delay 2 s.\n",
      "---------------------------\n",
      "-------------.ru/upload/resize_cache/iblock/bd3/728_400_2/img_80393ee.jpg-------------\n",
      "-------------PAGE </msk/detailed/restaurants/zhemchuzhina/> PARSING-------------\n",
      "Delay 2 s.\n",
      "-------------Ресторан грузин-------------\n",
      "-------------.ru/upload/resize_cache/iblock/242/728_400_2/k97a2582_small8e8.jpg-------------\n",
      "-------------PAGE </msk/detailed/restaurants/eda-eda/> PARSING-------------\n",
      "Delay 3 s.\n",
      "-------------Ресторан «Еда-Е-------------\n",
      "-------------.ru/upload/resize_cache/iblock/f22/728_400_2/img_9889_alr_2d99.jpg-------------\n",
      "-------------PAGE </msk/detailed/restaurants/evropa-volokolamskoe/> PARSING-------------\n",
      "Delay 4 s.\n",
      "-------------Ресторан «Европ-------------\n",
      "-------------.ru/upload/resize_cache/iblock/936/728_400_2/img_2437_2b87.jpg-------------\n",
      "-------------PAGE </msk/detailed/restaurants/druzhba/> PARSING-------------\n",
      "Delay 4 s.\n",
      "-------------Вся суть концеп-------------\n",
      "-------------.ru/upload/resize_cache/iblock/bf5/728_400_2/druzhba_interior_4df5.jpg-------------\n",
      "-------------PAGE </msk/detailed/restaurants/zharovnya/> PARSING-------------\n",
      "Delay 3 s.\n",
      "-------------Сеть гриль-баро-------------\n",
      "-------------.ru/upload/resize_cache/iblock/57f/728_400_2/8_2cd2.jpg-------------\n",
      "-------------PAGE </msk/detailed/restaurants/dorogaya-ya-perezvonyu/> PARSING-------------\n",
      "Delay 3 s.\n",
      "---------------------------\n",
      "-------------.ru/upload/resize_cache/iblock/6e1/728_400_2/paveletskaya_2375.jpg-------------\n",
      "-------------PAGE </msk/detailed/restaurants/druzya/> PARSING-------------\n",
      "Delay 2 s.\n",
      "-------------«Дерево держитс-------------\n",
      "-------------.ru/upload/resize_cache/iblock/be3/728_400_2/img_0087fa0e44.jpg-------------\n",
      "-------------PAGE </msk/detailed/restaurants/ermak/> PARSING-------------\n",
      "Delay 4 s.\n",
      "-------------Ресторанный ком-------------\n",
      "-------------.ru/upload/resize_cache/iblock/e81/728_400_2/ermak_1.jpg-------------\n",
      "-------------PAGE </msk/detailed/restaurants/zagorodny/> PARSING-------------\n",
      "Delay 4 s.\n",
      "-------------Когда-то, восем-------------\n",
      "-------------.ru/upload/resize_cache/iblock/6de/728_400_2/img_127714f6.jpg-------------\n",
      "-------------PAGE </msk/detailed/restaurants/durdin_m/> PARSING-------------\n",
      "Delay 3 s.\n",
      "-------------«Ив. Дурдинъ» --------------\n",
      "-------------.ru/upload/resize_cache/iblock/d21/728_400_2/k97a3659_smallcfb.jpg-------------\n",
      "-------------PAGE </msk/detailed/restaurants/jiest/> PARSING-------------\n",
      "Delay 3 s.\n",
      "-------------Истинным цените-------------\n",
      "-------------.ru/upload/resize_cache/iblock/f5d/728_400_2/1191IMG_6476.jpg-------------\n",
      "-------------PAGE </msk/detailed/restaurants/zolotaya_roshcha/> PARSING-------------\n",
      "Delay 2 s.\n",
      "-------------«Золотая роща» -------------\n",
      "-------------.ru/upload/resize_cache/iblock/c2b/728_400_2/osen_zal2_004_755cb2.jpg-------------\n",
      "-------------PAGE </msk/detailed/restaurants/zarub-rest/> PARSING-------------\n",
      "Delay 2 s.\n",
      "---------------------------\n",
      "-------------.ru/upload/resize_cache/iblock/4c9/728_400_2/k97a2453_web9a1.jpg-------------\n",
      "-------------PAGE </msk/detailed/restaurants/muromec-2009/> PARSING-------------\n",
      "Delay 3 s.\n",
      "-------------Ресторан «Илья -------------\n",
      "-------------.ru/upload/resize_cache/iblock/f73/728_400_2/2f7a9067_2f22.jpg-------------\n",
      "-------------PAGE </msk/detailed/restaurants/imperiya/> PARSING-------------\n",
      "Delay 4 s.\n",
      "-------------Караоке-бар «Им-------------\n",
      "-------------.ru/upload/resize_cache/iblock/765/728_400_2/1_2_154a77.jpg-------------\n",
      "-------------PAGE </msk/detailed/restaurants/iveriya/> PARSING-------------\n",
      "Delay 2 s.\n",
      "-------------Ресторан «Ивери-------------\n",
      "-------------.ru/upload/resize_cache/iblock/d15/728_400_2/img_2483_2c10.jpg-------------\n",
      "-------------PAGE </msk/detailed/restaurants/zolotaya_bukhara/> PARSING-------------\n",
      "Delay 3 s.\n",
      "-------------Ресторан «Золот-------------\n",
      "-------------.ru/upload/resize_cache/iblock/350/728_400_2/zal_2_3622b6.jpg-------------\n",
      "-------------PAGE </msk/detailed/restaurants/improvizatsiya/> PARSING-------------\n",
      "Delay 2 s.\n",
      "-------------Ресторан «Импро-------------\n",
      "-------------.ru/upload/resize_cache/iblock/ff7/728_400_2/image_28_01_16_03_04_1ced.jpg-------------\n",
      "-------------PAGE </msk/detailed/restaurants/zarayskiy-dvorik/> PARSING-------------\n",
      "Delay 4 s.\n",
      "---------------------------\n",
      "-------------.ru/upload/resize_cache/iblock/3c0/728_400_2/dsc_1253_2c96.jpg-------------\n",
      "-------------PAGE </msk/detailed/restaurants/inzhir/> PARSING-------------\n",
      "Delay 4 s.\n",
      "-------------Новая чайхана «-------------\n",
      "-------------.ru/upload/resize_cache/iblock/843/728_400_2/k97a0527_smallb68.jpg-------------\n",
      "-------------PAGE </msk/detailed/restaurants/chaykhana-inzhir/> PARSING-------------\n",
      "Delay 2 s.\n"
     ]
    },
    {
     "name": "stdout",
     "output_type": "stream",
     "text": [
      "-------------Чайхона «Инжир»-------------\n",
      "-------------.ru/upload/resize_cache/iblock/e4f/728_400_2/k97a9033_smallcb7.jpg-------------\n",
      "-------------PAGE </msk/detailed/restaurants/zimniy-sad/> PARSING-------------\n",
      "Delay 2 s.\n",
      "-------------Ресторан «Зимни-------------\n",
      "-------------.ru/upload/resize_cache/iblock/cbb/728_400_2/zal_0070b3.jpg-------------\n",
      "-------------PAGE </msk/detailed/restaurants/tszintan/> PARSING-------------\n",
      "Delay 2 s.\n",
      "---------------------------\n",
      "-------------.ru/upload/resize_cache/iblock/1b6/728_400_2/kontaktyib90.jpg-------------\n",
      "-------------PAGE </msk/detailed/restaurants/imperator-holl/> PARSING-------------\n",
      "Delay 4 s.\n",
      "-------------«Император Холл-------------\n",
      "-------------.ru/upload/resize_cache/iblock/144/728_400_2/foto2d3c.jpg-------------\n",
      "-------------PAGE </msk/detailed/restaurants/zolotaya-vobla-sokolniki/> PARSING-------------\n",
      "Delay 2 s.\n",
      "---------------------------\n",
      "-------------.ru/upload/resize_cache/iblock/3d2/728_400_2/35012928.jpg-------------\n",
      "-------------PAGE </msk/detailed/restaurants/zolotaya-vobla-pokrovka/> PARSING-------------\n",
      "Delay 4 s.\n",
      "---------------------------\n",
      "-------------.ru/upload/resize_cache/iblock/7d7/728_400_2/zolotaya_vobla_zr2584.jpg-------------\n",
      "-------------PAGE </msk/detailed/restaurants/zolotaya-vobla-marksistskaya/> PARSING-------------\n",
      "Delay 2 s.\n",
      "---------------------------\n",
      "-------------.ru/upload/resize_cache/iblock/52b/728_400_2/2642572e.jpg-------------\n",
      "-------------PAGE </msk/detailed/restaurants/zolotaya-vobla-sushchevskiy/> PARSING-------------\n",
      "Delay 3 s.\n",
      "---------------------------\n",
      "-------------.ru/upload/resize_cache/iblock/7bf/728_400_2/4551046f.jpg-------------\n",
      "-------------PAGE </msk/detailed/restaurants/zolotaya-vobla-set/> PARSING-------------\n",
      "Delay 4 s.\n",
      "-------------Сеть баров «Зол-------------\n",
      "--------------------------\n",
      "-------------PAGE </msk/detailed/restaurants/ilya-muromets-leninskiy/> PARSING-------------\n",
      "Delay 2 s.\n",
      "-------------Если вы являете-------------\n",
      "-------------.ru/upload/resize_cache/iblock/f4f/728_400_2/4884707e8.jpeg-------------\n",
      "-------------PAGE </msk/detailed/restaurants/izmaylovskiy/> PARSING-------------\n",
      "Delay 4 s.\n",
      "-------------Ресторан «Измай-------------\n",
      "-------------.ru/upload/resize_cache/iblock/e96/728_400_2/23825617_2124156307600528_1531225058_o3f3.jpg-------------\n",
      "-------------PAGE </msk/detailed/restaurants/italyanets/> PARSING-------------\n",
      "Delay 2 s.\n",
      "-------------Классический ре-------------\n",
      "-------------.ru/upload/resize_cache/iblock/981/728_400_2/dsc00184_copy6c6.jpg-------------\n",
      "-------------PAGE </msk/detailed/restaurants/traktir_ippolit/> PARSING-------------\n",
      "Delay 2 s.\n",
      "-------------Уютные посиделк-------------\n",
      "-------------.ru/upload/resize_cache/iblock/4f7/728_400_2/nik_2864aa8.jpg-------------\n",
      "-------------PAGE </msk/detailed/restaurants/mamoonia/> PARSING-------------\n",
      "Delay 4 s.\n",
      "-------------MAMOONIA — модн-------------\n",
      "-------------.ru/upload/resize_cache/iblock/f24/728_400_2/k97a5926_small406.jpg-------------\n",
      "-------------PAGE </msk/detailed/restaurants/kadrilkaraoke/> PARSING-------------\n",
      "Delay 4 s.\n",
      "---------------------------\n",
      "-------------.ru/upload/resize_cache/iblock/e5d/728_400_2/kadril_4108.jpg-------------\n",
      "-------------PAGE </msk/detailed/restaurants/smoke_lounge_spasskaya/> PARSING-------------\n",
      "Delay 3 s.\n",
      "-------------Ресторан «Калья-------------\n",
      "-------------.ru/upload/resize_cache/iblock/6fc/728_400_2/132_2c9a.jpg-------------\n",
      "-------------PAGE </msk/detailed/restaurants/smoke_lounge_varshavka/> PARSING-------------\n",
      "Delay 3 s.\n",
      "-------------Ресторан «Калья-------------\n",
      "-------------.ru/upload/resize_cache/iblock/75a/728_400_2/img_4462_2c85.jpg-------------\n",
      "-------------PAGE </msk/detailed/restaurants/smoke_lounge_bronnaya/> PARSING-------------\n",
      "Delay 3 s.\n",
      "-------------Ресторан «Калья-------------\n",
      "-------------.ru/upload/resize_cache/iblock/cd8/728_400_2/1_2a73.jpg-------------\n",
      "-------------PAGE </msk/detailed/restaurants/smoke_lounge_yakimanka/> PARSING-------------\n",
      "Delay 2 s.\n",
      "-------------Ресторан «Калья-------------\n",
      "-------------.ru/upload/resize_cache/iblock/d33/728_400_2/35_21e8.jpg-------------\n",
      "-------------PAGE </msk/detailed/restaurants/im_smoking/> PARSING-------------\n",
      "Delay 3 s.\n",
      "-------------Ресторан «Калья-------------\n",
      "-------------.ru/upload/resize_cache/iblock/2a2/728_400_2/img_2304_37_2cb9.jpg-------------\n",
      "-------------PAGE </msk/detailed/restaurants/irishman/> PARSING-------------\n",
      "Delay 3 s.\n",
      "-------------Паб «Ирландец» -------------\n",
      "-------------.ru/upload/resize_cache/iblock/462/728_400_2/36611ec2f23183d302667083554e386c_1_2363.jpg-------------\n",
      "-------------PAGE </msk/detailed/restaurants/smoke_lounge/> PARSING-------------\n",
      "Delay 2 s.\n",
      "-------------Сеть ресторанов-------------\n",
      "--------------------------\n",
      "-------------PAGE </msk/detailed/restaurants/yorkshir/> PARSING-------------\n",
      "Delay 3 s.\n",
      "-------------Паб «Йоркшир» в-------------\n",
      "-------------.ru/upload/resize_cache/iblock/d09/728_400_2/img_20160518_124223_2ddf.jpg-------------\n",
      "-------------PAGE </msk/detailed/restaurants/kampa_kafe/> PARSING-------------\n",
      "Delay 4 s.\n",
      "---------------------------\n",
      "-------------.ru/upload/resize_cache/iblock/392/728_400_2/ioyl3rvahkaf40.jpg-------------\n",
      "-------------PAGE </msk/detailed/restaurants/kabanchic/> PARSING-------------\n",
      "Delay 2 s.\n",
      "---------------------------\n",
      "-------------.ru/upload/resize_cache/iblock/145/728_400_2/6r4c9560df7.jpg-------------\n",
      "-------------PAGE </msk/detailed/restaurants/mamoonia_na_taganke/> PARSING-------------\n",
      "Delay 4 s.\n",
      "-------------Кальянная MAMOO-------------\n",
      "-------------.ru/upload/resize_cache/iblock/e4b/728_400_2/k97a7597_smallbd8.jpg-------------\n",
      "-------------PAGE </msk/detailed/restaurants/kabinet-dmitrovka/> PARSING-------------\n",
      "Delay 4 s.\n",
      "-------------Ресторан «Кабин-------------\n",
      "-------------.ru/upload/resize_cache/iblock/99d/728_400_2/1_21e7.jpg-------------\n",
      "-------------PAGE </msk/detailed/restaurants/kinza-pokrovka/> PARSING-------------\n",
      "Delay 2 s.\n",
      "---------------------------\n",
      "-------------.ru/upload/resize_cache/iblock/3c7/728_400_2/4_598e81.jpg-------------\n",
      "-------------PAGE </msk/detailed/restaurants/italyantsy-v-rossii/> PARSING-------------\n",
      "Delay 4 s.\n",
      "-------------«Итальянцы в Ро-------------\n",
      "-------------.ru/upload/resize_cache/iblock/a28/728_400_2/vip2_2b9a.jpg-------------\n",
      "-------------PAGE </msk/detailed/restaurants/kavdvor/> PARSING-------------\n",
      "Delay 3 s.\n",
      "-------------«Кавказский дво-------------\n",
      "-------------.ru/upload/resize_cache/iblock/a96/728_400_2/img_4417837.jpg-------------\n",
      "-------------PAGE </msk/detailed/restaurants/cafe_campus/> PARSING-------------\n",
      "Delay 3 s.\n",
      "-------------Окунуться в атм-------------\n",
      "-------------.ru/upload/resize_cache/iblock/9d4/728_400_2/foto_001.jpg-------------\n",
      "-------------PAGE </msk/detailed/restaurants/kafetery_1/> PARSING-------------\n",
      "Delay 3 s.\n",
      "-------------Место для полно-------------\n",
      "-------------.ru/upload/resize_cache/iblock/d0a/728_400_2/kafetery_1.jpg-------------\n",
      "-------------PAGE </msk/detailed/restaurants/chinagramota/> PARSING-------------\n",
      "Delay 4 s.\n",
      "-------------«Китайская грам-------------\n",
      "-------------.ru/upload/resize_cache/iblock/134/728_400_2/1img_7854b99.jpg-------------\n",
      "-------------PAGE </msk/detailed/restaurants/kafe123/> PARSING-------------\n",
      "Delay 4 s.\n",
      "-------------Просторный уютн-------------\n",
      "-------------.ru/upload/resize_cache/iblock/9e6/728_400_2/k97a8284_web739.jpg-------------\n",
      "-------------PAGE </msk/detailed/restaurants/kovcheg/> PARSING-------------\n",
      "Delay 2 s.\n",
      "---------------------------\n",
      "-------------.ru/upload/resize_cache/iblock/c6e/728_400_2/mg_9148027.jpg-------------\n",
      "-------------PAGE </msk/detailed/restaurants/cafe-kare/> PARSING-------------\n",
      "Delay 3 s.\n",
      "---------------------------\n",
      "-------------.ru/upload/resize_cache/iblock/c5e/728_400_2/cafe_kare_7_bca9.jpg-------------\n",
      "-------------PAGE </msk/detailed/restaurants/cafe_15/> PARSING-------------\n",
      "Delay 3 s.\n",
      "---------------------------\n",
      "-------------.ru/upload/resize_cache/iblock/01a/728_400_2/001_29ea.jpg-------------\n",
      "-------------PAGE </msk/detailed/restaurants/chinagramota_barvikha/> PARSING-------------\n",
      "Delay 2 s.\n",
      "-------------Ресторан «Китай-------------\n",
      "-------------.ru/upload/resize_cache/iblock/686/728_400_2/img_7558_2cd8.jpg-------------\n",
      "-------------PAGE </msk/detailed/restaurants/kasha_malasha/> PARSING-------------\n",
      "Delay 4 s.\n"
     ]
    },
    {
     "name": "stdout",
     "output_type": "stream",
     "text": [
      "---------------------------\n",
      "-------------.ru/upload/resize_cache/iblock/438/728_400_2/dsc_0049_275e.jpg-------------\n",
      "-------------PAGE </msk/detailed/restaurants/kvartira7/> PARSING-------------\n",
      "Delay 4 s.\n",
      "-------------Кафе «Квартира -------------\n",
      "-------------.ru/upload/resize_cache/iblock/55d/728_400_2/ndqxev62i_wtkprhtrwzlisnjscvgztej3fdcc_frcda2.jpg-------------\n",
      "-------------PAGE </msk/detailed/restaurants/klukva/> PARSING-------------\n",
      "Delay 3 s.\n",
      "-------------Ресторан «Клюкв-------------\n",
      "-------------.ru/upload/resize_cache/iblock/f16/728_400_2/10_2_761bce.jpg-------------\n",
      "-------------PAGE </msk/detailed/restaurants/cafe35/> PARSING-------------\n",
      "Delay 4 s.\n",
      "---------------------------\n",
      "-------------.ru/upload/resize_cache/iblock/867/728_400_2/12_230c.jpg-------------\n",
      "-------------PAGE </msk/detailed/restaurants/kantim/> PARSING-------------\n",
      "Delay 3 s.\n",
      "---------------------------\n",
      "-------------.ru/upload/resize_cache/iblock/266/728_400_2/73411024x6831346831920136.jpg-------------\n",
      "-------------PAGE </msk/detailed/restaurants/kapitan_konrad/> PARSING-------------\n",
      "Delay 4 s.\n",
      "---------------------------\n",
      "-------------.ru/upload/resize_cache/iblock/1c3/728_400_2/tv_ts_ta_0043a3.jpg-------------\n",
      "-------------PAGE </msk/detailed/restaurants/kobzar/> PARSING-------------\n",
      "Delay 2 s.\n",
      "---------------------------\n",
      "-------------.ru/upload/resize_cache/iblock/0a4/728_400_2/k97a9451_small3ba.jpg-------------\n",
      "-------------PAGE </msk/detailed/restaurants/karavan_one/> PARSING-------------\n",
      "Delay 2 s.\n",
      "---------------------------\n",
      "-------------.ru/upload/resize_cache/iblock/0b0/728_400_2/h290e54.jpg-------------\n",
      "-------------PAGE </msk/detailed/restaurants/kvartira-5/> PARSING-------------\n",
      "Delay 3 s.\n",
      "---------------------------\n",
      "-------------.ru/upload/resize_cache/iblock/db3/728_400_2/dsc_01704e5.jpg-------------\n",
      "-------------PAGE </msk/detailed/restaurants/kd/> PARSING-------------\n",
      "Delay 2 s.\n",
      "-------------Ресторан «Княжи-------------\n",
      "-------------.ru/upload/resize_cache/iblock/d15/728_400_2/dsc_0613_2db3.jpg-------------\n",
      "-------------PAGE </msk/detailed/restaurants/knr/> PARSING-------------\n",
      "Delay 2 s.\n",
      "---------------------------\n",
      "-------------.ru/upload/resize_cache/iblock/178/728_400_2/dsc_0545_25b3.jpg-------------\n",
      "-------------PAGE </msk/detailed/restaurants/kvartal/> PARSING-------------\n",
      "Delay 3 s.\n",
      "---------------------------\n",
      "-------------.ru/upload/resize_cache/iblock/ee1/728_400_2/ppl_vrpk1833_2955.jpg-------------\n",
      "-------------PAGE </msk/detailed/restaurants/cafepushkin/> PARSING-------------\n",
      "Delay 2 s.\n",
      "-------------«Кафе Пушкинъ» -------------\n",
      "-------------.ru/upload/resize_cache/iblock/6f2/728_400_2/0_7c4a8_3b5865c8_xl.jpg-------------\n",
      "-------------PAGE </msk/detailed/restaurants/chaykhana_kollektsiya/> PARSING-------------\n",
      "Delay 3 s.\n",
      "-------------Особенности кон-------------\n",
      "-------------.ru/upload/resize_cache/iblock/251/728_400_2/kollekciya_7_2b28.jpg-------------\n",
      "-------------PAGE </msk/detailed/restaurants/kolchuga/> PARSING-------------\n",
      "Delay 4 s.\n",
      "---------------------------\n",
      "-------------.ru/upload/resize_cache/iblock/23e/728_400_2/1539_foto3.jpg-------------\n",
      "-------------PAGE </msk/detailed/restaurants/kot-che/> PARSING-------------\n",
      "Delay 2 s.\n",
      "---------------------------\n",
      "-------------.ru/upload/resize_cache/iblock/f6e/728_400_2/k97a9714_small8ad.jpg-------------\n",
      "-------------PAGE </msk/detailed/restaurants/cop-team/> PARSING-------------\n",
      "Delay 2 s.\n",
      "---------------------------\n",
      "-------------.ru/upload/resize_cache/iblock/711/728_400_2/1902.jpg-------------\n",
      "-------------PAGE </msk/detailed/restaurants/wheel_of_time/> PARSING-------------\n",
      "Delay 3 s.\n",
      "-------------Ресторан «Колес-------------\n",
      "-------------.ru/upload/resize_cache/iblock/49f/728_400_2/8i8a77301_25b5.jpg-------------\n",
      "-------------PAGE </msk/detailed/restaurants/komyzhithorosho/> PARSING-------------\n",
      "Delay 4 s.\n",
      "-------------В ресторан «Ком-------------\n",
      "-------------.ru/upload/resize_cache/iblock/2c9/728_400_2/zal1_009_25744b.jpg-------------\n",
      "-------------PAGE </msk/detailed/restaurants/costante/> PARSING-------------\n",
      "Delay 4 s.\n",
      "---------------------------\n",
      "--------------------------\n",
      "-------------PAGE </msk/detailed/restaurants/taras_bulba_pyatnitskaya/> PARSING-------------\n",
      "Delay 3 s.\n",
      "-------------Ресторан «Тарас-------------\n",
      "-------------.ru/upload/resize_cache/iblock/687/728_400_2/img_3805_6_7_25a8.jpg-------------\n",
      "-------------PAGE </msk/detailed/restaurants/korchma_taras_bulba_borovskoe/> PARSING-------------\n",
      "Delay 3 s.\n",
      "-------------Если вы хотите -------------\n",
      "-------------.ru/upload/resize_cache/iblock/e2b/728_400_2/18732_12c9.jpg-------------\n",
      "-------------PAGE </msk/detailed/restaurants/taras_bulba_lyublinskaya/> PARSING-------------\n",
      "Delay 4 s.\n",
      "-------------Ресторан «Тарас-------------\n",
      "-------------.ru/upload/resize_cache/iblock/555/728_400_2/dscn17444b7.jpg-------------\n",
      "-------------PAGE </msk/detailed/restaurants/taras_bulba_leninskiy/> PARSING-------------\n",
      "Delay 4 s.\n",
      "-------------Если вы давно х-------------\n",
      "-------------.ru/upload/resize_cache/iblock/57a/728_400_2/20987557_dsc_2615jpg_2925.jpg-------------\n",
      "-------------PAGE </msk/detailed/restaurants/taras_bulba_shmitovskiy/> PARSING-------------\n",
      "Delay 3 s.\n",
      "-------------Ресторан «Тарас-------------\n",
      "-------------.ru/upload/resize_cache/iblock/96b/728_400_2/restoran_korchma_taras_bulba_v_shmitovskom_proezde_8adf5_full_45870_295d.jpg-------------\n",
      "-------------PAGE </msk/detailed/restaurants/taras_bulba_sm/> PARSING-------------\n",
      "Delay 4 s.\n",
      "-------------Ярким представи-------------\n",
      "-------------.ru/upload/resize_cache/iblock/1e6/728_400_2/img_4805101.jpg-------------\n",
      "-------------PAGE </msk/detailed/restaurants/korchma_taras_bulbap/> PARSING-------------\n",
      "Delay 4 s.\n",
      "-------------Ресторан «Тарас-------------\n",
      "-------------.ru/upload/resize_cache/iblock/617/728_400_2/0_1bd3d3_4a7aabf1_xxl9d2.jpg-------------\n",
      "-------------PAGE </msk/detailed/restaurants/taras_bulba_na_bochkovoy/> PARSING-------------\n",
      "Delay 3 s.\n",
      "---------------------------\n",
      "-------------.ru/upload/resize_cache/iblock/ff5/728_400_2/6927_2208.jpg-------------\n",
      "-------------PAGE </msk/detailed/restaurants/kolkhi/> PARSING-------------\n",
      "Delay 3 s.\n",
      "-------------Вот уже пятьлет-------------\n",
      "-------------.ru/upload/resize_cache/iblock/0b7/728_400_2/zal1_003_731b96.jpg-------------\n",
      "-------------PAGE </msk/detailed/restaurants/korchma-taras-bulba-leningradskiy/> PARSING-------------\n",
      "Delay 4 s.\n",
      "-------------Ресторан«Корчма-------------\n",
      "-------------.ru/upload/resize_cache/iblock/401/728_400_2/imag14015e1.jpg-------------\n",
      "-------------PAGE </msk/detailed/restaurants/korchma-kazachya/> PARSING-------------\n",
      "Delay 2 s.\n",
      "-------------Ресторан «Корчм-------------\n",
      "-------------.ru/upload/resize_cache/iblock/c0b/728_400_2/5kr_22c9.jpg-------------\n",
      "-------------PAGE </msk/detailed/restaurants/khizhina-vdnkh/> PARSING-------------\n",
      "Delay 4 s.\n",
      "---------------------------\n",
      "-------------.ru/upload/resize_cache/iblock/9dd/728_400_2/d695a3ff1fa6b2daf1ecf0c794f3e164_originaled8.jpg-------------\n",
      "-------------PAGE </msk/detailed/restaurants/lastochka/> PARSING-------------\n",
      "Delay 3 s.\n",
      "-------------Двухпалубный те-------------\n",
      "-------------.ru/upload/resize_cache/iblock/f62/728_400_2/lastochka_001bb3.jpg-------------\n",
      "-------------PAGE </msk/detailed/restaurants/kutuzov/> PARSING-------------\n",
      "Delay 4 s.\n",
      "-------------Ресторан «Кутуз-------------\n",
      "-------------.ru/upload/resize_cache/iblock/555/728_400_2/2_2165fd.jpg-------------\n",
      "-------------PAGE </msk/detailed/restaurants/christian/> PARSING-------------\n",
      "Delay 2 s.\n",
      "-------------Двухэтажный рес-------------\n",
      "-------------.ru/upload/resize_cache/iblock/6b1/728_400_2/img_39327fd.jpg-------------\n",
      "-------------PAGE </msk/detailed/restaurants/laguna/> PARSING-------------\n",
      "Delay 4 s.\n",
      "-------------Ресторан «Лагун-------------\n",
      "-------------.ru/upload/resize_cache/iblock/5c1/728_400_2/img_38143b9.jpg-------------\n",
      "-------------PAGE </msk/detailed/restaurants/kyzminki/> PARSING-------------\n",
      "Delay 3 s.\n",
      "-------------Ресторан «Кузьм-------------\n",
      "-------------.ru/upload/resize_cache/iblock/673/728_400_2/2_5136c.jpg-------------\n",
      "-------------PAGE </msk/detailed/restaurants/kuskovo/> PARSING-------------\n",
      "Delay 3 s.\n",
      "---------------------------\n",
      "-------------.ru/upload/resize_cache/iblock/0a2/728_400_2/ed8c777bc3059236e08eabc4b02caa28386.jpg-------------\n",
      "-------------PAGE </msk/detailed/restaurants/lav/> PARSING-------------\n",
      "Delay 4 s.\n"
     ]
    },
    {
     "name": "stdout",
     "output_type": "stream",
     "text": [
      "-------------В живописном уг-------------\n",
      "-------------.ru/upload/resize_cache/iblock/514/728_400_2/lav_2.jpg-------------\n",
      "-------------PAGE </msk/detailed/restaurants/kranzler/> PARSING-------------\n",
      "Delay 3 s.\n",
      "---------------------------\n",
      "-------------.ru/upload/resize_cache/iblock/998/728_400_2/0000797872_2817.jpg-------------\n",
      "-------------PAGE </msk/detailed/restaurants/krem-cafe/> PARSING-------------\n",
      "Delay 2 s.\n",
      "-------------«Крем кафе» - к-------------\n",
      "-------------.ru/upload/resize_cache/iblock/74d/728_400_2/k97a0012_web083.jpg-------------\n",
      "-------------PAGE </msk/detailed/restaurants/laguna_rest/> PARSING-------------\n",
      "Delay 4 s.\n",
      "-------------Ресторан «Лагун-------------\n",
      "-------------.ru/upload/resize_cache/iblock/d27/728_400_2/img_1901f0c.jpg-------------\n",
      "-------------PAGE </msk/detailed/restaurants/coffeetime/> PARSING-------------\n",
      "Delay 3 s.\n",
      "-------------Кафе-бар «Кофе -------------\n",
      "-------------.ru/upload/resize_cache/iblock/416/728_400_2/kofe_taym_2a45.jpg-------------\n",
      "-------------PAGE </msk/detailed/restaurants/kura_kantemirovskaya/> PARSING-------------\n",
      "Delay 3 s.\n",
      "---------------------------\n",
      "-------------.ru/upload/resize_cache/iblock/1f2/728_400_2/dsc_0007_2433.jpg-------------\n",
      "-------------PAGE </msk/detailed/restaurants/krab_pab/> PARSING-------------\n",
      "Delay 4 s.\n",
      "---------------------------\n",
      "-------------.ru/upload/resize_cache/iblock/5ee/728_400_2/dsc_8807_2034.jpg-------------\n",
      "-------------PAGE </msk/detailed/restaurants/kulinar_1/> PARSING-------------\n",
      "Delay 3 s.\n",
      "---------------------------\n",
      "-------------.ru/upload/resize_cache/iblock/d20/728_400_2/dsc_0808c1c.jpg-------------\n",
      "-------------PAGE </msk/detailed/restaurants/kotleta/> PARSING-------------\n",
      "Delay 4 s.\n",
      "---------------------------\n",
      "-------------.ru/upload/resize_cache/iblock/472/728_400_2/dsc_0023795.jpg-------------\n",
      "-------------PAGE </msk/detailed/restaurants/landrin-cafe/> PARSING-------------\n",
      "Delay 4 s.\n",
      "-------------Несколько шагов-------------\n",
      "-------------.ru/upload/resize_cache/iblock/7e3/728_400_2/zal_001321.jpg-------------\n",
      "-------------PAGE </msk/detailed/restaurants/laundzh-bar-ray/> PARSING-------------\n",
      "Delay 4 s.\n",
      "-------------Лаундж-бар «Рай-------------\n",
      "-------------.ru/upload/resize_cache/iblock/7b1/728_400_2/img_6001f9c.jpg-------------\n",
      "-------------PAGE </msk/detailed/restaurants/lakada/> PARSING-------------\n",
      "Delay 3 s.\n",
      "-------------При заказе свад-------------\n",
      "-------------.ru/upload/resize_cache/iblock/103/728_400_2/mg_5214_1.jpg-------------\n",
      "-------------PAGE </msk/detailed/restaurants/kuraga/> PARSING-------------\n",
      "Delay 3 s.\n",
      "-------------При заказе свад-------------\n",
      "-------------.ru/upload/resize_cache/iblock/d85/728_400_2/k97a4959_web673.jpg-------------\n",
      "-------------PAGE </msk/detailed/restaurants/kuvshin/> PARSING-------------\n",
      "Delay 2 s.\n",
      "-------------Знакомьтесь с н-------------\n",
      "-------------.ru/upload/resize_cache/iblock/0e8/728_400_2/img_2543f5d.jpg-------------\n",
      "-------------PAGE </msk/detailed/restaurants/lodka/> PARSING-------------\n",
      "Delay 3 s.\n",
      "-------------Респектабельный-------------\n",
      "-------------.ru/upload/resize_cache/iblock/1cc/728_400_2/63a1.jpg-------------\n",
      "-------------PAGE </msk/detailed/restaurants/mario/> PARSING-------------\n",
      "Delay 4 s.\n",
      "-------------В духе солнечно-------------\n",
      "-------------.ru/upload/resize_cache/iblock/a9b/728_400_2/zal_4924b0.jpg-------------\n",
      "-------------PAGE </msk/detailed/restaurants/leyka/> PARSING-------------\n",
      "Delay 2 s.\n",
      "-------------Ресторан «Лейка-------------\n",
      "-------------.ru/upload/resize_cache/iblock/802/728_400_2/dsc_7671e97.jpg-------------\n",
      "-------------PAGE </msk/detailed/restaurants/lyubimii-gorod/> PARSING-------------\n",
      "Delay 2 s.\n",
      "-------------«Любимый город»-------------\n",
      "-------------.ru/upload/resize_cache/iblock/efb/728_400_2/foto_001dae.jpg-------------\n",
      "-------------PAGE </msk/detailed/restaurants/lubitporusski/> PARSING-------------\n",
      "Delay 2 s.\n",
      "-------------Ресторан «Любит-------------\n",
      "-------------.ru/upload/resize_cache/iblock/ec5/728_400_2/lubit_po_russki_2_128_1_2937.jpg-------------\n",
      "-------------PAGE </msk/detailed/restaurants/luk-cafe/> PARSING-------------\n",
      "Delay 4 s.\n",
      "-------------Ресторан «Лук К-------------\n",
      "-------------.ru/upload/resize_cache/iblock/a17/728_400_2/img_96988cf.jpg-------------\n",
      "-------------PAGE </msk/detailed/restaurants/listok/> PARSING-------------\n",
      "Delay 4 s.\n",
      "---------------------------\n",
      "-------------.ru/upload/resize_cache/iblock/0b2/728_400_2/mg_5047_1.jpg-------------\n",
      "-------------PAGE </msk/detailed/restaurants/lusnar_rest/> PARSING-------------\n",
      "Delay 3 s.\n",
      "-------------Ресторан «Лусна-------------\n",
      "-------------.ru/upload/resize_cache/iblock/169/728_400_2/imgp5538_enfuse528.jpg-------------\n",
      "-------------PAGE </msk/detailed/restaurants/len/> PARSING-------------\n",
      "Delay 3 s.\n",
      "-------------Ресторан «Лен» -------------\n",
      "-------------.ru/upload/resize_cache/iblock/11d/728_400_2/9ec42c56c6d948bfad735a9301979eb6_2aad.jpg-------------\n",
      "-------------PAGE </msk/detailed/restaurants/lica/> PARSING-------------\n",
      "Delay 4 s.\n",
      "-------------Уютное кафе рас-------------\n",
      "-------------.ru/upload/resize_cache/iblock/a3d/728_400_2/49_2564.jpg-------------\n",
      "-------------PAGE </msk/detailed/restaurants/london_grill/> PARSING-------------\n",
      "Delay 4 s.\n",
      "-------------Ресторан «Лондо-------------\n",
      "-------------.ru/upload/resize_cache/iblock/9cc/728_400_2/dscn0999_26df.jpg-------------\n",
      "-------------PAGE </msk/detailed/restaurants/liman_vlasova/> PARSING-------------\n",
      "Delay 3 s.\n",
      "---------------------------\n",
      "-------------.ru/upload/resize_cache/iblock/50c/728_400_2/03_26de.jpg-------------\n",
      "-------------PAGE </msk/detailed/restaurants/lyubimaya-pitstsa/> PARSING-------------\n",
      "Delay 4 s.\n",
      "---------------------------\n",
      "-------------.ru/upload/resize_cache/iblock/cbf/728_400_2/dsc_0115_2f6c.jpg-------------\n",
      "-------------PAGE </msk/detailed/restaurants/lunnaya-noch/> PARSING-------------\n",
      "Delay 4 s.\n",
      "---------------------------\n",
      "-------------.ru/upload/resize_cache/iblock/ad6/728_400_2/16_2275.jpg-------------\n",
      "-------------PAGE </msk/detailed/restaurants/mandarin/> PARSING-------------\n",
      "Delay 2 s.\n",
      "---------------------------\n",
      "-------------.ru/upload/resize_cache/iblock/a59/728_400_2/dsc_0345_24a9.jpg-------------\n",
      "-------------PAGE </msk/detailed/restaurants/lermontov/> PARSING-------------\n",
      "Delay 4 s.\n",
      "---------------------------\n",
      "-------------.ru/upload/resize_cache/iblock/e7b/728_400_2/img_102665c.jpg-------------\n",
      "-------------PAGE </msk/detailed/restaurants/loft-osobnyak-palati/> PARSING-------------\n",
      "Delay 4 s.\n",
      "-------------«Лофт Особняк П-------------\n",
      "-------------.ru/upload/resize_cache/iblock/8d2/728_400_2/zal_6_2a19.jpg-------------\n",
      "-------------PAGE </msk/detailed/restaurants/mama-gochi/> PARSING-------------\n",
      "Delay 4 s.\n",
      "-------------Грузинская кухн-------------\n",
      "-------------.ru/upload/resize_cache/iblock/b51/728_400_2/zal1_001_601f40.jpg-------------\n",
      "-------------PAGE </msk/detailed/restaurants/liga/> PARSING-------------\n",
      "Delay 2 s.\n",
      "-------------Расположенный н-------------\n",
      "-------------.ru/upload/iblock/fe0/_vid1_262d38.jpg-------------\n",
      "-------------PAGE </msk/detailed/restaurants/limoncino/> PARSING-------------\n",
      "Delay 4 s.\n",
      "---------------------------\n",
      "-------------.ru/upload/resize_cache/iblock/b03/728_400_2/img_79240ec.jpg-------------\n",
      "-------------PAGE </msk/detailed/restaurants/maestro_dubininskaya/> PARSING-------------\n",
      "Delay 4 s.\n",
      "-------------Роскошный азерб-------------\n",
      "-------------.ru/upload/resize_cache/iblock/77a/728_400_2/71a03991_25b9.jpg-------------\n",
      "-------------PAGE </msk/detailed/restaurants/matsoni/> PARSING-------------\n",
      "Delay 2 s.\n",
      "-------------Кафе «Мацони» --------------\n",
      "-------------.ru/upload/resize_cache/iblock/cb4/728_400_2/zal1_001_619e30.jpg-------------\n",
      "-------------PAGE </msk/detailed/restaurants/welmaster/> PARSING-------------\n",
      "Delay 2 s.\n",
      "-------------Ресторан Master-------------\n",
      "-------------.ru/upload/resize_cache/iblock/804/728_400_2/k97a1159_smallbe4.jpg-------------\n",
      "-------------PAGE </msk/detailed/restaurants/maestro2/> PARSING-------------\n",
      "Delay 3 s.\n",
      "-------------Ресторан «Маэст-------------\n",
      "-------------.ru/upload/resize_cache/iblock/5fa/728_400_2/guryanova_zal1_004748.jpg-------------\n",
      "-------------PAGE </msk/detailed/restaurants/hinkalnaya_chichilaki/> PARSING-------------\n",
      "Delay 2 s.\n"
     ]
    },
    {
     "name": "stdout",
     "output_type": "stream",
     "text": [
      "-------------Ресторан «Мегре-------------\n",
      "-------------.ru/upload/resize_cache/iblock/5f8/728_400_2/12998270_698040073667509_5330242688745450382_o_2f06.jpg-------------\n",
      "-------------PAGE </msk/detailed/restaurants/matsoni_rest/> PARSING-------------\n",
      "Delay 2 s.\n",
      "-------------Смотрите также:-------------\n",
      "-------------.ru/upload/resize_cache/iblock/4da/728_400_2/suharevskaya_zal_001824.jpg-------------\n",
      "-------------PAGE </msk/detailed/restaurants/maestro_ul_profsoyuznaya/> PARSING-------------\n",
      "Delay 2 s.\n",
      "---------------------------\n",
      "-------------.ru/upload/resize_cache/iblock/22a/728_400_2/img_25809e2.jpg-------------\n",
      "-------------PAGE </msk/detailed/restaurants/marsala/> PARSING-------------\n",
      "Delay 3 s.\n",
      "---------------------------\n",
      "-------------.ru/upload/resize_cache/iblock/8ae/728_400_2/dsc_8857_29c3.jpg-------------\n",
      "-------------PAGE </msk/detailed/restaurants/mendeleev_bar/> PARSING-------------\n",
      "Delay 4 s.\n",
      "-------------Бар «Менделеев»-------------\n",
      "-------------.ru/upload/iblock/183/2b0d_large_2b77.jpg-------------\n",
      "-------------PAGE </msk/detailed/restaurants/smoke_lounge_neglinka/> PARSING-------------\n",
      "Delay 4 s.\n",
      "-------------Ресторан «Марра-------------\n",
      "-------------.ru/upload/resize_cache/iblock/c37/728_400_2/smoke_neglinnaya7_248d.jpg-------------\n",
      "-------------PAGE </msk/detailed/restaurants/meridian_chehov/> PARSING-------------\n",
      "Delay 4 s.\n",
      "---------------------------\n",
      "-------------.ru/upload/resize_cache/iblock/db6/728_400_2/dsc0443_2_2f93.jpg-------------\n",
      "-------------PAGE </msk/detailed/restaurants/mersi-erevan/> PARSING-------------\n",
      "Delay 4 s.\n",
      "---------------------------\n",
      "-------------.ru/upload/resize_cache/iblock/e88/728_400_2/17485475.jpg-------------\n",
      "-------------PAGE </msk/detailed/restaurants/melnitsa-budweiser/> PARSING-------------\n",
      "Delay 3 s.\n",
      "-------------«Мельница» Budw-------------\n",
      "-------------.ru/upload/resize_cache/iblock/bda/728_400_2/zal_002_20657e.jpg-------------\n",
      "-------------PAGE </msk/detailed/restaurants/maestro-na-sretenke/> PARSING-------------\n",
      "Delay 2 s.\n",
      "---------------------------\n",
      "-------------.ru/upload/resize_cache/iblock/03c/728_400_2/img_4786_2080.jpg-------------\n",
      "-------------PAGE </msk/detailed/restaurants/maestro-na-arbate/> PARSING-------------\n",
      "Delay 4 s.\n",
      "---------------------------\n",
      "-------------.ru/upload/resize_cache/iblock/501/728_400_2/1_1etx3bom8_2a2a.jpg-------------\n",
      "-------------PAGE </msk/detailed/restaurants/millenium/> PARSING-------------\n",
      "Delay 3 s.\n",
      "---------------------------\n",
      "-------------.ru/upload/resize_cache/iblock/366/728_400_2/millennium_1860.jpg-------------\n",
      "-------------PAGE </msk/detailed/restaurants/matreshka/> PARSING-------------\n",
      "Delay 3 s.\n",
      "-------------Русская кухня в-------------\n",
      "-------------.ru/upload/resize_cache/iblock/e43/728_400_2/zal1_006c67.jpg-------------\n",
      "-------------PAGE </msk/detailed/restaurants/alazanskaya_dolina/> PARSING-------------\n",
      "Delay 2 s.\n",
      "-------------Уютныйресторан -------------\n",
      "-------------.ru/upload/resize_cache/iblock/f64/728_400_2/mg_740524e.jpg-------------\n",
      "-------------PAGE </msk/detailed/restaurants/marcopolo_presnja/> PARSING-------------\n",
      "Delay 3 s.\n",
      "-------------Выбирая рестора-------------\n",
      "-------------.ru/upload/resize_cache/iblock/b4c/728_400_2/dsc_0985_2983.jpg-------------\n",
      "-------------PAGE </msk/detailed/restaurants/cafe_marius/> PARSING-------------\n",
      "Delay 2 s.\n",
      "-------------\"Кафе-Бар-Карао-------------\n",
      "-------------.ru/upload/resize_cache/iblock/e65/728_400_2/veranda_007737.jpg-------------\n",
      "-------------PAGE </msk/detailed/restaurants/moy_gorod/> PARSING-------------\n",
      "Delay 4 s.\n",
      "-------------Ресторан «Мой г-------------\n",
      "-------------.ru/upload/resize_cache/iblock/813/728_400_2/1a56.jpg-------------\n",
      "-------------PAGE </msk/detailed/restaurants/moscafe/> PARSING-------------\n",
      "Delay 3 s.\n",
      "-------------Ресторан «Моска-------------\n",
      "-------------.ru/upload/resize_cache/iblock/9cc/728_400_2/interer8f9.jpg-------------\n",
      "-------------PAGE </msk/detailed/restaurants/mulino/> PARSING-------------\n",
      "Delay 2 s.\n",
      "-------------Ресторан «Мулин-------------\n",
      "-------------.ru/upload/resize_cache/iblock/323/728_400_2/dsc_0961_2ca1.jpg-------------\n",
      "-------------PAGE </msk/detailed/restaurants/mrav/> PARSING-------------\n",
      "Delay 2 s.\n",
      "---------------------------\n",
      "-------------.ru/upload/resize_cache/iblock/3c3/728_400_2/dsc_0323_1_20ca.jpg-------------\n",
      "-------------PAGE </msk/detailed/restaurants/moskovskoe_nebo/> PARSING-------------\n",
      "Delay 3 s.\n",
      "-------------Ресторан «Моско-------------\n",
      "-------------.ru/upload/resize_cache/iblock/6a3/728_400_2/16a9709_26805860361_o2d6.jpg-------------\n",
      "-------------PAGE </msk/detailed/restaurants/mimino_lesnaya/> PARSING-------------\n",
      "Delay 4 s.\n",
      "-------------Ресторан «Мимин-------------\n",
      "-------------.ru/upload/resize_cache/iblock/41b/728_400_2/12c73.jpg-------------\n",
      "-------------PAGE </msk/detailed/restaurants/mokhnatyy_shmel/> PARSING-------------\n",
      "Delay 3 s.\n",
      "-------------Ресторан «Мохна-------------\n",
      "-------------.ru/upload/resize_cache/iblock/89b/728_400_2/gallery_1_1_2bfb.jpg-------------\n",
      "-------------PAGE </msk/detailed/restaurants/mimino_na_novoslobodskoy/> PARSING-------------\n",
      "Delay 2 s.\n",
      "-------------Ресторан «Мимин-------------\n",
      "-------------.ru/upload/resize_cache/iblock/ce0/728_400_2/dsc5647_2768.jpg-------------\n",
      "-------------PAGE </msk/detailed/restaurants/mister_birkin/> PARSING-------------\n",
      "Delay 3 s.\n",
      "---------------------------\n",
      "-------------.ru/upload/resize_cache/iblock/047/728_400_2/newmunchen1_2fef.jpg-------------\n",
      "-------------PAGE </msk/detailed/restaurants/moldova/> PARSING-------------\n",
      "Delay 4 s.\n",
      "-------------Перенестись в с-------------\n",
      "-------------.ru/upload/resize_cache/iblock/c0a/728_400_2/img_2530d02.jpg-------------\n",
      "-------------PAGE </msk/detailed/restaurants/moskalyan_na_arbate/> PARSING-------------\n",
      "Delay 2 s.\n",
      "---------------------------\n",
      "-------------.ru/upload/resize_cache/iblock/1c4/728_400_2/4pkurgrzidw_2c2a.jpg-------------\n",
      "-------------PAGE </msk/detailed/restaurants/molbert_rest/> PARSING-------------\n",
      "Delay 3 s.\n",
      "---------------------------\n",
      "-------------.ru/upload/resize_cache/iblock/7e2/728_400_2/dsc_0811_28f8.jpg-------------\n",
      "-------------PAGE </msk/detailed/restaurants/mona_liza/> PARSING-------------\n",
      "Delay 2 s.\n",
      "---------------------------\n",
      "-------------.ru/upload/resize_cache/iblock/91d/728_400_2/dsc_09040bf.jpg-------------\n",
      "-------------PAGE </msk/detailed/restaurants/mirazh/> PARSING-------------\n",
      "Delay 4 s.\n",
      "-------------Для тех жителей-------------\n",
      "-------------.ru/upload/resize_cache/iblock/689/728_400_2/dsc_0732c61.jpg-------------\n",
      "-------------PAGE </msk/detailed/restaurants/moguchaya-kuchka/> PARSING-------------\n",
      "Delay 3 s.\n",
      "---------------------------\n",
      "-------------.ru/upload/resize_cache/iblock/072/728_400_2/dsc_0142252.jpg-------------\n",
      "-------------PAGE </msk/detailed/restaurants/moreman/> PARSING-------------\n",
      "Delay 3 s.\n",
      "-------------Ресторан «Морем-------------\n",
      "-------------.ru/upload/resize_cache/iblock/676/728_400_2/c4c8885cd2.jpg-------------\n",
      "-------------PAGE </msk/detailed/restaurants/minskaya-10/> PARSING-------------\n",
      "Delay 3 s.\n",
      "---------------------------\n",
      "-------------.ru/upload/resize_cache/iblock/42a/728_400_2/img_3704036.jpg-------------\n",
      "-------------PAGE </msk/detailed/restaurants/montecristo/> PARSING-------------\n",
      "Delay 4 s.\n",
      "-------------Скидка именинни-------------\n",
      "-------------.ru/upload/resize_cache/iblock/341/728_400_2/img_26772d9.jpg-------------\n",
      "-------------PAGE </msk/detailed/restaurants/mugan/> PARSING-------------\n",
      "Delay 3 s.\n",
      "-------------Москва уже давн-------------\n",
      "-------------.ru/upload/resize_cache/iblock/18a/728_400_2/zal_2_376235.jpg-------------\n",
      "-------------PAGE </msk/detailed/restaurants/cafemichel/> PARSING-------------\n",
      "Delay 2 s.\n",
      "-------------Московское кафе-------------\n",
      "-------------.ru/upload/resize_cache/iblock/8d9/728_400_2/782bfasad_001.jpg-------------\n",
      "-------------PAGE </msk/detailed/restaurants/pivovarnya_na_shabolovke/> PARSING-------------\n",
      "Delay 2 s.\n",
      "-------------В центре Москвы-------------\n",
      "-------------.ru/upload/resize_cache/iblock/d8d/728_400_2/img_7830_pano_767adb.jpg-------------\n",
      "-------------PAGE </msk/detailed/restaurants/natakhtari/> PARSING-------------\n",
      "Delay 3 s.\n",
      "-------------На ул. Маросейк-------------\n",
      "-------------.ru/upload/resize_cache/iblock/a2b/728_400_2/photo_002a14.jpg-------------\n",
      "-------------PAGE </msk/detailed/restaurants/redstar/> PARSING-------------\n",
      "Delay 4 s.\n"
     ]
    },
    {
     "name": "stdout",
     "output_type": "stream",
     "text": [
      "-------------«На Казачьем» —-------------\n",
      "-------------.ru/upload/resize_cache/iblock/8ac/728_400_2/img_5445db2.jpg-------------\n",
      "-------------PAGE </msk/detailed/restaurants/narsharab/> PARSING-------------\n",
      "Delay 2 s.\n",
      "-------------Новый ресторан -------------\n",
      "-------------.ru/upload/resize_cache/iblock/d9f/728_400_2/img_298859b.jpg-------------\n",
      "-------------PAGE </msk/detailed/restaurants/na-vostoke/> PARSING-------------\n",
      "Delay 3 s.\n",
      "---------------------------\n",
      "-------------.ru/upload/resize_cache/iblock/217/728_400_2/img_2411_2dd7.jpg-------------\n",
      "-------------PAGE </msk/detailed/restaurants/nebesny_tihohod/> PARSING-------------\n",
      "Delay 4 s.\n",
      "-------------Удобноерасполож-------------\n",
      "-------------.ru/upload/resize_cache/iblock/24a/728_400_2/k97a0172_small414.jpg-------------\n",
      "-------------PAGE </msk/detailed/restaurants/natakhtari_bolshoy_cherkasskiy/> PARSING-------------\n",
      "Delay 4 s.\n",
      "-------------«Как в Тбилиси!-------------\n",
      "-------------.ru/upload/resize_cache/iblock/2cb/728_400_2/k97a1117_small553.jpg-------------\n",
      "-------------PAGE </msk/detailed/restaurants/sentyabr/> PARSING-------------\n",
      "Delay 3 s.\n",
      "-------------Правильная груз-------------\n",
      "-------------.ru/upload/resize_cache/iblock/b04/728_400_2/goryuy7b9.jpg-------------\n",
      "-------------PAGE </msk/detailed/restaurants/na_akademicheskoy/> PARSING-------------\n",
      "Delay 2 s.\n",
      "---------------------------\n",
      "-------------.ru/upload/resize_cache/iblock/066/728_400_2/sls_3896_897_898_899_900adjust_2ff9.jpg-------------\n",
      "-------------PAGE </msk/detailed/restaurants/nar_sharab_ul_marksistskaya/> PARSING-------------\n",
      "Delay 4 s.\n",
      "-------------Новый ресторан -------------\n",
      "-------------.ru/upload/resize_cache/iblock/936/728_400_2/img_2970857.jpg-------------\n",
      "-------------PAGE </msk/detailed/restaurants/na_rusi/> PARSING-------------\n",
      "Delay 3 s.\n",
      "---------------------------\n",
      "-------------.ru/upload/resize_cache/iblock/8f4/728_400_2/original_52c006c640c0886b7c8bc4b7_56fffe1d2bb9c6e1.jpg-------------\n",
      "-------------PAGE </msk/detailed/restaurants/nalchik/> PARSING-------------\n",
      "Delay 3 s.\n",
      "-------------В Москве открыл-------------\n",
      "-------------.ru/upload/resize_cache/iblock/e41/728_400_2/zal_1_129ac0.jpg-------------\n",
      "-------------PAGE </msk/detailed/restaurants/nar-sharab/> PARSING-------------\n",
      "Delay 3 s.\n",
      "-------------Ресторан «Нар Ш-------------\n",
      "-------------.ru/upload/resize_cache/iblock/e83/728_400_2/f578db8aaf2bdeb07ca29a4dbf4a7bee21d.jpg-------------\n",
      "-------------PAGE </msk/detailed/restaurants/na-poklonnoy-gore/> PARSING-------------\n",
      "Delay 2 s.\n",
      "-------------Банкетный зал «-------------\n",
      "-------------.ru/upload/resize_cache/iblock/aa5/728_400_2/4_264e.jpg-------------\n",
      "-------------PAGE </msk/detailed/restaurants/mumiy-troll/> PARSING-------------\n",
      "Delay 2 s.\n",
      "-------------Ресторан-бар в -------------\n",
      "-------------.ru/upload/resize_cache/iblock/fc8/728_400_2/2_mumiy_troll_music_bar_moscow_210d.jpg-------------\n",
      "-------------PAGE </msk/detailed/restaurants/natakhtari-na-sretenke/> PARSING-------------\n",
      "Delay 2 s.\n",
      "-------------Кафе «Натахтари-------------\n",
      "-------------.ru/upload/resize_cache/iblock/349/728_400_2/nik_1050_24da.jpg-------------\n",
      "-------------PAGE </msk/detailed/restaurants/namelnitse/> PARSING-------------\n",
      "Delay 2 s.\n",
      "-------------Ресторан «На ме-------------\n",
      "-------------.ru/upload/resize_cache/iblock/6a6/728_400_2/melnitse1_2146.jpg-------------\n",
      "-------------PAGE </msk/detailed/restaurants/naznamenke/> PARSING-------------\n",
      "Delay 3 s.\n",
      "-------------Ресторан «На Зн-------------\n",
      "-------------.ru/upload/iblock/ff9/2a54zal_vid_4.jpg-------------\n",
      "-------------PAGE </msk/detailed/restaurants/munch/> PARSING-------------\n",
      "Delay 4 s.\n",
      "-------------Гостеприимная Б-------------\n",
      "-------------.ru/upload/resize_cache/iblock/d13/728_400_2/1349335230.jpg-------------\n",
      "-------------PAGE </msk/detailed/restaurants/myata/> PARSING-------------\n",
      "Delay 4 s.\n",
      "-------------Ресторан «Мята»-------------\n",
      "-------------.ru/upload/resize_cache/iblock/386/728_400_2/2c8d.jpg-------------\n",
      "-------------PAGE </msk/detailed/restaurants/notfareast/> PARSING-------------\n",
      "Delay 2 s.\n",
      "-------------Ресторан «Недал-------------\n",
      "-------------.ru/upload/resize_cache/iblock/524/728_400_2/bar_0016c5.jpg-------------\n",
      "-------------PAGE </msk/detailed/restaurants/nicola-tesla/> PARSING-------------\n",
      "Delay 3 s.\n",
      "-------------Пожалуй,единств-------------\n",
      "-------------.ru/upload/resize_cache/iblock/f5d/728_400_2/k97a9832_web34d.jpg-------------\n",
      "-------------PAGE </msk/detailed/restaurants/nikuda_ne_edem/> PARSING-------------\n",
      "Delay 4 s.\n",
      "-------------«Никуда не едем-------------\n",
      "-------------.ru/upload/resize_cache/iblock/de9/728_400_2/img_2384ad1.jpg-------------\n",
      "-------------PAGE </msk/detailed/restaurants/gastropab_queen_v/> PARSING-------------\n",
      "Delay 3 s.\n",
      "-------------Паб «Овсянка, с-------------\n",
      "-------------.ru/upload/resize_cache/iblock/2be/728_400_2/05_172434_img_9550330.jpg-------------\n",
      "-------------PAGE </msk/detailed/restaurants/nevskie_melodii/> PARSING-------------\n",
      "Delay 4 s.\n",
      "-------------Ресторан «Невск-------------\n",
      "-------------.ru/upload/resize_cache/iblock/ef0/728_400_2/vip_zal_16fc.jpg-------------\n",
      "-------------PAGE </msk/detailed/restaurants/okino/> PARSING-------------\n",
      "Delay 3 s.\n",
      "-------------На территории п-------------\n",
      "-------------.ru/upload/resize_cache/iblock/898/728_400_2/mg_1722115.jpg-------------\n",
      "-------------PAGE </msk/detailed/restaurants/semiramida/> PARSING-------------\n",
      "Delay 3 s.\n",
      "-------------Ресторан «Семир-------------\n",
      "-------------.ru/upload/resize_cache/iblock/de1/728_400_2/dsc_005232e.jpg-------------\n",
      "-------------PAGE </msk/detailed/restaurants/obraz/> PARSING-------------\n",
      "Delay 4 s.\n",
      "-------------Ресторан распол-------------\n",
      "-------------.ru/upload/resize_cache/iblock/e83/728_400_2/1_7_2d7a.jpg-------------\n",
      "-------------PAGE </msk/detailed/restaurants/novyy_svet/> PARSING-------------\n",
      "Delay 4 s.\n",
      "---------------------------\n",
      "-------------.ru/upload/resize_cache/iblock/878/728_400_2/wedd8545_2e28.jpg-------------\n",
      "-------------PAGE </msk/detailed/restaurants/obraz_zhizni/> PARSING-------------\n",
      "Delay 3 s.\n",
      "-------------Ресторан «Образ-------------\n",
      "-------------.ru/upload/resize_cache/iblock/9ab/728_400_2/10b6.jpg-------------\n",
      "-------------PAGE </msk/detailed/restaurants/moskovskaya_kukhmisterskaya/> PARSING-------------\n",
      "Delay 4 s.\n",
      "-------------«Никита» - рест-------------\n",
      "-------------.ru/upload/resize_cache/iblock/35d/728_400_2/zal1_006463.jpg-------------\n",
      "-------------PAGE </msk/detailed/restaurants/nikola_tesla_na_rozhdestvenskom_bulvare/> PARSING-------------\n",
      "Delay 3 s.\n",
      "-------------Ресторан «Никол-------------\n",
      "-------------.ru/upload/resize_cache/iblock/241/728_400_2/dsc_1006_26b0.jpg-------------\n",
      "-------------PAGE </msk/detailed/restaurants/nemetskaya-sloboda/> PARSING-------------\n",
      "Delay 2 s.\n",
      "---------------------------\n",
      "-------------.ru/upload/resize_cache/iblock/995/728_400_2/restaurant_03b09.jpg-------------\n",
      "-------------PAGE </msk/detailed/restaurants/novaya-volna/> PARSING-------------\n",
      "Delay 4 s.\n",
      "---------------------------\n",
      "-------------.ru/upload/resize_cache/iblock/378/728_400_2/uvvgwojszkg_24e2.jpg-------------\n",
      "-------------PAGE </msk/detailed/restaurants/novaya-epokha/> PARSING-------------\n",
      "Delay 2 s.\n",
      "---------------------------\n",
      "-------------.ru/upload/resize_cache/iblock/14c/728_400_2/img_0219_2bf9.jpg-------------\n",
      "-------------PAGE </msk/detailed/restaurants/park-restoran-neskuchnyy/> PARSING-------------\n",
      "Delay 4 s.\n",
      "---------------------------\n",
      "-------------.ru/upload/resize_cache/iblock/30c/728_400_2/sad_003178a.jpg-------------\n",
      "-------------PAGE </msk/detailed/restaurants/noevkovcheg/> PARSING-------------\n",
      "Delay 2 s.\n",
      "-------------«Ноев Ковчег» --------------\n",
      "-------------.ru/upload/resize_cache/iblock/e96/728_400_2/img_5859_2298.jpg-------------\n",
      "-------------PAGE </msk/detailed/restaurants/novogireevskoe/> PARSING-------------\n",
      "Delay 3 s.\n",
      "-------------Кафе \"Новогирее-------------\n",
      "-------------.ru/upload/resize_cache/iblock/b4a/728_400_2/mg_0111948.jpg-------------\n",
      "-------------PAGE </msk/detailed/restaurants/oblaka/> PARSING-------------\n",
      "Delay 2 s.\n",
      "-------------Ресторан «Облак-------------\n",
      "-------------.ru/upload/resize_cache/iblock/5e7/728_400_2/zal1_001_7583a.jpg-------------\n",
      "-------------PAGE </msk/detailed/restaurants/panaekhali/> PARSING-------------\n",
      "Delay 2 s.\n"
     ]
    },
    {
     "name": "stdout",
     "output_type": "stream",
     "text": [
      "-------------Ресторан «Панае-------------\n",
      "-------------.ru/upload/resize_cache/iblock/f33/728_400_2/k97a1991_panorama_webca4.jpg-------------\n",
      "-------------PAGE </msk/detailed/restaurants/osetinskie_pirogi/> PARSING-------------\n",
      "Delay 4 s.\n",
      "---------------------------\n",
      "-------------.ru/upload/resize_cache/iblock/34d/728_400_2/3362251_24b7.jpg-------------\n",
      "-------------PAGE </msk/detailed/restaurants/pandok/> PARSING-------------\n",
      "Delay 4 s.\n",
      "---------------------------\n",
      "-------------.ru/upload/resize_cache/iblock/799/728_400_2/dsc_0171324.jpg-------------\n",
      "-------------PAGE </msk/detailed/restaurants/omulyevaya_bochka/> PARSING-------------\n",
      "Delay 2 s.\n",
      "-------------Ресторан «Омуле-------------\n",
      "-------------.ru/upload/resize_cache/iblock/e9e/728_400_2/medzo1z7974b44m_2c95.jpg-------------\n",
      "-------------PAGE </msk/detailed/restaurants/parlament/> PARSING-------------\n",
      "Delay 4 s.\n",
      "-------------Ресторан «Парла-------------\n",
      "-------------.ru/upload/resize_cache/iblock/6c6/728_400_2/mg_1244_1.jpg-------------\n",
      "-------------PAGE </msk/detailed/restaurants/onegin/> PARSING-------------\n",
      "Delay 2 s.\n",
      "-------------Ресторан «Онеги-------------\n",
      "-------------.ru/upload/resize_cache/iblock/16f/728_400_2/mg_7626_1_22a2.jpg-------------\n",
      "-------------PAGE </msk/detailed/restaurants/park_lanch/> PARSING-------------\n",
      "Delay 4 s.\n",
      "---------------------------\n",
      "-------------.ru/upload/resize_cache/iblock/871/728_400_2/img_8765_2256.jpg-------------\n",
      "-------------PAGE </msk/detailed/restaurants/park_cafe/> PARSING-------------\n",
      "Delay 2 s.\n",
      "---------------------------\n",
      "-------------.ru/upload/resize_cache/iblock/830/728_400_2/4_427170.jpg-------------\n",
      "-------------PAGE </msk/detailed/restaurants/ochagno1/> PARSING-------------\n",
      "Delay 4 s.\n",
      "-------------Кафе «Очаг №1» -------------\n",
      "-------------.ru/upload/resize_cache/iblock/86c/728_400_2/img_8727007.jpg-------------\n",
      "-------------PAGE </msk/detailed/restaurants/ottepel/> PARSING-------------\n",
      "Delay 4 s.\n",
      "-------------Изысканный инте-------------\n",
      "-------------.ru/upload/resize_cache/iblock/f6d/728_400_2/16a9423_26262864583_of1c.jpg-------------\n",
      "-------------PAGE </msk/detailed/restaurants/ochag_ul_sudakova/> PARSING-------------\n",
      "Delay 4 s.\n",
      "---------------------------\n",
      "-------------.ru/upload/resize_cache/iblock/808/728_400_2/dsc_079925f.jpg-------------\n",
      "-------------PAGE </msk/detailed/restaurants/ostrovok/> PARSING-------------\n",
      "Delay 4 s.\n",
      "-------------Вкуснейшая рыба-------------\n",
      "-------------.ru/upload/resize_cache/iblock/7ac/728_400_2/img_1515e68.jpg-------------\n",
      "-------------PAGE </msk/detailed/restaurants/paladin/> PARSING-------------\n",
      "Delay 4 s.\n",
      "---------------------------\n",
      "-------------.ru/upload/resize_cache/iblock/7a3/728_400_2/dsc_0997094.jpg-------------\n",
      "-------------PAGE </msk/detailed/restaurants/paprikolli/> PARSING-------------\n",
      "Delay 4 s.\n",
      "---------------------------\n",
      "-------------.ru/upload/resize_cache/iblock/4b0/728_400_2/preview_22223d.jpg-------------\n",
      "-------------PAGE </msk/detailed/restaurants/orkhideya-m/> PARSING-------------\n",
      "Delay 4 s.\n",
      "-------------Ресторан «Орхид-------------\n",
      "-------------.ru/upload/resize_cache/iblock/e44/728_400_2/dsc_02917bf.jpg-------------\n",
      "-------------PAGE </msk/detailed/restaurants/ochag-balashikha/> PARSING-------------\n",
      "Delay 4 s.\n",
      "-------------Ресторан «Очаг»-------------\n",
      "-------------.ru/upload/resize_cache/iblock/3b1/728_400_2/imgm608220e.jpg-------------\n",
      "-------------PAGE </msk/detailed/restaurants/cafe-ochag/> PARSING-------------\n",
      "Delay 2 s.\n",
      "---------------------------\n",
      "-------------.ru/upload/resize_cache/iblock/c96/728_400_2/img_0075ec7.jpg-------------\n",
      "-------------PAGE </msk/detailed/restaurants/ogni-vostoka/> PARSING-------------\n",
      "Delay 2 s.\n",
      "---------------------------\n",
      "-------------.ru/upload/resize_cache/iblock/47d/728_400_2/img_20170615_032622_355_2815.jpg-------------\n",
      "-------------PAGE </msk/detailed/restaurants/orovela/> PARSING-------------\n",
      "Delay 4 s.\n",
      "-------------«Оровела» - это-------------\n",
      "-------------.ru/upload/iblock/80b/orovela_vh_004e3a.jpg-------------\n",
      "-------------PAGE </msk/detailed/restaurants/office_club/> PARSING-------------\n",
      "Delay 3 s.\n",
      "---------------------------\n",
      "-------------.ru/upload/resize_cache/iblock/b71/728_400_2/k97a7567_smalld97.jpg-------------\n",
      "-------------PAGE </msk/detailed/restaurants/perezmyata/> PARSING-------------\n",
      "Delay 2 s.\n",
      "-------------Ресторан «Перец-------------\n",
      "-------------.ru/upload/resize_cache/iblock/a08/728_400_2/perezmyata_005fb7.jpg-------------\n",
      "-------------PAGE </msk/detailed/restaurants/peterfest/> PARSING-------------\n",
      "Delay 4 s.\n",
      "-------------Ресторан «Петер-------------\n",
      "-------------.ru/upload/resize_cache/iblock/565/728_400_2/img_20150803_wa00003fa.jpg-------------\n",
      "-------------PAGE </msk/detailed/restaurants/petrovdvorik/> PARSING-------------\n",
      "Delay 2 s.\n",
      "-------------Ресторан «Петро-------------\n",
      "-------------.ru/upload/resize_cache/iblock/017/728_400_2/staroe_fotoru_546_22b9.jpg-------------\n",
      "-------------PAGE </msk/detailed/restaurants/planeta_sushi_himki/> PARSING-------------\n",
      "Delay 3 s.\n",
      "-------------Ресторан «Плане-------------\n",
      "-------------.ru/upload/resize_cache/iblock/fe5/728_400_2/k97a9210_smallf75.jpg-------------\n",
      "-------------PAGE </msk/detailed/restaurants/persia/> PARSING-------------\n",
      "Delay 2 s.\n",
      "-------------Ресторан «Перси-------------\n",
      "-------------.ru/upload/resize_cache/iblock/d06/728_400_2/exe_830067c.jpg-------------\n",
      "-------------PAGE </msk/detailed/restaurants/pervaya_khinkalnaya_mimino/> PARSING-------------\n",
      "Delay 3 s.\n",
      "-------------Ресторан «Перва-------------\n",
      "-------------.ru/upload/resize_cache/iblock/3f5/728_400_2/dsc_0388_1_2343.jpg-------------\n",
      "-------------PAGE </msk/detailed/restaurants/pervaya_khinkalnaya_mimino_profsoyuznaya/> PARSING-------------\n",
      "Delay 3 s.\n",
      "-------------Кафе «Первая хи-------------\n",
      "-------------.ru/upload/resize_cache/iblock/a8d/728_400_2/honeyview_dsc_0082_1_c56.jpg-------------\n",
      "-------------PAGE </msk/detailed/restaurants/plov/> PARSING-------------\n",
      "Delay 4 s.\n",
      "---------------------------\n",
      "-------------.ru/upload/resize_cache/iblock/c9e/728_400_2/www_d8x_6194_2fa0.jpg-------------\n",
      "-------------PAGE </msk/detailed/restaurants/restoranparus/> PARSING-------------\n",
      "Delay 4 s.\n",
      "-------------Ресторан «Парус-------------\n",
      "-------------.ru/upload/resize_cache/iblock/7e1/728_400_2/img_2588_230d.jpg-------------\n",
      "-------------PAGE </msk/detailed/restaurants/cafesky/> PARSING-------------\n",
      "Delay 3 s.\n",
      "-------------Ресторан «Паспа-------------\n",
      "-------------.ru/upload/resize_cache/iblock/592/728_400_2/vip_274d.jpg-------------\n",
      "-------------PAGE </msk/detailed/restaurants/pivnoy_zaliv/> PARSING-------------\n",
      "Delay 3 s.\n",
      "-------------Ресторан «Пивно-------------\n",
      "-------------.ru/upload/resize_cache/iblock/102/728_400_2/img_5410_22f6.jpg-------------\n",
      "-------------PAGE </msk/detailed/restaurants/pogrebok/> PARSING-------------\n",
      "Delay 4 s.\n",
      "---------------------------\n",
      "-------------.ru/upload/resize_cache/iblock/d47/728_400_2/207_2395.jpg-------------\n",
      "-------------PAGE </msk/detailed/restaurants/pirogi_vino_i_gus/> PARSING-------------\n",
      "Delay 2 s.\n",
      "-------------Кафе «Пироги Ви-------------\n",
      "-------------.ru/upload/resize_cache/iblock/32a/728_400_2/img_2673e83.jpg-------------\n",
      "-------------PAGE </msk/detailed/restaurants/piramida/> PARSING-------------\n",
      "Delay 2 s.\n",
      "---------------------------\n",
      "-------------.ru/upload/resize_cache/iblock/28c/728_400_2/dsc_0432_237d.jpg-------------\n",
      "-------------PAGE </msk/detailed/restaurants/piano-bar/> PARSING-------------\n",
      "Delay 2 s.\n",
      "-------------Ресторан«Пиано--------------\n",
      "-------------.ru/upload/resize_cache/iblock/7e8/728_400_2/1e0a7855_114a.jpg-------------\n",
      "-------------PAGE </msk/detailed/restaurants/parus-nizhnyaya-maslovka/> PARSING-------------\n",
      "Delay 2 s.\n",
      "-------------Ресторан «Парус-------------\n",
      "-------------.ru/upload/resize_cache/iblock/a43/728_400_2/k97a6658_small060.jpg-------------\n",
      "-------------PAGE </msk/detailed/restaurants/po-russki/> PARSING-------------\n",
      "Delay 2 s.\n",
      "---------------------------\n",
      "-------------.ru/upload/resize_cache/iblock/009/728_400_2/4_2f32.jpg-------------\n",
      "-------------PAGE </msk/detailed/restaurants/pelmeni-da-borshchi/> PARSING-------------\n",
      "Delay 3 s.\n",
      "-------------«Пельмени да бо-------------\n",
      "-------------.ru/upload/resize_cache/iblock/c57/728_400_2/zal1_008413.jpg-------------\n",
      "-------------PAGE </msk/detailed/restaurants/dyatel/> PARSING-------------\n",
      "Delay 3 s.\n"
     ]
    },
    {
     "name": "stdout",
     "output_type": "stream",
     "text": [
      "-------------Ресторан «Пьяны-------------\n",
      "-------------.ru/upload/resize_cache/iblock/51f/728_400_2/img_9880_1_2_tonemapped8c8.jpg-------------\n",
      "-------------PAGE </msk/detailed/restaurants/piv_ko/> PARSING-------------\n",
      "Delay 3 s.\n",
      "-------------Караоке в «Пив&-------------\n",
      "-------------.ru/upload/resize_cache/iblock/2bd/728_400_2/mg_8265158.jpg-------------\n",
      "-------------PAGE </msk/detailed/restaurants/prazhechka/> PARSING-------------\n",
      "Delay 2 s.\n",
      "-------------Ресторан «Праже-------------\n",
      "-------------.ru/upload/resize_cache/iblock/676/728_400_2/dsc04234ea9.jpg-------------\n",
      "-------------PAGE </msk/detailed/restaurants/podvalchik/> PARSING-------------\n",
      "Delay 3 s.\n",
      "---------------------------\n",
      "-------------.ru/upload/resize_cache/iblock/f10/728_400_2/img_9119_22bc.jpg-------------\n",
      "-------------PAGE </msk/detailed/restaurants/kafe_premera/> PARSING-------------\n",
      "Delay 3 s.\n",
      "-------------Кафе Премьера –-------------\n",
      "-------------.ru/upload/resize_cache/iblock/6f9/728_400_2/1kafe_premera1017.jpg-------------\n",
      "-------------PAGE </msk/detailed/restaurants/princbitca/> PARSING-------------\n",
      "Delay 2 s.\n",
      "-------------Ресторан \"Принц-------------\n",
      "-------------.ru/upload/resize_cache/iblock/c71/728_400_2/1mg_3023_1.jpg-------------\n",
      "-------------PAGE </msk/detailed/restaurants/pravda/> PARSING-------------\n",
      "Delay 4 s.\n",
      "-------------Pravda («Правда-------------\n",
      "-------------.ru/upload/resize_cache/iblock/2c8/728_400_2/k97a1568_small055.jpg-------------\n",
      "-------------PAGE </msk/detailed/restaurants/podpolium/> PARSING-------------\n",
      "Delay 4 s.\n",
      "-------------Ресторан «Подпо-------------\n",
      "-------------.ru/upload/resize_cache/iblock/b76/728_400_2/vip_zal_2_2513.jpg-------------\n",
      "-------------PAGE </msk/detailed/restaurants/pokrovskoe/> PARSING-------------\n",
      "Delay 4 s.\n",
      "---------------------------\n",
      "-------------.ru/upload/resize_cache/iblock/7ba/728_400_2/1d54.jpg-------------\n",
      "-------------PAGE </msk/detailed/restaurants/pyatok/> PARSING-------------\n",
      "Delay 4 s.\n",
      "-------------Ресторан «ПятОк-------------\n",
      "-------------.ru/upload/resize_cache/iblock/0b4/728_400_2/p3021194_254c.jpg-------------\n",
      "-------------PAGE </msk/detailed/restaurants/porto/> PARSING-------------\n",
      "Delay 3 s.\n",
      "---------------------------\n",
      "-------------.ru/upload/resize_cache/iblock/3a4/728_400_2/image_29_03_16_04_14_4245.jpg-------------\n",
      "-------------PAGE </msk/detailed/restaurants/sem_krasavits/> PARSING-------------\n",
      "Delay 4 s.\n",
      "---------------------------\n",
      "-------------.ru/upload/resize_cache/iblock/25c/728_400_2/img_17162e3.jpg-------------\n",
      "-------------PAGE </msk/detailed/restaurants/porto_mikonos/> PARSING-------------\n",
      "Delay 4 s.\n",
      "-------------Аутентическая г-------------\n",
      "-------------.ru/upload/resize_cache/iblock/338/728_400_2/caption_8d91.jpg-------------\n",
      "-------------PAGE </msk/detailed/restaurants/prospekt9/> PARSING-------------\n",
      "Delay 2 s.\n",
      "---------------------------\n",
      "-------------.ru/upload/resize_cache/iblock/223/728_400_2/img_6759197.jpg-------------\n",
      "-------------PAGE </msk/detailed/restaurants/polyana_ul_trubnaya/> PARSING-------------\n",
      "Delay 2 s.\n",
      "---------------------------\n",
      "-------------.ru/upload/resize_cache/iblock/1ba/728_400_2/dsc_0492c56.jpg-------------\n",
      "-------------PAGE </msk/detailed/restaurants/raznye_lyudi/> PARSING-------------\n",
      "Delay 3 s.\n",
      "-------------Ресторан «Разны-------------\n",
      "-------------.ru/upload/resize_cache/iblock/628/728_400_2/4_766559.jpg-------------\n",
      "-------------PAGE </msk/detailed/restaurants/provinchi/> PARSING-------------\n",
      "Delay 3 s.\n",
      "---------------------------\n",
      "-------------.ru/upload/resize_cache/iblock/8c7/728_400_2/dsc_059044f.jpg-------------\n",
      "-------------PAGE </msk/detailed/restaurants/profil/> PARSING-------------\n",
      "Delay 3 s.\n",
      "---------------------------\n",
      "-------------.ru/upload/resize_cache/iblock/778/728_400_2/image007a58.jpg-------------\n",
      "-------------PAGE </msk/detailed/restaurants/pro-edu/> PARSING-------------\n",
      "Delay 4 s.\n",
      "---------------------------\n",
      "-------------.ru/upload/resize_cache/iblock/ec9/728_400_2/img_1090_21_03_17_12_57480.jpeg-------------\n",
      "-------------PAGE </msk/detailed/restaurants/pomeste-park/> PARSING-------------\n",
      "Delay 3 s.\n",
      "-------------Ресторан «Помес-------------\n",
      "-------------.ru/upload/resize_cache/iblock/fbc/728_400_2/img_20161202_141533wfab.jpg-------------\n",
      "-------------PAGE </msk/detailed/restaurants/promyaso/> PARSING-------------\n",
      "Delay 2 s.\n",
      "-------------В Москве так мн-------------\n",
      "-------------.ru/upload/resize_cache/iblock/105/728_400_2/photo_116_2b46.jpg-------------\n",
      "-------------PAGE </msk/detailed/restaurants/razgulyay/> PARSING-------------\n",
      "Delay 2 s.\n",
      "-------------\"Разгуляй\" - эт-------------\n",
      "-------------.ru/upload/resize_cache/iblock/daf/728_400_2/k97a0990_web660.jpg-------------\n",
      "-------------PAGE </msk/detailed/restaurants/rgo/> PARSING-------------\n",
      "Delay 3 s.\n",
      "-------------Вы любитепутеше-------------\n",
      "-------------.ru/upload/resize_cache/iblock/4bb/728_400_2/157c.jpg-------------\n",
      "-------------PAGE </msk/detailed/restaurants/fclm/> PARSING-------------\n",
      "Delay 2 s.\n",
      "-------------Ресторанный ком-------------\n",
      "-------------.ru/upload/resize_cache/iblock/ba4/728_400_2/mg_75507c6.jpg-------------\n",
      "-------------PAGE </msk/detailed/restaurants/royal_zenith/> PARSING-------------\n",
      "Delay 3 s.\n",
      "-------------Комплекс отелей-------------\n",
      "-------------.ru/upload/resize_cache/iblock/53a/728_400_2/k97a6781_smalld62.jpg-------------\n",
      "-------------PAGE </msk/detailed/restaurants/repin/> PARSING-------------\n",
      "Delay 4 s.\n",
      "---------------------------\n",
      "-------------.ru/upload/resize_cache/iblock/bd4/728_400_2/dsc_0026_27b9.jpg-------------\n",
      "-------------PAGE </msk/detailed/restaurants/repast/> PARSING-------------\n",
      "Delay 3 s.\n",
      "---------------------------\n",
      "-------------.ru/upload/resize_cache/iblock/855/728_400_2/img_2682_26fa.jpg-------------\n",
      "-------------PAGE </msk/detailed/restaurants/rassolnikov/> PARSING-------------\n",
      "Delay 2 s.\n",
      "-------------Ресторан «Рассо-------------\n",
      "-------------.ru/upload/resize_cache/iblock/d27/728_400_2/k97a7083_small9cd.jpg-------------\n",
      "-------------PAGE </msk/detailed/restaurants/raikin_plaza/> PARSING-------------\n",
      "Delay 3 s.\n",
      "-------------Ресторан «Райки-------------\n",
      "-------------.ru/upload/resize_cache/iblock/049/728_400_2/2_2acf.jpg-------------\n",
      "-------------PAGE </msk/detailed/restaurants/rubin/> PARSING-------------\n",
      "Delay 2 s.\n",
      "-------------«Рубин» – это р-------------\n",
      "-------------.ru/upload/iblock/dc9/rubin_z_003.jpg-------------\n",
      "-------------PAGE </msk/detailed/restaurants/ribsandwings/> PARSING-------------\n",
      "Delay 4 s.\n",
      "-------------Ресторан «Рёбры-------------\n",
      "-------------.ru/upload/resize_cache/iblock/8bc/728_400_2/rebryishki_2173.jpg-------------\n",
      "-------------PAGE </msk/detailed/restaurants/ray_u_fontana/> PARSING-------------\n",
      "Delay 3 s.\n",
      "---------------------------\n",
      "-------------.ru/upload/resize_cache/iblock/725/728_400_2/ray_18379.jpg-------------\n",
      "-------------PAGE </msk/detailed/restaurants/riogrande/> PARSING-------------\n",
      "Delay 2 s.\n",
      "---------------------------\n",
      "-------------.ru/upload/resize_cache/iblock/c3e/728_400_2/dsc_0484_2cff.jpg-------------\n",
      "-------------PAGE </msk/detailed/restaurants/rakhmat/> PARSING-------------\n",
      "Delay 4 s.\n",
      "---------------------------\n",
      "-------------.ru/upload/resize_cache/iblock/475/728_400_2/dsc_1387295.jpg-------------\n",
      "-------------PAGE </msk/detailed/restaurants/paradise-msk/> PARSING-------------\n",
      "Delay 4 s.\n",
      "---------------------------\n",
      "-------------.ru/upload/resize_cache/iblock/3e8/728_400_2/dsc_1658_2dc7.jpg-------------\n",
      "-------------PAGE </msk/detailed/restaurants/rayskiy-ugolok/> PARSING-------------\n",
      "Delay 4 s.\n",
      "-------------Кафе «Райскийуг-------------\n",
      "-------------.ru/upload/resize_cache/iblock/ea1/728_400_2/dsc_2017_2b6e.jpg-------------\n",
      "-------------PAGE </msk/detailed/restaurants/rodnye-lyudi/> PARSING-------------\n",
      "Delay 4 s.\n",
      "-------------Семейный рестор-------------\n",
      "-------------.ru/upload/resize_cache/iblock/29c/728_400_2/k97a4499_smallfab.jpg-------------\n",
      "-------------PAGE </msk/detailed/restaurants/restoratsiya-odoevskiy/> PARSING-------------\n",
      "Delay 4 s.\n",
      "-------------Ресторация «Одо-------------\n",
      "-------------.ru/upload/resize_cache/iblock/301/728_400_2/amm_4831_hdr_edit_2ab7.jpg-------------\n",
      "-------------PAGE </msk/detailed/restaurants/russkaya-trapeza/> PARSING-------------\n",
      "Delay 4 s.\n",
      "-------------Всем известно, -------------\n",
      "-------------.ru/upload/resize_cache/iblock/166/728_400_2/md6zum6wdfi_206e.jpg-------------\n",
      "-------------PAGE </msk/detailed/restaurants/reutov/> PARSING-------------\n",
      "Delay 3 s.\n"
     ]
    },
    {
     "name": "stdout",
     "output_type": "stream",
     "text": [
      "-------------Ресторан \"Реуто-------------\n",
      "-------------.ru/upload/resize_cache/iblock/ac8/728_400_2/k97a0578_small9c4.jpg-------------\n",
      "-------------PAGE </msk/detailed/restaurants/rayskiyugolok/> PARSING-------------\n",
      "Delay 4 s.\n",
      "-------------Добро пожаловат-------------\n",
      "-------------.ru/upload/resize_cache/iblock/139/728_400_2/b2aegolok_zal_1.jpg-------------\n",
      "-------------PAGE </msk/detailed/restaurants/river_palace_1/> PARSING-------------\n",
      "Delay 3 s.\n",
      "-------------\"River Palace\" -------------\n",
      "-------------.ru/upload/resize_cache/iblock/233/728_400_2/10_994c2d.jpg-------------\n",
      "-------------PAGE </msk/detailed/restaurants/gardenring/> PARSING-------------\n",
      "Delay 3 s.\n",
      "-------------Садовое кольцо -------------\n",
      "-------------.ru/upload/resize_cache/iblock/eeb/728_400_2/zal_1047.jpg-------------\n",
      "-------------PAGE </msk/detailed/restaurants/saperavicafe_pokrovka/> PARSING-------------\n",
      "Delay 3 s.\n",
      "-------------«Саперави» на П-------------\n",
      "-------------.ru/upload/resize_cache/iblock/3bc/728_400_2/k97a4512_web517.jpg-------------\n",
      "-------------PAGE </msk/detailed/restaurants/san-diego/> PARSING-------------\n",
      "Delay 3 s.\n",
      "-------------Ресторан-бар «С-------------\n",
      "-------------.ru/upload/resize_cache/iblock/6c2/728_400_2/img_2355_2ca1.jpg-------------\n",
      "-------------PAGE </msk/detailed/restaurants/russkoepodvorie/> PARSING-------------\n",
      "Delay 2 s.\n",
      "-------------«Красиво и по-р-------------\n",
      "-------------.ru/upload/resize_cache/iblock/e18/728_400_2/podvore_zal1_0025d3.jpg-------------\n",
      "-------------PAGE </msk/detailed/restaurants/saperavicafe/> PARSING-------------\n",
      "Delay 3 s.\n",
      "-------------Saperavi café м-------------\n",
      "-------------.ru/upload/resize_cache/iblock/6c7/728_400_2/dsc2328ac7f6a.jpg-------------\n",
      "-------------PAGE </msk/detailed/restaurants/chaykhona_dastan/> PARSING-------------\n",
      "Delay 2 s.\n",
      "---------------------------\n",
      "-------------.ru/upload/resize_cache/iblock/a57/728_400_2/mg_7305ca1.jpg-------------\n",
      "-------------PAGE </msk/detailed/restaurants/samarkand/> PARSING-------------\n",
      "Delay 4 s.\n",
      "-------------Ресторан «Самар-------------\n",
      "-------------.ru/upload/resize_cache/iblock/23d/728_400_2/lveranda29fa.jpg-------------\n",
      "-------------PAGE </msk/detailed/restaurants/salhino/> PARSING-------------\n",
      "Delay 2 s.\n",
      "---------------------------\n",
      "-------------.ru/upload/resize_cache/iblock/894/728_400_2/che_30474fa.jpg-------------\n",
      "-------------PAGE </msk/detailed/restaurants/salhino3/> PARSING-------------\n",
      "Delay 3 s.\n",
      "---------------------------\n",
      "-------------.ru/upload/resize_cache/iblock/0d8/728_400_2/r_597818_t921ou2jh9g9hxn3yqdqc72.jpg-------------\n",
      "-------------PAGE </msk/detailed/restaurants/russkiy_chay/> PARSING-------------\n",
      "Delay 4 s.\n",
      "---------------------------\n",
      "-------------.ru/upload/resize_cache/iblock/4bf/728_400_2/dsc_0531_23b8.jpg-------------\n",
      "-------------PAGE </msk/detailed/restaurants/samarkand_rest/> PARSING-------------\n",
      "Delay 4 s.\n",
      "-------------Ресторан «Самар-------------\n",
      "-------------.ru/upload/resize_cache/iblock/2f4/728_400_2/img_1315a29.jpg-------------\n",
      "-------------PAGE </msk/detailed/restaurants/salamuri/> PARSING-------------\n",
      "Delay 2 s.\n",
      "---------------------------\n",
      "-------------.ru/upload/resize_cache/iblock/1f1/728_400_2/dsc_0786a08.jpg-------------\n",
      "-------------PAGE </msk/detailed/restaurants/rybatskaya-derevnya/> PARSING-------------\n",
      "Delay 3 s.\n",
      "---------------------------\n",
      "-------------.ru/upload/resize_cache/iblock/ce2/728_400_2/c9a.jpg-------------\n",
      "-------------PAGE </msk/detailed/restaurants/sad-imperatora/> PARSING-------------\n",
      "Delay 2 s.\n",
      "-------------«Сад императора-------------\n",
      "-------------.ru/upload/resize_cache/iblock/e87/728_400_2/img_368288c.jpg-------------\n",
      "-------------PAGE </msk/detailed/restaurants/sakvoyazh/> PARSING-------------\n",
      "Delay 2 s.\n",
      "---------------------------\n",
      "-------------.ru/upload/resize_cache/iblock/834/728_400_2/sakvoyaj361.jpg-------------\n",
      "-------------PAGE </msk/detailed/restaurants/salami/> PARSING-------------\n",
      "Delay 3 s.\n",
      "---------------------------\n",
      "-------------.ru/upload/resize_cache/iblock/4ee/728_400_2/img_8139_2a51.jpg-------------\n",
      "-------------PAGE </msk/detailed/restaurants/rbazar/> PARSING-------------\n",
      "Delay 2 s.\n",
      "-------------Ресторан «Рыбны-------------\n",
      "-------------.ru/upload/resize_cache/iblock/e7d/728_400_2/k97a5207_small412.jpg-------------\n",
      "-------------PAGE </msk/detailed/restaurants/savoy/> PARSING-------------\n",
      "Delay 3 s.\n",
      "-------------Отель «Савой»пр-------------\n",
      "-------------.ru/upload/resize_cache/iblock/293/728_400_2/img_2352f9c.jpg-------------\n",
      "-------------PAGE </msk/detailed/restaurants/restoranprospekt/> PARSING-------------\n",
      "Delay 2 s.\n",
      "---------------------------\n",
      "-------------.ru/upload/resize_cache/iblock/cfa/728_400_2/01.jpg-------------\n",
      "-------------PAGE </msk/detailed/restaurants/saperavi/> PARSING-------------\n",
      "Delay 3 s.\n",
      "-------------Рестораны «Сапе-------------\n",
      "--------------------------\n",
      "-------------PAGE </msk/detailed/restaurants/svetliy-moscow/> PARSING-------------\n",
      "Delay 2 s.\n",
      "-------------Ресторан «Светл-------------\n",
      "-------------.ru/upload/resize_cache/iblock/a8d/728_400_2/39fb2.jpg-------------\n",
      "-------------PAGE </msk/detailed/restaurants/Seiji/> PARSING-------------\n",
      "Delay 4 s.\n",
      "-------------Ресторан «Сейдж-------------\n",
      "-------------.ru/upload/resize_cache/iblock/21b/728_400_2/1img_8577_copyweb99f.jpg-------------\n",
      "-------------PAGE </msk/detailed/restaurants/saperavicafe_tverskaya_yamskaya/> PARSING-------------\n",
      "Delay 3 s.\n",
      "-------------Ресторан «Сапер-------------\n",
      "-------------.ru/upload/resize_cache/iblock/e75/728_400_2/k97a4752_web095.jpg-------------\n",
      "-------------PAGE </msk/detailed/restaurants/silverage/> PARSING-------------\n",
      "Delay 4 s.\n",
      "---------------------------\n",
      "-------------.ru/upload/resize_cache/iblock/be2/728_400_2/img_3056e08.jpg-------------\n",
      "-------------PAGE </msk/detailed/restaurants/svaneti/> PARSING-------------\n",
      "Delay 3 s.\n",
      "-------------Ресторан «Сване-------------\n",
      "-------------.ru/upload/resize_cache/iblock/718/728_400_2/001bcc.jpg-------------\n",
      "-------------PAGE </msk/detailed/restaurants/seven_fridays/> PARSING-------------\n",
      "Delay 4 s.\n",
      "-------------Ресторан «Семь -------------\n",
      "-------------.ru/upload/resize_cache/iblock/c98/728_400_2/ef29kij_zal_001.jpg-------------\n",
      "-------------PAGE </msk/detailed/restaurants/sayany/> PARSING-------------\n",
      "Delay 3 s.\n",
      "---------------------------\n",
      "-------------.ru/upload/resize_cache/iblock/c36/728_400_2/10329f9a.jpg-------------\n",
      "-------------PAGE </msk/detailed/restaurants/sivyy_merin/> PARSING-------------\n",
      "Delay 2 s.\n",
      "---------------------------\n",
      "-------------.ru/upload/resize_cache/iblock/0b6/728_400_2/01_2184.jpg-------------\n",
      "-------------PAGE </msk/detailed/restaurants/sim_siti/> PARSING-------------\n",
      "Delay 2 s.\n",
      "---------------------------\n",
      "-------------.ru/upload/resize_cache/iblock/fcd/728_400_2/dsc_0614_2416.jpg-------------\n",
      "-------------PAGE </msk/detailed/restaurants/sim_siti_home/> PARSING-------------\n",
      "Delay 4 s.\n",
      "-------------Ресторан «Сим-С-------------\n",
      "-------------.ru/upload/resize_cache/iblock/8f7/728_400_2/dsc_0086_2f39.jpg-------------\n",
      "-------------PAGE </msk/detailed/restaurants/sibirskaya_korona/> PARSING-------------\n",
      "Delay 3 s.\n",
      "-------------Ресторан «Сибир-------------\n",
      "-------------.ru/upload/resize_cache/iblock/693/728_400_2/50bebacb9faba3b4d9c5_2b9d.jpg-------------\n",
      "-------------PAGE </msk/detailed/restaurants/svadba_soek/> PARSING-------------\n",
      "Delay 2 s.\n",
      "---------------------------\n",
      "-------------.ru/upload/resize_cache/iblock/cb5/728_400_2/13151793_1131664660189275_1829492334880602149_n22b.jpg-------------\n",
      "-------------PAGE </msk/detailed/restaurants/svoi_lyudi/> PARSING-------------\n",
      "Delay 2 s.\n",
      "---------------------------\n",
      "-------------.ru/upload/resize_cache/iblock/174/728_400_2/image_27_07_16_03_142b9.jpeg-------------\n",
      "-------------PAGE </msk/detailed/restaurants/sezony/> PARSING-------------\n",
      "Delay 3 s.\n",
      "---------------------------\n",
      "-------------.ru/upload/resize_cache/iblock/0f6/728_400_2/dsc_0530_2cc9.jpg-------------\n",
      "-------------PAGE </msk/detailed/restaurants/sever-yug/> PARSING-------------\n",
      "Delay 4 s.\n",
      "-------------Ресторан «Север-------------\n",
      "-------------.ru/upload/resize_cache/iblock/de4/728_400_2/zal2_021bf4.jpg-------------\n",
      "-------------PAGE </msk/detailed/restaurants/uti-puti/> PARSING-------------\n",
      "Delay 4 s.\n"
     ]
    },
    {
     "name": "stdout",
     "output_type": "stream",
     "text": [
      "-------------Вкусно, уютно, -------------\n",
      "-------------.ru/upload/resize_cache/iblock/635/728_400_2/zal_003_46b95.jpg-------------\n",
      "-------------PAGE </msk/detailed/restaurants/sikvaruli/> PARSING-------------\n",
      "Delay 4 s.\n",
      "---------------------------\n",
      "-------------.ru/upload/resize_cache/iblock/5b4/728_400_2/213d1.jpg-------------\n",
      "-------------PAGE </msk/detailed/restaurants/saxar/> PARSING-------------\n",
      "Delay 3 s.\n",
      "---------------------------\n",
      "-------------.ru/upload/resize_cache/iblock/93b/728_400_2/b38a1497_2c7e.jpg-------------\n",
      "-------------PAGE </msk/detailed/restaurants/3_sisters/> PARSING-------------\n",
      "Delay 4 s.\n",
      "-------------Очень стильно и-------------\n",
      "-------------.ru/upload/resize_cache/iblock/9d5/728_400_2/zal2_020e2a.jpg-------------\n",
      "-------------PAGE </msk/detailed/restaurants/simsim/> PARSING-------------\n",
      "Delay 4 s.\n",
      "-------------31 декабря – им-------------\n",
      "-------------.ru/upload/resize_cache/iblock/3df/728_400_2/mg_3645db9.jpg-------------\n",
      "-------------PAGE </msk/detailed/restaurants/sindbad-cafe/> PARSING-------------\n",
      "Delay 4 s.\n",
      "-------------На Люсиновской -------------\n",
      "-------------.ru/upload/resize_cache/iblock/fc2/728_400_2/zal_002329.jpg-------------\n",
      "-------------PAGE </msk/detailed/restaurants/solo/> PARSING-------------\n",
      "Delay 2 s.\n",
      "-------------Развлекательный-------------\n",
      "-------------.ru/upload/resize_cache/iblock/125/728_400_2/k97a9096_small5e5.jpg-------------\n",
      "-------------PAGE </msk/detailed/restaurants/solfasol/> PARSING-------------\n",
      "Delay 3 s.\n",
      "-------------«Мелодия вашего-------------\n",
      "-------------.ru/upload/resize_cache/iblock/182/728_400_2/k97a0876_smallb68.jpg-------------\n",
      "-------------PAGE </msk/detailed/restaurants/sosedicafe/> PARSING-------------\n",
      "Delay 3 s.\n",
      "-------------На Мичуринском -------------\n",
      "-------------.ru/upload/resize_cache/iblock/7bb/728_400_2/annamilovanovaphotography_4e11.jpg-------------\n",
      "-------------PAGE </msk/detailed/restaurants/sololaki/> PARSING-------------\n",
      "Delay 4 s.\n",
      "-------------Ресторан «Солол-------------\n",
      "-------------.ru/upload/resize_cache/iblock/619/728_400_2/282.png-------------\n",
      "-------------PAGE </msk/detailed/restaurants/skazka_bar/> PARSING-------------\n",
      "Delay 4 s.\n",
      "---------------------------\n",
      "-------------.ru/upload/resize_cache/iblock/baa/728_400_2/image_26_10_15_12_54_1bde.jpeg-------------\n",
      "-------------PAGE </msk/detailed/restaurants/stavr/> PARSING-------------\n",
      "Delay 2 s.\n",
      "-------------Кафе «Ставр» в -------------\n",
      "-------------.ru/upload/resize_cache/iblock/f7f/728_400_2/htmlimage_3_1510.jpg-------------\n",
      "-------------PAGE </msk/detailed/restaurants/spektr/> PARSING-------------\n",
      "Delay 3 s.\n",
      "---------------------------\n",
      "-------------.ru/upload/resize_cache/iblock/992/728_400_2/20150616_180442_2a94.jpg-------------\n",
      "-------------PAGE </msk/detailed/restaurants/sonata/> PARSING-------------\n",
      "Delay 4 s.\n",
      "---------------------------\n",
      "-------------.ru/upload/resize_cache/iblock/fc7/728_400_2/658803312d29.jpg-------------\n",
      "-------------PAGE </msk/detailed/restaurants/sochi-cafe/> PARSING-------------\n",
      "Delay 3 s.\n",
      "---------------------------\n",
      "-------------.ru/upload/resize_cache/iblock/c20/728_400_2/dsc_0069_2f7b.jpg-------------\n",
      "-------------PAGE </msk/detailed/restaurants/arkhiv13/> PARSING-------------\n",
      "Delay 3 s.\n",
      "-------------Ресторан-клуб с-------------\n",
      "-------------.ru/upload/resize_cache/iblock/38d/728_400_2/mg_1881_1cb7.jpg-------------\n",
      "-------------PAGE </msk/detailed/restaurants/city_cafe/> PARSING-------------\n",
      "Delay 2 s.\n",
      "---------------------------\n",
      "-------------.ru/upload/resize_cache/iblock/499/728_400_2/dsc_0577_272d.jpg-------------\n",
      "-------------PAGE </msk/detailed/restaurants/sokolnicheskaya-zastava/> PARSING-------------\n",
      "Delay 4 s.\n",
      "---------------------------\n",
      "-------------.ru/upload/resize_cache/iblock/c67/728_400_2/13645200_892969954148223_5808484739367446858_na54.jpg-------------\n",
      "-------------PAGE </msk/detailed/restaurants/solntse-plaza/> PARSING-------------\n",
      "Delay 3 s.\n",
      "-------------Ресторан «Солнц-------------\n",
      "-------------.ru/upload/resize_cache/iblock/025/728_400_2/1_2e5d.jpg-------------\n",
      "-------------PAGE </msk/detailed/restaurants/solntse/> PARSING-------------\n",
      "Delay 3 s.\n",
      "-------------Если вы находит-------------\n",
      "-------------.ru/upload/resize_cache/iblock/355/728_400_2/ycj49jinvtw_1_2e18.jpg-------------\n",
      "-------------PAGE </msk/detailed/restaurants/sitsiliya/> PARSING-------------\n",
      "Delay 3 s.\n",
      "---------------------------\n",
      "-------------.ru/upload/resize_cache/iblock/ada/728_400_2/3_8142b9.jpg-------------\n",
      "-------------PAGE </msk/detailed/restaurants/sovet-v-filyakh/> PARSING-------------\n",
      "Delay 3 s.\n",
      "---------------------------\n",
      "-------------.ru/upload/resize_cache/iblock/288/728_400_2/img_0124_2935.jpg-------------\n",
      "-------------PAGE </msk/detailed/restaurants/sinayareka/> PARSING-------------\n",
      "Delay 3 s.\n",
      "-------------Вьетнамский рес-------------\n",
      "-------------.ru/upload/resize_cache/iblock/3b9/728_400_2/ba38iver_vip1_2.jpg-------------\n",
      "-------------PAGE </msk/detailed/restaurants/sokol/> PARSING-------------\n",
      "Delay 4 s.\n",
      "-------------В старинном мос-------------\n",
      "-------------.ru/upload/resize_cache/iblock/92d/728_400_2/k97a3575_smallb97.jpg-------------\n",
      "-------------PAGE </msk/detailed/restaurants/skala/> PARSING-------------\n",
      "Delay 4 s.\n",
      "-------------В заведениях, р-------------\n",
      "-------------.ru/upload/resize_cache/iblock/567/728_400_2/k97a3224_small2ec.jpg-------------\n",
      "-------------PAGE </msk/detailed/restaurants/staryi-gorod/> PARSING-------------\n",
      "Delay 4 s.\n",
      "-------------Визит в новое к-------------\n",
      "-------------.ru/upload/resize_cache/iblock/c16/728_400_2/k97a1226_small919.jpg-------------\n",
      "-------------PAGE </msk/detailed/restaurants/strogino-gavan/> PARSING-------------\n",
      "Delay 2 s.\n",
      "-------------Ресторан «Строг-------------\n",
      "-------------.ru/upload/resize_cache/iblock/58f/728_400_2/104c.jpg-------------\n",
      "-------------PAGE </msk/detailed/restaurants/starina_myuller_ul_bakuninskaya/> PARSING-------------\n",
      "Delay 3 s.\n",
      "-------------Фирменное пиво,-------------\n",
      "-------------.ru/upload/resize_cache/iblock/938/728_400_2/1_341580.jpg-------------\n",
      "-------------PAGE </msk/detailed/restaurants/starina_myuller_shmitovskiy_proezd/> PARSING-------------\n",
      "Delay 2 s.\n",
      "-------------Ресторан «Стари-------------\n",
      "-------------.ru/upload/resize_cache/iblock/508/728_400_2/126e.png-------------\n",
      "-------------PAGE </msk/detailed/restaurants/strazhek/> PARSING-------------\n",
      "Delay 3 s.\n",
      "---------------------------\n",
      "-------------.ru/upload/resize_cache/iblock/756/728_400_2/i_28_1_1d56.jpg-------------\n",
      "-------------PAGE </msk/detailed/restaurants/stupeni/> PARSING-------------\n",
      "Delay 4 s.\n",
      "-------------Ресторан «Ступе-------------\n",
      "-------------.ru/upload/resize_cache/iblock/da2/728_400_2/big02984.jpg-------------\n",
      "-------------PAGE </msk/detailed/restaurants/staryi_dom/> PARSING-------------\n",
      "Delay 3 s.\n",
      "-------------Ресторан «Стары-------------\n",
      "-------------.ru/upload/resize_cache/iblock/674/728_400_2/dsc024126c6.jpg-------------\n",
      "-------------PAGE </msk/detailed/restaurants/starina_yohan/> PARSING-------------\n",
      "Delay 3 s.\n",
      "-------------Ресторан «Стари-------------\n",
      "-------------.ru/upload/resize_cache/iblock/c24/728_400_2/dm9b62898c6.jpg-------------\n",
      "-------------PAGE </msk/detailed/restaurants/stariy_drug/> PARSING-------------\n",
      "Delay 2 s.\n",
      "---------------------------\n",
      "-------------.ru/upload/resize_cache/iblock/0c5/728_400_2/karaoke1_2333.jpg-------------\n",
      "-------------PAGE </msk/detailed/restaurants/staryy_dub/> PARSING-------------\n",
      "Delay 3 s.\n",
      "-------------Ресторан «Стары-------------\n",
      "-------------.ru/upload/resize_cache/iblock/958/728_400_2/4_2963.jpg-------------\n",
      "-------------PAGE </msk/detailed/restaurants/old_havana/> PARSING-------------\n",
      "Delay 4 s.\n",
      "-------------Клуб-ресторан \"-------------\n",
      "-------------.ru/upload/iblock/6b4/obschiy_vid333.jpg-------------\n",
      "-------------PAGE </msk/detailed/restaurants/stradivari/> PARSING-------------\n",
      "Delay 3 s.\n",
      "-------------Ресторан «Страд-------------\n",
      "-------------.ru/upload/resize_cache/iblock/09a/728_400_2/img_2271_240c.jpg-------------\n",
      "-------------PAGE </msk/detailed/restaurants/stradivari_rest/> PARSING-------------\n",
      "Delay 2 s.\n",
      "-------------Ресторан «Страд-------------\n",
      "-------------.ru/upload/resize_cache/iblock/db2/728_400_2/2016_03_21_17_38_42679.jpg-------------\n",
      "-------------PAGE </msk/detailed/restaurants/staryy-gorod/> PARSING-------------\n",
      "Delay 4 s.\n"
     ]
    },
    {
     "name": "stdout",
     "output_type": "stream",
     "text": [
      "-------------Ресторан«Старый-------------\n",
      "-------------.ru/upload/resize_cache/iblock/396/728_400_2/dsc_0113_2b77.jpg-------------\n",
      "-------------PAGE </msk/detailed/restaurants/strelets/> PARSING-------------\n",
      "Delay 4 s.\n",
      "---------------------------\n",
      "-------------.ru/upload/resize_cache/iblock/bb6/728_400_2/0d8e698b318d3627dbd8168a5e44a7ad_24cf.jpg-------------\n",
      "-------------PAGE </msk/detailed/restaurants/stop-snyato/> PARSING-------------\n",
      "Delay 3 s.\n",
      "---------------------------\n",
      "-------------.ru/upload/resize_cache/iblock/213/728_400_2/pict_20160712_22263451c.jpg-------------\n",
      "-------------PAGE </msk/detailed/restaurants/staryy-baku/> PARSING-------------\n",
      "Delay 3 s.\n",
      "---------------------------\n",
      "-------------.ru/upload/resize_cache/iblock/797/728_400_2/05_2bab.jpg-------------\n",
      "-------------PAGE </msk/detailed/restaurants/usadbarest/> PARSING-------------\n",
      "Delay 4 s.\n",
      "-------------В Перово, вдали-------------\n",
      "-------------.ru/upload/iblock/d5c/1d2bvid_zala3.jpg-------------\n",
      "-------------PAGE </msk/detailed/restaurants/stariyeger/> PARSING-------------\n",
      "Delay 2 s.\n",
      "---------------------------\n",
      "-------------.ru/upload/resize_cache/iblock/88e/728_400_2/15e4.jpg-------------\n",
      "-------------PAGE </msk/detailed/restaurants/stargorod/> PARSING-------------\n",
      "Delay 4 s.\n",
      "-------------Ресторан \"Стары-------------\n",
      "-------------.ru/upload/resize_cache/iblock/9b4/728_400_2/1349686058.jpg-------------\n",
      "-------------PAGE </msk/detailed/restaurants/syshevskiydvor/> PARSING-------------\n",
      "Delay 4 s.\n",
      "-------------Уютный ресторан-------------\n",
      "-------------.ru/upload/resize_cache/iblock/a4d/728_400_2/img_20806db.jpg-------------\n",
      "-------------PAGE </msk/detailed/restaurants/sumosan/> PARSING-------------\n",
      "Delay 4 s.\n",
      "-------------Ресторан «Сумос-------------\n",
      "-------------.ru/upload/resize_cache/iblock/50a/728_400_2/1f8y8027e59.jpg-------------\n",
      "-------------PAGE </msk/detailed/restaurants/sitlos2/> PARSING-------------\n",
      "Delay 2 s.\n",
      "-------------Сеть семейных р-------------\n",
      "-------------.ru/upload/resize_cache/iblock/6b5/728_400_2/dsc_8008472.jpg-------------\n",
      "-------------PAGE </msk/detailed/restaurants/schaste_na_kryshe/> PARSING-------------\n",
      "Delay 4 s.\n",
      "-------------В БольшомПутинк-------------\n",
      "-------------.ru/upload/resize_cache/iblock/983/728_400_2/11c32.jpg-------------\n",
      "-------------PAGE </msk/detailed/restaurants/subbotitsa/> PARSING-------------\n",
      "Delay 2 s.\n",
      "-------------Сербская домашн-------------\n",
      "-------------.ru/upload/resize_cache/iblock/07a/728_400_2/k97a9041_small07e.jpg-------------\n",
      "-------------PAGE </msk/detailed/restaurants/sukhoy_zakon/> PARSING-------------\n",
      "Delay 2 s.\n",
      "-------------Ресторан «Сухой-------------\n",
      "-------------.ru/upload/resize_cache/iblock/ebb/728_400_2/21711dad.jpg-------------\n",
      "-------------PAGE </msk/detailed/restaurants/time_avenue/> PARSING-------------\n",
      "Delay 2 s.\n",
      "-------------Ресторан «Тайм -------------\n",
      "-------------.ru/upload/resize_cache/iblock/1fb/728_400_2/dsc_1254_23b7.jpg-------------\n",
      "-------------PAGE </msk/detailed/restaurants/syusipusi/> PARSING-------------\n",
      "Delay 3 s.\n",
      "---------------------------\n",
      "-------------.ru/upload/resize_cache/iblock/84b/728_400_2/x4a0161_2da2.jpg-------------\n",
      "-------------PAGE </msk/detailed/restaurants/tabriz/> PARSING-------------\n",
      "Delay 2 s.\n",
      "---------------------------\n",
      "-------------.ru/upload/resize_cache/iblock/39e/728_400_2/dsc_0957_1_2377.jpg-------------\n",
      "-------------PAGE </msk/detailed/restaurants/tvoe_cafe/> PARSING-------------\n",
      "Delay 3 s.\n",
      "---------------------------\n",
      "-------------.ru/upload/resize_cache/iblock/add/728_400_2/dsc_0005_2553.jpg-------------\n",
      "-------------PAGE </msk/detailed/restaurants/tatev/> PARSING-------------\n",
      "Delay 4 s.\n",
      "-------------Ресторан «Татев-------------\n",
      "-------------.ru/upload/resize_cache/iblock/8bf/728_400_2/mg_6546_1_2e86.jpg-------------\n",
      "-------------PAGE </msk/detailed/restaurants/soup-cafe/> PARSING-------------\n",
      "Delay 4 s.\n",
      "---------------------------\n",
      "-------------.ru/upload/resize_cache/iblock/52e/728_400_2/1556296_aixrr_agql_zlfdomhkqigjvh0dp7xynxvv1vsvcr70d5b.jpg-------------\n",
      "-------------PAGE </msk/detailed/restaurants/sytaya-utka/> PARSING-------------\n",
      "Delay 2 s.\n",
      "-------------Ресторан «Сытая-------------\n",
      "-------------.ru/upload/resize_cache/iblock/ea6/728_400_2/6990b.jpg-------------\n",
      "-------------PAGE </msk/detailed/restaurants/sytyy-los/> PARSING-------------\n",
      "Delay 4 s.\n",
      "-------------Сеть семейных р-------------\n",
      "-------------.ru/upload/resize_cache/iblock/910/728_400_2/dsc_7141karaoke_2212.jpg-------------\n",
      "-------------PAGE </msk/detailed/restaurants/soup-kafe/> PARSING-------------\n",
      "Delay 3 s.\n",
      "---------------------------\n",
      "-------------.ru/upload/resize_cache/iblock/0a7/728_400_2/5553_be7a.jpg-------------\n",
      "-------------PAGE </msk/detailed/restaurants/sytyy-los-medvedkovo/> PARSING-------------\n",
      "Delay 4 s.\n",
      "-------------Сеть семейных р-------------\n",
      "-------------.ru/upload/resize_cache/iblock/aeb/728_400_2/dsc_5862interer_254a.jpg-------------\n",
      "-------------PAGE </msk/detailed/restaurants/syltan/> PARSING-------------\n",
      "Delay 2 s.\n",
      "-------------В последние год-------------\n",
      "-------------.ru/upload/resize_cache/iblock/674/728_400_2/k97a6879_panorama_webd16.jpg-------------\n",
      "-------------PAGE </msk/detailed/restaurants/suvoroff/> PARSING-------------\n",
      "Delay 3 s.\n",
      "-------------\"Суворов\", расп-------------\n",
      "-------------.ru/upload/resize_cache/iblock/6f3/728_400_2/suvorov_zal1_005.jpg-------------\n",
      "-------------PAGE </msk/detailed/restaurants/korsh/> PARSING-------------\n",
      "Delay 2 s.\n",
      "-------------В дореволюционн-------------\n",
      "-------------.ru/upload/resize_cache/iblock/633/728_400_2/1361452068.jpg-------------\n",
      "-------------PAGE </msk/detailed/restaurants/sitlos/> PARSING-------------\n",
      "Delay 3 s.\n",
      "-------------Сеть семейных р-------------\n",
      "-------------.ru/upload/resize_cache/iblock/68c/728_400_2/photo_008_26e2.jpg-------------\n",
      "-------------PAGE </msk/detailed/restaurants/pirpushka/> PARSING-------------\n",
      "Delay 3 s.\n",
      "-------------Ресторан «Ткема-------------\n",
      "-------------.ru/upload/resize_cache/iblock/ae3/728_400_2/img_87418fd.jpg-------------\n",
      "-------------PAGE </msk/detailed/restaurants/territoria/> PARSING-------------\n",
      "Delay 2 s.\n",
      "---------------------------\n",
      "-------------.ru/upload/resize_cache/iblock/11e/728_400_2/interior_yasenevo14b679.jpg-------------\n",
      "-------------PAGE </msk/detailed/restaurants/terrasa/> PARSING-------------\n",
      "Delay 2 s.\n",
      "---------------------------\n",
      "-------------.ru/upload/resize_cache/iblock/b1f/728_400_2/k97a0288_web75f.jpg-------------\n",
      "-------------PAGE </msk/detailed/restaurants/teleskop/> PARSING-------------\n",
      "Delay 3 s.\n",
      "-------------При московскомП-------------\n",
      "-------------.ru/upload/resize_cache/iblock/64a/728_400_2/18bdaaa2a84664ce1dc001a3772ef7b6d47.jpg-------------\n",
      "-------------PAGE </msk/detailed/restaurants/templ_bar_strogino/> PARSING-------------\n",
      "Delay 4 s.\n",
      "-------------С первоговзгляд-------------\n",
      "-------------.ru/upload/resize_cache/iblock/5a0/728_400_2/02_797296.jpg-------------\n",
      "-------------PAGE </msk/detailed/restaurants/cafe-3-stupeni/> PARSING-------------\n",
      "Delay 3 s.\n",
      "---------------------------\n",
      "-------------.ru/upload/resize_cache/iblock/f54/728_400_2/k97a6058_small721.jpg-------------\n",
      "-------------PAGE </msk/detailed/restaurants/traktir-lefortovo/> PARSING-------------\n",
      "Delay 2 s.\n",
      "---------------------------\n",
      "-------------.ru/upload/resize_cache/iblock/844/728_400_2/1395859905_1_26a3.jpg-------------\n",
      "-------------PAGE </msk/detailed/restaurants/toki_sushi/> PARSING-------------\n",
      "Delay 3 s.\n",
      "---------------------------\n",
      "-------------.ru/upload/resize_cache/iblock/754/728_400_2/13bfb.jpg-------------\n",
      "-------------PAGE </msk/detailed/restaurants/torsher/> PARSING-------------\n",
      "Delay 4 s.\n",
      "-------------Ресторан «Торше-------------\n",
      "-------------.ru/upload/resize_cache/iblock/d6c/728_400_2/dsc_0043_1_2d50.jpg-------------\n",
      "-------------PAGE </msk/detailed/restaurants/tokio_san/> PARSING-------------\n",
      "Delay 3 s.\n",
      "---------------------------\n",
      "-------------.ru/upload/resize_cache/iblock/ae8/728_400_2/dsc_0053_2698.jpg-------------\n",
      "-------------PAGE </msk/detailed/restaurants/tri_ersha/> PARSING-------------\n",
      "Delay 3 s.\n",
      "---------------------------\n",
      "-------------.ru/upload/resize_cache/iblock/68a/728_400_2/2_gummca_7445e.jpg-------------\n",
      "-------------PAGE </msk/detailed/restaurants/tongal/> PARSING-------------\n",
      "Delay 4 s.\n"
     ]
    },
    {
     "name": "stdout",
     "output_type": "stream",
     "text": [
      "---------------------------\n",
      "-------------.ru/upload/resize_cache/iblock/1e0/728_400_2/img_1135683.jpg-------------\n",
      "-------------PAGE </msk/detailed/restaurants/treli/> PARSING-------------\n",
      "Delay 3 s.\n",
      "---------------------------\n",
      "-------------.ru/upload/resize_cache/iblock/111/728_400_2/71be6.jpg-------------\n",
      "-------------PAGE </msk/detailed/restaurants/trattoria-di-djulia/> PARSING-------------\n",
      "Delay 2 s.\n",
      "-------------Траттория «Ди Д-------------\n",
      "-------------.ru/upload/resize_cache/iblock/2ec/728_400_2/img_0885572.jpg-------------\n",
      "-------------PAGE </msk/detailed/restaurants/traktir-pozharskogo/> PARSING-------------\n",
      "Delay 4 s.\n",
      "-------------Ресторан«Тракти-------------\n",
      "-------------.ru/upload/resize_cache/iblock/52c/728_400_2/02606.jpg-------------\n",
      "-------------PAGE </msk/detailed/restaurants/traktir-novoslobodskaya/> PARSING-------------\n",
      "Delay 3 s.\n",
      "---------------------------\n",
      "-------------.ru/upload/resize_cache/iblock/44f/728_400_2/dsc_0403_22ea.jpg-------------\n",
      "-------------PAGE </msk/detailed/restaurants/territoriya/> PARSING-------------\n",
      "Delay 3 s.\n",
      "---------------------------\n",
      "-------------.ru/upload/resize_cache/iblock/a74/728_400_2/m7icyyuhxbm303.jpg-------------\n",
      "-------------PAGE </msk/detailed/restaurants/tripertsa/> PARSING-------------\n",
      "Delay 4 s.\n",
      "---------------------------\n",
      "-------------.ru/upload/resize_cache/iblock/1bd/728_400_2/8roxd7n39kmd72.jpg-------------\n",
      "-------------PAGE </msk/detailed/restaurants/teplitsa/> PARSING-------------\n",
      "Delay 3 s.\n",
      "-------------Кафе «ТепЛица в-------------\n",
      "-------------.ru/upload/resize_cache/iblock/93e/728_400_2/dhdvjeisqhme2f.jpg-------------\n",
      "-------------PAGE </msk/detailed/restaurants/tinatin/> PARSING-------------\n",
      "Delay 2 s.\n",
      "-------------Заведение со зв-------------\n",
      "-------------.ru/upload/resize_cache/iblock/d8d/728_400_2/tinatin_zal1_002.jpg-------------\n",
      "-------------PAGE </msk/detailed/restaurants/uryuk_marshala_zhukova/> PARSING-------------\n",
      "Delay 2 s.\n",
      "-------------Ресторан «Урюк»-------------\n",
      "-------------.ru/upload/resize_cache/iblock/7b8/728_400_2/img_1018f75.jpg-------------\n",
      "-------------PAGE </msk/detailed/restaurants/uryuk_leninskiy_pr/> PARSING-------------\n",
      "Delay 2 s.\n",
      "-------------Двухэтажный рес-------------\n",
      "-------------.ru/upload/resize_cache/iblock/1d3/728_400_2/img_08973f2.jpg-------------\n",
      "-------------PAGE </msk/detailed/restaurants/urukcafe/> PARSING-------------\n",
      "Delay 4 s.\n",
      "-------------Ресторан «Урюк»-------------\n",
      "-------------.ru/upload/resize_cache/iblock/a0b/728_400_2/dsc_124039e.jpg-------------\n",
      "-------------PAGE </msk/detailed/restaurants/ugogolya/> PARSING-------------\n",
      "Delay 4 s.\n",
      "-------------Кафе «У Гоголя»-------------\n",
      "-------------.ru/upload/resize_cache/iblock/fd7/728_400_2/27_kafe_restoran_u_gogolya_na_kurskoy832.jpg-------------\n",
      "-------------PAGE </msk/detailed/restaurants/u_mikhalycha_taganskaya/> PARSING-------------\n",
      "Delay 2 s.\n",
      "---------------------------\n",
      "-------------.ru/upload/resize_cache/iblock/eab/728_400_2/honeyview_mg_863899f.jpg-------------\n",
      "-------------PAGE </msk/detailed/restaurants/usadba_cafe/> PARSING-------------\n",
      "Delay 3 s.\n",
      "-------------В живописномпар-------------\n",
      "-------------.ru/upload/resize_cache/iblock/62c/728_400_2/k97a9322_smallf4b.jpg-------------\n",
      "-------------PAGE </msk/detailed/restaurants/ultra/> PARSING-------------\n",
      "Delay 4 s.\n",
      "-------------Ресторан «Ультр-------------\n",
      "-------------.ru/upload/resize_cache/iblock/a11/728_400_2/dsc_0041_1_295c.jpg-------------\n",
      "-------------PAGE </msk/detailed/restaurants/edem/> PARSING-------------\n",
      "Delay 3 s.\n",
      "-------------Армянская кухня-------------\n",
      "-------------.ru/upload/resize_cache/iblock/ffb/728_400_2/img_6969425.jpg-------------\n",
      "-------------PAGE </msk/detailed/restaurants/troe_iz_lartsa/> PARSING-------------\n",
      "Delay 4 s.\n",
      "---------------------------\n",
      "-------------.ru/upload/resize_cache/iblock/810/728_400_2/01f698a9b9510a7717c7427.jpg-------------\n",
      "-------------PAGE </msk/detailed/restaurants/urozhay/> PARSING-------------\n",
      "Delay 3 s.\n",
      "-------------Кафе-бар «Урожа-------------\n",
      "-------------.ru/upload/resize_cache/iblock/c78/728_400_2/dz8a411169588b.jpg-------------\n",
      "-------------PAGE </msk/detailed/restaurants/tykva/> PARSING-------------\n",
      "Delay 2 s.\n",
      "---------------------------\n",
      "-------------.ru/upload/resize_cache/iblock/50e/728_400_2/image_23_06_16_04_46_4102.jpg-------------\n",
      "-------------PAGE </msk/detailed/restaurants/troyka/> PARSING-------------\n",
      "Delay 4 s.\n",
      "---------------------------\n",
      "-------------.ru/upload/resize_cache/iblock/753/728_400_2/img_698047e.jpg-------------\n",
      "-------------PAGE </msk/detailed/restaurants/ugeorgiya/> PARSING-------------\n",
      "Delay 4 s.\n",
      "---------------------------\n",
      "-------------.ru/upload/resize_cache/iblock/90a/728_400_2/dsc_044811a.jpg-------------\n",
      "-------------PAGE </msk/detailed/restaurants/uryuk-set-restoranov/> PARSING-------------\n",
      "Delay 2 s.\n",
      "-------------В одной из баше-------------\n",
      "-------------.ru/upload/resize_cache/iblock/1db/728_400_2/321a.jpeg-------------\n",
      "-------------PAGE </msk/detailed/restaurants/uryuk-pr-mira/> PARSING-------------\n",
      "Delay 2 s.\n",
      "-------------Ресторан «Урюк»-------------\n",
      "-------------.ru/upload/resize_cache/iblock/008/728_400_2/370162ad.jpg-------------\n",
      "-------------PAGE </msk/detailed/restaurants/uryuk-profsoyuznaya/> PARSING-------------\n",
      "Delay 4 s.\n",
      "---------------------------\n",
      "-------------.ru/upload/resize_cache/iblock/aaf/728_400_2/1_y_28b9.jpg-------------\n",
      "-------------PAGE </msk/detailed/restaurants/uzbek_rest/> PARSING-------------\n",
      "Delay 2 s.\n",
      "-------------Ресторан«Узбеки-------------\n",
      "-------------.ru/upload/resize_cache/iblock/2fd/728_400_2/1uzbekistan_zal3_004032.jpg-------------\n",
      "-------------PAGE </msk/detailed/restaurants/turandot/> PARSING-------------\n",
      "Delay 3 s.\n",
      "-------------Ресторан «Туран-------------\n",
      "-------------.ru/upload/resize_cache/iblock/7ed/728_400_2/zal1_001_274f8.jpg-------------\n",
      "-------------PAGE </msk/detailed/restaurants/ueduarda/> PARSING-------------\n",
      "Delay 3 s.\n",
      "-------------Расположенный н-------------\n",
      "-------------.ru/upload/resize_cache/iblock/df6/728_400_2/k97a3962_panorama_web671.jpg-------------\n",
      "-------------PAGE </msk/detailed/restaurants/tuttiigiorni/> PARSING-------------\n",
      "Delay 3 s.\n",
      "-------------Атмосфера подли-------------\n",
      "-------------.ru/upload/resize_cache/iblock/8e3/728_400_2/nik_6965926.jpg-------------\n",
      "-------------PAGE </msk/detailed/restaurants/fonda/> PARSING-------------\n",
      "Delay 3 s.\n",
      "-------------БесплатныйМенед-------------\n",
      "-------------.ru/upload/resize_cache/iblock/574/728_400_2/fonda_5.jpg-------------\n",
      "-------------PAGE </msk/detailed/restaurants/usadba_ostrov/> PARSING-------------\n",
      "Delay 4 s.\n",
      "-------------Загородный клуб-------------\n",
      "-------------.ru/upload/resize_cache/iblock/de6/728_400_2/k97a0826_small5c1.jpg-------------\n",
      "-------------PAGE </msk/detailed/restaurants/fitil_club/> PARSING-------------\n",
      "Delay 4 s.\n",
      "---------------------------\n",
      "-------------.ru/upload/resize_cache/iblock/674/728_400_2/2-vip1.jpg-------------\n",
      "-------------PAGE </msk/detailed/restaurants/fley/> PARSING-------------\n",
      "Delay 2 s.\n",
      "-------------Ресторан «Флей»-------------\n",
      "-------------.ru/upload/resize_cache/iblock/d80/728_400_2/4_2b66.jpg-------------\n",
      "-------------PAGE </msk/detailed/restaurants/phaeton/> PARSING-------------\n",
      "Delay 2 s.\n",
      "-------------Ресторан «Фаэто-------------\n",
      "-------------.ru/upload/resize_cache/iblock/70e/728_400_2/1_239f.jpg-------------\n",
      "-------------PAGE </msk/detailed/restaurants/hinkaloff/> PARSING-------------\n",
      "Delay 3 s.\n",
      "-------------Кафе «Хинкалофф-------------\n",
      "-------------.ru/upload/resize_cache/iblock/5ae/728_400_2/hinkaloff_1.jpg-------------\n",
      "-------------PAGE </msk/detailed/restaurants/florencia/> PARSING-------------\n",
      "Delay 4 s.\n",
      "-------------Флоренция – это-------------\n",
      "-------------.ru/upload/resize_cache/iblock/43d/728_400_2/img_1089258.jpg-------------\n",
      "-------------PAGE </msk/detailed/restaurants/hinkalnaya_na_baumanke/> PARSING-------------\n",
      "Delay 4 s.\n",
      "-------------Кафе «Хинкальна-------------\n",
      "-------------.ru/upload/resize_cache/iblock/318/728_400_2/dsc_0674_22e4.jpg-------------\n",
      "-------------PAGE </msk/detailed/restaurants/farfalle/> PARSING-------------\n",
      "Delay 4 s.\n",
      "---------------------------\n",
      "-------------.ru/upload/resize_cache/iblock/55b/728_400_2/img_9743_2224.jpg-------------\n",
      "-------------PAGE </msk/detailed/restaurants/han/> PARSING-------------\n",
      "Delay 3 s.\n"
     ]
    },
    {
     "name": "stdout",
     "output_type": "stream",
     "text": [
      "---------------------------\n",
      "-------------.ru/upload/resize_cache/iblock/afe/728_400_2/dsc_0861_22de.jpg-------------\n",
      "-------------PAGE </msk/detailed/restaurants/hachmaz/> PARSING-------------\n",
      "Delay 3 s.\n",
      "---------------------------\n",
      "-------------.ru/upload/resize_cache/iblock/f12/728_400_2/dsc_1170_216e.jpg-------------\n",
      "-------------PAGE </msk/detailed/restaurants/hachapuriya/> PARSING-------------\n",
      "Delay 4 s.\n",
      "-------------Кафе «Хачапурия-------------\n",
      "-------------.ru/upload/resize_cache/iblock/e31/728_400_2/ekik_e_gheog35_rp68_jg_article79f.png-------------\n",
      "-------------PAGE </msk/detailed/restaurants/fortepyano/> PARSING-------------\n",
      "Delay 2 s.\n",
      "---------------------------\n",
      "-------------.ru/upload/resize_cache/iblock/9a3/728_400_2/marifg0mezq_2d65.jpg-------------\n",
      "-------------PAGE </msk/detailed/restaurants/uyutnoe-mesto/> PARSING-------------\n",
      "Delay 3 s.\n",
      "-------------Кафе «Уютное ме-------------\n",
      "-------------.ru/upload/resize_cache/iblock/8c1/728_400_2/img_1225_29_30_fused2_2cf1.jpg-------------\n",
      "-------------PAGE </msk/detailed/restaurants/hizhina-sokolniki/> PARSING-------------\n",
      "Delay 2 s.\n",
      "---------------------------\n",
      "-------------.ru/upload/resize_cache/iblock/e78/728_400_2/5551e0054ae75498.jpg-------------\n",
      "-------------PAGE </msk/detailed/restaurants/khizhina-balashikha/> PARSING-------------\n",
      "Delay 4 s.\n",
      "---------------------------\n",
      "-------------.ru/upload/resize_cache/iblock/5e0/728_400_2/f8ac8cb69c553cb2b444170bffcdaa05bfd.jpg-------------\n",
      "-------------PAGE </msk/detailed/restaurants/khizhina-universitet/> PARSING-------------\n",
      "Delay 3 s.\n",
      "---------------------------\n",
      "-------------.ru/upload/resize_cache/iblock/90c/728_400_2/kim2_6689140857_2942.jpg-------------\n",
      "-------------PAGE </msk/detailed/restaurants/khizhina-chertanovo/> PARSING-------------\n",
      "Delay 2 s.\n",
      "---------------------------\n",
      "-------------.ru/upload/resize_cache/iblock/622/728_400_2/kim2_6740144036c5f.jpg-------------\n",
      "-------------PAGE </msk/detailed/restaurants/khazuraho/> PARSING-------------\n",
      "Delay 3 s.\n",
      "-------------Среди всего мно-------------\n",
      "-------------.ru/upload/resize_cache/iblock/491/728_400_2/k97a0842_small95f.jpg-------------\n",
      "-------------PAGE </msk/detailed/restaurants/xigina/> PARSING-------------\n",
      "Delay 2 s.\n",
      "---------------------------\n",
      "--------------------------\n",
      "-------------PAGE </msk/detailed/restaurants/hmel-el/> PARSING-------------\n",
      "Delay 2 s.\n",
      "-------------Пивнойресторан -------------\n",
      "-------------.ru/upload/resize_cache/iblock/464/728_400_2/img_6158e63.jpg-------------\n",
      "-------------PAGE </msk/detailed/restaurants/cdl/> PARSING-------------\n",
      "Delay 3 s.\n",
      "-------------Ресторан Центра-------------\n",
      "-------------.ru/upload/resize_cache/iblock/3b7/728_400_2/mfe_8575_iilc46.jpg-------------\n",
      "-------------PAGE </msk/detailed/restaurants/chayka_restoran_yakhta/> PARSING-------------\n",
      "Delay 2 s.\n",
      "-------------Причал ресторан-------------\n",
      "-------------.ru/upload/resize_cache/iblock/d59/728_400_2/img_33193b5.jpg-------------\n",
      "-------------PAGE </msk/detailed/restaurants/tchaikovsky-cafe/> PARSING-------------\n",
      "Delay 4 s.\n",
      "-------------Ресторан «Чайко-------------\n",
      "-------------.ru/upload/resize_cache/iblock/39d/728_400_2/2_zpro0043_1_129.jpg-------------\n",
      "-------------PAGE </msk/detailed/restaurants/khoum_bar_volzhskiy_bulvar/> PARSING-------------\n",
      "Delay 2 s.\n",
      "---------------------------\n",
      "-------------.ru/upload/resize_cache/iblock/da9/728_400_2/nik_9935_2c6a.jpg-------------\n",
      "-------------PAGE </msk/detailed/restaurants/khram_drakona/> PARSING-------------\n",
      "Delay 4 s.\n",
      "-------------Ресторан «Храм -------------\n",
      "-------------.ru/upload/resize_cache/iblock/aef/728_400_2/13c9.jpg-------------\n",
      "-------------PAGE </msk/detailed/restaurants/khinkalnaya/> PARSING-------------\n",
      "Delay 3 s.\n",
      "-------------Вкусно, душевно-------------\n",
      "-------------.ru/upload/resize_cache/iblock/2e8/728_400_2/k97a0726_small431.jpg-------------\n",
      "-------------PAGE </msk/detailed/restaurants/hinkalnaya_na_sushchevke/> PARSING-------------\n",
      "Delay 4 s.\n",
      "-------------Комплекс «Хинка-------------\n",
      "-------------.ru/upload/resize_cache/iblock/4cd/728_400_2/k97a1163_small4c3.jpg-------------\n",
      "-------------PAGE </msk/detailed/restaurants/tsefey/> PARSING-------------\n",
      "Delay 2 s.\n",
      "---------------------------\n",
      "-------------.ru/upload/resize_cache/iblock/b7a/728_400_2/img_19_2e5e.jpg-------------\n",
      "-------------PAGE </msk/detailed/restaurants/tsinandali/> PARSING-------------\n",
      "Delay 4 s.\n",
      "---------------------------\n",
      "-------------.ru/upload/resize_cache/iblock/df2/728_400_2/252e3.jpg-------------\n",
      "-------------PAGE </msk/detailed/restaurants/tsezar/> PARSING-------------\n",
      "Delay 4 s.\n",
      "---------------------------\n",
      "-------------.ru/upload/resize_cache/iblock/16f/728_400_2/dsc_1017_1_212e.jpg-------------\n",
      "-------------PAGE </msk/detailed/restaurants/tsunami/> PARSING-------------\n",
      "Delay 2 s.\n",
      "---------------------------\n",
      "-------------.ru/upload/resize_cache/iblock/2a5/728_400_2/dsc_0246_2948.jpg-------------\n",
      "-------------PAGE </msk/detailed/restaurants/khinkalnaya_lyusinovskiy/> PARSING-------------\n",
      "Delay 2 s.\n",
      "-------------Трапеза в ресто-------------\n",
      "-------------.ru/upload/resize_cache/iblock/e3d/728_400_2/imgq3139_enfuse32e.jpg-------------\n",
      "-------------PAGE </msk/detailed/restaurants/hinkalnaya_serpukhovskaya/> PARSING-------------\n",
      "Delay 3 s.\n",
      "-------------Кафе «Хинкальна-------------\n",
      "-------------.ru/upload/resize_cache/iblock/2f0/728_400_2/4f85bd553c72dd8114001b87_53a2f6c972a995c6.jpg-------------\n",
      "-------------PAGE </msk/detailed/restaurants/chay_u_khana/> PARSING-------------\n",
      "Delay 3 s.\n",
      "---------------------------\n",
      "-------------.ru/upload/resize_cache/iblock/16c/728_400_2/qifr2lsgkau9c9.jpg-------------\n",
      "-------------PAGE </msk/detailed/restaurants/tsarskaya-kukhnya/> PARSING-------------\n",
      "Delay 3 s.\n",
      "-------------Ресторан «Царск-------------\n",
      "-------------.ru/upload/resize_cache/iblock/462/728_400_2/clp2b216.jpg-------------\n",
      "-------------PAGE </msk/detailed/restaurants/tsentralnyy/> PARSING-------------\n",
      "Delay 4 s.\n",
      "---------------------------\n",
      "-------------.ru/upload/resize_cache/iblock/fa6/728_400_2/untitled_2_2857.jpg-------------\n",
      "-------------PAGE </msk/detailed/restaurants/hudozhnik/> PARSING-------------\n",
      "Delay 3 s.\n",
      "---------------------------\n",
      "-------------.ru/upload/resize_cache/iblock/f25/728_400_2/dscn5841_2604.jpg-------------\n",
      "-------------PAGE </msk/detailed/restaurants/traktirsp/> PARSING-------------\n",
      "Delay 2 s.\n",
      "-------------В двух шагах от-------------\n",
      "-------------.ru/upload/resize_cache/iblock/850/728_400_2/k97a7381_small717.jpg-------------\n",
      "-------------PAGE </msk/detailed/restaurants/cycyla/> PARSING-------------\n",
      "Delay 4 s.\n",
      "-------------Ресторан«Цыцыла-------------\n",
      "-------------.ru/upload/resize_cache/iblock/9a2/728_400_2/1.jpg-------------\n",
      "-------------PAGE </msk/detailed/restaurants/chaykovskiy_v_tiflise/> PARSING-------------\n",
      "Delay 4 s.\n",
      "-------------Рекомендуем так-------------\n",
      "-------------.ru/upload/resize_cache/iblock/d61/728_400_2/pro0154_1_36c.jpg-------------\n",
      "-------------PAGE </msk/detailed/restaurants/chaykhana_pavlin_mavlin_aminevskoe_shosse/> PARSING-------------\n",
      "Delay 3 s.\n",
      "-------------Ресторан «Чайха-------------\n",
      "-------------.ru/upload/resize_cache/iblock/426/728_400_2/am_veranda_005b87.jpg-------------\n",
      "-------------PAGE </msk/detailed/restaurants/tapchan/> PARSING-------------\n",
      "Delay 3 s.\n",
      "-------------Чайхана на Вост-------------\n",
      "-------------.ru/upload/resize_cache/iblock/cab/728_400_2/9826.jpg-------------\n",
      "-------------PAGE </msk/detailed/restaurants/tapchan_sokolniki/> PARSING-------------\n",
      "Delay 3 s.\n",
      "-------------Ресторан «Тапча-------------\n",
      "-------------.ru/upload/resize_cache/iblock/de8/728_400_2/02_02_9e0x6956472.jpg-------------\n",
      "-------------PAGE </msk/detailed/restaurants/tapchan_leningradskoe/> PARSING-------------\n",
      "Delay 3 s.\n",
      "-------------Если вы хотите -------------\n",
      "-------------.ru/upload/resize_cache/iblock/621/728_400_2/01_02_dsc_04093e4.jpg-------------\n",
      "-------------PAGE </msk/detailed/restaurants/tapchan_zvenigorodskoe_shosse/> PARSING-------------\n",
      "Delay 4 s.\n",
      "-------------Мотивы теплого -------------\n",
      "-------------.ru/upload/resize_cache/iblock/e22/728_400_2/img_5700_2ecf.jpg-------------\n",
      "-------------PAGE </msk/detailed/restaurants/tapchan_udaltsova/> PARSING-------------\n",
      "Delay 3 s.\n",
      "-------------Ресторан «Тапча-------------\n",
      "-------------.ru/upload/resize_cache/iblock/5ad/728_400_2/2_2_465d50.jpg-------------\n",
      "-------------PAGE </msk/detailed/restaurants/tapchan_set_restoranov/> PARSING-------------\n",
      "Delay 3 s.\n"
     ]
    },
    {
     "name": "stdout",
     "output_type": "stream",
     "text": [
      "-------------В ресторанах «Т-------------\n",
      "--------------------------\n",
      "-------------PAGE </msk/detailed/restaurants/pavlinmavlin/> PARSING-------------\n",
      "Delay 4 s.\n",
      "-------------Шесть ресторано-------------\n",
      "--------------------------\n",
      "-------------PAGE </msk/detailed/restaurants/pavlin_mavlin_bakuninskaya/> PARSING-------------\n",
      "Delay 2 s.\n",
      "-------------Ресторан «Чайха-------------\n",
      "-------------.ru/upload/resize_cache/iblock/ec3/728_400_2/bakuninskaya_zal1_001bf1.jpg-------------\n",
      "-------------PAGE </msk/detailed/restaurants/pavlin_mavlin_koroleva/> PARSING-------------\n",
      "Delay 3 s.\n",
      "-------------Ресторан «Чайха-------------\n",
      "-------------.ru/upload/resize_cache/iblock/26b/728_400_2/akkoroleva_vipzal_002dcb.jpg-------------\n",
      "-------------PAGE </msk/detailed/restaurants/pavlin_mavlin_profsoyuznaya/> PARSING-------------\n",
      "Delay 2 s.\n",
      "-------------Ресторан «Чайха-------------\n",
      "-------------.ru/upload/resize_cache/iblock/e8c/728_400_2/profsoyuznaya_bar_001ac0.jpg-------------\n",
      "-------------PAGE </msk/detailed/restaurants/pavlin_mavlin_akademicheskaya/> PARSING-------------\n",
      "Delay 4 s.\n",
      "-------------Ресторан «Чайха-------------\n",
      "-------------.ru/upload/resize_cache/iblock/786/728_400_2/bakademicheskaya_zal1_001b08.jpg-------------\n",
      "-------------PAGE </msk/detailed/restaurants/pavlin_mavlin_hinki/> PARSING-------------\n",
      "Delay 3 s.\n",
      "-------------Ресторан «Чайха-------------\n",
      "-------------.ru/upload/resize_cache/iblock/ad5/728_400_2/himki_zal1_003b2d.jpg-------------\n",
      "-------------PAGE </msk/detailed/restaurants/sharabara/> PARSING-------------\n",
      "Delay 4 s.\n",
      "-------------Ресторан «Чайха-------------\n",
      "-------------.ru/upload/resize_cache/iblock/21a/728_400_2/dsc_8090_hdr_edit_174b.jpg-------------\n",
      "-------------PAGE </msk/detailed/restaurants/chaykhana-mangal-vegas/> PARSING-------------\n",
      "Delay 3 s.\n",
      "---------------------------\n",
      "-------------.ru/upload/resize_cache/iblock/7b0/728_400_2/dsc_1762_2348.jpg-------------\n",
      "-------------PAGE </msk/detailed/restaurants/chaykhana-mangal-zolotoy-vavilon/> PARSING-------------\n",
      "Delay 2 s.\n",
      "---------------------------\n",
      "-------------.ru/upload/resize_cache/iblock/4fe/728_400_2/dsc_1917_2b5b.jpg-------------\n",
      "-------------PAGE </msk/detailed/restaurants/chas-pik/> PARSING-------------\n",
      "Delay 4 s.\n",
      "---------------------------\n",
      "-------------.ru/upload/resize_cache/iblock/f93/728_400_2/dsc_0033_24d8.jpg-------------\n",
      "-------------PAGE </msk/detailed/restaurants/bay/> PARSING-------------\n",
      "Delay 3 s.\n",
      "-------------Ресторан «Чайхо-------------\n",
      "-------------.ru/upload/resize_cache/iblock/88d/728_400_2/1ch45c.jpg-------------\n",
      "-------------PAGE </msk/detailed/restaurants/chaykhona-1/> PARSING-------------\n",
      "Delay 2 s.\n",
      "-------------«Чайхона№1» в М-------------\n",
      "-------------.ru/upload/resize_cache/iblock/719/728_400_2/img_261014d.jpg-------------\n",
      "-------------PAGE </msk/detailed/restaurants/cherdak/> PARSING-------------\n",
      "Delay 2 s.\n",
      "-------------Кафе-бар-клуб «-------------\n",
      "-------------.ru/upload/resize_cache/iblock/ef3/728_400_2/00171f.jpg-------------\n",
      "-------------PAGE </msk/detailed/restaurants/shale_berezka/> PARSING-------------\n",
      "Delay 2 s.\n",
      "-------------Загородный рест-------------\n",
      "-------------.ru/upload/resize_cache/iblock/a1e/728_400_2/begel_interior_055ddc.jpg-------------\n",
      "-------------PAGE </msk/detailed/restaurants/chentrale/> PARSING-------------\n",
      "Delay 4 s.\n",
      "-------------Ресторан «Чентр-------------\n",
      "-------------.ru/upload/resize_cache/iblock/11c/728_400_2/img_4878109494e.jpg-------------\n",
      "-------------PAGE </msk/detailed/restaurants/shashlikhouse/> PARSING-------------\n",
      "Delay 2 s.\n",
      "-------------Уже почти 10лет-------------\n",
      "-------------.ru/upload/resize_cache/iblock/209/728_400_2/9470ff.jpg-------------\n",
      "-------------PAGE </msk/detailed/restaurants/shanovniy/> PARSING-------------\n",
      "Delay 4 s.\n",
      "-------------Ресторан «Шанов-------------\n",
      "-------------.ru/upload/resize_cache/iblock/de3/728_400_2/dsc_824469f.jpg-------------\n",
      "-------------PAGE </msk/detailed/restaurants/shabada/> PARSING-------------\n",
      "Delay 3 s.\n",
      "-------------Ресторан «Шабад-------------\n",
      "-------------.ru/upload/resize_cache/iblock/01f/728_400_2/mg_800412d.jpg-------------\n",
      "-------------PAGE </msk/detailed/restaurants/black_cat/> PARSING-------------\n",
      "Delay 4 s.\n",
      "-------------Ресторан «Черна-------------\n",
      "-------------.ru/upload/resize_cache/iblock/d56/728_400_2/321674123a.jpg-------------\n",
      "-------------PAGE </msk/detailed/restaurants/chento/> PARSING-------------\n",
      "Delay 4 s.\n",
      "-------------Ресторан «Ченто-------------\n",
      "-------------.ru/upload/resize_cache/iblock/f17/728_400_2/4_501f42.jpg-------------\n",
      "-------------PAGE </msk/detailed/restaurants/chashki/> PARSING-------------\n",
      "Delay 4 s.\n",
      "---------------------------\n",
      "-------------.ru/upload/resize_cache/iblock/df9/728_400_2/img_1876_24e7.jpg-------------\n",
      "-------------PAGE </msk/detailed/restaurants/sharden/> PARSING-------------\n",
      "Delay 4 s.\n",
      "-------------Кафе «Шарден» --------------\n",
      "-------------.ru/upload/resize_cache/iblock/3bd/728_400_2/k97a8656_web65b.jpg-------------\n",
      "-------------PAGE </msk/detailed/restaurants/sharmanka_kuzminki/> PARSING-------------\n",
      "Delay 3 s.\n",
      "---------------------------\n",
      "-------------.ru/upload/resize_cache/iblock/298/728_400_2/dsc_0669_1_2bd9.jpg-------------\n",
      "-------------PAGE </msk/detailed/restaurants/restoran-shan/> PARSING-------------\n",
      "Delay 3 s.\n",
      "-------------Информация по з-------------\n",
      "-------------.ru/upload/resize_cache/iblock/c2a/728_400_2/174ed728346b05f5333c9385db8c9b7c07c.jpg-------------\n",
      "-------------PAGE </msk/detailed/restaurants/chugunnyy_most/> PARSING-------------\n",
      "Delay 4 s.\n",
      "-------------В середине 2015-------------\n",
      "-------------.ru/upload/resize_cache/iblock/21e/728_400_2/01b3d.jpg-------------\n",
      "-------------PAGE </msk/detailed/restaurants/shamkir/> PARSING-------------\n",
      "Delay 4 s.\n",
      "---------------------------\n",
      "-------------.ru/upload/resize_cache/iblock/195/728_400_2/dsc_0243_232f.jpg-------------\n",
      "-------------PAGE </msk/detailed/restaurants/shakh_kebab/> PARSING-------------\n",
      "Delay 3 s.\n",
      "---------------------------\n",
      "-------------.ru/upload/resize_cache/iblock/1b4/728_400_2/sk23c53.jpg-------------\n",
      "-------------PAGE </msk/detailed/restaurants/sharo-baro/> PARSING-------------\n",
      "Delay 2 s.\n",
      "-------------Ресторан «Шаро -------------\n",
      "-------------.ru/upload/resize_cache/iblock/46b/728_400_2/dsc_0126_2154.jpg-------------\n",
      "-------------PAGE </msk/detailed/restaurants/chachapuri/> PARSING-------------\n",
      "Delay 2 s.\n",
      "-------------Кафе-бар «Чачап-------------\n",
      "-------------.ru/upload/resize_cache/iblock/c55/728_400_2/zal_0088e7.jpg-------------\n",
      "-------------PAGE </msk/detailed/restaurants/shakh-dag/> PARSING-------------\n",
      "Delay 4 s.\n",
      "---------------------------\n",
      "-------------.ru/upload/resize_cache/iblock/16d/728_400_2/2shah09b.jpg-------------\n",
      "-------------PAGE </msk/detailed/restaurants/shanson/> PARSING-------------\n",
      "Delay 3 s.\n",
      "-------------Клуб «Шансон» в-------------\n",
      "-------------.ru/upload/resize_cache/iblock/b38/728_400_2/img_0903_04_09_17_21_12_2f40.jpg-------------\n",
      "-------------PAGE </msk/detailed/restaurants/cafe_sharmanka/> PARSING-------------\n",
      "Delay 4 s.\n",
      "-------------Кафе «Шарманка»-------------\n",
      "-------------.ru/upload/resize_cache/iblock/348/728_400_2/zal2_005d45.jpg-------------\n",
      "-------------PAGE </msk/detailed/restaurants/shinok/> PARSING-------------\n",
      "Delay 3 s.\n",
      "-------------Ресторан «Шинок-------------\n",
      "-------------.ru/upload/resize_cache/iblock/656/728_400_2/zal_00457b.jpg-------------\n",
      "-------------PAGE </msk/detailed/restaurants/spaten-haus/> PARSING-------------\n",
      "Delay 3 s.\n",
      "-------------Лучшие немецкие-------------\n",
      "-------------.ru/upload/resize_cache/iblock/3d3/728_400_2/k97a7545_panorama820.jpg-------------\n",
      "-------------PAGE </msk/detailed/restaurants/emporio/> PARSING-------------\n",
      "Delay 3 s.\n",
      "-------------В переводе с ит-------------\n",
      "-------------.ru/upload/resize_cache/iblock/600/728_400_2/emporio_balkon_00120d.jpg-------------\n",
      "-------------PAGE </msk/detailed/restaurants/yugos_donskaya/> PARSING-------------\n",
      "Delay 3 s.\n",
      "-------------Ресторан «Югос»-------------\n",
      "-------------.ru/upload/resize_cache/iblock/95d/728_400_2/dsc00919450.jpg-------------\n",
      "-------------PAGE </msk/detailed/restaurants/ekspromt/> PARSING-------------\n",
      "Delay 2 s.\n",
      "-------------Ресторан «Экспр-------------\n",
      "-------------.ru/upload/resize_cache/iblock/5a9/728_400_2/img_7353ac7.jpg-------------\n",
      "-------------PAGE </msk/detailed/restaurants/eridan/> PARSING-------------\n",
      "Delay 3 s.\n"
     ]
    },
    {
     "name": "stdout",
     "output_type": "stream",
     "text": [
      "---------------------------\n",
      "-------------.ru/upload/resize_cache/iblock/c92/728_400_2/p3231211_23ac.jpg-------------\n",
      "-------------PAGE </msk/detailed/restaurants/expromt_bar/> PARSING-------------\n",
      "Delay 2 s.\n",
      "-------------Ресторан «Экспр-------------\n",
      "-------------.ru/upload/resize_cache/iblock/582/728_400_2/img_8009f07.jpg-------------\n",
      "-------------PAGE </msk/detailed/restaurants/yugoslaviya/> PARSING-------------\n",
      "Delay 2 s.\n",
      "-------------Ресторан «Югосл-------------\n",
      "-------------.ru/upload/resize_cache/iblock/f02/728_400_2/img_3651_edit_edit_2f12.jpg-------------\n",
      "-------------PAGE </msk/detailed/restaurants/ekspeditsiya_expedition/> PARSING-------------\n",
      "Delay 2 s.\n",
      "-------------Позади сотни ма-------------\n",
      "-------------.ru/upload/resize_cache/iblock/2d2/728_400_2/img_82612aa.jpg-------------\n",
      "-------------PAGE </msk/detailed/restaurants/shisha/> PARSING-------------\n",
      "Delay 2 s.\n",
      "---------------------------\n",
      "-------------.ru/upload/resize_cache/iblock/bd9/728_400_2/a827b4_d74ef95c607f47068666f39fd4076884_mv2_d_4288_2848_s_4_2167.jpg-------------\n",
      "-------------PAGE </msk/detailed/restaurants/shokoladnyy-krolik/> PARSING-------------\n",
      "Delay 3 s.\n",
      "---------------------------\n",
      "-------------.ru/upload/resize_cache/iblock/afd/728_400_2/dsc_0171_28c9.jpg-------------\n",
      "-------------PAGE </msk/detailed/restaurants/yuzhnyy-bereg/> PARSING-------------\n",
      "Delay 3 s.\n",
      "---------------------------\n",
      "-------------.ru/upload/resize_cache/iblock/b82/728_400_2/dsc_2115af8.jpg-------------\n",
      "-------------PAGE </msk/detailed/restaurants/shef-gavrilov/> PARSING-------------\n",
      "Delay 2 s.\n",
      "-------------Заведения общес-------------\n",
      "-------------.ru/upload/resize_cache/iblock/fae/728_400_2/zal_008ef9.jpg-------------\n",
      "-------------PAGE </msk/detailed/restaurants/shchavel/> PARSING-------------\n",
      "Delay 4 s.\n",
      "-------------«Вкуснее, полез-------------\n",
      "-------------.ru/upload/resize_cache/iblock/3cc/728_400_2/img_2034_2b44.jpg-------------\n",
      "-------------PAGE </msk/detailed/restaurants/hermitagkaraoke/> PARSING-------------\n",
      "Delay 4 s.\n",
      "-------------«Эрмитаж» означ-------------\n",
      "-------------.ru/upload/resize_cache/iblock/cb8/728_400_2/k97a0346_web953.jpg-------------\n",
      "-------------PAGE </msk/detailed/restaurants/cafeyuzhnoe/> PARSING-------------\n",
      "Delay 2 s.\n",
      "-------------Кафе «Южное» на-------------\n",
      "-------------.ru/upload/resize_cache/iblock/d92/728_400_2/yuzhnoe_garibaldi_zal1_001.jpg-------------\n",
      "-------------PAGE </msk/detailed/restaurants/yar/> PARSING-------------\n",
      "Delay 3 s.\n",
      "-------------Ресторан «Яръ» -------------\n",
      "-------------.ru/upload/iblock/b01/bdfb_zal_vid1.jpg-------------\n",
      "-------------PAGE </msk/detailed/restaurants/kletka/> PARSING-------------\n",
      "Delay 3 s.\n",
      "-------------Познакомиться с-------------\n",
      "-------------.ru/upload/resize_cache/iblock/6a4/728_400_2/zal1_001_4044d0.jpg-------------\n",
      "-------------PAGE </msk/detailed/restaurants/swhotel/> PARSING-------------\n",
      "Delay 3 s.\n",
      "---------------------------\n",
      "-------------.ru/upload/resize_cache/iblock/882/728_400_2/3c1d19d9263ddd8f0a46348bcb411d37e7d.jpg-------------\n"
     ]
    }
   ],
   "source": [
    "data.run()"
   ]
  },
  {
   "cell_type": "code",
   "execution_count": 36,
   "metadata": {
    "collapsed": true
   },
   "outputs": [],
   "source": [
    "data.res_data.to_csv('backup.csv', index=False, encoding='utf-8')"
   ]
  },
  {
   "cell_type": "code",
   "execution_count": 58,
   "metadata": {
    "collapsed": true
   },
   "outputs": [],
   "source": [
    "pages = data.res_data.drop_duplicates()"
   ]
  },
  {
   "cell_type": "code",
   "execution_count": 59,
   "metadata": {},
   "outputs": [
    {
     "data": {
      "text/plain": [
       "(1300, 3)"
      ]
     },
     "execution_count": 59,
     "metadata": {},
     "output_type": "execute_result"
    }
   ],
   "source": [
    "pages.shape"
   ]
  },
  {
   "cell_type": "code",
   "execution_count": 82,
   "metadata": {
    "collapsed": true,
    "scrolled": true
   },
   "outputs": [],
   "source": [
    "t = catalog.merge(pages, on='link').drop_duplicates()"
   ]
  },
  {
   "cell_type": "code",
   "execution_count": 63,
   "metadata": {},
   "outputs": [
    {
     "name": "stdout",
     "output_type": "stream",
     "text": [
      "<class 'pandas.core.frame.DataFrame'>\n",
      "Int64Index: 1306 entries, 0 to 1305\n",
      "Data columns (total 18 columns):\n",
      "ID              1306 non-null int64\n",
      "title           1306 non-null object\n",
      "premium         1306 non-null bool\n",
      "type            1299 non-null object\n",
      "kitchen         1306 non-null object\n",
      "link            1306 non-null object\n",
      "metro           1306 non-null object\n",
      "lon             1296 non-null float64\n",
      "lat             1296 non-null float64\n",
      "address         1306 non-null object\n",
      "phone           1306 non-null object\n",
      "rating          1306 non-null float64\n",
      "timing          1306 non-null object\n",
      "review_count    1306 non-null int64\n",
      "review_link     1306 non-null object\n",
      "avrCheck        1306 non-null object\n",
      "description     1306 non-null object\n",
      "image           1306 non-null object\n",
      "dtypes: bool(1), float64(3), int64(2), object(12)\n",
      "memory usage: 184.9+ KB\n"
     ]
    }
   ],
   "source": [
    "t.info()"
   ]
  },
  {
   "cell_type": "code",
   "execution_count": 68,
   "metadata": {},
   "outputs": [
    {
     "data": {
      "text/html": [
       "<div>\n",
       "<style>\n",
       "    .dataframe thead tr:only-child th {\n",
       "        text-align: right;\n",
       "    }\n",
       "\n",
       "    .dataframe thead th {\n",
       "        text-align: left;\n",
       "    }\n",
       "\n",
       "    .dataframe tbody tr th {\n",
       "        vertical-align: top;\n",
       "    }\n",
       "</style>\n",
       "<table border=\"1\" class=\"dataframe\">\n",
       "  <thead>\n",
       "    <tr style=\"text-align: right;\">\n",
       "      <th></th>\n",
       "      <th>ID</th>\n",
       "      <th>title</th>\n",
       "      <th>premium</th>\n",
       "      <th>type</th>\n",
       "      <th>kitchen</th>\n",
       "      <th>link</th>\n",
       "      <th>metro</th>\n",
       "      <th>lon</th>\n",
       "      <th>lat</th>\n",
       "      <th>address</th>\n",
       "      <th>phone</th>\n",
       "      <th>rating</th>\n",
       "      <th>timing</th>\n",
       "      <th>review_count</th>\n",
       "      <th>review_link</th>\n",
       "      <th>avrCheck</th>\n",
       "      <th>description</th>\n",
       "      <th>image</th>\n",
       "    </tr>\n",
       "  </thead>\n",
       "  <tbody>\n",
       "    <tr>\n",
       "      <th>23</th>\n",
       "      <td>388296</td>\n",
       "      <td>Азербайджан</td>\n",
       "      <td>False</td>\n",
       "      <td>Ресторан, Банкетный зал</td>\n",
       "      <td>Азербайджанская, Турецкая, Восточная</td>\n",
       "      <td>/msk/detailed/restaurants/azerbaydjan/</td>\n",
       "      <td>Октябрьское поле (2.65 км), Полежаевская (2.18...</td>\n",
       "      <td>37.48683</td>\n",
       "      <td>55.769933</td>\n",
       "      <td>Москва, ул. Демьяна Бедного, д. 4</td>\n",
       "      <td>+7 (499) 946-34-30                            ...</td>\n",
       "      <td>4.0</td>\n",
       "      <td>Круглосуточно</td>\n",
       "      <td>8</td>\n",
       "      <td>/msk/opinions/restaurants/azerbaydjan/</td>\n",
       "      <td>1000-1500р.</td>\n",
       "      <td>Путешествие в настоящую азербайджанскую кухню ...</td>\n",
       "      <td>https://www.restoran.ru/upload/resize_cache/ib...</td>\n",
       "    </tr>\n",
       "    <tr>\n",
       "      <th>24</th>\n",
       "      <td>388296</td>\n",
       "      <td>Азербайджан</td>\n",
       "      <td>False</td>\n",
       "      <td>Ресторан, Банкетный зал</td>\n",
       "      <td>Азербайджанская, Турецкая, Восточная</td>\n",
       "      <td>/msk/detailed/restaurants/azerbaydjan/</td>\n",
       "      <td>Октябрьское поле (2.65 км), Полежаевская (2.18...</td>\n",
       "      <td>37.48683</td>\n",
       "      <td>55.769933</td>\n",
       "      <td>Москва, ул. Демьяна Бедного, д. 4</td>\n",
       "      <td>+7 (499) 946-34-30                            ...</td>\n",
       "      <td>4.0</td>\n",
       "      <td>Круглосуточно</td>\n",
       "      <td>8</td>\n",
       "      <td>/msk/opinions/restaurants/azerbaydjan/</td>\n",
       "      <td>1000-1500р.</td>\n",
       "      <td>Путешествие в настоящую азербайджанскую кухню ...</td>\n",
       "      <td>https://www.restoran.ru/upload/resize_cache/ib...</td>\n",
       "    </tr>\n",
       "  </tbody>\n",
       "</table>\n",
       "</div>"
      ],
      "text/plain": [
       "        ID        title  premium                     type  \\\n",
       "23  388296  Азербайджан    False  Ресторан, Банкетный зал   \n",
       "24  388296  Азербайджан    False  Ресторан, Банкетный зал   \n",
       "\n",
       "                                 kitchen  \\\n",
       "23  Азербайджанская, Турецкая, Восточная   \n",
       "24  Азербайджанская, Турецкая, Восточная   \n",
       "\n",
       "                                      link  \\\n",
       "23  /msk/detailed/restaurants/azerbaydjan/   \n",
       "24  /msk/detailed/restaurants/azerbaydjan/   \n",
       "\n",
       "                                                metro       lon        lat  \\\n",
       "23  Октябрьское поле (2.65 км), Полежаевская (2.18...  37.48683  55.769933   \n",
       "24  Октябрьское поле (2.65 км), Полежаевская (2.18...  37.48683  55.769933   \n",
       "\n",
       "                              address  \\\n",
       "23  Москва, ул. Демьяна Бедного, д. 4   \n",
       "24  Москва, ул. Демьяна Бедного, д. 4   \n",
       "\n",
       "                                                phone  rating         timing  \\\n",
       "23  +7 (499) 946-34-30                            ...     4.0  Круглосуточно   \n",
       "24  +7 (499) 946-34-30                            ...     4.0  Круглосуточно   \n",
       "\n",
       "    review_count                             review_link     avrCheck  \\\n",
       "23             8  /msk/opinions/restaurants/azerbaydjan/  1000-1500р.   \n",
       "24             8  /msk/opinions/restaurants/azerbaydjan/  1000-1500р.   \n",
       "\n",
       "                                          description  \\\n",
       "23  Путешествие в настоящую азербайджанскую кухню ...   \n",
       "24  Путешествие в настоящую азербайджанскую кухню ...   \n",
       "\n",
       "                                                image  \n",
       "23  https://www.restoran.ru/upload/resize_cache/ib...  \n",
       "24  https://www.restoran.ru/upload/resize_cache/ib...  "
      ]
     },
     "execution_count": 68,
     "metadata": {},
     "output_type": "execute_result"
    }
   ],
   "source": [
    "t[t.link == '/msk/detailed/restaurants/azerbaydjan/']"
   ]
  },
  {
   "cell_type": "code",
   "execution_count": 89,
   "metadata": {},
   "outputs": [
    {
     "name": "stdout",
     "output_type": "stream",
     "text": [
      "ID : [1232207]\n",
      "title : ['Ласточка']\n",
      "premium : [False]\n",
      "type : ['Ресторан, Банкетный зал, Теплоход']\n",
      "kitchen : ['Японская, Итальянская, Русская']\n",
      "link : ['/msk/detailed/restaurants/lastochka/']\n",
      "metro : ['Воробьевы горы (1.98 км)']\n",
      "lon : [ 37.54584286]\n",
      "lat : [ 55.72636461]\n",
      "address : ['Москва, Лужнецкая наб., причал «Лужники  ...'\n",
      " 'Москва, Лужнецкая наб., причал «Лужники Северный» ...']\n",
      "phone : ['+7 (495) 778-89-94']\n",
      "rating : [ 4.]\n",
      "timing : ['12:00-00:00']\n",
      "review_count : [16]\n",
      "review_link : ['/msk/opinions/restaurants/lastochka/']\n",
      "avrCheck : ['2000-3000р']\n",
      "description : [ 'Двухпалубный теплоход-ресторан «Ласточка», уникальныйстоличный проект, где вы можете насладиться итальянской и средиземноморскойкухней, любуясь непревзойденным видом пейзажей набережной Москвы-реки. Гостеприимство и комфорт в «Ласточке» удачно сочетаются спростой, понятной, но при этом изысканной кухней. Над меню ресторана трудятся 2шеф-повара Доменико Филиппоне и Санг Кеун. Здесь вы можете попробовать блюдаевропейской, итальянской, русской и паназиатской кухни, а винный выборудовлетворит как начинающего ценителя, так и тонкого знатока. Любителей сладкого не оставит равнодушными широкая палитрадесертов ресторана «Ласточка» от ведущего шеф-кондитера Москвы Олега Ильина. Дизайн «Ласточки» очень необычен – в нем переплетаются двавремени: настоящее и прошлое. Снаружи двухпалубный теплоход напоминает нам обэпохе Серебряного века – изящный корпус, имитация гребных колес, залитые светомдеревянные палубы. А уже на борту вы попадаете на современную яхту премиум-класса,во внутренней отделке которой используется только натуральная древесина, апалубы и полы выполнены из тика. В зависимости от сезона, гостям предлагаетсяна выбор 3-4 зала. На нижней палубе располагается банкетный зал и зал-салон, ана верхней палубе – летняя и сезонная застекленная веранды с панорамным видом,откуда открывается живописный вид на водные просторы и набережную Москвы-реки. Между верандами находится 5 VIP-кабинетов, которые оснащены плазменнымителевизорами, а также плетенными креслами и комфортными диванами. На «Ласточке» всегда царит неповторимая атмосфера праздникаи уюта, и именно она дарит гостям самые изысканные и приятные эмоции. Удобноерасположение теплохода позволяет, не уезжая из города, насладиться красивымиприродными пейзажами. Ресторан «Ласточка» - это настоящий банкетный теплоходVIP-класса, который вы можете зафрахтовать для проведения мероприятия на Москве-реке- будь это официальная конференция, корпоратив, шикарная свадьба, шумный день рожденияили семейное мероприятие в узком кругу гостей. Теплоход располагает главнымзалом вместимостью 160 персон, мягким салоном на 80 персон, пятьюVIP-кабинетами от 4-х до 25-ти персон, а также всесезонной (на 140 персон) и летней(на 60 персон) верандами. На «Ласточке» вы можете изготовить на заказ торты, широкаявкусовая палитра которых не оставит вас равнодушным. Кондитеры ресторанаизготовят для вас свадебные и многоярусные торты. По случаю корпоративногопраздника вы можете заказать торт с логотипом компании. Профессиональные кондитеры ресторана подберут ингредиенты повашему вкусу и в высшей степени виртуозно их скомбинируют. Не упуститевозможность попробовать шоколадно-малиновый торт с муссом из темного шоколадаили карамельный торт с бисквитом «брауни» и кофейным хрустиском. Забронируйте теплоход, чтобы отметить по-настоящему яркоесобытие - от свадьбы до дня рождения, юбилеев или корпоративных мероприятий. Профессиональная команда ресторана «Ласточка» всегда будет рядом, чтобы помочь вами вашим гостям.']\n",
      "image : [ 'https://www.restoran.ru/upload/resize_cache/iblock/f62/728_400_2/lastochka_001bb3.jpg']\n"
     ]
    }
   ],
   "source": [
    "for clmn in t.columns.values:\n",
    "    print(clmn,':', t[t.link == '/msk/detailed/restaurants/lastochka/'][clmn].unique())"
   ]
  },
  {
   "cell_type": "code",
   "execution_count": 80,
   "metadata": {
    "collapsed": true
   },
   "outputs": [],
   "source": [
    "catalog['phone'] = catalog.phone.apply(lambda x: x.replace('  ','').strip())"
   ]
  },
  {
   "cell_type": "code",
   "execution_count": 3,
   "metadata": {
    "collapsed": true
   },
   "outputs": [],
   "source": [
    "catalog['check'] = catalog.address.apply(lambda x: '...' in str(x))"
   ]
  },
  {
   "cell_type": "code",
   "execution_count": 4,
   "metadata": {},
   "outputs": [
    {
     "data": {
      "text/plain": [
       "False    1094\n",
       "True      212\n",
       "Name: check, dtype: int64"
      ]
     },
     "execution_count": 4,
     "metadata": {},
     "output_type": "execute_result"
    }
   ],
   "source": [
    "catalog.check.value_counts()"
   ]
  },
  {
   "cell_type": "code",
   "execution_count": 5,
   "metadata": {
    "collapsed": true
   },
   "outputs": [],
   "source": [
    "reParse = catalog[catalog.check == True]"
   ]
  },
  {
   "cell_type": "code",
   "execution_count": 6,
   "metadata": {
    "collapsed": true
   },
   "outputs": [],
   "source": [
    "def getAddress(link):\n",
    "        #t = randint(1, 3)\n",
    "        #print('Delay %s s.' % (t))\n",
    "        #sleep(t)\n",
    "        page = requests.get('https://www.restoran.ru' + link)\n",
    "        data = html.fromstring(page.text)\n",
    "        try:\n",
    "            address = data.xpath('//div[@itemprop=\"address\"]')[0].text_content().strip()\n",
    "        except:\n",
    "            address = '-'\n",
    "        return address"
   ]
  },
  {
   "cell_type": "code",
   "execution_count": 7,
   "metadata": {},
   "outputs": [
    {
     "name": "stdout",
     "output_type": "stream",
     "text": [
      "CPU times: user 15.9 s, sys: 430 ms, total: 16.4 s\n",
      "Wall time: 5min 3s\n"
     ]
    }
   ],
   "source": [
    "%%time\n",
    "res = {}\n",
    "for link in reParse.link:\n",
    "    res[link] = getAddress(link)"
   ]
  },
  {
   "cell_type": "code",
   "execution_count": 8,
   "metadata": {},
   "outputs": [
    {
     "data": {
      "text/plain": [
       "{'/msk/detailed/restaurants/akvarel/': 'Адрес:\\n\\nул. Пришвина, д. 26, ТЦ «Миллион Мелочей», 2 этаж',\n",
       " '/msk/detailed/restaurants/alma-bar/': 'Адрес:\\n\\nПогодинская ул., д. 4, ЖК «Grand Deluxe»',\n",
       " '/msk/detailed/restaurants/alyaska-bar/': 'Адрес:\\n\\nМосковская обл., Люберцы, Октябрьский пр., д. 198',\n",
       " '/msk/detailed/restaurants/angelo/': 'Адрес:\\n\\nПроспект 60-летия октября, д. 5, корп. 3',\n",
       " '/msk/detailed/restaurants/aromatnaya_reka/': 'Адрес:\\n\\nнаб. Академика Туполева, д. 15, корп. 2',\n",
       " '/msk/detailed/restaurants/art-kafe-royal/': 'Адрес:\\n\\nМосковская обл., Мытищи, 3-я Крестьянская ул., д. 25',\n",
       " '/msk/detailed/restaurants/aviator-rest/': 'Адрес:\\n\\n                                            Пресненская наб., д. 12, Башня Федерация: Запад, 52 этаж',\n",
       " '/msk/detailed/restaurants/avshar-club/': 'Адрес:\\n\\n                                            Московская обл., Красногорск, Ново-Никольская ул., д. 2А',\n",
       " '/msk/detailed/restaurants/aziya/': 'Адрес:\\n\\nМосковская обл., Красногорск, Международная ул., д. 8',\n",
       " '/msk/detailed/restaurants/babay-club/': 'Адрес:\\n\\nБольшая Черёмушкинская ул., д. 13, стр. 1',\n",
       " '/msk/detailed/restaurants/babel/': 'Адрес:\\n\\n1-й Николощеповский пер., д. 6, стр. 2 (вход со стороны 1-го Смоленского переулка)',\n",
       " '/msk/detailed/restaurants/backstagerest/': 'Адрес:\\n\\n                                            65-66км МКАД, Crocus City Hall, 4 этаж',\n",
       " '/msk/detailed/restaurants/baklazhan/': 'Адрес:\\n\\nКутузовский пр., д. 57, вл. 3, ТЦ Океания, 4 этаж',\n",
       " '/msk/detailed/restaurants/balzam_rest/': 'Адрес:\\n\\nМосковская обл., Автодорога Балтия, 26-й км, БЦ «Рига Ленд»',\n",
       " '/msk/detailed/restaurants/baron-de-makaron/': 'Адрес:\\n\\nЩукинская ул., д. 42, ТРЦ «Щука», 2 этаж',\n",
       " '/msk/detailed/restaurants/baskyul/': 'Адрес:\\n\\n                                            Московская обл., Истринский р-н, дер. Падиково, ул. Конная, 40, КСК Дивный',\n",
       " '/msk/detailed/restaurants/bavaria_wald_dorf/': 'Адрес:\\n\\nМосковская обл, дер. Глухово, Красногорский р-н, Центральная ул., д. 44',\n",
       " '/msk/detailed/restaurants/bay/': 'Адрес:\\n\\nМосковская обл., Балашиха, Парковая ул., д. 4А',\n",
       " '/msk/detailed/restaurants/beloe_zoloto/': 'Адрес:\\n\\nул. Лескова, д. 19а, торговый комплекс «Гран Плюс»',\n",
       " '/msk/detailed/restaurants/beluga/': 'Адрес:\\n\\nМоховая ул., д. 15/1, отель «Националь», 2 этаж',\n",
       " '/msk/detailed/restaurants/bericoni/': 'Адрес:\\n\\nул. Мичуринский Проспект, Олимпийская Деревня, д. 4, корп. 3',\n",
       " '/msk/detailed/restaurants/big_ben/': 'Адрес:\\n\\n                                            Московская обл.,  Одинцово, Садовая ул., д. 3',\n",
       " '/msk/detailed/restaurants/birds-and-bees/': 'Адрес:\\n\\n                                            поселение Сосенское, д. Сосенки, д. 47А',\n",
       " '/msk/detailed/restaurants/bocconcino-kutuzovskiy/': 'Адрес:\\n\\nКутузовский пр., д. 57, вл. 3, ТЦ «Океания», 4 этаж',\n",
       " '/msk/detailed/restaurants/boston_sergiya_radonezhskogo/': 'Адрес:\\n\\nул. Сергия Радонежского, д. 29-31, стр. 1',\n",
       " '/msk/detailed/restaurants/burger-pizzetta/': 'Адрес:\\n\\nпл. Киевского Вокзала, д. 2 (ТЦ «Европейский», 2 этаж, атриум «Берлин»)',\n",
       " '/msk/detailed/restaurants/burgers_crabs/': 'Адрес:\\n                \\n\\n                                                                    2-я Звенигородская ул., д. 13, стр. 42',\n",
       " '/msk/detailed/restaurants/butik-otel-mona/': 'Адрес:\\n\\nМосковская обл., Лобня, Краснополянская ул., д. 32А',\n",
       " '/msk/detailed/restaurants/cafe_campus/': 'Адрес:\\n\\nБольшая Андроньевская ул., д. 23, стр. 1',\n",
       " '/msk/detailed/restaurants/cafeyuzhnoe/': 'Адрес:\\n\\nЛенинский проспект, д. 87 (вход с ул. Гарибальди)',\n",
       " '/msk/detailed/restaurants/casa-bella/': 'Адрес:\\n\\nОдинцово, Московская область, ул. Говорова, д. 161',\n",
       " '/msk/detailed/restaurants/casa-mia/': 'Адрес:\\n\\nМосковская обл., Красногорск, Международная ул., д. 8',\n",
       " '/msk/detailed/restaurants/cashflow/': 'Адрес:\\n\\nБольшая Семёновская ул., д. 32, стр. 1',\n",
       " '/msk/detailed/restaurants/chalet/': 'Адрес:\\n\\nМосковская область, Химки, ул. Панфилова, д. 19, стр. 3',\n",
       " '/msk/detailed/restaurants/chayka_restoran_yakhta/': 'Адрес:\\n\\nпричал Краснопресненской наб.,  12А (напротив Центра международной торговли)',\n",
       " '/msk/detailed/restaurants/chento/': 'Адрес:\\n\\nул. Народного Ополчения, д. 23, корп. 1',\n",
       " '/msk/detailed/restaurants/chentrale/': 'Адрес:\\n\\n                                            пл. Киевского Вокзала, д. 2 (ТРЦ «Европейский», 1-й этаж)',\n",
       " '/msk/detailed/restaurants/city-space/': 'Адрес:\\n\\nКосмодамианская наб., д. 52, стр. 6, 34 этаж',\n",
       " '/msk/detailed/restaurants/costante/': '-',\n",
       " '/msk/detailed/restaurants/craft-kitchen/': 'Адрес:\\n\\nплощадь Киевского Вокзала, д. 2, ТЦ «Европейский», 2 этаж, атриум «Берлин»',\n",
       " '/msk/detailed/restaurants/crowneplaza/': 'Адрес:\\n\\nКраснопресненская наб., 12, подъезд № 1',\n",
       " '/msk/detailed/restaurants/croydon/': 'Адрес:\\n\\n                                            Пресненская наб., д. 2, ТРЦ «Афимолл Сити», 5 этаж',\n",
       " '/msk/detailed/restaurants/cycyla/': 'Адрес:\\n\\nМинская улица, д. 2Г, к. 1, напротив комплекса «Золотые ключи»',\n",
       " '/msk/detailed/restaurants/dancafe/': 'Адрес:\\n\\nМосковская обл., Мытищи, Олимпийский пр., д. 29А',\n",
       " '/msk/detailed/restaurants/dark_patrick_s_pub/': 'Адрес:\\n\\n                                            Большой Златоустинский пер., д. 1, стр. 1',\n",
       " '/msk/detailed/restaurants/darvin/': 'Адрес:\\n\\nМосковская обл., Одинцово, Молодёжная ул., д. 46',\n",
       " '/msk/detailed/restaurants/delovaya_kolbasa/': 'Адрес:\\n\\n                                            Московская область, Красногорск, Ильинское ш., д. 25',\n",
       " '/msk/detailed/restaurants/di_campagna/': 'Адрес:\\n\\n                                            Московская обл., п. Жуковка, Рублево-Успенское ш., д. 74, стр. 1',\n",
       " '/msk/detailed/restaurants/dolina_solnca/': 'Адрес:\\n\\nКиевское ш., 23-й километр, д. 8, с. 1',\n",
       " '/msk/detailed/restaurants/dom_makaron/': 'Адрес:\\n\\nул. Борисовские пруды, д. 26, ТРК «Ключевой», 3 этаж',\n",
       " '/msk/detailed/restaurants/domogilov/': 'Адрес:\\n\\nНижняя Сыромятническая ул., д. 10, стр. 10',\n",
       " '/msk/detailed/restaurants/donpeperoncino/': '-',\n",
       " '/msk/detailed/restaurants/dushevnaya_madam/': 'Адрес:\\n\\n                                            Московская обл., Красногорский р-н, пос. Отрадное, д. 29',\n",
       " '/msk/detailed/restaurants/dvorets_sultana/': 'Адрес:\\n\\nДомодедово, мкр. Северный, Каширское шоссе, дом 4, корпус 1',\n",
       " '/msk/detailed/restaurants/dzhondzholi-krylatskoe/': 'Адрес:\\n\\nОсенний бульв., д. 10, ТЦ «Бульвар» (вход с торца здания)',\n",
       " '/msk/detailed/restaurants/edge/': 'Адрес:\\n\\nВерхняя Радищевская ул., д. 15, стр. 1',\n",
       " '/msk/detailed/restaurants/eli_sumeli/': 'Адрес:\\n\\nМичуринский пр., ул. Олимпийская Деревня, д. 3',\n",
       " '/msk/detailed/restaurants/ellada-club/': 'Адрес:\\n\\n                                            Московская обл., Красногорск, Пионерская ул., д. 12Б',\n",
       " '/msk/detailed/restaurants/elpaso/': 'Адрес:\\n\\n                                            10 км Рублево-Успенского шоссе, съезд на Огаревское шоссе, далее 800м',\n",
       " '/msk/detailed/restaurants/fassbinder/': 'Адрес:\\n\\nНижняя Сыромятническая ул., д. 10, стр. 9, 1 этаж (центр дизайна Artplay)',\n",
       " '/msk/detailed/restaurants/fclm/': 'Адрес:\\n\\nул. Большая Черкизовская, д. 125, стр. 1',\n",
       " '/msk/detailed/restaurants/fishmarket/': 'Адрес:\\n\\nСолнечногорский р-он, пгт Ржавки, 2-й мкр., 20',\n",
       " '/msk/detailed/restaurants/florentini-m/': 'Адрес:\\n\\nМичуринский пр., Олимпийская Деревня, д. 4, к. 3',\n",
       " '/msk/detailed/restaurants/food_embassy/': 'Адрес:\\n\\nпр. Мира, д. 26, стр. 8 (вход со стороны Грохольского пер.)',\n",
       " '/msk/detailed/restaurants/fornetto-kafe-pitstseriya-metropolis/': 'Адрес:\\n\\nЛенинградское ш., д. 16А, стр. 4, ТЦ Метрополис, 3 этаж',\n",
       " '/msk/detailed/restaurants/fusion-plaza/': 'Адрес:\\n\\nКраснопресненская наб., д. 12, Центр Международной Торговли, Гостиница  «Crowne Plaza» (Краун Плаза), 2 уровень.',\n",
       " '/msk/detailed/restaurants/fusion/': 'Адрес:\\n\\nМосковская обл., Красногорск, Международная ул., д. 8, ТРК Крокус Сити Молл',\n",
       " '/msk/detailed/restaurants/gastronavt/': 'Адрес:\\n\\nул. Большая Ордынка, д. 40, стр. 4, БЦ Легион, 1 этаж',\n",
       " '/msk/detailed/restaurants/gladiator/': 'Адрес:\\n\\nВерхняя Сыромятническая ул., д. 9, стр. 2',\n",
       " '/msk/detailed/restaurants/gorodok-b/': 'Адрес:\\n\\n                                            Московская обл., Люберцы, мкрн Городок Б, ул. 3-е Почтовое Отделение, д. 100',\n",
       " '/msk/detailed/restaurants/granatovyy_sad/': 'Адрес:\\n\\n                                            Московская обл.,  Красногорск, ул. Губайлово, д. 53б',\n",
       " '/msk/detailed/restaurants/gruzinskiy-dvorik/': 'Адрес:\\n\\nХимки, Московская область, Заводская ул., д. 3',\n",
       " '/msk/detailed/restaurants/guavabar/': 'Адрес:\\n\\nАлтуфьевское шоссе, д.70, корп 1, 3 этаж',\n",
       " '/msk/detailed/restaurants/gustatore/': 'Адрес:\\n\\nПетровско-Разумовская аллея, д. 10, корп. 3',\n",
       " '/msk/detailed/restaurants/han/': 'Адрес:\\n\\nШипиловская ул., д. 50, корп. 1, стр. 1',\n",
       " '/msk/detailed/restaurants/hong-kong/': 'Адрес:\\n\\nРусаковская ул., д. 24, здание гостиницы «Holiday inn», 24 этаж',\n",
       " '/msk/detailed/restaurants/il_forno_il_forno_kutuzovskiy_pr_/': 'Адрес:\\n\\n                                            Кутузовский пр., д. 2/1, стр. 6 (перед гостиницей «Украина», вход со стороны наб. Тараса Шевченко)',\n",
       " '/msk/detailed/restaurants/ilcanto/': 'Адрес:\\n\\nИзмайловское шоссе, 71кА (отель «Альфа» 1 этаж)',\n",
       " '/msk/detailed/restaurants/im_smoking/': 'Адрес:\\n\\nСтароваганьковский пер., д. 19, стр. 7',\n",
       " '/msk/detailed/restaurants/imperator-holl/': 'Адрес:\\n\\n                                            рабочий посёлок Новоивановское, Одинцовский район, Московская область, Россия Можайское шоссе, 17/1',\n",
       " '/msk/detailed/restaurants/irishman/': 'Адрес:\\n\\nМосковская обл., Подольск, Мраморная ул., д. 2Д',\n",
       " '/msk/detailed/restaurants/iskra_bar/': 'Адрес:\\n\\nБольшая Новодмитровская ул., д. 36, стр. 9',\n",
       " '/msk/detailed/restaurants/italyantsy-v-rossii/': 'Адрес:\\n\\nНовочерёмушкинская ул., д. 66, корп. 1',\n",
       " '/msk/detailed/restaurants/iveriya/': 'Адрес:\\n\\nНагатинская наб., д. 10 стр. 2 (12 минут от Каменного моста на машине)',\n",
       " '/msk/detailed/restaurants/jamiesitalian/': 'Адрес:\\n\\n                                            ул. Охотный ряд, д. 2, ТГ «Модный сезон», 2 этаж',\n",
       " '/msk/detailed/restaurants/kafe_premera/': 'Адрес:\\n\\nКрасногорск, Московская область,  бульвар Строителей, д. 4',\n",
       " '/msk/detailed/restaurants/karaokeduets/': 'Адрес:\\n\\nСадовая-Кудринская ул., д. 2/62/35, стр. 1',\n",
       " '/msk/detailed/restaurants/kavdvor/': 'Адрес:\\n\\nул. Мироновская, д. 33, стр. 28  (справа от',\n",
       " '/msk/detailed/restaurants/khoum_bar_volzhskiy_bulvar/': 'Адрес:\\n\\nВолжский бульвар, квартал 114 А, корп. 1',\n",
       " '/msk/detailed/restaurants/kovcheg/': 'Адрес:\\n\\nп. Коммунарка, поселение Сосенское, ул. Александры Монаховой, д. 14в',\n",
       " '/msk/detailed/restaurants/kranzler/': 'Адрес:\\n\\nул. Балчуг, д. 1 (в здании отеля «Балчуг Кемпински Москва»)',\n",
       " '/msk/detailed/restaurants/kutuzov/': 'Адрес:\\n\\nул. Русаковская, д. 13, стр. 5, 2 этаж отеля «Бородино»',\n",
       " '/msk/detailed/restaurants/kvartal/': 'Адрес:\\n\\nпр. Вернадского, д. 86А, ТЦ «Авеню», 4 этаж',\n",
       " '/msk/detailed/restaurants/kyzminki/': 'Адрес:\\n\\nул. Юных Ленинцев, д. 117, корп. 1, стр. 2',\n",
       " '/msk/detailed/restaurants/la_princesse_choco/': 'Адрес:\\n\\nМосковская обл., Одинцовский р-н, дер. Барвиха, д. 85/1, ТЦ «Dream House»',\n",
       " '/msk/detailed/restaurants/laguna/': 'Адрес:\\n\\n                                            Московская обл., Красногорск, Лесная ул., д. 14',\n",
       " '/msk/detailed/restaurants/laguna_rest/': 'Адрес:\\n\\nМосковская обл., Мытищинский р-он, д. Болтино, ул. Верхняя Прибрежная, вл. 10, стр. 1',\n",
       " '/msk/detailed/restaurants/lakada/': 'Адрес:\\n\\n                                            Мытищинский район, п. Грибки, зона отдыха Хлебниково',\n",
       " '/msk/detailed/restaurants/lake_house/': 'Адрес:\\n\\n                                            Московская обл., Красногорский р-н, коттеджный п. Никольская Слобода, д. Поздняково, ул. Крамского д. 35',\n",
       " '/msk/detailed/restaurants/lastochka/': 'Адрес:\\n\\nЛужнецкая наб., причал «Лужники Северный»',\n",
       " '/msk/detailed/restaurants/lav/': 'Адрес:\\n\\n                                            ул. 1-я Останкинская, владение 7А, стр. 17',\n",
       " '/msk/detailed/restaurants/le-melange/': 'Адрес:\\n\\nпр. Вернадского, д. 86А, ТЦ «Авеню», 1 этаж',\n",
       " '/msk/detailed/restaurants/leyka/': 'Адрес:\\n\\n                                            Головинское шоссе, д. 5, , ТЦ «Водный», 3 этаж (рядом с кинотеатром)',\n",
       " '/msk/detailed/restaurants/lica/': 'Адрес:\\n\\nСредний Тишинский пер., д. 5/7, стр. 1',\n",
       " '/msk/detailed/restaurants/lodka/': 'Адрес:\\n\\n                                            Новинский бульвар, д. 8, ТЦ «Lotte Plaza» 4 этаж',\n",
       " '/msk/detailed/restaurants/loft_sport_bar/': 'Адрес:\\n\\nул. Барклая, д. 6 (проходная Трубного завода)',\n",
       " '/msk/detailed/restaurants/lora-kraft-pub/': 'Адрес:\\n\\nул. Покровка, д. 1/6/13, стр. 2 (вход с Армянского пер.)',\n",
       " '/msk/detailed/restaurants/lubeer/': 'Адрес:\\n\\nМосковская обл., Люберцы, Инициативная ул., д. 2А',\n",
       " '/msk/detailed/restaurants/lubitporusski/': 'Адрес:\\n\\n                                            Московская обл., Пятницкое шоссе, 6-й км, стр. 1А',\n",
       " '/msk/detailed/restaurants/luk-cafe/': 'Адрес:\\n\\n                                            Большая Никитская ул., д. 24/1, стр. 6',\n",
       " '/msk/detailed/restaurants/lunnaya-noch/': 'Адрес:\\n\\nМосковская обл., Пушкинский р-н, пос. Черкизово, Вокзальная ул., д. 3',\n",
       " '/msk/detailed/restaurants/lyabikhauz/': 'Адрес:\\n\\nМосковская обл., Мытищи, дер. Высоково, Центральная ул., д. 31',\n",
       " '/msk/detailed/restaurants/makoto/': 'Адрес:\\n\\nКраснопресненская набережная, д. 12 (Центр международной торговли, 6 подъезд)',\n",
       " '/msk/detailed/restaurants/malibu/': 'Адрес:\\n\\n                                            Московская обл., Мытищинский р-н, близ дер. Сорокино, ЗО «Бухта Радости»',\n",
       " '/msk/detailed/restaurants/marian_hall/': 'Адрес:\\n\\n                                             МО, Балашихинский район, квартал Щитниково, д. 36',\n",
       " '/msk/detailed/restaurants/mario/': 'Адрес:\\n\\nМосковская обл., Одинцовский р-н, д. Жуковка, д. 54б',\n",
       " '/msk/detailed/restaurants/matsoni_rest/': 'Адрес:\\n\\nБольшая Сухаревская пл., д. 16/18, стр. 2',\n",
       " '/msk/detailed/restaurants/moreman/': 'Адрес:\\n\\nМосковская обл., Долгопрудный, Набережная ул., д. 22',\n",
       " '/msk/detailed/restaurants/moskovskoe_nebo/': 'Адрес:\\n\\nПроспект Мира, домовладение 119,  павильон 422',\n",
       " '/msk/detailed/restaurants/mr_sushini/': 'Адрес:\\n\\nМосковская область, Красногорск, 65-66 км МКАД, ТЦ Крокус Сити Молл',\n",
       " '/msk/detailed/restaurants/natakhtari_bolshoy_cherkasskiy/': 'Адрес:\\n\\n                                            Большой Черкасский пер., д. 13, стр. 4',\n",
       " '/msk/detailed/restaurants/nevskie_melodii/': 'Адрес:\\n\\n                                            Московская обл., Одинцовский район, д. Жуковка, ул. Жемчужная, д. 57 (ТРЦ «Лабиринт»)',\n",
       " '/msk/detailed/restaurants/nikola_tesla_na_rozhdestvenskom_bulvare/': 'Адрес:\\n\\n                                            Рождественский бульвар, д. 10/7, стр. 2',\n",
       " '/msk/detailed/restaurants/noyan_tun/': 'Адрес:\\n\\nул. Никольская, д. 10, ТЦ «Никольская Плаза»',\n",
       " '/msk/detailed/restaurants/nu_art/': 'Адрес:\\n\\nМосковская область, Красногорск, 65-66 км МКАД, ТЦ Крокус Сити Молл',\n",
       " '/msk/detailed/restaurants/oblaka/': 'Адрес:\\n\\nКутузовский проспект, д. 48; Галерея «Времена Года», правое крыло, 5 этаж',\n",
       " '/msk/detailed/restaurants/ochag-balashikha/': 'Адрес:\\n\\nБалашиха, Московская область, Рябиновая улица, д. 3',\n",
       " '/msk/detailed/restaurants/okino/': 'Адрес:\\n\\nул. 1-я Останкинская, д. 7а, стр. 19 (напротив телецентра)',\n",
       " '/msk/detailed/restaurants/osetinskie_pirogi/': 'Адрес:\\n\\nБольшая Серпуховская ул., д. 13, стр. 5',\n",
       " '/msk/detailed/restaurants/ottepel/': 'Адрес:\\n\\nпр. Мира, влад. 119, стр. 311 (ВДНХ, пав. 311)',\n",
       " '/msk/detailed/restaurants/park-restoran-neskuchnyy/': 'Адрес:\\n\\nИзмайловское ш., д. 71, корп. 2Б, гостиница «Бета», 3 этаж',\n",
       " '/msk/detailed/restaurants/parkplace/': 'Адрес:\\n\\n                                            Московская область, Химки, Ленинский пр., д. 2Б',\n",
       " '/msk/detailed/restaurants/pavlin_mavlin_hinki/': 'Адрес:\\n\\nХимки, Московская область, ул. Строителей, д. 4',\n",
       " '/msk/detailed/restaurants/pavlin_mavlin_koroleva/': 'Адрес:\\n\\nул. Академика Королева, д. 28, корп. 1',\n",
       " '/msk/detailed/restaurants/persia/': 'Адрес:\\n\\n                                            Краснохолмская набереж., 1/15 (зал 2); Народная, 15 (зал 1)',\n",
       " '/msk/detailed/restaurants/peterfest/': 'Адрес:\\n\\nМосковская область, Красногорск, ул. 50 лет Октября, д. 12',\n",
       " '/msk/detailed/restaurants/petrovdvorik/': 'Адрес:\\n\\n                                            Московская область, село Возвдвиженское, д. 76',\n",
       " '/msk/detailed/restaurants/pivzavod-77/': 'Адрес:\\n\\nСпартаковский пер., д. 2, стр. 1, подъезд 9-1',\n",
       " '/msk/detailed/restaurants/pizza_romanaa/': 'Адрес:\\n\\nМосковская обл., Красногорский р-н, дер. Глухово, ул. Центральная, д. 44',\n",
       " '/msk/detailed/restaurants/planeta_sushi_himki/': 'Адрес:\\n\\nМосковская область, Химки, Юбилейный пр., д. 3А, стр. 1',\n",
       " '/msk/detailed/restaurants/po-russki/': 'Адрес:\\n\\nСолнечногорский р-он, пгт Ржавки, 2-й мкр., 20',\n",
       " '/msk/detailed/restaurants/podpolium/': 'Адрес:\\n\\n                                            Московская область, Одинцово, ул. Дениса Давыдова, д. 7,\\xa0 ТРЦ «Гусарская Баллада», правое крыло',\n",
       " '/msk/detailed/restaurants/porto_maltese/': 'Адрес:\\n\\n                                            66-й км МКАД, ТРЦ «Вегас Крокус Сити» (4 этаж)',\n",
       " '/msk/detailed/restaurants/ramen-club/': 'Адрес:\\n\\nСадовническая наб., д. 75, БЦ\\u2009«Аврора Бизнес Парк»',\n",
       " '/msk/detailed/restaurants/rayskiyugolok/': 'Адрес:\\n\\nр. Солнцево, Боровский проезд , владение 17А',\n",
       " '/msk/detailed/restaurants/restobar/': 'Адрес:\\n\\nПресненская наб., 12, БЦ «Башня Федерация», запад, 54 этаж',\n",
       " '/msk/detailed/restaurants/restoranvinograd/': 'Адрес:\\n\\n                                            проезд Завода Серп и Молот, д. 5, стр. 1А',\n",
       " '/msk/detailed/restaurants/reutov/': 'Адрес:\\n\\nМосковская область,  Реутов, ул. Советская, д. 10',\n",
       " '/msk/detailed/restaurants/rice-is-nice/': 'Адрес:\\n\\nБольшой Саввинский пер., д. 12, стр. 6',\n",
       " '/msk/detailed/restaurants/rimskie-kanikulyi/': 'Адрес:\\n\\nМКАД, 2-й километр, д. 2 (ТРЦ «Шоколад»)',\n",
       " '/msk/detailed/restaurants/river_lounge1/': 'Адрес:\\n\\nПричал ЦПКиО им. Горького, Пушкинская наб. (ул. Крымский вал, д. 9)',\n",
       " '/msk/detailed/restaurants/river_palace_1/': 'Адрес:\\n\\nБережковская набережная, Площадь Европы, д. 1',\n",
       " '/msk/detailed/restaurants/roni_makaroni/': 'Адрес:\\n\\n                                            ул. Маршала Рыбалко, д. 2, корп. 8, ЖК Маршал',\n",
       " '/msk/detailed/restaurants/rose_bar_krokus_siti_moll/': 'Адрес:\\n\\n66-й км МКАД («Крокус Сити Молл», вход через ресторан «Nobu», 3-й этаж)',\n",
       " '/msk/detailed/restaurants/rosso_bianco/': 'Адрес:\\n\\nул. Долгоруковская, д. 5 / Оружейный пер, д. 27',\n",
       " '/msk/detailed/restaurants/royal_zenith/': '-',\n",
       " '/msk/detailed/restaurants/ruski/': 'Адрес:\\n\\n1-й Красногвардейский пр-д, д. 21, стр. 2, Небоскреб ОКО, 85 этаж / 354 Exclusive height',\n",
       " '/msk/detailed/restaurants/salami/': 'Адрес:\\n\\nБольшая Серпуховская ул., д. 17, стр. 1',\n",
       " '/msk/detailed/restaurants/salhino/': 'Адрес:\\n\\n                                            Московская область, Красногорск, Черневская ул., д. 72',\n",
       " '/msk/detailed/restaurants/seasons/': 'Адрес:\\n\\nЛенинский пр., д. 109 (ТРЦ «РИО», 1 этаж)',\n",
       " '/msk/detailed/restaurants/seasons_vernadskogo/': 'Адрес:\\n\\nпр. Вернадского, д. 86А, ТРЦ Avenue Southwest, 1 этаж',\n",
       " '/msk/detailed/restaurants/selfie/': 'Адрес:\\n\\n                                            Новинский бульвар, 31, второй этаж  ТДЦ «Новинский»',\n",
       " '/msk/detailed/restaurants/sezony/': 'Адрес:\\n\\n17-й пр-д Марьиной Рощи, д. 4, корп. 1',\n",
       " '/msk/detailed/restaurants/shabada/': 'Адрес:\\n\\nСельскохозяйственная ул., д. 26, стр. 23',\n",
       " '/msk/detailed/restaurants/shakh_kebab/': 'Адрес:\\n\\nпр. Вернадского, д. 86Б, ТЦ “Альмирал”',\n",
       " '/msk/detailed/restaurants/shale_berezka/': 'Адрес:\\n\\n                                            Московская область, Одинцовский район, село Усово, стр. 100',\n",
       " '/msk/detailed/restaurants/shamkir/': 'Адрес:\\n\\nВостряковский пр-д, д. 23, корп. 2, стр. 2',\n",
       " '/msk/detailed/restaurants/shooga_cafe/': 'Адрес:\\n\\nМосковская обл., Котельники, Новорязанское ш., д. 8 (территория Outlet Village Белая Дача)',\n",
       " '/msk/detailed/restaurants/shore_house/': 'Адрес:\\n\\nКрокус Сити, 65-66 км МКАД, Торгово-выставочный комплекс, 5',\n",
       " '/msk/detailed/restaurants/smoke_lounge_spasskaya/': 'Адрес:\\n\\nСадовая-Спасская ул., д. 12/23, стр. 2',\n",
       " '/msk/detailed/restaurants/starina_yohan/': 'Адрес:\\n\\nМосковская область, Химки, Юбилейный пр., д. 1, корп. 3',\n",
       " '/msk/detailed/restaurants/staryi-gorod/': 'Адрес:\\n\\nСтарый Петровско-Разумовский проезд, д. 1/23',\n",
       " '/msk/detailed/restaurants/staryy-gorod/': 'Адрес:\\n\\nБольшая Академическая ул., д. 41/1, стр. 1',\n",
       " '/msk/detailed/restaurants/strelets/': 'Адрес:\\n\\n                                            Московская обл., Пушкино, Красноармейская ул., д. 16А',\n",
       " '/msk/detailed/restaurants/strip_andgo/': 'Адрес:\\n\\nБольшой Сухаревский пер., д. 25, стр. 1',\n",
       " '/msk/detailed/restaurants/sumosan/': 'Адрес:\\n\\n                                            площадь Европы, д. 2 (гостиница «Radisson Slavyanskaya»)',\n",
       " '/msk/detailed/restaurants/svaneti/': 'Адрес:\\n\\nБольшая Семёновская ул., д. 10, стр. 13',\n",
       " '/msk/detailed/restaurants/svetliy-moscow/': 'Адрес:\\n\\nБольшой Харитоньевский переулок, д. 21 стр. 3',\n",
       " '/msk/detailed/restaurants/swhotel/': 'Адрес:\\n\\nМосковская обл., Люберецкий р-он, пос. Октябрьский, ул. Ленина, д. 45',\n",
       " '/msk/detailed/restaurants/swiss_yard/': 'Адрес:\\n\\nМосковская обл., с. Николо-Урюпино, Красногорский р-н, ул. Гагарина, д. 11',\n",
       " '/msk/detailed/restaurants/sytyy-los/': 'Адрес:\\n\\nМосковская обл., Одинцово, ул. Говорова, д. 163',\n",
       " '/msk/detailed/restaurants/tadzh_makhal/': 'Адрес:\\n\\nПрофсоюзная ул., д. 61А, ТРЦ Калужский',\n",
       " '/msk/detailed/restaurants/talkofthetown/': 'Адрес:\\n\\nЛенинский пр., д. 113/1 (БЦ Парк Плейс)',\n",
       " '/msk/detailed/restaurants/tamani/': 'Адрес:\\n\\n                                            Кутузовский пр., д. 2/1, стр. 1, гостиница «Украина»',\n",
       " '/msk/detailed/restaurants/tchaikovsky-cafe/': 'Адрес:\\n\\n                                            Триумфальная пл., д. 4/31 (в здании Государственной Филармонии, Концертный зал им. П. И. Чайковского)',\n",
       " '/msk/detailed/restaurants/teplokhody_elizaveta_mikhail_sespel_organizator/': 'Адрес:\\n\\n                                            ул. Косыгина, д. 28, стр. 3, причал «Воробьевы горы»',\n",
       " '/msk/detailed/restaurants/thevillage/': 'Адрес:\\n\\n                                            Одинцовский район, Московская область,  поселок Заречье, ул.Тихая , д. 13',\n",
       " '/msk/detailed/restaurants/tokio_san/': 'Адрес:\\n\\nМосковская область, Люберцы, Инициативная ул., д. 7Б, стр. 2',\n",
       " '/msk/detailed/restaurants/traktir-pozharskogo/': 'Адрес:\\n\\nМосковская обл., Красногорск, Международная ул., д. 8',\n",
       " '/msk/detailed/restaurants/trapeza-moskovskaya/': 'Адрес:\\n\\n                                            мкр-н Град Московский, Московская ул., д. 3А, ТЦ «Делюкс», 3 этаж',\n",
       " '/msk/detailed/restaurants/tretyakovs/': 'Адрес:\\n\\nЛаврушинский пер., д. 10, стр. 1 и стр. 4',\n",
       " '/msk/detailed/restaurants/tsentralnyy/': 'Адрес:\\n\\nМосковская обл., Люберцы, Октябрьский пр., д. 198',\n",
       " '/msk/detailed/restaurants/tszintan/': 'Адрес:\\n\\n                                            Проспект Мира, д. 150, гостиница «Космос»',\n",
       " '/msk/detailed/restaurants/tuscany-courtyard/': 'Адрес:\\n\\n                                            ул. Кулакова, д. 20, к. 1 (территория отеля Hampton)',\n",
       " '/msk/detailed/restaurants/tuttobene/': 'Адрес:\\n\\nПресненская наб., д. 8, стр. 1. Москва-Сити, башня «Город столиц»',\n",
       " '/msk/detailed/restaurants/tykva/': 'Адрес:\\n\\nбульвар Генерала Карбышева, д. 8, стр. 3',\n",
       " '/msk/detailed/restaurants/usadba_cafe/': 'Адрес:\\n\\n                                            вход в парк с улицы Большая Филёвская, д. 69, к. 1',\n",
       " '/msk/detailed/restaurants/usadba_ostrov/': 'Адрес:\\n\\n                                            Московская обл., Ленинский р-н, с. Остров, Рыболовная Усадьба Остров',\n",
       " '/msk/detailed/restaurants/uti-puti/': 'Адрес:\\n\\nул. Сокольнический Вал, д. 1Б (Ледовый Дворец Спорта, рядом с парком Сокольники)',\n",
       " '/msk/detailed/restaurants/verandarest/': 'Адрес:\\n\\n                                            Московская область, Красногорск, Пионерская ул., д. 12а',\n",
       " '/msk/detailed/restaurants/veterok/': 'Адрес:\\n\\n                                            ул. Кузьминская, д. 10 (на территории Кузьминского парка, Дом на плотине)',\n",
       " '/msk/detailed/restaurants/vinci_cafe_dinamo/': 'Адрес:\\n\\nул. 8 Марта, д. 14, Бизнес-центр «Кулон»',\n",
       " '/msk/detailed/restaurants/voyagerest/': 'Адрес:\\n\\n                                            Бескудниковский бульвар, д. 57, корп. 1',\n",
       " '/msk/detailed/restaurants/vremena-goda/': 'Адрес:\\n\\nТитовский проезд, стр. 2. ЦПКиО им. Горького',\n",
       " '/msk/detailed/restaurants/vympel/': 'Адрес:\\n\\nСтарый Петровско-Разумовский пр-д, д. 1/23',\n",
       " '/msk/detailed/restaurants/vysota_5642/': 'Адрес:\\n\\nБольшой Черкасский пер., д. 15-17, с. 1',\n",
       " '/msk/detailed/restaurants/yan-primus/': 'Адрес:\\n\\nМосковская обл., Одинцово, Можайское ш., д. 122',\n",
       " '/msk/detailed/restaurants/yourlove/': 'Адрес:\\n\\nМосковская обл., дер. Юрлово, Пятницкое шоссе, д. 51',\n",
       " '/msk/detailed/restaurants/zotman/': 'Адрес:\\n\\nул. Маршала Тухачевского, д. 41, корп. 1'}"
      ]
     },
     "execution_count": 8,
     "metadata": {},
     "output_type": "execute_result"
    }
   ],
   "source": [
    "res"
   ]
  },
  {
   "cell_type": "code",
   "execution_count": 100,
   "metadata": {
    "scrolled": true
   },
   "outputs": [
    {
     "data": {
      "text/plain": [
       "-                                                           17\n",
       "Московская обл., Красногорск, Международная ул., ...         4\n",
       "Москва, ул. Петровка, д. 30/7                                4\n",
       "Москва, Ленинский пр., д. 37                                 3\n",
       "Москва, Кутузовский пр., д. 2/1, стр. 6                      3\n",
       "Москва, ул. Кузнецкий Мост, д. 7                             3\n",
       "Москва, ул. Ильинка, д. 4                                    3\n",
       "Москва, ул. Арбат, д. 6/2                                    3\n",
       "Москва, Тверская ул., д. 7                                   3\n",
       "Москва, Пятницкая ул., д. 29                                 3\n",
       "Москва, Комсомольский пр., д. 28                             2\n",
       "Москва, ул. Декабристов, д. 15, стр. 2                       2\n",
       "Москва, Кутузовский пр., д. 12, стр. 1                       2\n",
       "Москва, Каширское шоссе, д. 80                               2\n",
       "Москва, Большой Путинковский пер., д. 5                      2\n",
       "Москва, Тамбовская ул., д. 4                                 2\n",
       "Москва, ул. Покровка, д. 2/1, стр. 1                         2\n",
       "Москва, Болотная наб., д. 9, стр. 1                          2\n",
       "Москва, ул. Тимура Фрунзе, д. 11, стр. 2                     2\n",
       "Москва, Кутузовский пр., д. 36А                              2\n",
       "Москва, Сходненская ул., д. 56                               2\n",
       "Москва, Неглинная ул., д.29                                  2\n",
       "Москва, Лесная ул., д. 1/2                                   2\n",
       "Москва, ул. Новый Арбат, д. 32                               2\n",
       "Московская область, Химки, Юбилейный пр., д.  ...            2\n",
       "Москва, Малая Бронная ул., д. 28                             2\n",
       "Москва, ул. 1905 года, д. 2                                  2\n",
       "Москва, Сущёвская ул., д. 27, стр. 2                         2\n",
       "Москва, Люблинская ул., д. 163/1                             2\n",
       "Москва, Манежная пл., д. 1, стр. 2                           2\n",
       "                                                            ..\n",
       "Москва, ул. Металлургов, д. 29A                              1\n",
       "Московская обл., Ленинский р-н, с. Остров, Ры ...            1\n",
       "Москва, ул. Остоженка, д. 14/2                               1\n",
       "Москва, Кутузовский пр., д. 57, вл. 3, ТЦ «Океания», ...     1\n",
       "Москва, Комсомольский пр., д. 21/10                          1\n",
       "Москва, ул. Большая Семеновская, д. 45                       1\n",
       "Москва, Фрунзенская наб.,  д. 12                             1\n",
       "Москва, ул. Свободы, д. 56, стр. 3                           1\n",
       "Москва, 1-й Щипковский пер., д. 4                            1\n",
       "г.Зеленоград, пл. Юности, д. 2                               1\n",
       "Москва, Ленинский пр., д. 111, к. 1                          1\n",
       "Москва, Грузинский пер., д. 8                                1\n",
       "Москва, ул. Сретенка, 34/1, стр. 1                           1\n",
       "Москва, ул. Б. Дорогомиловская, д. 4                         1\n",
       "Москва, Мясницкая ул., д. 24/7, стр. 2                       1\n",
       "Москва, ул. Народного Ополчения, д. 23, корп ....            1\n",
       "Москва, Моховая ул., д. 15/1, отель «Националь», ...         1\n",
       "Москва, причал Краснопресненской наб.,   ...                 1\n",
       "Москва, ул. Покровка, д. 3/7                                 1\n",
       "Москва, Измайловское шоссе, д. 71, стр. 12                   1\n",
       "Москва, ул. Мнёвники, д. 23                                  1\n",
       "Москва, ул. Новый Арбат, д. 11, стр. 2                       1\n",
       "Москва, ул. Михайлова, д. 29, корп. 3                        1\n",
       "Москва, Даев пер., д. 2                                      1\n",
       "Москва, Новосущёвская ул., д. 26А                            1\n",
       "Москва, Берсеневский пер., д. 5, стр. 2                      1\n",
       "Москва, Театральный проезд, д. 3 стр. 3                      1\n",
       "Москва, Покровский бульв., д. 14/6                           1\n",
       "Москва, ул. Талалихина, д. 31А/2                             1\n",
       "Москва, пр. Мира, д. 26, стр. 8 (вход со стороны ...         1\n",
       "Name: address, Length: 1231, dtype: int64"
      ]
     },
     "execution_count": 100,
     "metadata": {},
     "output_type": "execute_result"
    }
   ],
   "source": [
    "catalog.address.value_counts()"
   ]
  },
  {
   "cell_type": "markdown",
   "metadata": {
    "collapsed": true
   },
   "source": [
    "- Добавить чистые адреса\n",
    "- Почистить телефоны\n",
    "- Добавить описания\n",
    "- Добавить изображения\n",
    "- Спарсить отзывы\n",
    "- Описать все действия"
   ]
  },
  {
   "cell_type": "code",
   "execution_count": 10,
   "metadata": {},
   "outputs": [],
   "source": [
    "r = res\n",
    "for item in res:\n",
    "    r[item] = res[item].replace('Адрес:','').replace('\\n','').strip()"
   ]
  },
  {
   "cell_type": "code",
   "execution_count": 12,
   "metadata": {},
   "outputs": [],
   "source": [
    "data_1 = catalog[catalog.check == False].copy()"
   ]
  },
  {
   "cell_type": "code",
   "execution_count": 15,
   "metadata": {},
   "outputs": [
    {
     "name": "stderr",
     "output_type": "stream",
     "text": [
      "/usr/local/lib/python3.5/dist-packages/ipykernel_launcher.py:1: SettingWithCopyWarning: \n",
      "A value is trying to be set on a copy of a slice from a DataFrame.\n",
      "Try using .loc[row_indexer,col_indexer] = value instead\n",
      "\n",
      "See the caveats in the documentation: http://pandas.pydata.org/pandas-docs/stable/indexing.html#indexing-view-versus-copy\n",
      "  \"\"\"Entry point for launching an IPython kernel.\n"
     ]
    }
   ],
   "source": [
    "reParse['address'] = reParse.link.apply(lambda x: r.get(x, '-'))"
   ]
  },
  {
   "cell_type": "code",
   "execution_count": 17,
   "metadata": {},
   "outputs": [],
   "source": [
    "data = data_1.append(reParse)"
   ]
  },
  {
   "cell_type": "code",
   "execution_count": 19,
   "metadata": {},
   "outputs": [],
   "source": [
    "del data['check']"
   ]
  },
  {
   "cell_type": "code",
   "execution_count": 21,
   "metadata": {},
   "outputs": [],
   "source": [
    "data['phone'] = data.phone.apply(lambda x: x.replace('  ','').strip())"
   ]
  },
  {
   "cell_type": "code",
   "execution_count": 22,
   "metadata": {
    "collapsed": true
   },
   "outputs": [],
   "source": [
    "data = data.drop_duplicates()"
   ]
  },
  {
   "cell_type": "code",
   "execution_count": 27,
   "metadata": {
    "collapsed": true
   },
   "outputs": [],
   "source": [
    "img = pd.read_csv('backup.csv')"
   ]
  },
  {
   "cell_type": "code",
   "execution_count": 30,
   "metadata": {},
   "outputs": [],
   "source": [
    "img = img.drop_duplicates()"
   ]
  },
  {
   "cell_type": "code",
   "execution_count": 33,
   "metadata": {},
   "outputs": [],
   "source": [
    "out = data.merge(img, on='link')"
   ]
  },
  {
   "cell_type": "code",
   "execution_count": 34,
   "metadata": {
    "collapsed": true
   },
   "outputs": [],
   "source": [
    "out.to_csv('MskRestDataImgDscr.csv', index=False, encoding='utf-8')"
   ]
  },
  {
   "cell_type": "code",
   "execution_count": 89,
   "metadata": {},
   "outputs": [
    {
     "name": "stdout",
     "output_type": "stream",
     "text": [
      "<class 'pandas.core.frame.DataFrame'>\n",
      "Int64Index: 1300 entries, 0 to 1299\n",
      "Data columns (total 18 columns):\n",
      "ID              1300 non-null int64\n",
      "title           1300 non-null object\n",
      "premium         1300 non-null bool\n",
      "type            1293 non-null object\n",
      "kitchen         1300 non-null object\n",
      "link            1300 non-null object\n",
      "metro           1300 non-null object\n",
      "lon             1290 non-null float64\n",
      "lat             1290 non-null float64\n",
      "address         1300 non-null object\n",
      "phone           1300 non-null object\n",
      "rating          1300 non-null float64\n",
      "timing          1300 non-null object\n",
      "review_count    1300 non-null int64\n",
      "review_link     1300 non-null object\n",
      "avrCheck        1300 non-null object\n",
      "description     1300 non-null object\n",
      "image           1300 non-null object\n",
      "dtypes: bool(1), float64(3), int64(2), object(12)\n",
      "memory usage: 184.1+ KB\n"
     ]
    }
   ],
   "source": [
    "out.info()"
   ]
  },
  {
   "cell_type": "markdown",
   "metadata": {},
   "source": [
    "### Часть 3: Отзывы"
   ]
  },
  {
   "cell_type": "markdown",
   "metadata": {},
   "source": [
    "- review_link\n",
    "- author_name\n",
    "- time\n",
    "- rating\n",
    "- text\n",
    "- commentID"
   ]
  },
  {
   "cell_type": "markdown",
   "metadata": {},
   "source": [
    "Не глубже 12 страницы"
   ]
  },
  {
   "cell_type": "code",
   "execution_count": 6,
   "metadata": {
    "collapsed": true
   },
   "outputs": [],
   "source": [
    "class Reviews():\n",
    "    def __init__(self, catalog):\n",
    "        self.data = catalog\n",
    "        self.res_data = pd.DataFrame()\n",
    "        \n",
    "    def getRevList(self, link):\n",
    "        l = (self.data[self.data.review_link == link].review_count.tolist())[0]\n",
    "        res = []\n",
    "        page_count = (l//20)+1\n",
    "        \n",
    "        for page_n in range(1, page_count+1):\n",
    "            print('-----------PAGE %s PARSING-----------' % (page_n))\n",
    "            try:\n",
    "                page = requests.get('https://www.restoran.ru'+link+'?PAGEN_1={}'.format(page_n))\n",
    "            except:\n",
    "                return res\n",
    "            data = html.fromstring(page.text)\n",
    "            rev_list = data.xpath('//div[@class=\"reviews-list\"]/div[@class=\"item\"]')\n",
    "            lrev = len(rev_list)\n",
    "            res.extend(rev_list)\n",
    "            print('-----------%s reviews add to list. ListLen %s-----------' % (lrev, len(res)))\n",
    "        \n",
    "        return res\n",
    "        '''page_n = 1\n",
    "        res = []\n",
    "        lrev = 20\n",
    "        while page_n < 40 and lrev == 20:\n",
    "            print('-----------PAGE %s PARSING-----------' % (page_n))\n",
    "            try:\n",
    "                page = requests.get('https://www.restoran.ru'+link+'?PAGEN_1={}'.format(page_n))\n",
    "            except:\n",
    "                return res\n",
    "            data = html.fromstring(page.text)\n",
    "            rev_list = data.xpath('//div[@class=\"reviews-list\"]/div[@class=\"item\"]')\n",
    "            lrev = len(rev_list)\n",
    "            res.extend(rev_list)\n",
    "            print('-----------%s reviews add to list. ListLen %s-----------' % (lrev, len(res)))\n",
    "            page_n += 1\n",
    "        return res'''\n",
    "    \n",
    "    def getReview(self, item):\n",
    "        try:\n",
    "            div = item.cssselect('div.author')[0]\n",
    "        except:\n",
    "            return ('-','-','-','-','-')\n",
    "\n",
    "        try:\n",
    "            name = div.cssselect('div.date a')[0].text_content().replace('\\n','').strip()\n",
    "        except:\n",
    "            name = '-'\n",
    "\n",
    "        try:\n",
    "            if name != '-':\n",
    "                date = div.cssselect('div.date')[0].text_content().replace('\\n','').split(name)[1][1:].strip()\n",
    "            else:\n",
    "                date = div.cssselect('div.date')[0].text_content().replace('\\n','').strip()\n",
    "        except:\n",
    "            date = '-'\n",
    "\n",
    "        try:\n",
    "            rating = len(div.cssselect('div.ratio span.icon-star'))\n",
    "        except:\n",
    "            rating = 0\n",
    "\n",
    "        try:\n",
    "            text = item.cssselect('div[class^=\"preview_text\"]')[0].text_content().replace('\\n','').strip()\n",
    "        except:\n",
    "            return ('-','-','-','-','-')\n",
    "\n",
    "        try:\n",
    "            commentID = item.cssselect('div[class^=\"preview_text\"]')[0].attrib.get('class').replace('preview_text','')\n",
    "        except:\n",
    "            return ('-','-','-','-','-')\n",
    "\n",
    "        return (name, date, rating, text, commentID)\n",
    "    \n",
    "    def getFrame(self, review_link, g):\n",
    "        dct = {}\n",
    "        #review_link = '/msk/opinions/restaurants/sixty/'\n",
    "        for x,item in enumerate(g):\n",
    "            dt = self.getReview(item)\n",
    "            dct[x] = {\n",
    "                'rLink': review_link,\n",
    "                'commentID': dt[4],\n",
    "                'Auhor': dt[0],\n",
    "                'Date': dt[1],\n",
    "                'Text': dt[3],\n",
    "                'Childs': '',\n",
    "                'Plus': dt[2],\n",
    "                'Minus': 0,\n",
    "            }\n",
    "        return pd.DataFrame.from_dict(dct, orient='index')\n",
    "    \n",
    "    def run(self):\n",
    "        clear = self.data[self.data.review_count > 1].copy()\n",
    "        for link in tqdm(clear.review_link):\n",
    "            if link != '-':\n",
    "                print('-----------PARSING REV FROM %s PAGE-----------' % (link))\n",
    "                g = self.getRevList(link)\n",
    "                d = self.getFrame(link, g)\n",
    "                self.res_data = self.res_data.append(d)\n",
    "                print('-----------REVIEWS SHAPE: %s @ %s | RES DATA SHAPE: %s @ %s-----------' %(d.shape[0],d.shape[1], self.res_data.shape[0], self.res_data.shape[1]))\n",
    "                print('------------------------------------------------------------------')"
   ]
  },
  {
   "cell_type": "code",
   "execution_count": 7,
   "metadata": {
    "collapsed": true
   },
   "outputs": [],
   "source": [
    "out = pd.read_csv('MskRestDataImgDscr.csv')"
   ]
  },
  {
   "cell_type": "code",
   "execution_count": 8,
   "metadata": {
    "collapsed": true
   },
   "outputs": [],
   "source": [
    "a = Reviews(out)"
   ]
  },
  {
   "cell_type": "code",
   "execution_count": 9,
   "metadata": {},
   "outputs": [
    {
     "name": "stderr",
     "output_type": "stream",
     "text": [
      "\n",
      "  0%|          | 0/595 [00:00<?, ?it/s]\u001b[A"
     ]
    },
    {
     "name": "stdout",
     "output_type": "stream",
     "text": [
      "-----------PARSING REV FROM /msk/opinions/restaurants/elardzhi/ PAGE-----------\n",
      "-----------PAGE 1 PARSING-----------\n",
      "-----------20 reviews add to list. ListLen 20-----------\n",
      "-----------PAGE 2 PARSING-----------\n",
      "-----------20 reviews add to list. ListLen 40-----------\n",
      "-----------PAGE 3 PARSING-----------\n"
     ]
    },
    {
     "name": "stderr",
     "output_type": "stream",
     "text": [
      "\n",
      "  0%|          | 1/595 [00:02<20:02,  2.03s/it]\u001b[A"
     ]
    },
    {
     "name": "stdout",
     "output_type": "stream",
     "text": [
      "-----------1 reviews add to list. ListLen 41-----------\n",
      "-----------REVIEWS SHAPE: 41 @ 8 | RES DATA SHAPE: 41 @ 8-----------\n",
      "------------------------------------------------------------------\n",
      "-----------PARSING REV FROM /msk/opinions/restaurants/black_thai/ PAGE-----------\n",
      "-----------PAGE 1 PARSING-----------\n",
      "-----------20 reviews add to list. ListLen 20-----------\n",
      "-----------PAGE 2 PARSING-----------\n",
      "-----------20 reviews add to list. ListLen 40-----------\n",
      "-----------PAGE 3 PARSING-----------\n",
      "-----------20 reviews add to list. ListLen 60-----------\n",
      "-----------PAGE 4 PARSING-----------\n",
      "-----------20 reviews add to list. ListLen 80-----------\n",
      "-----------PAGE 5 PARSING-----------\n",
      "-----------20 reviews add to list. ListLen 100-----------\n",
      "-----------PAGE 6 PARSING-----------\n",
      "-----------20 reviews add to list. ListLen 120-----------\n",
      "-----------PAGE 7 PARSING-----------\n",
      "-----------20 reviews add to list. ListLen 140-----------\n",
      "-----------PAGE 8 PARSING-----------\n",
      "-----------20 reviews add to list. ListLen 160-----------\n",
      "-----------PAGE 9 PARSING-----------\n",
      "-----------20 reviews add to list. ListLen 180-----------\n",
      "-----------PAGE 10 PARSING-----------\n",
      "-----------20 reviews add to list. ListLen 200-----------\n",
      "-----------PAGE 11 PARSING-----------\n"
     ]
    },
    {
     "name": "stderr",
     "output_type": "stream",
     "text": [
      "\n",
      "Exception in thread Thread-4:\n",
      "Traceback (most recent call last):\n",
      "  File \"/usr/lib/python3.5/threading.py\", line 914, in _bootstrap_inner\n",
      "    self.run()\n",
      "  File \"/usr/local/lib/python3.5/dist-packages/tqdm/_tqdm.py\", line 144, in run\n",
      "    for instance in self.tqdm_cls._instances:\n",
      "  File \"/usr/lib/python3.5/_weakrefset.py\", line 60, in __iter__\n",
      "    for itemref in self.data:\n",
      "RuntimeError: Set changed size during iteration\n",
      "\n"
     ]
    },
    {
     "name": "stdout",
     "output_type": "stream",
     "text": [
      "-----------6 reviews add to list. ListLen 206-----------\n"
     ]
    },
    {
     "name": "stderr",
     "output_type": "stream",
     "text": [
      "\r",
      "  0%|          | 2/595 [00:08<43:49,  4.43s/it]"
     ]
    },
    {
     "name": "stdout",
     "output_type": "stream",
     "text": [
      "-----------REVIEWS SHAPE: 206 @ 8 | RES DATA SHAPE: 247 @ 8-----------\n",
      "------------------------------------------------------------------\n",
      "-----------PARSING REV FROM /msk/opinions/restaurants/sixty/ PAGE-----------\n",
      "-----------PAGE 1 PARSING-----------\n",
      "-----------20 reviews add to list. ListLen 20-----------\n",
      "-----------PAGE 2 PARSING-----------\n",
      "-----------20 reviews add to list. ListLen 40-----------\n",
      "-----------PAGE 3 PARSING-----------\n",
      "-----------20 reviews add to list. ListLen 60-----------\n",
      "-----------PAGE 4 PARSING-----------\n",
      "-----------20 reviews add to list. ListLen 80-----------\n",
      "-----------PAGE 5 PARSING-----------\n",
      "-----------20 reviews add to list. ListLen 100-----------\n",
      "-----------PAGE 6 PARSING-----------\n",
      "-----------20 reviews add to list. ListLen 120-----------\n",
      "-----------PAGE 7 PARSING-----------\n",
      "-----------20 reviews add to list. ListLen 140-----------\n",
      "-----------PAGE 8 PARSING-----------\n",
      "-----------20 reviews add to list. ListLen 160-----------\n",
      "-----------PAGE 9 PARSING-----------\n",
      "-----------20 reviews add to list. ListLen 180-----------\n",
      "-----------PAGE 10 PARSING-----------\n",
      "-----------20 reviews add to list. ListLen 200-----------\n",
      "-----------PAGE 11 PARSING-----------\n",
      "-----------20 reviews add to list. ListLen 220-----------\n",
      "-----------PAGE 12 PARSING-----------\n",
      "-----------20 reviews add to list. ListLen 240-----------\n",
      "-----------PAGE 13 PARSING-----------\n",
      "-----------20 reviews add to list. ListLen 260-----------\n",
      "-----------PAGE 14 PARSING-----------\n",
      "-----------3 reviews add to list. ListLen 263-----------\n"
     ]
    },
    {
     "name": "stderr",
     "output_type": "stream",
     "text": [
      "\r",
      "  1%|          | 3/595 [00:18<1:00:26,  6.13s/it]"
     ]
    },
    {
     "name": "stdout",
     "output_type": "stream",
     "text": [
      "-----------REVIEWS SHAPE: 263 @ 8 | RES DATA SHAPE: 510 @ 8-----------\n",
      "------------------------------------------------------------------\n",
      "-----------PARSING REV FROM /msk/opinions/restaurants/whiterabbit/ PAGE-----------\n",
      "-----------PAGE 1 PARSING-----------\n",
      "-----------20 reviews add to list. ListLen 20-----------\n",
      "-----------PAGE 2 PARSING-----------\n"
     ]
    },
    {
     "name": "stderr",
     "output_type": "stream",
     "text": [
      "\r",
      "  1%|          | 4/595 [00:19<49:12,  5.00s/it]  "
     ]
    },
    {
     "name": "stdout",
     "output_type": "stream",
     "text": [
      "-----------8 reviews add to list. ListLen 28-----------\n",
      "-----------REVIEWS SHAPE: 28 @ 8 | RES DATA SHAPE: 538 @ 8-----------\n",
      "------------------------------------------------------------------\n",
      "-----------PARSING REV FROM /msk/opinions/restaurants/voronezh/ PAGE-----------\n",
      "-----------PAGE 1 PARSING-----------\n",
      "-----------20 reviews add to list. ListLen 20-----------\n",
      "-----------PAGE 2 PARSING-----------\n",
      "-----------20 reviews add to list. ListLen 40-----------\n",
      "-----------PAGE 3 PARSING-----------\n",
      "-----------20 reviews add to list. ListLen 60-----------\n",
      "-----------PAGE 4 PARSING-----------\n",
      "-----------20 reviews add to list. ListLen 80-----------\n",
      "-----------PAGE 5 PARSING-----------\n",
      "-----------20 reviews add to list. ListLen 100-----------\n",
      "-----------PAGE 6 PARSING-----------\n",
      "-----------20 reviews add to list. ListLen 120-----------\n",
      "-----------PAGE 7 PARSING-----------\n",
      "-----------20 reviews add to list. ListLen 140-----------\n",
      "-----------PAGE 8 PARSING-----------\n",
      "-----------20 reviews add to list. ListLen 160-----------\n"
     ]
    },
    {
     "name": "stderr",
     "output_type": "stream",
     "text": [
      "\r",
      "  1%|          | 5/595 [00:25<49:49,  5.07s/it]"
     ]
    },
    {
     "name": "stdout",
     "output_type": "stream",
     "text": [
      "-----------REVIEWS SHAPE: 160 @ 8 | RES DATA SHAPE: 698 @ 8-----------\n",
      "------------------------------------------------------------------\n",
      "-----------PARSING REV FROM /msk/opinions/restaurants/the_mad_cook/ PAGE-----------\n",
      "-----------PAGE 1 PARSING-----------\n"
     ]
    },
    {
     "name": "stderr",
     "output_type": "stream",
     "text": [
      "\r",
      "  1%|          | 6/595 [00:26<43:07,  4.39s/it]"
     ]
    },
    {
     "name": "stdout",
     "output_type": "stream",
     "text": [
      "-----------12 reviews add to list. ListLen 12-----------\n",
      "-----------REVIEWS SHAPE: 12 @ 8 | RES DATA SHAPE: 710 @ 8-----------\n",
      "------------------------------------------------------------------\n",
      "-----------PARSING REV FROM /msk/opinions/restaurants/the-waiters/ PAGE-----------\n",
      "-----------PAGE 1 PARSING-----------\n"
     ]
    },
    {
     "name": "stderr",
     "output_type": "stream",
     "text": [
      "\r",
      "  1%|          | 7/595 [00:27<38:26,  3.92s/it]"
     ]
    },
    {
     "name": "stdout",
     "output_type": "stream",
     "text": [
      "-----------9 reviews add to list. ListLen 9-----------\n",
      "-----------REVIEWS SHAPE: 9 @ 8 | RES DATA SHAPE: 719 @ 8-----------\n",
      "------------------------------------------------------------------\n",
      "-----------PARSING REV FROM /msk/opinions/restaurants/moregril/ PAGE-----------\n",
      "-----------PAGE 1 PARSING-----------\n",
      "-----------20 reviews add to list. ListLen 20-----------\n",
      "-----------PAGE 2 PARSING-----------\n"
     ]
    },
    {
     "name": "stderr",
     "output_type": "stream",
     "text": [
      "\r",
      "  1%|▏         | 8/595 [00:29<35:48,  3.66s/it]"
     ]
    },
    {
     "name": "stdout",
     "output_type": "stream",
     "text": [
      "-----------16 reviews add to list. ListLen 36-----------\n",
      "-----------REVIEWS SHAPE: 36 @ 8 | RES DATA SHAPE: 755 @ 8-----------\n",
      "------------------------------------------------------------------\n",
      "-----------PARSING REV FROM /msk/opinions/restaurants/nofar/ PAGE-----------\n",
      "-----------PAGE 1 PARSING-----------\n",
      "-----------20 reviews add to list. ListLen 20-----------\n",
      "-----------PAGE 2 PARSING-----------\n"
     ]
    },
    {
     "name": "stderr",
     "output_type": "stream",
     "text": [
      "\r",
      "  2%|▏         | 9/595 [00:30<33:31,  3.43s/it]"
     ]
    },
    {
     "name": "stdout",
     "output_type": "stream",
     "text": [
      "-----------12 reviews add to list. ListLen 32-----------\n",
      "-----------REVIEWS SHAPE: 32 @ 8 | RES DATA SHAPE: 787 @ 8-----------\n",
      "------------------------------------------------------------------\n",
      "-----------PARSING REV FROM /msk/opinions/restaurants/azerbaydjan/ PAGE-----------\n",
      "-----------PAGE 1 PARSING-----------\n"
     ]
    },
    {
     "name": "stderr",
     "output_type": "stream",
     "text": [
      "\r",
      "  2%|▏         | 10/595 [00:31<30:59,  3.18s/it]"
     ]
    },
    {
     "name": "stdout",
     "output_type": "stream",
     "text": [
      "-----------8 reviews add to list. ListLen 8-----------\n",
      "-----------REVIEWS SHAPE: 8 @ 8 | RES DATA SHAPE: 795 @ 8-----------\n",
      "------------------------------------------------------------------\n",
      "-----------PARSING REV FROM /msk/opinions/restaurants/oblomov/ PAGE-----------\n",
      "-----------PAGE 1 PARSING-----------\n",
      "-----------20 reviews add to list. ListLen 20-----------\n",
      "-----------PAGE 2 PARSING-----------\n",
      "-----------20 reviews add to list. ListLen 40-----------\n",
      "-----------PAGE 3 PARSING-----------\n"
     ]
    },
    {
     "name": "stderr",
     "output_type": "stream",
     "text": [
      "\r",
      "  2%|▏         | 11/595 [00:33<29:58,  3.08s/it]"
     ]
    },
    {
     "name": "stdout",
     "output_type": "stream",
     "text": [
      "-----------10 reviews add to list. ListLen 50-----------\n",
      "-----------REVIEWS SHAPE: 50 @ 8 | RES DATA SHAPE: 845 @ 8-----------\n",
      "------------------------------------------------------------------\n",
      "-----------PARSING REV FROM /msk/opinions/restaurants/radiocity/ PAGE-----------\n",
      "-----------PAGE 1 PARSING-----------\n",
      "-----------20 reviews add to list. ListLen 20-----------\n",
      "-----------PAGE 2 PARSING-----------\n",
      "-----------20 reviews add to list. ListLen 40-----------\n",
      "-----------PAGE 3 PARSING-----------\n"
     ]
    },
    {
     "name": "stderr",
     "output_type": "stream",
     "text": [
      "\r",
      "  2%|▏         | 12/595 [00:36<29:12,  3.01s/it]"
     ]
    },
    {
     "name": "stdout",
     "output_type": "stream",
     "text": [
      "-----------20 reviews add to list. ListLen 60-----------\n",
      "-----------REVIEWS SHAPE: 60 @ 8 | RES DATA SHAPE: 905 @ 8-----------\n",
      "------------------------------------------------------------------\n",
      "-----------PARSING REV FROM /msk/opinions/restaurants/19_bar_atmospher/ PAGE-----------\n",
      "-----------PAGE 1 PARSING-----------\n"
     ]
    },
    {
     "name": "stderr",
     "output_type": "stream",
     "text": [
      "\r",
      "  2%|▏         | 13/595 [00:36<27:36,  2.85s/it]"
     ]
    },
    {
     "name": "stdout",
     "output_type": "stream",
     "text": [
      "-----------4 reviews add to list. ListLen 4-----------\n",
      "-----------REVIEWS SHAPE: 4 @ 8 | RES DATA SHAPE: 909 @ 8-----------\n",
      "------------------------------------------------------------------\n",
      "-----------PARSING REV FROM /msk/opinions/restaurants/agio/ PAGE-----------\n",
      "-----------PAGE 1 PARSING-----------\n"
     ]
    },
    {
     "name": "stderr",
     "output_type": "stream",
     "text": [
      "\r",
      "  2%|▏         | 14/595 [00:37<26:10,  2.70s/it]"
     ]
    },
    {
     "name": "stdout",
     "output_type": "stream",
     "text": [
      "-----------3 reviews add to list. ListLen 3-----------\n",
      "-----------REVIEWS SHAPE: 3 @ 8 | RES DATA SHAPE: 912 @ 8-----------\n",
      "------------------------------------------------------------------\n",
      "-----------PARSING REV FROM /msk/opinions/restaurants/skazka-vostoka/ PAGE-----------\n",
      "-----------PAGE 1 PARSING-----------\n"
     ]
    },
    {
     "name": "stderr",
     "output_type": "stream",
     "text": [
      "\r",
      "  3%|▎         | 15/595 [00:38<24:56,  2.58s/it]"
     ]
    },
    {
     "name": "stdout",
     "output_type": "stream",
     "text": [
      "-----------4 reviews add to list. ListLen 4-----------\n",
      "-----------REVIEWS SHAPE: 4 @ 8 | RES DATA SHAPE: 916 @ 8-----------\n",
      "------------------------------------------------------------------\n",
      "-----------PARSING REV FROM /msk/opinions/restaurants/antica_italia/ PAGE-----------\n",
      "-----------PAGE 1 PARSING-----------\n",
      "-----------20 reviews add to list. ListLen 20-----------\n",
      "-----------PAGE 2 PARSING-----------\n"
     ]
    },
    {
     "name": "stderr",
     "output_type": "stream",
     "text": [
      "\r",
      "  3%|▎         | 16/595 [00:40<24:19,  2.52s/it]"
     ]
    },
    {
     "name": "stdout",
     "output_type": "stream",
     "text": [
      "-----------9 reviews add to list. ListLen 29-----------\n",
      "-----------REVIEWS SHAPE: 29 @ 8 | RES DATA SHAPE: 945 @ 8-----------\n",
      "------------------------------------------------------------------\n",
      "-----------PARSING REV FROM /msk/opinions/restaurants/of_sobranie/ PAGE-----------\n",
      "-----------PAGE 1 PARSING-----------\n"
     ]
    },
    {
     "name": "stderr",
     "output_type": "stream",
     "text": [
      "\r",
      "  3%|▎         | 17/595 [00:41<23:28,  2.44s/it]"
     ]
    },
    {
     "name": "stdout",
     "output_type": "stream",
     "text": [
      "-----------9 reviews add to list. ListLen 9-----------\n",
      "-----------REVIEWS SHAPE: 9 @ 8 | RES DATA SHAPE: 954 @ 8-----------\n",
      "------------------------------------------------------------------\n",
      "-----------PARSING REV FROM /msk/opinions/restaurants/01cafe/ PAGE-----------\n",
      "-----------PAGE 1 PARSING-----------\n",
      "-----------20 reviews add to list. ListLen 20-----------\n",
      "-----------PAGE 2 PARSING-----------\n",
      "-----------20 reviews add to list. ListLen 40-----------\n",
      "-----------PAGE 3 PARSING-----------\n",
      "-----------20 reviews add to list. ListLen 60-----------\n",
      "-----------PAGE 4 PARSING-----------\n",
      "-----------20 reviews add to list. ListLen 80-----------\n",
      "-----------PAGE 5 PARSING-----------\n"
     ]
    },
    {
     "name": "stderr",
     "output_type": "stream",
     "text": [
      "\r",
      "  3%|▎         | 18/595 [00:44<23:56,  2.49s/it]"
     ]
    },
    {
     "name": "stdout",
     "output_type": "stream",
     "text": [
      "-----------13 reviews add to list. ListLen 93-----------\n",
      "-----------REVIEWS SHAPE: 93 @ 8 | RES DATA SHAPE: 1047 @ 8-----------\n",
      "------------------------------------------------------------------\n",
      "-----------PARSING REV FROM /msk/opinions/restaurants/barbara_bar/ PAGE-----------\n",
      "-----------PAGE 1 PARSING-----------\n"
     ]
    },
    {
     "name": "stderr",
     "output_type": "stream",
     "text": [
      "\r",
      "  3%|▎         | 19/595 [00:45<23:03,  2.40s/it]"
     ]
    },
    {
     "name": "stdout",
     "output_type": "stream",
     "text": [
      "-----------3 reviews add to list. ListLen 3-----------\n",
      "-----------REVIEWS SHAPE: 3 @ 8 | RES DATA SHAPE: 1050 @ 8-----------\n",
      "------------------------------------------------------------------\n",
      "-----------PARSING REV FROM /msk/opinions/restaurants/bamboobar/ PAGE-----------\n",
      "-----------PAGE 1 PARSING-----------\n",
      "-----------20 reviews add to list. ListLen 20-----------\n",
      "-----------PAGE 2 PARSING-----------\n"
     ]
    },
    {
     "name": "stderr",
     "output_type": "stream",
     "text": [
      "\r",
      "  3%|▎         | 20/595 [00:47<22:31,  2.35s/it]"
     ]
    },
    {
     "name": "stdout",
     "output_type": "stream",
     "text": [
      "-----------1 reviews add to list. ListLen 21-----------\n",
      "-----------REVIEWS SHAPE: 21 @ 8 | RES DATA SHAPE: 1071 @ 8-----------\n",
      "------------------------------------------------------------------\n",
      "-----------PARSING REV FROM /msk/opinions/restaurants/baby_cafe/ PAGE-----------\n",
      "-----------PAGE 1 PARSING-----------\n"
     ]
    },
    {
     "name": "stderr",
     "output_type": "stream",
     "text": [
      "\r",
      "  4%|▎         | 21/595 [00:47<21:47,  2.28s/it]"
     ]
    },
    {
     "name": "stdout",
     "output_type": "stream",
     "text": [
      "-----------2 reviews add to list. ListLen 2-----------\n",
      "-----------REVIEWS SHAPE: 2 @ 8 | RES DATA SHAPE: 1073 @ 8-----------\n",
      "------------------------------------------------------------------\n",
      "-----------PARSING REV FROM /msk/opinions/restaurants/balzi_rossi/ PAGE-----------\n",
      "-----------PAGE 1 PARSING-----------\n"
     ]
    },
    {
     "name": "stderr",
     "output_type": "stream",
     "text": [
      "\r",
      "  4%|▎         | 22/595 [00:48<21:09,  2.22s/it]"
     ]
    },
    {
     "name": "stdout",
     "output_type": "stream",
     "text": [
      "-----------6 reviews add to list. ListLen 6-----------\n",
      "-----------REVIEWS SHAPE: 6 @ 8 | RES DATA SHAPE: 1079 @ 8-----------\n",
      "------------------------------------------------------------------\n",
      "-----------PARSING REV FROM /msk/opinions/restaurants/aurarest/ PAGE-----------\n",
      "-----------PAGE 1 PARSING-----------\n"
     ]
    },
    {
     "name": "stderr",
     "output_type": "stream",
     "text": [
      "\r",
      "  4%|▍         | 23/595 [00:49<20:32,  2.15s/it]"
     ]
    },
    {
     "name": "stdout",
     "output_type": "stream",
     "text": [
      "-----------2 reviews add to list. ListLen 2-----------\n",
      "-----------REVIEWS SHAPE: 2 @ 8 | RES DATA SHAPE: 1081 @ 8-----------\n",
      "------------------------------------------------------------------\n",
      "-----------PARSING REV FROM /msk/opinions/restaurants/asaki/ PAGE-----------\n",
      "-----------PAGE 1 PARSING-----------\n"
     ]
    },
    {
     "name": "stderr",
     "output_type": "stream",
     "text": [
      "\r",
      "  4%|▍         | 24/595 [00:50<19:59,  2.10s/it]"
     ]
    },
    {
     "name": "stdout",
     "output_type": "stream",
     "text": [
      "-----------5 reviews add to list. ListLen 5-----------\n",
      "-----------REVIEWS SHAPE: 5 @ 8 | RES DATA SHAPE: 1086 @ 8-----------\n",
      "------------------------------------------------------------------\n",
      "-----------PARSING REV FROM /msk/opinions/restaurants/atmosphere/ PAGE-----------\n",
      "-----------PAGE 1 PARSING-----------\n"
     ]
    },
    {
     "name": "stderr",
     "output_type": "stream",
     "text": [
      "\r",
      "  4%|▍         | 25/595 [00:51<19:28,  2.05s/it]"
     ]
    },
    {
     "name": "stdout",
     "output_type": "stream",
     "text": [
      "-----------6 reviews add to list. ListLen 6-----------\n",
      "-----------REVIEWS SHAPE: 6 @ 8 | RES DATA SHAPE: 1092 @ 8-----------\n",
      "------------------------------------------------------------------\n",
      "-----------PARSING REV FROM /msk/opinions/restaurants/barton-1816/ PAGE-----------\n",
      "-----------PAGE 1 PARSING-----------\n"
     ]
    },
    {
     "name": "stderr",
     "output_type": "stream",
     "text": [
      "\r",
      "  4%|▍         | 26/595 [00:52<19:01,  2.01s/it]"
     ]
    },
    {
     "name": "stdout",
     "output_type": "stream",
     "text": [
      "-----------2 reviews add to list. ListLen 2-----------\n",
      "-----------REVIEWS SHAPE: 2 @ 8 | RES DATA SHAPE: 1094 @ 8-----------\n",
      "------------------------------------------------------------------\n",
      "-----------PARSING REV FROM /msk/opinions/restaurants/artspalace/ PAGE-----------\n",
      "-----------PAGE 1 PARSING-----------\n",
      "-----------20 reviews add to list. ListLen 20-----------\n",
      "-----------PAGE 2 PARSING-----------\n"
     ]
    },
    {
     "name": "stderr",
     "output_type": "stream",
     "text": [
      "\r",
      "  5%|▍         | 27/595 [00:53<18:55,  2.00s/it]"
     ]
    },
    {
     "name": "stdout",
     "output_type": "stream",
     "text": [
      "-----------16 reviews add to list. ListLen 36-----------\n",
      "-----------REVIEWS SHAPE: 36 @ 8 | RES DATA SHAPE: 1130 @ 8-----------\n",
      "------------------------------------------------------------------\n",
      "-----------PARSING REV FROM /msk/opinions/restaurants/barbqcafe/ PAGE-----------\n",
      "-----------PAGE 1 PARSING-----------\n",
      "-----------20 reviews add to list. ListLen 20-----------\n",
      "-----------PAGE 2 PARSING-----------\n"
     ]
    },
    {
     "name": "stderr",
     "output_type": "stream",
     "text": [
      "\r",
      "  5%|▍         | 28/595 [00:55<18:52,  2.00s/it]"
     ]
    },
    {
     "name": "stdout",
     "output_type": "stream",
     "text": [
      "-----------2 reviews add to list. ListLen 22-----------\n",
      "-----------REVIEWS SHAPE: 22 @ 8 | RES DATA SHAPE: 1152 @ 8-----------\n",
      "------------------------------------------------------------------\n",
      "-----------PARSING REV FROM /msk/opinions/restaurants/beeftime/ PAGE-----------\n",
      "-----------PAGE 1 PARSING-----------\n"
     ]
    },
    {
     "name": "stderr",
     "output_type": "stream",
     "text": [
      "\r",
      "  5%|▍         | 29/595 [00:56<18:27,  1.96s/it]"
     ]
    },
    {
     "name": "stdout",
     "output_type": "stream",
     "text": [
      "-----------3 reviews add to list. ListLen 3-----------\n",
      "-----------REVIEWS SHAPE: 3 @ 8 | RES DATA SHAPE: 1155 @ 8-----------\n",
      "------------------------------------------------------------------\n",
      "-----------PARSING REV FROM /msk/opinions/restaurants/balzam_nagatinskaya/ PAGE-----------\n",
      "-----------PAGE 1 PARSING-----------\n"
     ]
    },
    {
     "name": "stderr",
     "output_type": "stream",
     "text": [
      "\r",
      "  5%|▌         | 30/595 [00:57<18:04,  1.92s/it]"
     ]
    },
    {
     "name": "stdout",
     "output_type": "stream",
     "text": [
      "-----------2 reviews add to list. ListLen 2-----------\n",
      "-----------REVIEWS SHAPE: 2 @ 8 | RES DATA SHAPE: 1157 @ 8-----------\n",
      "------------------------------------------------------------------\n",
      "-----------PARSING REV FROM /msk/opinions/restaurants/bellapasta/ PAGE-----------\n",
      "-----------PAGE 1 PARSING-----------\n"
     ]
    },
    {
     "name": "stderr",
     "output_type": "stream",
     "text": [
      "\r",
      "  5%|▌         | 31/595 [00:58<17:46,  1.89s/it]"
     ]
    },
    {
     "name": "stdout",
     "output_type": "stream",
     "text": [
      "-----------10 reviews add to list. ListLen 10-----------\n",
      "-----------REVIEWS SHAPE: 10 @ 8 | RES DATA SHAPE: 1167 @ 8-----------\n",
      "------------------------------------------------------------------\n",
      "-----------PARSING REV FROM /msk/opinions/restaurants/bellapasta_solyanka/ PAGE-----------\n",
      "-----------PAGE 1 PARSING-----------\n"
     ]
    },
    {
     "name": "stderr",
     "output_type": "stream",
     "text": [
      "\r",
      "  5%|▌         | 32/595 [00:59<17:31,  1.87s/it]"
     ]
    },
    {
     "name": "stdout",
     "output_type": "stream",
     "text": [
      "-----------16 reviews add to list. ListLen 16-----------\n",
      "-----------REVIEWS SHAPE: 16 @ 8 | RES DATA SHAPE: 1183 @ 8-----------\n",
      "------------------------------------------------------------------\n",
      "-----------PARSING REV FROM /msk/opinions/restaurants/kot-begemot/ PAGE-----------\n",
      "-----------PAGE 1 PARSING-----------\n"
     ]
    },
    {
     "name": "stderr",
     "output_type": "stream",
     "text": [
      "\r",
      "  6%|▌         | 33/595 [01:00<17:14,  1.84s/it]"
     ]
    },
    {
     "name": "stdout",
     "output_type": "stream",
     "text": [
      "-----------3 reviews add to list. ListLen 3-----------\n",
      "-----------REVIEWS SHAPE: 3 @ 8 | RES DATA SHAPE: 1186 @ 8-----------\n",
      "------------------------------------------------------------------\n",
      "-----------PARSING REV FROM /msk/opinions/restaurants/beerness/ PAGE-----------\n",
      "-----------PAGE 1 PARSING-----------\n"
     ]
    },
    {
     "name": "stderr",
     "output_type": "stream",
     "text": [
      "\r",
      "  6%|▌         | 34/595 [01:01<16:57,  1.81s/it]"
     ]
    },
    {
     "name": "stdout",
     "output_type": "stream",
     "text": [
      "-----------3 reviews add to list. ListLen 3-----------\n",
      "-----------REVIEWS SHAPE: 3 @ 8 | RES DATA SHAPE: 1189 @ 8-----------\n",
      "------------------------------------------------------------------\n",
      "-----------PARSING REV FROM /msk/opinions/restaurants/beer-loft/ PAGE-----------\n",
      "-----------PAGE 1 PARSING-----------\n"
     ]
    },
    {
     "name": "stderr",
     "output_type": "stream",
     "text": [
      "\r",
      "  6%|▌         | 35/595 [01:02<16:41,  1.79s/it]"
     ]
    },
    {
     "name": "stdout",
     "output_type": "stream",
     "text": [
      "-----------2 reviews add to list. ListLen 2-----------\n",
      "-----------REVIEWS SHAPE: 2 @ 8 | RES DATA SHAPE: 1191 @ 8-----------\n",
      "------------------------------------------------------------------\n",
      "-----------PARSING REV FROM /msk/opinions/restaurants/beermarket/ PAGE-----------\n",
      "-----------PAGE 1 PARSING-----------\n"
     ]
    },
    {
     "name": "stderr",
     "output_type": "stream",
     "text": [
      "\r",
      "  6%|▌         | 36/595 [01:03<16:28,  1.77s/it]"
     ]
    },
    {
     "name": "stdout",
     "output_type": "stream",
     "text": [
      "-----------13 reviews add to list. ListLen 13-----------\n",
      "-----------REVIEWS SHAPE: 13 @ 8 | RES DATA SHAPE: 1204 @ 8-----------\n",
      "------------------------------------------------------------------\n",
      "-----------PARSING REV FROM /msk/opinions/restaurants/bistrot/ PAGE-----------\n",
      "-----------PAGE 1 PARSING-----------\n",
      "-----------20 reviews add to list. ListLen 20-----------\n",
      "-----------PAGE 2 PARSING-----------\n"
     ]
    },
    {
     "name": "stderr",
     "output_type": "stream",
     "text": [
      "\r",
      "  6%|▌         | 37/595 [01:05<16:31,  1.78s/it]"
     ]
    },
    {
     "name": "stdout",
     "output_type": "stream",
     "text": [
      "-----------8 reviews add to list. ListLen 28-----------\n",
      "-----------REVIEWS SHAPE: 28 @ 8 | RES DATA SHAPE: 1232 @ 8-----------\n",
      "------------------------------------------------------------------\n",
      "-----------PARSING REV FROM /msk/opinions/restaurants/brasseriemost/ PAGE-----------\n",
      "-----------PAGE 1 PARSING-----------\n"
     ]
    },
    {
     "name": "stderr",
     "output_type": "stream",
     "text": [
      "\r",
      "  6%|▋         | 38/595 [01:06<16:19,  1.76s/it]"
     ]
    },
    {
     "name": "stdout",
     "output_type": "stream",
     "text": [
      "-----------13 reviews add to list. ListLen 13-----------\n",
      "-----------REVIEWS SHAPE: 13 @ 8 | RES DATA SHAPE: 1245 @ 8-----------\n",
      "------------------------------------------------------------------\n",
      "-----------PARSING REV FROM /msk/opinions/restaurants/stkrolik/ PAGE-----------\n",
      "-----------PAGE 1 PARSING-----------\n"
     ]
    },
    {
     "name": "stderr",
     "output_type": "stream",
     "text": [
      "\r",
      "  7%|▋         | 39/595 [01:07<16:05,  1.74s/it]"
     ]
    },
    {
     "name": "stdout",
     "output_type": "stream",
     "text": [
      "-----------5 reviews add to list. ListLen 5-----------\n",
      "-----------REVIEWS SHAPE: 5 @ 8 | RES DATA SHAPE: 1250 @ 8-----------\n",
      "------------------------------------------------------------------\n",
      "-----------PARSING REV FROM /msk/opinions/restaurants/boroda/ PAGE-----------\n",
      "-----------PAGE 1 PARSING-----------\n"
     ]
    },
    {
     "name": "stderr",
     "output_type": "stream",
     "text": [
      "\r",
      "  7%|▋         | 40/595 [01:08<15:52,  1.72s/it]"
     ]
    },
    {
     "name": "stdout",
     "output_type": "stream",
     "text": [
      "-----------3 reviews add to list. ListLen 3-----------\n",
      "-----------REVIEWS SHAPE: 3 @ 8 | RES DATA SHAPE: 1253 @ 8-----------\n",
      "------------------------------------------------------------------\n",
      "-----------PARSING REV FROM /msk/opinions/restaurants/brawler-s/ PAGE-----------\n",
      "-----------PAGE 1 PARSING-----------\n"
     ]
    },
    {
     "name": "stderr",
     "output_type": "stream",
     "text": [
      "\r",
      "  7%|▋         | 41/595 [01:09<15:39,  1.70s/it]"
     ]
    },
    {
     "name": "stdout",
     "output_type": "stream",
     "text": [
      "-----------2 reviews add to list. ListLen 2-----------\n",
      "-----------REVIEWS SHAPE: 2 @ 8 | RES DATA SHAPE: 1255 @ 8-----------\n",
      "------------------------------------------------------------------\n",
      "-----------PARSING REV FROM /msk/opinions/restaurants/bocconcino-leningradskoe/ PAGE-----------\n",
      "-----------PAGE 1 PARSING-----------\n"
     ]
    },
    {
     "name": "stderr",
     "output_type": "stream",
     "text": [
      "\r",
      "  7%|▋         | 42/595 [01:10<15:29,  1.68s/it]"
     ]
    },
    {
     "name": "stdout",
     "output_type": "stream",
     "text": [
      "-----------14 reviews add to list. ListLen 14-----------\n",
      "-----------REVIEWS SHAPE: 14 @ 8 | RES DATA SHAPE: 1269 @ 8-----------\n",
      "------------------------------------------------------------------\n",
      "-----------PARSING REV FROM /msk/opinions/restaurants/bocconcino-set/ PAGE-----------\n",
      "-----------PAGE 1 PARSING-----------\n",
      "-----------20 reviews add to list. ListLen 20-----------\n",
      "-----------PAGE 2 PARSING-----------\n",
      "-----------20 reviews add to list. ListLen 40-----------\n",
      "-----------PAGE 3 PARSING-----------\n"
     ]
    },
    {
     "name": "stderr",
     "output_type": "stream",
     "text": [
      "\r",
      "  7%|▋         | 43/595 [01:13<15:37,  1.70s/it]"
     ]
    },
    {
     "name": "stdout",
     "output_type": "stream",
     "text": [
      "-----------20 reviews add to list. ListLen 60-----------\n",
      "-----------REVIEWS SHAPE: 60 @ 8 | RES DATA SHAPE: 1329 @ 8-----------\n",
      "------------------------------------------------------------------\n",
      "-----------PARSING REV FROM /msk/opinions/restaurants/maskafili/ PAGE-----------\n",
      "-----------PAGE 1 PARSING-----------\n"
     ]
    },
    {
     "name": "stderr",
     "output_type": "stream",
     "text": [
      "\r",
      "  7%|▋         | 44/595 [01:13<15:26,  1.68s/it]"
     ]
    },
    {
     "name": "stdout",
     "output_type": "stream",
     "text": [
      "-----------4 reviews add to list. ListLen 4-----------\n",
      "-----------REVIEWS SHAPE: 4 @ 8 | RES DATA SHAPE: 1333 @ 8-----------\n",
      "------------------------------------------------------------------\n",
      "-----------PARSING REV FROM /msk/opinions/restaurants/cafedearts/ PAGE-----------\n",
      "-----------PAGE 1 PARSING-----------\n"
     ]
    },
    {
     "name": "stderr",
     "output_type": "stream",
     "text": [
      "\r",
      "  8%|▊         | 45/595 [01:14<15:16,  1.67s/it]"
     ]
    },
    {
     "name": "stdout",
     "output_type": "stream",
     "text": [
      "-----------6 reviews add to list. ListLen 6-----------\n",
      "-----------REVIEWS SHAPE: 6 @ 8 | RES DATA SHAPE: 1339 @ 8-----------\n",
      "------------------------------------------------------------------\n",
      "-----------PARSING REV FROM /msk/opinions/restaurants/ceretto_tsvetnoy_bulvar/ PAGE-----------\n",
      "-----------PAGE 1 PARSING-----------\n"
     ]
    },
    {
     "name": "stderr",
     "output_type": "stream",
     "text": [
      "\r",
      "  8%|▊         | 46/595 [01:15<15:06,  1.65s/it]"
     ]
    },
    {
     "name": "stdout",
     "output_type": "stream",
     "text": [
      "-----------3 reviews add to list. ListLen 3-----------\n",
      "-----------REVIEWS SHAPE: 3 @ 8 | RES DATA SHAPE: 1342 @ 8-----------\n",
      "------------------------------------------------------------------\n",
      "-----------PARSING REV FROM /msk/opinions/restaurants/bromley_brothers/ PAGE-----------\n",
      "-----------PAGE 1 PARSING-----------\n"
     ]
    },
    {
     "name": "stderr",
     "output_type": "stream",
     "text": [
      "\r",
      "  8%|▊         | 47/595 [01:16<14:56,  1.64s/it]"
     ]
    },
    {
     "name": "stdout",
     "output_type": "stream",
     "text": [
      "-----------4 reviews add to list. ListLen 4-----------\n",
      "-----------REVIEWS SHAPE: 4 @ 8 | RES DATA SHAPE: 1346 @ 8-----------\n",
      "------------------------------------------------------------------\n",
      "-----------PARSING REV FROM /msk/opinions/restaurants/bronco/ PAGE-----------\n",
      "-----------PAGE 1 PARSING-----------\n"
     ]
    },
    {
     "name": "stderr",
     "output_type": "stream",
     "text": [
      "\r",
      "  8%|▊         | 48/595 [01:17<14:45,  1.62s/it]"
     ]
    },
    {
     "name": "stdout",
     "output_type": "stream",
     "text": [
      "-----------2 reviews add to list. ListLen 2-----------\n",
      "-----------REVIEWS SHAPE: 2 @ 8 | RES DATA SHAPE: 1348 @ 8-----------\n",
      "------------------------------------------------------------------\n",
      "-----------PARSING REV FROM /msk/opinions/restaurants/cantinetta_antinori/ PAGE-----------\n",
      "-----------PAGE 1 PARSING-----------\n"
     ]
    },
    {
     "name": "stderr",
     "output_type": "stream",
     "text": [
      "\r",
      "  8%|▊         | 49/595 [01:18<14:37,  1.61s/it]"
     ]
    },
    {
     "name": "stdout",
     "output_type": "stream",
     "text": [
      "-----------13 reviews add to list. ListLen 13-----------\n",
      "-----------REVIEWS SHAPE: 13 @ 8 | RES DATA SHAPE: 1361 @ 8-----------\n",
      "------------------------------------------------------------------\n",
      "-----------PARSING REV FROM /msk/opinions/restaurants/chelsea-pub/ PAGE-----------\n",
      "-----------PAGE 1 PARSING-----------\n",
      "-----------20 reviews add to list. ListLen 20-----------\n",
      "-----------PAGE 2 PARSING-----------\n"
     ]
    },
    {
     "name": "stderr",
     "output_type": "stream",
     "text": [
      "\r",
      "  8%|▊         | 50/595 [01:20<14:34,  1.60s/it]"
     ]
    },
    {
     "name": "stdout",
     "output_type": "stream",
     "text": [
      "-----------2 reviews add to list. ListLen 22-----------\n",
      "-----------REVIEWS SHAPE: 22 @ 8 | RES DATA SHAPE: 1383 @ 8-----------\n",
      "------------------------------------------------------------------\n",
      "-----------PARSING REV FROM /msk/opinions/restaurants/china_club/ PAGE-----------\n",
      "-----------PAGE 1 PARSING-----------\n"
     ]
    },
    {
     "name": "stderr",
     "output_type": "stream",
     "text": [
      "\r",
      "  9%|▊         | 51/595 [01:21<14:25,  1.59s/it]"
     ]
    },
    {
     "name": "stdout",
     "output_type": "stream",
     "text": [
      "-----------6 reviews add to list. ListLen 6-----------\n",
      "-----------REVIEWS SHAPE: 6 @ 8 | RES DATA SHAPE: 1389 @ 8-----------\n",
      "------------------------------------------------------------------\n",
      "-----------PARSING REV FROM /msk/opinions/restaurants/chateaubobroff/ PAGE-----------\n",
      "-----------PAGE 1 PARSING-----------\n"
     ]
    },
    {
     "name": "stderr",
     "output_type": "stream",
     "text": [
      "\r",
      "  9%|▊         | 52/595 [01:22<14:16,  1.58s/it]"
     ]
    },
    {
     "name": "stdout",
     "output_type": "stream",
     "text": [
      "-----------5 reviews add to list. ListLen 5-----------\n",
      "-----------REVIEWS SHAPE: 5 @ 8 | RES DATA SHAPE: 1394 @ 8-----------\n",
      "------------------------------------------------------------------\n",
      "-----------PARSING REV FROM /msk/opinions/restaurants/ceretto/ PAGE-----------\n",
      "-----------PAGE 1 PARSING-----------\n"
     ]
    },
    {
     "name": "stderr",
     "output_type": "stream",
     "text": [
      "\r",
      "  9%|▉         | 53/595 [01:22<14:08,  1.57s/it]"
     ]
    },
    {
     "name": "stdout",
     "output_type": "stream",
     "text": [
      "-----------8 reviews add to list. ListLen 8-----------\n",
      "-----------REVIEWS SHAPE: 8 @ 8 | RES DATA SHAPE: 1402 @ 8-----------\n",
      "------------------------------------------------------------------\n",
      "-----------PARSING REV FROM /msk/opinions/restaurants/chinchin_ul_nagatinskaya/ PAGE-----------\n",
      "-----------PAGE 1 PARSING-----------\n"
     ]
    },
    {
     "name": "stderr",
     "output_type": "stream",
     "text": [
      "\r",
      "  9%|▉         | 54/595 [01:23<13:59,  1.55s/it]"
     ]
    },
    {
     "name": "stdout",
     "output_type": "stream",
     "text": [
      "-----------4 reviews add to list. ListLen 4-----------\n",
      "-----------REVIEWS SHAPE: 4 @ 8 | RES DATA SHAPE: 1406 @ 8-----------\n",
      "------------------------------------------------------------------\n",
      "-----------PARSING REV FROM /msk/opinions/restaurants/kraft_kafe_cheers_chirs_/ PAGE-----------\n",
      "-----------PAGE 1 PARSING-----------\n"
     ]
    },
    {
     "name": "stderr",
     "output_type": "stream",
     "text": [
      "\r",
      "  9%|▉         | 55/595 [01:24<13:52,  1.54s/it]"
     ]
    },
    {
     "name": "stdout",
     "output_type": "stream",
     "text": [
      "-----------18 reviews add to list. ListLen 18-----------\n",
      "-----------REVIEWS SHAPE: 18 @ 8 | RES DATA SHAPE: 1424 @ 8-----------\n",
      "------------------------------------------------------------------\n",
      "-----------PARSING REV FROM /msk/opinions/restaurants/chicagoprime/ PAGE-----------\n",
      "-----------PAGE 1 PARSING-----------\n"
     ]
    },
    {
     "name": "stderr",
     "output_type": "stream",
     "text": [
      "\r",
      "  9%|▉         | 56/595 [01:25<13:44,  1.53s/it]"
     ]
    },
    {
     "name": "stdout",
     "output_type": "stream",
     "text": [
      "-----------3 reviews add to list. ListLen 3-----------\n",
      "-----------REVIEWS SHAPE: 3 @ 8 | RES DATA SHAPE: 1427 @ 8-----------\n",
      "------------------------------------------------------------------\n",
      "-----------PARSING REV FROM /msk/opinions/restaurants/cicco-club/ PAGE-----------\n",
      "-----------PAGE 1 PARSING-----------\n"
     ]
    },
    {
     "name": "stderr",
     "output_type": "stream",
     "text": [
      "\r",
      " 10%|▉         | 57/595 [01:26<13:37,  1.52s/it]"
     ]
    },
    {
     "name": "stdout",
     "output_type": "stream",
     "text": [
      "-----------12 reviews add to list. ListLen 12-----------\n",
      "-----------REVIEWS SHAPE: 12 @ 8 | RES DATA SHAPE: 1439 @ 8-----------\n",
      "------------------------------------------------------------------\n",
      "-----------PARSING REV FROM /msk/opinions/restaurants/cuba_libre/ PAGE-----------\n",
      "-----------PAGE 1 PARSING-----------\n"
     ]
    },
    {
     "name": "stderr",
     "output_type": "stream",
     "text": [
      "\r",
      " 10%|▉         | 58/595 [01:27<13:30,  1.51s/it]"
     ]
    },
    {
     "name": "stdout",
     "output_type": "stream",
     "text": [
      "-----------2 reviews add to list. ListLen 2-----------\n",
      "-----------REVIEWS SHAPE: 2 @ 8 | RES DATA SHAPE: 1441 @ 8-----------\n",
      "------------------------------------------------------------------\n",
      "-----------PARSING REV FROM /msk/opinions/restaurants/cinematograph/ PAGE-----------\n",
      "-----------PAGE 1 PARSING-----------\n"
     ]
    },
    {
     "name": "stderr",
     "output_type": "stream",
     "text": [
      "\r",
      " 10%|▉         | 59/595 [01:28<13:23,  1.50s/it]"
     ]
    },
    {
     "name": "stdout",
     "output_type": "stream",
     "text": [
      "-----------10 reviews add to list. ListLen 10-----------\n",
      "-----------REVIEWS SHAPE: 10 @ 8 | RES DATA SHAPE: 1451 @ 8-----------\n",
      "------------------------------------------------------------------\n",
      "-----------PARSING REV FROM /msk/opinions/restaurants/ic_club/ PAGE-----------\n",
      "-----------PAGE 1 PARSING-----------\n"
     ]
    },
    {
     "name": "stderr",
     "output_type": "stream",
     "text": [
      "\r",
      " 10%|█         | 60/595 [01:29<13:16,  1.49s/it]"
     ]
    },
    {
     "name": "stdout",
     "output_type": "stream",
     "text": [
      "-----------3 reviews add to list. ListLen 3-----------\n",
      "-----------REVIEWS SHAPE: 3 @ 8 | RES DATA SHAPE: 1454 @ 8-----------\n",
      "------------------------------------------------------------------\n",
      "-----------PARSING REV FROM /msk/opinions/restaurants/dreambar/ PAGE-----------\n",
      "-----------PAGE 1 PARSING-----------\n"
     ]
    },
    {
     "name": "stderr",
     "output_type": "stream",
     "text": [
      "\r",
      " 10%|█         | 61/595 [01:30<13:10,  1.48s/it]"
     ]
    },
    {
     "name": "stdout",
     "output_type": "stream",
     "text": [
      "-----------6 reviews add to list. ListLen 6-----------\n",
      "-----------REVIEWS SHAPE: 6 @ 8 | RES DATA SHAPE: 1460 @ 8-----------\n",
      "------------------------------------------------------------------\n",
      "-----------PARSING REV FROM /msk/opinions/restaurants/dorffman/ PAGE-----------\n",
      "-----------PAGE 1 PARSING-----------\n",
      "-----------20 reviews add to list. ListLen 20-----------\n",
      "-----------PAGE 2 PARSING-----------\n"
     ]
    },
    {
     "name": "stderr",
     "output_type": "stream",
     "text": [
      "\r",
      " 10%|█         | 62/595 [01:31<13:10,  1.48s/it]"
     ]
    },
    {
     "name": "stdout",
     "output_type": "stream",
     "text": [
      "-----------10 reviews add to list. ListLen 30-----------\n",
      "-----------REVIEWS SHAPE: 30 @ 8 | RES DATA SHAPE: 1490 @ 8-----------\n",
      "------------------------------------------------------------------\n",
      "-----------PARSING REV FROM /msk/opinions/restaurants/darbars/ PAGE-----------\n",
      "-----------PAGE 1 PARSING-----------\n"
     ]
    },
    {
     "name": "stderr",
     "output_type": "stream",
     "text": [
      "\r",
      " 11%|█         | 63/595 [01:32<13:04,  1.48s/it]"
     ]
    },
    {
     "name": "stdout",
     "output_type": "stream",
     "text": [
      "-----------4 reviews add to list. ListLen 4-----------\n",
      "-----------REVIEWS SHAPE: 4 @ 8 | RES DATA SHAPE: 1494 @ 8-----------\n",
      "------------------------------------------------------------------\n",
      "-----------PARSING REV FROM /msk/opinions/restaurants/double_bourbon_street_bar/ PAGE-----------\n",
      "-----------PAGE 1 PARSING-----------\n"
     ]
    },
    {
     "name": "stderr",
     "output_type": "stream",
     "text": [
      "\r",
      " 11%|█         | 64/595 [01:33<12:58,  1.47s/it]"
     ]
    },
    {
     "name": "stdout",
     "output_type": "stream",
     "text": [
      "-----------2 reviews add to list. ListLen 2-----------\n",
      "-----------REVIEWS SHAPE: 2 @ 8 | RES DATA SHAPE: 1496 @ 8-----------\n",
      "------------------------------------------------------------------\n",
      "-----------PARSING REV FROM /msk/opinions/restaurants/dolma-sretenka/ PAGE-----------\n",
      "-----------PAGE 1 PARSING-----------\n"
     ]
    },
    {
     "name": "stderr",
     "output_type": "stream",
     "text": [
      "\r",
      " 11%|█         | 65/595 [01:34<12:52,  1.46s/it]"
     ]
    },
    {
     "name": "stdout",
     "output_type": "stream",
     "text": [
      "-----------5 reviews add to list. ListLen 5-----------\n",
      "-----------REVIEWS SHAPE: 5 @ 8 | RES DATA SHAPE: 1501 @ 8-----------\n",
      "------------------------------------------------------------------\n",
      "-----------PARSING REV FROM /msk/opinions/restaurants/dakstars/ PAGE-----------\n",
      "-----------PAGE 1 PARSING-----------\n",
      "-----------20 reviews add to list. ListLen 20-----------\n",
      "-----------PAGE 2 PARSING-----------\n",
      "-----------20 reviews add to list. ListLen 40-----------\n",
      "-----------PAGE 3 PARSING-----------\n"
     ]
    },
    {
     "name": "stderr",
     "output_type": "stream",
     "text": [
      "\r",
      " 11%|█         | 66/595 [01:36<12:56,  1.47s/it]"
     ]
    },
    {
     "name": "stdout",
     "output_type": "stream",
     "text": [
      "-----------8 reviews add to list. ListLen 48-----------\n",
      "-----------REVIEWS SHAPE: 48 @ 8 | RES DATA SHAPE: 1549 @ 8-----------\n",
      "------------------------------------------------------------------\n",
      "-----------PARSING REV FROM /msk/opinions/restaurants/doctor-watson/ PAGE-----------\n",
      "-----------PAGE 1 PARSING-----------\n"
     ]
    },
    {
     "name": "stderr",
     "output_type": "stream",
     "text": [
      "\r",
      " 11%|█▏        | 67/595 [01:37<12:51,  1.46s/it]"
     ]
    },
    {
     "name": "stdout",
     "output_type": "stream",
     "text": [
      "-----------11 reviews add to list. ListLen 11-----------\n",
      "-----------REVIEWS SHAPE: 11 @ 8 | RES DATA SHAPE: 1560 @ 8-----------\n",
      "------------------------------------------------------------------\n",
      "-----------PARSING REV FROM /msk/opinions/restaurants/dapino/ PAGE-----------\n",
      "-----------PAGE 1 PARSING-----------\n",
      "-----------20 reviews add to list. ListLen 20-----------\n",
      "-----------PAGE 2 PARSING-----------\n",
      "-----------20 reviews add to list. ListLen 40-----------\n",
      "-----------PAGE 3 PARSING-----------\n",
      "-----------20 reviews add to list. ListLen 60-----------\n",
      "-----------PAGE 4 PARSING-----------\n"
     ]
    },
    {
     "name": "stderr",
     "output_type": "stream",
     "text": [
      "\r",
      " 11%|█▏        | 68/595 [01:40<12:59,  1.48s/it]"
     ]
    },
    {
     "name": "stdout",
     "output_type": "stream",
     "text": [
      "-----------3 reviews add to list. ListLen 63-----------\n",
      "-----------REVIEWS SHAPE: 63 @ 8 | RES DATA SHAPE: 1623 @ 8-----------\n",
      "------------------------------------------------------------------\n",
      "-----------PARSING REV FROM /msk/opinions/restaurants/el_gauchito/ PAGE-----------\n",
      "-----------PAGE 1 PARSING-----------\n"
     ]
    },
    {
     "name": "stderr",
     "output_type": "stream",
     "text": [
      "\r",
      " 12%|█▏        | 69/595 [01:41<12:55,  1.47s/it]"
     ]
    },
    {
     "name": "stdout",
     "output_type": "stream",
     "text": [
      "-----------13 reviews add to list. ListLen 13-----------\n",
      "-----------REVIEWS SHAPE: 13 @ 8 | RES DATA SHAPE: 1636 @ 8-----------\n",
      "------------------------------------------------------------------\n",
      "-----------PARSING REV FROM /msk/opinions/restaurants/easypub/ PAGE-----------\n",
      "-----------PAGE 1 PARSING-----------\n"
     ]
    },
    {
     "name": "stderr",
     "output_type": "stream",
     "text": [
      "\r",
      " 12%|█▏        | 70/595 [01:42<12:49,  1.47s/it]"
     ]
    },
    {
     "name": "stdout",
     "output_type": "stream",
     "text": [
      "-----------2 reviews add to list. ListLen 2-----------\n",
      "-----------REVIEWS SHAPE: 2 @ 8 | RES DATA SHAPE: 1638 @ 8-----------\n",
      "------------------------------------------------------------------\n",
      "-----------PARSING REV FROM /msk/opinions/restaurants/elleon-bz/ PAGE-----------\n",
      "-----------PAGE 1 PARSING-----------\n"
     ]
    },
    {
     "name": "stderr",
     "output_type": "stream",
     "text": [
      "\r",
      " 12%|█▏        | 71/595 [01:43<12:43,  1.46s/it]"
     ]
    },
    {
     "name": "stdout",
     "output_type": "stream",
     "text": [
      "-----------4 reviews add to list. ListLen 4-----------\n",
      "-----------REVIEWS SHAPE: 4 @ 8 | RES DATA SHAPE: 1642 @ 8-----------\n",
      "------------------------------------------------------------------\n",
      "-----------PARSING REV FROM /msk/opinions/restaurants/zinc/ PAGE-----------\n",
      "-----------PAGE 1 PARSING-----------\n"
     ]
    },
    {
     "name": "stderr",
     "output_type": "stream",
     "text": [
      "\r",
      " 12%|█▏        | 72/595 [01:44<12:37,  1.45s/it]"
     ]
    },
    {
     "name": "stdout",
     "output_type": "stream",
     "text": [
      "-----------7 reviews add to list. ListLen 7-----------\n",
      "-----------REVIEWS SHAPE: 7 @ 8 | RES DATA SHAPE: 1649 @ 8-----------\n",
      "------------------------------------------------------------------\n",
      "-----------PARSING REV FROM /msk/opinions/restaurants/elgauchito/ PAGE-----------\n",
      "-----------PAGE 1 PARSING-----------\n"
     ]
    },
    {
     "name": "stderr",
     "output_type": "stream",
     "text": [
      "\r",
      " 12%|█▏        | 73/595 [01:45<12:32,  1.44s/it]"
     ]
    },
    {
     "name": "stdout",
     "output_type": "stream",
     "text": [
      "-----------4 reviews add to list. ListLen 4-----------\n",
      "-----------REVIEWS SHAPE: 4 @ 8 | RES DATA SHAPE: 1653 @ 8-----------\n",
      "------------------------------------------------------------------\n",
      "-----------PARSING REV FROM /msk/opinions/restaurants/elgaucho/ PAGE-----------\n",
      "-----------PAGE 1 PARSING-----------\n"
     ]
    },
    {
     "name": "stderr",
     "output_type": "stream",
     "text": [
      "\r",
      " 12%|█▏        | 74/595 [01:46<12:26,  1.43s/it]"
     ]
    },
    {
     "name": "stdout",
     "output_type": "stream",
     "text": [
      "-----------6 reviews add to list. ListLen 6-----------\n",
      "-----------REVIEWS SHAPE: 6 @ 8 | RES DATA SHAPE: 1659 @ 8-----------\n",
      "------------------------------------------------------------------\n",
      "-----------PARSING REV FROM /msk/opinions/restaurants/raihona/ PAGE-----------\n",
      "-----------PAGE 1 PARSING-----------\n"
     ]
    },
    {
     "name": "stderr",
     "output_type": "stream",
     "text": [
      "\r",
      " 13%|█▎        | 75/595 [01:46<12:21,  1.43s/it]"
     ]
    },
    {
     "name": "stdout",
     "output_type": "stream",
     "text": [
      "-----------2 reviews add to list. ListLen 2-----------\n",
      "-----------REVIEWS SHAPE: 2 @ 8 | RES DATA SHAPE: 1661 @ 8-----------\n",
      "------------------------------------------------------------------\n",
      "-----------PARSING REV FROM /msk/opinions/restaurants/forestbar/ PAGE-----------\n",
      "-----------PAGE 1 PARSING-----------\n"
     ]
    },
    {
     "name": "stderr",
     "output_type": "stream",
     "text": [
      "\r",
      " 13%|█▎        | 76/595 [01:47<12:16,  1.42s/it]"
     ]
    },
    {
     "name": "stdout",
     "output_type": "stream",
     "text": [
      "-----------5 reviews add to list. ListLen 5-----------\n",
      "-----------REVIEWS SHAPE: 5 @ 8 | RES DATA SHAPE: 1666 @ 8-----------\n",
      "------------------------------------------------------------------\n",
      "-----------PARSING REV FROM /msk/opinions/restaurants/est_kafe/ PAGE-----------\n",
      "-----------PAGE 1 PARSING-----------\n"
     ]
    },
    {
     "name": "stderr",
     "output_type": "stream",
     "text": [
      "\r",
      " 13%|█▎        | 77/595 [01:48<12:10,  1.41s/it]"
     ]
    },
    {
     "name": "stdout",
     "output_type": "stream",
     "text": [
      "-----------2 reviews add to list. ListLen 2-----------\n",
      "-----------REVIEWS SHAPE: 2 @ 8 | RES DATA SHAPE: 1668 @ 8-----------\n",
      "------------------------------------------------------------------\n",
      "-----------PARSING REV FROM /msk/opinions/restaurants/forza/ PAGE-----------\n",
      "-----------PAGE 1 PARSING-----------\n"
     ]
    },
    {
     "name": "stderr",
     "output_type": "stream",
     "text": [
      "\r",
      " 13%|█▎        | 78/595 [01:49<12:05,  1.40s/it]"
     ]
    },
    {
     "name": "stdout",
     "output_type": "stream",
     "text": [
      "-----------5 reviews add to list. ListLen 5-----------\n",
      "-----------REVIEWS SHAPE: 5 @ 8 | RES DATA SHAPE: 1673 @ 8-----------\n",
      "------------------------------------------------------------------\n",
      "-----------PARSING REV FROM /msk/opinions/restaurants/fazenda/ PAGE-----------\n",
      "-----------PAGE 1 PARSING-----------\n",
      "-----------20 reviews add to list. ListLen 20-----------\n",
      "-----------PAGE 2 PARSING-----------\n"
     ]
    },
    {
     "name": "stderr",
     "output_type": "stream",
     "text": [
      "\r",
      " 13%|█▎        | 79/595 [01:51<12:06,  1.41s/it]"
     ]
    },
    {
     "name": "stdout",
     "output_type": "stream",
     "text": [
      "-----------18 reviews add to list. ListLen 38-----------\n",
      "-----------REVIEWS SHAPE: 38 @ 8 | RES DATA SHAPE: 1711 @ 8-----------\n",
      "------------------------------------------------------------------\n",
      "-----------PARSING REV FROM /msk/opinions/restaurants/friends-family/ PAGE-----------\n",
      "-----------PAGE 1 PARSING-----------\n"
     ]
    },
    {
     "name": "stderr",
     "output_type": "stream",
     "text": [
      "\r",
      " 13%|█▎        | 80/595 [01:52<12:03,  1.40s/it]"
     ]
    },
    {
     "name": "stdout",
     "output_type": "stream",
     "text": [
      "-----------2 reviews add to list. ListLen 2-----------\n",
      "-----------REVIEWS SHAPE: 2 @ 8 | RES DATA SHAPE: 1713 @ 8-----------\n",
      "------------------------------------------------------------------\n",
      "-----------PARSING REV FROM /msk/opinions/restaurants/empresshall/ PAGE-----------\n",
      "-----------PAGE 1 PARSING-----------\n",
      "-----------20 reviews add to list. ListLen 20-----------\n",
      "-----------PAGE 2 PARSING-----------\n",
      "-----------20 reviews add to list. ListLen 40-----------\n",
      "-----------PAGE 3 PARSING-----------\n",
      "-----------20 reviews add to list. ListLen 60-----------\n",
      "-----------PAGE 4 PARSING-----------\n",
      "-----------20 reviews add to list. ListLen 80-----------\n",
      "-----------PAGE 5 PARSING-----------\n"
     ]
    },
    {
     "name": "stderr",
     "output_type": "stream",
     "text": [
      "\r",
      " 14%|█▎        | 81/595 [01:55<12:12,  1.43s/it]"
     ]
    },
    {
     "name": "stdout",
     "output_type": "stream",
     "text": [
      "-----------1 reviews add to list. ListLen 81-----------\n",
      "-----------REVIEWS SHAPE: 81 @ 8 | RES DATA SHAPE: 1794 @ 8-----------\n",
      "------------------------------------------------------------------\n",
      "-----------PARSING REV FROM /msk/opinions/restaurants/lfornetto/ PAGE-----------\n",
      "-----------PAGE 1 PARSING-----------\n"
     ]
    },
    {
     "name": "stderr",
     "output_type": "stream",
     "text": [
      "\r",
      " 14%|█▍        | 82/595 [01:56<12:08,  1.42s/it]"
     ]
    },
    {
     "name": "stdout",
     "output_type": "stream",
     "text": [
      "-----------6 reviews add to list. ListLen 6-----------\n",
      "-----------REVIEWS SHAPE: 6 @ 8 | RES DATA SHAPE: 1800 @ 8-----------\n",
      "------------------------------------------------------------------\n",
      "-----------PARSING REV FROM /msk/opinions/restaurants/fannycabany/ PAGE-----------\n",
      "-----------PAGE 1 PARSING-----------\n",
      "-----------20 reviews add to list. ListLen 20-----------\n",
      "-----------PAGE 2 PARSING-----------\n",
      "-----------20 reviews add to list. ListLen 40-----------\n",
      "-----------PAGE 3 PARSING-----------\n",
      "-----------20 reviews add to list. ListLen 60-----------\n",
      "-----------PAGE 4 PARSING-----------\n",
      "-----------20 reviews add to list. ListLen 80-----------\n",
      "-----------PAGE 5 PARSING-----------\n"
     ]
    },
    {
     "name": "stderr",
     "output_type": "stream",
     "text": [
      "\r",
      " 14%|█▍        | 83/595 [01:59<12:18,  1.44s/it]"
     ]
    },
    {
     "name": "stdout",
     "output_type": "stream",
     "text": [
      "-----------12 reviews add to list. ListLen 92-----------\n",
      "-----------REVIEWS SHAPE: 92 @ 8 | RES DATA SHAPE: 1892 @ 8-----------\n",
      "------------------------------------------------------------------\n",
      "-----------PARSING REV FROM /msk/opinions/restaurants/gogieli/ PAGE-----------\n",
      "-----------PAGE 1 PARSING-----------\n"
     ]
    },
    {
     "name": "stderr",
     "output_type": "stream",
     "text": [
      "\r",
      " 14%|█▍        | 84/595 [02:00<12:15,  1.44s/it]"
     ]
    },
    {
     "name": "stdout",
     "output_type": "stream",
     "text": [
      "-----------12 reviews add to list. ListLen 12-----------\n",
      "-----------REVIEWS SHAPE: 12 @ 8 | RES DATA SHAPE: 1904 @ 8-----------\n",
      "------------------------------------------------------------------\n",
      "-----------PARSING REV FROM /msk/opinions/restaurants/geotoriya/ PAGE-----------\n",
      "-----------PAGE 1 PARSING-----------\n"
     ]
    },
    {
     "name": "stderr",
     "output_type": "stream",
     "text": [
      "\r",
      " 14%|█▍        | 85/595 [02:01<12:10,  1.43s/it]"
     ]
    },
    {
     "name": "stdout",
     "output_type": "stream",
     "text": [
      "-----------6 reviews add to list. ListLen 6-----------\n",
      "-----------REVIEWS SHAPE: 6 @ 8 | RES DATA SHAPE: 1910 @ 8-----------\n",
      "------------------------------------------------------------------\n",
      "-----------PARSING REV FROM /msk/opinions/restaurants/gipsy/ PAGE-----------\n",
      "-----------PAGE 1 PARSING-----------\n"
     ]
    },
    {
     "name": "stderr",
     "output_type": "stream",
     "text": [
      "\r",
      " 14%|█▍        | 86/595 [02:02<12:05,  1.42s/it]"
     ]
    },
    {
     "name": "stdout",
     "output_type": "stream",
     "text": [
      "-----------2 reviews add to list. ListLen 2-----------\n",
      "-----------REVIEWS SHAPE: 2 @ 8 | RES DATA SHAPE: 1912 @ 8-----------\n",
      "------------------------------------------------------------------\n",
      "-----------PARSING REV FROM /msk/opinions/restaurants/gallery/ PAGE-----------\n",
      "-----------PAGE 1 PARSING-----------\n"
     ]
    },
    {
     "name": "stderr",
     "output_type": "stream",
     "text": [
      "\r",
      " 15%|█▍        | 87/595 [02:03<12:01,  1.42s/it]"
     ]
    },
    {
     "name": "stdout",
     "output_type": "stream",
     "text": [
      "-----------8 reviews add to list. ListLen 8-----------\n",
      "-----------REVIEWS SHAPE: 8 @ 8 | RES DATA SHAPE: 1920 @ 8-----------\n",
      "------------------------------------------------------------------\n",
      "-----------PARSING REV FROM /msk/opinions/restaurants/geraldine/ PAGE-----------\n",
      "-----------PAGE 1 PARSING-----------\n",
      "-----------20 reviews add to list. ListLen 20-----------\n",
      "-----------PAGE 2 PARSING-----------\n"
     ]
    },
    {
     "name": "stderr",
     "output_type": "stream",
     "text": [
      "\r",
      " 15%|█▍        | 88/595 [02:05<12:01,  1.42s/it]"
     ]
    },
    {
     "name": "stdout",
     "output_type": "stream",
     "text": [
      "-----------16 reviews add to list. ListLen 36-----------\n",
      "-----------REVIEWS SHAPE: 36 @ 8 | RES DATA SHAPE: 1956 @ 8-----------\n",
      "------------------------------------------------------------------\n",
      "-----------PARSING REV FROM /msk/opinions/restaurants/giovedicafe/ PAGE-----------\n",
      "-----------PAGE 1 PARSING-----------\n",
      "-----------20 reviews add to list. ListLen 20-----------\n",
      "-----------PAGE 2 PARSING-----------\n"
     ]
    },
    {
     "name": "stderr",
     "output_type": "stream",
     "text": [
      "\r",
      " 15%|█▍        | 89/595 [02:06<12:00,  1.42s/it]"
     ]
    },
    {
     "name": "stdout",
     "output_type": "stream",
     "text": [
      "-----------7 reviews add to list. ListLen 27-----------\n",
      "-----------REVIEWS SHAPE: 27 @ 8 | RES DATA SHAPE: 1983 @ 8-----------\n",
      "------------------------------------------------------------------\n",
      "-----------PARSING REV FROM /msk/opinions/restaurants/gayanes/ PAGE-----------\n",
      "-----------PAGE 1 PARSING-----------\n",
      "-----------20 reviews add to list. ListLen 20-----------\n",
      "-----------PAGE 2 PARSING-----------\n",
      "-----------20 reviews add to list. ListLen 40-----------\n",
      "-----------PAGE 3 PARSING-----------\n",
      "-----------20 reviews add to list. ListLen 60-----------\n",
      "-----------PAGE 4 PARSING-----------\n"
     ]
    },
    {
     "name": "stderr",
     "output_type": "stream",
     "text": [
      "\r",
      " 15%|█▌        | 90/595 [02:09<12:08,  1.44s/it]"
     ]
    },
    {
     "name": "stdout",
     "output_type": "stream",
     "text": [
      "-----------15 reviews add to list. ListLen 75-----------\n",
      "-----------REVIEWS SHAPE: 75 @ 8 | RES DATA SHAPE: 2058 @ 8-----------\n",
      "------------------------------------------------------------------\n",
      "-----------PARSING REV FROM /msk/opinions/restaurants/il_barolo/ PAGE-----------\n",
      "-----------PAGE 1 PARSING-----------\n"
     ]
    },
    {
     "name": "stderr",
     "output_type": "stream",
     "text": [
      "\r",
      " 15%|█▌        | 91/595 [02:10<12:04,  1.44s/it]"
     ]
    },
    {
     "name": "stdout",
     "output_type": "stream",
     "text": [
      "-----------10 reviews add to list. ListLen 10-----------\n",
      "-----------REVIEWS SHAPE: 10 @ 8 | RES DATA SHAPE: 2068 @ 8-----------\n",
      "------------------------------------------------------------------\n",
      "-----------PARSING REV FROM /msk/opinions/restaurants/haggis_pub_kitchen/ PAGE-----------\n",
      "-----------PAGE 1 PARSING-----------\n",
      "-----------20 reviews add to list. ListLen 20-----------\n",
      "-----------PAGE 2 PARSING-----------\n"
     ]
    },
    {
     "name": "stderr",
     "output_type": "stream",
     "text": [
      "\r",
      " 15%|█▌        | 92/595 [02:12<12:04,  1.44s/it]"
     ]
    },
    {
     "name": "stdout",
     "output_type": "stream",
     "text": [
      "-----------17 reviews add to list. ListLen 37-----------\n",
      "-----------REVIEWS SHAPE: 37 @ 8 | RES DATA SHAPE: 2105 @ 8-----------\n",
      "------------------------------------------------------------------\n",
      "-----------PARSING REV FROM /msk/opinions/restaurants/GrangeCafe/ PAGE-----------\n",
      "-----------PAGE 1 PARSING-----------\n"
     ]
    },
    {
     "name": "stderr",
     "output_type": "stream",
     "text": [
      "\r",
      " 16%|█▌        | 93/595 [02:13<12:01,  1.44s/it]"
     ]
    },
    {
     "name": "stdout",
     "output_type": "stream",
     "text": [
      "-----------18 reviews add to list. ListLen 18-----------\n",
      "-----------REVIEWS SHAPE: 18 @ 8 | RES DATA SHAPE: 2123 @ 8-----------\n",
      "------------------------------------------------------------------\n",
      "-----------PARSING REV FROM /msk/opinions/restaurants/grafflounge/ PAGE-----------\n",
      "-----------PAGE 1 PARSING-----------\n"
     ]
    },
    {
     "name": "stderr",
     "output_type": "stream",
     "text": [
      "\r",
      " 16%|█▌        | 94/595 [02:14<11:56,  1.43s/it]"
     ]
    },
    {
     "name": "stdout",
     "output_type": "stream",
     "text": [
      "-----------2 reviews add to list. ListLen 2-----------\n",
      "-----------REVIEWS SHAPE: 2 @ 8 | RES DATA SHAPE: 2125 @ 8-----------\n",
      "------------------------------------------------------------------\n",
      "-----------PARSING REV FROM /msk/opinions/restaurants/hot_rod_bar/ PAGE-----------\n",
      "-----------PAGE 1 PARSING-----------\n"
     ]
    },
    {
     "name": "stderr",
     "output_type": "stream",
     "text": [
      "\r",
      " 16%|█▌        | 95/595 [02:15<11:52,  1.42s/it]"
     ]
    },
    {
     "name": "stdout",
     "output_type": "stream",
     "text": [
      "-----------6 reviews add to list. ListLen 6-----------\n",
      "-----------REVIEWS SHAPE: 6 @ 8 | RES DATA SHAPE: 2131 @ 8-----------\n",
      "------------------------------------------------------------------\n",
      "-----------PARSING REV FROM /msk/opinions/restaurants/grut/ PAGE-----------\n",
      "-----------PAGE 1 PARSING-----------\n"
     ]
    },
    {
     "name": "stderr",
     "output_type": "stream",
     "text": [
      "\r",
      " 16%|█▌        | 96/595 [02:16<11:49,  1.42s/it]"
     ]
    },
    {
     "name": "stdout",
     "output_type": "stream",
     "text": [
      "-----------3 reviews add to list. ListLen 3-----------\n",
      "-----------REVIEWS SHAPE: 3 @ 8 | RES DATA SHAPE: 2134 @ 8-----------\n",
      "------------------------------------------------------------------\n",
      "-----------PARSING REV FROM /msk/opinions/restaurants/il_forno_il_forno_ul_ostozhenka/ PAGE-----------\n",
      "-----------PAGE 1 PARSING-----------\n"
     ]
    },
    {
     "name": "stderr",
     "output_type": "stream",
     "text": [
      "\r",
      " 16%|█▋        | 97/595 [02:17<11:44,  1.42s/it]"
     ]
    },
    {
     "name": "stdout",
     "output_type": "stream",
     "text": [
      "-----------4 reviews add to list. ListLen 4-----------\n",
      "-----------REVIEWS SHAPE: 4 @ 8 | RES DATA SHAPE: 2138 @ 8-----------\n",
      "------------------------------------------------------------------\n",
      "-----------PARSING REV FROM /msk/opinions/restaurants/il_borgo/ PAGE-----------\n",
      "-----------PAGE 1 PARSING-----------\n"
     ]
    },
    {
     "name": "stderr",
     "output_type": "stream",
     "text": [
      "\r",
      " 16%|█▋        | 98/595 [02:18<11:41,  1.41s/it]"
     ]
    },
    {
     "name": "stdout",
     "output_type": "stream",
     "text": [
      "-----------8 reviews add to list. ListLen 8-----------\n",
      "-----------REVIEWS SHAPE: 8 @ 8 | RES DATA SHAPE: 2146 @ 8-----------\n",
      "------------------------------------------------------------------\n",
      "-----------PARSING REV FROM /msk/opinions/restaurants/kenzo/ PAGE-----------\n",
      "-----------PAGE 1 PARSING-----------\n"
     ]
    },
    {
     "name": "stderr",
     "output_type": "stream",
     "text": [
      "\r",
      " 17%|█▋        | 99/595 [02:19<11:37,  1.41s/it]"
     ]
    },
    {
     "name": "stdout",
     "output_type": "stream",
     "text": [
      "-----------5 reviews add to list. ListLen 5-----------\n",
      "-----------REVIEWS SHAPE: 5 @ 8 | RES DATA SHAPE: 2151 @ 8-----------\n",
      "------------------------------------------------------------------\n",
      "-----------PARSING REV FROM /msk/opinions/restaurants/jam_club/ PAGE-----------\n",
      "-----------PAGE 1 PARSING-----------\n"
     ]
    },
    {
     "name": "stderr",
     "output_type": "stream",
     "text": [
      "\r",
      " 17%|█▋        | 100/595 [02:20<11:33,  1.40s/it]"
     ]
    },
    {
     "name": "stdout",
     "output_type": "stream",
     "text": [
      "-----------3 reviews add to list. ListLen 3-----------\n",
      "-----------REVIEWS SHAPE: 3 @ 8 | RES DATA SHAPE: 2154 @ 8-----------\n",
      "------------------------------------------------------------------\n",
      "-----------PARSING REV FROM /msk/opinions/restaurants/kamchatka-pivbar/ PAGE-----------\n",
      "-----------PAGE 1 PARSING-----------\n"
     ]
    },
    {
     "name": "stderr",
     "output_type": "stream",
     "text": [
      "\r",
      " 17%|█▋        | 101/595 [02:20<11:29,  1.40s/it]"
     ]
    },
    {
     "name": "stdout",
     "output_type": "stream",
     "text": [
      "-----------2 reviews add to list. ListLen 2-----------\n",
      "-----------REVIEWS SHAPE: 2 @ 8 | RES DATA SHAPE: 2156 @ 8-----------\n",
      "------------------------------------------------------------------\n",
      "-----------PARSING REV FROM /msk/opinions/restaurants/italoniya/ PAGE-----------\n",
      "-----------PAGE 1 PARSING-----------\n",
      "-----------20 reviews add to list. ListLen 20-----------\n",
      "-----------PAGE 2 PARSING-----------\n"
     ]
    },
    {
     "name": "stderr",
     "output_type": "stream",
     "text": [
      "\r",
      " 17%|█▋        | 102/595 [02:22<11:28,  1.40s/it]"
     ]
    },
    {
     "name": "stdout",
     "output_type": "stream",
     "text": [
      "-----------9 reviews add to list. ListLen 29-----------\n",
      "-----------REVIEWS SHAPE: 29 @ 8 | RES DATA SHAPE: 2185 @ 8-----------\n",
      "------------------------------------------------------------------\n",
      "-----------PARSING REV FROM /msk/opinions/restaurants/johny-josper-pub/ PAGE-----------\n",
      "-----------PAGE 1 PARSING-----------\n"
     ]
    },
    {
     "name": "stderr",
     "output_type": "stream",
     "text": [
      "\r",
      " 17%|█▋        | 103/595 [02:23<11:24,  1.39s/it]"
     ]
    },
    {
     "name": "stdout",
     "output_type": "stream",
     "text": [
      "-----------4 reviews add to list. ListLen 4-----------\n",
      "-----------REVIEWS SHAPE: 4 @ 8 | RES DATA SHAPE: 2189 @ 8-----------\n",
      "------------------------------------------------------------------\n",
      "-----------PARSING REV FROM /msk/opinions/restaurants/john_silver/ PAGE-----------\n",
      "-----------PAGE 1 PARSING-----------\n"
     ]
    },
    {
     "name": "stderr",
     "output_type": "stream",
     "text": [
      "\r",
      " 17%|█▋        | 104/595 [02:24<11:20,  1.39s/it]"
     ]
    },
    {
     "name": "stdout",
     "output_type": "stream",
     "text": [
      "-----------5 reviews add to list. ListLen 5-----------\n",
      "-----------REVIEWS SHAPE: 5 @ 8 | RES DATA SHAPE: 2194 @ 8-----------\n",
      "------------------------------------------------------------------\n",
      "-----------PARSING REV FROM /msk/opinions/restaurants/ilforno/ PAGE-----------\n",
      "-----------PAGE 1 PARSING-----------\n",
      "-----------20 reviews add to list. ListLen 20-----------\n",
      "-----------PAGE 2 PARSING-----------\n",
      "-----------20 reviews add to list. ListLen 40-----------\n",
      "-----------PAGE 3 PARSING-----------\n",
      "-----------20 reviews add to list. ListLen 60-----------\n",
      "-----------PAGE 4 PARSING-----------\n",
      "-----------20 reviews add to list. ListLen 80-----------\n",
      "-----------PAGE 5 PARSING-----------\n",
      "-----------20 reviews add to list. ListLen 100-----------\n",
      "-----------PAGE 6 PARSING-----------\n"
     ]
    },
    {
     "name": "stderr",
     "output_type": "stream",
     "text": [
      "\r",
      " 18%|█▊        | 105/595 [02:27<11:30,  1.41s/it]"
     ]
    },
    {
     "name": "stdout",
     "output_type": "stream",
     "text": [
      "-----------13 reviews add to list. ListLen 113-----------\n",
      "-----------REVIEWS SHAPE: 113 @ 8 | RES DATA SHAPE: 2307 @ 8-----------\n",
      "------------------------------------------------------------------\n",
      "-----------PARSING REV FROM /msk/opinions/restaurants/la_mare/ PAGE-----------\n",
      "-----------PAGE 1 PARSING-----------\n"
     ]
    },
    {
     "name": "stderr",
     "output_type": "stream",
     "text": [
      "\r",
      " 18%|█▊        | 106/595 [02:28<11:27,  1.41s/it]"
     ]
    },
    {
     "name": "stdout",
     "output_type": "stream",
     "text": [
      "-----------6 reviews add to list. ListLen 6-----------\n",
      "-----------REVIEWS SHAPE: 6 @ 8 | RES DATA SHAPE: 2313 @ 8-----------\n",
      "------------------------------------------------------------------\n",
      "-----------PARSING REV FROM /msk/opinions/restaurants/laprima/ PAGE-----------\n",
      "-----------PAGE 1 PARSING-----------\n",
      "-----------20 reviews add to list. ListLen 20-----------\n",
      "-----------PAGE 2 PARSING-----------\n"
     ]
    },
    {
     "name": "stderr",
     "output_type": "stream",
     "text": [
      "\r",
      " 18%|█▊        | 107/595 [02:30<11:26,  1.41s/it]"
     ]
    },
    {
     "name": "stdout",
     "output_type": "stream",
     "text": [
      "-----------10 reviews add to list. ListLen 30-----------\n",
      "-----------REVIEWS SHAPE: 30 @ 8 | RES DATA SHAPE: 2343 @ 8-----------\n",
      "------------------------------------------------------------------\n",
      "-----------PARSING REV FROM /msk/opinions/restaurants/la_maree_petrovka/ PAGE-----------\n",
      "-----------PAGE 1 PARSING-----------\n"
     ]
    },
    {
     "name": "stderr",
     "output_type": "stream",
     "text": [
      "\r",
      " 18%|█▊        | 108/595 [02:31<11:22,  1.40s/it]"
     ]
    },
    {
     "name": "stdout",
     "output_type": "stream",
     "text": [
      "-----------5 reviews add to list. ListLen 5-----------\n",
      "-----------REVIEWS SHAPE: 5 @ 8 | RES DATA SHAPE: 2348 @ 8-----------\n",
      "------------------------------------------------------------------\n",
      "-----------PARSING REV FROM /msk/opinions/restaurants/la_taverna/ PAGE-----------\n",
      "-----------PAGE 1 PARSING-----------\n",
      "-----------20 reviews add to list. ListLen 20-----------\n",
      "-----------PAGE 2 PARSING-----------\n"
     ]
    },
    {
     "name": "stderr",
     "output_type": "stream",
     "text": [
      "\r",
      " 18%|█▊        | 109/595 [02:32<11:21,  1.40s/it]"
     ]
    },
    {
     "name": "stdout",
     "output_type": "stream",
     "text": [
      "-----------2 reviews add to list. ListLen 22-----------\n",
      "-----------REVIEWS SHAPE: 22 @ 8 | RES DATA SHAPE: 2370 @ 8-----------\n",
      "------------------------------------------------------------------\n",
      "-----------PARSING REV FROM /msk/opinions/restaurants/Laprovincia/ PAGE-----------\n",
      "-----------PAGE 1 PARSING-----------\n",
      "-----------20 reviews add to list. ListLen 20-----------\n",
      "-----------PAGE 2 PARSING-----------\n"
     ]
    },
    {
     "name": "stderr",
     "output_type": "stream",
     "text": [
      "\r",
      " 18%|█▊        | 110/595 [02:34<11:20,  1.40s/it]"
     ]
    },
    {
     "name": "stdout",
     "output_type": "stream",
     "text": [
      "-----------18 reviews add to list. ListLen 38-----------\n",
      "-----------REVIEWS SHAPE: 38 @ 8 | RES DATA SHAPE: 2408 @ 8-----------\n",
      "------------------------------------------------------------------\n",
      "-----------PARSING REV FROM /msk/opinions/restaurants/la-delizia/ PAGE-----------\n",
      "-----------PAGE 1 PARSING-----------\n"
     ]
    },
    {
     "name": "stderr",
     "output_type": "stream",
     "text": [
      "\r",
      " 19%|█▊        | 111/595 [02:35<11:17,  1.40s/it]"
     ]
    },
    {
     "name": "stdout",
     "output_type": "stream",
     "text": [
      "-----------2 reviews add to list. ListLen 2-----------\n",
      "-----------REVIEWS SHAPE: 2 @ 8 | RES DATA SHAPE: 2410 @ 8-----------\n",
      "------------------------------------------------------------------\n",
      "-----------PARSING REV FROM /msk/opinions/restaurants/verona/ PAGE-----------\n",
      "-----------PAGE 1 PARSING-----------\n"
     ]
    },
    {
     "name": "stderr",
     "output_type": "stream",
     "text": [
      "\r",
      " 19%|█▉        | 112/595 [02:36<11:14,  1.40s/it]"
     ]
    },
    {
     "name": "stdout",
     "output_type": "stream",
     "text": [
      "-----------12 reviews add to list. ListLen 12-----------\n",
      "-----------REVIEWS SHAPE: 12 @ 8 | RES DATA SHAPE: 2422 @ 8-----------\n",
      "------------------------------------------------------------------\n",
      "-----------PARSING REV FROM /msk/opinions/restaurants/krasnodar/ PAGE-----------\n",
      "-----------PAGE 1 PARSING-----------\n"
     ]
    },
    {
     "name": "stderr",
     "output_type": "stream",
     "text": [
      "\r",
      " 19%|█▉        | 113/595 [02:37<11:11,  1.39s/it]"
     ]
    },
    {
     "name": "stdout",
     "output_type": "stream",
     "text": [
      "-----------4 reviews add to list. ListLen 4-----------\n",
      "-----------REVIEWS SHAPE: 4 @ 8 | RES DATA SHAPE: 2426 @ 8-----------\n",
      "------------------------------------------------------------------\n",
      "-----------PARSING REV FROM /msk/opinions/restaurants/kirin/ PAGE-----------\n",
      "-----------PAGE 1 PARSING-----------\n"
     ]
    },
    {
     "name": "stderr",
     "output_type": "stream",
     "text": [
      "\r",
      " 19%|█▉        | 114/595 [02:38<11:07,  1.39s/it]"
     ]
    },
    {
     "name": "stdout",
     "output_type": "stream",
     "text": [
      "-----------7 reviews add to list. ListLen 7-----------\n",
      "-----------REVIEWS SHAPE: 7 @ 8 | RES DATA SHAPE: 2433 @ 8-----------\n",
      "------------------------------------------------------------------\n",
      "-----------PARSING REV FROM /msk/opinions/restaurants/largo/ PAGE-----------\n",
      "-----------PAGE 1 PARSING-----------\n"
     ]
    },
    {
     "name": "stderr",
     "output_type": "stream",
     "text": [
      "\r",
      " 19%|█▉        | 115/595 [02:39<11:05,  1.39s/it]"
     ]
    },
    {
     "name": "stdout",
     "output_type": "stream",
     "text": [
      "-----------15 reviews add to list. ListLen 15-----------\n",
      "-----------REVIEWS SHAPE: 15 @ 8 | RES DATA SHAPE: 2448 @ 8-----------\n",
      "------------------------------------------------------------------\n",
      "-----------PARSING REV FROM /msk/opinions/restaurants/langust/ PAGE-----------\n",
      "-----------PAGE 1 PARSING-----------\n",
      "-----------20 reviews add to list. ListLen 20-----------\n",
      "-----------PAGE 2 PARSING-----------\n"
     ]
    },
    {
     "name": "stderr",
     "output_type": "stream",
     "text": [
      "\r",
      " 19%|█▉        | 116/595 [02:40<11:04,  1.39s/it]"
     ]
    },
    {
     "name": "stdout",
     "output_type": "stream",
     "text": [
      "-----------3 reviews add to list. ListLen 23-----------\n",
      "-----------REVIEWS SHAPE: 23 @ 8 | RES DATA SHAPE: 2471 @ 8-----------\n",
      "------------------------------------------------------------------\n",
      "-----------PARSING REV FROM /msk/opinions/restaurants/lawsons_bar/ PAGE-----------\n",
      "-----------PAGE 1 PARSING-----------\n"
     ]
    },
    {
     "name": "stderr",
     "output_type": "stream",
     "text": [
      "\r",
      " 20%|█▉        | 117/595 [02:41<11:01,  1.38s/it]"
     ]
    },
    {
     "name": "stdout",
     "output_type": "stream",
     "text": [
      "-----------7 reviews add to list. ListLen 7-----------\n",
      "-----------REVIEWS SHAPE: 7 @ 8 | RES DATA SHAPE: 2478 @ 8-----------\n",
      "------------------------------------------------------------------\n",
      "-----------PARSING REV FROM /msk/opinions/restaurants/le_restaurant/ PAGE-----------\n",
      "-----------PAGE 1 PARSING-----------\n",
      "-----------20 reviews add to list. ListLen 20-----------\n",
      "-----------PAGE 2 PARSING-----------\n",
      "-----------20 reviews add to list. ListLen 40-----------\n",
      "-----------PAGE 3 PARSING-----------\n",
      "-----------20 reviews add to list. ListLen 60-----------\n",
      "-----------PAGE 4 PARSING-----------\n",
      "-----------20 reviews add to list. ListLen 80-----------\n",
      "-----------PAGE 5 PARSING-----------\n",
      "-----------20 reviews add to list. ListLen 100-----------\n",
      "-----------PAGE 6 PARSING-----------\n"
     ]
    },
    {
     "name": "stderr",
     "output_type": "stream",
     "text": [
      "\r",
      " 20%|█▉        | 118/595 [02:45<11:10,  1.41s/it]"
     ]
    },
    {
     "name": "stdout",
     "output_type": "stream",
     "text": [
      "-----------1 reviews add to list. ListLen 101-----------\n",
      "-----------REVIEWS SHAPE: 101 @ 8 | RES DATA SHAPE: 2579 @ 8-----------\n",
      "------------------------------------------------------------------\n",
      "-----------PARSING REV FROM /msk/opinions/restaurants/limassol/ PAGE-----------\n",
      "-----------PAGE 1 PARSING-----------\n"
     ]
    },
    {
     "name": "stderr",
     "output_type": "stream",
     "text": [
      "\r",
      " 20%|██        | 119/595 [02:46<11:07,  1.40s/it]"
     ]
    },
    {
     "name": "stdout",
     "output_type": "stream",
     "text": [
      "-----------6 reviews add to list. ListLen 6-----------\n",
      "-----------REVIEWS SHAPE: 6 @ 8 | RES DATA SHAPE: 2585 @ 8-----------\n",
      "------------------------------------------------------------------\n",
      "-----------PARSING REV FROM /msk/opinions/restaurants/lions_head/ PAGE-----------\n",
      "-----------PAGE 1 PARSING-----------\n"
     ]
    },
    {
     "name": "stderr",
     "output_type": "stream",
     "text": [
      "\r",
      " 20%|██        | 120/595 [02:47<11:04,  1.40s/it]"
     ]
    },
    {
     "name": "stdout",
     "output_type": "stream",
     "text": [
      "-----------9 reviews add to list. ListLen 9-----------\n",
      "-----------REVIEWS SHAPE: 9 @ 8 | RES DATA SHAPE: 2594 @ 8-----------\n",
      "------------------------------------------------------------------\n",
      "-----------PARSING REV FROM /msk/opinions/restaurants/leningrad_club/ PAGE-----------\n",
      "-----------PAGE 1 PARSING-----------\n"
     ]
    },
    {
     "name": "stderr",
     "output_type": "stream",
     "text": [
      "\r",
      " 20%|██        | 121/595 [02:48<11:01,  1.40s/it]"
     ]
    },
    {
     "name": "stdout",
     "output_type": "stream",
     "text": [
      "-----------15 reviews add to list. ListLen 15-----------\n",
      "-----------REVIEWS SHAPE: 15 @ 8 | RES DATA SHAPE: 2609 @ 8-----------\n",
      "------------------------------------------------------------------\n",
      "-----------PARSING REV FROM /msk/opinions/restaurants/lampa/ PAGE-----------\n",
      "-----------PAGE 1 PARSING-----------\n"
     ]
    },
    {
     "name": "stderr",
     "output_type": "stream",
     "text": [
      "\r",
      " 21%|██        | 122/595 [02:49<10:58,  1.39s/it]"
     ]
    },
    {
     "name": "stdout",
     "output_type": "stream",
     "text": [
      "-----------2 reviews add to list. ListLen 2-----------\n",
      "-----------REVIEWS SHAPE: 2 @ 8 | RES DATA SHAPE: 2611 @ 8-----------\n",
      "------------------------------------------------------------------\n",
      "-----------PARSING REV FROM /msk/opinions/restaurants/loft17/ PAGE-----------\n",
      "-----------PAGE 1 PARSING-----------\n"
     ]
    },
    {
     "name": "stderr",
     "output_type": "stream",
     "text": [
      "\r",
      " 21%|██        | 123/595 [02:50<10:54,  1.39s/it]"
     ]
    },
    {
     "name": "stdout",
     "output_type": "stream",
     "text": [
      "-----------2 reviews add to list. ListLen 2-----------\n",
      "-----------REVIEWS SHAPE: 2 @ 8 | RES DATA SHAPE: 2613 @ 8-----------\n",
      "------------------------------------------------------------------\n",
      "-----------PARSING REV FROM /msk/opinions/restaurants/followmecafe/ PAGE-----------\n",
      "-----------PAGE 1 PARSING-----------\n",
      "-----------20 reviews add to list. ListLen 20-----------\n",
      "-----------PAGE 2 PARSING-----------\n"
     ]
    },
    {
     "name": "stderr",
     "output_type": "stream",
     "text": [
      "\r",
      " 21%|██        | 124/595 [02:52<10:56,  1.39s/it]"
     ]
    },
    {
     "name": "stdout",
     "output_type": "stream",
     "text": [
      "-----------20 reviews add to list. ListLen 40-----------\n",
      "-----------REVIEWS SHAPE: 40 @ 8 | RES DATA SHAPE: 2653 @ 8-----------\n",
      "------------------------------------------------------------------\n",
      "-----------PARSING REV FROM /msk/opinions/restaurants/lucecafe/ PAGE-----------\n",
      "-----------PAGE 1 PARSING-----------\n"
     ]
    },
    {
     "name": "stderr",
     "output_type": "stream",
     "text": [
      "\r",
      " 21%|██        | 125/595 [02:53<10:52,  1.39s/it]"
     ]
    },
    {
     "name": "stdout",
     "output_type": "stream",
     "text": [
      "-----------4 reviews add to list. ListLen 4-----------\n",
      "-----------REVIEWS SHAPE: 4 @ 8 | RES DATA SHAPE: 2657 @ 8-----------\n",
      "------------------------------------------------------------------\n",
      "-----------PARSING REV FROM /msk/opinions/restaurants/madman/ PAGE-----------\n",
      "-----------PAGE 1 PARSING-----------\n",
      "-----------20 reviews add to list. ListLen 20-----------\n",
      "-----------PAGE 2 PARSING-----------\n",
      "-----------20 reviews add to list. ListLen 40-----------\n",
      "-----------PAGE 3 PARSING-----------\n"
     ]
    },
    {
     "name": "stderr",
     "output_type": "stream",
     "text": [
      "\r",
      " 21%|██        | 126/595 [02:55<10:53,  1.39s/it]"
     ]
    },
    {
     "name": "stdout",
     "output_type": "stream",
     "text": [
      "-----------1 reviews add to list. ListLen 41-----------\n",
      "-----------REVIEWS SHAPE: 41 @ 8 | RES DATA SHAPE: 2698 @ 8-----------\n",
      "------------------------------------------------------------------\n",
      "-----------PARSING REV FROM /msk/opinions/restaurants/ncafe/ PAGE-----------\n",
      "-----------PAGE 1 PARSING-----------\n"
     ]
    },
    {
     "name": "stderr",
     "output_type": "stream",
     "text": [
      "\r",
      " 21%|██▏       | 127/595 [02:56<10:49,  1.39s/it]"
     ]
    },
    {
     "name": "stdout",
     "output_type": "stream",
     "text": [
      "-----------3 reviews add to list. ListLen 3-----------\n",
      "-----------REVIEWS SHAPE: 3 @ 8 | RES DATA SHAPE: 2701 @ 8-----------\n",
      "------------------------------------------------------------------\n",
      "-----------PARSING REV FROM /msk/opinions/restaurants/pokrovka_16/ PAGE-----------\n",
      "-----------PAGE 1 PARSING-----------\n"
     ]
    },
    {
     "name": "stderr",
     "output_type": "stream",
     "text": [
      "\r",
      " 22%|██▏       | 128/595 [02:57<10:46,  1.38s/it]"
     ]
    },
    {
     "name": "stdout",
     "output_type": "stream",
     "text": [
      "-----------4 reviews add to list. ListLen 4-----------\n",
      "-----------REVIEWS SHAPE: 4 @ 8 | RES DATA SHAPE: 2705 @ 8-----------\n",
      "------------------------------------------------------------------\n",
      "-----------PARSING REV FROM /msk/opinions/restaurants/molon_lave/ PAGE-----------\n",
      "-----------PAGE 1 PARSING-----------\n",
      "-----------20 reviews add to list. ListLen 20-----------\n",
      "-----------PAGE 2 PARSING-----------\n",
      "-----------20 reviews add to list. ListLen 40-----------\n",
      "-----------PAGE 3 PARSING-----------\n",
      "-----------20 reviews add to list. ListLen 60-----------\n",
      "-----------PAGE 4 PARSING-----------\n",
      "-----------20 reviews add to list. ListLen 80-----------\n",
      "-----------PAGE 5 PARSING-----------\n",
      "-----------20 reviews add to list. ListLen 100-----------\n",
      "-----------PAGE 6 PARSING-----------\n",
      "-----------20 reviews add to list. ListLen 120-----------\n",
      "-----------PAGE 7 PARSING-----------\n",
      "-----------20 reviews add to list. ListLen 140-----------\n",
      "-----------PAGE 8 PARSING-----------\n",
      "-----------20 reviews add to list. ListLen 160-----------\n",
      "-----------PAGE 9 PARSING-----------\n",
      "-----------20 reviews add to list. ListLen 180-----------\n",
      "-----------PAGE 10 PARSING-----------\n",
      "-----------20 reviews add to list. ListLen 200-----------\n",
      "-----------PAGE 11 PARSING-----------\n",
      "-----------20 reviews add to list. ListLen 220-----------\n",
      "-----------PAGE 12 PARSING-----------\n",
      "-----------20 reviews add to list. ListLen 240-----------\n",
      "-----------PAGE 13 PARSING-----------\n",
      "-----------8 reviews add to list. ListLen 248-----------\n"
     ]
    },
    {
     "name": "stderr",
     "output_type": "stream",
     "text": [
      "\r",
      " 22%|██▏       | 129/595 [03:05<11:08,  1.43s/it]"
     ]
    },
    {
     "name": "stdout",
     "output_type": "stream",
     "text": [
      "-----------REVIEWS SHAPE: 248 @ 8 | RES DATA SHAPE: 2953 @ 8-----------\n",
      "------------------------------------------------------------------\n",
      "-----------PARSING REV FROM /msk/opinions/restaurants/montis/ PAGE-----------\n",
      "-----------PAGE 1 PARSING-----------\n",
      "-----------20 reviews add to list. ListLen 20-----------\n",
      "-----------PAGE 2 PARSING-----------\n"
     ]
    },
    {
     "name": "stderr",
     "output_type": "stream",
     "text": [
      "\r",
      " 22%|██▏       | 130/595 [03:06<11:08,  1.44s/it]"
     ]
    },
    {
     "name": "stdout",
     "output_type": "stream",
     "text": [
      "-----------20 reviews add to list. ListLen 40-----------\n",
      "-----------REVIEWS SHAPE: 40 @ 8 | RES DATA SHAPE: 2993 @ 8-----------\n",
      "------------------------------------------------------------------\n",
      "-----------PARSING REV FROM /msk/opinions/restaurants/maximus/ PAGE-----------\n",
      "-----------PAGE 1 PARSING-----------\n"
     ]
    },
    {
     "name": "stderr",
     "output_type": "stream",
     "text": [
      "\r",
      " 22%|██▏       | 131/595 [03:07<11:04,  1.43s/it]"
     ]
    },
    {
     "name": "stdout",
     "output_type": "stream",
     "text": [
      "-----------6 reviews add to list. ListLen 6-----------\n",
      "-----------REVIEWS SHAPE: 6 @ 8 | RES DATA SHAPE: 2999 @ 8-----------\n",
      "------------------------------------------------------------------\n",
      "-----------PARSING REV FROM /msk/opinions/restaurants/monster_hills/ PAGE-----------\n",
      "-----------PAGE 1 PARSING-----------\n"
     ]
    },
    {
     "name": "stderr",
     "output_type": "stream",
     "text": [
      "\r",
      " 22%|██▏       | 132/595 [03:08<11:02,  1.43s/it]"
     ]
    },
    {
     "name": "stdout",
     "output_type": "stream",
     "text": [
      "-----------16 reviews add to list. ListLen 16-----------\n",
      "-----------REVIEWS SHAPE: 16 @ 8 | RES DATA SHAPE: 3015 @ 8-----------\n",
      "------------------------------------------------------------------\n",
      "-----------PARSING REV FROM /msk/opinions/restaurants/myaso_pasta/ PAGE-----------\n",
      "-----------PAGE 1 PARSING-----------\n"
     ]
    },
    {
     "name": "stderr",
     "output_type": "stream",
     "text": [
      "\r",
      " 22%|██▏       | 133/595 [03:09<10:59,  1.43s/it]"
     ]
    },
    {
     "name": "stdout",
     "output_type": "stream",
     "text": [
      "-----------14 reviews add to list. ListLen 14-----------\n",
      "-----------REVIEWS SHAPE: 14 @ 8 | RES DATA SHAPE: 3029 @ 8-----------\n",
      "------------------------------------------------------------------\n",
      "-----------PARSING REV FROM /msk/opinions/restaurants/milana/ PAGE-----------\n",
      "-----------PAGE 1 PARSING-----------\n"
     ]
    },
    {
     "name": "stderr",
     "output_type": "stream",
     "text": [
      "\r",
      " 23%|██▎       | 134/595 [03:10<10:56,  1.42s/it]"
     ]
    },
    {
     "name": "stdout",
     "output_type": "stream",
     "text": [
      "-----------4 reviews add to list. ListLen 4-----------\n",
      "-----------REVIEWS SHAPE: 4 @ 8 | RES DATA SHAPE: 3033 @ 8-----------\n",
      "------------------------------------------------------------------\n",
      "-----------PARSING REV FROM /msk/opinions/restaurants/monterosso/ PAGE-----------\n",
      "-----------PAGE 1 PARSING-----------\n"
     ]
    },
    {
     "name": "stderr",
     "output_type": "stream",
     "text": [
      "\r",
      " 23%|██▎       | 135/595 [03:11<10:53,  1.42s/it]"
     ]
    },
    {
     "name": "stdout",
     "output_type": "stream",
     "text": [
      "-----------3 reviews add to list. ListLen 3-----------\n",
      "-----------REVIEWS SHAPE: 3 @ 8 | RES DATA SHAPE: 3036 @ 8-----------\n",
      "------------------------------------------------------------------\n",
      "-----------PARSING REV FROM /msk/opinions/restaurants/n-nbistro/ PAGE-----------\n",
      "-----------PAGE 1 PARSING-----------\n"
     ]
    },
    {
     "name": "stderr",
     "output_type": "stream",
     "text": [
      "\r",
      " 23%|██▎       | 136/595 [03:12<10:50,  1.42s/it]"
     ]
    },
    {
     "name": "stdout",
     "output_type": "stream",
     "text": [
      "-----------6 reviews add to list. ListLen 6-----------\n",
      "-----------REVIEWS SHAPE: 6 @ 8 | RES DATA SHAPE: 3042 @ 8-----------\n",
      "------------------------------------------------------------------\n",
      "-----------PARSING REV FROM /msk/opinions/restaurants/MrLivanets/ PAGE-----------\n",
      "-----------PAGE 1 PARSING-----------\n",
      "-----------20 reviews add to list. ListLen 20-----------\n",
      "-----------PAGE 2 PARSING-----------\n"
     ]
    },
    {
     "name": "stderr",
     "output_type": "stream",
     "text": [
      "\r",
      " 23%|██▎       | 137/595 [03:14<10:49,  1.42s/it]"
     ]
    },
    {
     "name": "stdout",
     "output_type": "stream",
     "text": [
      "-----------20 reviews add to list. ListLen 40-----------\n",
      "-----------REVIEWS SHAPE: 40 @ 8 | RES DATA SHAPE: 3082 @ 8-----------\n",
      "------------------------------------------------------------------\n",
      "-----------PARSING REV FROM /msk/opinions/restaurants/Helpbar/ PAGE-----------\n",
      "-----------PAGE 1 PARSING-----------\n"
     ]
    },
    {
     "name": "stderr",
     "output_type": "stream",
     "text": [
      "\r",
      " 23%|██▎       | 138/595 [03:15<10:47,  1.42s/it]"
     ]
    },
    {
     "name": "stdout",
     "output_type": "stream",
     "text": [
      "-----------15 reviews add to list. ListLen 15-----------\n",
      "-----------REVIEWS SHAPE: 15 @ 8 | RES DATA SHAPE: 3097 @ 8-----------\n",
      "------------------------------------------------------------------\n",
      "-----------PARSING REV FROM /msk/opinions/restaurants/niokki/ PAGE-----------\n",
      "-----------PAGE 1 PARSING-----------\n"
     ]
    },
    {
     "name": "stderr",
     "output_type": "stream",
     "text": [
      "\r",
      " 23%|██▎       | 139/595 [03:16<10:43,  1.41s/it]"
     ]
    },
    {
     "name": "stdout",
     "output_type": "stream",
     "text": [
      "-----------2 reviews add to list. ListLen 2-----------\n",
      "-----------REVIEWS SHAPE: 2 @ 8 | RES DATA SHAPE: 3099 @ 8-----------\n",
      "------------------------------------------------------------------\n",
      "-----------PARSING REV FROM /msk/opinions/restaurants/mushrooms/ PAGE-----------\n",
      "-----------PAGE 1 PARSING-----------\n"
     ]
    },
    {
     "name": "stderr",
     "output_type": "stream",
     "text": [
      "\r",
      " 24%|██▎       | 140/595 [03:17<10:40,  1.41s/it]"
     ]
    },
    {
     "name": "stdout",
     "output_type": "stream",
     "text": [
      "-----------6 reviews add to list. ListLen 6-----------\n",
      "-----------REVIEWS SHAPE: 6 @ 8 | RES DATA SHAPE: 3105 @ 8-----------\n",
      "------------------------------------------------------------------\n",
      "-----------PARSING REV FROM /msk/opinions/restaurants/newplacemoscow/ PAGE-----------\n",
      "-----------PAGE 1 PARSING-----------\n"
     ]
    },
    {
     "name": "stderr",
     "output_type": "stream",
     "text": [
      "\r",
      " 24%|██▎       | 141/595 [03:17<10:37,  1.40s/it]"
     ]
    },
    {
     "name": "stdout",
     "output_type": "stream",
     "text": [
      "-----------2 reviews add to list. ListLen 2-----------\n",
      "-----------REVIEWS SHAPE: 2 @ 8 | RES DATA SHAPE: 3107 @ 8-----------\n",
      "------------------------------------------------------------------\n",
      "-----------PARSING REV FROM /msk/opinions/restaurants/mti-eli/ PAGE-----------\n",
      "-----------PAGE 1 PARSING-----------\n",
      "-----------20 reviews add to list. ListLen 20-----------\n",
      "-----------PAGE 2 PARSING-----------\n"
     ]
    },
    {
     "name": "stderr",
     "output_type": "stream",
     "text": [
      "\r",
      " 24%|██▍       | 142/595 [03:19<10:36,  1.41s/it]"
     ]
    },
    {
     "name": "stdout",
     "output_type": "stream",
     "text": [
      "-----------10 reviews add to list. ListLen 30-----------\n",
      "-----------REVIEWS SHAPE: 30 @ 8 | RES DATA SHAPE: 3137 @ 8-----------\n",
      "------------------------------------------------------------------\n",
      "-----------PARSING REV FROM /msk/opinions/restaurants/muzey/ PAGE-----------\n",
      "-----------PAGE 1 PARSING-----------\n",
      "-----------20 reviews add to list. ListLen 20-----------\n",
      "-----------PAGE 2 PARSING-----------\n"
     ]
    },
    {
     "name": "stderr",
     "output_type": "stream",
     "text": [
      "\r",
      " 24%|██▍       | 143/595 [03:20<10:35,  1.41s/it]"
     ]
    },
    {
     "name": "stdout",
     "output_type": "stream",
     "text": [
      "-----------2 reviews add to list. ListLen 22-----------\n",
      "-----------REVIEWS SHAPE: 22 @ 8 | RES DATA SHAPE: 3159 @ 8-----------\n",
      "------------------------------------------------------------------\n",
      "-----------PARSING REV FROM /msk/opinions/restaurants/novikov/ PAGE-----------\n",
      "-----------PAGE 1 PARSING-----------\n"
     ]
    },
    {
     "name": "stderr",
     "output_type": "stream",
     "text": [
      "\r",
      " 24%|██▍       | 144/595 [03:22<10:32,  1.40s/it]"
     ]
    },
    {
     "name": "stdout",
     "output_type": "stream",
     "text": [
      "-----------7 reviews add to list. ListLen 7-----------\n",
      "-----------REVIEWS SHAPE: 7 @ 8 | RES DATA SHAPE: 3166 @ 8-----------\n",
      "------------------------------------------------------------------\n",
      "-----------PARSING REV FROM /msk/opinions/restaurants/offer/ PAGE-----------\n",
      "-----------PAGE 1 PARSING-----------\n"
     ]
    },
    {
     "name": "stderr",
     "output_type": "stream",
     "text": [
      "\r",
      " 24%|██▍       | 145/595 [03:22<10:29,  1.40s/it]"
     ]
    },
    {
     "name": "stdout",
     "output_type": "stream",
     "text": [
      "-----------6 reviews add to list. ListLen 6-----------\n",
      "-----------REVIEWS SHAPE: 6 @ 8 | RES DATA SHAPE: 3172 @ 8-----------\n",
      "------------------------------------------------------------------\n",
      "-----------PARSING REV FROM /msk/opinions/restaurants/olioli/ PAGE-----------\n",
      "-----------PAGE 1 PARSING-----------\n"
     ]
    },
    {
     "name": "stderr",
     "output_type": "stream",
     "text": [
      "\r",
      " 25%|██▍       | 146/595 [03:23<10:27,  1.40s/it]"
     ]
    },
    {
     "name": "stdout",
     "output_type": "stream",
     "text": [
      "-----------7 reviews add to list. ListLen 7-----------\n",
      "-----------REVIEWS SHAPE: 7 @ 8 | RES DATA SHAPE: 3179 @ 8-----------\n",
      "------------------------------------------------------------------\n",
      "-----------PARSING REV FROM /msk/opinions/restaurants/osteria_mario/ PAGE-----------\n",
      "-----------PAGE 1 PARSING-----------\n"
     ]
    },
    {
     "name": "stderr",
     "output_type": "stream",
     "text": [
      "\r",
      " 25%|██▍       | 147/595 [03:24<10:24,  1.39s/it]"
     ]
    },
    {
     "name": "stdout",
     "output_type": "stream",
     "text": [
      "-----------2 reviews add to list. ListLen 2-----------\n",
      "-----------REVIEWS SHAPE: 2 @ 8 | RES DATA SHAPE: 3181 @ 8-----------\n",
      "------------------------------------------------------------------\n",
      "-----------PARSING REV FROM /msk/opinions/restaurants/osteria_mario_ohotnyy_ryad/ PAGE-----------\n",
      "-----------PAGE 1 PARSING-----------\n",
      "-----------20 reviews add to list. ListLen 20-----------\n",
      "-----------PAGE 2 PARSING-----------\n"
     ]
    },
    {
     "name": "stderr",
     "output_type": "stream",
     "text": [
      "\r",
      " 25%|██▍       | 148/595 [03:26<10:23,  1.39s/it]"
     ]
    },
    {
     "name": "stdout",
     "output_type": "stream",
     "text": [
      "-----------7 reviews add to list. ListLen 27-----------\n",
      "-----------REVIEWS SHAPE: 27 @ 8 | RES DATA SHAPE: 3208 @ 8-----------\n",
      "------------------------------------------------------------------\n",
      "-----------PARSING REV FROM /msk/opinions/restaurants/osteria-toscana/ PAGE-----------\n",
      "-----------PAGE 1 PARSING-----------\n"
     ]
    },
    {
     "name": "stderr",
     "output_type": "stream",
     "text": [
      "\r",
      " 25%|██▌       | 149/595 [03:27<10:20,  1.39s/it]"
     ]
    },
    {
     "name": "stdout",
     "output_type": "stream",
     "text": [
      "-----------2 reviews add to list. ListLen 2-----------\n",
      "-----------REVIEWS SHAPE: 2 @ 8 | RES DATA SHAPE: 3210 @ 8-----------\n",
      "------------------------------------------------------------------\n",
      "-----------PARSING REV FROM /msk/opinions/restaurants/osteria-alberobello/ PAGE-----------\n",
      "-----------PAGE 1 PARSING-----------\n"
     ]
    },
    {
     "name": "stderr",
     "output_type": "stream",
     "text": [
      "\r",
      " 25%|██▌       | 150/595 [03:28<10:17,  1.39s/it]"
     ]
    },
    {
     "name": "stdout",
     "output_type": "stream",
     "text": [
      "-----------4 reviews add to list. ListLen 4-----------\n",
      "-----------REVIEWS SHAPE: 4 @ 8 | RES DATA SHAPE: 3214 @ 8-----------\n",
      "------------------------------------------------------------------\n",
      "-----------PARSING REV FROM /msk/opinions/restaurants/oxus/ PAGE-----------\n",
      "-----------PAGE 1 PARSING-----------\n"
     ]
    },
    {
     "name": "stderr",
     "output_type": "stream",
     "text": [
      "\r",
      " 25%|██▌       | 151/595 [03:29<10:15,  1.39s/it]"
     ]
    },
    {
     "name": "stdout",
     "output_type": "stream",
     "text": [
      "-----------6 reviews add to list. ListLen 6-----------\n",
      "-----------REVIEWS SHAPE: 6 @ 8 | RES DATA SHAPE: 3220 @ 8-----------\n",
      "------------------------------------------------------------------\n",
      "-----------PARSING REV FROM /msk/opinions/restaurants/palati/ PAGE-----------\n",
      "-----------PAGE 1 PARSING-----------\n",
      "-----------20 reviews add to list. ListLen 20-----------\n",
      "-----------PAGE 2 PARSING-----------\n",
      "-----------20 reviews add to list. ListLen 40-----------\n",
      "-----------PAGE 3 PARSING-----------\n",
      "-----------20 reviews add to list. ListLen 60-----------\n",
      "-----------PAGE 4 PARSING-----------\n",
      "-----------20 reviews add to list. ListLen 80-----------\n",
      "-----------PAGE 5 PARSING-----------\n",
      "-----------20 reviews add to list. ListLen 100-----------\n",
      "-----------PAGE 6 PARSING-----------\n",
      "-----------20 reviews add to list. ListLen 120-----------\n",
      "-----------PAGE 7 PARSING-----------\n",
      "-----------10 reviews add to list. ListLen 130-----------\n"
     ]
    },
    {
     "name": "stderr",
     "output_type": "stream",
     "text": [
      "\r",
      " 26%|██▌       | 152/595 [03:36<10:29,  1.42s/it]"
     ]
    },
    {
     "name": "stdout",
     "output_type": "stream",
     "text": [
      "-----------REVIEWS SHAPE: 130 @ 8 | RES DATA SHAPE: 3350 @ 8-----------\n",
      "------------------------------------------------------------------\n",
      "-----------PARSING REV FROM /msk/opinions/restaurants/portomalteze/ PAGE-----------\n",
      "-----------PAGE 1 PARSING-----------\n"
     ]
    },
    {
     "name": "stderr",
     "output_type": "stream",
     "text": [
      "\r",
      " 26%|██▌       | 153/595 [03:37<10:27,  1.42s/it]"
     ]
    },
    {
     "name": "stdout",
     "output_type": "stream",
     "text": [
      "-----------20 reviews add to list. ListLen 20-----------\n",
      "-----------REVIEWS SHAPE: 20 @ 8 | RES DATA SHAPE: 3370 @ 8-----------\n",
      "------------------------------------------------------------------\n",
      "-----------PARSING REV FROM /msk/opinions/restaurants/pinzeria/ PAGE-----------\n",
      "-----------PAGE 1 PARSING-----------\n"
     ]
    },
    {
     "name": "stderr",
     "output_type": "stream",
     "text": [
      "\r",
      " 26%|██▌       | 154/595 [03:38<10:25,  1.42s/it]"
     ]
    },
    {
     "name": "stdout",
     "output_type": "stream",
     "text": [
      "-----------14 reviews add to list. ListLen 14-----------\n",
      "-----------REVIEWS SHAPE: 14 @ 8 | RES DATA SHAPE: 3384 @ 8-----------\n",
      "------------------------------------------------------------------\n",
      "-----------PARSING REV FROM /msk/opinions/restaurants/ilpomodoro/ PAGE-----------\n",
      "-----------PAGE 1 PARSING-----------\n"
     ]
    },
    {
     "name": "stderr",
     "output_type": "stream",
     "text": [
      "\r",
      " 26%|██▌       | 155/595 [03:39<10:22,  1.42s/it]"
     ]
    },
    {
     "name": "stdout",
     "output_type": "stream",
     "text": [
      "-----------3 reviews add to list. ListLen 3-----------\n",
      "-----------REVIEWS SHAPE: 3 @ 8 | RES DATA SHAPE: 3387 @ 8-----------\n",
      "------------------------------------------------------------------\n",
      "-----------PARSING REV FROM /msk/opinions/restaurants/pitstop/ PAGE-----------\n",
      "-----------PAGE 1 PARSING-----------\n"
     ]
    },
    {
     "name": "stderr",
     "output_type": "stream",
     "text": [
      "\r",
      " 26%|██▌       | 156/595 [03:40<10:20,  1.41s/it]"
     ]
    },
    {
     "name": "stdout",
     "output_type": "stream",
     "text": [
      "-----------12 reviews add to list. ListLen 12-----------\n",
      "-----------REVIEWS SHAPE: 12 @ 8 | RES DATA SHAPE: 3399 @ 8-----------\n",
      "------------------------------------------------------------------\n",
      "-----------PARSING REV FROM /msk/opinions/restaurants/plum/ PAGE-----------\n",
      "-----------PAGE 1 PARSING-----------\n"
     ]
    },
    {
     "name": "stderr",
     "output_type": "stream",
     "text": [
      "\r",
      " 26%|██▋       | 157/595 [03:41<10:18,  1.41s/it]"
     ]
    },
    {
     "name": "stdout",
     "output_type": "stream",
     "text": [
      "-----------11 reviews add to list. ListLen 11-----------\n",
      "-----------REVIEWS SHAPE: 11 @ 8 | RES DATA SHAPE: 3410 @ 8-----------\n",
      "------------------------------------------------------------------\n",
      "-----------PARSING REV FROM /msk/opinions/restaurants/point_rouge/ PAGE-----------\n",
      "-----------PAGE 1 PARSING-----------\n"
     ]
    },
    {
     "name": "stderr",
     "output_type": "stream",
     "text": [
      "\r",
      " 27%|██▋       | 158/595 [03:43<10:17,  1.41s/it]"
     ]
    },
    {
     "name": "stdout",
     "output_type": "stream",
     "text": [
      "-----------2 reviews add to list. ListLen 2-----------\n",
      "-----------REVIEWS SHAPE: 2 @ 8 | RES DATA SHAPE: 3412 @ 8-----------\n",
      "------------------------------------------------------------------\n",
      "-----------PARSING REV FROM /msk/opinions/restaurants/petit_pierre/ PAGE-----------\n",
      "-----------PAGE 1 PARSING-----------\n"
     ]
    },
    {
     "name": "stderr",
     "output_type": "stream",
     "text": [
      "\r",
      " 27%|██▋       | 159/595 [03:44<10:14,  1.41s/it]"
     ]
    },
    {
     "name": "stdout",
     "output_type": "stream",
     "text": [
      "-----------4 reviews add to list. ListLen 4-----------\n",
      "-----------REVIEWS SHAPE: 4 @ 8 | RES DATA SHAPE: 3416 @ 8-----------\n",
      "------------------------------------------------------------------\n",
      "-----------PARSING REV FROM /msk/opinions/restaurants/pescatore/ PAGE-----------\n",
      "-----------PAGE 1 PARSING-----------\n"
     ]
    },
    {
     "name": "stderr",
     "output_type": "stream",
     "text": [
      "\r",
      " 27%|██▋       | 160/595 [03:45<10:12,  1.41s/it]"
     ]
    },
    {
     "name": "stdout",
     "output_type": "stream",
     "text": [
      "-----------3 reviews add to list. ListLen 3-----------\n",
      "-----------REVIEWS SHAPE: 3 @ 8 | RES DATA SHAPE: 3419 @ 8-----------\n",
      "------------------------------------------------------------------\n",
      "-----------PARSING REV FROM /msk/opinions/restaurants/peshirestoran/ PAGE-----------\n",
      "-----------PAGE 1 PARSING-----------\n"
     ]
    },
    {
     "name": "stderr",
     "output_type": "stream",
     "text": [
      "\r",
      " 27%|██▋       | 161/595 [03:46<10:09,  1.41s/it]"
     ]
    },
    {
     "name": "stdout",
     "output_type": "stream",
     "text": [
      "-----------9 reviews add to list. ListLen 9-----------\n",
      "-----------REVIEWS SHAPE: 9 @ 8 | RES DATA SHAPE: 3428 @ 8-----------\n",
      "------------------------------------------------------------------\n",
      "-----------PARSING REV FROM /msk/opinions/restaurants/parkhouse/ PAGE-----------\n",
      "-----------PAGE 1 PARSING-----------\n"
     ]
    },
    {
     "name": "stderr",
     "output_type": "stream",
     "text": [
      "\r",
      " 27%|██▋       | 162/595 [03:47<10:07,  1.40s/it]"
     ]
    },
    {
     "name": "stdout",
     "output_type": "stream",
     "text": [
      "-----------15 reviews add to list. ListLen 15-----------\n",
      "-----------REVIEWS SHAPE: 15 @ 8 | RES DATA SHAPE: 3443 @ 8-----------\n",
      "------------------------------------------------------------------\n",
      "-----------PARSING REV FROM /msk/opinions/restaurants/primitivo/ PAGE-----------\n",
      "-----------PAGE 1 PARSING-----------\n"
     ]
    },
    {
     "name": "stderr",
     "output_type": "stream",
     "text": [
      "\r",
      " 27%|██▋       | 163/595 [03:50<10:10,  1.41s/it]"
     ]
    },
    {
     "name": "stdout",
     "output_type": "stream",
     "text": [
      "-----------10 reviews add to list. ListLen 10-----------\n",
      "-----------REVIEWS SHAPE: 10 @ 8 | RES DATA SHAPE: 3453 @ 8-----------\n",
      "------------------------------------------------------------------\n",
      "-----------PARSING REV FROM /msk/opinions/restaurants/pubdaddy/ PAGE-----------\n",
      "-----------PAGE 1 PARSING-----------\n"
     ]
    },
    {
     "name": "stderr",
     "output_type": "stream",
     "text": [
      "\r",
      " 28%|██▊       | 164/595 [03:51<10:08,  1.41s/it]"
     ]
    },
    {
     "name": "stdout",
     "output_type": "stream",
     "text": [
      "-----------15 reviews add to list. ListLen 15-----------\n",
      "-----------REVIEWS SHAPE: 15 @ 8 | RES DATA SHAPE: 3468 @ 8-----------\n",
      "------------------------------------------------------------------\n",
      "-----------PARSING REV FROM /msk/opinions/restaurants/porto_malteze/ PAGE-----------\n",
      "-----------PAGE 1 PARSING-----------\n",
      "-----------20 reviews add to list. ListLen 20-----------\n",
      "-----------PAGE 2 PARSING-----------\n"
     ]
    },
    {
     "name": "stderr",
     "output_type": "stream",
     "text": [
      "\r",
      " 28%|██▊       | 165/595 [03:53<10:08,  1.41s/it]"
     ]
    },
    {
     "name": "stdout",
     "output_type": "stream",
     "text": [
      "-----------20 reviews add to list. ListLen 40-----------\n",
      "-----------REVIEWS SHAPE: 40 @ 8 | RES DATA SHAPE: 3508 @ 8-----------\n",
      "------------------------------------------------------------------\n",
      "-----------PARSING REV FROM /msk/opinions/restaurants/porto_malteze_pravdy/ PAGE-----------\n",
      "-----------PAGE 1 PARSING-----------\n"
     ]
    },
    {
     "name": "stderr",
     "output_type": "stream",
     "text": [
      "\r",
      " 28%|██▊       | 166/595 [03:54<10:05,  1.41s/it]"
     ]
    },
    {
     "name": "stdout",
     "output_type": "stream",
     "text": [
      "-----------3 reviews add to list. ListLen 3-----------\n",
      "-----------REVIEWS SHAPE: 3 @ 8 | RES DATA SHAPE: 3511 @ 8-----------\n",
      "------------------------------------------------------------------\n",
      "-----------PARSING REV FROM /msk/opinions/restaurants/rendezvous-di-valuevo/ PAGE-----------\n",
      "-----------PAGE 1 PARSING-----------\n"
     ]
    },
    {
     "name": "stderr",
     "output_type": "stream",
     "text": [
      "\r",
      " 28%|██▊       | 167/595 [03:55<10:02,  1.41s/it]"
     ]
    },
    {
     "name": "stdout",
     "output_type": "stream",
     "text": [
      "-----------5 reviews add to list. ListLen 5-----------\n",
      "-----------REVIEWS SHAPE: 5 @ 8 | RES DATA SHAPE: 3516 @ 8-----------\n",
      "------------------------------------------------------------------\n",
      "-----------PARSING REV FROM /msk/opinions/restaurants/pab_lo_pikasso/ PAGE-----------\n",
      "-----------PAGE 1 PARSING-----------\n",
      "-----------20 reviews add to list. ListLen 20-----------\n",
      "-----------PAGE 2 PARSING-----------\n",
      "-----------20 reviews add to list. ListLen 40-----------\n",
      "-----------PAGE 3 PARSING-----------\n",
      "-----------20 reviews add to list. ListLen 60-----------\n",
      "-----------PAGE 4 PARSING-----------\n",
      "-----------20 reviews add to list. ListLen 80-----------\n",
      "-----------PAGE 5 PARSING-----------\n",
      "-----------20 reviews add to list. ListLen 100-----------\n",
      "-----------PAGE 6 PARSING-----------\n",
      "-----------20 reviews add to list. ListLen 120-----------\n",
      "-----------PAGE 7 PARSING-----------\n",
      "-----------20 reviews add to list. ListLen 140-----------\n",
      "-----------PAGE 8 PARSING-----------\n",
      "-----------20 reviews add to list. ListLen 160-----------\n",
      "-----------PAGE 9 PARSING-----------\n",
      "-----------20 reviews add to list. ListLen 180-----------\n",
      "-----------PAGE 10 PARSING-----------\n",
      "-----------8 reviews add to list. ListLen 188-----------\n"
     ]
    },
    {
     "name": "stderr",
     "output_type": "stream",
     "text": [
      "\r",
      " 28%|██▊       | 168/595 [04:04<10:21,  1.46s/it]"
     ]
    },
    {
     "name": "stdout",
     "output_type": "stream",
     "text": [
      "-----------REVIEWS SHAPE: 188 @ 8 | RES DATA SHAPE: 3704 @ 8-----------\n",
      "------------------------------------------------------------------\n",
      "-----------PARSING REV FROM /msk/opinions/restaurants/pub_red_fox/ PAGE-----------\n",
      "-----------PAGE 1 PARSING-----------\n"
     ]
    },
    {
     "name": "stderr",
     "output_type": "stream",
     "text": [
      "\r",
      " 28%|██▊       | 169/595 [04:05<10:18,  1.45s/it]"
     ]
    },
    {
     "name": "stdout",
     "output_type": "stream",
     "text": [
      "-----------3 reviews add to list. ListLen 3-----------\n",
      "-----------REVIEWS SHAPE: 3 @ 8 | RES DATA SHAPE: 3707 @ 8-----------\n",
      "------------------------------------------------------------------\n",
      "-----------PARSING REV FROM /msk/opinions/restaurants/rcbar/ PAGE-----------\n",
      "-----------PAGE 1 PARSING-----------\n"
     ]
    },
    {
     "name": "stderr",
     "output_type": "stream",
     "text": [
      "\r",
      " 29%|██▊       | 170/595 [04:06<10:16,  1.45s/it]"
     ]
    },
    {
     "name": "stdout",
     "output_type": "stream",
     "text": [
      "-----------15 reviews add to list. ListLen 15-----------\n",
      "-----------REVIEWS SHAPE: 15 @ 8 | RES DATA SHAPE: 3722 @ 8-----------\n",
      "------------------------------------------------------------------\n",
      "-----------PARSING REV FROM /msk/opinions/restaurants/punch-and-judy/ PAGE-----------\n",
      "-----------PAGE 1 PARSING-----------\n"
     ]
    },
    {
     "name": "stderr",
     "output_type": "stream",
     "text": [
      "\r",
      " 29%|██▊       | 171/595 [04:07<10:13,  1.45s/it]"
     ]
    },
    {
     "name": "stdout",
     "output_type": "stream",
     "text": [
      "-----------4 reviews add to list. ListLen 4-----------\n",
      "-----------REVIEWS SHAPE: 4 @ 8 | RES DATA SHAPE: 3726 @ 8-----------\n",
      "------------------------------------------------------------------\n",
      "-----------PARSING REV FROM /msk/opinions/restaurants/red-cat-pub/ PAGE-----------\n",
      "-----------PAGE 1 PARSING-----------\n"
     ]
    },
    {
     "name": "stderr",
     "output_type": "stream",
     "text": [
      "\r",
      " 29%|██▉       | 172/595 [04:08<10:10,  1.44s/it]"
     ]
    },
    {
     "name": "stdout",
     "output_type": "stream",
     "text": [
      "-----------5 reviews add to list. ListLen 5-----------\n",
      "-----------REVIEWS SHAPE: 5 @ 8 | RES DATA SHAPE: 3731 @ 8-----------\n",
      "------------------------------------------------------------------\n",
      "-----------PARSING REV FROM /msk/opinions/restaurants/rosebar/ PAGE-----------\n",
      "-----------PAGE 1 PARSING-----------\n",
      "-----------20 reviews add to list. ListLen 20-----------\n",
      "-----------PAGE 2 PARSING-----------\n"
     ]
    },
    {
     "name": "stderr",
     "output_type": "stream",
     "text": [
      "\r",
      " 29%|██▉       | 173/595 [04:10<10:10,  1.45s/it]"
     ]
    },
    {
     "name": "stdout",
     "output_type": "stream",
     "text": [
      "-----------2 reviews add to list. ListLen 22-----------\n",
      "-----------REVIEWS SHAPE: 22 @ 8 | RES DATA SHAPE: 3753 @ 8-----------\n",
      "------------------------------------------------------------------\n",
      "-----------PARSING REV FROM /msk/opinions/restaurants/sabordelavida/ PAGE-----------\n",
      "-----------PAGE 1 PARSING-----------\n"
     ]
    },
    {
     "name": "stderr",
     "output_type": "stream",
     "text": [
      "\r",
      " 29%|██▉       | 174/595 [04:11<10:07,  1.44s/it]"
     ]
    },
    {
     "name": "stdout",
     "output_type": "stream",
     "text": [
      "-----------4 reviews add to list. ListLen 4-----------\n",
      "-----------REVIEWS SHAPE: 4 @ 8 | RES DATA SHAPE: 3757 @ 8-----------\n",
      "------------------------------------------------------------------\n",
      "-----------PARSING REV FROM /msk/opinions/restaurants/roofbar/ PAGE-----------\n",
      "-----------PAGE 1 PARSING-----------\n"
     ]
    },
    {
     "name": "stderr",
     "output_type": "stream",
     "text": [
      "\r",
      " 29%|██▉       | 175/595 [04:11<10:04,  1.44s/it]"
     ]
    },
    {
     "name": "stdout",
     "output_type": "stream",
     "text": [
      "-----------4 reviews add to list. ListLen 4-----------\n",
      "-----------REVIEWS SHAPE: 4 @ 8 | RES DATA SHAPE: 3761 @ 8-----------\n",
      "------------------------------------------------------------------\n",
      "-----------PARSING REV FROM /msk/opinions/restaurants/rotisserie/ PAGE-----------\n",
      "-----------PAGE 1 PARSING-----------\n"
     ]
    },
    {
     "name": "stderr",
     "output_type": "stream",
     "text": [
      "\r",
      " 30%|██▉       | 176/595 [04:12<10:01,  1.44s/it]"
     ]
    },
    {
     "name": "stdout",
     "output_type": "stream",
     "text": [
      "-----------2 reviews add to list. ListLen 2-----------\n",
      "-----------REVIEWS SHAPE: 2 @ 8 | RES DATA SHAPE: 3763 @ 8-----------\n",
      "------------------------------------------------------------------\n",
      "-----------PARSING REV FROM /msk/opinions/restaurants/riviere/ PAGE-----------\n",
      "-----------PAGE 1 PARSING-----------\n",
      "-----------20 reviews add to list. ListLen 20-----------\n",
      "-----------PAGE 2 PARSING-----------\n",
      "-----------20 reviews add to list. ListLen 40-----------\n",
      "-----------PAGE 3 PARSING-----------\n"
     ]
    },
    {
     "name": "stderr",
     "output_type": "stream",
     "text": [
      "\r",
      " 30%|██▉       | 177/595 [04:15<10:04,  1.45s/it]"
     ]
    },
    {
     "name": "stdout",
     "output_type": "stream",
     "text": [
      "-----------10 reviews add to list. ListLen 50-----------\n",
      "-----------REVIEWS SHAPE: 50 @ 8 | RES DATA SHAPE: 3813 @ 8-----------\n",
      "------------------------------------------------------------------\n",
      "-----------PARSING REV FROM /msk/opinions/restaurants/shakti_terrace/ PAGE-----------\n",
      "-----------PAGE 1 PARSING-----------\n"
     ]
    },
    {
     "name": "stderr",
     "output_type": "stream",
     "text": [
      "\r",
      " 30%|██▉       | 178/595 [04:16<10:01,  1.44s/it]"
     ]
    },
    {
     "name": "stdout",
     "output_type": "stream",
     "text": [
      "-----------4 reviews add to list. ListLen 4-----------\n",
      "-----------REVIEWS SHAPE: 4 @ 8 | RES DATA SHAPE: 3817 @ 8-----------\n",
      "------------------------------------------------------------------\n",
      "-----------PARSING REV FROM /msk/opinions/restaurants/satrapezo/ PAGE-----------\n",
      "-----------PAGE 1 PARSING-----------\n"
     ]
    },
    {
     "name": "stderr",
     "output_type": "stream",
     "text": [
      "\r",
      " 30%|███       | 179/595 [04:17<09:58,  1.44s/it]"
     ]
    },
    {
     "name": "stdout",
     "output_type": "stream",
     "text": [
      "-----------5 reviews add to list. ListLen 5-----------\n",
      "-----------REVIEWS SHAPE: 5 @ 8 | RES DATA SHAPE: 3822 @ 8-----------\n",
      "------------------------------------------------------------------\n",
      "-----------PARSING REV FROM /msk/opinions/restaurants/saratov/ PAGE-----------\n",
      "-----------PAGE 1 PARSING-----------\n"
     ]
    },
    {
     "name": "stderr",
     "output_type": "stream",
     "text": [
      "\r",
      " 30%|███       | 180/595 [04:18<09:56,  1.44s/it]"
     ]
    },
    {
     "name": "stdout",
     "output_type": "stream",
     "text": [
      "-----------12 reviews add to list. ListLen 12-----------\n",
      "-----------REVIEWS SHAPE: 12 @ 8 | RES DATA SHAPE: 3834 @ 8-----------\n",
      "------------------------------------------------------------------\n",
      "-----------PARSING REV FROM /msk/opinions/restaurants/seven/ PAGE-----------\n",
      "-----------PAGE 1 PARSING-----------\n"
     ]
    },
    {
     "name": "stderr",
     "output_type": "stream",
     "text": [
      "\r",
      " 30%|███       | 181/595 [04:19<09:54,  1.44s/it]"
     ]
    },
    {
     "name": "stdout",
     "output_type": "stream",
     "text": [
      "-----------15 reviews add to list. ListLen 15-----------\n",
      "-----------REVIEWS SHAPE: 15 @ 8 | RES DATA SHAPE: 3849 @ 8-----------\n",
      "------------------------------------------------------------------\n",
      "-----------PARSING REV FROM /msk/opinions/restaurants/semplice/ PAGE-----------\n",
      "-----------PAGE 1 PARSING-----------\n"
     ]
    },
    {
     "name": "stderr",
     "output_type": "stream",
     "text": [
      "\r",
      " 31%|███       | 182/595 [04:21<09:52,  1.43s/it]"
     ]
    },
    {
     "name": "stdout",
     "output_type": "stream",
     "text": [
      "-----------17 reviews add to list. ListLen 17-----------\n",
      "-----------REVIEWS SHAPE: 17 @ 8 | RES DATA SHAPE: 3866 @ 8-----------\n",
      "------------------------------------------------------------------\n",
      "-----------PARSING REV FROM /msk/opinions/restaurants/soluxeclub/ PAGE-----------\n",
      "-----------PAGE 1 PARSING-----------\n",
      "-----------20 reviews add to list. ListLen 20-----------\n",
      "-----------PAGE 2 PARSING-----------\n",
      "-----------20 reviews add to list. ListLen 40-----------\n",
      "-----------PAGE 3 PARSING-----------\n",
      "-----------20 reviews add to list. ListLen 60-----------\n",
      "-----------PAGE 4 PARSING-----------\n",
      "-----------20 reviews add to list. ListLen 80-----------\n",
      "-----------PAGE 5 PARSING-----------\n",
      "-----------20 reviews add to list. ListLen 100-----------\n",
      "-----------PAGE 6 PARSING-----------\n",
      "-----------20 reviews add to list. ListLen 120-----------\n",
      "-----------PAGE 7 PARSING-----------\n",
      "-----------20 reviews add to list. ListLen 140-----------\n",
      "-----------PAGE 8 PARSING-----------\n",
      "-----------5 reviews add to list. ListLen 145-----------\n"
     ]
    },
    {
     "name": "stderr",
     "output_type": "stream",
     "text": [
      "\r",
      " 31%|███       | 183/595 [04:29<10:06,  1.47s/it]"
     ]
    },
    {
     "name": "stdout",
     "output_type": "stream",
     "text": [
      "-----------REVIEWS SHAPE: 145 @ 8 | RES DATA SHAPE: 4011 @ 8-----------\n",
      "------------------------------------------------------------------\n",
      "-----------PARSING REV FROM /msk/opinions/restaurants/simplepleasures/ PAGE-----------\n",
      "-----------PAGE 1 PARSING-----------\n"
     ]
    },
    {
     "name": "stderr",
     "output_type": "stream",
     "text": [
      "\r",
      " 31%|███       | 184/595 [04:30<10:04,  1.47s/it]"
     ]
    },
    {
     "name": "stdout",
     "output_type": "stream",
     "text": [
      "-----------4 reviews add to list. ListLen 4-----------\n",
      "-----------REVIEWS SHAPE: 4 @ 8 | RES DATA SHAPE: 4015 @ 8-----------\n",
      "------------------------------------------------------------------\n",
      "-----------PARSING REV FROM /msk/opinions/restaurants/sillycat_siliket/ PAGE-----------\n",
      "-----------PAGE 1 PARSING-----------\n"
     ]
    },
    {
     "name": "stderr",
     "output_type": "stream",
     "text": [
      "\r",
      " 31%|███       | 185/595 [04:31<10:01,  1.47s/it]"
     ]
    },
    {
     "name": "stdout",
     "output_type": "stream",
     "text": [
      "-----------5 reviews add to list. ListLen 5-----------\n",
      "-----------REVIEWS SHAPE: 5 @ 8 | RES DATA SHAPE: 4020 @ 8-----------\n",
      "------------------------------------------------------------------\n",
      "-----------PARSING REV FROM /msk/opinions/restaurants/stage/ PAGE-----------\n",
      "-----------PAGE 1 PARSING-----------\n"
     ]
    },
    {
     "name": "stderr",
     "output_type": "stream",
     "text": [
      "\r",
      " 31%|███▏      | 186/595 [04:32<09:58,  1.46s/it]"
     ]
    },
    {
     "name": "stdout",
     "output_type": "stream",
     "text": [
      "-----------3 reviews add to list. ListLen 3-----------\n",
      "-----------REVIEWS SHAPE: 3 @ 8 | RES DATA SHAPE: 4023 @ 8-----------\n",
      "------------------------------------------------------------------\n",
      "-----------PARSING REV FROM /msk/opinions/restaurants/so-svoim/ PAGE-----------\n",
      "-----------PAGE 1 PARSING-----------\n"
     ]
    },
    {
     "name": "stderr",
     "output_type": "stream",
     "text": [
      "\r",
      " 31%|███▏      | 187/595 [04:33<09:56,  1.46s/it]"
     ]
    },
    {
     "name": "stdout",
     "output_type": "stream",
     "text": [
      "-----------3 reviews add to list. ListLen 3-----------\n",
      "-----------REVIEWS SHAPE: 3 @ 8 | RES DATA SHAPE: 4026 @ 8-----------\n",
      "------------------------------------------------------------------\n",
      "-----------PARSING REV FROM /msk/opinions/restaurants/sky_lounge/ PAGE-----------\n",
      "-----------PAGE 1 PARSING-----------\n",
      "-----------20 reviews add to list. ListLen 20-----------\n",
      "-----------PAGE 2 PARSING-----------\n",
      "-----------20 reviews add to list. ListLen 40-----------\n",
      "-----------PAGE 3 PARSING-----------\n",
      "-----------20 reviews add to list. ListLen 60-----------\n",
      "-----------PAGE 4 PARSING-----------\n",
      "-----------20 reviews add to list. ListLen 80-----------\n",
      "-----------PAGE 5 PARSING-----------\n"
     ]
    },
    {
     "name": "stderr",
     "output_type": "stream",
     "text": [
      "\r",
      " 32%|███▏      | 188/595 [04:38<10:03,  1.48s/it]"
     ]
    },
    {
     "name": "stdout",
     "output_type": "stream",
     "text": [
      "-----------6 reviews add to list. ListLen 86-----------\n",
      "-----------REVIEWS SHAPE: 86 @ 8 | RES DATA SHAPE: 4112 @ 8-----------\n",
      "------------------------------------------------------------------\n",
      "-----------PARSING REV FROM /msk/opinions/restaurants/starlite/ PAGE-----------\n",
      "-----------PAGE 1 PARSING-----------\n",
      "-----------20 reviews add to list. ListLen 20-----------\n",
      "-----------PAGE 2 PARSING-----------\n"
     ]
    },
    {
     "name": "stderr",
     "output_type": "stream",
     "text": [
      "\r",
      " 32%|███▏      | 189/595 [04:40<10:02,  1.48s/it]"
     ]
    },
    {
     "name": "stdout",
     "output_type": "stream",
     "text": [
      "-----------11 reviews add to list. ListLen 31-----------\n",
      "-----------REVIEWS SHAPE: 31 @ 8 | RES DATA SHAPE: 4143 @ 8-----------\n",
      "------------------------------------------------------------------\n",
      "-----------PARSING REV FROM /msk/opinions/restaurants/Tatlerclub/ PAGE-----------\n",
      "-----------PAGE 1 PARSING-----------\n"
     ]
    },
    {
     "name": "stderr",
     "output_type": "stream",
     "text": [
      "\r",
      " 32%|███▏      | 190/595 [04:41<10:00,  1.48s/it]"
     ]
    },
    {
     "name": "stdout",
     "output_type": "stream",
     "text": [
      "-----------9 reviews add to list. ListLen 9-----------\n",
      "-----------REVIEWS SHAPE: 9 @ 8 | RES DATA SHAPE: 4152 @ 8-----------\n",
      "------------------------------------------------------------------\n",
      "-----------PARSING REV FROM /msk/opinions/restaurants/tajjmahal/ PAGE-----------\n",
      "-----------PAGE 1 PARSING-----------\n",
      "-----------20 reviews add to list. ListLen 20-----------\n",
      "-----------PAGE 2 PARSING-----------\n"
     ]
    },
    {
     "name": "stderr",
     "output_type": "stream",
     "text": [
      "\r",
      " 32%|███▏      | 191/595 [04:43<10:00,  1.49s/it]"
     ]
    },
    {
     "name": "stdout",
     "output_type": "stream",
     "text": [
      "-----------20 reviews add to list. ListLen 40-----------\n",
      "-----------REVIEWS SHAPE: 40 @ 8 | RES DATA SHAPE: 4192 @ 8-----------\n",
      "------------------------------------------------------------------\n",
      "-----------PARSING REV FROM /msk/opinions/restaurants/tbpub/ PAGE-----------\n",
      "-----------PAGE 1 PARSING-----------\n",
      "-----------20 reviews add to list. ListLen 20-----------\n",
      "-----------PAGE 2 PARSING-----------\n"
     ]
    },
    {
     "name": "stderr",
     "output_type": "stream",
     "text": [
      "\r",
      " 32%|███▏      | 192/595 [04:45<10:00,  1.49s/it]"
     ]
    },
    {
     "name": "stdout",
     "output_type": "stream",
     "text": [
      "-----------3 reviews add to list. ListLen 23-----------\n",
      "-----------REVIEWS SHAPE: 23 @ 8 | RES DATA SHAPE: 4215 @ 8-----------\n",
      "------------------------------------------------------------------\n",
      "-----------PARSING REV FROM /msk/opinions/restaurants/tajjmahal-kislovsky/ PAGE-----------\n",
      "-----------PAGE 1 PARSING-----------\n"
     ]
    },
    {
     "name": "stderr",
     "output_type": "stream",
     "text": [
      "\r",
      " 32%|███▏      | 193/595 [04:46<09:57,  1.49s/it]"
     ]
    },
    {
     "name": "stdout",
     "output_type": "stream",
     "text": [
      "-----------2 reviews add to list. ListLen 2-----------\n",
      "-----------REVIEWS SHAPE: 2 @ 8 | RES DATA SHAPE: 4217 @ 8-----------\n",
      "------------------------------------------------------------------\n",
      "-----------PARSING REV FROM /msk/opinions/restaurants/tipsy/ PAGE-----------\n",
      "-----------PAGE 1 PARSING-----------\n"
     ]
    },
    {
     "name": "stderr",
     "output_type": "stream",
     "text": [
      "\r",
      " 33%|███▎      | 194/595 [04:47<09:55,  1.48s/it]"
     ]
    },
    {
     "name": "stdout",
     "output_type": "stream",
     "text": [
      "-----------6 reviews add to list. ListLen 6-----------\n",
      "-----------REVIEWS SHAPE: 6 @ 8 | RES DATA SHAPE: 4223 @ 8-----------\n",
      "------------------------------------------------------------------\n",
      "-----------PARSING REV FROM /msk/opinions/restaurants/valesko/ PAGE-----------\n",
      "-----------PAGE 1 PARSING-----------\n"
     ]
    },
    {
     "name": "stderr",
     "output_type": "stream",
     "text": [
      "\r",
      " 33%|███▎      | 195/595 [04:48<09:52,  1.48s/it]"
     ]
    },
    {
     "name": "stdout",
     "output_type": "stream",
     "text": [
      "-----------2 reviews add to list. ListLen 2-----------\n",
      "-----------REVIEWS SHAPE: 2 @ 8 | RES DATA SHAPE: 4225 @ 8-----------\n",
      "------------------------------------------------------------------\n",
      "-----------PARSING REV FROM /msk/opinions/restaurants/villagusto/ PAGE-----------\n",
      "-----------PAGE 1 PARSING-----------\n"
     ]
    },
    {
     "name": "stderr",
     "output_type": "stream",
     "text": [
      "\r",
      " 33%|███▎      | 196/595 [04:49<09:49,  1.48s/it]"
     ]
    },
    {
     "name": "stdout",
     "output_type": "stream",
     "text": [
      "-----------2 reviews add to list. ListLen 2-----------\n",
      "-----------REVIEWS SHAPE: 2 @ 8 | RES DATA SHAPE: 4227 @ 8-----------\n",
      "------------------------------------------------------------------\n",
      "-----------PARSING REV FROM /msk/opinions/restaurants/valenok/ PAGE-----------\n",
      "-----------PAGE 1 PARSING-----------\n",
      "-----------20 reviews add to list. ListLen 20-----------\n",
      "-----------PAGE 2 PARSING-----------\n",
      "-----------20 reviews add to list. ListLen 40-----------\n",
      "-----------PAGE 3 PARSING-----------\n"
     ]
    },
    {
     "name": "stderr",
     "output_type": "stream",
     "text": [
      "\r",
      " 33%|███▎      | 197/595 [04:52<09:51,  1.49s/it]"
     ]
    },
    {
     "name": "stdout",
     "output_type": "stream",
     "text": [
      "-----------1 reviews add to list. ListLen 41-----------\n",
      "-----------REVIEWS SHAPE: 41 @ 8 | RES DATA SHAPE: 4268 @ 8-----------\n",
      "------------------------------------------------------------------\n",
      "-----------PARSING REV FROM /msk/opinions/restaurants/tuttalavita/ PAGE-----------\n",
      "-----------PAGE 1 PARSING-----------\n"
     ]
    },
    {
     "name": "stderr",
     "output_type": "stream",
     "text": [
      "\r",
      " 33%|███▎      | 198/595 [04:54<09:50,  1.49s/it]"
     ]
    },
    {
     "name": "stdout",
     "output_type": "stream",
     "text": [
      "-----------12 reviews add to list. ListLen 12-----------\n",
      "-----------REVIEWS SHAPE: 12 @ 8 | RES DATA SHAPE: 4280 @ 8-----------\n",
      "------------------------------------------------------------------\n",
      "-----------PARSING REV FROM /msk/opinions/restaurants/too-much/ PAGE-----------\n",
      "-----------PAGE 1 PARSING-----------\n"
     ]
    },
    {
     "name": "stderr",
     "output_type": "stream",
     "text": [
      "\r",
      " 33%|███▎      | 199/595 [04:55<09:48,  1.49s/it]"
     ]
    },
    {
     "name": "stdout",
     "output_type": "stream",
     "text": [
      "-----------9 reviews add to list. ListLen 9-----------\n",
      "-----------REVIEWS SHAPE: 9 @ 8 | RES DATA SHAPE: 4289 @ 8-----------\n",
      "------------------------------------------------------------------\n",
      "-----------PARSING REV FROM /msk/opinions/restaurants/veranda-parkovaya/ PAGE-----------\n",
      "-----------PAGE 1 PARSING-----------\n"
     ]
    },
    {
     "name": "stderr",
     "output_type": "stream",
     "text": [
      "\r",
      " 34%|███▎      | 200/595 [04:56<09:45,  1.48s/it]"
     ]
    },
    {
     "name": "stdout",
     "output_type": "stream",
     "text": [
      "-----------2 reviews add to list. ListLen 2-----------\n",
      "-----------REVIEWS SHAPE: 2 @ 8 | RES DATA SHAPE: 4291 @ 8-----------\n",
      "------------------------------------------------------------------\n",
      "-----------PARSING REV FROM /msk/opinions/restaurants/tiflis/ PAGE-----------\n",
      "-----------PAGE 1 PARSING-----------\n",
      "-----------20 reviews add to list. ListLen 20-----------\n",
      "-----------PAGE 2 PARSING-----------\n"
     ]
    },
    {
     "name": "stderr",
     "output_type": "stream",
     "text": [
      "\r",
      " 34%|███▍      | 201/595 [04:58<09:45,  1.49s/it]"
     ]
    },
    {
     "name": "stdout",
     "output_type": "stream",
     "text": [
      "-----------10 reviews add to list. ListLen 30-----------\n",
      "-----------REVIEWS SHAPE: 30 @ 8 | RES DATA SHAPE: 4321 @ 8-----------\n",
      "------------------------------------------------------------------\n",
      "-----------PARSING REV FROM /msk/opinions/restaurants/the_sad/ PAGE-----------\n",
      "-----------PAGE 1 PARSING-----------\n",
      "-----------20 reviews add to list. ListLen 20-----------\n",
      "-----------PAGE 2 PARSING-----------\n",
      "-----------20 reviews add to list. ListLen 40-----------\n",
      "-----------PAGE 3 PARSING-----------\n",
      "-----------20 reviews add to list. ListLen 60-----------\n",
      "-----------PAGE 4 PARSING-----------\n"
     ]
    },
    {
     "name": "stderr",
     "output_type": "stream",
     "text": [
      "\r",
      " 34%|███▍      | 202/595 [05:03<09:50,  1.50s/it]"
     ]
    },
    {
     "name": "stdout",
     "output_type": "stream",
     "text": [
      "-----------15 reviews add to list. ListLen 75-----------\n",
      "-----------REVIEWS SHAPE: 75 @ 8 | RES DATA SHAPE: 4396 @ 8-----------\n",
      "------------------------------------------------------------------\n",
      "-----------PARSING REV FROM /msk/opinions/restaurants/villaggio/ PAGE-----------\n",
      "-----------PAGE 1 PARSING-----------\n",
      "-----------20 reviews add to list. ListLen 20-----------\n",
      "-----------PAGE 2 PARSING-----------\n"
     ]
    },
    {
     "name": "stderr",
     "output_type": "stream",
     "text": [
      "\r",
      " 34%|███▍      | 203/595 [05:05<09:50,  1.51s/it]"
     ]
    },
    {
     "name": "stdout",
     "output_type": "stream",
     "text": [
      "-----------13 reviews add to list. ListLen 33-----------\n",
      "-----------REVIEWS SHAPE: 33 @ 8 | RES DATA SHAPE: 4429 @ 8-----------\n",
      "------------------------------------------------------------------\n",
      "-----------PARSING REV FROM /msk/opinions/restaurants/villa-pasta/ PAGE-----------\n",
      "-----------PAGE 1 PARSING-----------\n",
      "-----------20 reviews add to list. ListLen 20-----------\n",
      "-----------PAGE 2 PARSING-----------\n"
     ]
    },
    {
     "name": "stderr",
     "output_type": "stream",
     "text": [
      "\r",
      " 34%|███▍      | 204/595 [05:07<09:50,  1.51s/it]"
     ]
    },
    {
     "name": "stdout",
     "output_type": "stream",
     "text": [
      "-----------13 reviews add to list. ListLen 33-----------\n",
      "-----------REVIEWS SHAPE: 33 @ 8 | RES DATA SHAPE: 4462 @ 8-----------\n",
      "------------------------------------------------------------------\n",
      "-----------PARSING REV FROM /msk/opinions/restaurants/white-cafe/ PAGE-----------\n",
      "-----------PAGE 1 PARSING-----------\n"
     ]
    },
    {
     "name": "stderr",
     "output_type": "stream",
     "text": [
      "\r",
      " 34%|███▍      | 205/595 [05:08<09:47,  1.51s/it]"
     ]
    },
    {
     "name": "stdout",
     "output_type": "stream",
     "text": [
      "-----------7 reviews add to list. ListLen 7-----------\n",
      "-----------REVIEWS SHAPE: 7 @ 8 | RES DATA SHAPE: 4469 @ 8-----------\n",
      "------------------------------------------------------------------\n",
      "-----------PARSING REV FROM /msk/opinions/restaurants/voyazh/ PAGE-----------\n",
      "-----------PAGE 1 PARSING-----------\n"
     ]
    },
    {
     "name": "stderr",
     "output_type": "stream",
     "text": [
      "\r",
      " 35%|███▍      | 206/595 [05:09<09:45,  1.50s/it]"
     ]
    },
    {
     "name": "stdout",
     "output_type": "stream",
     "text": [
      "-----------3 reviews add to list. ListLen 3-----------\n",
      "-----------REVIEWS SHAPE: 3 @ 8 | RES DATA SHAPE: 4472 @ 8-----------\n",
      "------------------------------------------------------------------\n",
      "-----------PARSING REV FROM /msk/opinions/restaurants/villa_toscana/ PAGE-----------\n",
      "-----------PAGE 1 PARSING-----------\n"
     ]
    },
    {
     "name": "stderr",
     "output_type": "stream",
     "text": [
      "\r",
      " 35%|███▍      | 207/595 [05:10<09:42,  1.50s/it]"
     ]
    },
    {
     "name": "stdout",
     "output_type": "stream",
     "text": [
      "-----------2 reviews add to list. ListLen 2-----------\n",
      "-----------REVIEWS SHAPE: 2 @ 8 | RES DATA SHAPE: 4474 @ 8-----------\n",
      "------------------------------------------------------------------\n",
      "-----------PARSING REV FROM /msk/opinions/restaurants/food-house/ PAGE-----------\n",
      "-----------PAGE 1 PARSING-----------\n"
     ]
    },
    {
     "name": "stderr",
     "output_type": "stream",
     "text": [
      "\r",
      " 35%|███▍      | 208/595 [05:11<09:40,  1.50s/it]"
     ]
    },
    {
     "name": "stdout",
     "output_type": "stream",
     "text": [
      "-----------18 reviews add to list. ListLen 18-----------\n",
      "-----------REVIEWS SHAPE: 18 @ 8 | RES DATA SHAPE: 4492 @ 8-----------\n",
      "------------------------------------------------------------------\n",
      "-----------PARSING REV FROM /msk/opinions/restaurants/vintage-77/ PAGE-----------\n",
      "-----------PAGE 1 PARSING-----------\n"
     ]
    },
    {
     "name": "stderr",
     "output_type": "stream",
     "text": [
      "\r",
      " 35%|███▌      | 209/595 [05:12<09:37,  1.50s/it]"
     ]
    },
    {
     "name": "stdout",
     "output_type": "stream",
     "text": [
      "-----------7 reviews add to list. ListLen 7-----------\n",
      "-----------REVIEWS SHAPE: 7 @ 8 | RES DATA SHAPE: 4499 @ 8-----------\n",
      "------------------------------------------------------------------\n",
      "-----------PARSING REV FROM /msk/opinions/restaurants/vanil/ PAGE-----------\n",
      "-----------PAGE 1 PARSING-----------\n"
     ]
    },
    {
     "name": "stderr",
     "output_type": "stream",
     "text": [
      "\r",
      " 35%|███▌      | 210/595 [05:13<09:35,  1.49s/it]"
     ]
    },
    {
     "name": "stdout",
     "output_type": "stream",
     "text": [
      "-----------17 reviews add to list. ListLen 17-----------\n",
      "-----------REVIEWS SHAPE: 17 @ 8 | RES DATA SHAPE: 4516 @ 8-----------\n",
      "------------------------------------------------------------------\n",
      "-----------PARSING REV FROM /msk/opinions/restaurants/avlabar/ PAGE-----------\n",
      "-----------PAGE 1 PARSING-----------\n"
     ]
    },
    {
     "name": "stderr",
     "output_type": "stream",
     "text": [
      "\r",
      " 35%|███▌      | 211/595 [05:14<09:32,  1.49s/it]"
     ]
    },
    {
     "name": "stdout",
     "output_type": "stream",
     "text": [
      "-----------8 reviews add to list. ListLen 8-----------\n",
      "-----------REVIEWS SHAPE: 8 @ 8 | RES DATA SHAPE: 4524 @ 8-----------\n",
      "------------------------------------------------------------------\n",
      "-----------PARSING REV FROM /msk/opinions/restaurants/yoko/ PAGE-----------\n",
      "-----------PAGE 1 PARSING-----------\n"
     ]
    },
    {
     "name": "stderr",
     "output_type": "stream",
     "text": [
      "\r",
      " 36%|███▌      | 212/595 [05:15<09:30,  1.49s/it]"
     ]
    },
    {
     "name": "stdout",
     "output_type": "stream",
     "text": [
      "-----------3 reviews add to list. ListLen 3-----------\n",
      "-----------REVIEWS SHAPE: 3 @ 8 | RES DATA SHAPE: 4527 @ 8-----------\n",
      "------------------------------------------------------------------\n",
      "-----------PARSING REV FROM /msk/opinions/restaurants/zodiac/ PAGE-----------\n",
      "-----------PAGE 1 PARSING-----------\n"
     ]
    },
    {
     "name": "stderr",
     "output_type": "stream",
     "text": [
      "\r",
      " 36%|███▌      | 213/595 [05:16<09:27,  1.49s/it]"
     ]
    },
    {
     "name": "stdout",
     "output_type": "stream",
     "text": [
      "-----------5 reviews add to list. ListLen 5-----------\n",
      "-----------REVIEWS SHAPE: 5 @ 8 | RES DATA SHAPE: 4532 @ 8-----------\n",
      "------------------------------------------------------------------\n",
      "-----------PARSING REV FROM /msk/opinions/restaurants/aist/ PAGE-----------\n",
      "-----------PAGE 1 PARSING-----------\n"
     ]
    },
    {
     "name": "stderr",
     "output_type": "stream",
     "text": [
      "\r",
      " 36%|███▌      | 214/595 [05:17<09:25,  1.48s/it]"
     ]
    },
    {
     "name": "stdout",
     "output_type": "stream",
     "text": [
      "-----------6 reviews add to list. ListLen 6-----------\n",
      "-----------REVIEWS SHAPE: 6 @ 8 | RES DATA SHAPE: 4538 @ 8-----------\n",
      "------------------------------------------------------------------\n",
      "-----------PARSING REV FROM /msk/opinions/restaurants/aurora_restaurant/ PAGE-----------\n",
      "-----------PAGE 1 PARSING-----------\n"
     ]
    },
    {
     "name": "stderr",
     "output_type": "stream",
     "text": [
      "\r",
      " 36%|███▌      | 215/595 [05:18<09:22,  1.48s/it]"
     ]
    },
    {
     "name": "stdout",
     "output_type": "stream",
     "text": [
      "-----------2 reviews add to list. ListLen 2-----------\n",
      "-----------REVIEWS SHAPE: 2 @ 8 | RES DATA SHAPE: 4540 @ 8-----------\n",
      "------------------------------------------------------------------\n",
      "-----------PARSING REV FROM /msk/opinions/restaurants/zotman_pizza_pie/ PAGE-----------\n",
      "-----------PAGE 1 PARSING-----------\n",
      "-----------20 reviews add to list. ListLen 20-----------\n",
      "-----------PAGE 2 PARSING-----------\n"
     ]
    },
    {
     "name": "stderr",
     "output_type": "stream",
     "text": [
      "\r",
      " 36%|███▋      | 216/595 [05:20<09:22,  1.48s/it]"
     ]
    },
    {
     "name": "stdout",
     "output_type": "stream",
     "text": [
      "-----------12 reviews add to list. ListLen 32-----------\n",
      "-----------REVIEWS SHAPE: 32 @ 8 | RES DATA SHAPE: 4572 @ 8-----------\n",
      "------------------------------------------------------------------\n",
      "-----------PARSING REV FROM /msk/opinions/restaurants/avtograf/ PAGE-----------\n",
      "-----------PAGE 1 PARSING-----------\n"
     ]
    },
    {
     "name": "stderr",
     "output_type": "stream",
     "text": [
      "\r",
      " 36%|███▋      | 217/595 [05:21<09:19,  1.48s/it]"
     ]
    },
    {
     "name": "stdout",
     "output_type": "stream",
     "text": [
      "-----------9 reviews add to list. ListLen 9-----------\n",
      "-----------REVIEWS SHAPE: 9 @ 8 | RES DATA SHAPE: 4581 @ 8-----------\n",
      "------------------------------------------------------------------\n",
      "-----------PARSING REV FROM /msk/opinions/restaurants/aydabaran_butyrskaya/ PAGE-----------\n",
      "-----------PAGE 1 PARSING-----------\n",
      "-----------20 reviews add to list. ListLen 20-----------\n",
      "-----------PAGE 2 PARSING-----------\n"
     ]
    },
    {
     "name": "stderr",
     "output_type": "stream",
     "text": [
      "\r",
      " 37%|███▋      | 218/595 [05:23<09:19,  1.48s/it]"
     ]
    },
    {
     "name": "stdout",
     "output_type": "stream",
     "text": [
      "-----------3 reviews add to list. ListLen 23-----------\n",
      "-----------REVIEWS SHAPE: 23 @ 8 | RES DATA SHAPE: 4604 @ 8-----------\n",
      "------------------------------------------------------------------\n",
      "-----------PARSING REV FROM /msk/opinions/restaurants/yoko_arbat/ PAGE-----------\n",
      "-----------PAGE 1 PARSING-----------\n"
     ]
    },
    {
     "name": "stderr",
     "output_type": "stream",
     "text": [
      "\r",
      " 37%|███▋      | 219/595 [05:24<09:16,  1.48s/it]"
     ]
    },
    {
     "name": "stdout",
     "output_type": "stream",
     "text": [
      "-----------6 reviews add to list. ListLen 6-----------\n",
      "-----------REVIEWS SHAPE: 6 @ 8 | RES DATA SHAPE: 4610 @ 8-----------\n",
      "------------------------------------------------------------------\n",
      "-----------PARSING REV FROM /msk/opinions/restaurants/zorro/ PAGE-----------\n",
      "-----------PAGE 1 PARSING-----------\n"
     ]
    },
    {
     "name": "stderr",
     "output_type": "stream",
     "text": [
      "\r",
      " 37%|███▋      | 220/595 [05:25<09:14,  1.48s/it]"
     ]
    },
    {
     "name": "stdout",
     "output_type": "stream",
     "text": [
      "-----------2 reviews add to list. ListLen 2-----------\n",
      "-----------REVIEWS SHAPE: 2 @ 8 | RES DATA SHAPE: 4612 @ 8-----------\n",
      "------------------------------------------------------------------\n",
      "-----------PARSING REV FROM /msk/opinions/restaurants/alkov/ PAGE-----------\n",
      "-----------PAGE 1 PARSING-----------\n"
     ]
    },
    {
     "name": "stderr",
     "output_type": "stream",
     "text": [
      "\r",
      " 37%|███▋      | 221/595 [05:25<09:11,  1.47s/it]"
     ]
    },
    {
     "name": "stdout",
     "output_type": "stream",
     "text": [
      "-----------3 reviews add to list. ListLen 3-----------\n",
      "-----------REVIEWS SHAPE: 3 @ 8 | RES DATA SHAPE: 4615 @ 8-----------\n",
      "------------------------------------------------------------------\n",
      "-----------PARSING REV FROM /msk/opinions/restaurants/armenia/ PAGE-----------\n",
      "-----------PAGE 1 PARSING-----------\n"
     ]
    },
    {
     "name": "stderr",
     "output_type": "stream",
     "text": [
      "\r",
      " 37%|███▋      | 222/595 [05:26<09:09,  1.47s/it]"
     ]
    },
    {
     "name": "stdout",
     "output_type": "stream",
     "text": [
      "-----------9 reviews add to list. ListLen 9-----------\n",
      "-----------REVIEWS SHAPE: 9 @ 8 | RES DATA SHAPE: 4624 @ 8-----------\n",
      "------------------------------------------------------------------\n",
      "-----------PARSING REV FROM /msk/opinions/restaurants/cafebaralbom/ PAGE-----------\n",
      "-----------PAGE 1 PARSING-----------\n"
     ]
    },
    {
     "name": "stderr",
     "output_type": "stream",
     "text": [
      "\r",
      " 37%|███▋      | 223/595 [05:28<09:07,  1.47s/it]"
     ]
    },
    {
     "name": "stdout",
     "output_type": "stream",
     "text": [
      "-----------19 reviews add to list. ListLen 19-----------\n",
      "-----------REVIEWS SHAPE: 19 @ 8 | RES DATA SHAPE: 4643 @ 8-----------\n",
      "------------------------------------------------------------------\n",
      "-----------PARSING REV FROM /msk/opinions/restaurants/aprilcafe/ PAGE-----------\n",
      "-----------PAGE 1 PARSING-----------\n",
      "-----------20 reviews add to list. ListLen 20-----------\n",
      "-----------PAGE 2 PARSING-----------\n"
     ]
    },
    {
     "name": "stderr",
     "output_type": "stream",
     "text": [
      "\r",
      " 38%|███▊      | 224/595 [05:30<09:06,  1.47s/it]"
     ]
    },
    {
     "name": "stdout",
     "output_type": "stream",
     "text": [
      "-----------20 reviews add to list. ListLen 40-----------\n",
      "-----------REVIEWS SHAPE: 40 @ 8 | RES DATA SHAPE: 4683 @ 8-----------\n",
      "------------------------------------------------------------------\n",
      "-----------PARSING REV FROM /msk/opinions/restaurants/argo/ PAGE-----------\n",
      "-----------PAGE 1 PARSING-----------\n"
     ]
    },
    {
     "name": "stderr",
     "output_type": "stream",
     "text": [
      "\r",
      " 38%|███▊      | 225/595 [05:30<09:04,  1.47s/it]"
     ]
    },
    {
     "name": "stdout",
     "output_type": "stream",
     "text": [
      "-----------3 reviews add to list. ListLen 3-----------\n",
      "-----------REVIEWS SHAPE: 3 @ 8 | RES DATA SHAPE: 4686 @ 8-----------\n",
      "------------------------------------------------------------------\n",
      "-----------PARSING REV FROM /msk/opinions/restaurants/arenazil/ PAGE-----------\n",
      "-----------PAGE 1 PARSING-----------\n",
      "-----------20 reviews add to list. ListLen 20-----------\n",
      "-----------PAGE 2 PARSING-----------\n"
     ]
    },
    {
     "name": "stderr",
     "output_type": "stream",
     "text": [
      "\r",
      " 38%|███▊      | 226/595 [05:32<09:03,  1.47s/it]"
     ]
    },
    {
     "name": "stdout",
     "output_type": "stream",
     "text": [
      "-----------10 reviews add to list. ListLen 30-----------\n",
      "-----------REVIEWS SHAPE: 30 @ 8 | RES DATA SHAPE: 4716 @ 8-----------\n",
      "------------------------------------------------------------------\n",
      "-----------PARSING REV FROM /msk/opinions/restaurants/araratdog/ PAGE-----------\n",
      "-----------PAGE 1 PARSING-----------\n",
      "-----------20 reviews add to list. ListLen 20-----------\n",
      "-----------PAGE 2 PARSING-----------\n",
      "-----------20 reviews add to list. ListLen 40-----------\n",
      "-----------PAGE 3 PARSING-----------\n"
     ]
    },
    {
     "name": "stderr",
     "output_type": "stream",
     "text": [
      "\r",
      " 38%|███▊      | 227/595 [05:36<09:04,  1.48s/it]"
     ]
    },
    {
     "name": "stdout",
     "output_type": "stream",
     "text": [
      "-----------1 reviews add to list. ListLen 41-----------\n",
      "-----------REVIEWS SHAPE: 41 @ 8 | RES DATA SHAPE: 4757 @ 8-----------\n",
      "------------------------------------------------------------------\n",
      "-----------PARSING REV FROM /msk/opinions/restaurants/ariana/ PAGE-----------\n",
      "-----------PAGE 1 PARSING-----------\n"
     ]
    },
    {
     "name": "stderr",
     "output_type": "stream",
     "text": [
      "\r",
      " 38%|███▊      | 228/595 [05:37<09:02,  1.48s/it]"
     ]
    },
    {
     "name": "stdout",
     "output_type": "stream",
     "text": [
      "-----------14 reviews add to list. ListLen 14-----------\n",
      "-----------REVIEWS SHAPE: 14 @ 8 | RES DATA SHAPE: 4771 @ 8-----------\n",
      "------------------------------------------------------------------\n",
      "-----------PARSING REV FROM /msk/opinions/restaurants/nikola/ PAGE-----------\n",
      "-----------PAGE 1 PARSING-----------\n",
      "-----------20 reviews add to list. ListLen 20-----------\n",
      "-----------PAGE 2 PARSING-----------\n",
      "-----------20 reviews add to list. ListLen 40-----------\n",
      "-----------PAGE 3 PARSING-----------\n",
      "-----------20 reviews add to list. ListLen 60-----------\n",
      "-----------PAGE 4 PARSING-----------\n",
      "-----------20 reviews add to list. ListLen 80-----------\n",
      "-----------PAGE 5 PARSING-----------\n"
     ]
    },
    {
     "name": "stderr",
     "output_type": "stream",
     "text": [
      "\r",
      " 38%|███▊      | 229/595 [05:42<09:07,  1.49s/it]"
     ]
    },
    {
     "name": "stdout",
     "output_type": "stream",
     "text": [
      "-----------16 reviews add to list. ListLen 96-----------\n",
      "-----------REVIEWS SHAPE: 96 @ 8 | RES DATA SHAPE: 4867 @ 8-----------\n",
      "------------------------------------------------------------------\n",
      "-----------PARSING REV FROM /msk/opinions/restaurants/annenfeld/ PAGE-----------\n",
      "-----------PAGE 1 PARSING-----------\n",
      "-----------20 reviews add to list. ListLen 20-----------\n",
      "-----------PAGE 2 PARSING-----------\n",
      "-----------20 reviews add to list. ListLen 40-----------\n",
      "-----------PAGE 3 PARSING-----------\n"
     ]
    },
    {
     "name": "stderr",
     "output_type": "stream",
     "text": [
      "\r",
      " 39%|███▊      | 230/595 [05:46<09:09,  1.51s/it]"
     ]
    },
    {
     "name": "stdout",
     "output_type": "stream",
     "text": [
      "-----------5 reviews add to list. ListLen 45-----------\n",
      "-----------REVIEWS SHAPE: 45 @ 8 | RES DATA SHAPE: 4912 @ 8-----------\n",
      "------------------------------------------------------------------\n",
      "-----------PARSING REV FROM /msk/opinions/restaurants/babamarta/ PAGE-----------\n",
      "-----------PAGE 1 PARSING-----------\n"
     ]
    },
    {
     "name": "stderr",
     "output_type": "stream",
     "text": [
      "\r",
      " 39%|███▉      | 231/595 [05:47<09:07,  1.50s/it]"
     ]
    },
    {
     "name": "stdout",
     "output_type": "stream",
     "text": [
      "-----------18 reviews add to list. ListLen 18-----------\n",
      "-----------REVIEWS SHAPE: 18 @ 8 | RES DATA SHAPE: 4930 @ 8-----------\n",
      "------------------------------------------------------------------\n",
      "-----------PARSING REV FROM /msk/opinions/restaurants/balkon/ PAGE-----------\n",
      "-----------PAGE 1 PARSING-----------\n"
     ]
    },
    {
     "name": "stderr",
     "output_type": "stream",
     "text": [
      "\r",
      " 39%|███▉      | 232/595 [05:48<09:05,  1.50s/it]"
     ]
    },
    {
     "name": "stdout",
     "output_type": "stream",
     "text": [
      "-----------4 reviews add to list. ListLen 4-----------\n",
      "-----------REVIEWS SHAPE: 4 @ 8 | RES DATA SHAPE: 4934 @ 8-----------\n",
      "------------------------------------------------------------------\n",
      "-----------PARSING REV FROM /msk/opinions/restaurants/staryy_skver/ PAGE-----------\n",
      "-----------PAGE 1 PARSING-----------\n"
     ]
    },
    {
     "name": "stderr",
     "output_type": "stream",
     "text": [
      "\r",
      " 39%|███▉      | 233/595 [05:49<09:02,  1.50s/it]"
     ]
    },
    {
     "name": "stdout",
     "output_type": "stream",
     "text": [
      "-----------2 reviews add to list. ListLen 2-----------\n",
      "-----------REVIEWS SHAPE: 2 @ 8 | RES DATA SHAPE: 4936 @ 8-----------\n",
      "------------------------------------------------------------------\n",
      "-----------PARSING REV FROM /msk/opinions/restaurants/bakinskaya_zhemchuzhina/ PAGE-----------\n",
      "-----------PAGE 1 PARSING-----------\n"
     ]
    },
    {
     "name": "stderr",
     "output_type": "stream",
     "text": [
      "\r",
      " 39%|███▉      | 234/595 [05:50<09:00,  1.50s/it]"
     ]
    },
    {
     "name": "stdout",
     "output_type": "stream",
     "text": [
      "-----------2 reviews add to list. ListLen 2-----------\n",
      "-----------REVIEWS SHAPE: 2 @ 8 | RES DATA SHAPE: 4938 @ 8-----------\n",
      "------------------------------------------------------------------\n",
      "-----------PARSING REV FROM /msk/opinions/restaurants/acha_chacha/ PAGE-----------\n",
      "-----------PAGE 1 PARSING-----------\n"
     ]
    },
    {
     "name": "stderr",
     "output_type": "stream",
     "text": [
      "\r",
      " 39%|███▉      | 235/595 [05:51<08:58,  1.49s/it]"
     ]
    },
    {
     "name": "stdout",
     "output_type": "stream",
     "text": [
      "-----------14 reviews add to list. ListLen 14-----------\n",
      "-----------REVIEWS SHAPE: 14 @ 8 | RES DATA SHAPE: 4952 @ 8-----------\n",
      "------------------------------------------------------------------\n",
      "-----------PARSING REV FROM /msk/opinions/restaurants/bav/ PAGE-----------\n",
      "-----------PAGE 1 PARSING-----------\n"
     ]
    },
    {
     "name": "stderr",
     "output_type": "stream",
     "text": [
      "\r",
      " 40%|███▉      | 236/595 [05:52<08:55,  1.49s/it]"
     ]
    },
    {
     "name": "stdout",
     "output_type": "stream",
     "text": [
      "-----------12 reviews add to list. ListLen 12-----------\n",
      "-----------REVIEWS SHAPE: 12 @ 8 | RES DATA SHAPE: 4964 @ 8-----------\n",
      "------------------------------------------------------------------\n",
      "-----------PARSING REV FROM /msk/opinions/restaurants/ba/ PAGE-----------\n",
      "-----------PAGE 1 PARSING-----------\n"
     ]
    },
    {
     "name": "stderr",
     "output_type": "stream",
     "text": [
      "\r",
      " 40%|███▉      | 237/595 [05:53<08:53,  1.49s/it]"
     ]
    },
    {
     "name": "stdout",
     "output_type": "stream",
     "text": [
      "-----------16 reviews add to list. ListLen 16-----------\n",
      "-----------REVIEWS SHAPE: 16 @ 8 | RES DATA SHAPE: 4980 @ 8-----------\n",
      "------------------------------------------------------------------\n",
      "-----------PARSING REV FROM /msk/opinions/restaurants/bakudvor/ PAGE-----------\n",
      "-----------PAGE 1 PARSING-----------\n",
      "-----------20 reviews add to list. ListLen 20-----------\n",
      "-----------PAGE 2 PARSING-----------\n",
      "-----------20 reviews add to list. ListLen 40-----------\n",
      "-----------PAGE 3 PARSING-----------\n",
      "-----------20 reviews add to list. ListLen 60-----------\n",
      "-----------PAGE 4 PARSING-----------\n",
      "-----------20 reviews add to list. ListLen 80-----------\n",
      "-----------PAGE 5 PARSING-----------\n",
      "-----------20 reviews add to list. ListLen 100-----------\n",
      "-----------PAGE 6 PARSING-----------\n",
      "-----------20 reviews add to list. ListLen 120-----------\n",
      "-----------PAGE 7 PARSING-----------\n",
      "-----------20 reviews add to list. ListLen 140-----------\n",
      "-----------PAGE 8 PARSING-----------\n",
      "-----------20 reviews add to list. ListLen 160-----------\n",
      "-----------PAGE 9 PARSING-----------\n",
      "-----------20 reviews add to list. ListLen 180-----------\n"
     ]
    },
    {
     "name": "stderr",
     "output_type": "stream",
     "text": [
      "\r",
      " 40%|████      | 238/595 [06:03<09:04,  1.53s/it]"
     ]
    },
    {
     "name": "stdout",
     "output_type": "stream",
     "text": [
      "-----------REVIEWS SHAPE: 180 @ 8 | RES DATA SHAPE: 5160 @ 8-----------\n",
      "------------------------------------------------------------------\n",
      "-----------PARSING REV FROM /msk/opinions/restaurants/b12/ PAGE-----------\n",
      "-----------PAGE 1 PARSING-----------\n",
      "-----------20 reviews add to list. ListLen 20-----------\n",
      "-----------PAGE 2 PARSING-----------\n"
     ]
    },
    {
     "name": "stderr",
     "output_type": "stream",
     "text": [
      "\r",
      " 40%|████      | 239/595 [06:05<09:04,  1.53s/it]"
     ]
    },
    {
     "name": "stdout",
     "output_type": "stream",
     "text": [
      "-----------9 reviews add to list. ListLen 29-----------\n",
      "-----------REVIEWS SHAPE: 29 @ 8 | RES DATA SHAPE: 5189 @ 8-----------\n",
      "------------------------------------------------------------------\n",
      "-----------PARSING REV FROM /msk/opinions/restaurants/baxtrioni/ PAGE-----------\n",
      "-----------PAGE 1 PARSING-----------\n",
      "-----------20 reviews add to list. ListLen 20-----------\n",
      "-----------PAGE 2 PARSING-----------\n"
     ]
    },
    {
     "name": "stderr",
     "output_type": "stream",
     "text": [
      "\r",
      " 40%|████      | 240/595 [06:07<09:04,  1.53s/it]"
     ]
    },
    {
     "name": "stdout",
     "output_type": "stream",
     "text": [
      "-----------13 reviews add to list. ListLen 33-----------\n",
      "-----------REVIEWS SHAPE: 33 @ 8 | RES DATA SHAPE: 5222 @ 8-----------\n",
      "------------------------------------------------------------------\n",
      "-----------PARSING REV FROM /msk/opinions/restaurants/imperiya_banketholl/ PAGE-----------\n",
      "-----------PAGE 1 PARSING-----------\n",
      "-----------20 reviews add to list. ListLen 20-----------\n",
      "-----------PAGE 2 PARSING-----------\n"
     ]
    },
    {
     "name": "stderr",
     "output_type": "stream",
     "text": [
      "\r",
      " 41%|████      | 241/595 [06:10<09:03,  1.54s/it]"
     ]
    },
    {
     "name": "stdout",
     "output_type": "stream",
     "text": [
      "-----------17 reviews add to list. ListLen 37-----------\n",
      "-----------REVIEWS SHAPE: 37 @ 8 | RES DATA SHAPE: 5259 @ 8-----------\n",
      "------------------------------------------------------------------\n",
      "-----------PARSING REV FROM /msk/opinions/restaurants/biblioteka/ PAGE-----------\n",
      "-----------PAGE 1 PARSING-----------\n"
     ]
    },
    {
     "name": "stderr",
     "output_type": "stream",
     "text": [
      "\r",
      " 41%|████      | 242/595 [06:11<09:01,  1.53s/it]"
     ]
    },
    {
     "name": "stdout",
     "output_type": "stream",
     "text": [
      "-----------15 reviews add to list. ListLen 15-----------\n",
      "-----------REVIEWS SHAPE: 15 @ 8 | RES DATA SHAPE: 5274 @ 8-----------\n",
      "------------------------------------------------------------------\n",
      "-----------PARSING REV FROM /msk/opinions/restaurants/bsp/ PAGE-----------\n",
      "-----------PAGE 1 PARSING-----------\n",
      "-----------20 reviews add to list. ListLen 20-----------\n",
      "-----------PAGE 2 PARSING-----------\n"
     ]
    },
    {
     "name": "stderr",
     "output_type": "stream",
     "text": [
      "\r",
      " 41%|████      | 243/595 [06:13<09:01,  1.54s/it]"
     ]
    },
    {
     "name": "stdout",
     "output_type": "stream",
     "text": [
      "-----------20 reviews add to list. ListLen 40-----------\n",
      "-----------REVIEWS SHAPE: 40 @ 8 | RES DATA SHAPE: 5314 @ 8-----------\n",
      "------------------------------------------------------------------\n",
      "-----------PARSING REV FROM /msk/opinions/restaurants/br/ PAGE-----------\n",
      "-----------PAGE 1 PARSING-----------\n"
     ]
    },
    {
     "name": "stderr",
     "output_type": "stream",
     "text": [
      "\r",
      " 41%|████      | 244/595 [06:15<08:59,  1.54s/it]"
     ]
    },
    {
     "name": "stdout",
     "output_type": "stream",
     "text": [
      "-----------17 reviews add to list. ListLen 17-----------\n",
      "-----------REVIEWS SHAPE: 17 @ 8 | RES DATA SHAPE: 5331 @ 8-----------\n",
      "------------------------------------------------------------------\n",
      "-----------PARSING REV FROM /msk/opinions/restaurants/bayazet/ PAGE-----------\n",
      "-----------PAGE 1 PARSING-----------\n"
     ]
    },
    {
     "name": "stderr",
     "output_type": "stream",
     "text": [
      "\r",
      " 41%|████      | 245/595 [06:16<08:57,  1.54s/it]"
     ]
    },
    {
     "name": "stdout",
     "output_type": "stream",
     "text": [
      "-----------7 reviews add to list. ListLen 7-----------\n",
      "-----------REVIEWS SHAPE: 7 @ 8 | RES DATA SHAPE: 5338 @ 8-----------\n",
      "------------------------------------------------------------------\n",
      "-----------PARSING REV FROM /msk/opinions/restaurants/birodromm/ PAGE-----------\n",
      "-----------PAGE 1 PARSING-----------\n"
     ]
    },
    {
     "name": "stderr",
     "output_type": "stream",
     "text": [
      "\r",
      " 41%|████▏     | 246/595 [06:17<08:55,  1.53s/it]"
     ]
    },
    {
     "name": "stdout",
     "output_type": "stream",
     "text": [
      "-----------13 reviews add to list. ListLen 13-----------\n",
      "-----------REVIEWS SHAPE: 13 @ 8 | RES DATA SHAPE: 5351 @ 8-----------\n",
      "------------------------------------------------------------------\n",
      "-----------PARSING REV FROM /msk/opinions/restaurants/cafebutterfly/ PAGE-----------\n",
      "-----------PAGE 1 PARSING-----------\n"
     ]
    },
    {
     "name": "stderr",
     "output_type": "stream",
     "text": [
      "\r",
      " 42%|████▏     | 247/595 [06:18<08:53,  1.53s/it]"
     ]
    },
    {
     "name": "stdout",
     "output_type": "stream",
     "text": [
      "-----------19 reviews add to list. ListLen 19-----------\n",
      "-----------REVIEWS SHAPE: 19 @ 8 | RES DATA SHAPE: 5370 @ 8-----------\n",
      "------------------------------------------------------------------\n",
      "-----------PARSING REV FROM /msk/opinions/restaurants/beerstrasse/ PAGE-----------\n",
      "-----------PAGE 1 PARSING-----------\n"
     ]
    },
    {
     "name": "stderr",
     "output_type": "stream",
     "text": [
      "\r",
      " 42%|████▏     | 248/595 [06:19<08:51,  1.53s/it]"
     ]
    },
    {
     "name": "stdout",
     "output_type": "stream",
     "text": [
      "-----------10 reviews add to list. ListLen 10-----------\n",
      "-----------REVIEWS SHAPE: 10 @ 8 | RES DATA SHAPE: 5380 @ 8-----------\n",
      "------------------------------------------------------------------\n",
      "-----------PARSING REV FROM /msk/opinions/restaurants/lambicbar_pr_mira/ PAGE-----------\n",
      "-----------PAGE 1 PARSING-----------\n"
     ]
    },
    {
     "name": "stderr",
     "output_type": "stream",
     "text": [
      "\r",
      " 42%|████▏     | 249/595 [06:20<08:48,  1.53s/it]"
     ]
    },
    {
     "name": "stdout",
     "output_type": "stream",
     "text": [
      "-----------6 reviews add to list. ListLen 6-----------\n",
      "-----------REVIEWS SHAPE: 6 @ 8 | RES DATA SHAPE: 5386 @ 8-----------\n",
      "------------------------------------------------------------------\n",
      "-----------PARSING REV FROM /msk/opinions/restaurants/lambicbar_dolgorukovskaya/ PAGE-----------\n",
      "-----------PAGE 1 PARSING-----------\n"
     ]
    },
    {
     "name": "stderr",
     "output_type": "stream",
     "text": [
      "\r",
      " 42%|████▏     | 250/595 [06:21<08:46,  1.53s/it]"
     ]
    },
    {
     "name": "stdout",
     "output_type": "stream",
     "text": [
      "-----------3 reviews add to list. ListLen 3-----------\n",
      "-----------REVIEWS SHAPE: 3 @ 8 | RES DATA SHAPE: 5389 @ 8-----------\n",
      "------------------------------------------------------------------\n",
      "-----------PARSING REV FROM /msk/opinions/restaurants/anti-cafe_time/ PAGE-----------\n",
      "-----------PAGE 1 PARSING-----------\n"
     ]
    },
    {
     "name": "stderr",
     "output_type": "stream",
     "text": [
      "\r",
      " 42%|████▏     | 251/595 [06:22<08:43,  1.52s/it]"
     ]
    },
    {
     "name": "stdout",
     "output_type": "stream",
     "text": [
      "-----------2 reviews add to list. ListLen 2-----------\n",
      "-----------REVIEWS SHAPE: 2 @ 8 | RES DATA SHAPE: 5391 @ 8-----------\n",
      "------------------------------------------------------------------\n",
      "-----------PARSING REV FROM /msk/opinions/restaurants/braziliya/ PAGE-----------\n",
      "-----------PAGE 1 PARSING-----------\n"
     ]
    },
    {
     "name": "stderr",
     "output_type": "stream",
     "text": [
      "\r",
      " 42%|████▏     | 252/595 [06:23<08:41,  1.52s/it]"
     ]
    },
    {
     "name": "stdout",
     "output_type": "stream",
     "text": [
      "-----------3 reviews add to list. ListLen 3-----------\n",
      "-----------REVIEWS SHAPE: 3 @ 8 | RES DATA SHAPE: 5394 @ 8-----------\n",
      "------------------------------------------------------------------\n",
      "-----------PARSING REV FROM /msk/opinions/restaurants/botchka/ PAGE-----------\n",
      "-----------PAGE 1 PARSING-----------\n"
     ]
    },
    {
     "name": "stderr",
     "output_type": "stream",
     "text": [
      "\r",
      " 43%|████▎     | 253/595 [06:24<08:39,  1.52s/it]"
     ]
    },
    {
     "name": "stdout",
     "output_type": "stream",
     "text": [
      "-----------10 reviews add to list. ListLen 10-----------\n",
      "-----------REVIEWS SHAPE: 10 @ 8 | RES DATA SHAPE: 5404 @ 8-----------\n",
      "------------------------------------------------------------------\n",
      "-----------PARSING REV FROM /msk/opinions/restaurants/boyarski/ PAGE-----------\n",
      "-----------PAGE 1 PARSING-----------\n",
      "-----------20 reviews add to list. ListLen 20-----------\n",
      "-----------PAGE 2 PARSING-----------\n",
      "-----------20 reviews add to list. ListLen 40-----------\n",
      "-----------PAGE 3 PARSING-----------\n"
     ]
    },
    {
     "name": "stderr",
     "output_type": "stream",
     "text": [
      "\r",
      " 43%|████▎     | 254/595 [06:27<08:40,  1.53s/it]"
     ]
    },
    {
     "name": "stdout",
     "output_type": "stream",
     "text": [
      "-----------18 reviews add to list. ListLen 58-----------\n",
      "-----------REVIEWS SHAPE: 58 @ 8 | RES DATA SHAPE: 5462 @ 8-----------\n",
      "------------------------------------------------------------------\n",
      "-----------PARSING REV FROM /msk/opinions/restaurants/boemi/ PAGE-----------\n",
      "-----------PAGE 1 PARSING-----------\n",
      "-----------20 reviews add to list. ListLen 20-----------\n",
      "-----------PAGE 2 PARSING-----------\n",
      "-----------20 reviews add to list. ListLen 40-----------\n",
      "-----------PAGE 3 PARSING-----------\n"
     ]
    },
    {
     "name": "stderr",
     "output_type": "stream",
     "text": [
      "\r",
      " 43%|████▎     | 255/595 [06:30<08:40,  1.53s/it]"
     ]
    },
    {
     "name": "stdout",
     "output_type": "stream",
     "text": [
      "-----------16 reviews add to list. ListLen 56-----------\n",
      "-----------REVIEWS SHAPE: 56 @ 8 | RES DATA SHAPE: 5518 @ 8-----------\n",
      "------------------------------------------------------------------\n",
      "-----------PARSING REV FROM /msk/opinions/restaurants/buyabes/ PAGE-----------\n",
      "-----------PAGE 1 PARSING-----------\n"
     ]
    },
    {
     "name": "stderr",
     "output_type": "stream",
     "text": [
      "\r",
      " 43%|████▎     | 256/595 [06:31<08:38,  1.53s/it]"
     ]
    },
    {
     "name": "stdout",
     "output_type": "stream",
     "text": [
      "-----------13 reviews add to list. ListLen 13-----------\n",
      "-----------REVIEWS SHAPE: 13 @ 8 | RES DATA SHAPE: 5531 @ 8-----------\n",
      "------------------------------------------------------------------\n",
      "-----------PARSING REV FROM /msk/opinions/restaurants/bumagabar/ PAGE-----------\n",
      "-----------PAGE 1 PARSING-----------\n"
     ]
    },
    {
     "name": "stderr",
     "output_type": "stream",
     "text": [
      "\r",
      " 43%|████▎     | 257/595 [06:32<08:36,  1.53s/it]"
     ]
    },
    {
     "name": "stdout",
     "output_type": "stream",
     "text": [
      "-----------12 reviews add to list. ListLen 12-----------\n",
      "-----------REVIEWS SHAPE: 12 @ 8 | RES DATA SHAPE: 5543 @ 8-----------\n",
      "------------------------------------------------------------------\n",
      "-----------PARSING REV FROM /msk/opinions/restaurants/bukingempub/ PAGE-----------\n",
      "-----------PAGE 1 PARSING-----------\n"
     ]
    },
    {
     "name": "stderr",
     "output_type": "stream",
     "text": [
      "\r",
      " 43%|████▎     | 258/595 [06:33<08:34,  1.53s/it]"
     ]
    },
    {
     "name": "stdout",
     "output_type": "stream",
     "text": [
      "-----------2 reviews add to list. ListLen 2-----------\n",
      "-----------REVIEWS SHAPE: 2 @ 8 | RES DATA SHAPE: 5545 @ 8-----------\n",
      "------------------------------------------------------------------\n",
      "-----------PARSING REV FROM /msk/opinions/restaurants/buloshnaya_rest/ PAGE-----------\n",
      "-----------PAGE 1 PARSING-----------\n"
     ]
    },
    {
     "name": "stderr",
     "output_type": "stream",
     "text": [
      "\r",
      " 44%|████▎     | 259/595 [06:34<08:32,  1.52s/it]"
     ]
    },
    {
     "name": "stdout",
     "output_type": "stream",
     "text": [
      "-----------5 reviews add to list. ListLen 5-----------\n",
      "-----------REVIEWS SHAPE: 5 @ 8 | RES DATA SHAPE: 5550 @ 8-----------\n",
      "------------------------------------------------------------------\n",
      "-----------PARSING REV FROM /msk/opinions/restaurants/bryanskiy-byk/ PAGE-----------\n",
      "-----------PAGE 1 PARSING-----------\n"
     ]
    },
    {
     "name": "stderr",
     "output_type": "stream",
     "text": [
      "\r",
      " 44%|████▎     | 260/595 [06:35<08:30,  1.52s/it]"
     ]
    },
    {
     "name": "stdout",
     "output_type": "stream",
     "text": [
      "-----------5 reviews add to list. ListLen 5-----------\n",
      "-----------REVIEWS SHAPE: 5 @ 8 | RES DATA SHAPE: 5555 @ 8-----------\n",
      "------------------------------------------------------------------\n",
      "-----------PARSING REV FROM /msk/opinions/restaurants/bulvar-shashlyk-siti/ PAGE-----------\n",
      "-----------PAGE 1 PARSING-----------\n"
     ]
    },
    {
     "name": "stderr",
     "output_type": "stream",
     "text": [
      "\r",
      " 44%|████▍     | 261/595 [06:36<08:27,  1.52s/it]"
     ]
    },
    {
     "name": "stdout",
     "output_type": "stream",
     "text": [
      "-----------12 reviews add to list. ListLen 12-----------\n",
      "-----------REVIEWS SHAPE: 12 @ 8 | RES DATA SHAPE: 5567 @ 8-----------\n",
      "------------------------------------------------------------------\n",
      "-----------PARSING REV FROM /msk/opinions/restaurants/burger/ PAGE-----------\n",
      "-----------PAGE 1 PARSING-----------\n",
      "-----------20 reviews add to list. ListLen 20-----------\n",
      "-----------PAGE 2 PARSING-----------\n"
     ]
    },
    {
     "name": "stderr",
     "output_type": "stream",
     "text": [
      "\r",
      " 44%|████▍     | 262/595 [06:38<08:27,  1.52s/it]"
     ]
    },
    {
     "name": "stdout",
     "output_type": "stream",
     "text": [
      "-----------3 reviews add to list. ListLen 23-----------\n",
      "-----------REVIEWS SHAPE: 23 @ 8 | RES DATA SHAPE: 5590 @ 8-----------\n",
      "------------------------------------------------------------------\n",
      "-----------PARSING REV FROM /msk/opinions/restaurants/budweiser_budvar/ PAGE-----------\n",
      "-----------PAGE 1 PARSING-----------\n"
     ]
    },
    {
     "name": "stderr",
     "output_type": "stream",
     "text": [
      "\r",
      " 44%|████▍     | 263/595 [06:39<08:24,  1.52s/it]"
     ]
    },
    {
     "name": "stdout",
     "output_type": "stream",
     "text": [
      "-----------15 reviews add to list. ListLen 15-----------\n",
      "-----------REVIEWS SHAPE: 15 @ 8 | RES DATA SHAPE: 5605 @ 8-----------\n",
      "------------------------------------------------------------------\n",
      "-----------PARSING REV FROM /msk/opinions/restaurants/bul_var/ PAGE-----------\n",
      "-----------PAGE 1 PARSING-----------\n"
     ]
    },
    {
     "name": "stderr",
     "output_type": "stream",
     "text": [
      "\r",
      " 44%|████▍     | 264/595 [06:41<08:22,  1.52s/it]"
     ]
    },
    {
     "name": "stdout",
     "output_type": "stream",
     "text": [
      "-----------12 reviews add to list. ListLen 12-----------\n",
      "-----------REVIEWS SHAPE: 12 @ 8 | RES DATA SHAPE: 5617 @ 8-----------\n",
      "------------------------------------------------------------------\n",
      "-----------PARSING REV FROM /msk/opinions/restaurants/bruder/ PAGE-----------\n",
      "-----------PAGE 1 PARSING-----------\n",
      "-----------20 reviews add to list. ListLen 20-----------\n",
      "-----------PAGE 2 PARSING-----------\n"
     ]
    },
    {
     "name": "stderr",
     "output_type": "stream",
     "text": [
      "\r",
      " 45%|████▍     | 265/595 [06:43<08:21,  1.52s/it]"
     ]
    },
    {
     "name": "stdout",
     "output_type": "stream",
     "text": [
      "-----------11 reviews add to list. ListLen 31-----------\n",
      "-----------REVIEWS SHAPE: 31 @ 8 | RES DATA SHAPE: 5648 @ 8-----------\n",
      "------------------------------------------------------------------\n",
      "-----------PARSING REV FROM /msk/opinions/restaurants/veranda_3205/ PAGE-----------\n",
      "-----------PAGE 1 PARSING-----------\n"
     ]
    },
    {
     "name": "stderr",
     "output_type": "stream",
     "text": [
      "\r",
      " 45%|████▍     | 266/595 [06:44<08:19,  1.52s/it]"
     ]
    },
    {
     "name": "stdout",
     "output_type": "stream",
     "text": [
      "-----------6 reviews add to list. ListLen 6-----------\n",
      "-----------REVIEWS SHAPE: 6 @ 8 | RES DATA SHAPE: 5654 @ 8-----------\n",
      "------------------------------------------------------------------\n",
      "-----------PARSING REV FROM /msk/opinions/restaurants/arbat38/ PAGE-----------\n",
      "-----------PAGE 1 PARSING-----------\n"
     ]
    },
    {
     "name": "stderr",
     "output_type": "stream",
     "text": [
      "\r",
      " 45%|████▍     | 267/595 [06:45<08:17,  1.52s/it]"
     ]
    },
    {
     "name": "stdout",
     "output_type": "stream",
     "text": [
      "-----------18 reviews add to list. ListLen 18-----------\n",
      "-----------REVIEWS SHAPE: 18 @ 8 | RES DATA SHAPE: 5672 @ 8-----------\n",
      "------------------------------------------------------------------\n",
      "-----------PARSING REV FROM /msk/opinions/restaurants/cervetti/ PAGE-----------\n",
      "-----------PAGE 1 PARSING-----------\n"
     ]
    },
    {
     "name": "stderr",
     "output_type": "stream",
     "text": [
      "\r",
      " 45%|████▌     | 268/595 [06:46<08:15,  1.52s/it]"
     ]
    },
    {
     "name": "stdout",
     "output_type": "stream",
     "text": [
      "-----------11 reviews add to list. ListLen 11-----------\n",
      "-----------REVIEWS SHAPE: 11 @ 8 | RES DATA SHAPE: 5683 @ 8-----------\n",
      "------------------------------------------------------------------\n",
      "-----------PARSING REV FROM /msk/opinions/restaurants/vkys-vostoka/ PAGE-----------\n",
      "-----------PAGE 1 PARSING-----------\n"
     ]
    },
    {
     "name": "stderr",
     "output_type": "stream",
     "text": [
      "\r",
      " 45%|████▌     | 269/595 [06:47<08:13,  1.51s/it]"
     ]
    },
    {
     "name": "stdout",
     "output_type": "stream",
     "text": [
      "-----------5 reviews add to list. ListLen 5-----------\n",
      "-----------REVIEWS SHAPE: 5 @ 8 | RES DATA SHAPE: 5688 @ 8-----------\n",
      "------------------------------------------------------------------\n",
      "-----------PARSING REV FROM /msk/opinions/restaurants/venecia/ PAGE-----------\n",
      "-----------PAGE 1 PARSING-----------\n"
     ]
    },
    {
     "name": "stderr",
     "output_type": "stream",
     "text": [
      "\r",
      " 45%|████▌     | 270/595 [06:48<08:11,  1.51s/it]"
     ]
    },
    {
     "name": "stdout",
     "output_type": "stream",
     "text": [
      "-----------2 reviews add to list. ListLen 2-----------\n",
      "-----------REVIEWS SHAPE: 2 @ 8 | RES DATA SHAPE: 5690 @ 8-----------\n",
      "------------------------------------------------------------------\n",
      "-----------PARSING REV FROM /msk/opinions/restaurants/vechera_na_khutore_korchma/ PAGE-----------\n",
      "-----------PAGE 1 PARSING-----------\n"
     ]
    },
    {
     "name": "stderr",
     "output_type": "stream",
     "text": [
      "\r",
      " 46%|████▌     | 271/595 [06:49<08:09,  1.51s/it]"
     ]
    },
    {
     "name": "stdout",
     "output_type": "stream",
     "text": [
      "-----------8 reviews add to list. ListLen 8-----------\n",
      "-----------REVIEWS SHAPE: 8 @ 8 | RES DATA SHAPE: 5698 @ 8-----------\n",
      "------------------------------------------------------------------\n",
      "-----------PARSING REV FROM /msk/opinions/restaurants/vechernie_ogni/ PAGE-----------\n",
      "-----------PAGE 1 PARSING-----------\n"
     ]
    },
    {
     "name": "stderr",
     "output_type": "stream",
     "text": [
      "\r",
      " 46%|████▌     | 272/595 [06:50<08:07,  1.51s/it]"
     ]
    },
    {
     "name": "stdout",
     "output_type": "stream",
     "text": [
      "-----------15 reviews add to list. ListLen 15-----------\n",
      "-----------REVIEWS SHAPE: 15 @ 8 | RES DATA SHAPE: 5713 @ 8-----------\n",
      "------------------------------------------------------------------\n",
      "-----------PARSING REV FROM /msk/opinions/restaurants/vinnyy_bufet/ PAGE-----------\n",
      "-----------PAGE 1 PARSING-----------\n"
     ]
    },
    {
     "name": "stderr",
     "output_type": "stream",
     "text": [
      "\r",
      " 46%|████▌     | 273/595 [06:51<08:05,  1.51s/it]"
     ]
    },
    {
     "name": "stdout",
     "output_type": "stream",
     "text": [
      "-----------7 reviews add to list. ListLen 7-----------\n",
      "-----------REVIEWS SHAPE: 7 @ 8 | RES DATA SHAPE: 5720 @ 8-----------\n",
      "------------------------------------------------------------------\n",
      "-----------PARSING REV FROM /msk/opinions/restaurants/vishnevaya_metel/ PAGE-----------\n",
      "-----------PAGE 1 PARSING-----------\n"
     ]
    },
    {
     "name": "stderr",
     "output_type": "stream",
     "text": [
      "\r",
      " 46%|████▌     | 274/595 [06:52<08:03,  1.51s/it]"
     ]
    },
    {
     "name": "stdout",
     "output_type": "stream",
     "text": [
      "-----------4 reviews add to list. ListLen 4-----------\n",
      "-----------REVIEWS SHAPE: 4 @ 8 | RES DATA SHAPE: 5724 @ 8-----------\n",
      "------------------------------------------------------------------\n",
      "-----------PARSING REV FROM /msk/opinions/restaurants/vanilnoenebo/ PAGE-----------\n",
      "-----------PAGE 1 PARSING-----------\n",
      "-----------20 reviews add to list. ListLen 20-----------\n",
      "-----------PAGE 2 PARSING-----------\n",
      "-----------20 reviews add to list. ListLen 40-----------\n",
      "-----------PAGE 3 PARSING-----------\n",
      "-----------20 reviews add to list. ListLen 60-----------\n",
      "-----------PAGE 4 PARSING-----------\n",
      "-----------20 reviews add to list. ListLen 80-----------\n",
      "-----------PAGE 5 PARSING-----------\n"
     ]
    },
    {
     "name": "stderr",
     "output_type": "stream",
     "text": [
      "\r",
      " 46%|████▌     | 275/595 [06:57<08:06,  1.52s/it]"
     ]
    },
    {
     "name": "stdout",
     "output_type": "stream",
     "text": [
      "-----------8 reviews add to list. ListLen 88-----------\n",
      "-----------REVIEWS SHAPE: 88 @ 8 | RES DATA SHAPE: 5812 @ 8-----------\n",
      "------------------------------------------------------------------\n",
      "-----------PARSING REV FROM /msk/opinions/restaurants/vizantiy/ PAGE-----------\n",
      "-----------PAGE 1 PARSING-----------\n",
      "-----------20 reviews add to list. ListLen 20-----------\n",
      "-----------PAGE 2 PARSING-----------\n",
      "-----------20 reviews add to list. ListLen 40-----------\n",
      "-----------PAGE 3 PARSING-----------\n",
      "-----------20 reviews add to list. ListLen 60-----------\n",
      "-----------PAGE 4 PARSING-----------\n"
     ]
    },
    {
     "name": "stderr",
     "output_type": "stream",
     "text": [
      "\r",
      " 46%|████▋     | 276/595 [07:02<08:08,  1.53s/it]"
     ]
    },
    {
     "name": "stdout",
     "output_type": "stream",
     "text": [
      "-----------20 reviews add to list. ListLen 80-----------\n",
      "-----------REVIEWS SHAPE: 80 @ 8 | RES DATA SHAPE: 5892 @ 8-----------\n",
      "------------------------------------------------------------------\n",
      "-----------PARSING REV FROM /msk/opinions/restaurants/victory/ PAGE-----------\n",
      "-----------PAGE 1 PARSING-----------\n",
      "-----------20 reviews add to list. ListLen 20-----------\n",
      "-----------PAGE 2 PARSING-----------\n",
      "-----------20 reviews add to list. ListLen 40-----------\n",
      "-----------PAGE 3 PARSING-----------\n"
     ]
    },
    {
     "name": "stderr",
     "output_type": "stream",
     "text": [
      "\r",
      " 47%|████▋     | 277/595 [07:05<08:08,  1.54s/it]"
     ]
    },
    {
     "name": "stdout",
     "output_type": "stream",
     "text": [
      "-----------18 reviews add to list. ListLen 58-----------\n",
      "-----------REVIEWS SHAPE: 58 @ 8 | RES DATA SHAPE: 5950 @ 8-----------\n",
      "------------------------------------------------------------------\n",
      "-----------PARSING REV FROM /msk/opinions/restaurants/vegas/ PAGE-----------\n",
      "-----------PAGE 1 PARSING-----------\n",
      "-----------20 reviews add to list. ListLen 20-----------\n",
      "-----------PAGE 2 PARSING-----------\n"
     ]
    },
    {
     "name": "stderr",
     "output_type": "stream",
     "text": [
      "\r",
      " 47%|████▋     | 278/595 [07:08<08:08,  1.54s/it]"
     ]
    },
    {
     "name": "stdout",
     "output_type": "stream",
     "text": [
      "-----------13 reviews add to list. ListLen 33-----------\n",
      "-----------REVIEWS SHAPE: 33 @ 8 | RES DATA SHAPE: 5983 @ 8-----------\n",
      "------------------------------------------------------------------\n",
      "-----------PARSING REV FROM /msk/opinions/restaurants/vesta/ PAGE-----------\n",
      "-----------PAGE 1 PARSING-----------\n",
      "-----------20 reviews add to list. ListLen 20-----------\n",
      "-----------PAGE 2 PARSING-----------\n",
      "-----------20 reviews add to list. ListLen 40-----------\n",
      "-----------PAGE 3 PARSING-----------\n",
      "-----------20 reviews add to list. ListLen 60-----------\n",
      "-----------PAGE 4 PARSING-----------\n"
     ]
    },
    {
     "name": "stderr",
     "output_type": "stream",
     "text": [
      "\r",
      " 47%|████▋     | 279/595 [07:12<08:09,  1.55s/it]"
     ]
    },
    {
     "name": "stdout",
     "output_type": "stream",
     "text": [
      "-----------13 reviews add to list. ListLen 73-----------\n",
      "-----------REVIEWS SHAPE: 73 @ 8 | RES DATA SHAPE: 6056 @ 8-----------\n",
      "------------------------------------------------------------------\n",
      "-----------PARSING REV FROM /msk/opinions/restaurants/genatsvale-vip/ PAGE-----------\n",
      "-----------PAGE 1 PARSING-----------\n"
     ]
    },
    {
     "name": "stderr",
     "output_type": "stream",
     "text": [
      "\r",
      " 47%|████▋     | 280/595 [07:13<08:07,  1.55s/it]"
     ]
    },
    {
     "name": "stdout",
     "output_type": "stream",
     "text": [
      "-----------6 reviews add to list. ListLen 6-----------\n",
      "-----------REVIEWS SHAPE: 6 @ 8 | RES DATA SHAPE: 6062 @ 8-----------\n",
      "------------------------------------------------------------------\n",
      "-----------PARSING REV FROM /msk/opinions/restaurants/volna/ PAGE-----------\n",
      "-----------PAGE 1 PARSING-----------\n"
     ]
    },
    {
     "name": "stderr",
     "output_type": "stream",
     "text": [
      "\r",
      " 47%|████▋     | 281/595 [07:14<08:05,  1.55s/it]"
     ]
    },
    {
     "name": "stdout",
     "output_type": "stream",
     "text": [
      "-----------4 reviews add to list. ListLen 4-----------\n",
      "-----------REVIEWS SHAPE: 4 @ 8 | RES DATA SHAPE: 6066 @ 8-----------\n",
      "------------------------------------------------------------------\n",
      "-----------PARSING REV FROM /msk/opinions/restaurants/genatsvale_arbat/ PAGE-----------\n",
      "-----------PAGE 1 PARSING-----------\n",
      "-----------20 reviews add to list. ListLen 20-----------\n",
      "-----------PAGE 2 PARSING-----------\n",
      "-----------20 reviews add to list. ListLen 40-----------\n",
      "-----------PAGE 3 PARSING-----------\n"
     ]
    },
    {
     "name": "stderr",
     "output_type": "stream",
     "text": [
      "\r",
      " 47%|████▋     | 282/595 [07:17<08:05,  1.55s/it]"
     ]
    },
    {
     "name": "stdout",
     "output_type": "stream",
     "text": [
      "-----------7 reviews add to list. ListLen 47-----------\n",
      "-----------REVIEWS SHAPE: 47 @ 8 | RES DATA SHAPE: 6113 @ 8-----------\n",
      "------------------------------------------------------------------\n",
      "-----------PARSING REV FROM /msk/opinions/restaurants/genatsvale/ PAGE-----------\n",
      "-----------PAGE 1 PARSING-----------\n"
     ]
    },
    {
     "name": "stderr",
     "output_type": "stream",
     "text": [
      "\r",
      " 48%|████▊     | 283/595 [07:18<08:03,  1.55s/it]"
     ]
    },
    {
     "name": "stdout",
     "output_type": "stream",
     "text": [
      "-----------8 reviews add to list. ListLen 8-----------\n",
      "-----------REVIEWS SHAPE: 8 @ 8 | RES DATA SHAPE: 6121 @ 8-----------\n",
      "------------------------------------------------------------------\n",
      "-----------PARSING REV FROM /msk/opinions/restaurants/vkusnaya_zhizn/ PAGE-----------\n",
      "-----------PAGE 1 PARSING-----------\n"
     ]
    },
    {
     "name": "stderr",
     "output_type": "stream",
     "text": [
      "\r",
      " 48%|████▊     | 284/595 [07:18<08:00,  1.55s/it]"
     ]
    },
    {
     "name": "stdout",
     "output_type": "stream",
     "text": [
      "-----------2 reviews add to list. ListLen 2-----------\n",
      "-----------REVIEWS SHAPE: 2 @ 8 | RES DATA SHAPE: 6123 @ 8-----------\n",
      "------------------------------------------------------------------\n",
      "-----------PARSING REV FROM /msk/opinions/restaurants/gorod-cafe/ PAGE-----------\n",
      "-----------PAGE 1 PARSING-----------\n"
     ]
    },
    {
     "name": "stderr",
     "output_type": "stream",
     "text": [
      "\r",
      " 48%|████▊     | 285/595 [07:19<07:58,  1.54s/it]"
     ]
    },
    {
     "name": "stdout",
     "output_type": "stream",
     "text": [
      "-----------4 reviews add to list. ListLen 4-----------\n",
      "-----------REVIEWS SHAPE: 4 @ 8 | RES DATA SHAPE: 6127 @ 8-----------\n",
      "------------------------------------------------------------------\n",
      "-----------PARSING REV FROM /msk/opinions/restaurants/gremi/ PAGE-----------\n",
      "-----------PAGE 1 PARSING-----------\n"
     ]
    },
    {
     "name": "stderr",
     "output_type": "stream",
     "text": [
      "\r",
      " 48%|████▊     | 286/595 [07:20<07:56,  1.54s/it]"
     ]
    },
    {
     "name": "stdout",
     "output_type": "stream",
     "text": [
      "-----------3 reviews add to list. ListLen 3-----------\n",
      "-----------REVIEWS SHAPE: 3 @ 8 | RES DATA SHAPE: 6130 @ 8-----------\n",
      "------------------------------------------------------------------\n",
      "-----------PARSING REV FROM /msk/opinions/restaurants/gorod-vetrov/ PAGE-----------\n",
      "-----------PAGE 1 PARSING-----------\n"
     ]
    },
    {
     "name": "stderr",
     "output_type": "stream",
     "text": [
      "\r",
      " 48%|████▊     | 287/595 [07:21<07:53,  1.54s/it]"
     ]
    },
    {
     "name": "stdout",
     "output_type": "stream",
     "text": [
      "-----------2 reviews add to list. ListLen 2-----------\n",
      "-----------REVIEWS SHAPE: 2 @ 8 | RES DATA SHAPE: 6132 @ 8-----------\n",
      "------------------------------------------------------------------\n",
      "-----------PARSING REV FROM /msk/opinions/restaurants/gotika-na-festivalnoy/ PAGE-----------\n",
      "-----------PAGE 1 PARSING-----------\n",
      "-----------20 reviews add to list. ListLen 20-----------\n",
      "-----------PAGE 2 PARSING-----------\n"
     ]
    },
    {
     "name": "stderr",
     "output_type": "stream",
     "text": [
      "\r",
      " 48%|████▊     | 288/595 [07:23<07:52,  1.54s/it]"
     ]
    },
    {
     "name": "stdout",
     "output_type": "stream",
     "text": [
      "-----------13 reviews add to list. ListLen 33-----------\n",
      "-----------REVIEWS SHAPE: 33 @ 8 | RES DATA SHAPE: 6165 @ 8-----------\n",
      "------------------------------------------------------------------\n",
      "-----------PARSING REV FROM /msk/opinions/restaurants/gotika-na-angarskoy/ PAGE-----------\n",
      "-----------PAGE 1 PARSING-----------\n"
     ]
    },
    {
     "name": "stderr",
     "output_type": "stream",
     "text": [
      "\r",
      " 49%|████▊     | 289/595 [07:24<07:50,  1.54s/it]"
     ]
    },
    {
     "name": "stdout",
     "output_type": "stream",
     "text": [
      "-----------2 reviews add to list. ListLen 2-----------\n",
      "-----------REVIEWS SHAPE: 2 @ 8 | RES DATA SHAPE: 6167 @ 8-----------\n",
      "------------------------------------------------------------------\n",
      "-----------PARSING REV FROM /msk/opinions/restaurants/gusyatnikoff/ PAGE-----------\n",
      "-----------PAGE 1 PARSING-----------\n",
      "-----------20 reviews add to list. ListLen 20-----------\n",
      "-----------PAGE 2 PARSING-----------\n",
      "-----------20 reviews add to list. ListLen 40-----------\n",
      "-----------PAGE 3 PARSING-----------\n"
     ]
    },
    {
     "name": "stderr",
     "output_type": "stream",
     "text": [
      "\r",
      " 49%|████▊     | 290/595 [07:28<07:51,  1.55s/it]"
     ]
    },
    {
     "name": "stdout",
     "output_type": "stream",
     "text": [
      "-----------6 reviews add to list. ListLen 46-----------\n",
      "-----------REVIEWS SHAPE: 46 @ 8 | RES DATA SHAPE: 6213 @ 8-----------\n",
      "------------------------------------------------------------------\n",
      "-----------PARSING REV FROM /msk/opinions/restaurants/dzhon_dzholi/ PAGE-----------\n",
      "-----------PAGE 1 PARSING-----------\n",
      "-----------20 reviews add to list. ListLen 20-----------\n",
      "-----------PAGE 2 PARSING-----------\n",
      "-----------20 reviews add to list. ListLen 40-----------\n",
      "-----------PAGE 3 PARSING-----------\n"
     ]
    },
    {
     "name": "stderr",
     "output_type": "stream",
     "text": [
      "\r",
      " 49%|████▉     | 291/595 [07:32<07:52,  1.55s/it]"
     ]
    },
    {
     "name": "stdout",
     "output_type": "stream",
     "text": [
      "-----------14 reviews add to list. ListLen 54-----------\n",
      "-----------REVIEWS SHAPE: 54 @ 8 | RES DATA SHAPE: 6267 @ 8-----------\n",
      "------------------------------------------------------------------\n",
      "-----------PARSING REV FROM /msk/opinions/restaurants/de_marco/ PAGE-----------\n",
      "-----------PAGE 1 PARSING-----------\n"
     ]
    },
    {
     "name": "stderr",
     "output_type": "stream",
     "text": [
      "\r",
      " 49%|████▉     | 292/595 [07:33<07:50,  1.55s/it]"
     ]
    },
    {
     "name": "stdout",
     "output_type": "stream",
     "text": [
      "-----------20 reviews add to list. ListLen 20-----------\n",
      "-----------REVIEWS SHAPE: 20 @ 8 | RES DATA SHAPE: 6287 @ 8-----------\n",
      "------------------------------------------------------------------\n",
      "-----------PARSING REV FROM /msk/opinions/restaurants/de_marko_krasnopresnenskaya_nab/ PAGE-----------\n",
      "-----------PAGE 1 PARSING-----------\n"
     ]
    },
    {
     "name": "stderr",
     "output_type": "stream",
     "text": [
      "\r",
      " 49%|████▉     | 293/595 [07:34<07:48,  1.55s/it]"
     ]
    },
    {
     "name": "stdout",
     "output_type": "stream",
     "text": [
      "-----------4 reviews add to list. ListLen 4-----------\n",
      "-----------REVIEWS SHAPE: 4 @ 8 | RES DATA SHAPE: 6291 @ 8-----------\n",
      "------------------------------------------------------------------\n",
      "-----------PARSING REV FROM /msk/opinions/restaurants/de_marko_petrovka/ PAGE-----------\n",
      "-----------PAGE 1 PARSING-----------\n"
     ]
    },
    {
     "name": "stderr",
     "output_type": "stream",
     "text": [
      "\r",
      " 49%|████▉     | 294/595 [07:35<07:46,  1.55s/it]"
     ]
    },
    {
     "name": "stdout",
     "output_type": "stream",
     "text": [
      "-----------3 reviews add to list. ListLen 3-----------\n",
      "-----------REVIEWS SHAPE: 3 @ 8 | RES DATA SHAPE: 6294 @ 8-----------\n",
      "------------------------------------------------------------------\n",
      "-----------PARSING REV FROM /msk/opinions/restaurants/de_marko_pr_mira/ PAGE-----------\n",
      "-----------PAGE 1 PARSING-----------\n"
     ]
    },
    {
     "name": "stderr",
     "output_type": "stream",
     "text": [
      "\r",
      " 50%|████▉     | 295/595 [07:36<07:44,  1.55s/it]"
     ]
    },
    {
     "name": "stdout",
     "output_type": "stream",
     "text": [
      "-----------4 reviews add to list. ListLen 4-----------\n",
      "-----------REVIEWS SHAPE: 4 @ 8 | RES DATA SHAPE: 6298 @ 8-----------\n",
      "------------------------------------------------------------------\n",
      "-----------PARSING REV FROM /msk/opinions/restaurants/de_marko_smolenskaya_sennaya_pl_/ PAGE-----------\n",
      "-----------PAGE 1 PARSING-----------\n"
     ]
    },
    {
     "name": "stderr",
     "output_type": "stream",
     "text": [
      "\r",
      " 50%|████▉     | 296/595 [07:37<07:41,  1.55s/it]"
     ]
    },
    {
     "name": "stdout",
     "output_type": "stream",
     "text": [
      "-----------2 reviews add to list. ListLen 2-----------\n",
      "-----------REVIEWS SHAPE: 2 @ 8 | RES DATA SHAPE: 6300 @ 8-----------\n",
      "------------------------------------------------------------------\n",
      "-----------PARSING REV FROM /msk/opinions/restaurants/de_marko_pushechnaya/ PAGE-----------\n",
      "-----------PAGE 1 PARSING-----------\n"
     ]
    },
    {
     "name": "stderr",
     "output_type": "stream",
     "text": [
      "\r",
      " 50%|████▉     | 297/595 [07:38<07:39,  1.54s/it]"
     ]
    },
    {
     "name": "stdout",
     "output_type": "stream",
     "text": [
      "-----------7 reviews add to list. ListLen 7-----------\n",
      "-----------REVIEWS SHAPE: 7 @ 8 | RES DATA SHAPE: 6307 @ 8-----------\n",
      "------------------------------------------------------------------\n",
      "-----------PARSING REV FROM /msk/opinions/restaurants/de_marko_profsoyuznaya/ PAGE-----------\n",
      "-----------PAGE 1 PARSING-----------\n"
     ]
    },
    {
     "name": "stderr",
     "output_type": "stream",
     "text": [
      "\r",
      " 50%|█████     | 298/595 [07:39<07:37,  1.54s/it]"
     ]
    },
    {
     "name": "stdout",
     "output_type": "stream",
     "text": [
      "-----------3 reviews add to list. ListLen 3-----------\n",
      "-----------REVIEWS SHAPE: 3 @ 8 | RES DATA SHAPE: 6310 @ 8-----------\n",
      "------------------------------------------------------------------\n",
      "-----------PARSING REV FROM /msk/opinions/restaurants/de_marco2/ PAGE-----------\n",
      "-----------PAGE 1 PARSING-----------\n"
     ]
    },
    {
     "name": "stderr",
     "output_type": "stream",
     "text": [
      "\r",
      " 50%|█████     | 299/595 [07:39<07:35,  1.54s/it]"
     ]
    },
    {
     "name": "stdout",
     "output_type": "stream",
     "text": [
      "-----------4 reviews add to list. ListLen 4-----------\n",
      "-----------REVIEWS SHAPE: 4 @ 8 | RES DATA SHAPE: 6314 @ 8-----------\n",
      "------------------------------------------------------------------\n",
      "-----------PARSING REV FROM /msk/opinions/restaurants/deja_vu/ PAGE-----------\n",
      "-----------PAGE 1 PARSING-----------\n",
      "-----------20 reviews add to list. ListLen 20-----------\n",
      "-----------PAGE 2 PARSING-----------\n"
     ]
    },
    {
     "name": "stderr",
     "output_type": "stream",
     "text": [
      "\r",
      " 50%|█████     | 300/595 [07:41<07:34,  1.54s/it]"
     ]
    },
    {
     "name": "stdout",
     "output_type": "stream",
     "text": [
      "-----------8 reviews add to list. ListLen 28-----------\n",
      "-----------REVIEWS SHAPE: 28 @ 8 | RES DATA SHAPE: 6342 @ 8-----------\n",
      "------------------------------------------------------------------\n",
      "-----------PARSING REV FROM /msk/opinions/restaurants/dv_sultana/ PAGE-----------\n",
      "-----------PAGE 1 PARSING-----------\n",
      "-----------20 reviews add to list. ListLen 20-----------\n",
      "-----------PAGE 2 PARSING-----------\n",
      "-----------20 reviews add to list. ListLen 40-----------\n",
      "-----------PAGE 3 PARSING-----------\n",
      "-----------20 reviews add to list. ListLen 60-----------\n",
      "-----------PAGE 4 PARSING-----------\n",
      "-----------20 reviews add to list. ListLen 80-----------\n",
      "-----------PAGE 5 PARSING-----------\n"
     ]
    },
    {
     "name": "stderr",
     "output_type": "stream",
     "text": [
      "\r",
      " 51%|█████     | 301/595 [07:46<07:36,  1.55s/it]"
     ]
    },
    {
     "name": "stdout",
     "output_type": "stream",
     "text": [
      "-----------11 reviews add to list. ListLen 91-----------\n",
      "-----------REVIEWS SHAPE: 91 @ 8 | RES DATA SHAPE: 6433 @ 8-----------\n",
      "------------------------------------------------------------------\n",
      "-----------PARSING REV FROM /msk/opinions/restaurants/dom8a/ PAGE-----------\n",
      "-----------PAGE 1 PARSING-----------\n",
      "-----------20 reviews add to list. ListLen 20-----------\n",
      "-----------PAGE 2 PARSING-----------\n"
     ]
    },
    {
     "name": "stderr",
     "output_type": "stream",
     "text": [
      "\r",
      " 51%|█████     | 302/595 [07:48<07:34,  1.55s/it]"
     ]
    },
    {
     "name": "stdout",
     "output_type": "stream",
     "text": [
      "-----------4 reviews add to list. ListLen 24-----------\n",
      "-----------REVIEWS SHAPE: 24 @ 8 | RES DATA SHAPE: 6457 @ 8-----------\n",
      "------------------------------------------------------------------\n",
      "-----------PARSING REV FROM /msk/opinions/restaurants/dobrynya/ PAGE-----------\n",
      "-----------PAGE 1 PARSING-----------\n",
      "-----------20 reviews add to list. ListLen 20-----------\n",
      "-----------PAGE 2 PARSING-----------\n"
     ]
    },
    {
     "name": "stderr",
     "output_type": "stream",
     "text": [
      "\r",
      " 51%|█████     | 303/595 [07:51<07:33,  1.55s/it]"
     ]
    },
    {
     "name": "stdout",
     "output_type": "stream",
     "text": [
      "-----------13 reviews add to list. ListLen 33-----------\n",
      "-----------REVIEWS SHAPE: 33 @ 8 | RES DATA SHAPE: 6490 @ 8-----------\n",
      "------------------------------------------------------------------\n",
      "-----------PARSING REV FROM /msk/opinions/restaurants/dzhondzholi-pyatnitskaya/ PAGE-----------\n",
      "-----------PAGE 1 PARSING-----------\n"
     ]
    },
    {
     "name": "stderr",
     "output_type": "stream",
     "text": [
      "\r",
      " 51%|█████     | 304/595 [07:51<07:31,  1.55s/it]"
     ]
    },
    {
     "name": "stdout",
     "output_type": "stream",
     "text": [
      "-----------2 reviews add to list. ListLen 2-----------\n",
      "-----------REVIEWS SHAPE: 2 @ 8 | RES DATA SHAPE: 6492 @ 8-----------\n",
      "------------------------------------------------------------------\n",
      "-----------PARSING REV FROM /msk/opinions/restaurants/dom_aktera/ PAGE-----------\n",
      "-----------PAGE 1 PARSING-----------\n",
      "-----------20 reviews add to list. ListLen 20-----------\n",
      "-----------PAGE 2 PARSING-----------\n"
     ]
    },
    {
     "name": "stderr",
     "output_type": "stream",
     "text": [
      "\r",
      " 51%|█████▏    | 305/595 [07:54<07:30,  1.55s/it]"
     ]
    },
    {
     "name": "stdout",
     "output_type": "stream",
     "text": [
      "-----------16 reviews add to list. ListLen 36-----------\n",
      "-----------REVIEWS SHAPE: 36 @ 8 | RES DATA SHAPE: 6528 @ 8-----------\n",
      "------------------------------------------------------------------\n",
      "-----------PARSING REV FROM /msk/opinions/restaurants/giotto/ PAGE-----------\n",
      "-----------PAGE 1 PARSING-----------\n",
      "-----------20 reviews add to list. ListLen 20-----------\n",
      "-----------PAGE 2 PARSING-----------\n",
      "-----------20 reviews add to list. ListLen 40-----------\n",
      "-----------PAGE 3 PARSING-----------\n",
      "-----------20 reviews add to list. ListLen 60-----------\n",
      "-----------PAGE 4 PARSING-----------\n",
      "-----------20 reviews add to list. ListLen 80-----------\n",
      "-----------PAGE 5 PARSING-----------\n",
      "-----------20 reviews add to list. ListLen 100-----------\n",
      "-----------PAGE 6 PARSING-----------\n",
      "-----------20 reviews add to list. ListLen 120-----------\n",
      "-----------PAGE 7 PARSING-----------\n",
      "-----------11 reviews add to list. ListLen 131-----------\n"
     ]
    },
    {
     "name": "stderr",
     "output_type": "stream",
     "text": [
      "\r",
      " 51%|█████▏    | 306/595 [08:01<07:34,  1.57s/it]"
     ]
    },
    {
     "name": "stdout",
     "output_type": "stream",
     "text": [
      "-----------REVIEWS SHAPE: 131 @ 8 | RES DATA SHAPE: 6659 @ 8-----------\n",
      "------------------------------------------------------------------\n",
      "-----------PARSING REV FROM /msk/opinions/restaurants/belajo/ PAGE-----------\n",
      "-----------PAGE 1 PARSING-----------\n",
      "-----------20 reviews add to list. ListLen 20-----------\n",
      "-----------PAGE 2 PARSING-----------\n",
      "-----------20 reviews add to list. ListLen 40-----------\n",
      "-----------PAGE 3 PARSING-----------\n"
     ]
    },
    {
     "name": "stderr",
     "output_type": "stream",
     "text": [
      "\r",
      " 52%|█████▏    | 307/595 [08:04<07:34,  1.58s/it]"
     ]
    },
    {
     "name": "stdout",
     "output_type": "stream",
     "text": [
      "-----------17 reviews add to list. ListLen 57-----------\n",
      "-----------REVIEWS SHAPE: 57 @ 8 | RES DATA SHAPE: 6716 @ 8-----------\n",
      "------------------------------------------------------------------\n",
      "-----------PARSING REV FROM /msk/opinions/restaurants/donna_margo/ PAGE-----------\n",
      "-----------PAGE 1 PARSING-----------\n",
      "-----------20 reviews add to list. ListLen 20-----------\n",
      "-----------PAGE 2 PARSING-----------\n"
     ]
    },
    {
     "name": "stderr",
     "output_type": "stream",
     "text": [
      "\r",
      " 52%|█████▏    | 308/595 [08:06<07:33,  1.58s/it]"
     ]
    },
    {
     "name": "stdout",
     "output_type": "stream",
     "text": [
      "-----------4 reviews add to list. ListLen 24-----------\n",
      "-----------REVIEWS SHAPE: 24 @ 8 | RES DATA SHAPE: 6740 @ 8-----------\n",
      "------------------------------------------------------------------\n",
      "-----------PARSING REV FROM /msk/opinions/restaurants/dubrava/ PAGE-----------\n",
      "-----------PAGE 1 PARSING-----------\n"
     ]
    },
    {
     "name": "stderr",
     "output_type": "stream",
     "text": [
      "\r",
      " 52%|█████▏    | 309/595 [08:07<07:31,  1.58s/it]"
     ]
    },
    {
     "name": "stdout",
     "output_type": "stream",
     "text": [
      "-----------4 reviews add to list. ListLen 4-----------\n",
      "-----------REVIEWS SHAPE: 4 @ 8 | RES DATA SHAPE: 6744 @ 8-----------\n",
      "------------------------------------------------------------------\n",
      "-----------PARSING REV FROM /msk/opinions/restaurants/esenin/ PAGE-----------\n",
      "-----------PAGE 1 PARSING-----------\n"
     ]
    },
    {
     "name": "stderr",
     "output_type": "stream",
     "text": [
      "\r",
      " 52%|█████▏    | 310/595 [08:08<07:29,  1.58s/it]"
     ]
    },
    {
     "name": "stdout",
     "output_type": "stream",
     "text": [
      "-----------16 reviews add to list. ListLen 16-----------\n",
      "-----------REVIEWS SHAPE: 16 @ 8 | RES DATA SHAPE: 6760 @ 8-----------\n",
      "------------------------------------------------------------------\n",
      "-----------PARSING REV FROM /msk/opinions/restaurants/zhemchuzhina/ PAGE-----------\n",
      "-----------PAGE 1 PARSING-----------\n"
     ]
    },
    {
     "name": "stderr",
     "output_type": "stream",
     "text": [
      "\r",
      " 52%|█████▏    | 311/595 [08:09<07:27,  1.58s/it]"
     ]
    },
    {
     "name": "stdout",
     "output_type": "stream",
     "text": [
      "-----------13 reviews add to list. ListLen 13-----------\n",
      "-----------REVIEWS SHAPE: 13 @ 8 | RES DATA SHAPE: 6773 @ 8-----------\n",
      "------------------------------------------------------------------\n",
      "-----------PARSING REV FROM /msk/opinions/restaurants/ermak/ PAGE-----------\n",
      "-----------PAGE 1 PARSING-----------\n",
      "-----------20 reviews add to list. ListLen 20-----------\n",
      "-----------PAGE 2 PARSING-----------\n"
     ]
    },
    {
     "name": "stderr",
     "output_type": "stream",
     "text": [
      "\r",
      " 52%|█████▏    | 312/595 [08:12<07:26,  1.58s/it]"
     ]
    },
    {
     "name": "stdout",
     "output_type": "stream",
     "text": [
      "-----------18 reviews add to list. ListLen 38-----------\n",
      "-----------REVIEWS SHAPE: 38 @ 8 | RES DATA SHAPE: 6811 @ 8-----------\n",
      "------------------------------------------------------------------\n",
      "-----------PARSING REV FROM /msk/opinions/restaurants/zagorodny/ PAGE-----------\n",
      "-----------PAGE 1 PARSING-----------\n"
     ]
    },
    {
     "name": "stderr",
     "output_type": "stream",
     "text": [
      "\r",
      " 53%|█████▎    | 313/595 [08:13<07:24,  1.58s/it]"
     ]
    },
    {
     "name": "stdout",
     "output_type": "stream",
     "text": [
      "-----------14 reviews add to list. ListLen 14-----------\n",
      "-----------REVIEWS SHAPE: 14 @ 8 | RES DATA SHAPE: 6825 @ 8-----------\n",
      "------------------------------------------------------------------\n",
      "-----------PARSING REV FROM /msk/opinions/restaurants/durdin_m/ PAGE-----------\n",
      "-----------PAGE 1 PARSING-----------\n",
      "-----------20 reviews add to list. ListLen 20-----------\n",
      "-----------PAGE 2 PARSING-----------\n"
     ]
    },
    {
     "name": "stderr",
     "output_type": "stream",
     "text": [
      "\r",
      " 53%|█████▎    | 314/595 [08:15<07:23,  1.58s/it]"
     ]
    },
    {
     "name": "stdout",
     "output_type": "stream",
     "text": [
      "-----------4 reviews add to list. ListLen 24-----------\n",
      "-----------REVIEWS SHAPE: 24 @ 8 | RES DATA SHAPE: 6849 @ 8-----------\n",
      "------------------------------------------------------------------\n",
      "-----------PARSING REV FROM /msk/opinions/restaurants/jiest/ PAGE-----------\n",
      "-----------PAGE 1 PARSING-----------\n",
      "-----------20 reviews add to list. ListLen 20-----------\n",
      "-----------PAGE 2 PARSING-----------\n",
      "-----------20 reviews add to list. ListLen 40-----------\n",
      "-----------PAGE 3 PARSING-----------\n"
     ]
    },
    {
     "name": "stderr",
     "output_type": "stream",
     "text": [
      "\r",
      " 53%|█████▎    | 315/595 [08:18<07:22,  1.58s/it]"
     ]
    },
    {
     "name": "stdout",
     "output_type": "stream",
     "text": [
      "-----------10 reviews add to list. ListLen 50-----------\n",
      "-----------REVIEWS SHAPE: 50 @ 8 | RES DATA SHAPE: 6899 @ 8-----------\n",
      "------------------------------------------------------------------\n",
      "-----------PARSING REV FROM /msk/opinions/restaurants/zolotaya_roshcha/ PAGE-----------\n",
      "-----------PAGE 1 PARSING-----------\n",
      "-----------20 reviews add to list. ListLen 20-----------\n",
      "-----------PAGE 2 PARSING-----------\n",
      "-----------20 reviews add to list. ListLen 40-----------\n",
      "-----------PAGE 3 PARSING-----------\n",
      "-----------20 reviews add to list. ListLen 60-----------\n",
      "-----------PAGE 4 PARSING-----------\n",
      "-----------20 reviews add to list. ListLen 80-----------\n",
      "-----------PAGE 5 PARSING-----------\n",
      "-----------20 reviews add to list. ListLen 100-----------\n",
      "-----------PAGE 6 PARSING-----------\n",
      "-----------20 reviews add to list. ListLen 120-----------\n",
      "-----------PAGE 7 PARSING-----------\n",
      "-----------19 reviews add to list. ListLen 139-----------\n"
     ]
    },
    {
     "name": "stderr",
     "output_type": "stream",
     "text": [
      "\r",
      " 53%|█████▎    | 316/595 [08:26<07:26,  1.60s/it]"
     ]
    },
    {
     "name": "stdout",
     "output_type": "stream",
     "text": [
      "-----------REVIEWS SHAPE: 139 @ 8 | RES DATA SHAPE: 7038 @ 8-----------\n",
      "------------------------------------------------------------------\n",
      "-----------PARSING REV FROM /msk/opinions/restaurants/zarub-rest/ PAGE-----------\n",
      "-----------PAGE 1 PARSING-----------\n"
     ]
    },
    {
     "name": "stderr",
     "output_type": "stream",
     "text": [
      "\r",
      " 53%|█████▎    | 317/595 [08:27<07:24,  1.60s/it]"
     ]
    },
    {
     "name": "stdout",
     "output_type": "stream",
     "text": [
      "-----------3 reviews add to list. ListLen 3-----------\n",
      "-----------REVIEWS SHAPE: 3 @ 8 | RES DATA SHAPE: 7041 @ 8-----------\n",
      "------------------------------------------------------------------\n",
      "-----------PARSING REV FROM /msk/opinions/restaurants/muromec-2009/ PAGE-----------\n",
      "-----------PAGE 1 PARSING-----------\n"
     ]
    },
    {
     "name": "stderr",
     "output_type": "stream",
     "text": [
      "\r",
      " 53%|█████▎    | 318/595 [08:28<07:22,  1.60s/it]"
     ]
    },
    {
     "name": "stdout",
     "output_type": "stream",
     "text": [
      "-----------4 reviews add to list. ListLen 4-----------\n",
      "-----------REVIEWS SHAPE: 4 @ 8 | RES DATA SHAPE: 7045 @ 8-----------\n",
      "------------------------------------------------------------------\n",
      "-----------PARSING REV FROM /msk/opinions/restaurants/inzhir/ PAGE-----------\n",
      "-----------PAGE 1 PARSING-----------\n"
     ]
    },
    {
     "name": "stderr",
     "output_type": "stream",
     "text": [
      "\r",
      " 54%|█████▎    | 319/595 [08:28<07:20,  1.60s/it]"
     ]
    },
    {
     "name": "stdout",
     "output_type": "stream",
     "text": [
      "-----------3 reviews add to list. ListLen 3-----------\n",
      "-----------REVIEWS SHAPE: 3 @ 8 | RES DATA SHAPE: 7048 @ 8-----------\n",
      "------------------------------------------------------------------\n",
      "-----------PARSING REV FROM /msk/opinions/restaurants/chaykhana-inzhir/ PAGE-----------\n",
      "-----------PAGE 1 PARSING-----------\n"
     ]
    },
    {
     "name": "stderr",
     "output_type": "stream",
     "text": [
      "\r",
      " 54%|█████▍    | 320/595 [08:29<07:18,  1.59s/it]"
     ]
    },
    {
     "name": "stdout",
     "output_type": "stream",
     "text": [
      "-----------2 reviews add to list. ListLen 2-----------\n",
      "-----------REVIEWS SHAPE: 2 @ 8 | RES DATA SHAPE: 7050 @ 8-----------\n",
      "------------------------------------------------------------------\n",
      "-----------PARSING REV FROM /msk/opinions/restaurants/italyanets/ PAGE-----------\n",
      "-----------PAGE 1 PARSING-----------\n"
     ]
    },
    {
     "name": "stderr",
     "output_type": "stream",
     "text": [
      "\r",
      " 54%|█████▍    | 321/595 [08:30<07:15,  1.59s/it]"
     ]
    },
    {
     "name": "stdout",
     "output_type": "stream",
     "text": [
      "-----------7 reviews add to list. ListLen 7-----------\n",
      "-----------REVIEWS SHAPE: 7 @ 8 | RES DATA SHAPE: 7057 @ 8-----------\n",
      "------------------------------------------------------------------\n",
      "-----------PARSING REV FROM /msk/opinions/restaurants/traktir_ippolit/ PAGE-----------\n",
      "-----------PAGE 1 PARSING-----------\n"
     ]
    },
    {
     "name": "stderr",
     "output_type": "stream",
     "text": [
      "\r",
      " 54%|█████▍    | 322/595 [08:31<07:13,  1.59s/it]"
     ]
    },
    {
     "name": "stdout",
     "output_type": "stream",
     "text": [
      "-----------4 reviews add to list. ListLen 4-----------\n",
      "-----------REVIEWS SHAPE: 4 @ 8 | RES DATA SHAPE: 7061 @ 8-----------\n",
      "------------------------------------------------------------------\n",
      "-----------PARSING REV FROM /msk/opinions/restaurants/kadrilkaraoke/ PAGE-----------\n",
      "-----------PAGE 1 PARSING-----------\n"
     ]
    },
    {
     "name": "stderr",
     "output_type": "stream",
     "text": [
      "\r",
      " 54%|█████▍    | 323/595 [08:32<07:11,  1.59s/it]"
     ]
    },
    {
     "name": "stdout",
     "output_type": "stream",
     "text": [
      "-----------12 reviews add to list. ListLen 12-----------\n",
      "-----------REVIEWS SHAPE: 12 @ 8 | RES DATA SHAPE: 7073 @ 8-----------\n",
      "------------------------------------------------------------------\n",
      "-----------PARSING REV FROM /msk/opinions/restaurants/yorkshir/ PAGE-----------\n",
      "-----------PAGE 1 PARSING-----------\n",
      "-----------20 reviews add to list. ListLen 20-----------\n",
      "-----------PAGE 2 PARSING-----------\n"
     ]
    },
    {
     "name": "stderr",
     "output_type": "stream",
     "text": [
      "\r",
      " 54%|█████▍    | 324/595 [08:34<07:10,  1.59s/it]"
     ]
    },
    {
     "name": "stdout",
     "output_type": "stream",
     "text": [
      "-----------16 reviews add to list. ListLen 36-----------\n",
      "-----------REVIEWS SHAPE: 36 @ 8 | RES DATA SHAPE: 7109 @ 8-----------\n",
      "------------------------------------------------------------------\n",
      "-----------PARSING REV FROM /msk/opinions/restaurants/kafetery_1/ PAGE-----------\n",
      "-----------PAGE 1 PARSING-----------\n"
     ]
    },
    {
     "name": "stderr",
     "output_type": "stream",
     "text": [
      "\r",
      " 55%|█████▍    | 325/595 [08:35<07:08,  1.59s/it]"
     ]
    },
    {
     "name": "stdout",
     "output_type": "stream",
     "text": [
      "-----------3 reviews add to list. ListLen 3-----------\n",
      "-----------REVIEWS SHAPE: 3 @ 8 | RES DATA SHAPE: 7112 @ 8-----------\n",
      "------------------------------------------------------------------\n",
      "-----------PARSING REV FROM /msk/opinions/restaurants/chinagramota/ PAGE-----------\n",
      "-----------PAGE 1 PARSING-----------\n",
      "-----------20 reviews add to list. ListLen 20-----------\n",
      "-----------PAGE 2 PARSING-----------\n",
      "-----------20 reviews add to list. ListLen 40-----------\n",
      "-----------PAGE 3 PARSING-----------\n",
      "-----------20 reviews add to list. ListLen 60-----------\n",
      "-----------PAGE 4 PARSING-----------\n",
      "-----------20 reviews add to list. ListLen 80-----------\n",
      "-----------PAGE 5 PARSING-----------\n",
      "-----------20 reviews add to list. ListLen 100-----------\n",
      "-----------PAGE 6 PARSING-----------\n",
      "-----------20 reviews add to list. ListLen 120-----------\n",
      "-----------PAGE 7 PARSING-----------\n",
      "-----------6 reviews add to list. ListLen 126-----------\n",
      "-----------REVIEWS SHAPE: 126 @ 8 | RES DATA SHAPE: 7238 @ 8-----------"
     ]
    },
    {
     "name": "stderr",
     "output_type": "stream",
     "text": [
      "\r",
      " 55%|█████▍    | 326/595 [08:43<07:11,  1.61s/it]"
     ]
    },
    {
     "name": "stdout",
     "output_type": "stream",
     "text": [
      "\n",
      "------------------------------------------------------------------\n",
      "-----------PARSING REV FROM /msk/opinions/restaurants/kafe123/ PAGE-----------\n",
      "-----------PAGE 1 PARSING-----------\n"
     ]
    },
    {
     "name": "stderr",
     "output_type": "stream",
     "text": [
      "\r",
      " 55%|█████▍    | 327/595 [08:44<07:09,  1.60s/it]"
     ]
    },
    {
     "name": "stdout",
     "output_type": "stream",
     "text": [
      "-----------2 reviews add to list. ListLen 2-----------\n",
      "-----------REVIEWS SHAPE: 2 @ 8 | RES DATA SHAPE: 7240 @ 8-----------\n",
      "------------------------------------------------------------------\n",
      "-----------PARSING REV FROM /msk/opinions/restaurants/cafe-kare/ PAGE-----------\n",
      "-----------PAGE 1 PARSING-----------\n"
     ]
    },
    {
     "name": "stderr",
     "output_type": "stream",
     "text": [
      "\r",
      " 55%|█████▌    | 328/595 [08:45<07:07,  1.60s/it]"
     ]
    },
    {
     "name": "stdout",
     "output_type": "stream",
     "text": [
      "-----------7 reviews add to list. ListLen 7-----------\n",
      "-----------REVIEWS SHAPE: 7 @ 8 | RES DATA SHAPE: 7247 @ 8-----------\n",
      "------------------------------------------------------------------\n",
      "-----------PARSING REV FROM /msk/opinions/restaurants/chinagramota_barvikha/ PAGE-----------\n",
      "-----------PAGE 1 PARSING-----------\n",
      "-----------20 reviews add to list. ListLen 20-----------\n",
      "-----------PAGE 2 PARSING-----------\n",
      "-----------20 reviews add to list. ListLen 40-----------\n",
      "-----------PAGE 3 PARSING-----------\n"
     ]
    },
    {
     "name": "stderr",
     "output_type": "stream",
     "text": [
      "\r",
      " 55%|█████▌    | 329/595 [08:48<07:07,  1.61s/it]"
     ]
    },
    {
     "name": "stdout",
     "output_type": "stream",
     "text": [
      "-----------13 reviews add to list. ListLen 53-----------\n",
      "-----------REVIEWS SHAPE: 53 @ 8 | RES DATA SHAPE: 7300 @ 8-----------\n",
      "------------------------------------------------------------------\n",
      "-----------PARSING REV FROM /msk/opinions/restaurants/kasha_malasha/ PAGE-----------\n",
      "-----------PAGE 1 PARSING-----------\n"
     ]
    },
    {
     "name": "stderr",
     "output_type": "stream",
     "text": [
      "\r",
      " 55%|█████▌    | 330/595 [08:49<07:05,  1.61s/it]"
     ]
    },
    {
     "name": "stdout",
     "output_type": "stream",
     "text": [
      "-----------6 reviews add to list. ListLen 6-----------\n",
      "-----------REVIEWS SHAPE: 6 @ 8 | RES DATA SHAPE: 7306 @ 8-----------\n",
      "------------------------------------------------------------------\n",
      "-----------PARSING REV FROM /msk/opinions/restaurants/klukva/ PAGE-----------\n",
      "-----------PAGE 1 PARSING-----------\n"
     ]
    },
    {
     "name": "stderr",
     "output_type": "stream",
     "text": [
      "\r",
      " 56%|█████▌    | 331/595 [08:50<07:03,  1.60s/it]"
     ]
    },
    {
     "name": "stdout",
     "output_type": "stream",
     "text": [
      "-----------3 reviews add to list. ListLen 3-----------\n",
      "-----------REVIEWS SHAPE: 3 @ 8 | RES DATA SHAPE: 7309 @ 8-----------\n",
      "------------------------------------------------------------------\n",
      "-----------PARSING REV FROM /msk/opinions/restaurants/karavan_one/ PAGE-----------\n",
      "-----------PAGE 1 PARSING-----------\n"
     ]
    },
    {
     "name": "stderr",
     "output_type": "stream",
     "text": [
      "\r",
      " 56%|█████▌    | 332/595 [08:51<07:01,  1.60s/it]"
     ]
    },
    {
     "name": "stdout",
     "output_type": "stream",
     "text": [
      "-----------16 reviews add to list. ListLen 16-----------\n",
      "-----------REVIEWS SHAPE: 16 @ 8 | RES DATA SHAPE: 7325 @ 8-----------\n",
      "------------------------------------------------------------------\n",
      "-----------PARSING REV FROM /msk/opinions/restaurants/cafepushkin/ PAGE-----------\n",
      "-----------PAGE 1 PARSING-----------\n",
      "-----------20 reviews add to list. ListLen 20-----------\n",
      "-----------PAGE 2 PARSING-----------\n"
     ]
    },
    {
     "name": "stderr",
     "output_type": "stream",
     "text": [
      "\r",
      " 56%|█████▌    | 333/595 [08:53<06:59,  1.60s/it]"
     ]
    },
    {
     "name": "stdout",
     "output_type": "stream",
     "text": [
      "-----------5 reviews add to list. ListLen 25-----------\n",
      "-----------REVIEWS SHAPE: 25 @ 8 | RES DATA SHAPE: 7350 @ 8-----------\n",
      "------------------------------------------------------------------\n",
      "-----------PARSING REV FROM /msk/opinions/restaurants/chaykhana_kollektsiya/ PAGE-----------\n",
      "-----------PAGE 1 PARSING-----------\n",
      "-----------20 reviews add to list. ListLen 20-----------\n",
      "-----------PAGE 2 PARSING-----------\n",
      "-----------20 reviews add to list. ListLen 40-----------\n",
      "-----------PAGE 3 PARSING-----------\n",
      "-----------20 reviews add to list. ListLen 60-----------\n",
      "-----------PAGE 4 PARSING-----------\n",
      "-----------20 reviews add to list. ListLen 80-----------\n",
      "-----------PAGE 5 PARSING-----------\n"
     ]
    },
    {
     "name": "stderr",
     "output_type": "stream",
     "text": [
      "\r",
      " 56%|█████▌    | 334/595 [08:59<07:01,  1.61s/it]"
     ]
    },
    {
     "name": "stdout",
     "output_type": "stream",
     "text": [
      "-----------18 reviews add to list. ListLen 98-----------\n",
      "-----------REVIEWS SHAPE: 98 @ 8 | RES DATA SHAPE: 7448 @ 8-----------\n",
      "------------------------------------------------------------------\n",
      "-----------PARSING REV FROM /msk/opinions/restaurants/kolchuga/ PAGE-----------\n",
      "-----------PAGE 1 PARSING-----------\n"
     ]
    },
    {
     "name": "stderr",
     "output_type": "stream",
     "text": [
      "\r",
      " 56%|█████▋    | 335/595 [08:59<06:59,  1.61s/it]"
     ]
    },
    {
     "name": "stdout",
     "output_type": "stream",
     "text": [
      "-----------5 reviews add to list. ListLen 5-----------\n",
      "-----------REVIEWS SHAPE: 5 @ 8 | RES DATA SHAPE: 7453 @ 8-----------\n",
      "------------------------------------------------------------------\n",
      "-----------PARSING REV FROM /msk/opinions/restaurants/kot-che/ PAGE-----------\n",
      "-----------PAGE 1 PARSING-----------\n"
     ]
    },
    {
     "name": "stderr",
     "output_type": "stream",
     "text": [
      "\r",
      " 56%|█████▋    | 336/595 [09:00<06:57,  1.61s/it]"
     ]
    },
    {
     "name": "stdout",
     "output_type": "stream",
     "text": [
      "-----------13 reviews add to list. ListLen 13-----------\n",
      "-----------REVIEWS SHAPE: 13 @ 8 | RES DATA SHAPE: 7466 @ 8-----------\n",
      "------------------------------------------------------------------\n",
      "-----------PARSING REV FROM /msk/opinions/restaurants/cop-team/ PAGE-----------\n",
      "-----------PAGE 1 PARSING-----------\n"
     ]
    },
    {
     "name": "stderr",
     "output_type": "stream",
     "text": [
      "\r",
      " 57%|█████▋    | 337/595 [09:01<06:54,  1.61s/it]"
     ]
    },
    {
     "name": "stdout",
     "output_type": "stream",
     "text": [
      "-----------3 reviews add to list. ListLen 3-----------\n",
      "-----------REVIEWS SHAPE: 3 @ 8 | RES DATA SHAPE: 7469 @ 8-----------\n",
      "------------------------------------------------------------------\n",
      "-----------PARSING REV FROM /msk/opinions/restaurants/wheel_of_time/ PAGE-----------\n",
      "-----------PAGE 1 PARSING-----------\n"
     ]
    },
    {
     "name": "stderr",
     "output_type": "stream",
     "text": [
      "\r",
      " 57%|█████▋    | 338/595 [09:02<06:52,  1.61s/it]"
     ]
    },
    {
     "name": "stdout",
     "output_type": "stream",
     "text": [
      "-----------7 reviews add to list. ListLen 7-----------\n",
      "-----------REVIEWS SHAPE: 7 @ 8 | RES DATA SHAPE: 7476 @ 8-----------\n",
      "------------------------------------------------------------------\n",
      "-----------PARSING REV FROM /msk/opinions/restaurants/komyzhithorosho/ PAGE-----------\n",
      "-----------PAGE 1 PARSING-----------\n",
      "-----------20 reviews add to list. ListLen 20-----------\n",
      "-----------PAGE 2 PARSING-----------\n"
     ]
    },
    {
     "name": "stderr",
     "output_type": "stream",
     "text": [
      "\r",
      " 57%|█████▋    | 339/595 [09:05<06:51,  1.61s/it]"
     ]
    },
    {
     "name": "stdout",
     "output_type": "stream",
     "text": [
      "-----------11 reviews add to list. ListLen 31-----------\n",
      "-----------REVIEWS SHAPE: 31 @ 8 | RES DATA SHAPE: 7507 @ 8-----------\n",
      "------------------------------------------------------------------\n",
      "-----------PARSING REV FROM /msk/opinions/restaurants/taras_bulba_pyatnitskaya/ PAGE-----------\n",
      "-----------PAGE 1 PARSING-----------\n"
     ]
    },
    {
     "name": "stderr",
     "output_type": "stream",
     "text": [
      "\r",
      " 57%|█████▋    | 340/595 [09:06<06:49,  1.61s/it]"
     ]
    },
    {
     "name": "stdout",
     "output_type": "stream",
     "text": [
      "-----------2 reviews add to list. ListLen 2-----------\n",
      "-----------REVIEWS SHAPE: 2 @ 8 | RES DATA SHAPE: 7509 @ 8-----------\n",
      "------------------------------------------------------------------\n",
      "-----------PARSING REV FROM /msk/opinions/restaurants/taras_bulba_lyublinskaya/ PAGE-----------\n",
      "-----------PAGE 1 PARSING-----------\n"
     ]
    },
    {
     "name": "stderr",
     "output_type": "stream",
     "text": [
      "\r",
      " 57%|█████▋    | 341/595 [09:07<06:47,  1.60s/it]"
     ]
    },
    {
     "name": "stdout",
     "output_type": "stream",
     "text": [
      "-----------7 reviews add to list. ListLen 7-----------\n",
      "-----------REVIEWS SHAPE: 7 @ 8 | RES DATA SHAPE: 7516 @ 8-----------\n",
      "------------------------------------------------------------------\n",
      "-----------PARSING REV FROM /msk/opinions/restaurants/kolkhi/ PAGE-----------\n",
      "-----------PAGE 1 PARSING-----------\n"
     ]
    },
    {
     "name": "stderr",
     "output_type": "stream",
     "text": [
      "\r",
      " 57%|█████▋    | 342/595 [09:08<06:45,  1.60s/it]"
     ]
    },
    {
     "name": "stdout",
     "output_type": "stream",
     "text": [
      "-----------6 reviews add to list. ListLen 6-----------\n",
      "-----------REVIEWS SHAPE: 6 @ 8 | RES DATA SHAPE: 7522 @ 8-----------\n",
      "------------------------------------------------------------------\n",
      "-----------PARSING REV FROM /msk/opinions/restaurants/korchma-taras-bulba-leningradskiy/ PAGE-----------\n",
      "-----------PAGE 1 PARSING-----------\n"
     ]
    },
    {
     "name": "stderr",
     "output_type": "stream",
     "text": [
      "\r",
      " 58%|█████▊    | 343/595 [09:09<06:43,  1.60s/it]"
     ]
    },
    {
     "name": "stdout",
     "output_type": "stream",
     "text": [
      "-----------2 reviews add to list. ListLen 2-----------\n",
      "-----------REVIEWS SHAPE: 2 @ 8 | RES DATA SHAPE: 7524 @ 8-----------\n",
      "------------------------------------------------------------------\n",
      "-----------PARSING REV FROM /msk/opinions/restaurants/korchma-kazachya/ PAGE-----------\n",
      "-----------PAGE 1 PARSING-----------\n"
     ]
    },
    {
     "name": "stderr",
     "output_type": "stream",
     "text": [
      "\r",
      " 58%|█████▊    | 344/595 [09:10<06:41,  1.60s/it]"
     ]
    },
    {
     "name": "stdout",
     "output_type": "stream",
     "text": [
      "-----------5 reviews add to list. ListLen 5-----------\n",
      "-----------REVIEWS SHAPE: 5 @ 8 | RES DATA SHAPE: 7529 @ 8-----------\n",
      "------------------------------------------------------------------\n",
      "-----------PARSING REV FROM /msk/opinions/restaurants/christian/ PAGE-----------\n",
      "-----------PAGE 1 PARSING-----------\n"
     ]
    },
    {
     "name": "stderr",
     "output_type": "stream",
     "text": [
      "\r",
      " 58%|█████▊    | 345/595 [09:11<06:39,  1.60s/it]"
     ]
    },
    {
     "name": "stdout",
     "output_type": "stream",
     "text": [
      "-----------11 reviews add to list. ListLen 11-----------\n",
      "-----------REVIEWS SHAPE: 11 @ 8 | RES DATA SHAPE: 7540 @ 8-----------\n",
      "------------------------------------------------------------------\n",
      "-----------PARSING REV FROM /msk/opinions/restaurants/coffeetime/ PAGE-----------\n",
      "-----------PAGE 1 PARSING-----------\n"
     ]
    },
    {
     "name": "stderr",
     "output_type": "stream",
     "text": [
      "\r",
      " 58%|█████▊    | 346/595 [09:12<06:37,  1.60s/it]"
     ]
    },
    {
     "name": "stdout",
     "output_type": "stream",
     "text": [
      "-----------5 reviews add to list. ListLen 5-----------\n",
      "-----------REVIEWS SHAPE: 5 @ 8 | RES DATA SHAPE: 7545 @ 8-----------\n",
      "------------------------------------------------------------------\n",
      "-----------PARSING REV FROM /msk/opinions/restaurants/krab_pab/ PAGE-----------\n",
      "-----------PAGE 1 PARSING-----------\n"
     ]
    },
    {
     "name": "stderr",
     "output_type": "stream",
     "text": [
      "\r",
      " 58%|█████▊    | 347/595 [09:13<06:35,  1.59s/it]"
     ]
    },
    {
     "name": "stdout",
     "output_type": "stream",
     "text": [
      "-----------2 reviews add to list. ListLen 2-----------\n",
      "-----------REVIEWS SHAPE: 2 @ 8 | RES DATA SHAPE: 7547 @ 8-----------\n",
      "------------------------------------------------------------------\n",
      "-----------PARSING REV FROM /msk/opinions/restaurants/kuraga/ PAGE-----------\n",
      "-----------PAGE 1 PARSING-----------\n",
      "-----------20 reviews add to list. ListLen 20-----------\n",
      "-----------PAGE 2 PARSING-----------\n",
      "-----------20 reviews add to list. ListLen 40-----------\n",
      "-----------PAGE 3 PARSING-----------\n"
     ]
    },
    {
     "name": "stderr",
     "output_type": "stream",
     "text": [
      "\r",
      " 58%|█████▊    | 348/595 [09:16<06:35,  1.60s/it]"
     ]
    },
    {
     "name": "stdout",
     "output_type": "stream",
     "text": [
      "-----------3 reviews add to list. ListLen 43-----------\n",
      "-----------REVIEWS SHAPE: 43 @ 8 | RES DATA SHAPE: 7590 @ 8-----------\n",
      "------------------------------------------------------------------\n",
      "-----------PARSING REV FROM /msk/opinions/restaurants/kuvshin/ PAGE-----------\n",
      "-----------PAGE 1 PARSING-----------\n",
      "-----------20 reviews add to list. ListLen 20-----------\n",
      "-----------PAGE 2 PARSING-----------\n",
      "-----------20 reviews add to list. ListLen 40-----------\n",
      "-----------PAGE 3 PARSING-----------\n"
     ]
    },
    {
     "name": "stderr",
     "output_type": "stream",
     "text": [
      "\r",
      " 59%|█████▊    | 349/595 [09:19<06:34,  1.60s/it]"
     ]
    },
    {
     "name": "stdout",
     "output_type": "stream",
     "text": [
      "-----------4 reviews add to list. ListLen 44-----------\n",
      "-----------REVIEWS SHAPE: 44 @ 8 | RES DATA SHAPE: 7634 @ 8-----------\n",
      "------------------------------------------------------------------\n",
      "-----------PARSING REV FROM /msk/opinions/restaurants/lyubimii-gorod/ PAGE-----------\n",
      "-----------PAGE 1 PARSING-----------\n"
     ]
    },
    {
     "name": "stderr",
     "output_type": "stream",
     "text": [
      "\r",
      " 59%|█████▉    | 350/595 [09:20<06:32,  1.60s/it]"
     ]
    },
    {
     "name": "stdout",
     "output_type": "stream",
     "text": [
      "-----------4 reviews add to list. ListLen 4-----------\n",
      "-----------REVIEWS SHAPE: 4 @ 8 | RES DATA SHAPE: 7638 @ 8-----------\n",
      "------------------------------------------------------------------\n",
      "-----------PARSING REV FROM /msk/opinions/restaurants/lusnar_rest/ PAGE-----------\n",
      "-----------PAGE 1 PARSING-----------\n"
     ]
    },
    {
     "name": "stderr",
     "output_type": "stream",
     "text": [
      "\r",
      " 59%|█████▉    | 351/595 [09:21<06:30,  1.60s/it]"
     ]
    },
    {
     "name": "stdout",
     "output_type": "stream",
     "text": [
      "-----------4 reviews add to list. ListLen 4-----------\n",
      "-----------REVIEWS SHAPE: 4 @ 8 | RES DATA SHAPE: 7642 @ 8-----------\n",
      "------------------------------------------------------------------\n",
      "-----------PARSING REV FROM /msk/opinions/restaurants/len/ PAGE-----------\n",
      "-----------PAGE 1 PARSING-----------\n",
      "-----------20 reviews add to list. ListLen 20-----------\n",
      "-----------PAGE 2 PARSING-----------\n"
     ]
    },
    {
     "name": "stderr",
     "output_type": "stream",
     "text": [
      "\r",
      " 59%|█████▉    | 352/595 [09:23<06:28,  1.60s/it]"
     ]
    },
    {
     "name": "stdout",
     "output_type": "stream",
     "text": [
      "-----------20 reviews add to list. ListLen 40-----------\n",
      "-----------REVIEWS SHAPE: 40 @ 8 | RES DATA SHAPE: 7682 @ 8-----------\n",
      "------------------------------------------------------------------\n",
      "-----------PARSING REV FROM /msk/opinions/restaurants/lermontov/ PAGE-----------\n",
      "-----------PAGE 1 PARSING-----------\n"
     ]
    },
    {
     "name": "stderr",
     "output_type": "stream",
     "text": [
      "\r",
      " 59%|█████▉    | 353/595 [09:24<06:26,  1.60s/it]"
     ]
    },
    {
     "name": "stdout",
     "output_type": "stream",
     "text": [
      "-----------7 reviews add to list. ListLen 7-----------\n",
      "-----------REVIEWS SHAPE: 7 @ 8 | RES DATA SHAPE: 7689 @ 8-----------\n",
      "------------------------------------------------------------------\n",
      "-----------PARSING REV FROM /msk/opinions/restaurants/mama-gochi/ PAGE-----------\n",
      "-----------PAGE 1 PARSING-----------\n"
     ]
    },
    {
     "name": "stderr",
     "output_type": "stream",
     "text": [
      "\r",
      " 59%|█████▉    | 354/595 [09:25<06:24,  1.60s/it]"
     ]
    },
    {
     "name": "stdout",
     "output_type": "stream",
     "text": [
      "-----------4 reviews add to list. ListLen 4-----------\n",
      "-----------REVIEWS SHAPE: 4 @ 8 | RES DATA SHAPE: 7693 @ 8-----------\n",
      "------------------------------------------------------------------\n",
      "-----------PARSING REV FROM /msk/opinions/restaurants/liga/ PAGE-----------\n",
      "-----------PAGE 1 PARSING-----------\n",
      "-----------20 reviews add to list. ListLen 20-----------\n",
      "-----------PAGE 2 PARSING-----------\n",
      "-----------20 reviews add to list. ListLen 40-----------\n",
      "-----------PAGE 3 PARSING-----------\n",
      "-----------20 reviews add to list. ListLen 60-----------\n",
      "-----------PAGE 4 PARSING-----------\n",
      "-----------20 reviews add to list. ListLen 80-----------\n",
      "-----------PAGE 5 PARSING-----------\n"
     ]
    },
    {
     "name": "stderr",
     "output_type": "stream",
     "text": [
      "\r",
      " 60%|█████▉    | 355/595 [09:30<06:25,  1.61s/it]"
     ]
    },
    {
     "name": "stdout",
     "output_type": "stream",
     "text": [
      "-----------5 reviews add to list. ListLen 85-----------\n",
      "-----------REVIEWS SHAPE: 85 @ 8 | RES DATA SHAPE: 7778 @ 8-----------\n",
      "------------------------------------------------------------------\n",
      "-----------PARSING REV FROM /msk/opinions/restaurants/limoncino/ PAGE-----------\n",
      "-----------PAGE 1 PARSING-----------\n"
     ]
    },
    {
     "name": "stderr",
     "output_type": "stream",
     "text": [
      "\r",
      " 60%|█████▉    | 356/595 [09:32<06:24,  1.61s/it]"
     ]
    },
    {
     "name": "stdout",
     "output_type": "stream",
     "text": [
      "-----------13 reviews add to list. ListLen 13-----------\n",
      "-----------REVIEWS SHAPE: 13 @ 8 | RES DATA SHAPE: 7791 @ 8-----------\n",
      "------------------------------------------------------------------\n",
      "-----------PARSING REV FROM /msk/opinions/restaurants/maestro_dubininskaya/ PAGE-----------\n",
      "-----------PAGE 1 PARSING-----------\n",
      "-----------20 reviews add to list. ListLen 20-----------\n",
      "-----------PAGE 2 PARSING-----------\n",
      "-----------20 reviews add to list. ListLen 40-----------\n",
      "-----------PAGE 3 PARSING-----------\n",
      "-----------20 reviews add to list. ListLen 60-----------\n",
      "-----------PAGE 4 PARSING-----------\n",
      "-----------20 reviews add to list. ListLen 80-----------\n",
      "-----------PAGE 5 PARSING-----------\n",
      "-----------20 reviews add to list. ListLen 100-----------\n",
      "-----------PAGE 6 PARSING-----------\n",
      "-----------20 reviews add to list. ListLen 120-----------\n",
      "-----------PAGE 7 PARSING-----------\n",
      "-----------20 reviews add to list. ListLen 140-----------\n",
      "-----------PAGE 8 PARSING-----------\n",
      "-----------20 reviews add to list. ListLen 160-----------\n",
      "-----------PAGE 9 PARSING-----------\n",
      "-----------20 reviews add to list. ListLen 180-----------\n",
      "-----------PAGE 10 PARSING-----------\n",
      "-----------20 reviews add to list. ListLen 200-----------\n",
      "-----------PAGE 11 PARSING-----------\n",
      "-----------3 reviews add to list. ListLen 203-----------\n"
     ]
    },
    {
     "name": "stderr",
     "output_type": "stream",
     "text": [
      "\r",
      " 60%|██████    | 357/595 [09:46<06:30,  1.64s/it]"
     ]
    },
    {
     "name": "stdout",
     "output_type": "stream",
     "text": [
      "-----------REVIEWS SHAPE: 203 @ 8 | RES DATA SHAPE: 7994 @ 8-----------\n",
      "------------------------------------------------------------------\n",
      "-----------PARSING REV FROM /msk/opinions/restaurants/matsoni/ PAGE-----------\n",
      "-----------PAGE 1 PARSING-----------\n",
      "-----------20 reviews add to list. ListLen 20-----------\n",
      "-----------PAGE 2 PARSING-----------\n",
      "-----------20 reviews add to list. ListLen 40-----------\n",
      "-----------PAGE 3 PARSING-----------\n"
     ]
    },
    {
     "name": "stderr",
     "output_type": "stream",
     "text": [
      "\r",
      " 60%|██████    | 358/595 [09:49<06:30,  1.65s/it]"
     ]
    },
    {
     "name": "stdout",
     "output_type": "stream",
     "text": [
      "-----------1 reviews add to list. ListLen 41-----------\n",
      "-----------REVIEWS SHAPE: 41 @ 8 | RES DATA SHAPE: 8035 @ 8-----------\n",
      "------------------------------------------------------------------\n",
      "-----------PARSING REV FROM /msk/opinions/restaurants/welmaster/ PAGE-----------\n",
      "-----------PAGE 1 PARSING-----------\n",
      "-----------20 reviews add to list. ListLen 20-----------\n",
      "-----------PAGE 2 PARSING-----------\n"
     ]
    },
    {
     "name": "stderr",
     "output_type": "stream",
     "text": [
      "\r",
      " 60%|██████    | 359/595 [09:51<06:28,  1.65s/it]"
     ]
    },
    {
     "name": "stdout",
     "output_type": "stream",
     "text": [
      "-----------4 reviews add to list. ListLen 24-----------\n",
      "-----------REVIEWS SHAPE: 24 @ 8 | RES DATA SHAPE: 8059 @ 8-----------\n",
      "------------------------------------------------------------------\n",
      "-----------PARSING REV FROM /msk/opinions/restaurants/maestro2/ PAGE-----------\n",
      "-----------PAGE 1 PARSING-----------\n"
     ]
    },
    {
     "name": "stderr",
     "output_type": "stream",
     "text": [
      "\r",
      " 61%|██████    | 360/595 [09:52<06:26,  1.65s/it]"
     ]
    },
    {
     "name": "stdout",
     "output_type": "stream",
     "text": [
      "-----------2 reviews add to list. ListLen 2-----------\n",
      "-----------REVIEWS SHAPE: 2 @ 8 | RES DATA SHAPE: 8061 @ 8-----------\n",
      "------------------------------------------------------------------\n",
      "-----------PARSING REV FROM /msk/opinions/restaurants/hinkalnaya_chichilaki/ PAGE-----------\n",
      "-----------PAGE 1 PARSING-----------\n"
     ]
    },
    {
     "name": "stderr",
     "output_type": "stream",
     "text": [
      "\r",
      " 61%|██████    | 361/595 [09:53<06:24,  1.64s/it]"
     ]
    },
    {
     "name": "stdout",
     "output_type": "stream",
     "text": [
      "-----------4 reviews add to list. ListLen 4-----------\n",
      "-----------REVIEWS SHAPE: 4 @ 8 | RES DATA SHAPE: 8065 @ 8-----------\n",
      "------------------------------------------------------------------\n",
      "-----------PARSING REV FROM /msk/opinions/restaurants/meridian_chehov/ PAGE-----------\n",
      "-----------PAGE 1 PARSING-----------\n"
     ]
    },
    {
     "name": "stderr",
     "output_type": "stream",
     "text": [
      "\r",
      " 61%|██████    | 362/595 [09:54<06:22,  1.64s/it]"
     ]
    },
    {
     "name": "stdout",
     "output_type": "stream",
     "text": [
      "-----------2 reviews add to list. ListLen 2-----------\n",
      "-----------REVIEWS SHAPE: 2 @ 8 | RES DATA SHAPE: 8067 @ 8-----------\n",
      "------------------------------------------------------------------\n",
      "-----------PARSING REV FROM /msk/opinions/restaurants/matreshka/ PAGE-----------\n",
      "-----------PAGE 1 PARSING-----------\n"
     ]
    },
    {
     "name": "stderr",
     "output_type": "stream",
     "text": [
      "\r",
      " 61%|██████    | 363/595 [09:55<06:20,  1.64s/it]"
     ]
    },
    {
     "name": "stdout",
     "output_type": "stream",
     "text": [
      "-----------13 reviews add to list. ListLen 13-----------\n",
      "-----------REVIEWS SHAPE: 13 @ 8 | RES DATA SHAPE: 8080 @ 8-----------\n",
      "------------------------------------------------------------------\n",
      "-----------PARSING REV FROM /msk/opinions/restaurants/alazanskaya_dolina/ PAGE-----------\n",
      "-----------PAGE 1 PARSING-----------\n",
      "-----------20 reviews add to list. ListLen 20-----------\n",
      "-----------PAGE 2 PARSING-----------\n",
      "-----------20 reviews add to list. ListLen 40-----------\n",
      "-----------PAGE 3 PARSING-----------\n"
     ]
    },
    {
     "name": "stderr",
     "output_type": "stream",
     "text": [
      "\r",
      " 61%|██████    | 364/595 [09:58<06:19,  1.64s/it]"
     ]
    },
    {
     "name": "stdout",
     "output_type": "stream",
     "text": [
      "-----------17 reviews add to list. ListLen 57-----------\n",
      "-----------REVIEWS SHAPE: 57 @ 8 | RES DATA SHAPE: 8137 @ 8-----------\n",
      "------------------------------------------------------------------\n",
      "-----------PARSING REV FROM /msk/opinions/restaurants/marcopolo_presnja/ PAGE-----------\n",
      "-----------PAGE 1 PARSING-----------\n"
     ]
    },
    {
     "name": "stderr",
     "output_type": "stream",
     "text": [
      "\r",
      " 61%|██████▏   | 365/595 [09:59<06:17,  1.64s/it]"
     ]
    },
    {
     "name": "stdout",
     "output_type": "stream",
     "text": [
      "-----------16 reviews add to list. ListLen 16-----------\n",
      "-----------REVIEWS SHAPE: 16 @ 8 | RES DATA SHAPE: 8153 @ 8-----------\n",
      "------------------------------------------------------------------\n",
      "-----------PARSING REV FROM /msk/opinions/restaurants/cafe_marius/ PAGE-----------\n",
      "-----------PAGE 1 PARSING-----------\n",
      "-----------20 reviews add to list. ListLen 20-----------\n",
      "-----------PAGE 2 PARSING-----------\n",
      "-----------20 reviews add to list. ListLen 40-----------\n",
      "-----------PAGE 3 PARSING-----------\n",
      "-----------20 reviews add to list. ListLen 60-----------\n",
      "-----------PAGE 4 PARSING-----------\n"
     ]
    },
    {
     "name": "stderr",
     "output_type": "stream",
     "text": [
      "\r",
      " 62%|██████▏   | 366/595 [10:03<06:17,  1.65s/it]"
     ]
    },
    {
     "name": "stdout",
     "output_type": "stream",
     "text": [
      "-----------1 reviews add to list. ListLen 61-----------\n",
      "-----------REVIEWS SHAPE: 61 @ 8 | RES DATA SHAPE: 8214 @ 8-----------\n",
      "------------------------------------------------------------------\n",
      "-----------PARSING REV FROM /msk/opinions/restaurants/moscafe/ PAGE-----------\n",
      "-----------PAGE 1 PARSING-----------\n",
      "-----------20 reviews add to list. ListLen 20-----------\n",
      "-----------PAGE 2 PARSING-----------\n",
      "-----------20 reviews add to list. ListLen 40-----------\n",
      "-----------PAGE 3 PARSING-----------\n"
     ]
    },
    {
     "name": "stderr",
     "output_type": "stream",
     "text": [
      "\r",
      " 62%|██████▏   | 367/595 [10:07<06:17,  1.65s/it]"
     ]
    },
    {
     "name": "stdout",
     "output_type": "stream",
     "text": [
      "-----------18 reviews add to list. ListLen 58-----------\n",
      "-----------REVIEWS SHAPE: 58 @ 8 | RES DATA SHAPE: 8272 @ 8-----------\n",
      "------------------------------------------------------------------\n",
      "-----------PARSING REV FROM /msk/opinions/restaurants/moskalyan_na_arbate/ PAGE-----------\n",
      "-----------PAGE 1 PARSING-----------\n"
     ]
    },
    {
     "name": "stderr",
     "output_type": "stream",
     "text": [
      "\r",
      " 62%|██████▏   | 368/595 [10:07<06:14,  1.65s/it]"
     ]
    },
    {
     "name": "stdout",
     "output_type": "stream",
     "text": [
      "-----------2 reviews add to list. ListLen 2-----------\n",
      "-----------REVIEWS SHAPE: 2 @ 8 | RES DATA SHAPE: 8274 @ 8-----------\n",
      "------------------------------------------------------------------\n",
      "-----------PARSING REV FROM /msk/opinions/restaurants/montecristo/ PAGE-----------\n",
      "-----------PAGE 1 PARSING-----------\n",
      "-----------20 reviews add to list. ListLen 20-----------\n",
      "-----------PAGE 2 PARSING-----------\n"
     ]
    },
    {
     "name": "stderr",
     "output_type": "stream",
     "text": [
      "\r",
      " 62%|██████▏   | 369/595 [10:09<06:13,  1.65s/it]"
     ]
    },
    {
     "name": "stdout",
     "output_type": "stream",
     "text": [
      "-----------1 reviews add to list. ListLen 21-----------\n",
      "-----------REVIEWS SHAPE: 21 @ 8 | RES DATA SHAPE: 8295 @ 8-----------\n",
      "------------------------------------------------------------------\n",
      "-----------PARSING REV FROM /msk/opinions/restaurants/mugan/ PAGE-----------\n",
      "-----------PAGE 1 PARSING-----------\n",
      "-----------20 reviews add to list. ListLen 20-----------\n",
      "-----------PAGE 2 PARSING-----------\n",
      "-----------20 reviews add to list. ListLen 40-----------\n",
      "-----------PAGE 3 PARSING-----------\n",
      "-----------20 reviews add to list. ListLen 60-----------\n",
      "-----------PAGE 4 PARSING-----------\n",
      "-----------20 reviews add to list. ListLen 80-----------\n",
      "-----------PAGE 5 PARSING-----------\n",
      "-----------20 reviews add to list. ListLen 100-----------\n",
      "-----------PAGE 6 PARSING-----------\n",
      "-----------20 reviews add to list. ListLen 120-----------\n",
      "-----------PAGE 7 PARSING-----------\n",
      "-----------4 reviews add to list. ListLen 124-----------\n"
     ]
    },
    {
     "name": "stderr",
     "output_type": "stream",
     "text": [
      "\r",
      " 62%|██████▏   | 370/595 [10:17<06:15,  1.67s/it]"
     ]
    },
    {
     "name": "stdout",
     "output_type": "stream",
     "text": [
      "-----------REVIEWS SHAPE: 124 @ 8 | RES DATA SHAPE: 8419 @ 8-----------\n",
      "------------------------------------------------------------------\n",
      "-----------PARSING REV FROM /msk/opinions/restaurants/cafemichel/ PAGE-----------\n",
      "-----------PAGE 1 PARSING-----------\n"
     ]
    },
    {
     "name": "stderr",
     "output_type": "stream",
     "text": [
      "\r",
      " 62%|██████▏   | 371/595 [10:18<06:13,  1.67s/it]"
     ]
    },
    {
     "name": "stdout",
     "output_type": "stream",
     "text": [
      "-----------15 reviews add to list. ListLen 15-----------\n",
      "-----------REVIEWS SHAPE: 15 @ 8 | RES DATA SHAPE: 8434 @ 8-----------\n",
      "------------------------------------------------------------------\n",
      "-----------PARSING REV FROM /msk/opinions/restaurants/pivovarnya_na_shabolovke/ PAGE-----------\n",
      "-----------PAGE 1 PARSING-----------\n"
     ]
    },
    {
     "name": "stderr",
     "output_type": "stream",
     "text": [
      "\r",
      " 63%|██████▎   | 372/595 [10:19<06:11,  1.67s/it]"
     ]
    },
    {
     "name": "stdout",
     "output_type": "stream",
     "text": [
      "-----------14 reviews add to list. ListLen 14-----------\n",
      "-----------REVIEWS SHAPE: 14 @ 8 | RES DATA SHAPE: 8448 @ 8-----------\n",
      "------------------------------------------------------------------\n",
      "-----------PARSING REV FROM /msk/opinions/restaurants/natakhtari/ PAGE-----------\n",
      "-----------PAGE 1 PARSING-----------\n"
     ]
    },
    {
     "name": "stderr",
     "output_type": "stream",
     "text": [
      "\r",
      " 63%|██████▎   | 373/595 [10:20<06:09,  1.66s/it]"
     ]
    },
    {
     "name": "stdout",
     "output_type": "stream",
     "text": [
      "-----------16 reviews add to list. ListLen 16-----------\n",
      "-----------REVIEWS SHAPE: 16 @ 8 | RES DATA SHAPE: 8464 @ 8-----------\n",
      "------------------------------------------------------------------\n",
      "-----------PARSING REV FROM /msk/opinions/restaurants/narsharab/ PAGE-----------\n",
      "-----------PAGE 1 PARSING-----------\n"
     ]
    },
    {
     "name": "stderr",
     "output_type": "stream",
     "text": [
      "\r",
      " 63%|██████▎   | 374/595 [10:21<06:07,  1.66s/it]"
     ]
    },
    {
     "name": "stdout",
     "output_type": "stream",
     "text": [
      "-----------8 reviews add to list. ListLen 8-----------\n",
      "-----------REVIEWS SHAPE: 8 @ 8 | RES DATA SHAPE: 8472 @ 8-----------\n",
      "------------------------------------------------------------------\n",
      "-----------PARSING REV FROM /msk/opinions/restaurants/nebesny_tihohod/ PAGE-----------\n",
      "-----------PAGE 1 PARSING-----------\n"
     ]
    },
    {
     "name": "stderr",
     "output_type": "stream",
     "text": [
      "\r",
      " 63%|██████▎   | 375/595 [10:22<06:05,  1.66s/it]"
     ]
    },
    {
     "name": "stdout",
     "output_type": "stream",
     "text": [
      "-----------2 reviews add to list. ListLen 2-----------\n",
      "-----------REVIEWS SHAPE: 2 @ 8 | RES DATA SHAPE: 8474 @ 8-----------\n",
      "------------------------------------------------------------------\n",
      "-----------PARSING REV FROM /msk/opinions/restaurants/sentyabr/ PAGE-----------\n",
      "-----------PAGE 1 PARSING-----------\n"
     ]
    },
    {
     "name": "stderr",
     "output_type": "stream",
     "text": [
      "\r",
      " 63%|██████▎   | 376/595 [10:23<06:03,  1.66s/it]"
     ]
    },
    {
     "name": "stdout",
     "output_type": "stream",
     "text": [
      "-----------5 reviews add to list. ListLen 5-----------\n",
      "-----------REVIEWS SHAPE: 5 @ 8 | RES DATA SHAPE: 8479 @ 8-----------\n",
      "------------------------------------------------------------------\n",
      "-----------PARSING REV FROM /msk/opinions/restaurants/na_rusi/ PAGE-----------\n",
      "-----------PAGE 1 PARSING-----------\n"
     ]
    },
    {
     "name": "stderr",
     "output_type": "stream",
     "text": [
      "\r",
      " 63%|██████▎   | 377/595 [10:24<06:01,  1.66s/it]"
     ]
    },
    {
     "name": "stdout",
     "output_type": "stream",
     "text": [
      "-----------8 reviews add to list. ListLen 8-----------\n",
      "-----------REVIEWS SHAPE: 8 @ 8 | RES DATA SHAPE: 8487 @ 8-----------\n",
      "------------------------------------------------------------------\n",
      "-----------PARSING REV FROM /msk/opinions/restaurants/namelnitse/ PAGE-----------\n",
      "-----------PAGE 1 PARSING-----------\n"
     ]
    },
    {
     "name": "stderr",
     "output_type": "stream",
     "text": [
      "\r",
      " 64%|██████▎   | 378/595 [10:25<05:59,  1.66s/it]"
     ]
    },
    {
     "name": "stdout",
     "output_type": "stream",
     "text": [
      "-----------10 reviews add to list. ListLen 10-----------\n",
      "-----------REVIEWS SHAPE: 10 @ 8 | RES DATA SHAPE: 8497 @ 8-----------\n",
      "------------------------------------------------------------------\n",
      "-----------PARSING REV FROM /msk/opinions/restaurants/naznamenke/ PAGE-----------\n",
      "-----------PAGE 1 PARSING-----------\n",
      "-----------20 reviews add to list. ListLen 20-----------\n",
      "-----------PAGE 2 PARSING-----------\n"
     ]
    },
    {
     "name": "stderr",
     "output_type": "stream",
     "text": [
      "\r",
      " 64%|██████▎   | 379/595 [10:27<05:57,  1.66s/it]"
     ]
    },
    {
     "name": "stdout",
     "output_type": "stream",
     "text": [
      "-----------19 reviews add to list. ListLen 39-----------\n",
      "-----------REVIEWS SHAPE: 39 @ 8 | RES DATA SHAPE: 8536 @ 8-----------\n",
      "------------------------------------------------------------------\n",
      "-----------PARSING REV FROM /msk/opinions/restaurants/munch/ PAGE-----------\n",
      "-----------PAGE 1 PARSING-----------\n"
     ]
    },
    {
     "name": "stderr",
     "output_type": "stream",
     "text": [
      "\r",
      " 64%|██████▍   | 380/595 [10:29<05:55,  1.66s/it]"
     ]
    },
    {
     "name": "stdout",
     "output_type": "stream",
     "text": [
      "-----------7 reviews add to list. ListLen 7-----------\n",
      "-----------REVIEWS SHAPE: 7 @ 8 | RES DATA SHAPE: 8543 @ 8-----------\n",
      "------------------------------------------------------------------\n",
      "-----------PARSING REV FROM /msk/opinions/restaurants/myata/ PAGE-----------\n",
      "-----------PAGE 1 PARSING-----------\n",
      "-----------20 reviews add to list. ListLen 20-----------\n",
      "-----------PAGE 2 PARSING-----------\n",
      "-----------20 reviews add to list. ListLen 40-----------\n",
      "-----------PAGE 3 PARSING-----------\n"
     ]
    },
    {
     "name": "stderr",
     "output_type": "stream",
     "text": [
      "\r",
      " 64%|██████▍   | 381/595 [10:32<05:55,  1.66s/it]"
     ]
    },
    {
     "name": "stdout",
     "output_type": "stream",
     "text": [
      "-----------4 reviews add to list. ListLen 44-----------\n",
      "-----------REVIEWS SHAPE: 44 @ 8 | RES DATA SHAPE: 8587 @ 8-----------\n",
      "------------------------------------------------------------------\n",
      "-----------PARSING REV FROM /msk/opinions/restaurants/notfareast/ PAGE-----------\n",
      "-----------PAGE 1 PARSING-----------\n"
     ]
    },
    {
     "name": "stderr",
     "output_type": "stream",
     "text": [
      "\r",
      " 64%|██████▍   | 382/595 [10:33<05:53,  1.66s/it]"
     ]
    },
    {
     "name": "stdout",
     "output_type": "stream",
     "text": [
      "-----------3 reviews add to list. ListLen 3-----------\n",
      "-----------REVIEWS SHAPE: 3 @ 8 | RES DATA SHAPE: 8590 @ 8-----------\n",
      "------------------------------------------------------------------\n",
      "-----------PARSING REV FROM /msk/opinions/restaurants/nicola-tesla/ PAGE-----------\n",
      "-----------PAGE 1 PARSING-----------\n"
     ]
    },
    {
     "name": "stderr",
     "output_type": "stream",
     "text": [
      "\r",
      " 64%|██████▍   | 383/595 [10:34<05:50,  1.66s/it]"
     ]
    },
    {
     "name": "stdout",
     "output_type": "stream",
     "text": [
      "-----------7 reviews add to list. ListLen 7-----------\n",
      "-----------REVIEWS SHAPE: 7 @ 8 | RES DATA SHAPE: 8597 @ 8-----------\n",
      "------------------------------------------------------------------\n",
      "-----------PARSING REV FROM /msk/opinions/restaurants/nikuda_ne_edem/ PAGE-----------\n",
      "-----------PAGE 1 PARSING-----------\n"
     ]
    },
    {
     "name": "stderr",
     "output_type": "stream",
     "text": [
      "\r",
      " 65%|██████▍   | 384/595 [10:35<05:48,  1.65s/it]"
     ]
    },
    {
     "name": "stdout",
     "output_type": "stream",
     "text": [
      "-----------9 reviews add to list. ListLen 9-----------\n",
      "-----------REVIEWS SHAPE: 9 @ 8 | RES DATA SHAPE: 8606 @ 8-----------\n",
      "------------------------------------------------------------------\n",
      "-----------PARSING REV FROM /msk/opinions/restaurants/gastropab_queen_v/ PAGE-----------\n",
      "-----------PAGE 1 PARSING-----------\n",
      "-----------20 reviews add to list. ListLen 20-----------\n",
      "-----------PAGE 2 PARSING-----------\n"
     ]
    },
    {
     "name": "stderr",
     "output_type": "stream",
     "text": [
      "\r",
      " 65%|██████▍   | 385/595 [10:36<05:47,  1.65s/it]"
     ]
    },
    {
     "name": "stdout",
     "output_type": "stream",
     "text": [
      "-----------1 reviews add to list. ListLen 21-----------\n",
      "-----------REVIEWS SHAPE: 21 @ 8 | RES DATA SHAPE: 8627 @ 8-----------\n",
      "------------------------------------------------------------------\n",
      "-----------PARSING REV FROM /msk/opinions/restaurants/semiramida/ PAGE-----------\n",
      "-----------PAGE 1 PARSING-----------\n",
      "-----------20 reviews add to list. ListLen 20-----------\n",
      "-----------PAGE 2 PARSING-----------\n"
     ]
    },
    {
     "name": "stderr",
     "output_type": "stream",
     "text": [
      "\r",
      " 65%|██████▍   | 386/595 [10:38<05:45,  1.66s/it]"
     ]
    },
    {
     "name": "stdout",
     "output_type": "stream",
     "text": [
      "-----------4 reviews add to list. ListLen 24-----------\n",
      "-----------REVIEWS SHAPE: 24 @ 8 | RES DATA SHAPE: 8651 @ 8-----------\n",
      "------------------------------------------------------------------\n",
      "-----------PARSING REV FROM /msk/opinions/restaurants/obraz_zhizni/ PAGE-----------\n",
      "-----------PAGE 1 PARSING-----------\n"
     ]
    },
    {
     "name": "stderr",
     "output_type": "stream",
     "text": [
      "\r",
      " 65%|██████▌   | 387/595 [10:39<05:43,  1.65s/it]"
     ]
    },
    {
     "name": "stdout",
     "output_type": "stream",
     "text": [
      "-----------2 reviews add to list. ListLen 2-----------\n",
      "-----------REVIEWS SHAPE: 2 @ 8 | RES DATA SHAPE: 8653 @ 8-----------\n",
      "------------------------------------------------------------------\n",
      "-----------PARSING REV FROM /msk/opinions/restaurants/moskovskaya_kukhmisterskaya/ PAGE-----------\n",
      "-----------PAGE 1 PARSING-----------\n"
     ]
    },
    {
     "name": "stderr",
     "output_type": "stream",
     "text": [
      "\r",
      " 65%|██████▌   | 388/595 [10:40<05:41,  1.65s/it]"
     ]
    },
    {
     "name": "stdout",
     "output_type": "stream",
     "text": [
      "-----------8 reviews add to list. ListLen 8-----------\n",
      "-----------REVIEWS SHAPE: 8 @ 8 | RES DATA SHAPE: 8661 @ 8-----------\n",
      "------------------------------------------------------------------\n",
      "-----------PARSING REV FROM /msk/opinions/restaurants/noevkovcheg/ PAGE-----------\n",
      "-----------PAGE 1 PARSING-----------\n",
      "-----------20 reviews add to list. ListLen 20-----------\n",
      "-----------PAGE 2 PARSING-----------\n",
      "-----------20 reviews add to list. ListLen 40-----------\n",
      "-----------PAGE 3 PARSING-----------\n"
     ]
    },
    {
     "name": "stderr",
     "output_type": "stream",
     "text": [
      "\r",
      " 65%|██████▌   | 389/595 [10:43<05:41,  1.66s/it]"
     ]
    },
    {
     "name": "stdout",
     "output_type": "stream",
     "text": [
      "-----------6 reviews add to list. ListLen 46-----------\n",
      "-----------REVIEWS SHAPE: 46 @ 8 | RES DATA SHAPE: 8707 @ 8-----------\n",
      "------------------------------------------------------------------\n",
      "-----------PARSING REV FROM /msk/opinions/restaurants/novogireevskoe/ PAGE-----------\n",
      "-----------PAGE 1 PARSING-----------\n",
      "-----------20 reviews add to list. ListLen 20-----------\n",
      "-----------PAGE 2 PARSING-----------\n",
      "-----------20 reviews add to list. ListLen 40-----------\n",
      "-----------PAGE 3 PARSING-----------\n"
     ]
    },
    {
     "name": "stderr",
     "output_type": "stream",
     "text": [
      "\r",
      " 66%|██████▌   | 390/595 [10:46<05:40,  1.66s/it]"
     ]
    },
    {
     "name": "stdout",
     "output_type": "stream",
     "text": [
      "-----------7 reviews add to list. ListLen 47-----------\n",
      "-----------REVIEWS SHAPE: 47 @ 8 | RES DATA SHAPE: 8754 @ 8-----------\n",
      "------------------------------------------------------------------\n",
      "-----------PARSING REV FROM /msk/opinions/restaurants/panaekhali/ PAGE-----------\n",
      "-----------PAGE 1 PARSING-----------\n"
     ]
    },
    {
     "name": "stderr",
     "output_type": "stream",
     "text": [
      "\r",
      " 66%|██████▌   | 391/595 [10:47<05:38,  1.66s/it]"
     ]
    },
    {
     "name": "stdout",
     "output_type": "stream",
     "text": [
      "-----------13 reviews add to list. ListLen 13-----------\n",
      "-----------REVIEWS SHAPE: 13 @ 8 | RES DATA SHAPE: 8767 @ 8-----------\n",
      "------------------------------------------------------------------\n",
      "-----------PARSING REV FROM /msk/opinions/restaurants/omulyevaya_bochka/ PAGE-----------\n",
      "-----------PAGE 1 PARSING-----------\n"
     ]
    },
    {
     "name": "stderr",
     "output_type": "stream",
     "text": [
      "\r",
      " 66%|██████▌   | 392/595 [10:48<05:36,  1.66s/it]"
     ]
    },
    {
     "name": "stdout",
     "output_type": "stream",
     "text": [
      "-----------5 reviews add to list. ListLen 5-----------\n",
      "-----------REVIEWS SHAPE: 5 @ 8 | RES DATA SHAPE: 8772 @ 8-----------\n",
      "------------------------------------------------------------------\n",
      "-----------PARSING REV FROM /msk/opinions/restaurants/park_lanch/ PAGE-----------\n",
      "-----------PAGE 1 PARSING-----------\n"
     ]
    },
    {
     "name": "stderr",
     "output_type": "stream",
     "text": [
      "\r",
      " 66%|██████▌   | 393/595 [10:50<05:34,  1.65s/it]"
     ]
    },
    {
     "name": "stdout",
     "output_type": "stream",
     "text": [
      "-----------18 reviews add to list. ListLen 18-----------\n",
      "-----------REVIEWS SHAPE: 18 @ 8 | RES DATA SHAPE: 8790 @ 8-----------\n",
      "------------------------------------------------------------------\n",
      "-----------PARSING REV FROM /msk/opinions/restaurants/ochagno1/ PAGE-----------\n",
      "-----------PAGE 1 PARSING-----------\n"
     ]
    },
    {
     "name": "stderr",
     "output_type": "stream",
     "text": [
      "\r",
      " 66%|██████▌   | 394/595 [10:50<05:32,  1.65s/it]"
     ]
    },
    {
     "name": "stdout",
     "output_type": "stream",
     "text": [
      "-----------2 reviews add to list. ListLen 2-----------\n",
      "-----------REVIEWS SHAPE: 2 @ 8 | RES DATA SHAPE: 8792 @ 8-----------\n",
      "------------------------------------------------------------------\n",
      "-----------PARSING REV FROM /msk/opinions/restaurants/ostrovok/ PAGE-----------\n",
      "-----------PAGE 1 PARSING-----------\n"
     ]
    },
    {
     "name": "stderr",
     "output_type": "stream",
     "text": [
      "\r",
      " 66%|██████▋   | 395/595 [10:51<05:30,  1.65s/it]"
     ]
    },
    {
     "name": "stdout",
     "output_type": "stream",
     "text": [
      "-----------12 reviews add to list. ListLen 12-----------\n",
      "-----------REVIEWS SHAPE: 12 @ 8 | RES DATA SHAPE: 8804 @ 8-----------\n",
      "------------------------------------------------------------------\n",
      "-----------PARSING REV FROM /msk/opinions/restaurants/cafe-ochag/ PAGE-----------\n",
      "-----------PAGE 1 PARSING-----------\n"
     ]
    },
    {
     "name": "stderr",
     "output_type": "stream",
     "text": [
      "\r",
      " 67%|██████▋   | 396/595 [10:52<05:28,  1.65s/it]"
     ]
    },
    {
     "name": "stdout",
     "output_type": "stream",
     "text": [
      "-----------3 reviews add to list. ListLen 3-----------\n",
      "-----------REVIEWS SHAPE: 3 @ 8 | RES DATA SHAPE: 8807 @ 8-----------\n",
      "------------------------------------------------------------------\n",
      "-----------PARSING REV FROM /msk/opinions/restaurants/orovela/ PAGE-----------\n",
      "-----------PAGE 1 PARSING-----------\n"
     ]
    },
    {
     "name": "stderr",
     "output_type": "stream",
     "text": [
      "\r",
      " 67%|██████▋   | 397/595 [10:53<05:26,  1.65s/it]"
     ]
    },
    {
     "name": "stdout",
     "output_type": "stream",
     "text": [
      "-----------7 reviews add to list. ListLen 7-----------\n",
      "-----------REVIEWS SHAPE: 7 @ 8 | RES DATA SHAPE: 8814 @ 8-----------\n",
      "------------------------------------------------------------------\n",
      "-----------PARSING REV FROM /msk/opinions/restaurants/office_club/ PAGE-----------\n",
      "-----------PAGE 1 PARSING-----------\n",
      "-----------20 reviews add to list. ListLen 20-----------\n",
      "-----------PAGE 2 PARSING-----------\n"
     ]
    },
    {
     "name": "stderr",
     "output_type": "stream",
     "text": [
      "\r",
      " 67%|██████▋   | 398/595 [10:56<05:24,  1.65s/it]"
     ]
    },
    {
     "name": "stdout",
     "output_type": "stream",
     "text": [
      "-----------5 reviews add to list. ListLen 25-----------\n",
      "-----------REVIEWS SHAPE: 25 @ 8 | RES DATA SHAPE: 8839 @ 8-----------\n",
      "------------------------------------------------------------------\n",
      "-----------PARSING REV FROM /msk/opinions/restaurants/perezmyata/ PAGE-----------\n",
      "-----------PAGE 1 PARSING-----------\n"
     ]
    },
    {
     "name": "stderr",
     "output_type": "stream",
     "text": [
      "\r",
      " 67%|██████▋   | 399/595 [10:57<05:22,  1.65s/it]"
     ]
    },
    {
     "name": "stdout",
     "output_type": "stream",
     "text": [
      "-----------2 reviews add to list. ListLen 2-----------\n",
      "-----------REVIEWS SHAPE: 2 @ 8 | RES DATA SHAPE: 8841 @ 8-----------\n",
      "------------------------------------------------------------------\n",
      "-----------PARSING REV FROM /msk/opinions/restaurants/pervaya_khinkalnaya_mimino_profsoyuznaya/ PAGE-----------\n",
      "-----------PAGE 1 PARSING-----------\n"
     ]
    },
    {
     "name": "stderr",
     "output_type": "stream",
     "text": [
      "\r",
      " 67%|██████▋   | 400/595 [10:57<05:20,  1.64s/it]"
     ]
    },
    {
     "name": "stdout",
     "output_type": "stream",
     "text": [
      "-----------5 reviews add to list. ListLen 5-----------\n",
      "-----------REVIEWS SHAPE: 5 @ 8 | RES DATA SHAPE: 8846 @ 8-----------\n",
      "------------------------------------------------------------------\n",
      "-----------PARSING REV FROM /msk/opinions/restaurants/pivnoy_zaliv/ PAGE-----------\n",
      "-----------PAGE 1 PARSING-----------\n"
     ]
    },
    {
     "name": "stderr",
     "output_type": "stream",
     "text": [
      "\r",
      " 67%|██████▋   | 401/595 [11:00<05:19,  1.65s/it]"
     ]
    },
    {
     "name": "stdout",
     "output_type": "stream",
     "text": [
      "-----------4 reviews add to list. ListLen 4-----------\n",
      "-----------REVIEWS SHAPE: 4 @ 8 | RES DATA SHAPE: 8850 @ 8-----------\n",
      "------------------------------------------------------------------\n",
      "-----------PARSING REV FROM /msk/opinions/restaurants/pirogi_vino_i_gus/ PAGE-----------\n",
      "-----------PAGE 1 PARSING-----------\n"
     ]
    },
    {
     "name": "stderr",
     "output_type": "stream",
     "text": [
      "\r",
      " 68%|██████▊   | 402/595 [11:01<05:17,  1.64s/it]"
     ]
    },
    {
     "name": "stdout",
     "output_type": "stream",
     "text": [
      "-----------6 reviews add to list. ListLen 6-----------\n",
      "-----------REVIEWS SHAPE: 6 @ 8 | RES DATA SHAPE: 8856 @ 8-----------\n",
      "------------------------------------------------------------------\n",
      "-----------PARSING REV FROM /msk/opinions/restaurants/dyatel/ PAGE-----------\n",
      "-----------PAGE 1 PARSING-----------\n",
      "-----------20 reviews add to list. ListLen 20-----------\n",
      "-----------PAGE 2 PARSING-----------\n",
      "-----------20 reviews add to list. ListLen 40-----------\n",
      "-----------PAGE 3 PARSING-----------\n",
      "-----------20 reviews add to list. ListLen 60-----------\n",
      "-----------PAGE 4 PARSING-----------\n"
     ]
    },
    {
     "name": "stderr",
     "output_type": "stream",
     "text": [
      "\r",
      " 68%|██████▊   | 403/595 [11:05<05:17,  1.65s/it]"
     ]
    },
    {
     "name": "stdout",
     "output_type": "stream",
     "text": [
      "-----------4 reviews add to list. ListLen 64-----------\n",
      "-----------REVIEWS SHAPE: 64 @ 8 | RES DATA SHAPE: 8920 @ 8-----------\n",
      "------------------------------------------------------------------\n",
      "-----------PARSING REV FROM /msk/opinions/restaurants/piv_ko/ PAGE-----------\n",
      "-----------PAGE 1 PARSING-----------\n",
      "-----------20 reviews add to list. ListLen 20-----------\n",
      "-----------PAGE 2 PARSING-----------\n",
      "-----------20 reviews add to list. ListLen 40-----------\n",
      "-----------PAGE 3 PARSING-----------\n"
     ]
    },
    {
     "name": "stderr",
     "output_type": "stream",
     "text": [
      "\r",
      " 68%|██████▊   | 404/595 [11:09<05:16,  1.66s/it]"
     ]
    },
    {
     "name": "stdout",
     "output_type": "stream",
     "text": [
      "-----------10 reviews add to list. ListLen 50-----------\n",
      "-----------REVIEWS SHAPE: 50 @ 8 | RES DATA SHAPE: 8970 @ 8-----------\n",
      "------------------------------------------------------------------\n",
      "-----------PARSING REV FROM /msk/opinions/restaurants/prazhechka/ PAGE-----------\n",
      "-----------PAGE 1 PARSING-----------\n"
     ]
    },
    {
     "name": "stderr",
     "output_type": "stream",
     "text": [
      "\r",
      " 68%|██████▊   | 405/595 [11:10<05:14,  1.66s/it]"
     ]
    },
    {
     "name": "stdout",
     "output_type": "stream",
     "text": [
      "-----------5 reviews add to list. ListLen 5-----------\n",
      "-----------REVIEWS SHAPE: 5 @ 8 | RES DATA SHAPE: 8975 @ 8-----------\n",
      "------------------------------------------------------------------\n",
      "-----------PARSING REV FROM /msk/opinions/restaurants/pyatok/ PAGE-----------\n",
      "-----------PAGE 1 PARSING-----------\n"
     ]
    },
    {
     "name": "stderr",
     "output_type": "stream",
     "text": [
      "\r",
      " 68%|██████▊   | 406/595 [11:11<05:12,  1.65s/it]"
     ]
    },
    {
     "name": "stdout",
     "output_type": "stream",
     "text": [
      "-----------6 reviews add to list. ListLen 6-----------\n",
      "-----------REVIEWS SHAPE: 6 @ 8 | RES DATA SHAPE: 8981 @ 8-----------\n",
      "------------------------------------------------------------------\n",
      "-----------PARSING REV FROM /msk/opinions/restaurants/porto/ PAGE-----------\n",
      "-----------PAGE 1 PARSING-----------\n"
     ]
    },
    {
     "name": "stderr",
     "output_type": "stream",
     "text": [
      "\r",
      " 68%|██████▊   | 407/595 [11:12<05:10,  1.65s/it]"
     ]
    },
    {
     "name": "stdout",
     "output_type": "stream",
     "text": [
      "-----------5 reviews add to list. ListLen 5-----------\n",
      "-----------REVIEWS SHAPE: 5 @ 8 | RES DATA SHAPE: 8986 @ 8-----------\n",
      "------------------------------------------------------------------\n",
      "-----------PARSING REV FROM /msk/opinions/restaurants/porto_mikonos/ PAGE-----------\n",
      "-----------PAGE 1 PARSING-----------\n"
     ]
    },
    {
     "name": "stderr",
     "output_type": "stream",
     "text": [
      "\r",
      " 69%|██████▊   | 408/595 [11:13<05:08,  1.65s/it]"
     ]
    },
    {
     "name": "stdout",
     "output_type": "stream",
     "text": [
      "-----------5 reviews add to list. ListLen 5-----------\n",
      "-----------REVIEWS SHAPE: 5 @ 8 | RES DATA SHAPE: 8991 @ 8-----------\n",
      "------------------------------------------------------------------\n",
      "-----------PARSING REV FROM /msk/opinions/restaurants/prospekt9/ PAGE-----------\n",
      "-----------PAGE 1 PARSING-----------\n"
     ]
    },
    {
     "name": "stderr",
     "output_type": "stream",
     "text": [
      "\r",
      " 69%|██████▊   | 409/595 [11:14<05:06,  1.65s/it]"
     ]
    },
    {
     "name": "stdout",
     "output_type": "stream",
     "text": [
      "-----------10 reviews add to list. ListLen 10-----------\n",
      "-----------REVIEWS SHAPE: 10 @ 8 | RES DATA SHAPE: 9001 @ 8-----------\n",
      "------------------------------------------------------------------\n",
      "-----------PARSING REV FROM /msk/opinions/restaurants/promyaso/ PAGE-----------\n",
      "-----------PAGE 1 PARSING-----------\n"
     ]
    },
    {
     "name": "stderr",
     "output_type": "stream",
     "text": [
      "\r",
      " 69%|██████▉   | 410/595 [11:15<05:04,  1.65s/it]"
     ]
    },
    {
     "name": "stdout",
     "output_type": "stream",
     "text": [
      "-----------2 reviews add to list. ListLen 2-----------\n",
      "-----------REVIEWS SHAPE: 2 @ 8 | RES DATA SHAPE: 9003 @ 8-----------\n",
      "------------------------------------------------------------------\n",
      "-----------PARSING REV FROM /msk/opinions/restaurants/razgulyay/ PAGE-----------\n",
      "-----------PAGE 1 PARSING-----------\n",
      "-----------20 reviews add to list. ListLen 20-----------\n",
      "-----------PAGE 2 PARSING-----------\n"
     ]
    },
    {
     "name": "stderr",
     "output_type": "stream",
     "text": [
      "\r",
      " 69%|██████▉   | 411/595 [11:17<05:03,  1.65s/it]"
     ]
    },
    {
     "name": "stdout",
     "output_type": "stream",
     "text": [
      "-----------1 reviews add to list. ListLen 21-----------\n",
      "-----------REVIEWS SHAPE: 21 @ 8 | RES DATA SHAPE: 9024 @ 8-----------\n",
      "------------------------------------------------------------------\n",
      "-----------PARSING REV FROM /msk/opinions/restaurants/rgo/ PAGE-----------\n",
      "-----------PAGE 1 PARSING-----------\n",
      "-----------20 reviews add to list. ListLen 20-----------\n",
      "-----------PAGE 2 PARSING-----------\n",
      "-----------20 reviews add to list. ListLen 40-----------\n",
      "-----------PAGE 3 PARSING-----------\n",
      "-----------20 reviews add to list. ListLen 60-----------\n",
      "-----------PAGE 4 PARSING-----------\n"
     ]
    },
    {
     "name": "stderr",
     "output_type": "stream",
     "text": [
      "\r",
      " 69%|██████▉   | 412/595 [11:21<05:02,  1.65s/it]"
     ]
    },
    {
     "name": "stdout",
     "output_type": "stream",
     "text": [
      "-----------16 reviews add to list. ListLen 76-----------\n",
      "-----------REVIEWS SHAPE: 76 @ 8 | RES DATA SHAPE: 9100 @ 8-----------\n",
      "------------------------------------------------------------------\n",
      "-----------PARSING REV FROM /msk/opinions/restaurants/repast/ PAGE-----------\n",
      "-----------PAGE 1 PARSING-----------\n"
     ]
    },
    {
     "name": "stderr",
     "output_type": "stream",
     "text": [
      "\r",
      " 69%|██████▉   | 413/595 [11:22<05:00,  1.65s/it]"
     ]
    },
    {
     "name": "stdout",
     "output_type": "stream",
     "text": [
      "-----------2 reviews add to list. ListLen 2-----------\n",
      "-----------REVIEWS SHAPE: 2 @ 8 | RES DATA SHAPE: 9102 @ 8-----------\n",
      "------------------------------------------------------------------\n",
      "-----------PARSING REV FROM /msk/opinions/restaurants/rassolnikov/ PAGE-----------\n",
      "-----------PAGE 1 PARSING-----------\n"
     ]
    },
    {
     "name": "stderr",
     "output_type": "stream",
     "text": [
      "\r",
      " 70%|██████▉   | 414/595 [11:23<04:58,  1.65s/it]"
     ]
    },
    {
     "name": "stdout",
     "output_type": "stream",
     "text": [
      "-----------9 reviews add to list. ListLen 9-----------\n",
      "-----------REVIEWS SHAPE: 9 @ 8 | RES DATA SHAPE: 9111 @ 8-----------\n",
      "------------------------------------------------------------------\n",
      "-----------PARSING REV FROM /msk/opinions/restaurants/ribsandwings/ PAGE-----------\n",
      "-----------PAGE 1 PARSING-----------\n"
     ]
    },
    {
     "name": "stderr",
     "output_type": "stream",
     "text": [
      "\r",
      " 70%|██████▉   | 415/595 [11:24<04:56,  1.65s/it]"
     ]
    },
    {
     "name": "stdout",
     "output_type": "stream",
     "text": [
      "-----------9 reviews add to list. ListLen 9-----------\n",
      "-----------REVIEWS SHAPE: 9 @ 8 | RES DATA SHAPE: 9120 @ 8-----------\n",
      "------------------------------------------------------------------\n",
      "-----------PARSING REV FROM /msk/opinions/restaurants/ray_u_fontana/ PAGE-----------\n",
      "-----------PAGE 1 PARSING-----------\n"
     ]
    },
    {
     "name": "stderr",
     "output_type": "stream",
     "text": [
      "\r",
      " 70%|██████▉   | 416/595 [11:25<04:54,  1.65s/it]"
     ]
    },
    {
     "name": "stdout",
     "output_type": "stream",
     "text": [
      "-----------4 reviews add to list. ListLen 4-----------\n",
      "-----------REVIEWS SHAPE: 4 @ 8 | RES DATA SHAPE: 9124 @ 8-----------\n",
      "------------------------------------------------------------------\n",
      "-----------PARSING REV FROM /msk/opinions/restaurants/rakhmat/ PAGE-----------\n",
      "-----------PAGE 1 PARSING-----------\n"
     ]
    },
    {
     "name": "stderr",
     "output_type": "stream",
     "text": [
      "\r",
      " 70%|███████   | 417/595 [11:26<04:52,  1.65s/it]"
     ]
    },
    {
     "name": "stdout",
     "output_type": "stream",
     "text": [
      "-----------4 reviews add to list. ListLen 4-----------\n",
      "-----------REVIEWS SHAPE: 4 @ 8 | RES DATA SHAPE: 9128 @ 8-----------\n",
      "------------------------------------------------------------------\n",
      "-----------PARSING REV FROM /msk/opinions/restaurants/rodnye-lyudi/ PAGE-----------\n",
      "-----------PAGE 1 PARSING-----------\n"
     ]
    },
    {
     "name": "stderr",
     "output_type": "stream",
     "text": [
      "\r",
      " 70%|███████   | 418/595 [11:26<04:50,  1.64s/it]"
     ]
    },
    {
     "name": "stdout",
     "output_type": "stream",
     "text": [
      "-----------4 reviews add to list. ListLen 4-----------\n",
      "-----------REVIEWS SHAPE: 4 @ 8 | RES DATA SHAPE: 9132 @ 8-----------\n",
      "------------------------------------------------------------------\n",
      "-----------PARSING REV FROM /msk/opinions/restaurants/saperavicafe_pokrovka/ PAGE-----------\n",
      "-----------PAGE 1 PARSING-----------\n",
      "-----------20 reviews add to list. ListLen 20-----------\n",
      "-----------PAGE 2 PARSING-----------\n"
     ]
    },
    {
     "name": "stderr",
     "output_type": "stream",
     "text": [
      "\r",
      " 70%|███████   | 419/595 [11:29<04:49,  1.64s/it]"
     ]
    },
    {
     "name": "stdout",
     "output_type": "stream",
     "text": [
      "-----------20 reviews add to list. ListLen 40-----------\n",
      "-----------REVIEWS SHAPE: 40 @ 8 | RES DATA SHAPE: 9172 @ 8-----------\n",
      "------------------------------------------------------------------\n",
      "-----------PARSING REV FROM /msk/opinions/restaurants/russkoepodvorie/ PAGE-----------\n",
      "-----------PAGE 1 PARSING-----------\n",
      "-----------20 reviews add to list. ListLen 20-----------\n",
      "-----------PAGE 2 PARSING-----------\n"
     ]
    },
    {
     "name": "stderr",
     "output_type": "stream",
     "text": [
      "\r",
      " 71%|███████   | 420/595 [11:32<04:48,  1.65s/it]"
     ]
    },
    {
     "name": "stdout",
     "output_type": "stream",
     "text": [
      "-----------4 reviews add to list. ListLen 24-----------\n",
      "-----------REVIEWS SHAPE: 24 @ 8 | RES DATA SHAPE: 9196 @ 8-----------\n",
      "------------------------------------------------------------------\n",
      "-----------PARSING REV FROM /msk/opinions/restaurants/saperavicafe/ PAGE-----------\n",
      "-----------PAGE 1 PARSING-----------\n"
     ]
    },
    {
     "name": "stderr",
     "output_type": "stream",
     "text": [
      "\r",
      " 71%|███████   | 421/595 [11:32<04:46,  1.65s/it]"
     ]
    },
    {
     "name": "stdout",
     "output_type": "stream",
     "text": [
      "-----------9 reviews add to list. ListLen 9-----------\n",
      "-----------REVIEWS SHAPE: 9 @ 8 | RES DATA SHAPE: 9205 @ 8-----------\n",
      "------------------------------------------------------------------\n",
      "-----------PARSING REV FROM /msk/opinions/restaurants/samarkand/ PAGE-----------\n",
      "-----------PAGE 1 PARSING-----------\n"
     ]
    },
    {
     "name": "stderr",
     "output_type": "stream",
     "text": [
      "\r",
      " 71%|███████   | 422/595 [11:33<04:44,  1.64s/it]"
     ]
    },
    {
     "name": "stdout",
     "output_type": "stream",
     "text": [
      "-----------8 reviews add to list. ListLen 8-----------\n",
      "-----------REVIEWS SHAPE: 8 @ 8 | RES DATA SHAPE: 9213 @ 8-----------\n",
      "------------------------------------------------------------------\n",
      "-----------PARSING REV FROM /msk/opinions/restaurants/salhino3/ PAGE-----------\n",
      "-----------PAGE 1 PARSING-----------\n"
     ]
    },
    {
     "name": "stderr",
     "output_type": "stream",
     "text": [
      "\r",
      " 71%|███████   | 423/595 [11:34<04:42,  1.64s/it]"
     ]
    },
    {
     "name": "stdout",
     "output_type": "stream",
     "text": [
      "-----------3 reviews add to list. ListLen 3-----------\n",
      "-----------REVIEWS SHAPE: 3 @ 8 | RES DATA SHAPE: 9216 @ 8-----------\n",
      "------------------------------------------------------------------\n",
      "-----------PARSING REV FROM /msk/opinions/restaurants/russkiy_chay/ PAGE-----------\n",
      "-----------PAGE 1 PARSING-----------\n"
     ]
    },
    {
     "name": "stderr",
     "output_type": "stream",
     "text": [
      "\r",
      " 71%|███████▏  | 424/595 [11:35<04:40,  1.64s/it]"
     ]
    },
    {
     "name": "stdout",
     "output_type": "stream",
     "text": [
      "-----------2 reviews add to list. ListLen 2-----------\n",
      "-----------REVIEWS SHAPE: 2 @ 8 | RES DATA SHAPE: 9218 @ 8-----------\n",
      "------------------------------------------------------------------\n",
      "-----------PARSING REV FROM /msk/opinions/restaurants/samarkand_rest/ PAGE-----------\n",
      "-----------PAGE 1 PARSING-----------\n"
     ]
    },
    {
     "name": "stderr",
     "output_type": "stream",
     "text": [
      "\r",
      " 71%|███████▏  | 425/595 [11:36<04:38,  1.64s/it]"
     ]
    },
    {
     "name": "stdout",
     "output_type": "stream",
     "text": [
      "-----------16 reviews add to list. ListLen 16-----------\n",
      "-----------REVIEWS SHAPE: 16 @ 8 | RES DATA SHAPE: 9234 @ 8-----------\n",
      "------------------------------------------------------------------\n",
      "-----------PARSING REV FROM /msk/opinions/restaurants/sad-imperatora/ PAGE-----------\n",
      "-----------PAGE 1 PARSING-----------\n"
     ]
    },
    {
     "name": "stderr",
     "output_type": "stream",
     "text": [
      "\r",
      " 72%|███████▏  | 426/595 [11:37<04:36,  1.64s/it]"
     ]
    },
    {
     "name": "stdout",
     "output_type": "stream",
     "text": [
      "-----------3 reviews add to list. ListLen 3-----------\n",
      "-----------REVIEWS SHAPE: 3 @ 8 | RES DATA SHAPE: 9237 @ 8-----------\n",
      "------------------------------------------------------------------\n",
      "-----------PARSING REV FROM /msk/opinions/restaurants/rbazar/ PAGE-----------\n",
      "-----------PAGE 1 PARSING-----------\n"
     ]
    },
    {
     "name": "stderr",
     "output_type": "stream",
     "text": [
      "\r",
      " 72%|███████▏  | 427/595 [11:38<04:34,  1.64s/it]"
     ]
    },
    {
     "name": "stdout",
     "output_type": "stream",
     "text": [
      "-----------15 reviews add to list. ListLen 15-----------\n",
      "-----------REVIEWS SHAPE: 15 @ 8 | RES DATA SHAPE: 9252 @ 8-----------\n",
      "------------------------------------------------------------------\n",
      "-----------PARSING REV FROM /msk/opinions/restaurants/savoy/ PAGE-----------\n",
      "-----------PAGE 1 PARSING-----------\n"
     ]
    },
    {
     "name": "stderr",
     "output_type": "stream",
     "text": [
      "\r",
      " 72%|███████▏  | 428/595 [11:39<04:33,  1.64s/it]"
     ]
    },
    {
     "name": "stdout",
     "output_type": "stream",
     "text": [
      "-----------2 reviews add to list. ListLen 2-----------\n",
      "-----------REVIEWS SHAPE: 2 @ 8 | RES DATA SHAPE: 9254 @ 8-----------\n",
      "------------------------------------------------------------------\n",
      "-----------PARSING REV FROM /msk/opinions/restaurants/restoranprospekt/ PAGE-----------\n",
      "-----------PAGE 1 PARSING-----------\n"
     ]
    },
    {
     "name": "stderr",
     "output_type": "stream",
     "text": [
      "\r",
      " 72%|███████▏  | 429/595 [11:40<04:31,  1.63s/it]"
     ]
    },
    {
     "name": "stdout",
     "output_type": "stream",
     "text": [
      "-----------10 reviews add to list. ListLen 10-----------\n",
      "-----------REVIEWS SHAPE: 10 @ 8 | RES DATA SHAPE: 9264 @ 8-----------\n",
      "------------------------------------------------------------------\n",
      "-----------PARSING REV FROM /msk/opinions/restaurants/saperavi/ PAGE-----------\n",
      "-----------PAGE 1 PARSING-----------\n"
     ]
    },
    {
     "name": "stderr",
     "output_type": "stream",
     "text": [
      "\r",
      " 72%|███████▏  | 430/595 [11:41<04:29,  1.63s/it]"
     ]
    },
    {
     "name": "stdout",
     "output_type": "stream",
     "text": [
      "-----------20 reviews add to list. ListLen 20-----------\n",
      "-----------REVIEWS SHAPE: 20 @ 8 | RES DATA SHAPE: 9284 @ 8-----------\n",
      "------------------------------------------------------------------\n",
      "-----------PARSING REV FROM /msk/opinions/restaurants/saperavicafe_tverskaya_yamskaya/ PAGE-----------\n",
      "-----------PAGE 1 PARSING-----------\n"
     ]
    },
    {
     "name": "stderr",
     "output_type": "stream",
     "text": [
      "\r",
      " 72%|███████▏  | 431/595 [11:42<04:27,  1.63s/it]"
     ]
    },
    {
     "name": "stdout",
     "output_type": "stream",
     "text": [
      "-----------13 reviews add to list. ListLen 13-----------\n",
      "-----------REVIEWS SHAPE: 13 @ 8 | RES DATA SHAPE: 9297 @ 8-----------\n",
      "------------------------------------------------------------------\n",
      "-----------PARSING REV FROM /msk/opinions/restaurants/silverage/ PAGE-----------\n",
      "-----------PAGE 1 PARSING-----------\n",
      "-----------20 reviews add to list. ListLen 20-----------\n",
      "-----------PAGE 2 PARSING-----------\n"
     ]
    },
    {
     "name": "stderr",
     "output_type": "stream",
     "text": [
      "\r",
      " 73%|███████▎  | 432/595 [11:45<04:26,  1.63s/it]"
     ]
    },
    {
     "name": "stdout",
     "output_type": "stream",
     "text": [
      "-----------9 reviews add to list. ListLen 29-----------\n",
      "-----------REVIEWS SHAPE: 29 @ 8 | RES DATA SHAPE: 9326 @ 8-----------\n",
      "------------------------------------------------------------------\n",
      "-----------PARSING REV FROM /msk/opinions/restaurants/sibirskaya_korona/ PAGE-----------\n",
      "-----------PAGE 1 PARSING-----------\n"
     ]
    },
    {
     "name": "stderr",
     "output_type": "stream",
     "text": [
      "\r",
      " 73%|███████▎  | 433/595 [11:45<04:24,  1.63s/it]"
     ]
    },
    {
     "name": "stdout",
     "output_type": "stream",
     "text": [
      "-----------2 reviews add to list. ListLen 2-----------\n",
      "-----------REVIEWS SHAPE: 2 @ 8 | RES DATA SHAPE: 9328 @ 8-----------\n",
      "------------------------------------------------------------------\n",
      "-----------PARSING REV FROM /msk/opinions/restaurants/sikvaruli/ PAGE-----------\n",
      "-----------PAGE 1 PARSING-----------\n"
     ]
    },
    {
     "name": "stderr",
     "output_type": "stream",
     "text": [
      "\r",
      " 73%|███████▎  | 434/595 [11:46<04:22,  1.63s/it]"
     ]
    },
    {
     "name": "stdout",
     "output_type": "stream",
     "text": [
      "-----------2 reviews add to list. ListLen 2-----------\n",
      "-----------REVIEWS SHAPE: 2 @ 8 | RES DATA SHAPE: 9330 @ 8-----------\n",
      "------------------------------------------------------------------\n",
      "-----------PARSING REV FROM /msk/opinions/restaurants/3_sisters/ PAGE-----------\n",
      "-----------PAGE 1 PARSING-----------\n"
     ]
    },
    {
     "name": "stderr",
     "output_type": "stream",
     "text": [
      "\r",
      " 73%|███████▎  | 435/595 [11:47<04:20,  1.63s/it]"
     ]
    },
    {
     "name": "stdout",
     "output_type": "stream",
     "text": [
      "-----------11 reviews add to list. ListLen 11-----------\n",
      "-----------REVIEWS SHAPE: 11 @ 8 | RES DATA SHAPE: 9341 @ 8-----------\n",
      "------------------------------------------------------------------\n",
      "-----------PARSING REV FROM /msk/opinions/restaurants/simsim/ PAGE-----------\n",
      "-----------PAGE 1 PARSING-----------\n",
      "-----------20 reviews add to list. ListLen 20-----------\n",
      "-----------PAGE 2 PARSING-----------\n",
      "-----------20 reviews add to list. ListLen 40-----------\n",
      "-----------PAGE 3 PARSING-----------\n",
      "-----------20 reviews add to list. ListLen 60-----------\n",
      "-----------PAGE 4 PARSING-----------\n",
      "-----------20 reviews add to list. ListLen 80-----------\n",
      "-----------PAGE 5 PARSING-----------\n",
      "-----------20 reviews add to list. ListLen 100-----------\n",
      "-----------PAGE 6 PARSING-----------\n",
      "-----------20 reviews add to list. ListLen 120-----------\n",
      "-----------PAGE 7 PARSING-----------\n",
      "-----------20 reviews add to list. ListLen 140-----------\n",
      "-----------PAGE 8 PARSING-----------\n",
      "-----------12 reviews add to list. ListLen 152-----------\n"
     ]
    },
    {
     "name": "stderr",
     "output_type": "stream",
     "text": [
      "\r",
      " 73%|███████▎  | 436/595 [11:55<04:21,  1.64s/it]"
     ]
    },
    {
     "name": "stdout",
     "output_type": "stream",
     "text": [
      "-----------REVIEWS SHAPE: 152 @ 8 | RES DATA SHAPE: 9493 @ 8-----------\n",
      "------------------------------------------------------------------\n",
      "-----------PARSING REV FROM /msk/opinions/restaurants/sindbad-cafe/ PAGE-----------\n",
      "-----------PAGE 1 PARSING-----------\n"
     ]
    },
    {
     "name": "stderr",
     "output_type": "stream",
     "text": [
      "\r",
      " 73%|███████▎  | 437/595 [11:57<04:19,  1.64s/it]"
     ]
    },
    {
     "name": "stdout",
     "output_type": "stream",
     "text": [
      "-----------13 reviews add to list. ListLen 13-----------\n",
      "-----------REVIEWS SHAPE: 13 @ 8 | RES DATA SHAPE: 9506 @ 8-----------\n",
      "------------------------------------------------------------------\n",
      "-----------PARSING REV FROM /msk/opinions/restaurants/solo/ PAGE-----------\n",
      "-----------PAGE 1 PARSING-----------\n"
     ]
    },
    {
     "name": "stderr",
     "output_type": "stream",
     "text": [
      "\r",
      " 74%|███████▎  | 438/595 [11:57<04:17,  1.64s/it]"
     ]
    },
    {
     "name": "stdout",
     "output_type": "stream",
     "text": [
      "-----------4 reviews add to list. ListLen 4-----------\n",
      "-----------REVIEWS SHAPE: 4 @ 8 | RES DATA SHAPE: 9510 @ 8-----------\n",
      "------------------------------------------------------------------\n",
      "-----------PARSING REV FROM /msk/opinions/restaurants/solfasol/ PAGE-----------\n",
      "-----------PAGE 1 PARSING-----------\n",
      "-----------20 reviews add to list. ListLen 20-----------\n",
      "-----------PAGE 2 PARSING-----------\n"
     ]
    },
    {
     "name": "stderr",
     "output_type": "stream",
     "text": [
      "\r",
      " 74%|███████▍  | 439/595 [11:59<04:15,  1.64s/it]"
     ]
    },
    {
     "name": "stdout",
     "output_type": "stream",
     "text": [
      "-----------13 reviews add to list. ListLen 33-----------\n",
      "-----------REVIEWS SHAPE: 33 @ 8 | RES DATA SHAPE: 9543 @ 8-----------\n",
      "------------------------------------------------------------------\n",
      "-----------PARSING REV FROM /msk/opinions/restaurants/sosedicafe/ PAGE-----------\n",
      "-----------PAGE 1 PARSING-----------\n"
     ]
    },
    {
     "name": "stderr",
     "output_type": "stream",
     "text": [
      "\r",
      " 74%|███████▍  | 440/595 [12:00<04:13,  1.64s/it]"
     ]
    },
    {
     "name": "stdout",
     "output_type": "stream",
     "text": [
      "-----------12 reviews add to list. ListLen 12-----------\n",
      "-----------REVIEWS SHAPE: 12 @ 8 | RES DATA SHAPE: 9555 @ 8-----------\n",
      "------------------------------------------------------------------\n",
      "-----------PARSING REV FROM /msk/opinions/restaurants/sololaki/ PAGE-----------\n",
      "-----------PAGE 1 PARSING-----------\n"
     ]
    },
    {
     "name": "stderr",
     "output_type": "stream",
     "text": [
      "\r",
      " 74%|███████▍  | 441/595 [12:02<04:12,  1.64s/it]"
     ]
    },
    {
     "name": "stdout",
     "output_type": "stream",
     "text": [
      "-----------2 reviews add to list. ListLen 2-----------\n",
      "-----------REVIEWS SHAPE: 2 @ 8 | RES DATA SHAPE: 9557 @ 8-----------\n",
      "------------------------------------------------------------------\n",
      "-----------PARSING REV FROM /msk/opinions/restaurants/sochi-cafe/ PAGE-----------\n",
      "-----------PAGE 1 PARSING-----------\n"
     ]
    },
    {
     "name": "stderr",
     "output_type": "stream",
     "text": [
      "\r",
      " 74%|███████▍  | 442/595 [12:03<04:10,  1.64s/it]"
     ]
    },
    {
     "name": "stdout",
     "output_type": "stream",
     "text": [
      "-----------4 reviews add to list. ListLen 4-----------\n",
      "-----------REVIEWS SHAPE: 4 @ 8 | RES DATA SHAPE: 9561 @ 8-----------\n",
      "------------------------------------------------------------------\n",
      "-----------PARSING REV FROM /msk/opinions/restaurants/solntse-plaza/ PAGE-----------\n",
      "-----------PAGE 1 PARSING-----------\n"
     ]
    },
    {
     "name": "stderr",
     "output_type": "stream",
     "text": [
      "\r",
      " 74%|███████▍  | 443/595 [12:03<04:08,  1.63s/it]"
     ]
    },
    {
     "name": "stdout",
     "output_type": "stream",
     "text": [
      "-----------2 reviews add to list. ListLen 2-----------\n",
      "-----------REVIEWS SHAPE: 2 @ 8 | RES DATA SHAPE: 9563 @ 8-----------\n",
      "------------------------------------------------------------------\n",
      "-----------PARSING REV FROM /msk/opinions/restaurants/sinayareka/ PAGE-----------\n",
      "-----------PAGE 1 PARSING-----------\n",
      "-----------20 reviews add to list. ListLen 20-----------\n",
      "-----------PAGE 2 PARSING-----------\n",
      "-----------20 reviews add to list. ListLen 40-----------\n",
      "-----------PAGE 3 PARSING-----------\n"
     ]
    },
    {
     "name": "stderr",
     "output_type": "stream",
     "text": [
      "\r",
      " 75%|███████▍  | 444/595 [12:06<04:07,  1.64s/it]"
     ]
    },
    {
     "name": "stdout",
     "output_type": "stream",
     "text": [
      "-----------1 reviews add to list. ListLen 41-----------\n",
      "-----------REVIEWS SHAPE: 41 @ 8 | RES DATA SHAPE: 9604 @ 8-----------\n",
      "------------------------------------------------------------------\n",
      "-----------PARSING REV FROM /msk/opinions/restaurants/sokol/ PAGE-----------\n",
      "-----------PAGE 1 PARSING-----------\n",
      "-----------20 reviews add to list. ListLen 20-----------\n",
      "-----------PAGE 2 PARSING-----------\n"
     ]
    },
    {
     "name": "stderr",
     "output_type": "stream",
     "text": [
      "\r",
      " 75%|███████▍  | 445/595 [12:08<04:05,  1.64s/it]"
     ]
    },
    {
     "name": "stdout",
     "output_type": "stream",
     "text": [
      "-----------2 reviews add to list. ListLen 22-----------\n",
      "-----------REVIEWS SHAPE: 22 @ 8 | RES DATA SHAPE: 9626 @ 8-----------\n",
      "------------------------------------------------------------------\n",
      "-----------PARSING REV FROM /msk/opinions/restaurants/skala/ PAGE-----------\n",
      "-----------PAGE 1 PARSING-----------\n",
      "-----------20 reviews add to list. ListLen 20-----------\n",
      "-----------PAGE 2 PARSING-----------\n",
      "-----------20 reviews add to list. ListLen 40-----------\n",
      "-----------PAGE 3 PARSING-----------\n",
      "-----------20 reviews add to list. ListLen 60-----------\n",
      "-----------PAGE 4 PARSING-----------\n",
      "-----------20 reviews add to list. ListLen 80-----------\n",
      "-----------PAGE 5 PARSING-----------\n"
     ]
    },
    {
     "name": "stderr",
     "output_type": "stream",
     "text": [
      "\r",
      " 75%|███████▍  | 446/595 [12:14<04:05,  1.65s/it]"
     ]
    },
    {
     "name": "stdout",
     "output_type": "stream",
     "text": [
      "-----------11 reviews add to list. ListLen 91-----------\n",
      "-----------REVIEWS SHAPE: 91 @ 8 | RES DATA SHAPE: 9717 @ 8-----------\n",
      "------------------------------------------------------------------\n",
      "-----------PARSING REV FROM /msk/opinions/restaurants/strogino-gavan/ PAGE-----------\n",
      "-----------PAGE 1 PARSING-----------\n"
     ]
    },
    {
     "name": "stderr",
     "output_type": "stream",
     "text": [
      "\r",
      " 75%|███████▌  | 447/595 [12:15<04:03,  1.64s/it]"
     ]
    },
    {
     "name": "stdout",
     "output_type": "stream",
     "text": [
      "-----------4 reviews add to list. ListLen 4-----------\n",
      "-----------REVIEWS SHAPE: 4 @ 8 | RES DATA SHAPE: 9721 @ 8-----------\n",
      "------------------------------------------------------------------\n",
      "-----------PARSING REV FROM /msk/opinions/restaurants/starina_myuller_ul_bakuninskaya/ PAGE-----------\n",
      "-----------PAGE 1 PARSING-----------\n"
     ]
    },
    {
     "name": "stderr",
     "output_type": "stream",
     "text": [
      "\r",
      " 75%|███████▌  | 448/595 [12:16<04:01,  1.64s/it]"
     ]
    },
    {
     "name": "stdout",
     "output_type": "stream",
     "text": [
      "-----------3 reviews add to list. ListLen 3-----------\n",
      "-----------REVIEWS SHAPE: 3 @ 8 | RES DATA SHAPE: 9724 @ 8-----------\n",
      "------------------------------------------------------------------\n",
      "-----------PARSING REV FROM /msk/opinions/restaurants/starina_myuller_shmitovskiy_proezd/ PAGE-----------\n",
      "-----------PAGE 1 PARSING-----------\n"
     ]
    },
    {
     "name": "stderr",
     "output_type": "stream",
     "text": [
      "\r",
      " 75%|███████▌  | 449/595 [12:16<03:59,  1.64s/it]"
     ]
    },
    {
     "name": "stdout",
     "output_type": "stream",
     "text": [
      "-----------2 reviews add to list. ListLen 2-----------\n",
      "-----------REVIEWS SHAPE: 2 @ 8 | RES DATA SHAPE: 9726 @ 8-----------\n",
      "------------------------------------------------------------------\n",
      "-----------PARSING REV FROM /msk/opinions/restaurants/staryy_dub/ PAGE-----------\n",
      "-----------PAGE 1 PARSING-----------\n"
     ]
    },
    {
     "name": "stderr",
     "output_type": "stream",
     "text": [
      "\r",
      " 76%|███████▌  | 450/595 [12:18<03:57,  1.64s/it]"
     ]
    },
    {
     "name": "stdout",
     "output_type": "stream",
     "text": [
      "-----------14 reviews add to list. ListLen 14-----------\n",
      "-----------REVIEWS SHAPE: 14 @ 8 | RES DATA SHAPE: 9740 @ 8-----------\n",
      "------------------------------------------------------------------\n",
      "-----------PARSING REV FROM /msk/opinions/restaurants/stradivari_rest/ PAGE-----------\n",
      "-----------PAGE 1 PARSING-----------\n"
     ]
    },
    {
     "name": "stderr",
     "output_type": "stream",
     "text": [
      "\r",
      " 76%|███████▌  | 451/595 [12:18<03:55,  1.64s/it]"
     ]
    },
    {
     "name": "stdout",
     "output_type": "stream",
     "text": [
      "-----------5 reviews add to list. ListLen 5-----------\n",
      "-----------REVIEWS SHAPE: 5 @ 8 | RES DATA SHAPE: 9745 @ 8-----------\n",
      "------------------------------------------------------------------\n",
      "-----------PARSING REV FROM /msk/opinions/restaurants/usadbarest/ PAGE-----------\n",
      "-----------PAGE 1 PARSING-----------\n"
     ]
    },
    {
     "name": "stderr",
     "output_type": "stream",
     "text": [
      "\r",
      " 76%|███████▌  | 452/595 [12:20<03:54,  1.64s/it]"
     ]
    },
    {
     "name": "stdout",
     "output_type": "stream",
     "text": [
      "-----------12 reviews add to list. ListLen 12-----------\n",
      "-----------REVIEWS SHAPE: 12 @ 8 | RES DATA SHAPE: 9757 @ 8-----------\n",
      "------------------------------------------------------------------\n",
      "-----------PARSING REV FROM /msk/opinions/restaurants/stariyeger/ PAGE-----------\n",
      "-----------PAGE 1 PARSING-----------\n"
     ]
    },
    {
     "name": "stderr",
     "output_type": "stream",
     "text": [
      "\r",
      " 76%|███████▌  | 453/595 [12:21<03:52,  1.64s/it]"
     ]
    },
    {
     "name": "stdout",
     "output_type": "stream",
     "text": [
      "-----------11 reviews add to list. ListLen 11-----------\n",
      "-----------REVIEWS SHAPE: 11 @ 8 | RES DATA SHAPE: 9768 @ 8-----------\n",
      "------------------------------------------------------------------\n",
      "-----------PARSING REV FROM /msk/opinions/restaurants/stargorod/ PAGE-----------\n",
      "-----------PAGE 1 PARSING-----------\n"
     ]
    },
    {
     "name": "stderr",
     "output_type": "stream",
     "text": [
      "\r",
      " 76%|███████▋  | 454/595 [12:21<03:50,  1.63s/it]"
     ]
    },
    {
     "name": "stdout",
     "output_type": "stream",
     "text": [
      "-----------7 reviews add to list. ListLen 7-----------\n",
      "-----------REVIEWS SHAPE: 7 @ 8 | RES DATA SHAPE: 9775 @ 8-----------\n",
      "------------------------------------------------------------------\n",
      "-----------PARSING REV FROM /msk/opinions/restaurants/sitlos2/ PAGE-----------\n",
      "-----------PAGE 1 PARSING-----------\n",
      "-----------20 reviews add to list. ListLen 20-----------\n",
      "-----------PAGE 2 PARSING-----------\n",
      "-----------20 reviews add to list. ListLen 40-----------\n",
      "-----------PAGE 3 PARSING-----------\n"
     ]
    },
    {
     "name": "stderr",
     "output_type": "stream",
     "text": [
      "\r",
      " 76%|███████▋  | 455/595 [12:25<03:49,  1.64s/it]"
     ]
    },
    {
     "name": "stdout",
     "output_type": "stream",
     "text": [
      "-----------7 reviews add to list. ListLen 47-----------\n",
      "-----------REVIEWS SHAPE: 47 @ 8 | RES DATA SHAPE: 9822 @ 8-----------\n",
      "------------------------------------------------------------------\n",
      "-----------PARSING REV FROM /msk/opinions/restaurants/schaste_na_kryshe/ PAGE-----------\n",
      "-----------PAGE 1 PARSING-----------\n",
      "-----------20 reviews add to list. ListLen 20-----------\n",
      "-----------PAGE 2 PARSING-----------\n",
      "-----------20 reviews add to list. ListLen 40-----------\n",
      "-----------PAGE 3 PARSING-----------\n",
      "-----------20 reviews add to list. ListLen 60-----------\n",
      "-----------PAGE 4 PARSING-----------\n"
     ]
    },
    {
     "name": "stderr",
     "output_type": "stream",
     "text": [
      "\r",
      " 77%|███████▋  | 456/595 [12:29<03:48,  1.64s/it]"
     ]
    },
    {
     "name": "stdout",
     "output_type": "stream",
     "text": [
      "-----------17 reviews add to list. ListLen 77-----------\n",
      "-----------REVIEWS SHAPE: 77 @ 8 | RES DATA SHAPE: 9899 @ 8-----------\n",
      "------------------------------------------------------------------\n",
      "-----------PARSING REV FROM /msk/opinions/restaurants/subbotitsa/ PAGE-----------\n",
      "-----------PAGE 1 PARSING-----------\n",
      "-----------20 reviews add to list. ListLen 20-----------\n",
      "-----------PAGE 2 PARSING-----------\n"
     ]
    },
    {
     "name": "stderr",
     "output_type": "stream",
     "text": [
      "\r",
      " 77%|███████▋  | 457/595 [12:31<03:46,  1.64s/it]"
     ]
    },
    {
     "name": "stdout",
     "output_type": "stream",
     "text": [
      "-----------7 reviews add to list. ListLen 27-----------\n",
      "-----------REVIEWS SHAPE: 27 @ 8 | RES DATA SHAPE: 9926 @ 8-----------\n",
      "------------------------------------------------------------------\n",
      "-----------PARSING REV FROM /msk/opinions/restaurants/syltan/ PAGE-----------\n",
      "-----------PAGE 1 PARSING-----------\n",
      "-----------20 reviews add to list. ListLen 20-----------\n",
      "-----------PAGE 2 PARSING-----------\n",
      "-----------20 reviews add to list. ListLen 40-----------\n",
      "-----------PAGE 3 PARSING-----------\n",
      "-----------20 reviews add to list. ListLen 60-----------\n",
      "-----------PAGE 4 PARSING-----------\n"
     ]
    },
    {
     "name": "stderr",
     "output_type": "stream",
     "text": [
      "\r",
      " 77%|███████▋  | 458/595 [12:36<03:46,  1.65s/it]"
     ]
    },
    {
     "name": "stdout",
     "output_type": "stream",
     "text": [
      "-----------13 reviews add to list. ListLen 73-----------\n",
      "-----------REVIEWS SHAPE: 73 @ 8 | RES DATA SHAPE: 9999 @ 8-----------\n",
      "------------------------------------------------------------------\n",
      "-----------PARSING REV FROM /msk/opinions/restaurants/suvoroff/ PAGE-----------\n",
      "-----------PAGE 1 PARSING-----------\n",
      "-----------20 reviews add to list. ListLen 20-----------\n",
      "-----------PAGE 2 PARSING-----------\n"
     ]
    },
    {
     "name": "stderr",
     "output_type": "stream",
     "text": [
      "\r",
      " 77%|███████▋  | 459/595 [12:38<03:44,  1.65s/it]"
     ]
    },
    {
     "name": "stdout",
     "output_type": "stream",
     "text": [
      "-----------13 reviews add to list. ListLen 33-----------\n",
      "-----------REVIEWS SHAPE: 33 @ 8 | RES DATA SHAPE: 10032 @ 8-----------\n",
      "------------------------------------------------------------------\n",
      "-----------PARSING REV FROM /msk/opinions/restaurants/korsh/ PAGE-----------\n",
      "-----------PAGE 1 PARSING-----------\n"
     ]
    },
    {
     "name": "stderr",
     "output_type": "stream",
     "text": [
      "\r",
      " 77%|███████▋  | 460/595 [12:39<03:42,  1.65s/it]"
     ]
    },
    {
     "name": "stdout",
     "output_type": "stream",
     "text": [
      "-----------10 reviews add to list. ListLen 10-----------\n",
      "-----------REVIEWS SHAPE: 10 @ 8 | RES DATA SHAPE: 10042 @ 8-----------\n",
      "------------------------------------------------------------------\n",
      "-----------PARSING REV FROM /msk/opinions/restaurants/sitlos/ PAGE-----------\n",
      "-----------PAGE 1 PARSING-----------\n",
      "-----------20 reviews add to list. ListLen 20-----------\n",
      "-----------PAGE 2 PARSING-----------\n",
      "-----------20 reviews add to list. ListLen 40-----------\n",
      "-----------PAGE 3 PARSING-----------\n",
      "-----------20 reviews add to list. ListLen 60-----------\n",
      "-----------PAGE 4 PARSING-----------\n",
      "-----------20 reviews add to list. ListLen 80-----------\n",
      "-----------PAGE 5 PARSING-----------\n",
      "-----------20 reviews add to list. ListLen 100-----------\n",
      "-----------PAGE 6 PARSING-----------\n"
     ]
    },
    {
     "name": "stderr",
     "output_type": "stream",
     "text": [
      "\r",
      " 77%|███████▋  | 461/595 [12:46<03:42,  1.66s/it]"
     ]
    },
    {
     "name": "stdout",
     "output_type": "stream",
     "text": [
      "-----------16 reviews add to list. ListLen 116-----------\n",
      "-----------REVIEWS SHAPE: 116 @ 8 | RES DATA SHAPE: 10158 @ 8-----------\n",
      "------------------------------------------------------------------\n",
      "-----------PARSING REV FROM /msk/opinions/restaurants/pirpushka/ PAGE-----------\n",
      "-----------PAGE 1 PARSING-----------\n",
      "-----------20 reviews add to list. ListLen 20-----------\n",
      "-----------PAGE 2 PARSING-----------\n"
     ]
    },
    {
     "name": "stderr",
     "output_type": "stream",
     "text": [
      "\r",
      " 78%|███████▊  | 462/595 [12:48<03:41,  1.66s/it]"
     ]
    },
    {
     "name": "stdout",
     "output_type": "stream",
     "text": [
      "-----------5 reviews add to list. ListLen 25-----------\n",
      "-----------REVIEWS SHAPE: 25 @ 8 | RES DATA SHAPE: 10183 @ 8-----------\n",
      "------------------------------------------------------------------\n",
      "-----------PARSING REV FROM /msk/opinions/restaurants/territoria/ PAGE-----------\n",
      "-----------PAGE 1 PARSING-----------\n"
     ]
    },
    {
     "name": "stderr",
     "output_type": "stream",
     "text": [
      "\r",
      " 78%|███████▊  | 463/595 [12:49<03:39,  1.66s/it]"
     ]
    },
    {
     "name": "stdout",
     "output_type": "stream",
     "text": [
      "-----------18 reviews add to list. ListLen 18-----------\n",
      "-----------REVIEWS SHAPE: 18 @ 8 | RES DATA SHAPE: 10201 @ 8-----------\n",
      "------------------------------------------------------------------\n",
      "-----------PARSING REV FROM /msk/opinions/restaurants/terrasa/ PAGE-----------\n",
      "-----------PAGE 1 PARSING-----------\n"
     ]
    },
    {
     "name": "stderr",
     "output_type": "stream",
     "text": [
      "\r",
      " 78%|███████▊  | 464/595 [12:50<03:37,  1.66s/it]"
     ]
    },
    {
     "name": "stdout",
     "output_type": "stream",
     "text": [
      "-----------9 reviews add to list. ListLen 9-----------\n",
      "-----------REVIEWS SHAPE: 9 @ 8 | RES DATA SHAPE: 10210 @ 8-----------\n",
      "------------------------------------------------------------------\n",
      "-----------PARSING REV FROM /msk/opinions/restaurants/templ_bar_strogino/ PAGE-----------\n",
      "-----------PAGE 1 PARSING-----------\n"
     ]
    },
    {
     "name": "stderr",
     "output_type": "stream",
     "text": [
      "\r",
      " 78%|███████▊  | 465/595 [12:51<03:35,  1.66s/it]"
     ]
    },
    {
     "name": "stdout",
     "output_type": "stream",
     "text": [
      "-----------4 reviews add to list. ListLen 4-----------\n",
      "-----------REVIEWS SHAPE: 4 @ 8 | RES DATA SHAPE: 10214 @ 8-----------\n",
      "------------------------------------------------------------------\n",
      "-----------PARSING REV FROM /msk/opinions/restaurants/tongal/ PAGE-----------\n",
      "-----------PAGE 1 PARSING-----------\n"
     ]
    },
    {
     "name": "stderr",
     "output_type": "stream",
     "text": [
      "\r",
      " 78%|███████▊  | 466/595 [12:52<03:33,  1.66s/it]"
     ]
    },
    {
     "name": "stdout",
     "output_type": "stream",
     "text": [
      "-----------4 reviews add to list. ListLen 4-----------\n",
      "-----------REVIEWS SHAPE: 4 @ 8 | RES DATA SHAPE: 10218 @ 8-----------\n",
      "------------------------------------------------------------------\n",
      "-----------PARSING REV FROM /msk/opinions/restaurants/trattoria-di-djulia/ PAGE-----------\n",
      "-----------PAGE 1 PARSING-----------\n"
     ]
    },
    {
     "name": "stderr",
     "output_type": "stream",
     "text": [
      "\r",
      " 78%|███████▊  | 467/595 [12:53<03:32,  1.66s/it]"
     ]
    },
    {
     "name": "stdout",
     "output_type": "stream",
     "text": [
      "-----------3 reviews add to list. ListLen 3-----------\n",
      "-----------REVIEWS SHAPE: 3 @ 8 | RES DATA SHAPE: 10221 @ 8-----------\n",
      "------------------------------------------------------------------\n",
      "-----------PARSING REV FROM /msk/opinions/restaurants/tinatin/ PAGE-----------\n",
      "-----------PAGE 1 PARSING-----------\n",
      "-----------20 reviews add to list. ListLen 20-----------\n",
      "-----------PAGE 2 PARSING-----------\n",
      "-----------20 reviews add to list. ListLen 40-----------\n",
      "-----------PAGE 3 PARSING-----------\n"
     ]
    },
    {
     "name": "stderr",
     "output_type": "stream",
     "text": [
      "\r",
      " 79%|███████▊  | 468/595 [12:56<03:30,  1.66s/it]"
     ]
    },
    {
     "name": "stdout",
     "output_type": "stream",
     "text": [
      "-----------6 reviews add to list. ListLen 46-----------\n",
      "-----------REVIEWS SHAPE: 46 @ 8 | RES DATA SHAPE: 10267 @ 8-----------\n",
      "------------------------------------------------------------------\n",
      "-----------PARSING REV FROM /msk/opinions/restaurants/uryuk_marshala_zhukova/ PAGE-----------\n",
      "-----------PAGE 1 PARSING-----------\n",
      "-----------20 reviews add to list. ListLen 20-----------\n",
      "-----------PAGE 2 PARSING-----------\n"
     ]
    },
    {
     "name": "stderr",
     "output_type": "stream",
     "text": [
      "\r",
      " 79%|███████▉  | 469/595 [12:58<03:29,  1.66s/it]"
     ]
    },
    {
     "name": "stdout",
     "output_type": "stream",
     "text": [
      "-----------3 reviews add to list. ListLen 23-----------\n",
      "-----------REVIEWS SHAPE: 23 @ 8 | RES DATA SHAPE: 10290 @ 8-----------\n",
      "------------------------------------------------------------------\n",
      "-----------PARSING REV FROM /msk/opinions/restaurants/uryuk_leninskiy_pr/ PAGE-----------\n",
      "-----------PAGE 1 PARSING-----------\n"
     ]
    },
    {
     "name": "stderr",
     "output_type": "stream",
     "text": [
      "\r",
      " 79%|███████▉  | 470/595 [12:59<03:27,  1.66s/it]"
     ]
    },
    {
     "name": "stdout",
     "output_type": "stream",
     "text": [
      "-----------19 reviews add to list. ListLen 19-----------\n",
      "-----------REVIEWS SHAPE: 19 @ 8 | RES DATA SHAPE: 10309 @ 8-----------\n",
      "------------------------------------------------------------------\n",
      "-----------PARSING REV FROM /msk/opinions/restaurants/urukcafe/ PAGE-----------\n",
      "-----------PAGE 1 PARSING-----------\n"
     ]
    },
    {
     "name": "stderr",
     "output_type": "stream",
     "text": [
      "\r",
      " 79%|███████▉  | 471/595 [13:00<03:25,  1.66s/it]"
     ]
    },
    {
     "name": "stdout",
     "output_type": "stream",
     "text": [
      "-----------6 reviews add to list. ListLen 6-----------\n",
      "-----------REVIEWS SHAPE: 6 @ 8 | RES DATA SHAPE: 10315 @ 8-----------\n",
      "------------------------------------------------------------------\n",
      "-----------PARSING REV FROM /msk/opinions/restaurants/u_mikhalycha_taganskaya/ PAGE-----------\n",
      "-----------PAGE 1 PARSING-----------\n"
     ]
    },
    {
     "name": "stderr",
     "output_type": "stream",
     "text": [
      "\r",
      " 79%|███████▉  | 472/595 [13:01<03:23,  1.66s/it]"
     ]
    },
    {
     "name": "stdout",
     "output_type": "stream",
     "text": [
      "-----------3 reviews add to list. ListLen 3-----------\n",
      "-----------REVIEWS SHAPE: 3 @ 8 | RES DATA SHAPE: 10318 @ 8-----------\n",
      "------------------------------------------------------------------\n",
      "-----------PARSING REV FROM /msk/opinions/restaurants/edem/ PAGE-----------\n",
      "-----------PAGE 1 PARSING-----------\n",
      "-----------20 reviews add to list. ListLen 20-----------\n",
      "-----------PAGE 2 PARSING-----------\n",
      "-----------20 reviews add to list. ListLen 40-----------\n",
      "-----------PAGE 3 PARSING-----------\n",
      "-----------20 reviews add to list. ListLen 60-----------\n",
      "-----------PAGE 4 PARSING-----------\n",
      "-----------20 reviews add to list. ListLen 80-----------\n",
      "-----------PAGE 5 PARSING-----------\n"
     ]
    },
    {
     "name": "stderr",
     "output_type": "stream",
     "text": [
      "\r",
      " 79%|███████▉  | 473/595 [13:06<03:22,  1.66s/it]"
     ]
    },
    {
     "name": "stdout",
     "output_type": "stream",
     "text": [
      "-----------3 reviews add to list. ListLen 83-----------\n",
      "-----------REVIEWS SHAPE: 83 @ 8 | RES DATA SHAPE: 10401 @ 8-----------\n",
      "------------------------------------------------------------------\n",
      "-----------PARSING REV FROM /msk/opinions/restaurants/urozhay/ PAGE-----------\n",
      "-----------PAGE 1 PARSING-----------\n"
     ]
    },
    {
     "name": "stderr",
     "output_type": "stream",
     "text": [
      "\r",
      " 80%|███████▉  | 474/595 [13:07<03:20,  1.66s/it]"
     ]
    },
    {
     "name": "stdout",
     "output_type": "stream",
     "text": [
      "-----------2 reviews add to list. ListLen 2-----------\n",
      "-----------REVIEWS SHAPE: 2 @ 8 | RES DATA SHAPE: 10403 @ 8-----------\n",
      "------------------------------------------------------------------\n",
      "-----------PARSING REV FROM /msk/opinions/restaurants/troyka/ PAGE-----------\n",
      "-----------PAGE 1 PARSING-----------\n"
     ]
    },
    {
     "name": "stderr",
     "output_type": "stream",
     "text": [
      "\r",
      " 80%|███████▉  | 475/595 [13:07<03:19,  1.66s/it]"
     ]
    },
    {
     "name": "stdout",
     "output_type": "stream",
     "text": [
      "-----------3 reviews add to list. ListLen 3-----------\n",
      "-----------REVIEWS SHAPE: 3 @ 8 | RES DATA SHAPE: 10406 @ 8-----------\n",
      "------------------------------------------------------------------\n",
      "-----------PARSING REV FROM /msk/opinions/restaurants/uzbek_rest/ PAGE-----------\n",
      "-----------PAGE 1 PARSING-----------\n",
      "-----------20 reviews add to list. ListLen 20-----------\n",
      "-----------PAGE 2 PARSING-----------\n"
     ]
    },
    {
     "name": "stderr",
     "output_type": "stream",
     "text": [
      "\r",
      " 80%|████████  | 476/595 [13:09<03:17,  1.66s/it]"
     ]
    },
    {
     "name": "stdout",
     "output_type": "stream",
     "text": [
      "-----------9 reviews add to list. ListLen 29-----------\n",
      "-----------REVIEWS SHAPE: 29 @ 8 | RES DATA SHAPE: 10435 @ 8-----------\n",
      "------------------------------------------------------------------\n",
      "-----------PARSING REV FROM /msk/opinions/restaurants/turandot/ PAGE-----------\n",
      "-----------PAGE 1 PARSING-----------\n",
      "-----------20 reviews add to list. ListLen 20-----------\n",
      "-----------PAGE 2 PARSING-----------\n",
      "-----------20 reviews add to list. ListLen 40-----------\n",
      "-----------PAGE 3 PARSING-----------\n"
     ]
    },
    {
     "name": "stderr",
     "output_type": "stream",
     "text": [
      "\r",
      " 80%|████████  | 477/595 [13:13<03:16,  1.66s/it]"
     ]
    },
    {
     "name": "stdout",
     "output_type": "stream",
     "text": [
      "-----------16 reviews add to list. ListLen 56-----------\n",
      "-----------REVIEWS SHAPE: 56 @ 8 | RES DATA SHAPE: 10491 @ 8-----------\n",
      "------------------------------------------------------------------\n",
      "-----------PARSING REV FROM /msk/opinions/restaurants/ueduarda/ PAGE-----------\n",
      "-----------PAGE 1 PARSING-----------\n"
     ]
    },
    {
     "name": "stderr",
     "output_type": "stream",
     "text": [
      "\r",
      " 80%|████████  | 478/595 [13:14<03:14,  1.66s/it]"
     ]
    },
    {
     "name": "stdout",
     "output_type": "stream",
     "text": [
      "-----------5 reviews add to list. ListLen 5-----------\n",
      "-----------REVIEWS SHAPE: 5 @ 8 | RES DATA SHAPE: 10496 @ 8-----------\n",
      "------------------------------------------------------------------\n",
      "-----------PARSING REV FROM /msk/opinions/restaurants/tuttiigiorni/ PAGE-----------\n",
      "-----------PAGE 1 PARSING-----------\n",
      "-----------20 reviews add to list. ListLen 20-----------\n",
      "-----------PAGE 2 PARSING-----------\n"
     ]
    },
    {
     "name": "stderr",
     "output_type": "stream",
     "text": [
      "\r",
      " 81%|████████  | 479/595 [13:16<03:12,  1.66s/it]"
     ]
    },
    {
     "name": "stdout",
     "output_type": "stream",
     "text": [
      "-----------5 reviews add to list. ListLen 25-----------\n",
      "-----------REVIEWS SHAPE: 25 @ 8 | RES DATA SHAPE: 10521 @ 8-----------\n",
      "------------------------------------------------------------------\n",
      "-----------PARSING REV FROM /msk/opinions/restaurants/farfalle/ PAGE-----------\n",
      "-----------PAGE 1 PARSING-----------\n"
     ]
    },
    {
     "name": "stderr",
     "output_type": "stream",
     "text": [
      "\r",
      " 81%|████████  | 480/595 [13:17<03:11,  1.66s/it]"
     ]
    },
    {
     "name": "stdout",
     "output_type": "stream",
     "text": [
      "-----------4 reviews add to list. ListLen 4-----------\n",
      "-----------REVIEWS SHAPE: 4 @ 8 | RES DATA SHAPE: 10525 @ 8-----------\n",
      "------------------------------------------------------------------\n",
      "-----------PARSING REV FROM /msk/opinions/restaurants/hachapuriya/ PAGE-----------\n",
      "-----------PAGE 1 PARSING-----------\n"
     ]
    },
    {
     "name": "stderr",
     "output_type": "stream",
     "text": [
      "\r",
      " 81%|████████  | 481/595 [13:18<03:09,  1.66s/it]"
     ]
    },
    {
     "name": "stdout",
     "output_type": "stream",
     "text": [
      "-----------2 reviews add to list. ListLen 2-----------\n",
      "-----------REVIEWS SHAPE: 2 @ 8 | RES DATA SHAPE: 10527 @ 8-----------\n",
      "------------------------------------------------------------------\n",
      "-----------PARSING REV FROM /msk/opinions/restaurants/fortepyano/ PAGE-----------\n",
      "-----------PAGE 1 PARSING-----------\n"
     ]
    },
    {
     "name": "stderr",
     "output_type": "stream",
     "text": [
      "\r",
      " 81%|████████  | 482/595 [13:18<03:07,  1.66s/it]"
     ]
    },
    {
     "name": "stdout",
     "output_type": "stream",
     "text": [
      "-----------3 reviews add to list. ListLen 3-----------\n",
      "-----------REVIEWS SHAPE: 3 @ 8 | RES DATA SHAPE: 10530 @ 8-----------\n",
      "------------------------------------------------------------------\n",
      "-----------PARSING REV FROM /msk/opinions/restaurants/khazuraho/ PAGE-----------\n",
      "-----------PAGE 1 PARSING-----------\n"
     ]
    },
    {
     "name": "stderr",
     "output_type": "stream",
     "text": [
      "\r",
      " 81%|████████  | 483/595 [13:20<03:05,  1.66s/it]"
     ]
    },
    {
     "name": "stdout",
     "output_type": "stream",
     "text": [
      "-----------15 reviews add to list. ListLen 15-----------\n",
      "-----------REVIEWS SHAPE: 15 @ 8 | RES DATA SHAPE: 10545 @ 8-----------\n",
      "------------------------------------------------------------------\n",
      "-----------PARSING REV FROM /msk/opinions/restaurants/xigina/ PAGE-----------\n",
      "-----------PAGE 1 PARSING-----------\n"
     ]
    },
    {
     "name": "stderr",
     "output_type": "stream",
     "text": [
      "\r",
      " 81%|████████▏ | 484/595 [13:21<03:03,  1.66s/it]"
     ]
    },
    {
     "name": "stdout",
     "output_type": "stream",
     "text": [
      "-----------16 reviews add to list. ListLen 16-----------\n",
      "-----------REVIEWS SHAPE: 16 @ 8 | RES DATA SHAPE: 10561 @ 8-----------\n",
      "------------------------------------------------------------------\n",
      "-----------PARSING REV FROM /msk/opinions/restaurants/hmel-el/ PAGE-----------\n",
      "-----------PAGE 1 PARSING-----------\n",
      "-----------20 reviews add to list. ListLen 20-----------\n",
      "-----------PAGE 2 PARSING-----------\n"
     ]
    },
    {
     "name": "stderr",
     "output_type": "stream",
     "text": [
      "\r",
      " 82%|████████▏ | 485/595 [13:23<03:02,  1.66s/it]"
     ]
    },
    {
     "name": "stdout",
     "output_type": "stream",
     "text": [
      "-----------15 reviews add to list. ListLen 35-----------\n",
      "-----------REVIEWS SHAPE: 35 @ 8 | RES DATA SHAPE: 10596 @ 8-----------\n",
      "------------------------------------------------------------------\n",
      "-----------PARSING REV FROM /msk/opinions/restaurants/khram_drakona/ PAGE-----------\n",
      "-----------PAGE 1 PARSING-----------\n"
     ]
    },
    {
     "name": "stderr",
     "output_type": "stream",
     "text": [
      "\r",
      " 82%|████████▏ | 486/595 [13:24<03:00,  1.65s/it]"
     ]
    },
    {
     "name": "stdout",
     "output_type": "stream",
     "text": [
      "-----------2 reviews add to list. ListLen 2-----------\n",
      "-----------REVIEWS SHAPE: 2 @ 8 | RES DATA SHAPE: 10598 @ 8-----------\n",
      "------------------------------------------------------------------\n",
      "-----------PARSING REV FROM /msk/opinions/restaurants/khinkalnaya/ PAGE-----------\n",
      "-----------PAGE 1 PARSING-----------\n"
     ]
    },
    {
     "name": "stderr",
     "output_type": "stream",
     "text": [
      "\r",
      " 82%|████████▏ | 487/595 [13:25<02:58,  1.65s/it]"
     ]
    },
    {
     "name": "stdout",
     "output_type": "stream",
     "text": [
      "-----------8 reviews add to list. ListLen 8-----------\n",
      "-----------REVIEWS SHAPE: 8 @ 8 | RES DATA SHAPE: 10606 @ 8-----------\n",
      "------------------------------------------------------------------\n",
      "-----------PARSING REV FROM /msk/opinions/restaurants/hinkalnaya_na_sushchevke/ PAGE-----------\n",
      "-----------PAGE 1 PARSING-----------\n"
     ]
    },
    {
     "name": "stderr",
     "output_type": "stream",
     "text": [
      "\r",
      " 82%|████████▏ | 488/595 [13:25<02:56,  1.65s/it]"
     ]
    },
    {
     "name": "stdout",
     "output_type": "stream",
     "text": [
      "-----------3 reviews add to list. ListLen 3-----------\n",
      "-----------REVIEWS SHAPE: 3 @ 8 | RES DATA SHAPE: 10609 @ 8-----------\n",
      "------------------------------------------------------------------\n",
      "-----------PARSING REV FROM /msk/opinions/restaurants/traktirsp/ PAGE-----------\n",
      "-----------PAGE 1 PARSING-----------\n",
      "-----------20 reviews add to list. ListLen 20-----------\n",
      "-----------PAGE 2 PARSING-----------\n"
     ]
    },
    {
     "name": "stderr",
     "output_type": "stream",
     "text": [
      "\r",
      " 82%|████████▏ | 489/595 [13:28<02:55,  1.65s/it]"
     ]
    },
    {
     "name": "stdout",
     "output_type": "stream",
     "text": [
      "-----------16 reviews add to list. ListLen 36-----------\n",
      "-----------REVIEWS SHAPE: 36 @ 8 | RES DATA SHAPE: 10645 @ 8-----------\n",
      "------------------------------------------------------------------\n",
      "-----------PARSING REV FROM /msk/opinions/restaurants/chaykovskiy_v_tiflise/ PAGE-----------\n",
      "-----------PAGE 1 PARSING-----------\n"
     ]
    },
    {
     "name": "stderr",
     "output_type": "stream",
     "text": [
      "\r",
      " 82%|████████▏ | 490/595 [13:28<02:53,  1.65s/it]"
     ]
    },
    {
     "name": "stdout",
     "output_type": "stream",
     "text": [
      "-----------5 reviews add to list. ListLen 5-----------\n",
      "-----------REVIEWS SHAPE: 5 @ 8 | RES DATA SHAPE: 10650 @ 8-----------\n",
      "------------------------------------------------------------------\n",
      "-----------PARSING REV FROM /msk/opinions/restaurants/chaykhana_pavlin_mavlin_aminevskoe_shosse/ PAGE-----------\n",
      "-----------PAGE 1 PARSING-----------\n"
     ]
    },
    {
     "name": "stderr",
     "output_type": "stream",
     "text": [
      "\r",
      " 83%|████████▎ | 491/595 [13:29<02:51,  1.65s/it]"
     ]
    },
    {
     "name": "stdout",
     "output_type": "stream",
     "text": [
      "-----------2 reviews add to list. ListLen 2-----------\n",
      "-----------REVIEWS SHAPE: 2 @ 8 | RES DATA SHAPE: 10652 @ 8-----------\n",
      "------------------------------------------------------------------\n",
      "-----------PARSING REV FROM /msk/opinions/restaurants/tapchan/ PAGE-----------\n",
      "-----------PAGE 1 PARSING-----------\n"
     ]
    },
    {
     "name": "stderr",
     "output_type": "stream",
     "text": [
      "\r",
      " 83%|████████▎ | 492/595 [13:30<02:49,  1.65s/it]"
     ]
    },
    {
     "name": "stdout",
     "output_type": "stream",
     "text": [
      "-----------7 reviews add to list. ListLen 7-----------\n",
      "-----------REVIEWS SHAPE: 7 @ 8 | RES DATA SHAPE: 10659 @ 8-----------\n",
      "------------------------------------------------------------------\n",
      "-----------PARSING REV FROM /msk/opinions/restaurants/tapchan_sokolniki/ PAGE-----------\n",
      "-----------PAGE 1 PARSING-----------\n"
     ]
    },
    {
     "name": "stderr",
     "output_type": "stream",
     "text": [
      "\r",
      " 83%|████████▎ | 493/595 [13:31<02:47,  1.65s/it]"
     ]
    },
    {
     "name": "stdout",
     "output_type": "stream",
     "text": [
      "-----------7 reviews add to list. ListLen 7-----------\n",
      "-----------REVIEWS SHAPE: 7 @ 8 | RES DATA SHAPE: 10666 @ 8-----------\n",
      "------------------------------------------------------------------\n",
      "-----------PARSING REV FROM /msk/opinions/restaurants/tapchan_leningradskoe/ PAGE-----------\n",
      "-----------PAGE 1 PARSING-----------\n"
     ]
    },
    {
     "name": "stderr",
     "output_type": "stream",
     "text": [
      "\r",
      " 83%|████████▎ | 494/595 [13:32<02:46,  1.64s/it]"
     ]
    },
    {
     "name": "stdout",
     "output_type": "stream",
     "text": [
      "-----------14 reviews add to list. ListLen 14-----------\n",
      "-----------REVIEWS SHAPE: 14 @ 8 | RES DATA SHAPE: 10680 @ 8-----------\n",
      "------------------------------------------------------------------\n",
      "-----------PARSING REV FROM /msk/opinions/restaurants/tapchan_zvenigorodskoe_shosse/ PAGE-----------\n",
      "-----------PAGE 1 PARSING-----------\n"
     ]
    },
    {
     "name": "stderr",
     "output_type": "stream",
     "text": [
      "\r",
      " 83%|████████▎ | 495/595 [13:33<02:44,  1.64s/it]"
     ]
    },
    {
     "name": "stdout",
     "output_type": "stream",
     "text": [
      "-----------8 reviews add to list. ListLen 8-----------\n",
      "-----------REVIEWS SHAPE: 8 @ 8 | RES DATA SHAPE: 10688 @ 8-----------\n",
      "------------------------------------------------------------------\n",
      "-----------PARSING REV FROM /msk/opinions/restaurants/tapchan_udaltsova/ PAGE-----------\n",
      "-----------PAGE 1 PARSING-----------\n"
     ]
    },
    {
     "name": "stderr",
     "output_type": "stream",
     "text": [
      "\r",
      " 83%|████████▎ | 496/595 [13:34<02:42,  1.64s/it]"
     ]
    },
    {
     "name": "stdout",
     "output_type": "stream",
     "text": [
      "-----------16 reviews add to list. ListLen 16-----------\n",
      "-----------REVIEWS SHAPE: 16 @ 8 | RES DATA SHAPE: 10704 @ 8-----------\n",
      "------------------------------------------------------------------\n",
      "-----------PARSING REV FROM /msk/opinions/restaurants/pavlin_mavlin_bakuninskaya/ PAGE-----------\n",
      "-----------PAGE 1 PARSING-----------\n"
     ]
    },
    {
     "name": "stderr",
     "output_type": "stream",
     "text": [
      "\r",
      " 84%|████████▎ | 497/595 [13:35<02:40,  1.64s/it]"
     ]
    },
    {
     "name": "stdout",
     "output_type": "stream",
     "text": [
      "-----------5 reviews add to list. ListLen 5-----------\n",
      "-----------REVIEWS SHAPE: 5 @ 8 | RES DATA SHAPE: 10709 @ 8-----------\n",
      "------------------------------------------------------------------\n",
      "-----------PARSING REV FROM /msk/opinions/restaurants/pavlin_mavlin_profsoyuznaya/ PAGE-----------\n",
      "-----------PAGE 1 PARSING-----------\n"
     ]
    },
    {
     "name": "stderr",
     "output_type": "stream",
     "text": [
      "\r",
      " 84%|████████▎ | 498/595 [13:36<02:39,  1.64s/it]"
     ]
    },
    {
     "name": "stdout",
     "output_type": "stream",
     "text": [
      "-----------3 reviews add to list. ListLen 3-----------\n",
      "-----------REVIEWS SHAPE: 3 @ 8 | RES DATA SHAPE: 10712 @ 8-----------\n",
      "------------------------------------------------------------------\n",
      "-----------PARSING REV FROM /msk/opinions/restaurants/pavlin_mavlin_akademicheskaya/ PAGE-----------\n",
      "-----------PAGE 1 PARSING-----------\n"
     ]
    },
    {
     "name": "stderr",
     "output_type": "stream",
     "text": [
      "\r",
      " 84%|████████▍ | 499/595 [13:37<02:37,  1.64s/it]"
     ]
    },
    {
     "name": "stdout",
     "output_type": "stream",
     "text": [
      "-----------5 reviews add to list. ListLen 5-----------\n",
      "-----------REVIEWS SHAPE: 5 @ 8 | RES DATA SHAPE: 10717 @ 8-----------\n",
      "------------------------------------------------------------------\n",
      "-----------PARSING REV FROM /msk/opinions/restaurants/chas-pik/ PAGE-----------\n",
      "-----------PAGE 1 PARSING-----------\n"
     ]
    },
    {
     "name": "stderr",
     "output_type": "stream",
     "text": [
      "\r",
      " 84%|████████▍ | 500/595 [13:38<02:35,  1.64s/it]"
     ]
    },
    {
     "name": "stdout",
     "output_type": "stream",
     "text": [
      "-----------12 reviews add to list. ListLen 12-----------\n",
      "-----------REVIEWS SHAPE: 12 @ 8 | RES DATA SHAPE: 10729 @ 8-----------\n",
      "------------------------------------------------------------------\n",
      "-----------PARSING REV FROM /msk/opinions/restaurants/sharmanka_kuzminki/ PAGE-----------\n",
      "-----------PAGE 1 PARSING-----------\n"
     ]
    },
    {
     "name": "stderr",
     "output_type": "stream",
     "text": [
      "\r",
      " 84%|████████▍ | 501/595 [13:39<02:33,  1.64s/it]"
     ]
    },
    {
     "name": "stdout",
     "output_type": "stream",
     "text": [
      "-----------2 reviews add to list. ListLen 2-----------\n",
      "-----------REVIEWS SHAPE: 2 @ 8 | RES DATA SHAPE: 10731 @ 8-----------\n",
      "------------------------------------------------------------------\n",
      "-----------PARSING REV FROM /msk/opinions/restaurants/cafe_sharmanka/ PAGE-----------\n",
      "-----------PAGE 1 PARSING-----------\n"
     ]
    },
    {
     "name": "stderr",
     "output_type": "stream",
     "text": [
      "\r",
      " 84%|████████▍ | 502/595 [13:40<02:31,  1.63s/it]"
     ]
    },
    {
     "name": "stdout",
     "output_type": "stream",
     "text": [
      "-----------14 reviews add to list. ListLen 14-----------\n",
      "-----------REVIEWS SHAPE: 14 @ 8 | RES DATA SHAPE: 10745 @ 8-----------\n",
      "------------------------------------------------------------------\n",
      "-----------PARSING REV FROM /msk/opinions/restaurants/shinok/ PAGE-----------\n",
      "-----------PAGE 1 PARSING-----------\n"
     ]
    },
    {
     "name": "stderr",
     "output_type": "stream",
     "text": [
      "\r",
      " 85%|████████▍ | 503/595 [13:41<02:30,  1.63s/it]"
     ]
    },
    {
     "name": "stdout",
     "output_type": "stream",
     "text": [
      "-----------8 reviews add to list. ListLen 8-----------\n",
      "-----------REVIEWS SHAPE: 8 @ 8 | RES DATA SHAPE: 10753 @ 8-----------\n",
      "------------------------------------------------------------------\n",
      "-----------PARSING REV FROM /msk/opinions/restaurants/spaten-haus/ PAGE-----------\n",
      "-----------PAGE 1 PARSING-----------\n",
      "-----------20 reviews add to list. ListLen 20-----------\n",
      "-----------PAGE 2 PARSING-----------\n",
      "-----------20 reviews add to list. ListLen 40-----------\n",
      "-----------PAGE 3 PARSING-----------\n"
     ]
    },
    {
     "name": "stderr",
     "output_type": "stream",
     "text": [
      "\r",
      " 85%|████████▍ | 504/595 [13:44<02:28,  1.64s/it]"
     ]
    },
    {
     "name": "stdout",
     "output_type": "stream",
     "text": [
      "-----------1 reviews add to list. ListLen 41-----------\n",
      "-----------REVIEWS SHAPE: 41 @ 8 | RES DATA SHAPE: 10794 @ 8-----------\n",
      "------------------------------------------------------------------\n",
      "-----------PARSING REV FROM /msk/opinions/restaurants/emporio/ PAGE-----------\n",
      "-----------PAGE 1 PARSING-----------\n",
      "-----------20 reviews add to list. ListLen 20-----------\n",
      "-----------PAGE 2 PARSING-----------\n"
     ]
    },
    {
     "name": "stderr",
     "output_type": "stream",
     "text": [
      "\r",
      " 85%|████████▍ | 505/595 [13:46<02:27,  1.64s/it]"
     ]
    },
    {
     "name": "stdout",
     "output_type": "stream",
     "text": [
      "-----------18 reviews add to list. ListLen 38-----------\n",
      "-----------REVIEWS SHAPE: 38 @ 8 | RES DATA SHAPE: 10832 @ 8-----------\n",
      "------------------------------------------------------------------\n",
      "-----------PARSING REV FROM /msk/opinions/restaurants/yugos_donskaya/ PAGE-----------\n",
      "-----------PAGE 1 PARSING-----------\n"
     ]
    },
    {
     "name": "stderr",
     "output_type": "stream",
     "text": [
      "\r",
      " 85%|████████▌ | 506/595 [13:47<02:25,  1.64s/it]"
     ]
    },
    {
     "name": "stdout",
     "output_type": "stream",
     "text": [
      "-----------6 reviews add to list. ListLen 6-----------\n",
      "-----------REVIEWS SHAPE: 6 @ 8 | RES DATA SHAPE: 10838 @ 8-----------\n",
      "------------------------------------------------------------------\n",
      "-----------PARSING REV FROM /msk/opinions/restaurants/ekspromt/ PAGE-----------\n",
      "-----------PAGE 1 PARSING-----------\n"
     ]
    },
    {
     "name": "stderr",
     "output_type": "stream",
     "text": [
      "\r",
      " 85%|████████▌ | 507/595 [13:48<02:23,  1.63s/it]"
     ]
    },
    {
     "name": "stdout",
     "output_type": "stream",
     "text": [
      "-----------15 reviews add to list. ListLen 15-----------\n",
      "-----------REVIEWS SHAPE: 15 @ 8 | RES DATA SHAPE: 10853 @ 8-----------\n",
      "------------------------------------------------------------------\n",
      "-----------PARSING REV FROM /msk/opinions/restaurants/expromt_bar/ PAGE-----------\n",
      "-----------PAGE 1 PARSING-----------\n"
     ]
    },
    {
     "name": "stderr",
     "output_type": "stream",
     "text": [
      "\r",
      " 85%|████████▌ | 508/595 [13:49<02:22,  1.63s/it]"
     ]
    },
    {
     "name": "stdout",
     "output_type": "stream",
     "text": [
      "-----------13 reviews add to list. ListLen 13-----------\n",
      "-----------REVIEWS SHAPE: 13 @ 8 | RES DATA SHAPE: 10866 @ 8-----------\n",
      "------------------------------------------------------------------\n",
      "-----------PARSING REV FROM /msk/opinions/restaurants/shokoladnyy-krolik/ PAGE-----------\n",
      "-----------PAGE 1 PARSING-----------\n"
     ]
    },
    {
     "name": "stderr",
     "output_type": "stream",
     "text": [
      "\r",
      " 86%|████████▌ | 509/595 [13:50<02:20,  1.63s/it]"
     ]
    },
    {
     "name": "stdout",
     "output_type": "stream",
     "text": [
      "-----------3 reviews add to list. ListLen 3-----------\n",
      "-----------REVIEWS SHAPE: 3 @ 8 | RES DATA SHAPE: 10869 @ 8-----------\n",
      "------------------------------------------------------------------\n",
      "-----------PARSING REV FROM /msk/opinions/restaurants/yuzhnyy-bereg/ PAGE-----------\n",
      "-----------PAGE 1 PARSING-----------\n"
     ]
    },
    {
     "name": "stderr",
     "output_type": "stream",
     "text": [
      "\r",
      " 86%|████████▌ | 510/595 [13:51<02:18,  1.63s/it]"
     ]
    },
    {
     "name": "stdout",
     "output_type": "stream",
     "text": [
      "-----------2 reviews add to list. ListLen 2-----------\n",
      "-----------REVIEWS SHAPE: 2 @ 8 | RES DATA SHAPE: 10871 @ 8-----------\n",
      "------------------------------------------------------------------\n",
      "-----------PARSING REV FROM /msk/opinions/restaurants/yar/ PAGE-----------\n",
      "-----------PAGE 1 PARSING-----------\n",
      "-----------20 reviews add to list. ListLen 20-----------\n",
      "-----------PAGE 2 PARSING-----------\n"
     ]
    },
    {
     "name": "stderr",
     "output_type": "stream",
     "text": [
      "\r",
      " 86%|████████▌ | 511/595 [13:53<02:17,  1.63s/it]"
     ]
    },
    {
     "name": "stdout",
     "output_type": "stream",
     "text": [
      "-----------1 reviews add to list. ListLen 21-----------\n",
      "-----------REVIEWS SHAPE: 21 @ 8 | RES DATA SHAPE: 10892 @ 8-----------\n",
      "------------------------------------------------------------------\n",
      "-----------PARSING REV FROM /msk/opinions/restaurants/kletka/ PAGE-----------\n",
      "-----------PAGE 1 PARSING-----------\n",
      "-----------20 reviews add to list. ListLen 20-----------\n",
      "-----------PAGE 2 PARSING-----------\n"
     ]
    },
    {
     "name": "stderr",
     "output_type": "stream",
     "text": [
      "\r",
      " 86%|████████▌ | 512/595 [13:55<02:15,  1.63s/it]"
     ]
    },
    {
     "name": "stdout",
     "output_type": "stream",
     "text": [
      "-----------5 reviews add to list. ListLen 25-----------\n",
      "-----------REVIEWS SHAPE: 25 @ 8 | RES DATA SHAPE: 10917 @ 8-----------\n",
      "------------------------------------------------------------------\n",
      "-----------PARSING REV FROM /msk/opinions/restaurants/lastochka/ PAGE-----------\n",
      "-----------PAGE 1 PARSING-----------\n"
     ]
    },
    {
     "name": "stderr",
     "output_type": "stream",
     "text": [
      "\r",
      " 86%|████████▌ | 513/595 [13:56<02:13,  1.63s/it]"
     ]
    },
    {
     "name": "stdout",
     "output_type": "stream",
     "text": [
      "-----------16 reviews add to list. ListLen 16-----------\n",
      "-----------REVIEWS SHAPE: 16 @ 8 | RES DATA SHAPE: 10933 @ 8-----------\n",
      "------------------------------------------------------------------\n",
      "-----------PARSING REV FROM /msk/opinions/restaurants/selfie/ PAGE-----------\n",
      "-----------PAGE 1 PARSING-----------\n",
      "-----------20 reviews add to list. ListLen 20-----------\n",
      "-----------PAGE 2 PARSING-----------\n"
     ]
    },
    {
     "name": "stderr",
     "output_type": "stream",
     "text": [
      "\r",
      " 86%|████████▋ | 514/595 [13:58<02:12,  1.63s/it]"
     ]
    },
    {
     "name": "stdout",
     "output_type": "stream",
     "text": [
      "-----------20 reviews add to list. ListLen 40-----------\n",
      "-----------REVIEWS SHAPE: 40 @ 8 | RES DATA SHAPE: 10973 @ 8-----------\n",
      "------------------------------------------------------------------\n",
      "-----------PARSING REV FROM /msk/opinions/restaurants/chayka_restoran_yakhta/ PAGE-----------\n",
      "-----------PAGE 1 PARSING-----------\n"
     ]
    },
    {
     "name": "stderr",
     "output_type": "stream",
     "text": [
      "\r",
      " 87%|████████▋ | 515/595 [13:59<02:10,  1.63s/it]"
     ]
    },
    {
     "name": "stdout",
     "output_type": "stream",
     "text": [
      "-----------7 reviews add to list. ListLen 7-----------\n",
      "-----------REVIEWS SHAPE: 7 @ 8 | RES DATA SHAPE: 10980 @ 8-----------\n",
      "------------------------------------------------------------------\n",
      "-----------PARSING REV FROM /msk/opinions/restaurants/beluga/ PAGE-----------\n",
      "-----------PAGE 1 PARSING-----------\n"
     ]
    },
    {
     "name": "stderr",
     "output_type": "stream",
     "text": [
      "\r",
      " 87%|████████▋ | 516/595 [14:00<02:08,  1.63s/it]"
     ]
    },
    {
     "name": "stdout",
     "output_type": "stream",
     "text": [
      "-----------14 reviews add to list. ListLen 14-----------\n",
      "-----------REVIEWS SHAPE: 14 @ 8 | RES DATA SHAPE: 10994 @ 8-----------\n",
      "------------------------------------------------------------------\n",
      "-----------PARSING REV FROM /msk/opinions/restaurants/backstagerest/ PAGE-----------\n",
      "-----------PAGE 1 PARSING-----------\n"
     ]
    },
    {
     "name": "stderr",
     "output_type": "stream",
     "text": [
      "\r",
      " 87%|████████▋ | 517/595 [14:01<02:07,  1.63s/it]"
     ]
    },
    {
     "name": "stdout",
     "output_type": "stream",
     "text": [
      "-----------4 reviews add to list. ListLen 4-----------\n",
      "-----------REVIEWS SHAPE: 4 @ 8 | RES DATA SHAPE: 10998 @ 8-----------\n",
      "------------------------------------------------------------------\n",
      "-----------PARSING REV FROM /msk/opinions/restaurants/aviator-rest/ PAGE-----------\n",
      "-----------PAGE 1 PARSING-----------\n"
     ]
    },
    {
     "name": "stderr",
     "output_type": "stream",
     "text": [
      "\r",
      " 87%|████████▋ | 518/595 [14:02<02:05,  1.63s/it]"
     ]
    },
    {
     "name": "stdout",
     "output_type": "stream",
     "text": [
      "-----------2 reviews add to list. ListLen 2-----------\n",
      "-----------REVIEWS SHAPE: 2 @ 8 | RES DATA SHAPE: 11000 @ 8-----------\n",
      "------------------------------------------------------------------\n",
      "-----------PARSING REV FROM /msk/opinions/restaurants/bericoni/ PAGE-----------\n",
      "-----------PAGE 1 PARSING-----------\n",
      "-----------20 reviews add to list. ListLen 20-----------\n",
      "-----------PAGE 2 PARSING-----------\n"
     ]
    },
    {
     "name": "stderr",
     "output_type": "stream",
     "text": [
      "\r",
      " 87%|████████▋ | 519/595 [14:04<02:03,  1.63s/it]"
     ]
    },
    {
     "name": "stdout",
     "output_type": "stream",
     "text": [
      "-----------2 reviews add to list. ListLen 22-----------\n",
      "-----------REVIEWS SHAPE: 22 @ 8 | RES DATA SHAPE: 11022 @ 8-----------\n",
      "------------------------------------------------------------------\n",
      "-----------PARSING REV FROM /msk/opinions/restaurants/bocconcino-kutuzovskiy/ PAGE-----------\n",
      "-----------PAGE 1 PARSING-----------\n"
     ]
    },
    {
     "name": "stderr",
     "output_type": "stream",
     "text": [
      "\r",
      " 87%|████████▋ | 520/595 [14:05<02:01,  1.63s/it]"
     ]
    },
    {
     "name": "stdout",
     "output_type": "stream",
     "text": [
      "-----------2 reviews add to list. ListLen 2-----------\n",
      "-----------REVIEWS SHAPE: 2 @ 8 | RES DATA SHAPE: 11024 @ 8-----------\n",
      "------------------------------------------------------------------\n",
      "-----------PARSING REV FROM /msk/opinions/restaurants/burgers_crabs/ PAGE-----------\n",
      "-----------PAGE 1 PARSING-----------\n"
     ]
    },
    {
     "name": "stderr",
     "output_type": "stream",
     "text": [
      "\r",
      " 88%|████████▊ | 521/595 [14:06<02:00,  1.62s/it]"
     ]
    },
    {
     "name": "stdout",
     "output_type": "stream",
     "text": [
      "-----------2 reviews add to list. ListLen 2-----------\n",
      "-----------REVIEWS SHAPE: 2 @ 8 | RES DATA SHAPE: 11026 @ 8-----------\n",
      "------------------------------------------------------------------\n",
      "-----------PARSING REV FROM /msk/opinions/restaurants/burger-pizzetta/ PAGE-----------\n",
      "-----------PAGE 1 PARSING-----------\n"
     ]
    },
    {
     "name": "stderr",
     "output_type": "stream",
     "text": [
      "\r",
      " 88%|████████▊ | 522/595 [14:07<01:58,  1.62s/it]"
     ]
    },
    {
     "name": "stdout",
     "output_type": "stream",
     "text": [
      "-----------2 reviews add to list. ListLen 2-----------\n",
      "-----------REVIEWS SHAPE: 2 @ 8 | RES DATA SHAPE: 11028 @ 8-----------\n",
      "------------------------------------------------------------------\n",
      "-----------PARSING REV FROM /msk/opinions/restaurants/chalet/ PAGE-----------\n",
      "-----------PAGE 1 PARSING-----------\n"
     ]
    },
    {
     "name": "stderr",
     "output_type": "stream",
     "text": [
      "\r",
      " 88%|████████▊ | 523/595 [14:07<01:56,  1.62s/it]"
     ]
    },
    {
     "name": "stdout",
     "output_type": "stream",
     "text": [
      "-----------5 reviews add to list. ListLen 5-----------\n",
      "-----------REVIEWS SHAPE: 5 @ 8 | RES DATA SHAPE: 11033 @ 8-----------\n",
      "------------------------------------------------------------------\n",
      "-----------PARSING REV FROM /msk/opinions/restaurants/donpeperoncino/ PAGE-----------\n",
      "-----------PAGE 1 PARSING-----------\n"
     ]
    },
    {
     "name": "stderr",
     "output_type": "stream",
     "text": [
      "\r",
      " 88%|████████▊ | 524/595 [14:08<01:55,  1.62s/it]"
     ]
    },
    {
     "name": "stdout",
     "output_type": "stream",
     "text": [
      "-----------8 reviews add to list. ListLen 8-----------\n",
      "-----------REVIEWS SHAPE: 8 @ 8 | RES DATA SHAPE: 11041 @ 8-----------\n",
      "------------------------------------------------------------------\n",
      "-----------PARSING REV FROM /msk/opinions/restaurants/dark_patrick_s_pub/ PAGE-----------\n",
      "-----------PAGE 1 PARSING-----------\n"
     ]
    },
    {
     "name": "stderr",
     "output_type": "stream",
     "text": [
      "\r",
      " 88%|████████▊ | 525/595 [14:09<01:53,  1.62s/it]"
     ]
    },
    {
     "name": "stdout",
     "output_type": "stream",
     "text": [
      "-----------3 reviews add to list. ListLen 3-----------\n",
      "-----------REVIEWS SHAPE: 3 @ 8 | RES DATA SHAPE: 11044 @ 8-----------\n",
      "------------------------------------------------------------------\n",
      "-----------PARSING REV FROM /msk/opinions/restaurants/elpaso/ PAGE-----------\n",
      "-----------PAGE 1 PARSING-----------\n"
     ]
    },
    {
     "name": "stderr",
     "output_type": "stream",
     "text": [
      "\r",
      " 88%|████████▊ | 526/595 [14:10<01:51,  1.62s/it]"
     ]
    },
    {
     "name": "stdout",
     "output_type": "stream",
     "text": [
      "-----------3 reviews add to list. ListLen 3-----------\n",
      "-----------REVIEWS SHAPE: 3 @ 8 | RES DATA SHAPE: 11047 @ 8-----------\n",
      "------------------------------------------------------------------\n",
      "-----------PARSING REV FROM /msk/opinions/restaurants/edge/ PAGE-----------\n",
      "-----------PAGE 1 PARSING-----------\n"
     ]
    },
    {
     "name": "stderr",
     "output_type": "stream",
     "text": [
      "\r",
      " 89%|████████▊ | 527/595 [14:11<01:49,  1.62s/it]"
     ]
    },
    {
     "name": "stdout",
     "output_type": "stream",
     "text": [
      "-----------8 reviews add to list. ListLen 8-----------\n",
      "-----------REVIEWS SHAPE: 8 @ 8 | RES DATA SHAPE: 11055 @ 8-----------\n",
      "------------------------------------------------------------------\n",
      "-----------PARSING REV FROM /msk/opinions/restaurants/food_embassy/ PAGE-----------\n",
      "-----------PAGE 1 PARSING-----------\n",
      "-----------20 reviews add to list. ListLen 20-----------\n",
      "-----------PAGE 2 PARSING-----------\n"
     ]
    },
    {
     "name": "stderr",
     "output_type": "stream",
     "text": [
      "\r",
      " 89%|████████▊ | 528/595 [14:13<01:48,  1.62s/it]"
     ]
    },
    {
     "name": "stdout",
     "output_type": "stream",
     "text": [
      "-----------4 reviews add to list. ListLen 24-----------\n",
      "-----------REVIEWS SHAPE: 24 @ 8 | RES DATA SHAPE: 11079 @ 8-----------\n",
      "------------------------------------------------------------------\n",
      "-----------PARSING REV FROM /msk/opinions/restaurants/florentini-m/ PAGE-----------\n",
      "-----------PAGE 1 PARSING-----------\n"
     ]
    },
    {
     "name": "stderr",
     "output_type": "stream",
     "text": [
      "\r",
      " 89%|████████▉ | 529/595 [14:14<01:46,  1.61s/it]"
     ]
    },
    {
     "name": "stdout",
     "output_type": "stream",
     "text": [
      "-----------5 reviews add to list. ListLen 5-----------\n",
      "-----------REVIEWS SHAPE: 5 @ 8 | RES DATA SHAPE: 11084 @ 8-----------\n",
      "------------------------------------------------------------------\n",
      "-----------PARSING REV FROM /msk/opinions/restaurants/hong-kong/ PAGE-----------\n",
      "-----------PAGE 1 PARSING-----------\n",
      "-----------20 reviews add to list. ListLen 20-----------\n",
      "-----------PAGE 2 PARSING-----------\n",
      "-----------20 reviews add to list. ListLen 40-----------\n",
      "-----------PAGE 3 PARSING-----------\n"
     ]
    },
    {
     "name": "stderr",
     "output_type": "stream",
     "text": [
      "\r",
      " 89%|████████▉ | 530/595 [14:17<01:45,  1.62s/it]"
     ]
    },
    {
     "name": "stdout",
     "output_type": "stream",
     "text": [
      "-----------19 reviews add to list. ListLen 59-----------\n",
      "-----------REVIEWS SHAPE: 59 @ 8 | RES DATA SHAPE: 11143 @ 8-----------\n",
      "------------------------------------------------------------------\n",
      "-----------PARSING REV FROM /msk/opinions/restaurants/guavabar/ PAGE-----------\n",
      "-----------PAGE 1 PARSING-----------\n"
     ]
    },
    {
     "name": "stderr",
     "output_type": "stream",
     "text": [
      "\r",
      " 89%|████████▉ | 531/595 [14:18<01:43,  1.62s/it]"
     ]
    },
    {
     "name": "stdout",
     "output_type": "stream",
     "text": [
      "-----------15 reviews add to list. ListLen 15-----------\n",
      "-----------REVIEWS SHAPE: 15 @ 8 | RES DATA SHAPE: 11158 @ 8-----------\n",
      "------------------------------------------------------------------\n",
      "-----------PARSING REV FROM /msk/opinions/restaurants/ilcanto/ PAGE-----------\n",
      "-----------PAGE 1 PARSING-----------\n"
     ]
    },
    {
     "name": "stderr",
     "output_type": "stream",
     "text": [
      "\r",
      " 89%|████████▉ | 532/595 [14:19<01:41,  1.62s/it]"
     ]
    },
    {
     "name": "stdout",
     "output_type": "stream",
     "text": [
      "-----------7 reviews add to list. ListLen 7-----------\n",
      "-----------REVIEWS SHAPE: 7 @ 8 | RES DATA SHAPE: 11165 @ 8-----------\n",
      "------------------------------------------------------------------\n",
      "-----------PARSING REV FROM /msk/opinions/restaurants/iskra_bar/ PAGE-----------\n",
      "-----------PAGE 1 PARSING-----------\n"
     ]
    },
    {
     "name": "stderr",
     "output_type": "stream",
     "text": [
      "\r",
      " 90%|████████▉ | 533/595 [14:20<01:40,  1.61s/it]"
     ]
    },
    {
     "name": "stdout",
     "output_type": "stream",
     "text": [
      "-----------4 reviews add to list. ListLen 4-----------\n",
      "-----------REVIEWS SHAPE: 4 @ 8 | RES DATA SHAPE: 11169 @ 8-----------\n",
      "------------------------------------------------------------------\n",
      "-----------PARSING REV FROM /msk/opinions/restaurants/makoto/ PAGE-----------\n",
      "-----------PAGE 1 PARSING-----------\n"
     ]
    },
    {
     "name": "stderr",
     "output_type": "stream",
     "text": [
      "\r",
      " 90%|████████▉ | 534/595 [14:21<01:38,  1.61s/it]"
     ]
    },
    {
     "name": "stdout",
     "output_type": "stream",
     "text": [
      "-----------3 reviews add to list. ListLen 3-----------\n",
      "-----------REVIEWS SHAPE: 3 @ 8 | RES DATA SHAPE: 11172 @ 8-----------\n",
      "------------------------------------------------------------------\n",
      "-----------PARSING REV FROM /msk/opinions/restaurants/lyabikhauz/ PAGE-----------\n",
      "-----------PAGE 1 PARSING-----------\n"
     ]
    },
    {
     "name": "stderr",
     "output_type": "stream",
     "text": [
      "\r",
      " 90%|████████▉ | 535/595 [14:22<01:36,  1.61s/it]"
     ]
    },
    {
     "name": "stdout",
     "output_type": "stream",
     "text": [
      "-----------3 reviews add to list. ListLen 3-----------\n",
      "-----------REVIEWS SHAPE: 3 @ 8 | RES DATA SHAPE: 11175 @ 8-----------\n",
      "------------------------------------------------------------------\n",
      "-----------PARSING REV FROM /msk/opinions/restaurants/di_campagna/ PAGE-----------\n",
      "-----------PAGE 1 PARSING-----------\n"
     ]
    },
    {
     "name": "stderr",
     "output_type": "stream",
     "text": [
      "\r",
      " 90%|█████████ | 536/595 [14:23<01:35,  1.61s/it]"
     ]
    },
    {
     "name": "stdout",
     "output_type": "stream",
     "text": [
      "-----------16 reviews add to list. ListLen 16-----------\n",
      "-----------REVIEWS SHAPE: 16 @ 8 | RES DATA SHAPE: 11191 @ 8-----------\n",
      "------------------------------------------------------------------\n",
      "-----------PARSING REV FROM /msk/opinions/restaurants/porto_maltese/ PAGE-----------\n",
      "-----------PAGE 1 PARSING-----------\n"
     ]
    },
    {
     "name": "stderr",
     "output_type": "stream",
     "text": [
      "\r",
      " 90%|█████████ | 537/595 [14:24<01:33,  1.61s/it]"
     ]
    },
    {
     "name": "stdout",
     "output_type": "stream",
     "text": [
      "-----------2 reviews add to list. ListLen 2-----------\n",
      "-----------REVIEWS SHAPE: 2 @ 8 | RES DATA SHAPE: 11193 @ 8-----------\n",
      "------------------------------------------------------------------\n",
      "-----------PARSING REV FROM /msk/opinions/restaurants/restobar/ PAGE-----------\n",
      "-----------PAGE 1 PARSING-----------\n",
      "-----------20 reviews add to list. ListLen 20-----------\n",
      "-----------PAGE 2 PARSING-----------\n"
     ]
    },
    {
     "name": "stderr",
     "output_type": "stream",
     "text": [
      "\r",
      " 90%|█████████ | 538/595 [14:26<01:31,  1.61s/it]"
     ]
    },
    {
     "name": "stdout",
     "output_type": "stream",
     "text": [
      "-----------4 reviews add to list. ListLen 24-----------\n",
      "-----------REVIEWS SHAPE: 24 @ 8 | RES DATA SHAPE: 11217 @ 8-----------\n",
      "------------------------------------------------------------------\n",
      "-----------PARSING REV FROM /msk/opinions/restaurants/rose_bar_krokus_siti_moll/ PAGE-----------\n",
      "-----------PAGE 1 PARSING-----------\n"
     ]
    },
    {
     "name": "stderr",
     "output_type": "stream",
     "text": [
      "\r",
      " 91%|█████████ | 539/595 [14:27<01:30,  1.61s/it]"
     ]
    },
    {
     "name": "stdout",
     "output_type": "stream",
     "text": [
      "-----------5 reviews add to list. ListLen 5-----------\n",
      "-----------REVIEWS SHAPE: 5 @ 8 | RES DATA SHAPE: 11222 @ 8-----------\n",
      "------------------------------------------------------------------\n",
      "-----------PARSING REV FROM /msk/opinions/restaurants/roni_makaroni/ PAGE-----------\n",
      "-----------PAGE 1 PARSING-----------\n"
     ]
    },
    {
     "name": "stderr",
     "output_type": "stream",
     "text": [
      "\r",
      " 91%|█████████ | 540/595 [14:28<01:28,  1.61s/it]"
     ]
    },
    {
     "name": "stdout",
     "output_type": "stream",
     "text": [
      "-----------2 reviews add to list. ListLen 2-----------\n",
      "-----------REVIEWS SHAPE: 2 @ 8 | RES DATA SHAPE: 11224 @ 8-----------\n",
      "------------------------------------------------------------------\n",
      "-----------PARSING REV FROM /msk/opinions/restaurants/ruski/ PAGE-----------\n",
      "-----------PAGE 1 PARSING-----------\n"
     ]
    },
    {
     "name": "stderr",
     "output_type": "stream",
     "text": [
      "\r",
      " 91%|█████████ | 541/595 [14:29<01:26,  1.61s/it]"
     ]
    },
    {
     "name": "stdout",
     "output_type": "stream",
     "text": [
      "-----------4 reviews add to list. ListLen 4-----------\n",
      "-----------REVIEWS SHAPE: 4 @ 8 | RES DATA SHAPE: 11228 @ 8-----------\n",
      "------------------------------------------------------------------\n",
      "-----------PARSING REV FROM /msk/opinions/restaurants/seasons/ PAGE-----------\n",
      "-----------PAGE 1 PARSING-----------\n"
     ]
    },
    {
     "name": "stderr",
     "output_type": "stream",
     "text": [
      "\r",
      " 91%|█████████ | 542/595 [14:29<01:25,  1.61s/it]"
     ]
    },
    {
     "name": "stdout",
     "output_type": "stream",
     "text": [
      "-----------6 reviews add to list. ListLen 6-----------\n",
      "-----------REVIEWS SHAPE: 6 @ 8 | RES DATA SHAPE: 11234 @ 8-----------\n",
      "------------------------------------------------------------------\n",
      "-----------PARSING REV FROM /msk/opinions/restaurants/seasons_vernadskogo/ PAGE-----------\n",
      "-----------PAGE 1 PARSING-----------\n"
     ]
    },
    {
     "name": "stderr",
     "output_type": "stream",
     "text": [
      "\r",
      " 91%|█████████▏| 543/595 [14:30<01:23,  1.60s/it]"
     ]
    },
    {
     "name": "stdout",
     "output_type": "stream",
     "text": [
      "-----------8 reviews add to list. ListLen 8-----------\n",
      "-----------REVIEWS SHAPE: 8 @ 8 | RES DATA SHAPE: 11242 @ 8-----------\n",
      "------------------------------------------------------------------\n",
      "-----------PARSING REV FROM /msk/opinions/restaurants/shore_house/ PAGE-----------\n",
      "-----------PAGE 1 PARSING-----------\n"
     ]
    },
    {
     "name": "stderr",
     "output_type": "stream",
     "text": [
      "\r",
      " 91%|█████████▏| 544/595 [14:31<01:21,  1.60s/it]"
     ]
    },
    {
     "name": "stdout",
     "output_type": "stream",
     "text": [
      "-----------9 reviews add to list. ListLen 9-----------\n",
      "-----------REVIEWS SHAPE: 9 @ 8 | RES DATA SHAPE: 11251 @ 8-----------\n",
      "------------------------------------------------------------------\n",
      "-----------PARSING REV FROM /msk/opinions/restaurants/talkofthetown/ PAGE-----------\n",
      "-----------PAGE 1 PARSING-----------\n",
      "-----------20 reviews add to list. ListLen 20-----------\n",
      "-----------PAGE 2 PARSING-----------\n"
     ]
    },
    {
     "name": "stderr",
     "output_type": "stream",
     "text": [
      "\r",
      " 92%|█████████▏| 545/595 [14:33<01:20,  1.60s/it]"
     ]
    },
    {
     "name": "stdout",
     "output_type": "stream",
     "text": [
      "-----------13 reviews add to list. ListLen 33-----------\n",
      "-----------REVIEWS SHAPE: 33 @ 8 | RES DATA SHAPE: 11284 @ 8-----------\n",
      "------------------------------------------------------------------\n",
      "-----------PARSING REV FROM /msk/opinions/restaurants/tuttobene/ PAGE-----------\n",
      "-----------PAGE 1 PARSING-----------\n"
     ]
    },
    {
     "name": "stderr",
     "output_type": "stream",
     "text": [
      "\r",
      " 92%|█████████▏| 546/595 [14:35<01:18,  1.60s/it]"
     ]
    },
    {
     "name": "stdout",
     "output_type": "stream",
     "text": [
      "-----------16 reviews add to list. ListLen 16-----------\n",
      "-----------REVIEWS SHAPE: 16 @ 8 | RES DATA SHAPE: 11300 @ 8-----------\n",
      "------------------------------------------------------------------\n",
      "-----------PARSING REV FROM /msk/opinions/restaurants/angelo/ PAGE-----------\n",
      "-----------PAGE 1 PARSING-----------\n",
      "-----------20 reviews add to list. ListLen 20-----------\n",
      "-----------PAGE 2 PARSING-----------\n"
     ]
    },
    {
     "name": "stderr",
     "output_type": "stream",
     "text": [
      "\r",
      " 92%|█████████▏| 547/595 [14:36<01:16,  1.60s/it]"
     ]
    },
    {
     "name": "stdout",
     "output_type": "stream",
     "text": [
      "-----------6 reviews add to list. ListLen 26-----------\n",
      "-----------REVIEWS SHAPE: 26 @ 8 | RES DATA SHAPE: 11326 @ 8-----------\n",
      "------------------------------------------------------------------\n",
      "-----------PARSING REV FROM /msk/opinions/restaurants/babel/ PAGE-----------\n",
      "-----------PAGE 1 PARSING-----------\n"
     ]
    },
    {
     "name": "stderr",
     "output_type": "stream",
     "text": [
      "\r",
      " 92%|█████████▏| 548/595 [14:38<01:15,  1.60s/it]"
     ]
    },
    {
     "name": "stdout",
     "output_type": "stream",
     "text": [
      "-----------14 reviews add to list. ListLen 14-----------\n",
      "-----------REVIEWS SHAPE: 14 @ 8 | RES DATA SHAPE: 11340 @ 8-----------\n",
      "------------------------------------------------------------------\n",
      "-----------PARSING REV FROM /msk/opinions/restaurants/baklazhan/ PAGE-----------\n",
      "-----------PAGE 1 PARSING-----------\n"
     ]
    },
    {
     "name": "stderr",
     "output_type": "stream",
     "text": [
      "\r",
      " 92%|█████████▏| 549/595 [14:38<01:13,  1.60s/it]"
     ]
    },
    {
     "name": "stdout",
     "output_type": "stream",
     "text": [
      "-----------3 reviews add to list. ListLen 3-----------\n",
      "-----------REVIEWS SHAPE: 3 @ 8 | RES DATA SHAPE: 11343 @ 8-----------\n",
      "------------------------------------------------------------------\n",
      "-----------PARSING REV FROM /msk/opinions/restaurants/beloe_zoloto/ PAGE-----------\n",
      "-----------PAGE 1 PARSING-----------\n",
      "-----------20 reviews add to list. ListLen 20-----------\n",
      "-----------PAGE 2 PARSING-----------\n"
     ]
    },
    {
     "name": "stderr",
     "output_type": "stream",
     "text": [
      "\r",
      " 92%|█████████▏| 550/595 [14:41<01:12,  1.60s/it]"
     ]
    },
    {
     "name": "stdout",
     "output_type": "stream",
     "text": [
      "-----------12 reviews add to list. ListLen 32-----------\n",
      "-----------REVIEWS SHAPE: 32 @ 8 | RES DATA SHAPE: 11375 @ 8-----------\n",
      "------------------------------------------------------------------\n",
      "-----------PARSING REV FROM /msk/opinions/restaurants/tretyakovs/ PAGE-----------\n",
      "-----------PAGE 1 PARSING-----------\n"
     ]
    },
    {
     "name": "stderr",
     "output_type": "stream",
     "text": [
      "\r",
      " 93%|█████████▎| 551/595 [14:42<01:10,  1.60s/it]"
     ]
    },
    {
     "name": "stdout",
     "output_type": "stream",
     "text": [
      "-----------5 reviews add to list. ListLen 5-----------\n",
      "-----------REVIEWS SHAPE: 5 @ 8 | RES DATA SHAPE: 11380 @ 8-----------\n",
      "------------------------------------------------------------------\n",
      "-----------PARSING REV FROM /msk/opinions/restaurants/restoranvinograd/ PAGE-----------\n",
      "-----------PAGE 1 PARSING-----------\n"
     ]
    },
    {
     "name": "stderr",
     "output_type": "stream",
     "text": [
      "\r",
      " 93%|█████████▎| 552/595 [14:43<01:08,  1.60s/it]"
     ]
    },
    {
     "name": "stdout",
     "output_type": "stream",
     "text": [
      "-----------13 reviews add to list. ListLen 13-----------\n",
      "-----------REVIEWS SHAPE: 13 @ 8 | RES DATA SHAPE: 11393 @ 8-----------\n",
      "------------------------------------------------------------------\n",
      "-----------PARSING REV FROM /msk/opinions/restaurants/veterok/ PAGE-----------\n",
      "-----------PAGE 1 PARSING-----------\n"
     ]
    },
    {
     "name": "stderr",
     "output_type": "stream",
     "text": [
      "\r",
      " 93%|█████████▎| 553/595 [14:44<01:07,  1.60s/it]"
     ]
    },
    {
     "name": "stdout",
     "output_type": "stream",
     "text": [
      "-----------13 reviews add to list. ListLen 13-----------\n",
      "-----------REVIEWS SHAPE: 13 @ 8 | RES DATA SHAPE: 11406 @ 8-----------\n",
      "------------------------------------------------------------------\n",
      "-----------PARSING REV FROM /msk/opinions/restaurants/vysota_5642/ PAGE-----------\n",
      "-----------PAGE 1 PARSING-----------\n",
      "-----------20 reviews add to list. ListLen 20-----------\n",
      "-----------PAGE 2 PARSING-----------\n"
     ]
    },
    {
     "name": "stderr",
     "output_type": "stream",
     "text": [
      "\r",
      " 93%|█████████▎| 554/595 [14:47<01:05,  1.60s/it]"
     ]
    },
    {
     "name": "stdout",
     "output_type": "stream",
     "text": [
      "-----------15 reviews add to list. ListLen 35-----------\n",
      "-----------REVIEWS SHAPE: 35 @ 8 | RES DATA SHAPE: 11441 @ 8-----------\n",
      "------------------------------------------------------------------\n",
      "-----------PARSING REV FROM /msk/opinions/restaurants/voyagerest/ PAGE-----------\n",
      "-----------PAGE 1 PARSING-----------\n"
     ]
    },
    {
     "name": "stderr",
     "output_type": "stream",
     "text": [
      "\r",
      " 93%|█████████▎| 555/595 [14:48<01:04,  1.60s/it]"
     ]
    },
    {
     "name": "stdout",
     "output_type": "stream",
     "text": [
      "-----------6 reviews add to list. ListLen 6-----------\n",
      "-----------REVIEWS SHAPE: 6 @ 8 | RES DATA SHAPE: 11447 @ 8-----------\n",
      "------------------------------------------------------------------\n",
      "-----------PARSING REV FROM /msk/opinions/restaurants/vremena-goda/ PAGE-----------\n",
      "-----------PAGE 1 PARSING-----------\n"
     ]
    },
    {
     "name": "stderr",
     "output_type": "stream",
     "text": [
      "\r",
      " 93%|█████████▎| 556/595 [14:49<01:02,  1.60s/it]"
     ]
    },
    {
     "name": "stdout",
     "output_type": "stream",
     "text": [
      "-----------8 reviews add to list. ListLen 8-----------\n",
      "-----------REVIEWS SHAPE: 8 @ 8 | RES DATA SHAPE: 11455 @ 8-----------\n",
      "------------------------------------------------------------------\n",
      "-----------PARSING REV FROM /msk/opinions/restaurants/gladiator/ PAGE-----------\n",
      "-----------PAGE 1 PARSING-----------\n",
      "-----------20 reviews add to list. ListLen 20-----------\n",
      "-----------PAGE 2 PARSING-----------\n"
     ]
    },
    {
     "name": "stderr",
     "output_type": "stream",
     "text": [
      "\r",
      " 94%|█████████▎| 557/595 [14:51<01:00,  1.60s/it]"
     ]
    },
    {
     "name": "stdout",
     "output_type": "stream",
     "text": [
      "-----------20 reviews add to list. ListLen 40-----------\n",
      "-----------REVIEWS SHAPE: 40 @ 8 | RES DATA SHAPE: 11495 @ 8-----------\n",
      "------------------------------------------------------------------\n",
      "-----------PARSING REV FROM /msk/opinions/restaurants/dvorets_sultana/ PAGE-----------\n",
      "-----------PAGE 1 PARSING-----------\n",
      "-----------20 reviews add to list. ListLen 20-----------\n",
      "-----------PAGE 2 PARSING-----------\n",
      "-----------20 reviews add to list. ListLen 40-----------\n",
      "-----------PAGE 3 PARSING-----------\n",
      "-----------20 reviews add to list. ListLen 60-----------\n",
      "-----------PAGE 4 PARSING-----------\n",
      "-----------20 reviews add to list. ListLen 80-----------\n",
      "-----------PAGE 5 PARSING-----------\n",
      "-----------20 reviews add to list. ListLen 100-----------\n",
      "-----------PAGE 6 PARSING-----------\n",
      "-----------20 reviews add to list. ListLen 120-----------\n",
      "-----------PAGE 7 PARSING-----------\n",
      "-----------14 reviews add to list. ListLen 134-----------\n"
     ]
    },
    {
     "name": "stderr",
     "output_type": "stream",
     "text": [
      "\r",
      " 94%|█████████▍| 558/595 [14:59<00:59,  1.61s/it]"
     ]
    },
    {
     "name": "stdout",
     "output_type": "stream",
     "text": [
      "-----------REVIEWS SHAPE: 134 @ 8 | RES DATA SHAPE: 11629 @ 8-----------\n",
      "------------------------------------------------------------------\n",
      "-----------PARSING REV FROM /msk/opinions/restaurants/dushevnaya_madam/ PAGE-----------\n",
      "-----------PAGE 1 PARSING-----------\n",
      "-----------20 reviews add to list. ListLen 20-----------\n",
      "-----------PAGE 2 PARSING-----------\n",
      "-----------20 reviews add to list. ListLen 40-----------\n",
      "-----------PAGE 3 PARSING-----------\n"
     ]
    },
    {
     "name": "stderr",
     "output_type": "stream",
     "text": [
      "\r",
      " 94%|█████████▍| 559/595 [15:02<00:58,  1.61s/it]"
     ]
    },
    {
     "name": "stdout",
     "output_type": "stream",
     "text": [
      "-----------1 reviews add to list. ListLen 41-----------\n",
      "-----------REVIEWS SHAPE: 41 @ 8 | RES DATA SHAPE: 11670 @ 8-----------\n",
      "------------------------------------------------------------------\n",
      "-----------PARSING REV FROM /msk/opinions/restaurants/iveriya/ PAGE-----------\n",
      "-----------PAGE 1 PARSING-----------\n"
     ]
    },
    {
     "name": "stderr",
     "output_type": "stream",
     "text": [
      "\r",
      " 94%|█████████▍| 560/595 [15:03<00:56,  1.61s/it]"
     ]
    },
    {
     "name": "stdout",
     "output_type": "stream",
     "text": [
      "-----------2 reviews add to list. ListLen 2-----------\n",
      "-----------REVIEWS SHAPE: 2 @ 8 | RES DATA SHAPE: 11672 @ 8-----------\n",
      "------------------------------------------------------------------\n",
      "-----------PARSING REV FROM /msk/opinions/restaurants/imperator-holl/ PAGE-----------\n",
      "-----------PAGE 1 PARSING-----------\n"
     ]
    },
    {
     "name": "stderr",
     "output_type": "stream",
     "text": [
      "\r",
      " 94%|█████████▍| 561/595 [15:04<00:54,  1.61s/it]"
     ]
    },
    {
     "name": "stdout",
     "output_type": "stream",
     "text": [
      "-----------3 reviews add to list. ListLen 3-----------\n",
      "-----------REVIEWS SHAPE: 3 @ 8 | RES DATA SHAPE: 11675 @ 8-----------\n",
      "------------------------------------------------------------------\n",
      "-----------PARSING REV FROM /msk/opinions/restaurants/im_smoking/ PAGE-----------\n",
      "-----------PAGE 1 PARSING-----------\n"
     ]
    },
    {
     "name": "stderr",
     "output_type": "stream",
     "text": [
      "\r",
      " 94%|█████████▍| 562/595 [15:04<00:53,  1.61s/it]"
     ]
    },
    {
     "name": "stdout",
     "output_type": "stream",
     "text": [
      "-----------3 reviews add to list. ListLen 3-----------\n",
      "-----------REVIEWS SHAPE: 3 @ 8 | RES DATA SHAPE: 11678 @ 8-----------\n",
      "------------------------------------------------------------------\n",
      "-----------PARSING REV FROM /msk/opinions/restaurants/italyantsy-v-rossii/ PAGE-----------\n",
      "-----------PAGE 1 PARSING-----------\n"
     ]
    },
    {
     "name": "stderr",
     "output_type": "stream",
     "text": [
      "\r",
      " 95%|█████████▍| 563/595 [15:05<00:51,  1.61s/it]"
     ]
    },
    {
     "name": "stdout",
     "output_type": "stream",
     "text": [
      "-----------4 reviews add to list. ListLen 4-----------\n",
      "-----------REVIEWS SHAPE: 4 @ 8 | RES DATA SHAPE: 11682 @ 8-----------\n",
      "------------------------------------------------------------------\n",
      "-----------PARSING REV FROM /msk/opinions/restaurants/kavdvor/ PAGE-----------\n",
      "-----------PAGE 1 PARSING-----------\n",
      "-----------20 reviews add to list. ListLen 20-----------\n",
      "-----------PAGE 2 PARSING-----------\n"
     ]
    },
    {
     "name": "stderr",
     "output_type": "stream",
     "text": [
      "\r",
      " 95%|█████████▍| 564/595 [15:07<00:49,  1.61s/it]"
     ]
    },
    {
     "name": "stdout",
     "output_type": "stream",
     "text": [
      "-----------15 reviews add to list. ListLen 35-----------\n",
      "-----------REVIEWS SHAPE: 35 @ 8 | RES DATA SHAPE: 11717 @ 8-----------\n",
      "------------------------------------------------------------------\n",
      "-----------PARSING REV FROM /msk/opinions/restaurants/cafe_campus/ PAGE-----------\n",
      "-----------PAGE 1 PARSING-----------\n",
      "-----------20 reviews add to list. ListLen 20-----------\n",
      "-----------PAGE 2 PARSING-----------\n"
     ]
    },
    {
     "name": "stderr",
     "output_type": "stream",
     "text": [
      "\r",
      " 95%|█████████▍| 565/595 [15:09<00:48,  1.61s/it]"
     ]
    },
    {
     "name": "stdout",
     "output_type": "stream",
     "text": [
      "-----------5 reviews add to list. ListLen 25-----------\n",
      "-----------REVIEWS SHAPE: 25 @ 8 | RES DATA SHAPE: 11742 @ 8-----------\n",
      "------------------------------------------------------------------\n",
      "-----------PARSING REV FROM /msk/opinions/restaurants/kvartal/ PAGE-----------\n",
      "-----------PAGE 1 PARSING-----------\n"
     ]
    },
    {
     "name": "stderr",
     "output_type": "stream",
     "text": [
      "\r",
      " 95%|█████████▌| 566/595 [15:10<00:46,  1.61s/it]"
     ]
    },
    {
     "name": "stdout",
     "output_type": "stream",
     "text": [
      "-----------2 reviews add to list. ListLen 2-----------\n",
      "-----------REVIEWS SHAPE: 2 @ 8 | RES DATA SHAPE: 11744 @ 8-----------\n",
      "------------------------------------------------------------------\n",
      "-----------PARSING REV FROM /msk/opinions/restaurants/costante/ PAGE-----------\n",
      "-----------PAGE 1 PARSING-----------\n"
     ]
    },
    {
     "name": "stderr",
     "output_type": "stream",
     "text": [
      "\r",
      " 95%|█████████▌| 567/595 [15:11<00:45,  1.61s/it]"
     ]
    },
    {
     "name": "stdout",
     "output_type": "stream",
     "text": [
      "-----------8 reviews add to list. ListLen 8-----------\n",
      "-----------REVIEWS SHAPE: 8 @ 8 | RES DATA SHAPE: 11752 @ 8-----------\n",
      "------------------------------------------------------------------\n",
      "-----------PARSING REV FROM /msk/opinions/restaurants/lav/ PAGE-----------\n",
      "-----------PAGE 1 PARSING-----------\n"
     ]
    },
    {
     "name": "stderr",
     "output_type": "stream",
     "text": [
      "\r",
      " 95%|█████████▌| 568/595 [15:12<00:43,  1.61s/it]"
     ]
    },
    {
     "name": "stdout",
     "output_type": "stream",
     "text": [
      "-----------5 reviews add to list. ListLen 5-----------\n",
      "-----------REVIEWS SHAPE: 5 @ 8 | RES DATA SHAPE: 11757 @ 8-----------\n",
      "------------------------------------------------------------------\n",
      "-----------PARSING REV FROM /msk/opinions/restaurants/lakada/ PAGE-----------\n",
      "-----------PAGE 1 PARSING-----------\n"
     ]
    },
    {
     "name": "stderr",
     "output_type": "stream",
     "text": [
      "\r",
      " 96%|█████████▌| 569/595 [15:13<00:41,  1.61s/it]"
     ]
    },
    {
     "name": "stdout",
     "output_type": "stream",
     "text": [
      "-----------9 reviews add to list. ListLen 9-----------\n",
      "-----------REVIEWS SHAPE: 9 @ 8 | RES DATA SHAPE: 11766 @ 8-----------\n",
      "------------------------------------------------------------------\n",
      "-----------PARSING REV FROM /msk/opinions/restaurants/lodka/ PAGE-----------\n",
      "-----------PAGE 1 PARSING-----------\n"
     ]
    },
    {
     "name": "stderr",
     "output_type": "stream",
     "text": [
      "\r",
      " 96%|█████████▌| 570/595 [15:14<00:40,  1.60s/it]"
     ]
    },
    {
     "name": "stdout",
     "output_type": "stream",
     "text": [
      "-----------3 reviews add to list. ListLen 3-----------\n",
      "-----------REVIEWS SHAPE: 3 @ 8 | RES DATA SHAPE: 11769 @ 8-----------\n",
      "------------------------------------------------------------------\n",
      "-----------PARSING REV FROM /msk/opinions/restaurants/mario/ PAGE-----------\n",
      "-----------PAGE 1 PARSING-----------\n"
     ]
    },
    {
     "name": "stderr",
     "output_type": "stream",
     "text": [
      "\r",
      " 96%|█████████▌| 571/595 [15:15<00:38,  1.60s/it]"
     ]
    },
    {
     "name": "stdout",
     "output_type": "stream",
     "text": [
      "-----------3 reviews add to list. ListLen 3-----------\n",
      "-----------REVIEWS SHAPE: 3 @ 8 | RES DATA SHAPE: 11772 @ 8-----------\n",
      "------------------------------------------------------------------\n",
      "-----------PARSING REV FROM /msk/opinions/restaurants/leyka/ PAGE-----------\n",
      "-----------PAGE 1 PARSING-----------\n"
     ]
    },
    {
     "name": "stderr",
     "output_type": "stream",
     "text": [
      "\r",
      " 96%|█████████▌| 572/595 [15:16<00:36,  1.60s/it]"
     ]
    },
    {
     "name": "stdout",
     "output_type": "stream",
     "text": [
      "-----------11 reviews add to list. ListLen 11-----------\n",
      "-----------REVIEWS SHAPE: 11 @ 8 | RES DATA SHAPE: 11783 @ 8-----------\n",
      "------------------------------------------------------------------\n",
      "-----------PARSING REV FROM /msk/opinions/restaurants/lubitporusski/ PAGE-----------\n",
      "-----------PAGE 1 PARSING-----------\n"
     ]
    },
    {
     "name": "stderr",
     "output_type": "stream",
     "text": [
      "\r",
      " 96%|█████████▋| 573/595 [15:17<00:35,  1.60s/it]"
     ]
    },
    {
     "name": "stdout",
     "output_type": "stream",
     "text": [
      "-----------3 reviews add to list. ListLen 3-----------\n",
      "-----------REVIEWS SHAPE: 3 @ 8 | RES DATA SHAPE: 11786 @ 8-----------\n",
      "------------------------------------------------------------------\n",
      "-----------PARSING REV FROM /msk/opinions/restaurants/lica/ PAGE-----------\n",
      "-----------PAGE 1 PARSING-----------\n"
     ]
    },
    {
     "name": "stderr",
     "output_type": "stream",
     "text": [
      "\r",
      " 96%|█████████▋| 574/595 [15:18<00:33,  1.60s/it]"
     ]
    },
    {
     "name": "stdout",
     "output_type": "stream",
     "text": [
      "-----------3 reviews add to list. ListLen 3-----------\n",
      "-----------REVIEWS SHAPE: 3 @ 8 | RES DATA SHAPE: 11789 @ 8-----------\n",
      "------------------------------------------------------------------\n",
      "-----------PARSING REV FROM /msk/opinions/restaurants/matsoni_rest/ PAGE-----------\n",
      "-----------PAGE 1 PARSING-----------\n"
     ]
    },
    {
     "name": "stderr",
     "output_type": "stream",
     "text": [
      "\r",
      " 97%|█████████▋| 575/595 [15:19<00:31,  1.60s/it]"
     ]
    },
    {
     "name": "stdout",
     "output_type": "stream",
     "text": [
      "-----------15 reviews add to list. ListLen 15-----------\n",
      "-----------REVIEWS SHAPE: 15 @ 8 | RES DATA SHAPE: 11804 @ 8-----------\n",
      "------------------------------------------------------------------\n",
      "-----------PARSING REV FROM /msk/opinions/restaurants/moskovskoe_nebo/ PAGE-----------\n",
      "-----------PAGE 1 PARSING-----------\n",
      "-----------20 reviews add to list. ListLen 20-----------\n",
      "-----------PAGE 2 PARSING-----------\n",
      "-----------20 reviews add to list. ListLen 40-----------\n",
      "-----------PAGE 3 PARSING-----------\n"
     ]
    },
    {
     "name": "stderr",
     "output_type": "stream",
     "text": [
      "\r",
      " 97%|█████████▋| 576/595 [15:23<00:30,  1.60s/it]"
     ]
    },
    {
     "name": "stdout",
     "output_type": "stream",
     "text": [
      "-----------8 reviews add to list. ListLen 48-----------\n",
      "-----------REVIEWS SHAPE: 48 @ 8 | RES DATA SHAPE: 11852 @ 8-----------\n",
      "------------------------------------------------------------------\n",
      "-----------PARSING REV FROM /msk/opinions/restaurants/natakhtari_bolshoy_cherkasskiy/ PAGE-----------\n",
      "-----------PAGE 1 PARSING-----------\n"
     ]
    },
    {
     "name": "stderr",
     "output_type": "stream",
     "text": [
      "\r",
      " 97%|█████████▋| 577/595 [15:24<00:28,  1.60s/it]"
     ]
    },
    {
     "name": "stdout",
     "output_type": "stream",
     "text": [
      "-----------6 reviews add to list. ListLen 6-----------\n",
      "-----------REVIEWS SHAPE: 6 @ 8 | RES DATA SHAPE: 11858 @ 8-----------\n",
      "------------------------------------------------------------------\n",
      "-----------PARSING REV FROM /msk/opinions/restaurants/okino/ PAGE-----------\n",
      "-----------PAGE 1 PARSING-----------\n"
     ]
    },
    {
     "name": "stderr",
     "output_type": "stream",
     "text": [
      "\r",
      " 97%|█████████▋| 578/595 [15:25<00:27,  1.60s/it]"
     ]
    },
    {
     "name": "stdout",
     "output_type": "stream",
     "text": [
      "-----------2 reviews add to list. ListLen 2-----------\n",
      "-----------REVIEWS SHAPE: 2 @ 8 | RES DATA SHAPE: 11860 @ 8-----------\n",
      "------------------------------------------------------------------\n",
      "-----------PARSING REV FROM /msk/opinions/restaurants/oblaka/ PAGE-----------\n",
      "-----------PAGE 1 PARSING-----------\n"
     ]
    },
    {
     "name": "stderr",
     "output_type": "stream",
     "text": [
      "\r",
      " 97%|█████████▋| 579/595 [15:26<00:25,  1.60s/it]"
     ]
    },
    {
     "name": "stdout",
     "output_type": "stream",
     "text": [
      "-----------11 reviews add to list. ListLen 11-----------\n",
      "-----------REVIEWS SHAPE: 11 @ 8 | RES DATA SHAPE: 11871 @ 8-----------\n",
      "------------------------------------------------------------------\n",
      "-----------PARSING REV FROM /msk/opinions/restaurants/ottepel/ PAGE-----------\n",
      "-----------PAGE 1 PARSING-----------\n",
      "-----------20 reviews add to list. ListLen 20-----------\n",
      "-----------PAGE 2 PARSING-----------\n"
     ]
    },
    {
     "name": "stderr",
     "output_type": "stream",
     "text": [
      "\r",
      " 97%|█████████▋| 580/595 [15:28<00:24,  1.60s/it]"
     ]
    },
    {
     "name": "stdout",
     "output_type": "stream",
     "text": [
      "-----------20 reviews add to list. ListLen 40-----------\n",
      "-----------REVIEWS SHAPE: 40 @ 8 | RES DATA SHAPE: 11911 @ 8-----------\n",
      "------------------------------------------------------------------\n",
      "-----------PARSING REV FROM /msk/opinions/restaurants/persia/ PAGE-----------\n",
      "-----------PAGE 1 PARSING-----------\n"
     ]
    },
    {
     "name": "stderr",
     "output_type": "stream",
     "text": [
      "\r",
      " 98%|█████████▊| 581/595 [15:29<00:22,  1.60s/it]"
     ]
    },
    {
     "name": "stdout",
     "output_type": "stream",
     "text": [
      "-----------5 reviews add to list. ListLen 5-----------\n",
      "-----------REVIEWS SHAPE: 5 @ 8 | RES DATA SHAPE: 11916 @ 8-----------\n",
      "------------------------------------------------------------------\n",
      "-----------PARSING REV FROM /msk/opinions/restaurants/reutov/ PAGE-----------\n",
      "-----------PAGE 1 PARSING-----------\n",
      "-----------20 reviews add to list. ListLen 20-----------\n",
      "-----------PAGE 2 PARSING-----------\n",
      "-----------20 reviews add to list. ListLen 40-----------\n",
      "-----------PAGE 3 PARSING-----------\n",
      "-----------20 reviews add to list. ListLen 60-----------\n",
      "-----------PAGE 4 PARSING-----------\n"
     ]
    },
    {
     "name": "stderr",
     "output_type": "stream",
     "text": [
      "\r",
      " 98%|█████████▊| 582/595 [15:33<00:20,  1.60s/it]"
     ]
    },
    {
     "name": "stdout",
     "output_type": "stream",
     "text": [
      "-----------19 reviews add to list. ListLen 79-----------\n",
      "-----------REVIEWS SHAPE: 79 @ 8 | RES DATA SHAPE: 11995 @ 8-----------\n",
      "------------------------------------------------------------------\n",
      "-----------PARSING REV FROM /msk/opinions/restaurants/rayskiyugolok/ PAGE-----------\n",
      "-----------PAGE 1 PARSING-----------\n",
      "-----------20 reviews add to list. ListLen 20-----------\n",
      "-----------PAGE 2 PARSING-----------\n"
     ]
    },
    {
     "name": "stderr",
     "output_type": "stream",
     "text": [
      "\r",
      " 98%|█████████▊| 583/595 [15:35<00:19,  1.60s/it]"
     ]
    },
    {
     "name": "stdout",
     "output_type": "stream",
     "text": [
      "-----------15 reviews add to list. ListLen 35-----------\n",
      "-----------REVIEWS SHAPE: 35 @ 8 | RES DATA SHAPE: 12030 @ 8-----------\n",
      "------------------------------------------------------------------\n",
      "-----------PARSING REV FROM /msk/opinions/restaurants/river_palace_1/ PAGE-----------\n",
      "-----------PAGE 1 PARSING-----------\n",
      "-----------20 reviews add to list. ListLen 20-----------\n",
      "-----------PAGE 2 PARSING-----------\n",
      "-----------20 reviews add to list. ListLen 40-----------\n",
      "-----------PAGE 3 PARSING-----------\n"
     ]
    },
    {
     "name": "stderr",
     "output_type": "stream",
     "text": [
      "\r",
      " 98%|█████████▊| 584/595 [15:38<00:17,  1.61s/it]"
     ]
    },
    {
     "name": "stdout",
     "output_type": "stream",
     "text": [
      "-----------16 reviews add to list. ListLen 56-----------\n",
      "-----------REVIEWS SHAPE: 56 @ 8 | RES DATA SHAPE: 12086 @ 8-----------\n",
      "------------------------------------------------------------------\n",
      "-----------PARSING REV FROM /msk/opinions/restaurants/svetliy-moscow/ PAGE-----------\n",
      "-----------PAGE 1 PARSING-----------\n",
      "-----------20 reviews add to list. ListLen 20-----------\n",
      "-----------PAGE 2 PARSING-----------\n"
     ]
    },
    {
     "name": "stderr",
     "output_type": "stream",
     "text": [
      "\r",
      " 98%|█████████▊| 585/595 [15:41<00:16,  1.61s/it]"
     ]
    },
    {
     "name": "stdout",
     "output_type": "stream",
     "text": [
      "-----------14 reviews add to list. ListLen 34-----------\n",
      "-----------REVIEWS SHAPE: 34 @ 8 | RES DATA SHAPE: 12120 @ 8-----------\n",
      "------------------------------------------------------------------\n",
      "-----------PARSING REV FROM /msk/opinions/restaurants/svaneti/ PAGE-----------\n",
      "-----------PAGE 1 PARSING-----------\n"
     ]
    },
    {
     "name": "stderr",
     "output_type": "stream",
     "text": [
      "\r",
      " 98%|█████████▊| 586/595 [15:42<00:14,  1.61s/it]"
     ]
    },
    {
     "name": "stdout",
     "output_type": "stream",
     "text": [
      "-----------3 reviews add to list. ListLen 3-----------\n",
      "-----------REVIEWS SHAPE: 3 @ 8 | RES DATA SHAPE: 12123 @ 8-----------\n",
      "------------------------------------------------------------------\n",
      "-----------PARSING REV FROM /msk/opinions/restaurants/staryi-gorod/ PAGE-----------\n",
      "-----------PAGE 1 PARSING-----------\n",
      "-----------20 reviews add to list. ListLen 20-----------\n",
      "-----------PAGE 2 PARSING-----------\n"
     ]
    },
    {
     "name": "stderr",
     "output_type": "stream",
     "text": [
      "\r",
      " 99%|█████████▊| 587/595 [15:44<00:12,  1.61s/it]"
     ]
    },
    {
     "name": "stdout",
     "output_type": "stream",
     "text": [
      "-----------4 reviews add to list. ListLen 24-----------\n",
      "-----------REVIEWS SHAPE: 24 @ 8 | RES DATA SHAPE: 12147 @ 8-----------\n",
      "------------------------------------------------------------------\n",
      "-----------PARSING REV FROM /msk/opinions/restaurants/sytyy-los/ PAGE-----------\n",
      "-----------PAGE 1 PARSING-----------\n"
     ]
    },
    {
     "name": "stderr",
     "output_type": "stream",
     "text": [
      "\r",
      " 99%|█████████▉| 588/595 [15:45<00:11,  1.61s/it]"
     ]
    },
    {
     "name": "stdout",
     "output_type": "stream",
     "text": [
      "-----------9 reviews add to list. ListLen 9-----------\n",
      "-----------REVIEWS SHAPE: 9 @ 8 | RES DATA SHAPE: 12156 @ 8-----------\n",
      "------------------------------------------------------------------\n",
      "-----------PARSING REV FROM /msk/opinions/restaurants/usadba_cafe/ PAGE-----------\n",
      "-----------PAGE 1 PARSING-----------\n"
     ]
    },
    {
     "name": "stderr",
     "output_type": "stream",
     "text": [
      "\r",
      " 99%|█████████▉| 589/595 [15:46<00:09,  1.61s/it]"
     ]
    },
    {
     "name": "stdout",
     "output_type": "stream",
     "text": [
      "-----------6 reviews add to list. ListLen 6-----------\n",
      "-----------REVIEWS SHAPE: 6 @ 8 | RES DATA SHAPE: 12162 @ 8-----------\n",
      "------------------------------------------------------------------\n",
      "-----------PARSING REV FROM /msk/opinions/restaurants/tykva/ PAGE-----------\n",
      "-----------PAGE 1 PARSING-----------\n"
     ]
    },
    {
     "name": "stderr",
     "output_type": "stream",
     "text": [
      "\r",
      " 99%|█████████▉| 590/595 [15:47<00:08,  1.61s/it]"
     ]
    },
    {
     "name": "stdout",
     "output_type": "stream",
     "text": [
      "-----------4 reviews add to list. ListLen 4-----------\n",
      "-----------REVIEWS SHAPE: 4 @ 8 | RES DATA SHAPE: 12166 @ 8-----------\n",
      "------------------------------------------------------------------\n",
      "-----------PARSING REV FROM /msk/opinions/restaurants/tchaikovsky-cafe/ PAGE-----------\n",
      "-----------PAGE 1 PARSING-----------\n"
     ]
    },
    {
     "name": "stderr",
     "output_type": "stream",
     "text": [
      "\r",
      " 99%|█████████▉| 591/595 [15:48<00:06,  1.60s/it]"
     ]
    },
    {
     "name": "stdout",
     "output_type": "stream",
     "text": [
      "-----------7 reviews add to list. ListLen 7-----------\n",
      "-----------REVIEWS SHAPE: 7 @ 8 | RES DATA SHAPE: 12173 @ 8-----------\n",
      "------------------------------------------------------------------\n",
      "-----------PARSING REV FROM /msk/opinions/restaurants/cycyla/ PAGE-----------\n",
      "-----------PAGE 1 PARSING-----------\n",
      "-----------20 reviews add to list. ListLen 20-----------\n",
      "-----------PAGE 2 PARSING-----------\n"
     ]
    },
    {
     "name": "stderr",
     "output_type": "stream",
     "text": [
      "\r",
      " 99%|█████████▉| 592/595 [15:50<00:04,  1.61s/it]"
     ]
    },
    {
     "name": "stdout",
     "output_type": "stream",
     "text": [
      "-----------1 reviews add to list. ListLen 21-----------\n",
      "-----------REVIEWS SHAPE: 21 @ 8 | RES DATA SHAPE: 12194 @ 8-----------\n",
      "------------------------------------------------------------------\n",
      "-----------PARSING REV FROM /msk/opinions/restaurants/shale_berezka/ PAGE-----------\n",
      "-----------PAGE 1 PARSING-----------\n"
     ]
    },
    {
     "name": "stderr",
     "output_type": "stream",
     "text": [
      "\r",
      "100%|█████████▉| 593/595 [15:51<00:03,  1.60s/it]"
     ]
    },
    {
     "name": "stdout",
     "output_type": "stream",
     "text": [
      "-----------3 reviews add to list. ListLen 3-----------\n",
      "-----------REVIEWS SHAPE: 3 @ 8 | RES DATA SHAPE: 12197 @ 8-----------\n",
      "------------------------------------------------------------------\n",
      "-----------PARSING REV FROM /msk/opinions/restaurants/shabada/ PAGE-----------\n",
      "-----------PAGE 1 PARSING-----------\n"
     ]
    },
    {
     "name": "stderr",
     "output_type": "stream",
     "text": [
      "\r",
      "100%|█████████▉| 594/595 [15:52<00:01,  1.60s/it]"
     ]
    },
    {
     "name": "stdout",
     "output_type": "stream",
     "text": [
      "-----------2 reviews add to list. ListLen 2-----------\n",
      "-----------REVIEWS SHAPE: 2 @ 8 | RES DATA SHAPE: 12199 @ 8-----------\n",
      "------------------------------------------------------------------\n",
      "-----------PARSING REV FROM /msk/opinions/restaurants/cafeyuzhnoe/ PAGE-----------\n",
      "-----------PAGE 1 PARSING-----------\n",
      "-----------20 reviews add to list. ListLen 20-----------\n",
      "-----------PAGE 2 PARSING-----------\n",
      "-----------20 reviews add to list. ListLen 40-----------\n",
      "-----------PAGE 3 PARSING-----------\n",
      "-----------20 reviews add to list. ListLen 60-----------\n",
      "-----------PAGE 4 PARSING-----------\n",
      "-----------20 reviews add to list. ListLen 80-----------\n",
      "-----------PAGE 5 PARSING-----------\n"
     ]
    },
    {
     "name": "stderr",
     "output_type": "stream",
     "text": [
      "\r",
      "100%|██████████| 595/595 [15:57<00:00,  1.61s/it]"
     ]
    },
    {
     "name": "stdout",
     "output_type": "stream",
     "text": [
      "-----------7 reviews add to list. ListLen 87-----------\n",
      "-----------REVIEWS SHAPE: 87 @ 8 | RES DATA SHAPE: 12286 @ 8-----------\n",
      "------------------------------------------------------------------\n"
     ]
    },
    {
     "name": "stderr",
     "output_type": "stream",
     "text": [
      "\n"
     ]
    }
   ],
   "source": [
    "a.run()"
   ]
  },
  {
   "cell_type": "code",
   "execution_count": 11,
   "metadata": {},
   "outputs": [],
   "source": [
    "reviews = a.res_data"
   ]
  },
  {
   "cell_type": "code",
   "execution_count": 15,
   "metadata": {
    "scrolled": true
   },
   "outputs": [
    {
     "data": {
      "text/plain": [
       "old.restoran.ru      1670\n",
       "olgaart86              14\n",
       "9296080                12\n",
       "Катюша                 11\n",
       "Андрей                 11\n",
       "Костя 30               11\n",
       "eduard_askim           11\n",
       "timurlas               11\n",
       "alla_kirova            10\n",
       "Илья                   10\n",
       "Edu                    10\n",
       "Рус                     9\n",
       "lansckaya777            9\n",
       "kirill                  9\n",
       "valera68                8\n",
       "Настя                   8\n",
       "Мурашка                 8\n",
       "Alin123                 8\n",
       "Павел                   8\n",
       "natali                  8\n",
       "Настя Клёпик            8\n",
       "WhiteRoseAngel          8\n",
       "Dim30                   8\n",
       "filippov                8\n",
       "Павел Земский111        8\n",
       "Savushka                8\n",
       "maksi                   8\n",
       "Iriska                  8\n",
       "Сергей Романов          7\n",
       "Maryyy                  7\n",
       "                     ... \n",
       "n.zinin                 1\n",
       "grafniksan              1\n",
       "mary_lis13              1\n",
       "milamila                1\n",
       "Ligaconsulting          1\n",
       "president.aleshin       1\n",
       "zalevskayatanya         1\n",
       "marvic.06               1\n",
       "tema_n78                1\n",
       "govina87                1\n",
       "fomchikin               1\n",
       "kuznetsova.alla         1\n",
       "l-kononova              1\n",
       "dashatomilino           1\n",
       "larri4                  1\n",
       "garmashyu               1\n",
       "ninagranatova           1\n",
       "anutastar47             1\n",
       "grandkroos              1\n",
       "rudnikov-aa             1\n",
       "ahverdowa               1\n",
       "pugin-1983              1\n",
       "vladimir-ruch           1\n",
       "kkhrabrova              1\n",
       "OOVОльга                1\n",
       "ysik74                  1\n",
       "igor.bomonin            1\n",
       "Tanmironova             1\n",
       "sportmast120852         1\n",
       "baztoner                1\n",
       "Name: Auhor, Length: 8136, dtype: int64"
      ]
     },
     "execution_count": 15,
     "metadata": {},
     "output_type": "execute_result"
    }
   ],
   "source": [
    "reviews.Auhor.value_counts()"
   ]
  },
  {
   "cell_type": "code",
   "execution_count": 16,
   "metadata": {
    "collapsed": true
   },
   "outputs": [],
   "source": [
    "reviews = reviews[reviews.Auhor != 'old.restoran.ru'].drop_duplicates()"
   ]
  },
  {
   "cell_type": "code",
   "execution_count": 17,
   "metadata": {},
   "outputs": [
    {
     "name": "stdout",
     "output_type": "stream",
     "text": [
      "<class 'pandas.core.frame.DataFrame'>\n",
      "Int64Index: 10350 entries, 0 to 86\n",
      "Data columns (total 8 columns):\n",
      "Plus         10350 non-null int64\n",
      "Date         10350 non-null object\n",
      "Minus        10350 non-null int64\n",
      "Childs       10350 non-null object\n",
      "Auhor        10350 non-null object\n",
      "Text         10350 non-null object\n",
      "rLink        10350 non-null object\n",
      "commentID    10350 non-null object\n",
      "dtypes: int64(2), object(6)\n",
      "memory usage: 727.7+ KB\n"
     ]
    }
   ],
   "source": [
    "reviews.info()"
   ]
  },
  {
   "cell_type": "code",
   "execution_count": 18,
   "metadata": {
    "collapsed": true
   },
   "outputs": [],
   "source": [
    "reviews['Author'] = reviews['Auhor']\n",
    "del reviews['Auhor']"
   ]
  },
  {
   "cell_type": "code",
   "execution_count": 21,
   "metadata": {},
   "outputs": [],
   "source": [
    "%time reviews['companyID'] = reviews.rLink.apply(lambda x: (out[out.review_link == x].ID.tolist())[0])"
   ]
  },
  {
   "cell_type": "code",
   "execution_count": 22,
   "metadata": {
    "collapsed": true
   },
   "outputs": [],
   "source": [
    "del reviews['rLink']"
   ]
  },
  {
   "cell_type": "code",
   "execution_count": 24,
   "metadata": {},
   "outputs": [],
   "source": [
    "reviews['commentID'] += 'c'"
   ]
  },
  {
   "cell_type": "code",
   "execution_count": 28,
   "metadata": {},
   "outputs": [
    {
     "data": {
      "text/plain": [
       "Отзыв удалён ресторатором.                                                                                                                                                                                                                                                                                                                                                                                                102\n",
       "                                                                                                                                                                                                                                                                                                                                                                                                                           29\n",
       "Отзыв удален ресторатором                                                                                                                                                                                                                                                                                                                                                                                                  20\n",
       "Отзыв удален ресторатором.                                                                                                                                                                                                                                                                                                                                                                                                 17\n",
       "Отлично                                                                                                                                                                                                                                                                                                                                                                                                                    11\n",
       "Супер                                                                                                                                                                                                                                                                                                                                                                                                                       5\n",
       "Отлично!                                                                                                                                                                                                                                                                                                                                                                                                                    4\n",
       "Отзыв уделён ресторатором.                                                                                                                                                                                                                                                                                                                                                                                                  4\n",
       "все вкусно, красиво, чисто, приятно. Встретили радушно, также проводили- пригласив снова. Придем! Бесспорно. Девчонки - молодцы.                                                                                                                                                                                                                                                                                            4\n",
       "Из плюсов: приятный интерьер,обстановка,живая музыка в исполнении итальянского певцаИз минусов: заказанное несли 40 минут,но этот минус можно было бы простить,если бы оказалось вкусно,но еда была весьма посредственной.Цены выше среднего, место довольно пафосное,из-за чего не очень уютно.Вряд ли приду еще раз                                                                                                       3\n",
       "Отличный ресторан.                                                                                                                                                                                                                                                                                                                                                                                                          3\n",
       "Всем приятного аппетита! Очень вкусно, настоящая авторская кухня.                                                                                                                                                                                                                                                                                                                                                           3\n",
       "Хорошее место , очень понравилась кухня, вежливый персонал, место где можно хорошо провести время,цены порадовали, сидели большой компанией все и всем очень понравилось                                                                                                                                                                                                                                                    3\n",
       "Люди! Держитесь по дальше от этого заведения!!! Испорченный свадебный банкет, а отсюда испорченное настроение - все, что смогли сделать администраторы и менеджеры Дома Приемов «Империи» на Шаболовке 58. Обещанные кондиционеры отсутствовали. Жалкие вентиляторы, которые были выставлены также были неисправны. Низкокачественная еда несоответствующая заявленным ценам, которые кстати являются достаточно...         2\n",
       "На просьбу зарезервировать конкретный стол отвечают: «Куда посажу – туда посажу». Предлагают столы с ограничением по времени. То есть вы приходите, но через 1,5-2 часа вы должны покинуть ресторан. Даже посещать не надо, всё с рестораном понятно.                                                                                                                                                                       2\n",
       "Были в выходные, напрягало огромное количество народа, но спасибо всем за прекрасный вечер! Отмечали день рождение ребенка -принесли еду в игровой центр,все вкусно, оперативно, несмотря на аншлаг. спасибо за отличный вечер! Вернемся, посоветуем друзьям.                                                                                                                                                               2\n",
       "Я очень люблю разнообразные морепродукты, уже приблизительно год знаком с Порто Мальтезе, мне очень по нраву их подача блюд! Не стыдно привести сюда партнеров по бизнесу.                                                                                                                                                                                                                                                  2\n",
       "Обычно кухня была очень хорошая. Но сегодня белый рыбный суп был \"бесвкусной переваренной кашей\".Всегда приезжал ради этого супа, который отличался раньше прозрачностью и ароматом (((Ассорти рыбное и остальное было хорошим!                                                                                                                                                                                             2\n",
       "потрясающее место, вкусная еда и очень хорошие грузинское вино, расслабляющая атмосфера, вежливый персонал, быстро готовятся блюда. Рекомендую хотя бы раз посвятить это заведение                                                                                                                                                                                                                                          2\n",
       "Произошла накладка с броню, она не была записана в журнал. Остальное  очень понравилось.                                                                                                                                                                                                                                                                                                                                    2\n",
       "Отличный ресторан, чтобы провести время с детьми. Мастер классы по приготовлению пиццы и СУМАСШЕДШИХ милк-шейков! Это бомба, ребят! Так держать. На веки ваши.                                                                                                                                                                                                                                                              2\n",
       "Сегодня праздновали в данном ресторане День рождения на 8 человек. Еда прекрасная: морепродукты свежайшие, приготовлены очень качественно и быстро. К морепродуктам на гриле и салатам рекомендую белое домашнее вино - все были в восторге от него! - и фокачу с травами. Считаю коронным блюдом ресторана рыбу, приготовленную в соли -  очень эффектная подача и вкус отменный! отдельное спасибо ...                    2\n",
       "Конкретно недружелюбный персонал. Грузинская кухня намного вкуснее,  чем здесь                                                                                                                                                                                                                                                                                                                                              2\n",
       "Уютно, вкусно,доброжелательно. Мне понравилось. В этом заведении первый раз. Всем рекомендую.                                                                                                                                                                                                                                                                                                                               2\n",
       "Очень хороший ресторан . Всегда отличное обслуживание.атмосфера домашняя . вместительное помещение если необходимо для больших компаний официанты - приветливые и знающие свое дело парни. Всегда заказываю рыбу и морепродукты-свежесть, выбор, приготовление и подача не вызывает нареканий.                                                                                                                              2\n",
       "В китайской кухнен есть свои \"визитные карточни\" имено к таким я отношу куриные лапки! В Китайской Грамоте шеф готовит их очень хорошо (была в Китае, есть с чем сравнить). 4 вида - жареные, тушеные, карамелизированные и \"простые\" с солью и перцем - рекомендую попробовать все!                                                                                                                                        2\n",
       "Хороший ресторан                                                                                                                                                                                                                                                                                                                                                                                                            2\n",
       "Отличное место, прекрасная кухня, все просто на высшем уровне!!! Объелись за 3 т р, ещё домой половину унесли))) огромное спасибо и успехов!!!!                                                                                                                                                                                                                                                                             2\n",
       "Всем добрый день! 10.12.2016 мы отпраздновали свадьбу в банкетном зале \"Аквариум\"! Праздник превзошел все ожидания! Все оцениваем на 5 с большим плюсом! Два года назад в зале \"Посад\" праздновал свадьбу мой родной брат и я последовал его путем и нисколько не пожалел. Организация, официанты, декор, ведущий, музыкальное сопровождение было на самом высоком уровне! Спасибо Вам за такой...                          2\n",
       "Вечер добрый!Интерьер ресторана завораживает.В нашем районе подобного заведения нет-это точно.Изумительно подобранная винная карта. Пицца на хрустящей тонком тесте мих дровяной печи.Брали Вальтелину,пасту с морепродуктами,приносят по умолчанию пармезан и острое масло.На десерт нам посоветовали шоколадный шар и фондант.Все вкусно. Но ценник дороговат.Были в среду.Людей не много,можно спокойно посидеть...      2\n",
       "                                                                                                                                                                                                                                                                                                                                                                                                                         ... \n",
       "Была с дочерью в этом удивительном ресторане на банкете по случаю дня рождения Ларисы Вербицкой. Были все звёзды Первого канала- Екатерина Стриженова, Арина Шарапова, Елена Малышева, Александр Васильев, Эвелина Хромченко, Екатерина Одинцова и многое другие. Высочайший уровень мероприятия! Меню, обслуживание, музыкальное сопровождение- высший класс. Горжусь, что в Москве есть такого уровня ресторан!...        1\n",
       "Как всегда очень вкусно и быстро. Атмосфера уютная.                                                                                                                                                                                                                                                                                                                                                                         1\n",
       "Вся моя семья любит грузинскую кухню! Мы побывали во многих местах, но это превзошло все ожидания! Браво настоящим грузинским поварам, вы готовите очень вкусно!                                                                                                                                                                                                                                                            1\n",
       "Пиво предпочитаем на кранах, бутылочное я не особо люблю. По закуске я люблю тут брать пиццу, она приличного размера, самая любимая это морские приключения, морепродуктов туда не жалеют,когда кладут.Место хорошее, хорошо провести время, в самый раз.                                                                                                                                                                   1\n",
       "Прекрасный ресторан. Был заказан банкет - прошёл на ура! Зал красивый и просторный,банкетное меню-составлено по нашим пожеланиям,все действительно вкусно.                                                                                                                                                                                                                                                                  1\n",
       "Очень благодарна всему коллективу ресторана за отменное качество блюд, великолепное обслуживание, по домашнему теплый прием и атмосферу, которую вы создали для нас с моим теперь уже мужем и моих гостей в ноябре. Отдельные слова благодарности - Вячеславу за понимание и организацию нашей свадьбы, официантам за оперативность, поварам за вкусность! Может это банально звучит, но сейчас в Москве крайне ...         1\n",
       "Отличный ресторан с аутентичной и оригинальной Французской кухней. Отличная винная карта и собственная кондитерская с прекрасной выпечкой.                                                                                                                                                                                                                                                                                  1\n",
       "Интерьер нарядный, скатерти белые кому это важно, качество еды на троечку, цены на пятерочку, старший официант Сергей общителен излишне.5000р на человека потрачу лучше в другом месте.                                                                                                                                                                                                                                     1\n",
       "Бизнес ланч не дорогой и вкусный! Но!!! Обслуживание просто ужасное... Стол с мокрыми разводами от тряпки,сверху на тарелке след от жирного пальца, официанты недоброжелательные ( может только с постоянными клиентами они милы, я же пришла первый и последний раз)... Не знаю, какое обслуживание в другом зале ( для гостей по меню другой зал с более комфортабельными условиями), но новых...                         1\n",
       "В это кафе попали случайно – срочно искали место проведения поминок. Как позже узнали от администрации заведения, поминальные трапезы они проводят по 2-3 в неделю. Меню предложил администратор, второпях не стали ничего менять. Но в результате все было так как и нужно. Мероприятие шло 3 часа, все быстро и тактично. Удивил нас и ценник тысяча рублей на человека. Спасибо большое Готике, что Вы выручили...       1\n",
       "Впечатлена!Удобное расположение,хорошее место для деловых встреч.Уютно.Официанты быстро реагируют,на все вопросы отвечают,про все блюда рассказывают.Очень понравился цезарь с крабом и оригинальная и очень классная пицца с нутеллой и m&m's.                                                                                                                                                                             1\n",
       "Зашли сюда совершено случайно - гуляли по Кузнецкому и увидали вывеску... Классная веранда и завтраки. Даже шампанским угощают - мы прям вспомнили слова из Бриллиантовой руки и решили, что мы все же аристократы. Вкусно было и порции большие и выбор блюд на завтрак внушительный. Супер место. Придем пробовать морепродукты...                                                                                        1\n",
       "Спасибо за прекрасный вечер!!! День рождения прошел на отлично! Потрясающая кухня. С нами сотрудничал Михайлов Даниил. Очень вежливый и максимально внимательный. Очень просим премировать данного сотрудника за высочайший уровень профессионализма. Отдельное спасибо за шинели. Будем рады вернуться снова!                                                                                                              1\n",
       "Очень правильно приготовлено, атмосфера хорошая))                                                                                                                                                                                                                                                                                                                                                                           1\n",
       "Прекрасное, уютное местечко! Были с друзьями вчетвером, душевно посидели. Теплая атмосфера располагала к дружеской беседе, два часа прошли незаметно, вкусная еда.                                                                                                                                                                                                                                                          1\n",
       "Не понравилось отношение администратора. Просто наплевательское. Играли там свадьбу. Нам не помогли настроить технику и полдня на свадьбе мы занимались настройкой музыки. За оформление зала с нас с мужем стрясли значительную сумму, в результате оформили не очень хорошо и материалы для оформления (которые мы им проплатили ) вернуть отказались. Администратор Гита рассмеялась мне в лицо, услышав...              1\n",
       "Вкусный десерт и кальян , мне понравилось !                                                                                                                                                                                                                                                                                                                                                                                 1\n",
       "Отличное место, хожу туда со дня  их открытия , лет 5 наверное, нравится.                                                                                                                                                                                                                                                                                                                                                   1\n",
       "Были в этм ресторане впервые, заведение отличное, обстановка уютная и домашняя, несмотря на то, что в других залах проходили банкеты, нам было очень уютно. Блюда необычайной вкусноты!))) в среднем, наш ужин(на двоих) обошелся почти в 5т.р.(с алкоголем). Советуем посетить!                                                                                                                                            1\n",
       "Иногда выбираемся по воскресеньем в Солюкс за любимой уткой по-пекински еще и с 50%-ой скидкой! Для нашей семьи это всегда настоящий праздник!                                                                                                                                                                                                                                                                              1\n",
       "Слышали, что недавно открылся новый ресторан Есенин, решили сходить, насладиться русской кухней и напитками. Были приятно удивлены и тем и другим! Пили настойки (клюквенная, просто умопомрачительная), кушали и закуски и горячее (изумительные голубцы и телячья печень)!!!! Завершил наш стол сказочный десер из взбитой сгущенки с клюквой и кедровыми орешками!!!! Обстановка в самом ресторане,...                   1\n",
       "Отвратительный бизнес ланч                                                                                                                                                                                                                                                                                                                                                                                                  1\n",
       "Отвратительное заведение! Не понимаю куда смотрит директор этого \"ресторана\". Обслуживание на нулевом уровне.всегда это раздражало.а сегодня я пришла на бизнес ланч,когда каждая минута на счету,село напротив 3(!!!) официантов,которые мило беседовали,видели меня и не торопились принять заказ.проходил мимо ещё 1 официант с подносом.я попросила принять заказ,он подошел к тем 3-м товарищам...                     1\n",
       "Во-первых с высоты открывается красивый вид на Сокольники. Во-вторых готовят тут честно и очень вкусно, наконец цены и сервис меня порадовали. Я с удовольствием приду сюда снова. И обязательно попробуйте десерты и коктейли– они превосходные!                                                                                                                                                                           1\n",
       "С друзьями часто бываю здесь. Великолепное место. Вкусная кухня и хорошие официанты. Ну, и несмотря на такой холодный май, веранды никто не отменял))) очень уютная, небольшая терраса  пальмами и статуями! Очень атмосферно! Отличное место для десертов и вкусных фруктовых коктейлей!                                                                                                                                   1\n",
       "В Фани даже пост соблюдать вкусно и весело. От мяса отказаться не сложно, потому как очень вкусные и сытные постные блюда - правильно сбалансированные. Вкуснейшая гречневая каша с тофу и тартаром из битых огурцов всего за 350 рублей!                                                                                                                                                                                   1\n",
       "Отличный ресторан, очень хорошая кухня, прекрасное обслуживание , музыкальное сопровождение и танцевальное на высшем уровне, спасибо персоналу за отличный отдых)                                                                                                                                                                                                                                                           1\n",
       "Моё излюбленное место в Москве. Всё очень круто. От стильного интерьера до кухни! Больше всего люблю горячие блюда. Краб и тайский фахитос с креветками это что-то невообразимое))самый вкусный черный чай и хорошее расположение.                                                                                                                                                                                          1\n",
       "Ресторан, который греет! Теплая атмосфера и вкусная кухня острова Санторини - дают сибас, морских гадов и интересные десерт!                                                                                                                                                                                                                                                                                                1\n",
       "В конце мая праздновали в ресторане \"Лига\" свадьбу. Остались очень довольны. Еда очень вкусная и ее так много, что на столах практически нет свободного места и наши гости не смогли все съесть.Обслуживание на уровне, официанты молодцы, справились на отлично: во время убирали пустые тарелки и приносили новые блюда.Сам зал очень приятный, на столах красивые скатерти, на стульях чехлы с лентами...                1\n",
       "Name: Text, Length: 10033, dtype: int64"
      ]
     },
     "execution_count": 28,
     "metadata": {},
     "output_type": "execute_result"
    }
   ],
   "source": [
    "reviews.Text.value_counts()"
   ]
  },
  {
   "cell_type": "code",
   "execution_count": 35,
   "metadata": {
    "collapsed": true
   },
   "outputs": [],
   "source": [
    "stop = ['Отзыв уделён ресторатором.', 'Отзыв удалён ресторатором.', 'Отзыв удален ресторатором', 'Отзыв удален ресторатором.', 'Отлично', 'Отлично!', 'Супер']"
   ]
  },
  {
   "cell_type": "code",
   "execution_count": 36,
   "metadata": {},
   "outputs": [
    {
     "name": "stdout",
     "output_type": "stream",
     "text": [
      "CPU times: user 47.5 ms, sys: 0 ns, total: 47.5 ms\n",
      "Wall time: 46.9 ms\n"
     ]
    }
   ],
   "source": [
    "%%time\n",
    "out_rev = reviews.copy()\n",
    "for el in stop:\n",
    "    out_rev = out_rev[out_rev.Text != el].copy()"
   ]
  },
  {
   "cell_type": "code",
   "execution_count": 38,
   "metadata": {},
   "outputs": [
    {
     "data": {
      "text/html": [
       "<div>\n",
       "<style>\n",
       "    .dataframe thead tr:only-child th {\n",
       "        text-align: right;\n",
       "    }\n",
       "\n",
       "    .dataframe thead th {\n",
       "        text-align: left;\n",
       "    }\n",
       "\n",
       "    .dataframe tbody tr th {\n",
       "        vertical-align: top;\n",
       "    }\n",
       "</style>\n",
       "<table border=\"1\" class=\"dataframe\">\n",
       "  <thead>\n",
       "    <tr style=\"text-align: right;\">\n",
       "      <th></th>\n",
       "      <th>Plus</th>\n",
       "      <th>Date</th>\n",
       "      <th>Minus</th>\n",
       "      <th>Childs</th>\n",
       "      <th>Text</th>\n",
       "      <th>commentID</th>\n",
       "      <th>Author</th>\n",
       "      <th>companyID</th>\n",
       "    </tr>\n",
       "  </thead>\n",
       "  <tbody>\n",
       "    <tr>\n",
       "      <th>0</th>\n",
       "      <td>5</td>\n",
       "      <td>6 Февраля 2018, 15:22</td>\n",
       "      <td>0</td>\n",
       "      <td></td>\n",
       "      <td>Прекрасный ресторан, очень уютный, легко найти...</td>\n",
       "      <td>2775835c</td>\n",
       "      <td>tatf</td>\n",
       "      <td>1049250</td>\n",
       "    </tr>\n",
       "    <tr>\n",
       "      <th>1</th>\n",
       "      <td>5</td>\n",
       "      <td>12 Января 2018, 10:37</td>\n",
       "      <td>0</td>\n",
       "      <td></td>\n",
       "      <td>Был приятно удивлён.Было вкусно и уютно.Спасибо.</td>\n",
       "      <td>2765217c</td>\n",
       "      <td>cherkasov-ai</td>\n",
       "      <td>1049250</td>\n",
       "    </tr>\n",
       "    <tr>\n",
       "      <th>2</th>\n",
       "      <td>5</td>\n",
       "      <td>4 Января 2018, 15:52</td>\n",
       "      <td>0</td>\n",
       "      <td></td>\n",
       "      <td>Вкусно, качественно, по-домашнему, хочется вер...</td>\n",
       "      <td>2762755c</td>\n",
       "      <td>yuliyapr</td>\n",
       "      <td>1049250</td>\n",
       "    </tr>\n",
       "    <tr>\n",
       "      <th>3</th>\n",
       "      <td>5</td>\n",
       "      <td>7 Сентября 2017, 14:47</td>\n",
       "      <td>0</td>\n",
       "      <td></td>\n",
       "      <td>Очень понравилось. Вкусная грузинская кухня, щ...</td>\n",
       "      <td>2705240c</td>\n",
       "      <td>sergei.chaykin</td>\n",
       "      <td>1049250</td>\n",
       "    </tr>\n",
       "    <tr>\n",
       "      <th>4</th>\n",
       "      <td>5</td>\n",
       "      <td>17 Июля 2017, 11:08</td>\n",
       "      <td>0</td>\n",
       "      <td></td>\n",
       "      <td>Отмечала свой день рождения. Гости остались до...</td>\n",
       "      <td>2679874c</td>\n",
       "      <td>savitskaya_vita</td>\n",
       "      <td>1049250</td>\n",
       "    </tr>\n",
       "  </tbody>\n",
       "</table>\n",
       "</div>"
      ],
      "text/plain": [
       "   Plus                    Date  Minus Childs  \\\n",
       "0     5   6 Февраля 2018, 15:22      0          \n",
       "1     5   12 Января 2018, 10:37      0          \n",
       "2     5    4 Января 2018, 15:52      0          \n",
       "3     5  7 Сентября 2017, 14:47      0          \n",
       "4     5     17 Июля 2017, 11:08      0          \n",
       "\n",
       "                                                Text commentID  \\\n",
       "0  Прекрасный ресторан, очень уютный, легко найти...  2775835c   \n",
       "1   Был приятно удивлён.Было вкусно и уютно.Спасибо.  2765217c   \n",
       "2  Вкусно, качественно, по-домашнему, хочется вер...  2762755c   \n",
       "3  Очень понравилось. Вкусная грузинская кухня, щ...  2705240c   \n",
       "4  Отмечала свой день рождения. Гости остались до...  2679874c   \n",
       "\n",
       "            Author  companyID  \n",
       "0             tatf    1049250  \n",
       "1     cherkasov-ai    1049250  \n",
       "2         yuliyapr    1049250  \n",
       "3   sergei.chaykin    1049250  \n",
       "4  savitskaya_vita    1049250  "
      ]
     },
     "execution_count": 38,
     "metadata": {},
     "output_type": "execute_result"
    }
   ],
   "source": [
    "out_rev.head()"
   ]
  },
  {
   "cell_type": "code",
   "execution_count": 39,
   "metadata": {
    "collapsed": true
   },
   "outputs": [],
   "source": [
    "out_rev['Minus'] = out_rev.Plus.apply(lambda x: x-5)"
   ]
  },
  {
   "cell_type": "code",
   "execution_count": 41,
   "metadata": {},
   "outputs": [],
   "source": [
    "out_rev.to_csv('MskRestReviews.csv', index=False, encoding='utf-8')"
   ]
  },
  {
   "cell_type": "code",
   "execution_count": null,
   "metadata": {
    "collapsed": true
   },
   "outputs": [],
   "source": []
  }
 ],
 "metadata": {
  "kernelspec": {
   "display_name": "Python 3",
   "language": "python",
   "name": "python3"
  },
  "language_info": {
   "codemirror_mode": {
    "name": "ipython",
    "version": 3
   },
   "file_extension": ".py",
   "mimetype": "text/x-python",
   "name": "python",
   "nbconvert_exporter": "python",
   "pygments_lexer": "ipython3",
   "version": "3.5.2"
  }
 },
 "nbformat": 4,
 "nbformat_minor": 2
}
