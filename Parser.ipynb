{
 "cells": [
  {
   "cell_type": "code",
   "execution_count": 1,
   "metadata": {
    "collapsed": true
   },
   "outputs": [],
   "source": [
    "import requests \n",
    "from fake_useragent import UserAgent as UA\n",
    "from lxml import html\n",
    "import pandas as pd"
   ]
  },
  {
   "cell_type": "code",
   "execution_count": 2,
   "metadata": {
    "collapsed": true
   },
   "outputs": [],
   "source": [
    "url = 'https://www.fragrantica.ru/designers-1/'"
   ]
  },
  {
   "cell_type": "code",
   "execution_count": 4,
   "metadata": {},
   "outputs": [],
   "source": [
    "page = html.fromstring(requests.get(url, headers={'User-agent':UA().chrome}).content)"
   ]
  },
  {
   "cell_type": "code",
   "execution_count": 59,
   "metadata": {},
   "outputs": [],
   "source": [
    "res = {}\n",
    "c = 0\n",
    "for i in range(1, 12):\n",
    "    url = 'https://www.fragrantica.ru/designers-{}/'.format(str(i))\n",
    "    page = html.fromstring(requests.get(url, headers={'User-agent':UA().chrome}).content)\n",
    "    for div in page.xpath('//div[@class=\"nduList\"]/p/a'):\n",
    "        res[c] = {\n",
    "            'name':div.text_content().replace('\\n','').strip(),\n",
    "            'url':div.attrib.get('href')\n",
    "        }\n",
    "        c += 1"
   ]
  },
  {
   "cell_type": "code",
   "execution_count": 70,
   "metadata": {},
   "outputs": [],
   "source": [
    "df = pd.DataFrame.from_dict(res).T"
   ]
  },
  {
   "cell_type": "code",
   "execution_count": 71,
   "metadata": {},
   "outputs": [],
   "source": [
    "df['firstLit'] = df.name.apply(lambda x: x[0].lower())"
   ]
  },
  {
   "cell_type": "code",
   "execution_count": 73,
   "metadata": {},
   "outputs": [
    {
     "data": {
      "text/plain": [
       "m    530\n",
       "a    323\n",
       "s    247\n",
       "c    230\n",
       "p    221\n",
       "l    213\n",
       "b    176\n",
       "t    170\n",
       "j    138\n",
       "r    137\n",
       "e    131\n",
       "d    122\n",
       "g    111\n",
       "n    106\n",
       "f     99\n",
       "h     92\n",
       "k     80\n",
       "v     70\n",
       "o     69\n",
       "i     65\n",
       "w     33\n",
       "y     26\n",
       "u     25\n",
       "z     22\n",
       "x      9\n",
       "q      5\n",
       "ê      1\n",
       "é      1\n",
       "á      1\n",
       "Name: firstLit, dtype: int64"
      ]
     },
     "execution_count": 73,
     "metadata": {},
     "output_type": "execute_result"
    }
   ],
   "source": [
    "df.firstLit.value_counts()"
   ]
  },
  {
   "cell_type": "code",
   "execution_count": 74,
   "metadata": {
    "collapsed": true
   },
   "outputs": [],
   "source": [
    "df.to_csv('fr_brands.csv', index=False, encoding='utf-8')"
   ]
  },
  {
   "cell_type": "code",
   "execution_count": 13,
   "metadata": {},
   "outputs": [],
   "source": [
    "data = pd.read_csv('pp_data.csv')"
   ]
  },
  {
   "cell_type": "code",
   "execution_count": 101,
   "metadata": {},
   "outputs": [],
   "source": [
    "vendors = data.vendor.apply(lambda x: x.lower().replace('.','').replace(' & ','&')).unique().tolist()"
   ]
  },
  {
   "cell_type": "code",
   "execution_count": 102,
   "metadata": {},
   "outputs": [],
   "source": [
    "a_brands = df.name.apply(lambda x: x.lower().replace('.','').replace(' & ','&')).unique().tolist()"
   ]
  },
  {
   "cell_type": "code",
   "execution_count": 103,
   "metadata": {},
   "outputs": [],
   "source": [
    "r = list(set(vendors) - set(a_brands))"
   ]
  },
  {
   "cell_type": "code",
   "execution_count": 104,
   "metadata": {
    "collapsed": true
   },
   "outputs": [],
   "source": [
    "data['lowVendors'] = data.vendor.apply(lambda x: x.lower().replace('.','').replace(' & ','&'))"
   ]
  },
  {
   "cell_type": "code",
   "execution_count": 105,
   "metadata": {},
   "outputs": [],
   "source": [
    "#Alaia -> Alaia Paris\n",
    "#alexandre j -> alexander.j\n",
    "#armani -> georgio armani"
   ]
  },
  {
   "cell_type": "code",
   "execution_count": 46,
   "metadata": {},
   "outputs": [],
   "source": [
    "t = ['Aj Arabia',\n",
    " 'Al Hamatt',\n",
    " 'Al Haramain',\n",
    " 'Amorino Prive']"
   ]
  },
  {
   "cell_type": "code",
   "execution_count": 106,
   "metadata": {},
   "outputs": [
    {
     "data": {
      "text/plain": [
       "151    Amorino Prive Black Cashmere 50ml\n",
       "152      Amorino Prive Arabian Rose 50ml\n",
       "153       Amorino Prive Royal Night 50ml\n",
       "154      Amorino Prive Imperial Oud 50ml\n",
       "Name: model, dtype: object"
      ]
     },
     "execution_count": 106,
     "metadata": {},
     "output_type": "execute_result"
    }
   ],
   "source": [
    "data[data.vendor == t[3]].model"
   ]
  },
  {
   "cell_type": "code",
   "execution_count": 52,
   "metadata": {
    "collapsed": true
   },
   "outputs": [],
   "source": [
    "###12 drops"
   ]
  },
  {
   "cell_type": "code",
   "execution_count": 107,
   "metadata": {
    "scrolled": true
   },
   "outputs": [
    {
     "name": "stdout",
     "output_type": "stream",
     "text": [
      "tacchini 35\n",
      "francis kurkdjian 2\n",
      "byc moze 5\n",
      "alaia 3\n",
      "amorino prive 4\n",
      "fly falcone 2\n",
      "gian marco venturi 21\n",
      "jose eisenberg 16\n",
      "dsquared2 20\n",
      "balmain 1\n",
      "courvoisier 2\n",
      "chambor 1\n",
      "belletete 3\n",
      "caldion 5\n",
      "yyamamoto 20\n",
      "cafe-cafe 8\n",
      "estee lauder 44\n",
      "aj arabia 2\n",
      "dior 75\n",
      "victoria's secret 1\n",
      "jo malone 15\n",
      "kilian 98\n",
      "penhaligon's 4\n",
      "ferragamo salvatore 54\n",
      "orchid perfumes 1\n",
      "d'orsay 7\n",
      "ferre 14\n",
      "al hamatt 3\n",
      "alexandre j 31\n",
      "mont blanc 20\n",
      "balenciaga cristobal 8\n",
      "lee cooper 1\n",
      "donna karan dkny 39\n",
      "schwarzkopf 1\n",
      "hermes 99\n",
      "armani 82\n",
      "al haramain 3\n",
      "memo 18\n",
      "elie saab le parfum 9\n",
      "lacoste 81\n",
      "korloff 6\n",
      "pani walewska 15\n",
      "thierry mugler 20\n",
      "dupont st 35\n"
     ]
    }
   ],
   "source": [
    "s = 0\n",
    "s1 = 0\n",
    "for el in r:\n",
    "    l = data[data.lowVendors == el].shape[0]\n",
    "    s += l\n",
    "    if l > 10:\n",
    "        s1 += l\n",
    "    print(el, data[data.lowVendors == el].shape[0])"
   ]
  },
  {
   "cell_type": "code",
   "execution_count": 97,
   "metadata": {},
   "outputs": [],
   "source": [
    "s1 = 82+99+81+31+98+75+20+104+35"
   ]
  },
  {
   "cell_type": "code",
   "execution_count": 108,
   "metadata": {},
   "outputs": [
    {
     "name": "stdout",
     "output_type": "stream",
     "text": [
      "0.0171584013391923\n"
     ]
    }
   ],
   "source": [
    "print((s-s1)/data.shape[0])"
   ]
  },
  {
   "cell_type": "code",
   "execution_count": 84,
   "metadata": {},
   "outputs": [
    {
     "data": {
      "text/plain": [
       "(81, 29)"
      ]
     },
     "execution_count": 84,
     "metadata": {},
     "output_type": "execute_result"
    }
   ],
   "source": [
    "data[data.lowVendors == 'lacoste'].shape"
   ]
  },
  {
   "cell_type": "code",
   "execution_count": 96,
   "metadata": {},
   "outputs": [
    {
     "data": {
      "text/plain": [
       "956"
      ]
     },
     "execution_count": 96,
     "metadata": {},
     "output_type": "execute_result"
    }
   ],
   "source": [
    "s1"
   ]
  },
  {
   "cell_type": "code",
   "execution_count": null,
   "metadata": {
    "collapsed": true
   },
   "outputs": [],
   "source": []
  }
 ],
 "metadata": {
  "kernelspec": {
   "display_name": "Python 3",
   "language": "python",
   "name": "python3"
  },
  "language_info": {
   "codemirror_mode": {
    "name": "ipython",
    "version": 3
   },
   "file_extension": ".py",
   "mimetype": "text/x-python",
   "name": "python",
   "nbconvert_exporter": "python",
   "pygments_lexer": "ipython3",
   "version": "3.5.2"
  }
 },
 "nbformat": 4,
 "nbformat_minor": 2
}
